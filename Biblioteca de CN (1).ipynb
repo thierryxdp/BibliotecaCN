{
 "cells": [
  {
   "cell_type": "markdown",
   "metadata": {},
   "source": [
    "# Questão 1."
   ]
  },
  {
   "cell_type": "markdown",
   "metadata": {},
   "source": [
    "## Funções"
   ]
  },
  {
   "cell_type": "code",
   "execution_count": 1,
   "metadata": {},
   "outputs": [],
   "source": [
    "# import Pkg; \n",
    "# Pkg.add(\"Polynomials\")\n",
    "\n",
    "using Polynomials\n",
    "using Plots\n",
    "using LinearAlgebra"
   ]
  },
  {
   "cell_type": "code",
   "execution_count": 2,
   "metadata": {},
   "outputs": [
    {
     "data": {
      "text/plain": [
       "resolve_diagonal (generic function with 1 method)"
      ]
     },
     "execution_count": 2,
     "metadata": {},
     "output_type": "execute_result"
    }
   ],
   "source": [
    "\"\"\" O intuito da função resolve_diagonal é resolver equações Dx = b onde A é uma matriz diagonal NxN, \n",
    "X é uma matriz Nx1 e b também é uma matriz Nx1. Logo, a função recebe como entrada a Matriz Diagonal \n",
    "Quadrada NXN e o vetor B Nx1, e retorna o vetor x Nx1. \"\"\"\n",
    "\n",
    "function resolve_diagonal(D,b)     # D é diagonal e b é um vetor  \n",
    "    tamanho = length(b)            # Pega-se o tamanho tanto do vetor quanto da matriz (pressupõe que são de mesmo tamanho)\n",
    "    x=zeros(tamanho,1)             # Aloca o vetor x a ser retornado\n",
    "    for i in 1:tamanho \n",
    "        x[i] = b[i]/D[i,i]         # Resolve cada x[i] de acordo com o valor da diagonal e o valor de b de cada linha\n",
    "    end\n",
    "    \n",
    "    return x\n",
    "end"
   ]
  },
  {
   "cell_type": "code",
   "execution_count": 3,
   "metadata": {},
   "outputs": [
    {
     "data": {
      "text/plain": [
       "resolve_triangular_superior (generic function with 1 method)"
      ]
     },
     "execution_count": 3,
     "metadata": {},
     "output_type": "execute_result"
    }
   ],
   "source": [
    "\"\"\" O intuito dessa função é resolver equações T.x = b tal que T seja uma matriz NxN e triangular superior,\n",
    "x e b serão uma matriz coluna Nx1. A função deve retornar a solução x para tal sistema de equações.\"\"\"\n",
    "\n",
    "function resolve_triangular_superior(T,b)     #T é triangular superior\n",
    "    tamanho = length(b)\n",
    "    x=zeros(tamanho,1)\n",
    "    \n",
    "    i = tamanho\n",
    "    while (i > 0)\n",
    "        x[i] = b[i]/T[i,i]\n",
    "        k = tamanho\n",
    "        for j in i:(tamanho - 1)\n",
    "            x[i] -= T[i, k] * x[k]/T[i,i]\n",
    "            k -= 1\n",
    "        end\n",
    "        i -= 1\n",
    "    end\n",
    "    return x\n",
    "end"
   ]
  },
  {
   "cell_type": "code",
   "execution_count": 4,
   "metadata": {},
   "outputs": [
    {
     "data": {
      "text/plain": [
       "resolve_triangular_inferior (generic function with 1 method)"
      ]
     },
     "execution_count": 4,
     "metadata": {},
     "output_type": "execute_result"
    }
   ],
   "source": [
    "\"\"\" O intuito dessa função é resolver equações T.x = b tal que T seja uma matriz NxN e triangular inferior,\n",
    "x e b serão uma matriz coluna Nx1. A função deve retornar a solução x para tal sistema de equações.\"\"\"\n",
    "\n",
    "function resolve_triangular_inferior(T,b)     #T é triangular inferior\n",
    "    tamanho = length(b)\n",
    "    x=zeros(tamanho,1)\n",
    "    \n",
    "    i = 1\n",
    "    while (i <= tamanho)\n",
    "        x[i] = b[i]/T[i,i]\n",
    "        for j in 1:(i-1)\n",
    "            x[i] -= T[i, j] * x[j]/T[i,i]\n",
    "        end\n",
    "        i += 1\n",
    "    end\n",
    "    return x\n",
    "end"
   ]
  },
  {
   "cell_type": "code",
   "execution_count": 5,
   "metadata": {},
   "outputs": [
    {
     "data": {
      "text/plain": [
       "eliminacao_gaussiana (generic function with 1 method)"
      ]
     },
     "execution_count": 5,
     "metadata": {},
     "output_type": "execute_result"
    }
   ],
   "source": [
    "\"\"\" O intuito dessa função é realizar o processo de eliminação gaussiana com o sistema A.x = b, \n",
    "onde são passados a matriz densa quadrada A de NxN e a matriz coluna b de Nx1.\n",
    "O retorno será o sistema escalonado, com A sendo uma matriz triangular superior.\"\"\"\n",
    "\n",
    "function eliminacao_gaussiana(A,b)      #A é uma matriz cheia (\"matriz densa\")\n",
    "    tamanho = length(b)\n",
    "    for i in 1:tamanho-1\n",
    "        for j in i+1:tamanho\n",
    "            multiplicador = A[j,i]/A[i,i]\n",
    "            A[j, :] = A[j, :] - multiplicador*A[i, :]\n",
    "            b[j] = b[j] - multiplicador*b[i]\n",
    "        end\n",
    "    end\n",
    "    return A, b\n",
    "end"
   ]
  },
  {
   "cell_type": "code",
   "execution_count": 6,
   "metadata": {},
   "outputs": [
    {
     "data": {
      "text/plain": [
       "resolve_cheia (generic function with 1 method)"
      ]
     },
     "execution_count": 6,
     "metadata": {},
     "output_type": "execute_result"
    }
   ],
   "source": [
    "function resolve_cheia(A,b)\n",
    "    T,c= eliminação_gaussiana(A,b)  #O(n^3)\n",
    "    x=resolve_triangular_superior(T,b)  #O(n^2)\n",
    "    return x\n",
    "end"
   ]
  },
  {
   "cell_type": "code",
   "execution_count": 7,
   "metadata": {},
   "outputs": [
    {
     "data": {
      "text/plain": [
       "decomposicao_LU (generic function with 1 method)"
      ]
     },
     "execution_count": 7,
     "metadata": {},
     "output_type": "execute_result"
    }
   ],
   "source": [
    "function decomposicao_LU(A) #A é uma matriz cheia (\"matriz densa\")\n",
    "    tamanho = size(A)\n",
    "    tamanho = tamanho[1]\n",
    "    L=zeros(tamanho,tamanho)\n",
    "    \n",
    "    for i in 1:tamanho\n",
    "        L[i,i] = 1\n",
    "    end\n",
    "    \n",
    "    U = zeros(tamanho, tamanho)\n",
    "    \n",
    "    for i in 1:tamanho\n",
    "        for j in 1:tamanho\n",
    "            U[i, j] = A[i, j]\n",
    "        end\n",
    "    end\n",
    "    \n",
    "    for i in 1:tamanho-1\n",
    "        for j in i+1:tamanho\n",
    "            L[j,i] = U[j,i]/U[i,i]\n",
    "            U[j, :] = U[j, :] -L[j,i]*U[i, :]\n",
    "        end\n",
    "    end\n",
    "\n",
    "    return L,U \n",
    "end"
   ]
  },
  {
   "cell_type": "code",
   "execution_count": 8,
   "metadata": {},
   "outputs": [
    {
     "data": {
      "text/plain": [
       "resolver_pos_LU (generic function with 1 method)"
      ]
     },
     "execution_count": 8,
     "metadata": {},
     "output_type": "execute_result"
    }
   ],
   "source": [
    "function resolver_pos_LU(L,U,b)    #O(n^2) \n",
    "    y=resolve_triangular_inferior(L,b)\n",
    "    x=resolve_triangular_superior(U,y)\n",
    "    return x\n",
    "end"
   ]
  },
  {
   "cell_type": "markdown",
   "metadata": {},
   "source": [
    "## Testes das Funções"
   ]
  },
  {
   "cell_type": "code",
   "execution_count": null,
   "metadata": {},
   "outputs": [],
   "source": []
  },
  {
   "cell_type": "markdown",
   "metadata": {},
   "source": [
    "# Questão 2."
   ]
  },
  {
   "cell_type": "markdown",
   "metadata": {},
   "source": [
    "### Método de Taylor"
   ]
  },
  {
   "cell_type": "code",
   "execution_count": 9,
   "metadata": {},
   "outputs": [
    {
     "data": {
      "text/plain": [
       "taylor (generic function with 1 method)"
      ]
     },
     "execution_count": 9,
     "metadata": {},
     "output_type": "execute_result"
    }
   ],
   "source": [
    "\"\"\" Essa função faz a aproximação de uma função no ponto 'desejado' utilizando o polinômio de taylor\n",
    "centrado no ponto 'referencia'. Para isso, deve-se passar a função, as múltiplas derivadas (quantas \n",
    "quiser - quanto mais melhor) e os pontos de referencia e desejado.\"\"\"\n",
    "\n",
    "function taylor(funcao, derivadas, referencia, desejado)  #TODO\n",
    "    grau = length(derivadas)\n",
    "    soma = funcao(referencia)\n",
    "    fat = 1\n",
    "    for i in 1:grau\n",
    "        fat = fat * i\n",
    "        soma = soma + (derivadas[i](referencia)*(desejado-referencia)^i)/fat\n",
    "    end\n",
    "    return soma\n",
    "end"
   ]
  },
  {
   "cell_type": "code",
   "execution_count": 10,
   "metadata": {},
   "outputs": [
    {
     "name": "stdout",
     "output_type": "stream",
     "text": [
      "0.40580357142857143\n",
      "0.4054651081081644\n"
     ]
    }
   ],
   "source": [
    "f(x) = log(x)\n",
    "fd1(x) = 1/x; fd2(x) = -1/x^2; fd3(x) = 2/x^3; fd4(x) = -6/x^4; fd5(x) = 24/x^5; fd6(x) = -120/x^6; fd7(x) = 720/x^7;\n",
    "der = [fd1,fd2,fd3,fd4,fd5,fd6,fd7]\n",
    "\n",
    "println(taylor(f, der, 1, 1.5))\n",
    "println(log(1.5))"
   ]
  },
  {
   "cell_type": "code",
   "execution_count": 11,
   "metadata": {},
   "outputs": [
    {
     "name": "stdout",
     "output_type": "stream",
     "text": [
      "0.9635581840200099\n",
      "0.9320390859672263\n"
     ]
    }
   ],
   "source": [
    "f(x) = sin(x)\n",
    "fd1(x) = cos(x); fd2(x) = -sin(x); fd3(x) = -cos(x); fd4(x) = sin(x); fd5(x) = cos(x); fd6(x) = -sin(x); fd7(x) = -cos(x);\n",
    "der = [fd1,fd2,fd3,fd4,fd5,fd6,fd7]\n",
    "\n",
    "println(taylor(f, der, 1, 1.3))\n",
    "println(sin(1.2))"
   ]
  },
  {
   "cell_type": "code",
   "execution_count": 12,
   "metadata": {},
   "outputs": [
    {
     "name": "stdout",
     "output_type": "stream",
     "text": [
      "11.067330000000004\n",
      "11.067330000000002\n"
     ]
    }
   ],
   "source": [
    "f(x) = x^5+4x^4-3x^2+1\n",
    "fd1(x) = 5x^4+16x^3-6x; fd2(x) = 20x^3+48x^2-6; fd3(x) = 60x^2+96x; fd4(x) = 120x+96; fd5(x) = 120;\n",
    "der = [fd1,fd2,fd3,fd4,fd5]\n",
    "\n",
    "println(taylor(f, der, 1, 1.3))\n",
    "println(f(1.3))"
   ]
  },
  {
   "cell_type": "markdown",
   "metadata": {},
   "source": [
    "### Achar o Zero da Função por Bisseção"
   ]
  },
  {
   "cell_type": "code",
   "execution_count": 13,
   "metadata": {},
   "outputs": [
    {
     "data": {
      "text/plain": [
       "bissecao (generic function with 2 methods)"
      ]
     },
     "execution_count": 13,
     "metadata": {},
     "output_type": "execute_result"
    }
   ],
   "source": [
    "\"\"\" Na bisseção, queremos reduzir o intervalo ao máximo sempre garantindo que a função nos\n",
    "extremos tenha sinais distintos, visto que isso garante, pelo Teorema do Valor Intermediário,\n",
    "a existência de um zero de função nesse intervalo. Sendo assim, passamos a função, os extremos\n",
    "esquerdo e direito do intervalo e o erro máximo esperado.\n",
    "Retornamos a estimativa com um erro menor que o esperado.\"\"\"\n",
    "\n",
    "function bissecao(f, esq, dir, erro = 1e-2)\n",
    "    m=0\n",
    "    \n",
    "    @assert(f(esq)*f(dir)<=0, \"O intervalo passado não possui extremos com sinais distintos. Não podemos garantir um zero da função!\")\n",
    "    \n",
    "    while abs(dir-esq) > erro\n",
    "        m = (esq+dir)/2\n",
    "        res = f(m)\n",
    "        \n",
    "        if res == 0.0\n",
    "            break\n",
    "        elseif res*f(esq) > 0     # verifica se f(m) e f(esq) possuem o mesmo sinal\n",
    "            esq = m\n",
    "        else                      \n",
    "            dir = m\n",
    "        end\n",
    "    end\n",
    "    \n",
    "    return m\n",
    "end"
   ]
  },
  {
   "cell_type": "code",
   "execution_count": 14,
   "metadata": {},
   "outputs": [
    {
     "ename": "LoadError",
     "evalue": "AssertionError: O intervalo passado não possui extremos com sinais distintos. Não podemos garantir um zero da função!",
     "output_type": "error",
     "traceback": [
      "AssertionError: O intervalo passado não possui extremos com sinais distintos. Não podemos garantir um zero da função!",
      "",
      "Stacktrace:",
      " [1] bissecao(f::typeof(f), esq::Int64, dir::Int64, erro::Float64)",
      "   @ Main .\\In[13]:10",
      " [2] bissecao(f::Function, esq::Int64, dir::Int64)",
      "   @ Main .\\In[13]:8",
      " [3] top-level scope",
      "   @ In[14]:3",
      " [4] eval",
      "   @ .\\boot.jl:360 [inlined]",
      " [5] include_string(mapexpr::typeof(REPL.softscope), mod::Module, code::String, filename::String)",
      "   @ Base .\\loading.jl:1094"
     ]
    }
   ],
   "source": [
    "# Testando intervalo sem zero\n",
    "f(x) = x^5+4x^4-3x^2+1\n",
    "bissecao(f,-3,3)"
   ]
  },
  {
   "cell_type": "code",
   "execution_count": 15,
   "metadata": {},
   "outputs": [
    {
     "data": {
      "text/plain": [
       "-3.798828125"
      ]
     },
     "execution_count": 15,
     "metadata": {},
     "output_type": "execute_result"
    }
   ],
   "source": [
    "f(x) = x^5+4x^4-3x^2+1\n",
    "bissecao(f,-10,10)"
   ]
  },
  {
   "cell_type": "code",
   "execution_count": 16,
   "metadata": {},
   "outputs": [
    {
     "data": {
      "text/plain": [
       "6.2822265625"
      ]
     },
     "execution_count": 16,
     "metadata": {},
     "output_type": "execute_result"
    }
   ],
   "source": [
    "f(x) = sin(x/2)\n",
    "bissecao(f, 1, 10)"
   ]
  },
  {
   "cell_type": "markdown",
   "metadata": {},
   "source": [
    "### Achar o Zero da Função por Ponto Fixo"
   ]
  },
  {
   "cell_type": "code",
   "execution_count": 17,
   "metadata": {},
   "outputs": [
    {
     "data": {
      "text/plain": [
       "ponto_fixo"
      ]
     },
     "execution_count": 17,
     "metadata": {},
     "output_type": "execute_result"
    }
   ],
   "source": [
    "\"\"\"\n",
    "Usamos o método do ponto fixo para encontrar o zero de função, a ideia é usar substituições\n",
    "sucessivas de forma a encontrar uma interseção entre a função g(x) que definimos e a reta\n",
    "y = x. O truque para achar o zero está em definir g(x) de forma que\n",
    "a função tenha um ponto Z t.q. f(Z) = Z - g(Z) = 0.\n",
    "\n",
    "@param: - função f recebe a função escolhida pelo usuário para achar o zero (no caso, a nossa função g)\n",
    "        - a margem de erro eps\n",
    "        - e o ponto inicial x0\n",
    "\n",
    "@return: - zero da função f(x) (ponto fixo de g(x))\n",
    "         - Retorna um erro de execução caso o método falhe em encontrar (diverge)\n",
    "\"\"\"\n",
    "function ponto_fixo(f, eps, x0)\n",
    "    # Inicializa com infinito para saber se encontramos\n",
    "    ponto_fixo = -Inf\n",
    "    \n",
    "    # quantidade de iterações dadas até encontrar\n",
    "    steps = 1\n",
    "    \n",
    "    # Por conveniência vamos assumir que o método diverge \n",
    "    # se levar pelo menos 10^3 passos\n",
    "    while steps < 10^3 \n",
    "        nx = f(x0)\n",
    "\n",
    "        if abs(nx - x0) < eps\n",
    "            # achamos uma aproximação que respeita a margem de erro \n",
    "            ponto_fixo = nx\n",
    "            break\n",
    "        end\n",
    "\n",
    "        steps += 1\n",
    "        x0 = nx\n",
    "    end\n",
    "    \n",
    "    # método falhou\n",
    "    @assert(ponto_fixo != -Inf, \"Método divergiu com o input dado\")\n",
    "    \n",
    "    # retorna o ponto_fixo da função\n",
    "    return ponto_fixo\n",
    "end\n"
   ]
  },
  {
   "cell_type": "code",
   "execution_count": 18,
   "metadata": {},
   "outputs": [
    {
     "name": "stdout",
     "output_type": "stream",
     "text": [
      "-0.14558862306442932\n"
     ]
    }
   ],
   "source": [
    "function f(x)\n",
    "    return x*cos(x) - x*x + 8*x - 1\n",
    "end\n",
    "\n",
    "function g(x)\n",
    "    # g(x) é uma função cujo ponto fixo é um zero de f(x)\n",
    "    return (x*cos(x) - x*x -1)/8.0\n",
    "end\n",
    "\n",
    "println(ponto_fixo(g, 0.001, 0.0))"
   ]
  },
  {
   "cell_type": "code",
   "execution_count": 19,
   "metadata": {},
   "outputs": [
    {
     "name": "stdout",
     "output_type": "stream",
     "text": [
      "0.2891641649379035\n"
     ]
    }
   ],
   "source": [
    "function f(x)\n",
    "    return x^3 - 7*x + 2\n",
    "end\n",
    "\n",
    "function g(x)\n",
    "    # g(x) é uma função cujo ponto fixo é um zero de f(x)\n",
    "    return (x^3 + 2)/7.0\n",
    "end\n",
    "\n",
    "println(ponto_fixo(g, 1e-3, 0.0))"
   ]
  },
  {
   "cell_type": "code",
   "execution_count": 20,
   "metadata": {},
   "outputs": [
    {
     "ename": "LoadError",
     "evalue": "AssertionError: Método divergiu com o input dado",
     "output_type": "error",
     "traceback": [
      "AssertionError: Método divergiu com o input dado",
      "",
      "Stacktrace:",
      " [1] ponto_fixo(f::typeof(g), eps::Float64, x0::Float64)",
      "   @ Main .\\In[17]:37",
      " [2] top-level scope",
      "   @ In[20]:11",
      " [3] eval",
      "   @ .\\boot.jl:360 [inlined]",
      " [4] include_string(mapexpr::typeof(REPL.softscope), mod::Module, code::String, filename::String)",
      "   @ Base .\\loading.jl:1094"
     ]
    }
   ],
   "source": [
    "function f(x)\n",
    "    return x^3 - x - 1\n",
    "end\n",
    "\n",
    "# se pegarmos uma g simples nesse caso o método tem que divergir\n",
    "function g(x)\n",
    "    # g(x) é uma função cujo ponto fixo é um zero de f(x)\n",
    "    return (x^3 - 1)\n",
    "end\n",
    "\n",
    "println(ponto_fixo(g, 1e-6, 0.0))"
   ]
  },
  {
   "cell_type": "code",
   "execution_count": 21,
   "metadata": {},
   "outputs": [
    {
     "name": "stdout",
     "output_type": "stream",
     "text": [
      "1.3247179361449652\n"
     ]
    }
   ],
   "source": [
    "function f(x)\n",
    "    return x^3 - x - 1\n",
    "end\n",
    "\n",
    "# se pegarmos uma g esperta o método tem que convergir\n",
    "function g(x)\n",
    "    # g(x) é uma função cujo ponto fixo é um zero de f(x)\n",
    "    return cbrt(x + 1)\n",
    "end\n",
    "\n",
    "println(ponto_fixo(g, 1e-7, 0.0))"
   ]
  },
  {
   "cell_type": "markdown",
   "metadata": {},
   "source": [
    "### Achar o Zero da Função por Newton"
   ]
  },
  {
   "cell_type": "code",
   "execution_count": 22,
   "metadata": {},
   "outputs": [
    {
     "data": {
      "text/plain": [
       "newton (generic function with 2 methods)"
      ]
     },
     "execution_count": 22,
     "metadata": {},
     "output_type": "execute_result"
    }
   ],
   "source": [
    "\"\"\" Para o método de Newton, queremos nos aproveitar do ângulo tangente da curva para nos\n",
    "aproximarmos precisamente do zero da função. Isso é feito encontrando a reta tangente a\n",
    "curva no ponto atual e indo para o ponto dessa reta que cruza o eixo x. Para isso, precisamos\n",
    "da função e sua derivada, o ponto inicial do método e o erro máximo esperado.\"\"\"\n",
    "\n",
    "function newton(f, fd, ponto, erro = 1e-8)\n",
    "    # Primeiro descobrimos quantos termos precisamos\n",
    "    termos = 1\n",
    "    while (termos+1)*(2^(termos+1)) < 1/erro\n",
    "        termos = termos+1\n",
    "    end\n",
    "\n",
    "    # Agora calculamos o taylor\n",
    "    for i in 1:termos\n",
    "        ponto = ponto - f(ponto)/fd(ponto)\n",
    "    end\n",
    "    \n",
    "    return ponto\n",
    "end"
   ]
  },
  {
   "cell_type": "code",
   "execution_count": 23,
   "metadata": {},
   "outputs": [
    {
     "data": {
      "text/plain": [
       "-3.796694419165163"
      ]
     },
     "execution_count": 23,
     "metadata": {},
     "output_type": "execute_result"
    }
   ],
   "source": [
    "f(x) = x^5+4x^4-3x^2+1\n",
    "fd(x) = 5x^4+16x^3-6x\n",
    "newton(f,fd,-4)"
   ]
  },
  {
   "cell_type": "code",
   "execution_count": 24,
   "metadata": {},
   "outputs": [
    {
     "data": {
      "text/plain": [
       "6.283185307179586"
      ]
     },
     "execution_count": 24,
     "metadata": {},
     "output_type": "execute_result"
    }
   ],
   "source": [
    "f(x) = sin(x/2)\n",
    "fd(x) = 1/2 * cos(x/2)\n",
    "newton(f, fd, 6)"
   ]
  },
  {
   "cell_type": "code",
   "execution_count": 25,
   "metadata": {},
   "outputs": [
    {
     "data": {
      "text/plain": [
       "1.0"
      ]
     },
     "execution_count": 25,
     "metadata": {},
     "output_type": "execute_result"
    }
   ],
   "source": [
    "f(x) = log(x)\n",
    "fd(x) = 1/x\n",
    "newton(f, fd, 2)"
   ]
  },
  {
   "cell_type": "markdown",
   "metadata": {},
   "source": [
    "### Achar o Zero da Função pelo Método de Euler"
   ]
  },
  {
   "cell_type": "code",
   "execution_count": null,
   "metadata": {},
   "outputs": [],
   "source": []
  },
  {
   "cell_type": "markdown",
   "metadata": {},
   "source": [
    "### Resolver EDO com Problema de Valor Inicial"
   ]
  },
  {
   "cell_type": "code",
   "execution_count": 26,
   "metadata": {},
   "outputs": [
    {
     "data": {
      "text/plain": [
       "resolver_PVI"
      ]
     },
     "execution_count": 26,
     "metadata": {},
     "output_type": "execute_result"
    }
   ],
   "source": [
    "\"\"\"\n",
    "Usamos o método de euler para resolver o problema de valor inicial. O método é usado para\n",
    "aproximar o valor de EDOs, ele faz isso usando aproximações de retas tangentes para descrever\n",
    "a curva repetidas vezes.\n",
    "\n",
    "@param: - derivada de f(x, y(x))\n",
    "        - x inicial\n",
    "        - y inicial (isso é o valor inicial conhecido no nosso problema)\n",
    "        - x_final denota o ponto x em que queremos uma aproximação para f\n",
    "        - n denota em quantos subintervalos vamos dividir nosso intervalo\n",
    "\n",
    "@return: - aproximação para f no ponto x_final\n",
    "\"\"\"\n",
    "function resolver_PVI(derivada, x_inicial,y_inicial,x_final,n) #Feito\n",
    "    # tamanho do intervalo que usaremos dada a discretização desejada\n",
    "    H = (x_final - x_inicial) / n\n",
    "    \n",
    "    # passos iniciais\n",
    "    xi = x_inicial\n",
    "    yi = y_inicial\n",
    "\n",
    "    while xi + H <= x_final\n",
    "        # pegamos o próximo valor de y andando pela reta tangente ao \n",
    "        # ponto x_i com um passo de tamanho H\n",
    "        yi += derivada(xi, yi) * H\n",
    "        xi += H\n",
    "    end\n",
    "    \n",
    "    return yi # retornamos o valor de y no estado final\n",
    "end"
   ]
  },
  {
   "cell_type": "code",
   "execution_count": 27,
   "metadata": {},
   "outputs": [
    {
     "data": {
      "text/plain": [
       "41.144777789250874"
      ]
     },
     "execution_count": 27,
     "metadata": {},
     "output_type": "execute_result"
    }
   ],
   "source": [
    "df(x, y) = y\n",
    "\n",
    "# queremos aproximar y(4) usando método de euler\n",
    "# sendo y'(x) = y(x), y(0) = 1 e dividindo o intervalo em 40 partes\n",
    "\n",
    "resolver_PVI(df, 0.0, 1.0, 4, 40)"
   ]
  },
  {
   "cell_type": "code",
   "execution_count": 28,
   "metadata": {},
   "outputs": [
    {
     "data": {
      "text/plain": [
       "20.0"
      ]
     },
     "execution_count": 28,
     "metadata": {},
     "output_type": "execute_result"
    }
   ],
   "source": [
    "df(x, y) = y + 3*x\n",
    "\n",
    "# queremos aproximar y(3) usando método de euler\n",
    "# sendo y'(x) = y + 3x, y(3) = 1 e dividindo o intervalo em 3 partes\n",
    "\n",
    "resolver_PVI(df, 0.0, 1.0, 3, 3)"
   ]
  },
  {
   "cell_type": "code",
   "execution_count": 29,
   "metadata": {},
   "outputs": [
    {
     "data": {
      "text/plain": [
       "1.0987701305162527"
      ]
     },
     "execution_count": 29,
     "metadata": {},
     "output_type": "execute_result"
    }
   ],
   "source": [
    "df(x, y) = exp(-x)\n",
    "\n",
    "# queremos aproximar y(5) usando método de euler\n",
    "# sendo y'(x) = x^2 + 3x, y(2) = 10 e dividindo o intervalo em 40 partes\n",
    "\n",
    "resolver_PVI(df, 0.0, 0.0, 2, 4)"
   ]
  },
  {
   "cell_type": "markdown",
   "metadata": {},
   "source": [
    "### Resolver um Sistema Ax=b"
   ]
  },
  {
   "cell_type": "code",
   "execution_count": 30,
   "metadata": {},
   "outputs": [
    {
     "data": {
      "text/plain": [
       "resolver_um_sistema (generic function with 1 method)"
      ]
     },
     "execution_count": 30,
     "metadata": {},
     "output_type": "execute_result"
    }
   ],
   "source": [
    "\"\"\" Essa função é um encapsulamento da resolução de sistema do formato 'A.x = b' \n",
    "utilizando decomposição LU. Para isso, é passado como parâmetro a matriz A e o \n",
    "vetor b, e o resultado será o vetor x.\"\"\"\n",
    "\n",
    "function resolver_um_sistema(A,b) \n",
    "    L, U = decomposicao_LU(A)\n",
    "    x = resolver_pos_LU(L,U,b)\n",
    "    return x\n",
    "end"
   ]
  },
  {
   "cell_type": "code",
   "execution_count": 31,
   "metadata": {},
   "outputs": [
    {
     "name": "stdout",
     "output_type": "stream",
     "text": [
      "[2.1040532365396274; -5.474289171203875; -0.6170598911070786; 3.5075620084694505]\n",
      "[2.104053236539625, -5.474289171203873, -0.6170598911070775, 3.507562008469449]\n"
     ]
    }
   ],
   "source": [
    "A=[1.0 3.0 2.0 7.0 ; 10.0 3.0 10.0 7.0 ; 3.0 5.0 18.0 22.0 ; 5.0 2.0 1.0 6.0]\n",
    "b=[9.0 ; 23.0 ; 45.0 ; 20.0]\n",
    "\n",
    "println(resolver_um_sistema(A,b))\n",
    "println(A\\b)"
   ]
  },
  {
   "cell_type": "code",
   "execution_count": 32,
   "metadata": {},
   "outputs": [
    {
     "name": "stdout",
     "output_type": "stream",
     "text": [
      "[-8.307692307692305; 6.692307692307692; -1.3846153846153844]\n",
      "[-8.307692307692307, 6.692307692307692, -1.3846153846153846]\n"
     ]
    }
   ],
   "source": [
    "A=[1.0 3.0 2.0 ; -2.0 -1.0 5.0 ; 1.0 1.0 1.0]\n",
    "b=[9.0 ; 3.0 ; -3.0]\n",
    "\n",
    "println(resolver_um_sistema(A,b))\n",
    "println(A\\b)"
   ]
  },
  {
   "cell_type": "code",
   "execution_count": 33,
   "metadata": {},
   "outputs": [
    {
     "name": "stdout",
     "output_type": "stream",
     "text": [
      "[2.4; 0.2]\n",
      "[2.4, 0.2]\n"
     ]
    }
   ],
   "source": [
    "A=[1.0 3.0 ; -1.0 2.0]\n",
    "b=[3.0 ; -2.0]\n",
    "\n",
    "println(resolver_um_sistema(A,b))\n",
    "println(A\\b)"
   ]
  },
  {
   "cell_type": "markdown",
   "metadata": {},
   "source": [
    "### Resolver EDO com Problema de Valor de Contorno"
   ]
  },
  {
   "cell_type": "code",
   "execution_count": 34,
   "metadata": {},
   "outputs": [
    {
     "data": {
      "text/plain": [
       "resolver_PVC (generic function with 1 method)"
      ]
     },
     "execution_count": 34,
     "metadata": {},
     "output_type": "execute_result"
    }
   ],
   "source": [
    "\"\"\" Essa função utiliza da aproximação do valor de y por meio da sua segunda derivada. Para isso, além da segunda derviada\n",
    "    recebemos dois pontos, e uma quantidade n de pontos utilizados entre eles para aproximar a curva. \"\"\"\n",
    "\n",
    "function resolver_PVC(segunda_derivada, x_inicial, y_inicial, x_final, y_final, n)  #Não dá pra fazer genericamente\n",
    "    # Calcula o h\n",
    "    h = (x_final - x_inicial)/n\n",
    "\n",
    "    # Inicializa a matriz vazia\n",
    "    A = []\n",
    "    \n",
    "    # Vetor auxiliar para construir a matriz \n",
    "    v = [-2, 1]\n",
    "    \n",
    "    # Preenche a primeira linha com 0's\n",
    "    for i = 3:n-1\n",
    "        push!(v, 0)\n",
    "    end\n",
    "    \n",
    "    # Coloca o vetor auxiliar na matriz\n",
    "    push!(A, v)\n",
    "    \n",
    "    # Constrói a matriz por meio dos vetores auxiliares\n",
    "    for i = 2:n-2\n",
    "        v = []\n",
    "        for j = 1:i-2\n",
    "            push!(v, 0)\n",
    "        end\n",
    "        push!(v, 1)\n",
    "        push!(v, -2)\n",
    "        push!(v, 1)\n",
    "        for j = i+2:n-1\n",
    "            push!(v, 0)\n",
    "        end\n",
    "        v = vcat(v...)\n",
    "        push!(A, v)\n",
    "    end\n",
    "    \n",
    "    # Termina de construir a matriz\n",
    "    v = []\n",
    "    for i = 1:n-3\n",
    "        push!(v, 0)\n",
    "    end\n",
    "    push!(v, 1)\n",
    "    push!(v, -2)\n",
    "    push!(A, v)\n",
    "    \n",
    "    # Gera o vetor b de acordo com as aproximações da segunda derivada\n",
    "    b = Any[segunda_derivada(x_inicial)*h^2 - y_inicial]\n",
    "    for i = 2:n-2\n",
    "        push!(b, segunda_derivada((x_inicial + h*(i)))*h^2)\n",
    "    end\n",
    "    push!(b, segunda_derivada(x_final)*h^2 - y_final)\n",
    "    b = vcat(b...)\n",
    "    A = hcat(A...)\n",
    "\n",
    "    # Resolve o sistema e acha os pontos y\n",
    "    y = resolver_um_sistema(A,b)\n",
    "    return y\n",
    "end"
   ]
  },
  {
   "cell_type": "code",
   "execution_count": 35,
   "metadata": {},
   "outputs": [
    {
     "data": {
      "image/svg+xml": [
       "<?xml version=\"1.0\" encoding=\"utf-8\"?>\n",
       "<svg xmlns=\"http://www.w3.org/2000/svg\" xmlns:xlink=\"http://www.w3.org/1999/xlink\" width=\"600\" height=\"400\" viewBox=\"0 0 2400 1600\">\n",
       "<defs>\n",
       "  <clipPath id=\"clip730\">\n",
       "    <rect x=\"0\" y=\"0\" width=\"2400\" height=\"1600\"/>\n",
       "  </clipPath>\n",
       "</defs>\n",
       "<path clip-path=\"url(#clip730)\" d=\"\n",
       "M0 1600 L2400 1600 L2400 0 L0 0  Z\n",
       "  \" fill=\"#ffffff\" fill-rule=\"evenodd\" fill-opacity=\"1\"/>\n",
       "<defs>\n",
       "  <clipPath id=\"clip731\">\n",
       "    <rect x=\"480\" y=\"0\" width=\"1681\" height=\"1600\"/>\n",
       "  </clipPath>\n",
       "</defs>\n",
       "<path clip-path=\"url(#clip730)\" d=\"\n",
       "M112.177 1486.45 L2352.76 1486.45 L2352.76 47.2441 L112.177 47.2441  Z\n",
       "  \" fill=\"#ffffff\" fill-rule=\"evenodd\" fill-opacity=\"1\"/>\n",
       "<defs>\n",
       "  <clipPath id=\"clip732\">\n",
       "    <rect x=\"112\" y=\"47\" width=\"2242\" height=\"1440\"/>\n",
       "  </clipPath>\n",
       "</defs>\n",
       "<polyline clip-path=\"url(#clip732)\" style=\"stroke:#000000; stroke-width:2; stroke-opacity:0.1; fill:none\" points=\"\n",
       "  175.59,1486.45 175.59,47.2441 \n",
       "  \"/>\n",
       "<polyline clip-path=\"url(#clip732)\" style=\"stroke:#000000; stroke-width:2; stroke-opacity:0.1; fill:none\" points=\"\n",
       "  598.34,1486.45 598.34,47.2441 \n",
       "  \"/>\n",
       "<polyline clip-path=\"url(#clip732)\" style=\"stroke:#000000; stroke-width:2; stroke-opacity:0.1; fill:none\" points=\"\n",
       "  1021.09,1486.45 1021.09,47.2441 \n",
       "  \"/>\n",
       "<polyline clip-path=\"url(#clip732)\" style=\"stroke:#000000; stroke-width:2; stroke-opacity:0.1; fill:none\" points=\"\n",
       "  1443.84,1486.45 1443.84,47.2441 \n",
       "  \"/>\n",
       "<polyline clip-path=\"url(#clip732)\" style=\"stroke:#000000; stroke-width:2; stroke-opacity:0.1; fill:none\" points=\"\n",
       "  1866.59,1486.45 1866.59,47.2441 \n",
       "  \"/>\n",
       "<polyline clip-path=\"url(#clip732)\" style=\"stroke:#000000; stroke-width:2; stroke-opacity:0.1; fill:none\" points=\"\n",
       "  2289.34,1486.45 2289.34,47.2441 \n",
       "  \"/>\n",
       "<polyline clip-path=\"url(#clip730)\" style=\"stroke:#000000; stroke-width:4; stroke-opacity:1; fill:none\" points=\"\n",
       "  112.177,1486.45 2352.76,1486.45 \n",
       "  \"/>\n",
       "<polyline clip-path=\"url(#clip730)\" style=\"stroke:#000000; stroke-width:4; stroke-opacity:1; fill:none\" points=\"\n",
       "  175.59,1486.45 175.59,1469.18 \n",
       "  \"/>\n",
       "<polyline clip-path=\"url(#clip730)\" style=\"stroke:#000000; stroke-width:4; stroke-opacity:1; fill:none\" points=\"\n",
       "  598.34,1486.45 598.34,1469.18 \n",
       "  \"/>\n",
       "<polyline clip-path=\"url(#clip730)\" style=\"stroke:#000000; stroke-width:4; stroke-opacity:1; fill:none\" points=\"\n",
       "  1021.09,1486.45 1021.09,1469.18 \n",
       "  \"/>\n",
       "<polyline clip-path=\"url(#clip730)\" style=\"stroke:#000000; stroke-width:4; stroke-opacity:1; fill:none\" points=\"\n",
       "  1443.84,1486.45 1443.84,1469.18 \n",
       "  \"/>\n",
       "<polyline clip-path=\"url(#clip730)\" style=\"stroke:#000000; stroke-width:4; stroke-opacity:1; fill:none\" points=\"\n",
       "  1866.59,1486.45 1866.59,1469.18 \n",
       "  \"/>\n",
       "<polyline clip-path=\"url(#clip730)\" style=\"stroke:#000000; stroke-width:4; stroke-opacity:1; fill:none\" points=\"\n",
       "  2289.34,1486.45 2289.34,1469.18 \n",
       "  \"/>\n",
       "<path clip-path=\"url(#clip730)\" d=\"M 0 0 M175.59 1515.64 Q171.979 1515.64 170.15 1519.2 Q168.344 1522.75 168.344 1529.87 Q168.344 1536.98 170.15 1540.55 Q171.979 1544.09 175.59 1544.09 Q179.224 1544.09 181.03 1540.55 Q182.858 1536.98 182.858 1529.87 Q182.858 1522.75 181.03 1519.2 Q179.224 1515.64 175.59 1515.64 M175.59 1511.93 Q181.4 1511.93 184.455 1516.54 Q187.534 1521.12 187.534 1529.87 Q187.534 1538.6 184.455 1543.21 Q181.4 1547.79 175.59 1547.79 Q169.78 1547.79 166.701 1543.21 Q163.645 1538.6 163.645 1529.87 Q163.645 1521.12 166.701 1516.54 Q169.78 1511.93 175.59 1511.93 Z\" fill=\"#000000\" fill-rule=\"evenodd\" fill-opacity=\"1\" /><path clip-path=\"url(#clip730)\" d=\"M 0 0 M588.722 1543.18 L596.361 1543.18 L596.361 1516.82 L588.051 1518.49 L588.051 1514.23 L596.315 1512.56 L600.991 1512.56 L600.991 1543.18 L608.63 1543.18 L608.63 1547.12 L588.722 1547.12 L588.722 1543.18 Z\" fill=\"#000000\" fill-rule=\"evenodd\" fill-opacity=\"1\" /><path clip-path=\"url(#clip730)\" d=\"M 0 0 M1015.74 1543.18 L1032.06 1543.18 L1032.06 1547.12 L1010.12 1547.12 L1010.12 1543.18 Q1012.78 1540.43 1017.36 1535.8 Q1021.97 1531.15 1023.15 1529.81 Q1025.4 1527.28 1026.28 1525.55 Q1027.18 1523.79 1027.18 1522.1 Q1027.18 1519.34 1025.23 1517.61 Q1023.31 1515.87 1020.21 1515.87 Q1018.01 1515.87 1015.56 1516.63 Q1013.13 1517.4 1010.35 1518.95 L1010.35 1514.23 Q1013.17 1513.09 1015.63 1512.51 Q1018.08 1511.93 1020.12 1511.93 Q1025.49 1511.93 1028.68 1514.62 Q1031.88 1517.31 1031.88 1521.8 Q1031.88 1523.93 1031.07 1525.85 Q1030.28 1527.74 1028.17 1530.34 Q1027.6 1531.01 1024.49 1534.23 Q1021.39 1537.42 1015.74 1543.18 Z\" fill=\"#000000\" fill-rule=\"evenodd\" fill-opacity=\"1\" /><path clip-path=\"url(#clip730)\" d=\"M 0 0 M1448.09 1528.49 Q1451.45 1529.2 1453.32 1531.47 Q1455.22 1533.74 1455.22 1537.07 Q1455.22 1542.19 1451.7 1544.99 Q1448.18 1547.79 1441.7 1547.79 Q1439.52 1547.79 1437.21 1547.35 Q1434.92 1546.93 1432.46 1546.08 L1432.46 1541.56 Q1434.41 1542.7 1436.72 1543.28 Q1439.04 1543.86 1441.56 1543.86 Q1445.96 1543.86 1448.25 1542.12 Q1450.57 1540.38 1450.57 1537.07 Q1450.57 1534.02 1448.41 1532.31 Q1446.28 1530.57 1442.46 1530.57 L1438.44 1530.57 L1438.44 1526.73 L1442.65 1526.73 Q1446.1 1526.73 1447.93 1525.36 Q1449.76 1523.97 1449.76 1521.38 Q1449.76 1518.72 1447.86 1517.31 Q1445.98 1515.87 1442.46 1515.87 Q1440.54 1515.87 1438.34 1516.29 Q1436.15 1516.7 1433.51 1517.58 L1433.51 1513.42 Q1436.17 1512.68 1438.48 1512.31 Q1440.82 1511.93 1442.88 1511.93 Q1448.21 1511.93 1451.31 1514.37 Q1454.41 1516.77 1454.41 1520.89 Q1454.41 1523.76 1452.77 1525.75 Q1451.12 1527.72 1448.09 1528.49 Z\" fill=\"#000000\" fill-rule=\"evenodd\" fill-opacity=\"1\" /><path clip-path=\"url(#clip730)\" d=\"M 0 0 M1869.6 1516.63 L1857.8 1535.08 L1869.6 1535.08 L1869.6 1516.63 M1868.37 1512.56 L1874.25 1512.56 L1874.25 1535.08 L1879.19 1535.08 L1879.19 1538.97 L1874.25 1538.97 L1874.25 1547.12 L1869.6 1547.12 L1869.6 1538.97 L1854 1538.97 L1854 1534.46 L1868.37 1512.56 Z\" fill=\"#000000\" fill-rule=\"evenodd\" fill-opacity=\"1\" /><path clip-path=\"url(#clip730)\" d=\"M 0 0 M2279.62 1512.56 L2297.98 1512.56 L2297.98 1516.5 L2283.9 1516.5 L2283.9 1524.97 Q2284.92 1524.62 2285.94 1524.46 Q2286.96 1524.27 2287.98 1524.27 Q2293.76 1524.27 2297.14 1527.44 Q2300.52 1530.62 2300.52 1536.03 Q2300.52 1541.61 2297.05 1544.71 Q2293.58 1547.79 2287.26 1547.79 Q2285.08 1547.79 2282.82 1547.42 Q2280.57 1547.05 2278.16 1546.31 L2278.16 1541.61 Q2280.25 1542.74 2282.47 1543.3 Q2284.69 1543.86 2287.17 1543.86 Q2291.17 1543.86 2293.51 1541.75 Q2295.85 1539.64 2295.85 1536.03 Q2295.85 1532.42 2293.51 1530.31 Q2291.17 1528.21 2287.17 1528.21 Q2285.29 1528.21 2283.42 1528.62 Q2281.57 1529.04 2279.62 1529.92 L2279.62 1512.56 Z\" fill=\"#000000\" fill-rule=\"evenodd\" fill-opacity=\"1\" /><polyline clip-path=\"url(#clip732)\" style=\"stroke:#000000; stroke-width:2; stroke-opacity:0.1; fill:none\" points=\"\n",
       "  112.177,1391.41 2352.76,1391.41 \n",
       "  \"/>\n",
       "<polyline clip-path=\"url(#clip732)\" style=\"stroke:#000000; stroke-width:2; stroke-opacity:0.1; fill:none\" points=\"\n",
       "  112.177,1174.17 2352.76,1174.17 \n",
       "  \"/>\n",
       "<polyline clip-path=\"url(#clip732)\" style=\"stroke:#000000; stroke-width:2; stroke-opacity:0.1; fill:none\" points=\"\n",
       "  112.177,956.93 2352.76,956.93 \n",
       "  \"/>\n",
       "<polyline clip-path=\"url(#clip732)\" style=\"stroke:#000000; stroke-width:2; stroke-opacity:0.1; fill:none\" points=\"\n",
       "  112.177,739.691 2352.76,739.691 \n",
       "  \"/>\n",
       "<polyline clip-path=\"url(#clip732)\" style=\"stroke:#000000; stroke-width:2; stroke-opacity:0.1; fill:none\" points=\"\n",
       "  112.177,522.453 2352.76,522.453 \n",
       "  \"/>\n",
       "<polyline clip-path=\"url(#clip732)\" style=\"stroke:#000000; stroke-width:2; stroke-opacity:0.1; fill:none\" points=\"\n",
       "  112.177,305.215 2352.76,305.215 \n",
       "  \"/>\n",
       "<polyline clip-path=\"url(#clip732)\" style=\"stroke:#000000; stroke-width:2; stroke-opacity:0.1; fill:none\" points=\"\n",
       "  112.177,87.9763 2352.76,87.9763 \n",
       "  \"/>\n",
       "<polyline clip-path=\"url(#clip730)\" style=\"stroke:#000000; stroke-width:4; stroke-opacity:1; fill:none\" points=\"\n",
       "  112.177,1486.45 112.177,47.2441 \n",
       "  \"/>\n",
       "<polyline clip-path=\"url(#clip730)\" style=\"stroke:#000000; stroke-width:4; stroke-opacity:1; fill:none\" points=\"\n",
       "  112.177,1391.41 139.064,1391.41 \n",
       "  \"/>\n",
       "<polyline clip-path=\"url(#clip730)\" style=\"stroke:#000000; stroke-width:4; stroke-opacity:1; fill:none\" points=\"\n",
       "  112.177,1174.17 139.064,1174.17 \n",
       "  \"/>\n",
       "<polyline clip-path=\"url(#clip730)\" style=\"stroke:#000000; stroke-width:4; stroke-opacity:1; fill:none\" points=\"\n",
       "  112.177,956.93 139.064,956.93 \n",
       "  \"/>\n",
       "<polyline clip-path=\"url(#clip730)\" style=\"stroke:#000000; stroke-width:4; stroke-opacity:1; fill:none\" points=\"\n",
       "  112.177,739.691 139.064,739.691 \n",
       "  \"/>\n",
       "<polyline clip-path=\"url(#clip730)\" style=\"stroke:#000000; stroke-width:4; stroke-opacity:1; fill:none\" points=\"\n",
       "  112.177,522.453 139.064,522.453 \n",
       "  \"/>\n",
       "<polyline clip-path=\"url(#clip730)\" style=\"stroke:#000000; stroke-width:4; stroke-opacity:1; fill:none\" points=\"\n",
       "  112.177,305.215 139.064,305.215 \n",
       "  \"/>\n",
       "<polyline clip-path=\"url(#clip730)\" style=\"stroke:#000000; stroke-width:4; stroke-opacity:1; fill:none\" points=\"\n",
       "  112.177,87.9763 139.064,87.9763 \n",
       "  \"/>\n",
       "<path clip-path=\"url(#clip730)\" d=\"M 0 0 M64.2328 1377.2 Q60.6217 1377.2 58.793 1380.77 Q56.9875 1384.31 56.9875 1391.44 Q56.9875 1398.55 58.793 1402.11 Q60.6217 1405.65 64.2328 1405.65 Q67.867 1405.65 69.6726 1402.11 Q71.5013 1398.55 71.5013 1391.44 Q71.5013 1384.31 69.6726 1380.77 Q67.867 1377.2 64.2328 1377.2 M64.2328 1373.5 Q70.0429 1373.5 73.0985 1378.11 Q76.1772 1382.69 76.1772 1391.44 Q76.1772 1400.17 73.0985 1404.77 Q70.0429 1409.36 64.2328 1409.36 Q58.4226 1409.36 55.344 1404.77 Q52.2884 1400.17 52.2884 1391.44 Q52.2884 1382.69 55.344 1378.11 Q58.4226 1373.5 64.2328 1373.5 Z\" fill=\"#000000\" fill-rule=\"evenodd\" fill-opacity=\"1\" /><path clip-path=\"url(#clip730)\" d=\"M 0 0 M56.2699 1187.51 L63.9087 1187.51 L63.9087 1161.15 L55.5986 1162.81 L55.5986 1158.55 L63.8624 1156.89 L68.5383 1156.89 L68.5383 1187.51 L76.1772 1187.51 L76.1772 1191.45 L56.2699 1191.45 L56.2699 1187.51 Z\" fill=\"#000000\" fill-rule=\"evenodd\" fill-opacity=\"1\" /><path clip-path=\"url(#clip730)\" d=\"M 0 0 M59.8578 970.274 L76.1772 970.274 L76.1772 974.21 L54.2328 974.21 L54.2328 970.274 Q56.8949 967.52 61.4782 962.89 Q66.0846 958.237 67.2652 956.895 Q69.5105 954.372 70.3902 952.636 Q71.2929 950.876 71.2929 949.186 Q71.2929 946.432 69.3485 944.696 Q67.4272 942.96 64.3254 942.96 Q62.1263 942.96 59.6726 943.724 Q57.2421 944.487 54.4643 946.038 L54.4643 941.316 Q57.2884 940.182 59.7421 939.603 Q62.1958 939.025 64.2328 939.025 Q69.6031 939.025 72.7976 941.71 Q75.992 944.395 75.992 948.886 Q75.992 951.015 75.1818 952.936 Q74.3948 954.835 72.2883 957.427 Q71.7096 958.098 68.6078 961.316 Q65.5059 964.51 59.8578 970.274 Z\" fill=\"#000000\" fill-rule=\"evenodd\" fill-opacity=\"1\" /><path clip-path=\"url(#clip730)\" d=\"M 0 0 M69.0476 738.337 Q72.404 739.055 74.279 741.323 Q76.1772 743.592 76.1772 746.925 Q76.1772 752.041 72.6587 754.842 Q69.1402 757.642 62.6587 757.642 Q60.4828 757.642 58.168 757.203 Q55.8764 756.786 53.4227 755.93 L53.4227 751.416 Q55.3671 752.55 57.6819 753.129 Q59.9967 753.707 62.5198 753.707 Q66.918 753.707 69.2096 751.971 Q71.5244 750.235 71.5244 746.925 Q71.5244 743.869 69.3717 742.156 Q67.242 740.42 63.4226 740.42 L59.3949 740.42 L59.3949 736.578 L63.6078 736.578 Q67.0569 736.578 68.8855 735.212 Q70.7142 733.823 70.7142 731.231 Q70.7142 728.569 68.8161 727.157 Q66.9411 725.721 63.4226 725.721 Q61.5013 725.721 59.3023 726.138 Q57.1032 726.555 54.4643 727.434 L54.4643 723.268 Q57.1264 722.527 59.4412 722.157 Q61.7791 721.786 63.8393 721.786 Q69.1633 721.786 72.2652 724.217 Q75.367 726.624 75.367 730.744 Q75.367 733.615 73.7235 735.606 Q72.08 737.573 69.0476 738.337 Z\" fill=\"#000000\" fill-rule=\"evenodd\" fill-opacity=\"1\" /><path clip-path=\"url(#clip730)\" d=\"M 0 0 M66.5939 509.247 L54.7884 527.696 L66.5939 527.696 L66.5939 509.247 M65.367 505.173 L71.2466 505.173 L71.2466 527.696 L76.1772 527.696 L76.1772 531.585 L71.2466 531.585 L71.2466 539.733 L66.5939 539.733 L66.5939 531.585 L50.9921 531.585 L50.9921 527.071 L65.367 505.173 Z\" fill=\"#000000\" fill-rule=\"evenodd\" fill-opacity=\"1\" /><path clip-path=\"url(#clip730)\" d=\"M 0 0 M55.2745 287.935 L73.6309 287.935 L73.6309 291.87 L59.5569 291.87 L59.5569 300.342 Q60.5754 299.995 61.5939 299.833 Q62.6124 299.647 63.6309 299.647 Q69.418 299.647 72.7976 302.819 Q76.1772 305.99 76.1772 311.407 Q76.1772 316.985 72.705 320.087 Q69.2328 323.166 62.9134 323.166 Q60.7374 323.166 58.4689 322.796 Q56.2236 322.425 53.8162 321.684 L53.8162 316.985 Q55.8995 318.12 58.1217 318.675 Q60.3439 319.231 62.8208 319.231 Q66.8254 319.231 69.1633 317.124 Q71.5013 315.018 71.5013 311.407 Q71.5013 307.796 69.1633 305.689 Q66.8254 303.583 62.8208 303.583 Q60.9458 303.583 59.0708 303.999 Q57.2189 304.416 55.2745 305.296 L55.2745 287.935 Z\" fill=\"#000000\" fill-rule=\"evenodd\" fill-opacity=\"1\" /><path clip-path=\"url(#clip730)\" d=\"M 0 0 M64.6495 86.1129 Q61.5013 86.1129 59.6495 88.2656 Q57.8208 90.4184 57.8208 94.1684 Q57.8208 97.8952 59.6495 100.071 Q61.5013 102.224 64.6495 102.224 Q67.7976 102.224 69.6263 100.071 Q71.4781 97.8952 71.4781 94.1684 Q71.4781 90.4184 69.6263 88.2656 Q67.7976 86.1129 64.6495 86.1129 M73.9318 71.4602 L73.9318 75.7194 Q72.1726 74.8861 70.367 74.4463 Q68.5846 74.0064 66.8254 74.0064 Q62.1958 74.0064 59.7421 77.1314 Q57.3115 80.2564 56.9643 86.5758 Q58.33 84.5619 60.3902 83.4971 Q62.4504 82.4092 64.9272 82.4092 Q70.1355 82.4092 73.1448 85.5805 Q76.1772 88.7286 76.1772 94.1684 Q76.1772 99.4924 73.029 102.71 Q69.8809 105.928 64.6495 105.928 Q58.6541 105.928 55.4828 101.344 Q52.3116 96.7378 52.3116 88.011 Q52.3116 79.8166 56.2004 74.9555 Q60.0893 70.0713 66.6402 70.0713 Q68.3994 70.0713 70.1818 70.4185 Q71.9874 70.7657 73.9318 71.4602 Z\" fill=\"#000000\" fill-rule=\"evenodd\" fill-opacity=\"1\" /><polyline clip-path=\"url(#clip732)\" style=\"stroke:#009af9; stroke-width:4; stroke-opacity:1; fill:none\" points=\"\n",
       "  175.59,87.9763 185.911,114.366 196.232,140.496 291.667,369.841 387.102,577.044 444.455,690.914 501.807,796.786 550.298,880.061 598.789,957.62 651.463,1035.39 \n",
       "  704.138,1106.42 752.699,1165.93 801.261,1219.7 853.323,1270.98 905.386,1315.68 965.706,1359.22 1026.03,1393.91 1079.63,1417.32 1133.24,1433.75 1180.24,1442.4 \n",
       "  1227.25,1445.68 1278.5,1443.14 1329.75,1434.21 1381.31,1418.79 1432.86,1396.9 1489.86,1365.18 1546.86,1325.57 1601.1,1280.54 1655.33,1228.36 1711.72,1166.53 \n",
       "  1768.11,1096.96 1815.58,1032.4 1863.05,962.373 1921.01,869.446 1978.96,768.353 2033.44,665.878 2087.92,556.187 2175.2,365.414 2262.48,156.122 2275.91,122.268 \n",
       "  2289.34,87.9763 \n",
       "  \"/>\n",
       "<circle clip-path=\"url(#clip732)\" cx=\"175.59\" cy=\"87.9763\" r=\"14\" fill=\"#e26f46\" fill-rule=\"evenodd\" fill-opacity=\"1\" stroke=\"#000000\" stroke-opacity=\"1\" stroke-width=\"3.2\"/>\n",
       "<circle clip-path=\"url(#clip732)\" cx=\"246.048\" cy=\"262.974\" r=\"14\" fill=\"#e26f46\" fill-rule=\"evenodd\" fill-opacity=\"1\" stroke=\"#000000\" stroke-opacity=\"1\" stroke-width=\"3.2\"/>\n",
       "<circle clip-path=\"url(#clip732)\" cx=\"316.507\" cy=\"425.903\" r=\"14\" fill=\"#e26f46\" fill-rule=\"evenodd\" fill-opacity=\"1\" stroke=\"#000000\" stroke-opacity=\"1\" stroke-width=\"3.2\"/>\n",
       "<circle clip-path=\"url(#clip732)\" cx=\"386.965\" cy=\"576.762\" r=\"14\" fill=\"#e26f46\" fill-rule=\"evenodd\" fill-opacity=\"1\" stroke=\"#000000\" stroke-opacity=\"1\" stroke-width=\"3.2\"/>\n",
       "<circle clip-path=\"url(#clip732)\" cx=\"457.424\" cy=\"715.554\" r=\"14\" fill=\"#e26f46\" fill-rule=\"evenodd\" fill-opacity=\"1\" stroke=\"#000000\" stroke-opacity=\"1\" stroke-width=\"3.2\"/>\n",
       "<circle clip-path=\"url(#clip732)\" cx=\"527.882\" cy=\"842.276\" r=\"14\" fill=\"#e26f46\" fill-rule=\"evenodd\" fill-opacity=\"1\" stroke=\"#000000\" stroke-opacity=\"1\" stroke-width=\"3.2\"/>\n",
       "<circle clip-path=\"url(#clip732)\" cx=\"598.34\" cy=\"956.93\" r=\"14\" fill=\"#e26f46\" fill-rule=\"evenodd\" fill-opacity=\"1\" stroke=\"#000000\" stroke-opacity=\"1\" stroke-width=\"3.2\"/>\n",
       "<circle clip-path=\"url(#clip732)\" cx=\"668.799\" cy=\"1059.51\" r=\"14\" fill=\"#e26f46\" fill-rule=\"evenodd\" fill-opacity=\"1\" stroke=\"#000000\" stroke-opacity=\"1\" stroke-width=\"3.2\"/>\n",
       "<circle clip-path=\"url(#clip732)\" cx=\"739.257\" cy=\"1150.03\" r=\"14\" fill=\"#e26f46\" fill-rule=\"evenodd\" fill-opacity=\"1\" stroke=\"#000000\" stroke-opacity=\"1\" stroke-width=\"3.2\"/>\n",
       "<circle clip-path=\"url(#clip732)\" cx=\"809.716\" cy=\"1228.48\" r=\"14\" fill=\"#e26f46\" fill-rule=\"evenodd\" fill-opacity=\"1\" stroke=\"#000000\" stroke-opacity=\"1\" stroke-width=\"3.2\"/>\n",
       "<circle clip-path=\"url(#clip732)\" cx=\"880.174\" cy=\"1294.86\" r=\"14\" fill=\"#e26f46\" fill-rule=\"evenodd\" fill-opacity=\"1\" stroke=\"#000000\" stroke-opacity=\"1\" stroke-width=\"3.2\"/>\n",
       "<circle clip-path=\"url(#clip732)\" cx=\"950.633\" cy=\"1349.17\" r=\"14\" fill=\"#e26f46\" fill-rule=\"evenodd\" fill-opacity=\"1\" stroke=\"#000000\" stroke-opacity=\"1\" stroke-width=\"3.2\"/>\n",
       "<circle clip-path=\"url(#clip732)\" cx=\"1021.09\" cy=\"1391.41\" r=\"14\" fill=\"#e26f46\" fill-rule=\"evenodd\" fill-opacity=\"1\" stroke=\"#000000\" stroke-opacity=\"1\" stroke-width=\"3.2\"/>\n",
       "<circle clip-path=\"url(#clip732)\" cx=\"1091.55\" cy=\"1421.58\" r=\"14\" fill=\"#e26f46\" fill-rule=\"evenodd\" fill-opacity=\"1\" stroke=\"#000000\" stroke-opacity=\"1\" stroke-width=\"3.2\"/>\n",
       "<circle clip-path=\"url(#clip732)\" cx=\"1162.01\" cy=\"1439.68\" r=\"14\" fill=\"#e26f46\" fill-rule=\"evenodd\" fill-opacity=\"1\" stroke=\"#000000\" stroke-opacity=\"1\" stroke-width=\"3.2\"/>\n",
       "<circle clip-path=\"url(#clip732)\" cx=\"1232.47\" cy=\"1445.72\" r=\"14\" fill=\"#e26f46\" fill-rule=\"evenodd\" fill-opacity=\"1\" stroke=\"#000000\" stroke-opacity=\"1\" stroke-width=\"3.2\"/>\n",
       "<circle clip-path=\"url(#clip732)\" cx=\"1302.92\" cy=\"1439.68\" r=\"14\" fill=\"#e26f46\" fill-rule=\"evenodd\" fill-opacity=\"1\" stroke=\"#000000\" stroke-opacity=\"1\" stroke-width=\"3.2\"/>\n",
       "<circle clip-path=\"url(#clip732)\" cx=\"1373.38\" cy=\"1421.58\" r=\"14\" fill=\"#e26f46\" fill-rule=\"evenodd\" fill-opacity=\"1\" stroke=\"#000000\" stroke-opacity=\"1\" stroke-width=\"3.2\"/>\n",
       "<circle clip-path=\"url(#clip732)\" cx=\"1443.84\" cy=\"1391.41\" r=\"14\" fill=\"#e26f46\" fill-rule=\"evenodd\" fill-opacity=\"1\" stroke=\"#000000\" stroke-opacity=\"1\" stroke-width=\"3.2\"/>\n",
       "<circle clip-path=\"url(#clip732)\" cx=\"1514.3\" cy=\"1349.17\" r=\"14\" fill=\"#e26f46\" fill-rule=\"evenodd\" fill-opacity=\"1\" stroke=\"#000000\" stroke-opacity=\"1\" stroke-width=\"3.2\"/>\n",
       "<circle clip-path=\"url(#clip732)\" cx=\"1584.76\" cy=\"1294.86\" r=\"14\" fill=\"#e26f46\" fill-rule=\"evenodd\" fill-opacity=\"1\" stroke=\"#000000\" stroke-opacity=\"1\" stroke-width=\"3.2\"/>\n",
       "<circle clip-path=\"url(#clip732)\" cx=\"1655.22\" cy=\"1228.48\" r=\"14\" fill=\"#e26f46\" fill-rule=\"evenodd\" fill-opacity=\"1\" stroke=\"#000000\" stroke-opacity=\"1\" stroke-width=\"3.2\"/>\n",
       "<circle clip-path=\"url(#clip732)\" cx=\"1725.68\" cy=\"1150.03\" r=\"14\" fill=\"#e26f46\" fill-rule=\"evenodd\" fill-opacity=\"1\" stroke=\"#000000\" stroke-opacity=\"1\" stroke-width=\"3.2\"/>\n",
       "<circle clip-path=\"url(#clip732)\" cx=\"1796.13\" cy=\"1059.51\" r=\"14\" fill=\"#e26f46\" fill-rule=\"evenodd\" fill-opacity=\"1\" stroke=\"#000000\" stroke-opacity=\"1\" stroke-width=\"3.2\"/>\n",
       "<circle clip-path=\"url(#clip732)\" cx=\"1866.59\" cy=\"956.93\" r=\"14\" fill=\"#e26f46\" fill-rule=\"evenodd\" fill-opacity=\"1\" stroke=\"#000000\" stroke-opacity=\"1\" stroke-width=\"3.2\"/>\n",
       "<circle clip-path=\"url(#clip732)\" cx=\"1937.05\" cy=\"842.276\" r=\"14\" fill=\"#e26f46\" fill-rule=\"evenodd\" fill-opacity=\"1\" stroke=\"#000000\" stroke-opacity=\"1\" stroke-width=\"3.2\"/>\n",
       "<circle clip-path=\"url(#clip732)\" cx=\"2007.51\" cy=\"715.554\" r=\"14\" fill=\"#e26f46\" fill-rule=\"evenodd\" fill-opacity=\"1\" stroke=\"#000000\" stroke-opacity=\"1\" stroke-width=\"3.2\"/>\n",
       "<circle clip-path=\"url(#clip732)\" cx=\"2077.97\" cy=\"576.762\" r=\"14\" fill=\"#e26f46\" fill-rule=\"evenodd\" fill-opacity=\"1\" stroke=\"#000000\" stroke-opacity=\"1\" stroke-width=\"3.2\"/>\n",
       "<circle clip-path=\"url(#clip732)\" cx=\"2148.43\" cy=\"425.903\" r=\"14\" fill=\"#e26f46\" fill-rule=\"evenodd\" fill-opacity=\"1\" stroke=\"#000000\" stroke-opacity=\"1\" stroke-width=\"3.2\"/>\n",
       "<circle clip-path=\"url(#clip732)\" cx=\"2218.88\" cy=\"262.974\" r=\"14\" fill=\"#e26f46\" fill-rule=\"evenodd\" fill-opacity=\"1\" stroke=\"#000000\" stroke-opacity=\"1\" stroke-width=\"3.2\"/>\n",
       "<circle clip-path=\"url(#clip732)\" cx=\"2289.34\" cy=\"87.9763\" r=\"14\" fill=\"#e26f46\" fill-rule=\"evenodd\" fill-opacity=\"1\" stroke=\"#000000\" stroke-opacity=\"1\" stroke-width=\"3.2\"/>\n",
       "</svg>\n"
      ]
     },
     "execution_count": 35,
     "metadata": {},
     "output_type": "execute_result"
    }
   ],
   "source": [
    "# Teste 1\n",
    "\n",
    "g(x) = x^2 - 5x + 6\n",
    "gd(x) = 2x - 5\n",
    "gdd(x) = 2\n",
    "x_inicial = 0\n",
    "y_inicial = 6\n",
    "x_final = 5\n",
    "y_final = 6\n",
    "n = 30\n",
    "\n",
    "y = Any[y_inicial]\n",
    "for e in resolver_PVC(gdd, x_inicial, y_inicial, x_final, y_final, n)\n",
    "    push!(y, e)\n",
    "end\n",
    "push!(y, y_final)\n",
    "\n",
    "plot(g, x_inicial, x_final)\n",
    "\n",
    "h = (x_final - x_inicial)/(n)\n",
    "scatter!(x_inicial:h:x_final, y, leg=false)"
   ]
  },
  {
   "cell_type": "code",
   "execution_count": 36,
   "metadata": {},
   "outputs": [
    {
     "data": {
      "image/svg+xml": [
       "<?xml version=\"1.0\" encoding=\"utf-8\"?>\n",
       "<svg xmlns=\"http://www.w3.org/2000/svg\" xmlns:xlink=\"http://www.w3.org/1999/xlink\" width=\"600\" height=\"400\" viewBox=\"0 0 2400 1600\">\n",
       "<defs>\n",
       "  <clipPath id=\"clip770\">\n",
       "    <rect x=\"0\" y=\"0\" width=\"2400\" height=\"1600\"/>\n",
       "  </clipPath>\n",
       "</defs>\n",
       "<path clip-path=\"url(#clip770)\" d=\"\n",
       "M0 1600 L2400 1600 L2400 0 L0 0  Z\n",
       "  \" fill=\"#ffffff\" fill-rule=\"evenodd\" fill-opacity=\"1\"/>\n",
       "<defs>\n",
       "  <clipPath id=\"clip771\">\n",
       "    <rect x=\"480\" y=\"0\" width=\"1681\" height=\"1600\"/>\n",
       "  </clipPath>\n",
       "</defs>\n",
       "<path clip-path=\"url(#clip770)\" d=\"\n",
       "M179.654 1486.45 L2352.76 1486.45 L2352.76 47.2441 L179.654 47.2441  Z\n",
       "  \" fill=\"#ffffff\" fill-rule=\"evenodd\" fill-opacity=\"1\"/>\n",
       "<defs>\n",
       "  <clipPath id=\"clip772\">\n",
       "    <rect x=\"179\" y=\"47\" width=\"2174\" height=\"1440\"/>\n",
       "  </clipPath>\n",
       "</defs>\n",
       "<polyline clip-path=\"url(#clip772)\" style=\"stroke:#000000; stroke-width:2; stroke-opacity:0.1; fill:none\" points=\"\n",
       "  241.157,1486.45 241.157,47.2441 \n",
       "  \"/>\n",
       "<polyline clip-path=\"url(#clip772)\" style=\"stroke:#000000; stroke-width:2; stroke-opacity:0.1; fill:none\" points=\"\n",
       "  567.44,1486.45 567.44,47.2441 \n",
       "  \"/>\n",
       "<polyline clip-path=\"url(#clip772)\" style=\"stroke:#000000; stroke-width:2; stroke-opacity:0.1; fill:none\" points=\"\n",
       "  893.723,1486.45 893.723,47.2441 \n",
       "  \"/>\n",
       "<polyline clip-path=\"url(#clip772)\" style=\"stroke:#000000; stroke-width:2; stroke-opacity:0.1; fill:none\" points=\"\n",
       "  1220.01,1486.45 1220.01,47.2441 \n",
       "  \"/>\n",
       "<polyline clip-path=\"url(#clip772)\" style=\"stroke:#000000; stroke-width:2; stroke-opacity:0.1; fill:none\" points=\"\n",
       "  1546.29,1486.45 1546.29,47.2441 \n",
       "  \"/>\n",
       "<polyline clip-path=\"url(#clip772)\" style=\"stroke:#000000; stroke-width:2; stroke-opacity:0.1; fill:none\" points=\"\n",
       "  1872.57,1486.45 1872.57,47.2441 \n",
       "  \"/>\n",
       "<polyline clip-path=\"url(#clip772)\" style=\"stroke:#000000; stroke-width:2; stroke-opacity:0.1; fill:none\" points=\"\n",
       "  2198.85,1486.45 2198.85,47.2441 \n",
       "  \"/>\n",
       "<polyline clip-path=\"url(#clip770)\" style=\"stroke:#000000; stroke-width:4; stroke-opacity:1; fill:none\" points=\"\n",
       "  179.654,1486.45 2352.76,1486.45 \n",
       "  \"/>\n",
       "<polyline clip-path=\"url(#clip770)\" style=\"stroke:#000000; stroke-width:4; stroke-opacity:1; fill:none\" points=\"\n",
       "  241.157,1486.45 241.157,1469.18 \n",
       "  \"/>\n",
       "<polyline clip-path=\"url(#clip770)\" style=\"stroke:#000000; stroke-width:4; stroke-opacity:1; fill:none\" points=\"\n",
       "  567.44,1486.45 567.44,1469.18 \n",
       "  \"/>\n",
       "<polyline clip-path=\"url(#clip770)\" style=\"stroke:#000000; stroke-width:4; stroke-opacity:1; fill:none\" points=\"\n",
       "  893.723,1486.45 893.723,1469.18 \n",
       "  \"/>\n",
       "<polyline clip-path=\"url(#clip770)\" style=\"stroke:#000000; stroke-width:4; stroke-opacity:1; fill:none\" points=\"\n",
       "  1220.01,1486.45 1220.01,1469.18 \n",
       "  \"/>\n",
       "<polyline clip-path=\"url(#clip770)\" style=\"stroke:#000000; stroke-width:4; stroke-opacity:1; fill:none\" points=\"\n",
       "  1546.29,1486.45 1546.29,1469.18 \n",
       "  \"/>\n",
       "<polyline clip-path=\"url(#clip770)\" style=\"stroke:#000000; stroke-width:4; stroke-opacity:1; fill:none\" points=\"\n",
       "  1872.57,1486.45 1872.57,1469.18 \n",
       "  \"/>\n",
       "<polyline clip-path=\"url(#clip770)\" style=\"stroke:#000000; stroke-width:4; stroke-opacity:1; fill:none\" points=\"\n",
       "  2198.85,1486.45 2198.85,1469.18 \n",
       "  \"/>\n",
       "<path clip-path=\"url(#clip770)\" d=\"M 0 0 M241.157 1515.64 Q237.545 1515.64 235.717 1519.2 Q233.911 1522.75 233.911 1529.87 Q233.911 1536.98 235.717 1540.55 Q237.545 1544.09 241.157 1544.09 Q244.791 1544.09 246.596 1540.55 Q248.425 1536.98 248.425 1529.87 Q248.425 1522.75 246.596 1519.2 Q244.791 1515.64 241.157 1515.64 M241.157 1511.93 Q246.967 1511.93 250.022 1516.54 Q253.101 1521.12 253.101 1529.87 Q253.101 1538.6 250.022 1543.21 Q246.967 1547.79 241.157 1547.79 Q235.346 1547.79 232.268 1543.21 Q229.212 1538.6 229.212 1529.87 Q229.212 1521.12 232.268 1516.54 Q235.346 1511.93 241.157 1511.93 Z\" fill=\"#000000\" fill-rule=\"evenodd\" fill-opacity=\"1\" /><path clip-path=\"url(#clip770)\" d=\"M 0 0 M557.822 1543.18 L565.46 1543.18 L565.46 1516.82 L557.15 1518.49 L557.15 1514.23 L565.414 1512.56 L570.09 1512.56 L570.09 1543.18 L577.729 1543.18 L577.729 1547.12 L557.822 1547.12 L557.822 1543.18 Z\" fill=\"#000000\" fill-rule=\"evenodd\" fill-opacity=\"1\" /><path clip-path=\"url(#clip770)\" d=\"M 0 0 M888.375 1543.18 L904.695 1543.18 L904.695 1547.12 L882.75 1547.12 L882.75 1543.18 Q885.412 1540.43 889.996 1535.8 Q894.602 1531.15 895.783 1529.81 Q898.028 1527.28 898.908 1525.55 Q899.81 1523.79 899.81 1522.1 Q899.81 1519.34 897.866 1517.61 Q895.945 1515.87 892.843 1515.87 Q890.644 1515.87 888.19 1516.63 Q885.76 1517.4 882.982 1518.95 L882.982 1514.23 Q885.806 1513.09 888.26 1512.51 Q890.713 1511.93 892.75 1511.93 Q898.121 1511.93 901.315 1514.62 Q904.51 1517.31 904.51 1521.8 Q904.51 1523.93 903.699 1525.85 Q902.912 1527.74 900.806 1530.34 Q900.227 1531.01 897.125 1534.23 Q894.023 1537.42 888.375 1543.18 Z\" fill=\"#000000\" fill-rule=\"evenodd\" fill-opacity=\"1\" /><path clip-path=\"url(#clip770)\" d=\"M 0 0 M1224.25 1528.49 Q1227.61 1529.2 1229.48 1531.47 Q1231.38 1533.74 1231.38 1537.07 Q1231.38 1542.19 1227.86 1544.99 Q1224.35 1547.79 1217.86 1547.79 Q1215.69 1547.79 1213.37 1547.35 Q1211.08 1546.93 1208.63 1546.08 L1208.63 1541.56 Q1210.57 1542.7 1212.89 1543.28 Q1215.2 1543.86 1217.73 1543.86 Q1222.12 1543.86 1224.42 1542.12 Q1226.73 1540.38 1226.73 1537.07 Q1226.73 1534.02 1224.58 1532.31 Q1222.45 1530.57 1218.63 1530.57 L1214.6 1530.57 L1214.6 1526.73 L1218.81 1526.73 Q1222.26 1526.73 1224.09 1525.36 Q1225.92 1523.97 1225.92 1521.38 Q1225.92 1518.72 1224.02 1517.31 Q1222.15 1515.87 1218.63 1515.87 Q1216.71 1515.87 1214.51 1516.29 Q1212.31 1516.7 1209.67 1517.58 L1209.67 1513.42 Q1212.33 1512.68 1214.65 1512.31 Q1216.98 1511.93 1219.04 1511.93 Q1224.37 1511.93 1227.47 1514.37 Q1230.57 1516.77 1230.57 1520.89 Q1230.57 1523.76 1228.93 1525.75 Q1227.29 1527.72 1224.25 1528.49 Z\" fill=\"#000000\" fill-rule=\"evenodd\" fill-opacity=\"1\" /><path clip-path=\"url(#clip770)\" d=\"M 0 0 M1549.3 1516.63 L1537.49 1535.08 L1549.3 1535.08 L1549.3 1516.63 M1548.07 1512.56 L1553.95 1512.56 L1553.95 1535.08 L1558.88 1535.08 L1558.88 1538.97 L1553.95 1538.97 L1553.95 1547.12 L1549.3 1547.12 L1549.3 1538.97 L1533.7 1538.97 L1533.7 1534.46 L1548.07 1512.56 Z\" fill=\"#000000\" fill-rule=\"evenodd\" fill-opacity=\"1\" /><path clip-path=\"url(#clip770)\" d=\"M 0 0 M1862.85 1512.56 L1881.21 1512.56 L1881.21 1516.5 L1867.13 1516.5 L1867.13 1524.97 Q1868.15 1524.62 1869.17 1524.46 Q1870.19 1524.27 1871.21 1524.27 Q1876.99 1524.27 1880.37 1527.44 Q1883.75 1530.62 1883.75 1536.03 Q1883.75 1541.61 1880.28 1544.71 Q1876.81 1547.79 1870.49 1547.79 Q1868.31 1547.79 1866.04 1547.42 Q1863.8 1547.05 1861.39 1546.31 L1861.39 1541.61 Q1863.47 1542.74 1865.7 1543.3 Q1867.92 1543.86 1870.4 1543.86 Q1874.4 1543.86 1876.74 1541.75 Q1879.08 1539.64 1879.08 1536.03 Q1879.08 1532.42 1876.74 1530.31 Q1874.4 1528.21 1870.4 1528.21 Q1868.52 1528.21 1866.65 1528.62 Q1864.79 1529.04 1862.85 1529.92 L1862.85 1512.56 Z\" fill=\"#000000\" fill-rule=\"evenodd\" fill-opacity=\"1\" /><path clip-path=\"url(#clip770)\" d=\"M 0 0 M2199.26 1527.98 Q2196.11 1527.98 2194.26 1530.13 Q2192.43 1532.28 2192.43 1536.03 Q2192.43 1539.76 2194.26 1541.93 Q2196.11 1544.09 2199.26 1544.09 Q2202.41 1544.09 2204.24 1541.93 Q2206.09 1539.76 2206.09 1536.03 Q2206.09 1532.28 2204.24 1530.13 Q2202.41 1527.98 2199.26 1527.98 M2208.54 1513.32 L2208.54 1517.58 Q2206.78 1516.75 2204.98 1516.31 Q2203.19 1515.87 2201.44 1515.87 Q2196.81 1515.87 2194.35 1519 Q2191.92 1522.12 2191.57 1528.44 Q2192.94 1526.43 2195 1525.36 Q2197.06 1524.27 2199.54 1524.27 Q2204.75 1524.27 2207.75 1527.44 Q2210.79 1530.59 2210.79 1536.03 Q2210.79 1541.36 2207.64 1544.57 Q2204.49 1547.79 2199.26 1547.79 Q2193.26 1547.79 2190.09 1543.21 Q2186.92 1538.6 2186.92 1529.87 Q2186.92 1521.68 2190.81 1516.82 Q2194.7 1511.93 2201.25 1511.93 Q2203.01 1511.93 2204.79 1512.28 Q2206.6 1512.63 2208.54 1513.32 Z\" fill=\"#000000\" fill-rule=\"evenodd\" fill-opacity=\"1\" /><polyline clip-path=\"url(#clip772)\" style=\"stroke:#000000; stroke-width:2; stroke-opacity:0.1; fill:none\" points=\"\n",
       "  179.654,1445.87 2352.76,1445.87 \n",
       "  \"/>\n",
       "<polyline clip-path=\"url(#clip772)\" style=\"stroke:#000000; stroke-width:2; stroke-opacity:0.1; fill:none\" points=\"\n",
       "  179.654,1106.4 2352.76,1106.4 \n",
       "  \"/>\n",
       "<polyline clip-path=\"url(#clip772)\" style=\"stroke:#000000; stroke-width:2; stroke-opacity:0.1; fill:none\" points=\"\n",
       "  179.654,766.924 2352.76,766.924 \n",
       "  \"/>\n",
       "<polyline clip-path=\"url(#clip772)\" style=\"stroke:#000000; stroke-width:2; stroke-opacity:0.1; fill:none\" points=\"\n",
       "  179.654,427.45 2352.76,427.45 \n",
       "  \"/>\n",
       "<polyline clip-path=\"url(#clip772)\" style=\"stroke:#000000; stroke-width:2; stroke-opacity:0.1; fill:none\" points=\"\n",
       "  179.654,87.9762 2352.76,87.9762 \n",
       "  \"/>\n",
       "<polyline clip-path=\"url(#clip770)\" style=\"stroke:#000000; stroke-width:4; stroke-opacity:1; fill:none\" points=\"\n",
       "  179.654,1486.45 179.654,47.2441 \n",
       "  \"/>\n",
       "<polyline clip-path=\"url(#clip770)\" style=\"stroke:#000000; stroke-width:4; stroke-opacity:1; fill:none\" points=\"\n",
       "  179.654,1445.87 205.731,1445.87 \n",
       "  \"/>\n",
       "<polyline clip-path=\"url(#clip770)\" style=\"stroke:#000000; stroke-width:4; stroke-opacity:1; fill:none\" points=\"\n",
       "  179.654,1106.4 205.731,1106.4 \n",
       "  \"/>\n",
       "<polyline clip-path=\"url(#clip770)\" style=\"stroke:#000000; stroke-width:4; stroke-opacity:1; fill:none\" points=\"\n",
       "  179.654,766.924 205.731,766.924 \n",
       "  \"/>\n",
       "<polyline clip-path=\"url(#clip770)\" style=\"stroke:#000000; stroke-width:4; stroke-opacity:1; fill:none\" points=\"\n",
       "  179.654,427.45 205.731,427.45 \n",
       "  \"/>\n",
       "<polyline clip-path=\"url(#clip770)\" style=\"stroke:#000000; stroke-width:4; stroke-opacity:1; fill:none\" points=\"\n",
       "  179.654,87.9762 205.731,87.9762 \n",
       "  \"/>\n",
       "<path clip-path=\"url(#clip770)\" d=\"M 0 0 M51.2236 1446.32 L80.8994 1446.32 L80.8994 1450.26 L51.2236 1450.26 L51.2236 1446.32 Z\" fill=\"#000000\" fill-rule=\"evenodd\" fill-opacity=\"1\" /><path clip-path=\"url(#clip770)\" d=\"M 0 0 M86.779 1459.22 L94.4178 1459.22 L94.4178 1432.85 L86.1077 1434.52 L86.1077 1430.26 L94.3715 1428.59 L99.0474 1428.59 L99.0474 1459.22 L106.686 1459.22 L106.686 1463.15 L86.779 1463.15 L86.779 1459.22 Z\" fill=\"#000000\" fill-rule=\"evenodd\" fill-opacity=\"1\" /><path clip-path=\"url(#clip770)\" d=\"M 0 0 M111.756 1457.27 L116.64 1457.27 L116.64 1463.15 L111.756 1463.15 L111.756 1457.27 Z\" fill=\"#000000\" fill-rule=\"evenodd\" fill-opacity=\"1\" /><path clip-path=\"url(#clip770)\" d=\"M 0 0 M131.709 1431.67 Q128.098 1431.67 126.27 1435.24 Q124.464 1438.78 124.464 1445.91 Q124.464 1453.01 126.27 1456.58 Q128.098 1460.12 131.709 1460.12 Q135.344 1460.12 137.149 1456.58 Q138.978 1453.01 138.978 1445.91 Q138.978 1438.78 137.149 1435.24 Q135.344 1431.67 131.709 1431.67 M131.709 1427.97 Q137.519 1427.97 140.575 1432.57 Q143.654 1437.16 143.654 1445.91 Q143.654 1454.63 140.575 1459.24 Q137.519 1463.82 131.709 1463.82 Q125.899 1463.82 122.82 1459.24 Q119.765 1454.63 119.765 1445.91 Q119.765 1437.16 122.82 1432.57 Q125.899 1427.97 131.709 1427.97 Z\" fill=\"#000000\" fill-rule=\"evenodd\" fill-opacity=\"1\" /><path clip-path=\"url(#clip770)\" d=\"M 0 0 M50.9921 1106.85 L80.6679 1106.85 L80.6679 1110.78 L50.9921 1110.78 L50.9921 1106.85 Z\" fill=\"#000000\" fill-rule=\"evenodd\" fill-opacity=\"1\" /><path clip-path=\"url(#clip770)\" d=\"M 0 0 M95.7373 1092.2 Q92.1262 1092.2 90.2975 1095.76 Q88.4919 1099.3 88.4919 1106.43 Q88.4919 1113.54 90.2975 1117.1 Q92.1262 1120.65 95.7373 1120.65 Q99.3715 1120.65 101.177 1117.1 Q103.006 1113.54 103.006 1106.43 Q103.006 1099.3 101.177 1095.76 Q99.3715 1092.2 95.7373 1092.2 M95.7373 1088.49 Q101.547 1088.49 104.603 1093.1 Q107.682 1097.68 107.682 1106.43 Q107.682 1115.16 104.603 1119.77 Q101.547 1124.35 95.7373 1124.35 Q89.9271 1124.35 86.8484 1119.77 Q83.7929 1115.16 83.7929 1106.43 Q83.7929 1097.68 86.8484 1093.1 Q89.9271 1088.49 95.7373 1088.49 Z\" fill=\"#000000\" fill-rule=\"evenodd\" fill-opacity=\"1\" /><path clip-path=\"url(#clip770)\" d=\"M 0 0 M112.751 1117.8 L117.635 1117.8 L117.635 1123.68 L112.751 1123.68 L112.751 1117.8 Z\" fill=\"#000000\" fill-rule=\"evenodd\" fill-opacity=\"1\" /><path clip-path=\"url(#clip770)\" d=\"M 0 0 M122.751 1089.12 L141.107 1089.12 L141.107 1093.05 L127.033 1093.05 L127.033 1101.53 Q128.052 1101.18 129.07 1101.02 Q130.089 1100.83 131.107 1100.83 Q136.894 1100.83 140.274 1104 Q143.654 1107.17 143.654 1112.59 Q143.654 1118.17 140.181 1121.27 Q136.709 1124.35 130.39 1124.35 Q128.214 1124.35 125.945 1123.98 Q123.7 1123.61 121.293 1122.87 L121.293 1118.17 Q123.376 1119.3 125.598 1119.86 Q127.82 1120.41 130.297 1120.41 Q134.302 1120.41 136.64 1118.31 Q138.978 1116.2 138.978 1112.59 Q138.978 1108.98 136.64 1106.87 Q134.302 1104.77 130.297 1104.77 Q128.422 1104.77 126.547 1105.18 Q124.695 1105.6 122.751 1106.48 L122.751 1089.12 Z\" fill=\"#000000\" fill-rule=\"evenodd\" fill-opacity=\"1\" /><path clip-path=\"url(#clip770)\" d=\"M 0 0 M94.7419 752.723 Q91.1308 752.723 89.3021 756.287 Q87.4966 759.829 87.4966 766.959 Q87.4966 774.065 89.3021 777.63 Q91.1308 781.171 94.7419 781.171 Q98.3761 781.171 100.182 777.63 Q102.01 774.065 102.01 766.959 Q102.01 759.829 100.182 756.287 Q98.3761 752.723 94.7419 752.723 M94.7419 749.019 Q100.552 749.019 103.608 753.625 Q106.686 758.209 106.686 766.959 Q106.686 775.685 103.608 780.292 Q100.552 784.875 94.7419 784.875 Q88.9317 784.875 85.8531 780.292 Q82.7975 775.685 82.7975 766.959 Q82.7975 758.209 85.8531 753.625 Q88.9317 749.019 94.7419 749.019 Z\" fill=\"#000000\" fill-rule=\"evenodd\" fill-opacity=\"1\" /><path clip-path=\"url(#clip770)\" d=\"M 0 0 M111.756 778.324 L116.64 778.324 L116.64 784.204 L111.756 784.204 L111.756 778.324 Z\" fill=\"#000000\" fill-rule=\"evenodd\" fill-opacity=\"1\" /><path clip-path=\"url(#clip770)\" d=\"M 0 0 M131.709 752.723 Q128.098 752.723 126.27 756.287 Q124.464 759.829 124.464 766.959 Q124.464 774.065 126.27 777.63 Q128.098 781.171 131.709 781.171 Q135.344 781.171 137.149 777.63 Q138.978 774.065 138.978 766.959 Q138.978 759.829 137.149 756.287 Q135.344 752.723 131.709 752.723 M131.709 749.019 Q137.519 749.019 140.575 753.625 Q143.654 758.209 143.654 766.959 Q143.654 775.685 140.575 780.292 Q137.519 784.875 131.709 784.875 Q125.899 784.875 122.82 780.292 Q119.765 775.685 119.765 766.959 Q119.765 758.209 122.82 753.625 Q125.899 749.019 131.709 749.019 Z\" fill=\"#000000\" fill-rule=\"evenodd\" fill-opacity=\"1\" /><path clip-path=\"url(#clip770)\" d=\"M 0 0 M95.7373 413.249 Q92.1262 413.249 90.2975 416.814 Q88.4919 420.355 88.4919 427.485 Q88.4919 434.591 90.2975 438.156 Q92.1262 441.698 95.7373 441.698 Q99.3715 441.698 101.177 438.156 Q103.006 434.591 103.006 427.485 Q103.006 420.355 101.177 416.814 Q99.3715 413.249 95.7373 413.249 M95.7373 409.545 Q101.547 409.545 104.603 414.152 Q107.682 418.735 107.682 427.485 Q107.682 436.212 104.603 440.818 Q101.547 445.401 95.7373 445.401 Q89.9271 445.401 86.8484 440.818 Q83.7929 436.212 83.7929 427.485 Q83.7929 418.735 86.8484 414.152 Q89.9271 409.545 95.7373 409.545 Z\" fill=\"#000000\" fill-rule=\"evenodd\" fill-opacity=\"1\" /><path clip-path=\"url(#clip770)\" d=\"M 0 0 M112.751 438.85 L117.635 438.85 L117.635 444.73 L112.751 444.73 L112.751 438.85 Z\" fill=\"#000000\" fill-rule=\"evenodd\" fill-opacity=\"1\" /><path clip-path=\"url(#clip770)\" d=\"M 0 0 M122.751 410.17 L141.107 410.17 L141.107 414.105 L127.033 414.105 L127.033 422.577 Q128.052 422.23 129.07 422.068 Q130.089 421.883 131.107 421.883 Q136.894 421.883 140.274 425.054 Q143.654 428.226 143.654 433.642 Q143.654 439.221 140.181 442.323 Q136.709 445.401 130.39 445.401 Q128.214 445.401 125.945 445.031 Q123.7 444.661 121.293 443.92 L121.293 439.221 Q123.376 440.355 125.598 440.911 Q127.82 441.466 130.297 441.466 Q134.302 441.466 136.64 439.36 Q138.978 437.253 138.978 433.642 Q138.978 430.031 136.64 427.925 Q134.302 425.818 130.297 425.818 Q128.422 425.818 126.547 426.235 Q124.695 426.651 122.751 427.531 L122.751 410.17 Z\" fill=\"#000000\" fill-rule=\"evenodd\" fill-opacity=\"1\" /><path clip-path=\"url(#clip770)\" d=\"M 0 0 M86.779 101.321 L94.4178 101.321 L94.4178 74.9555 L86.1077 76.6221 L86.1077 72.3629 L94.3715 70.6962 L99.0474 70.6962 L99.0474 101.321 L106.686 101.321 L106.686 105.256 L86.779 105.256 L86.779 101.321 Z\" fill=\"#000000\" fill-rule=\"evenodd\" fill-opacity=\"1\" /><path clip-path=\"url(#clip770)\" d=\"M 0 0 M111.756 99.3766 L116.64 99.3766 L116.64 105.256 L111.756 105.256 L111.756 99.3766 Z\" fill=\"#000000\" fill-rule=\"evenodd\" fill-opacity=\"1\" /><path clip-path=\"url(#clip770)\" d=\"M 0 0 M131.709 73.7749 Q128.098 73.7749 126.27 77.3397 Q124.464 80.8814 124.464 88.011 Q124.464 95.1174 126.27 98.6822 Q128.098 102.224 131.709 102.224 Q135.344 102.224 137.149 98.6822 Q138.978 95.1174 138.978 88.011 Q138.978 80.8814 137.149 77.3397 Q135.344 73.7749 131.709 73.7749 M131.709 70.0712 Q137.519 70.0712 140.575 74.6777 Q143.654 79.261 143.654 88.011 Q143.654 96.7378 140.575 101.344 Q137.519 105.928 131.709 105.928 Q125.899 105.928 122.82 101.344 Q119.765 96.7378 119.765 88.011 Q119.765 79.261 122.82 74.6777 Q125.899 70.0712 131.709 70.0712 Z\" fill=\"#000000\" fill-rule=\"evenodd\" fill-opacity=\"1\" /><polyline clip-path=\"url(#clip772)\" style=\"stroke:#009af9; stroke-width:4; stroke-opacity:1; fill:none\" points=\"\n",
       "  241.157,766.924 251.167,746.097 261.177,725.289 353.738,537.278 446.299,367.624 501.925,280.251 557.55,206.989 581.065,180.793 604.58,157.64 628.095,137.65 \n",
       "  651.611,120.927 702.699,96.2473 753.787,87.9763 800.886,95.0695 847.985,116.138 898.48,153.744 948.975,206.006 1007.48,283.223 1065.98,375.949 1117.97,468.975 \n",
       "  1169.96,569.55 1215.55,661.951 1261.15,756.397 1310.85,859.54 1360.56,960.537 1410.56,1057.61 1460.56,1147.86 1515.85,1237.17 1571.13,1313.02 1623.73,1370.7 \n",
       "  1676.33,1412.71 1703.68,1427.99 1731.03,1438.63 1758.37,1444.55 1785.72,1445.72 1831.76,1436.92 1877.8,1414.81 1934.01,1370.43 1990.22,1308.17 2043.06,1235 \n",
       "  2095.9,1149.58 2180.55,992.893 2265.2,821.083 2278.23,794.025 2291.25,766.924 \n",
       "  \"/>\n",
       "<circle clip-path=\"url(#clip772)\" cx=\"241.157\" cy=\"766.924\" r=\"14\" fill=\"#e26f46\" fill-rule=\"evenodd\" fill-opacity=\"1\" stroke=\"#000000\" stroke-opacity=\"1\" stroke-width=\"3.2\"/>\n",
       "<circle clip-path=\"url(#clip772)\" cx=\"309.493\" cy=\"631.025\" r=\"14\" fill=\"#e26f46\" fill-rule=\"evenodd\" fill-opacity=\"1\" stroke=\"#000000\" stroke-opacity=\"1\" stroke-width=\"3.2\"/>\n",
       "<circle clip-path=\"url(#clip772)\" cx=\"377.83\" cy=\"495.126\" r=\"14\" fill=\"#e26f46\" fill-rule=\"evenodd\" fill-opacity=\"1\" stroke=\"#000000\" stroke-opacity=\"1\" stroke-width=\"3.2\"/>\n",
       "<circle clip-path=\"url(#clip772)\" cx=\"446.166\" cy=\"371.34\" r=\"14\" fill=\"#e26f46\" fill-rule=\"evenodd\" fill-opacity=\"1\" stroke=\"#000000\" stroke-opacity=\"1\" stroke-width=\"3.2\"/>\n",
       "<circle clip-path=\"url(#clip772)\" cx=\"514.503\" cy=\"265.06\" r=\"14\" fill=\"#e26f46\" fill-rule=\"evenodd\" fill-opacity=\"1\" stroke=\"#000000\" stroke-opacity=\"1\" stroke-width=\"3.2\"/>\n",
       "<circle clip-path=\"url(#clip772)\" cx=\"582.839\" cy=\"180.912\" r=\"14\" fill=\"#e26f46\" fill-rule=\"evenodd\" fill-opacity=\"1\" stroke=\"#000000\" stroke-opacity=\"1\" stroke-width=\"3.2\"/>\n",
       "<circle clip-path=\"url(#clip772)\" cx=\"651.176\" cy=\"122.556\" r=\"14\" fill=\"#e26f46\" fill-rule=\"evenodd\" fill-opacity=\"1\" stroke=\"#000000\" stroke-opacity=\"1\" stroke-width=\"3.2\"/>\n",
       "<circle clip-path=\"url(#clip772)\" cx=\"719.512\" cy=\"92.5243\" r=\"14\" fill=\"#e26f46\" fill-rule=\"evenodd\" fill-opacity=\"1\" stroke=\"#000000\" stroke-opacity=\"1\" stroke-width=\"3.2\"/>\n",
       "<circle clip-path=\"url(#clip772)\" cx=\"787.849\" cy=\"92.1115\" r=\"14\" fill=\"#e26f46\" fill-rule=\"evenodd\" fill-opacity=\"1\" stroke=\"#000000\" stroke-opacity=\"1\" stroke-width=\"3.2\"/>\n",
       "<circle clip-path=\"url(#clip772)\" cx=\"856.185\" cy=\"121.318\" r=\"14\" fill=\"#e26f46\" fill-rule=\"evenodd\" fill-opacity=\"1\" stroke=\"#000000\" stroke-opacity=\"1\" stroke-width=\"3.2\"/>\n",
       "<circle clip-path=\"url(#clip772)\" cx=\"924.522\" cy=\"178.848\" r=\"14\" fill=\"#e26f46\" fill-rule=\"evenodd\" fill-opacity=\"1\" stroke=\"#000000\" stroke-opacity=\"1\" stroke-width=\"3.2\"/>\n",
       "<circle clip-path=\"url(#clip772)\" cx=\"992.859\" cy=\"262.17\" r=\"14\" fill=\"#e26f46\" fill-rule=\"evenodd\" fill-opacity=\"1\" stroke=\"#000000\" stroke-opacity=\"1\" stroke-width=\"3.2\"/>\n",
       "<circle clip-path=\"url(#clip772)\" cx=\"1061.2\" cy=\"367.625\" r=\"14\" fill=\"#e26f46\" fill-rule=\"evenodd\" fill-opacity=\"1\" stroke=\"#000000\" stroke-opacity=\"1\" stroke-width=\"3.2\"/>\n",
       "<circle clip-path=\"url(#clip772)\" cx=\"1129.53\" cy=\"490.585\" r=\"14\" fill=\"#e26f46\" fill-rule=\"evenodd\" fill-opacity=\"1\" stroke=\"#000000\" stroke-opacity=\"1\" stroke-width=\"3.2\"/>\n",
       "<circle clip-path=\"url(#clip772)\" cx=\"1197.87\" cy=\"625.658\" r=\"14\" fill=\"#e26f46\" fill-rule=\"evenodd\" fill-opacity=\"1\" stroke=\"#000000\" stroke-opacity=\"1\" stroke-width=\"3.2\"/>\n",
       "<circle clip-path=\"url(#clip772)\" cx=\"1266.2\" cy=\"766.924\" r=\"14\" fill=\"#e26f46\" fill-rule=\"evenodd\" fill-opacity=\"1\" stroke=\"#000000\" stroke-opacity=\"1\" stroke-width=\"3.2\"/>\n",
       "<circle clip-path=\"url(#clip772)\" cx=\"1334.54\" cy=\"908.189\" r=\"14\" fill=\"#e26f46\" fill-rule=\"evenodd\" fill-opacity=\"1\" stroke=\"#000000\" stroke-opacity=\"1\" stroke-width=\"3.2\"/>\n",
       "<circle clip-path=\"url(#clip772)\" cx=\"1402.88\" cy=\"1043.26\" r=\"14\" fill=\"#e26f46\" fill-rule=\"evenodd\" fill-opacity=\"1\" stroke=\"#000000\" stroke-opacity=\"1\" stroke-width=\"3.2\"/>\n",
       "<circle clip-path=\"url(#clip772)\" cx=\"1471.21\" cy=\"1166.22\" r=\"14\" fill=\"#e26f46\" fill-rule=\"evenodd\" fill-opacity=\"1\" stroke=\"#000000\" stroke-opacity=\"1\" stroke-width=\"3.2\"/>\n",
       "<circle clip-path=\"url(#clip772)\" cx=\"1539.55\" cy=\"1271.68\" r=\"14\" fill=\"#e26f46\" fill-rule=\"evenodd\" fill-opacity=\"1\" stroke=\"#000000\" stroke-opacity=\"1\" stroke-width=\"3.2\"/>\n",
       "<circle clip-path=\"url(#clip772)\" cx=\"1607.89\" cy=\"1355\" r=\"14\" fill=\"#e26f46\" fill-rule=\"evenodd\" fill-opacity=\"1\" stroke=\"#000000\" stroke-opacity=\"1\" stroke-width=\"3.2\"/>\n",
       "<circle clip-path=\"url(#clip772)\" cx=\"1676.22\" cy=\"1412.53\" r=\"14\" fill=\"#e26f46\" fill-rule=\"evenodd\" fill-opacity=\"1\" stroke=\"#000000\" stroke-opacity=\"1\" stroke-width=\"3.2\"/>\n",
       "<circle clip-path=\"url(#clip772)\" cx=\"1744.56\" cy=\"1441.74\" r=\"14\" fill=\"#e26f46\" fill-rule=\"evenodd\" fill-opacity=\"1\" stroke=\"#000000\" stroke-opacity=\"1\" stroke-width=\"3.2\"/>\n",
       "<circle clip-path=\"url(#clip772)\" cx=\"1812.9\" cy=\"1441.32\" r=\"14\" fill=\"#e26f46\" fill-rule=\"evenodd\" fill-opacity=\"1\" stroke=\"#000000\" stroke-opacity=\"1\" stroke-width=\"3.2\"/>\n",
       "<circle clip-path=\"url(#clip772)\" cx=\"1881.23\" cy=\"1411.29\" r=\"14\" fill=\"#e26f46\" fill-rule=\"evenodd\" fill-opacity=\"1\" stroke=\"#000000\" stroke-opacity=\"1\" stroke-width=\"3.2\"/>\n",
       "<circle clip-path=\"url(#clip772)\" cx=\"1949.57\" cy=\"1352.94\" r=\"14\" fill=\"#e26f46\" fill-rule=\"evenodd\" fill-opacity=\"1\" stroke=\"#000000\" stroke-opacity=\"1\" stroke-width=\"3.2\"/>\n",
       "<circle clip-path=\"url(#clip772)\" cx=\"2017.91\" cy=\"1268.79\" r=\"14\" fill=\"#e26f46\" fill-rule=\"evenodd\" fill-opacity=\"1\" stroke=\"#000000\" stroke-opacity=\"1\" stroke-width=\"3.2\"/>\n",
       "<circle clip-path=\"url(#clip772)\" cx=\"2086.24\" cy=\"1162.51\" r=\"14\" fill=\"#e26f46\" fill-rule=\"evenodd\" fill-opacity=\"1\" stroke=\"#000000\" stroke-opacity=\"1\" stroke-width=\"3.2\"/>\n",
       "<circle clip-path=\"url(#clip772)\" cx=\"2154.58\" cy=\"1038.72\" r=\"14\" fill=\"#e26f46\" fill-rule=\"evenodd\" fill-opacity=\"1\" stroke=\"#000000\" stroke-opacity=\"1\" stroke-width=\"3.2\"/>\n",
       "<circle clip-path=\"url(#clip772)\" cx=\"2222.92\" cy=\"902.823\" r=\"14\" fill=\"#e26f46\" fill-rule=\"evenodd\" fill-opacity=\"1\" stroke=\"#000000\" stroke-opacity=\"1\" stroke-width=\"3.2\"/>\n",
       "<circle clip-path=\"url(#clip772)\" cx=\"2291.25\" cy=\"766.924\" r=\"14\" fill=\"#e26f46\" fill-rule=\"evenodd\" fill-opacity=\"1\" stroke=\"#000000\" stroke-opacity=\"1\" stroke-width=\"3.2\"/>\n",
       "</svg>\n"
      ]
     },
     "execution_count": 36,
     "metadata": {},
     "output_type": "execute_result"
    }
   ],
   "source": [
    "#Teste 2\n",
    "\n",
    "g(x) = sin(x)\n",
    "gd(x) = cos(x)\n",
    "gdd(x) = -sin(x)\n",
    "x_inicial = 0\n",
    "y_inicial = 0\n",
    "x_final = 2*pi\n",
    "y_final = 0\n",
    "n = 30\n",
    "\n",
    "y = Any[y_inicial]\n",
    "for e in resolver_PVC(gdd, x_inicial, y_inicial, x_final, y_final, n)\n",
    "    push!(y, e)\n",
    "end\n",
    "push!(y, y_final)\n",
    "\n",
    "plot(g, x_inicial, x_final)\n",
    "\n",
    "h = (x_final - x_inicial)/(n)\n",
    "scatter!(x_inicial:h:x_final, y, leg=false)"
   ]
  },
  {
   "cell_type": "code",
   "execution_count": 37,
   "metadata": {},
   "outputs": [
    {
     "data": {
      "image/svg+xml": [
       "<?xml version=\"1.0\" encoding=\"utf-8\"?>\n",
       "<svg xmlns=\"http://www.w3.org/2000/svg\" xmlns:xlink=\"http://www.w3.org/1999/xlink\" width=\"600\" height=\"400\" viewBox=\"0 0 2400 1600\">\n",
       "<defs>\n",
       "  <clipPath id=\"clip810\">\n",
       "    <rect x=\"0\" y=\"0\" width=\"2400\" height=\"1600\"/>\n",
       "  </clipPath>\n",
       "</defs>\n",
       "<path clip-path=\"url(#clip810)\" d=\"\n",
       "M0 1600 L2400 1600 L2400 0 L0 0  Z\n",
       "  \" fill=\"#ffffff\" fill-rule=\"evenodd\" fill-opacity=\"1\"/>\n",
       "<defs>\n",
       "  <clipPath id=\"clip811\">\n",
       "    <rect x=\"480\" y=\"0\" width=\"1681\" height=\"1600\"/>\n",
       "  </clipPath>\n",
       "</defs>\n",
       "<path clip-path=\"url(#clip810)\" d=\"\n",
       "M147.848 1486.45 L2352.76 1486.45 L2352.76 47.2441 L147.848 47.2441  Z\n",
       "  \" fill=\"#ffffff\" fill-rule=\"evenodd\" fill-opacity=\"1\"/>\n",
       "<defs>\n",
       "  <clipPath id=\"clip812\">\n",
       "    <rect x=\"147\" y=\"47\" width=\"2206\" height=\"1440\"/>\n",
       "  </clipPath>\n",
       "</defs>\n",
       "<polyline clip-path=\"url(#clip812)\" style=\"stroke:#000000; stroke-width:2; stroke-opacity:0.1; fill:none\" points=\"\n",
       "  210.251,1486.45 210.251,47.2441 \n",
       "  \"/>\n",
       "<polyline clip-path=\"url(#clip812)\" style=\"stroke:#000000; stroke-width:2; stroke-opacity:0.1; fill:none\" points=\"\n",
       "  535.824,1486.45 535.824,47.2441 \n",
       "  \"/>\n",
       "<polyline clip-path=\"url(#clip812)\" style=\"stroke:#000000; stroke-width:2; stroke-opacity:0.1; fill:none\" points=\"\n",
       "  861.397,1486.45 861.397,47.2441 \n",
       "  \"/>\n",
       "<polyline clip-path=\"url(#clip812)\" style=\"stroke:#000000; stroke-width:2; stroke-opacity:0.1; fill:none\" points=\"\n",
       "  1186.97,1486.45 1186.97,47.2441 \n",
       "  \"/>\n",
       "<polyline clip-path=\"url(#clip812)\" style=\"stroke:#000000; stroke-width:2; stroke-opacity:0.1; fill:none\" points=\"\n",
       "  1512.54,1486.45 1512.54,47.2441 \n",
       "  \"/>\n",
       "<polyline clip-path=\"url(#clip812)\" style=\"stroke:#000000; stroke-width:2; stroke-opacity:0.1; fill:none\" points=\"\n",
       "  1838.11,1486.45 1838.11,47.2441 \n",
       "  \"/>\n",
       "<polyline clip-path=\"url(#clip812)\" style=\"stroke:#000000; stroke-width:2; stroke-opacity:0.1; fill:none\" points=\"\n",
       "  2163.69,1486.45 2163.69,47.2441 \n",
       "  \"/>\n",
       "<polyline clip-path=\"url(#clip810)\" style=\"stroke:#000000; stroke-width:4; stroke-opacity:1; fill:none\" points=\"\n",
       "  147.848,1486.45 2352.76,1486.45 \n",
       "  \"/>\n",
       "<polyline clip-path=\"url(#clip810)\" style=\"stroke:#000000; stroke-width:4; stroke-opacity:1; fill:none\" points=\"\n",
       "  210.251,1486.45 210.251,1469.18 \n",
       "  \"/>\n",
       "<polyline clip-path=\"url(#clip810)\" style=\"stroke:#000000; stroke-width:4; stroke-opacity:1; fill:none\" points=\"\n",
       "  535.824,1486.45 535.824,1469.18 \n",
       "  \"/>\n",
       "<polyline clip-path=\"url(#clip810)\" style=\"stroke:#000000; stroke-width:4; stroke-opacity:1; fill:none\" points=\"\n",
       "  861.397,1486.45 861.397,1469.18 \n",
       "  \"/>\n",
       "<polyline clip-path=\"url(#clip810)\" style=\"stroke:#000000; stroke-width:4; stroke-opacity:1; fill:none\" points=\"\n",
       "  1186.97,1486.45 1186.97,1469.18 \n",
       "  \"/>\n",
       "<polyline clip-path=\"url(#clip810)\" style=\"stroke:#000000; stroke-width:4; stroke-opacity:1; fill:none\" points=\"\n",
       "  1512.54,1486.45 1512.54,1469.18 \n",
       "  \"/>\n",
       "<polyline clip-path=\"url(#clip810)\" style=\"stroke:#000000; stroke-width:4; stroke-opacity:1; fill:none\" points=\"\n",
       "  1838.11,1486.45 1838.11,1469.18 \n",
       "  \"/>\n",
       "<polyline clip-path=\"url(#clip810)\" style=\"stroke:#000000; stroke-width:4; stroke-opacity:1; fill:none\" points=\"\n",
       "  2163.69,1486.45 2163.69,1469.18 \n",
       "  \"/>\n",
       "<path clip-path=\"url(#clip810)\" d=\"M 0 0 M200.633 1543.18 L208.272 1543.18 L208.272 1516.82 L199.962 1518.49 L199.962 1514.23 L208.226 1512.56 L212.902 1512.56 L212.902 1543.18 L220.541 1543.18 L220.541 1547.12 L200.633 1547.12 L200.633 1543.18 Z\" fill=\"#000000\" fill-rule=\"evenodd\" fill-opacity=\"1\" /><path clip-path=\"url(#clip810)\" d=\"M 0 0 M530.477 1543.18 L546.796 1543.18 L546.796 1547.12 L524.852 1547.12 L524.852 1543.18 Q527.514 1540.43 532.097 1535.8 Q536.704 1531.15 537.884 1529.81 Q540.129 1527.28 541.009 1525.55 Q541.912 1523.79 541.912 1522.1 Q541.912 1519.34 539.967 1517.61 Q538.046 1515.87 534.944 1515.87 Q532.745 1515.87 530.292 1516.63 Q527.861 1517.4 525.083 1518.95 L525.083 1514.23 Q527.907 1513.09 530.361 1512.51 Q532.815 1511.93 534.852 1511.93 Q540.222 1511.93 543.416 1514.62 Q546.611 1517.31 546.611 1521.8 Q546.611 1523.93 545.801 1525.85 Q545.014 1527.74 542.907 1530.34 Q542.329 1531.01 539.227 1534.23 Q536.125 1537.42 530.477 1543.18 Z\" fill=\"#000000\" fill-rule=\"evenodd\" fill-opacity=\"1\" /><path clip-path=\"url(#clip810)\" d=\"M 0 0 M865.644 1528.49 Q869.001 1529.2 870.876 1531.47 Q872.774 1533.74 872.774 1537.07 Q872.774 1542.19 869.255 1544.99 Q865.737 1547.79 859.255 1547.79 Q857.079 1547.79 854.765 1547.35 Q852.473 1546.93 850.019 1546.08 L850.019 1541.56 Q851.964 1542.7 854.278 1543.28 Q856.593 1543.86 859.116 1543.86 Q863.515 1543.86 865.806 1542.12 Q868.121 1540.38 868.121 1537.07 Q868.121 1534.02 865.968 1532.31 Q863.839 1530.57 860.019 1530.57 L855.991 1530.57 L855.991 1526.73 L860.204 1526.73 Q863.653 1526.73 865.482 1525.36 Q867.311 1523.97 867.311 1521.38 Q867.311 1518.72 865.413 1517.31 Q863.538 1515.87 860.019 1515.87 Q858.098 1515.87 855.899 1516.29 Q853.7 1516.7 851.061 1517.58 L851.061 1513.42 Q853.723 1512.68 856.038 1512.31 Q858.376 1511.93 860.436 1511.93 Q865.76 1511.93 868.862 1514.37 Q871.964 1516.77 871.964 1520.89 Q871.964 1523.76 870.32 1525.75 Q868.677 1527.72 865.644 1528.49 Z\" fill=\"#000000\" fill-rule=\"evenodd\" fill-opacity=\"1\" /><path clip-path=\"url(#clip810)\" d=\"M 0 0 M1189.98 1516.63 L1178.17 1535.08 L1189.98 1535.08 L1189.98 1516.63 M1188.75 1512.56 L1194.63 1512.56 L1194.63 1535.08 L1199.56 1535.08 L1199.56 1538.97 L1194.63 1538.97 L1194.63 1547.12 L1189.98 1547.12 L1189.98 1538.97 L1174.38 1538.97 L1174.38 1534.46 L1188.75 1512.56 Z\" fill=\"#000000\" fill-rule=\"evenodd\" fill-opacity=\"1\" /><path clip-path=\"url(#clip810)\" d=\"M 0 0 M1502.82 1512.56 L1521.18 1512.56 L1521.18 1516.5 L1507.1 1516.5 L1507.1 1524.97 Q1508.12 1524.62 1509.14 1524.46 Q1510.16 1524.27 1511.18 1524.27 Q1516.96 1524.27 1520.34 1527.44 Q1523.72 1530.62 1523.72 1536.03 Q1523.72 1541.61 1520.25 1544.71 Q1516.78 1547.79 1510.46 1547.79 Q1508.28 1547.79 1506.01 1547.42 Q1503.77 1547.05 1501.36 1546.31 L1501.36 1541.61 Q1503.44 1542.74 1505.67 1543.3 Q1507.89 1543.86 1510.37 1543.86 Q1514.37 1543.86 1516.71 1541.75 Q1519.05 1539.64 1519.05 1536.03 Q1519.05 1532.42 1516.71 1530.31 Q1514.37 1528.21 1510.37 1528.21 Q1508.49 1528.21 1506.62 1528.62 Q1504.76 1529.04 1502.82 1529.92 L1502.82 1512.56 Z\" fill=\"#000000\" fill-rule=\"evenodd\" fill-opacity=\"1\" /><path clip-path=\"url(#clip810)\" d=\"M 0 0 M1838.52 1527.98 Q1835.37 1527.98 1833.52 1530.13 Q1831.69 1532.28 1831.69 1536.03 Q1831.69 1539.76 1833.52 1541.93 Q1835.37 1544.09 1838.52 1544.09 Q1841.67 1544.09 1843.5 1541.93 Q1845.35 1539.76 1845.35 1536.03 Q1845.35 1532.28 1843.5 1530.13 Q1841.67 1527.98 1838.52 1527.98 M1847.8 1513.32 L1847.8 1517.58 Q1846.04 1516.75 1844.24 1516.31 Q1842.45 1515.87 1840.7 1515.87 Q1836.07 1515.87 1833.61 1519 Q1831.18 1522.12 1830.83 1528.44 Q1832.2 1526.43 1834.26 1525.36 Q1836.32 1524.27 1838.8 1524.27 Q1844.01 1524.27 1847.01 1527.44 Q1850.05 1530.59 1850.05 1536.03 Q1850.05 1541.36 1846.9 1544.57 Q1843.75 1547.79 1838.52 1547.79 Q1832.52 1547.79 1829.35 1543.21 Q1826.18 1538.6 1826.18 1529.87 Q1826.18 1521.68 1830.07 1516.82 Q1833.96 1511.93 1840.51 1511.93 Q1842.27 1511.93 1844.05 1512.28 Q1845.86 1512.63 1847.8 1513.32 Z\" fill=\"#000000\" fill-rule=\"evenodd\" fill-opacity=\"1\" /><path clip-path=\"url(#clip810)\" d=\"M 0 0 M2152.58 1512.56 L2174.8 1512.56 L2174.8 1514.55 L2162.25 1547.12 L2157.37 1547.12 L2169.17 1516.5 L2152.58 1516.5 L2152.58 1512.56 Z\" fill=\"#000000\" fill-rule=\"evenodd\" fill-opacity=\"1\" /><polyline clip-path=\"url(#clip812)\" style=\"stroke:#000000; stroke-width:2; stroke-opacity:0.1; fill:none\" points=\"\n",
       "  147.848,1445.72 2352.76,1445.72 \n",
       "  \"/>\n",
       "<polyline clip-path=\"url(#clip812)\" style=\"stroke:#000000; stroke-width:2; stroke-opacity:0.1; fill:none\" points=\"\n",
       "  147.848,1106.28 2352.76,1106.28 \n",
       "  \"/>\n",
       "<polyline clip-path=\"url(#clip812)\" style=\"stroke:#000000; stroke-width:2; stroke-opacity:0.1; fill:none\" points=\"\n",
       "  147.848,766.846 2352.76,766.846 \n",
       "  \"/>\n",
       "<polyline clip-path=\"url(#clip812)\" style=\"stroke:#000000; stroke-width:2; stroke-opacity:0.1; fill:none\" points=\"\n",
       "  147.848,427.411 2352.76,427.411 \n",
       "  \"/>\n",
       "<polyline clip-path=\"url(#clip812)\" style=\"stroke:#000000; stroke-width:2; stroke-opacity:0.1; fill:none\" points=\"\n",
       "  147.848,87.9763 2352.76,87.9763 \n",
       "  \"/>\n",
       "<polyline clip-path=\"url(#clip810)\" style=\"stroke:#000000; stroke-width:4; stroke-opacity:1; fill:none\" points=\"\n",
       "  147.848,1486.45 147.848,47.2441 \n",
       "  \"/>\n",
       "<polyline clip-path=\"url(#clip810)\" style=\"stroke:#000000; stroke-width:4; stroke-opacity:1; fill:none\" points=\"\n",
       "  147.848,1445.72 174.307,1445.72 \n",
       "  \"/>\n",
       "<polyline clip-path=\"url(#clip810)\" style=\"stroke:#000000; stroke-width:4; stroke-opacity:1; fill:none\" points=\"\n",
       "  147.848,1106.28 174.307,1106.28 \n",
       "  \"/>\n",
       "<polyline clip-path=\"url(#clip810)\" style=\"stroke:#000000; stroke-width:4; stroke-opacity:1; fill:none\" points=\"\n",
       "  147.848,766.846 174.307,766.846 \n",
       "  \"/>\n",
       "<polyline clip-path=\"url(#clip810)\" style=\"stroke:#000000; stroke-width:4; stroke-opacity:1; fill:none\" points=\"\n",
       "  147.848,427.411 174.307,427.411 \n",
       "  \"/>\n",
       "<polyline clip-path=\"url(#clip810)\" style=\"stroke:#000000; stroke-width:4; stroke-opacity:1; fill:none\" points=\"\n",
       "  147.848,87.9763 174.307,87.9763 \n",
       "  \"/>\n",
       "<path clip-path=\"url(#clip810)\" d=\"M 0 0 M62.9365 1431.51 Q59.3254 1431.51 57.4967 1435.08 Q55.6912 1438.62 55.6912 1445.75 Q55.6912 1452.86 57.4967 1456.42 Q59.3254 1459.96 62.9365 1459.96 Q66.5707 1459.96 68.3763 1456.42 Q70.205 1452.86 70.205 1445.75 Q70.205 1438.62 68.3763 1435.08 Q66.5707 1431.51 62.9365 1431.51 M62.9365 1427.81 Q68.7467 1427.81 71.8022 1432.42 Q74.8809 1437 74.8809 1445.75 Q74.8809 1454.48 71.8022 1459.08 Q68.7467 1463.67 62.9365 1463.67 Q57.1264 1463.67 54.0477 1459.08 Q50.9921 1454.48 50.9921 1445.75 Q50.9921 1437 54.0477 1432.42 Q57.1264 1427.81 62.9365 1427.81 Z\" fill=\"#000000\" fill-rule=\"evenodd\" fill-opacity=\"1\" /><path clip-path=\"url(#clip810)\" d=\"M 0 0 M79.9503 1457.12 L84.8345 1457.12 L84.8345 1463 L79.9503 1463 L79.9503 1457.12 Z\" fill=\"#000000\" fill-rule=\"evenodd\" fill-opacity=\"1\" /><path clip-path=\"url(#clip810)\" d=\"M 0 0 M99.9039 1431.51 Q96.2928 1431.51 94.4641 1435.08 Q92.6586 1438.62 92.6586 1445.75 Q92.6586 1452.86 94.4641 1456.42 Q96.2928 1459.96 99.9039 1459.96 Q103.538 1459.96 105.344 1456.42 Q107.172 1452.86 107.172 1445.75 Q107.172 1438.62 105.344 1435.08 Q103.538 1431.51 99.9039 1431.51 M99.9039 1427.81 Q105.714 1427.81 108.77 1432.42 Q111.848 1437 111.848 1445.75 Q111.848 1454.48 108.77 1459.08 Q105.714 1463.67 99.9039 1463.67 Q94.0937 1463.67 91.0151 1459.08 Q87.9595 1454.48 87.9595 1445.75 Q87.9595 1437 91.0151 1432.42 Q94.0937 1427.81 99.9039 1427.81 Z\" fill=\"#000000\" fill-rule=\"evenodd\" fill-opacity=\"1\" /><path clip-path=\"url(#clip810)\" d=\"M 0 0 M63.9319 1092.08 Q60.3208 1092.08 58.4921 1095.64 Q56.6865 1099.19 56.6865 1106.32 Q56.6865 1113.42 58.4921 1116.99 Q60.3208 1120.53 63.9319 1120.53 Q67.5661 1120.53 69.3717 1116.99 Q71.2004 1113.42 71.2004 1106.32 Q71.2004 1099.19 69.3717 1095.64 Q67.5661 1092.08 63.9319 1092.08 M63.9319 1088.38 Q69.742 1088.38 72.7976 1092.98 Q75.8763 1097.57 75.8763 1106.32 Q75.8763 1115.04 72.7976 1119.65 Q69.742 1124.23 63.9319 1124.23 Q58.1217 1124.23 55.043 1119.65 Q51.9875 1115.04 51.9875 1106.32 Q51.9875 1097.57 55.043 1092.98 Q58.1217 1088.38 63.9319 1088.38 Z\" fill=\"#000000\" fill-rule=\"evenodd\" fill-opacity=\"1\" /><path clip-path=\"url(#clip810)\" d=\"M 0 0 M80.9457 1117.68 L85.8299 1117.68 L85.8299 1123.56 L80.9457 1123.56 L80.9457 1117.68 Z\" fill=\"#000000\" fill-rule=\"evenodd\" fill-opacity=\"1\" /><path clip-path=\"url(#clip810)\" d=\"M 0 0 M90.9456 1089 L109.302 1089 L109.302 1092.94 L95.228 1092.94 L95.228 1101.41 Q96.2465 1101.06 97.265 1100.9 Q98.2835 1100.71 99.3021 1100.71 Q105.089 1100.71 108.469 1103.89 Q111.848 1107.06 111.848 1112.47 Q111.848 1118.05 108.376 1121.15 Q104.904 1124.23 98.5845 1124.23 Q96.4085 1124.23 94.14 1123.86 Q91.8947 1123.49 89.4873 1122.75 L89.4873 1118.05 Q91.5706 1119.19 93.7928 1119.74 Q96.015 1120.3 98.4919 1120.3 Q102.496 1120.3 104.834 1118.19 Q107.172 1116.08 107.172 1112.47 Q107.172 1108.86 104.834 1106.76 Q102.496 1104.65 98.4919 1104.65 Q96.6169 1104.65 94.7419 1105.07 Q92.89 1105.48 90.9456 1106.36 L90.9456 1089 Z\" fill=\"#000000\" fill-rule=\"evenodd\" fill-opacity=\"1\" /><path clip-path=\"url(#clip810)\" d=\"M 0 0 M54.9736 780.191 L62.6124 780.191 L62.6124 753.825 L54.3023 755.492 L54.3023 751.233 L62.5661 749.566 L67.242 749.566 L67.242 780.191 L74.8809 780.191 L74.8809 784.126 L54.9736 784.126 L54.9736 780.191 Z\" fill=\"#000000\" fill-rule=\"evenodd\" fill-opacity=\"1\" /><path clip-path=\"url(#clip810)\" d=\"M 0 0 M79.9503 778.246 L84.8345 778.246 L84.8345 784.126 L79.9503 784.126 L79.9503 778.246 Z\" fill=\"#000000\" fill-rule=\"evenodd\" fill-opacity=\"1\" /><path clip-path=\"url(#clip810)\" d=\"M 0 0 M99.9039 752.645 Q96.2928 752.645 94.4641 756.209 Q92.6586 759.751 92.6586 766.881 Q92.6586 773.987 94.4641 777.552 Q96.2928 781.094 99.9039 781.094 Q103.538 781.094 105.344 777.552 Q107.172 773.987 107.172 766.881 Q107.172 759.751 105.344 756.209 Q103.538 752.645 99.9039 752.645 M99.9039 748.941 Q105.714 748.941 108.77 753.547 Q111.848 758.131 111.848 766.881 Q111.848 775.608 108.77 780.214 Q105.714 784.797 99.9039 784.797 Q94.0937 784.797 91.0151 780.214 Q87.9595 775.608 87.9595 766.881 Q87.9595 758.131 91.0151 753.547 Q94.0937 748.941 99.9039 748.941 Z\" fill=\"#000000\" fill-rule=\"evenodd\" fill-opacity=\"1\" /><path clip-path=\"url(#clip810)\" d=\"M 0 0 M55.969 440.756 L63.6078 440.756 L63.6078 414.39 L55.2977 416.057 L55.2977 411.798 L63.5615 410.131 L68.2374 410.131 L68.2374 440.756 L75.8763 440.756 L75.8763 444.691 L55.969 444.691 L55.969 440.756 Z\" fill=\"#000000\" fill-rule=\"evenodd\" fill-opacity=\"1\" /><path clip-path=\"url(#clip810)\" d=\"M 0 0 M80.9457 438.812 L85.8299 438.812 L85.8299 444.691 L80.9457 444.691 L80.9457 438.812 Z\" fill=\"#000000\" fill-rule=\"evenodd\" fill-opacity=\"1\" /><path clip-path=\"url(#clip810)\" d=\"M 0 0 M90.9456 410.131 L109.302 410.131 L109.302 414.066 L95.228 414.066 L95.228 422.538 Q96.2465 422.191 97.265 422.029 Q98.2835 421.844 99.3021 421.844 Q105.089 421.844 108.469 425.015 Q111.848 428.187 111.848 433.603 Q111.848 439.182 108.376 442.284 Q104.904 445.362 98.5845 445.362 Q96.4085 445.362 94.14 444.992 Q91.8947 444.622 89.4873 443.881 L89.4873 439.182 Q91.5706 440.316 93.7928 440.872 Q96.015 441.427 98.4919 441.427 Q102.496 441.427 104.834 439.321 Q107.172 437.214 107.172 433.603 Q107.172 429.992 104.834 427.886 Q102.496 425.779 98.4919 425.779 Q96.6169 425.779 94.7419 426.196 Q92.89 426.613 90.9456 427.492 L90.9456 410.131 Z\" fill=\"#000000\" fill-rule=\"evenodd\" fill-opacity=\"1\" /><path clip-path=\"url(#clip810)\" d=\"M 0 0 M58.5615 101.321 L74.8809 101.321 L74.8809 105.256 L52.9366 105.256 L52.9366 101.321 Q55.5986 98.5665 60.1819 93.9369 Q64.7883 89.2841 65.9689 87.9416 Q68.2143 85.4184 69.0939 83.6823 Q69.9967 81.9231 69.9967 80.2333 Q69.9967 77.4786 68.0522 75.7425 Q66.1309 74.0064 63.0291 74.0064 Q60.83 74.0064 58.3763 74.7703 Q55.9458 75.5342 53.168 77.0851 L53.168 72.3629 Q55.9921 71.2287 58.4458 70.65 Q60.8995 70.0713 62.9365 70.0713 Q68.3068 70.0713 71.5013 72.7565 Q74.6957 75.4416 74.6957 79.9323 Q74.6957 82.062 73.8855 83.9832 Q73.0985 85.8814 70.992 88.474 Q70.4133 89.1453 67.3115 92.3628 Q64.2096 95.5573 58.5615 101.321 Z\" fill=\"#000000\" fill-rule=\"evenodd\" fill-opacity=\"1\" /><path clip-path=\"url(#clip810)\" d=\"M 0 0 M79.9503 99.3767 L84.8345 99.3767 L84.8345 105.256 L79.9503 105.256 L79.9503 99.3767 Z\" fill=\"#000000\" fill-rule=\"evenodd\" fill-opacity=\"1\" /><path clip-path=\"url(#clip810)\" d=\"M 0 0 M99.9039 73.775 Q96.2928 73.775 94.4641 77.3398 Q92.6586 80.8814 92.6586 88.011 Q92.6586 95.1174 94.4641 98.6822 Q96.2928 102.224 99.9039 102.224 Q103.538 102.224 105.344 98.6822 Q107.172 95.1174 107.172 88.011 Q107.172 80.8814 105.344 77.3398 Q103.538 73.775 99.9039 73.775 M99.9039 70.0713 Q105.714 70.0713 108.77 74.6777 Q111.848 79.261 111.848 88.011 Q111.848 96.7378 108.77 101.344 Q105.714 105.928 99.9039 105.928 Q94.0937 105.928 91.0151 101.344 Q87.9595 96.7378 87.9595 88.011 Q87.9595 79.261 91.0151 74.6777 Q94.0937 70.0713 99.9039 70.0713 Z\" fill=\"#000000\" fill-rule=\"evenodd\" fill-opacity=\"1\" /><polyline clip-path=\"url(#clip812)\" style=\"stroke:#009af9; stroke-width:4; stroke-opacity:1; fill:none\" points=\"\n",
       "  210.251,1445.72 215.33,1435.21 220.408,1424.86 225.487,1414.67 230.565,1404.63 277.523,1318.21 324.481,1241.55 371.439,1172.68 418.397,1110.16 474.836,1041.92 \n",
       "  531.275,979.918 578.994,931.58 626.713,886.456 730.385,797.676 825.961,724.988 928.429,654.839 1047.15,581.707 1152.65,522.732 1245.17,474.922 1346.04,426.368 \n",
       "  1447.51,380.796 1559.69,333.733 1666.43,291.794 1777.42,250.772 1870.85,218.063 1984.91,180.154 2092.14,146.352 2263.92,95.4778 2290.35,87.9763 \n",
       "  \"/>\n",
       "<circle clip-path=\"url(#clip812)\" cx=\"210.251\" cy=\"1445.72\" r=\"14\" fill=\"#e26f46\" fill-rule=\"evenodd\" fill-opacity=\"1\" stroke=\"#000000\" stroke-opacity=\"1\" stroke-width=\"3.2\"/>\n",
       "<circle clip-path=\"url(#clip812)\" cx=\"279.588\" cy=\"1305.83\" r=\"14\" fill=\"#e26f46\" fill-rule=\"evenodd\" fill-opacity=\"1\" stroke=\"#000000\" stroke-opacity=\"1\" stroke-width=\"3.2\"/>\n",
       "<circle clip-path=\"url(#clip812)\" cx=\"348.925\" cy=\"1196.74\" r=\"14\" fill=\"#e26f46\" fill-rule=\"evenodd\" fill-opacity=\"1\" stroke=\"#000000\" stroke-opacity=\"1\" stroke-width=\"3.2\"/>\n",
       "<circle clip-path=\"url(#clip812)\" cx=\"418.261\" cy=\"1102.79\" r=\"14\" fill=\"#e26f46\" fill-rule=\"evenodd\" fill-opacity=\"1\" stroke=\"#000000\" stroke-opacity=\"1\" stroke-width=\"3.2\"/>\n",
       "<circle clip-path=\"url(#clip812)\" cx=\"487.598\" cy=\"1020.31\" r=\"14\" fill=\"#e26f46\" fill-rule=\"evenodd\" fill-opacity=\"1\" stroke=\"#000000\" stroke-opacity=\"1\" stroke-width=\"3.2\"/>\n",
       "<circle clip-path=\"url(#clip812)\" cx=\"556.935\" cy=\"946.803\" r=\"14\" fill=\"#e26f46\" fill-rule=\"evenodd\" fill-opacity=\"1\" stroke=\"#000000\" stroke-opacity=\"1\" stroke-width=\"3.2\"/>\n",
       "<circle clip-path=\"url(#clip812)\" cx=\"626.272\" cy=\"880.518\" r=\"14\" fill=\"#e26f46\" fill-rule=\"evenodd\" fill-opacity=\"1\" stroke=\"#000000\" stroke-opacity=\"1\" stroke-width=\"3.2\"/>\n",
       "<circle clip-path=\"url(#clip812)\" cx=\"695.608\" cy=\"820.168\" r=\"14\" fill=\"#e26f46\" fill-rule=\"evenodd\" fill-opacity=\"1\" stroke=\"#000000\" stroke-opacity=\"1\" stroke-width=\"3.2\"/>\n",
       "<circle clip-path=\"url(#clip812)\" cx=\"764.945\" cy=\"764.781\" r=\"14\" fill=\"#e26f46\" fill-rule=\"evenodd\" fill-opacity=\"1\" stroke=\"#000000\" stroke-opacity=\"1\" stroke-width=\"3.2\"/>\n",
       "<circle clip-path=\"url(#clip812)\" cx=\"834.282\" cy=\"713.605\" r=\"14\" fill=\"#e26f46\" fill-rule=\"evenodd\" fill-opacity=\"1\" stroke=\"#000000\" stroke-opacity=\"1\" stroke-width=\"3.2\"/>\n",
       "<circle clip-path=\"url(#clip812)\" cx=\"903.619\" cy=\"666.049\" r=\"14\" fill=\"#e26f46\" fill-rule=\"evenodd\" fill-opacity=\"1\" stroke=\"#000000\" stroke-opacity=\"1\" stroke-width=\"3.2\"/>\n",
       "<circle clip-path=\"url(#clip812)\" cx=\"972.955\" cy=\"621.637\" r=\"14\" fill=\"#e26f46\" fill-rule=\"evenodd\" fill-opacity=\"1\" stroke=\"#000000\" stroke-opacity=\"1\" stroke-width=\"3.2\"/>\n",
       "<circle clip-path=\"url(#clip812)\" cx=\"1042.29\" cy=\"579.98\" r=\"14\" fill=\"#e26f46\" fill-rule=\"evenodd\" fill-opacity=\"1\" stroke=\"#000000\" stroke-opacity=\"1\" stroke-width=\"3.2\"/>\n",
       "<circle clip-path=\"url(#clip812)\" cx=\"1111.63\" cy=\"540.759\" r=\"14\" fill=\"#e26f46\" fill-rule=\"evenodd\" fill-opacity=\"1\" stroke=\"#000000\" stroke-opacity=\"1\" stroke-width=\"3.2\"/>\n",
       "<circle clip-path=\"url(#clip812)\" cx=\"1180.97\" cy=\"503.706\" r=\"14\" fill=\"#e26f46\" fill-rule=\"evenodd\" fill-opacity=\"1\" stroke=\"#000000\" stroke-opacity=\"1\" stroke-width=\"3.2\"/>\n",
       "<circle clip-path=\"url(#clip812)\" cx=\"1250.3\" cy=\"468.595\" r=\"14\" fill=\"#e26f46\" fill-rule=\"evenodd\" fill-opacity=\"1\" stroke=\"#000000\" stroke-opacity=\"1\" stroke-width=\"3.2\"/>\n",
       "<circle clip-path=\"url(#clip812)\" cx=\"1319.64\" cy=\"435.234\" r=\"14\" fill=\"#e26f46\" fill-rule=\"evenodd\" fill-opacity=\"1\" stroke=\"#000000\" stroke-opacity=\"1\" stroke-width=\"3.2\"/>\n",
       "<circle clip-path=\"url(#clip812)\" cx=\"1388.98\" cy=\"403.458\" r=\"14\" fill=\"#e26f46\" fill-rule=\"evenodd\" fill-opacity=\"1\" stroke=\"#000000\" stroke-opacity=\"1\" stroke-width=\"3.2\"/>\n",
       "<circle clip-path=\"url(#clip812)\" cx=\"1458.31\" cy=\"373.124\" r=\"14\" fill=\"#e26f46\" fill-rule=\"evenodd\" fill-opacity=\"1\" stroke=\"#000000\" stroke-opacity=\"1\" stroke-width=\"3.2\"/>\n",
       "<circle clip-path=\"url(#clip812)\" cx=\"1527.65\" cy=\"344.108\" r=\"14\" fill=\"#e26f46\" fill-rule=\"evenodd\" fill-opacity=\"1\" stroke=\"#000000\" stroke-opacity=\"1\" stroke-width=\"3.2\"/>\n",
       "<circle clip-path=\"url(#clip812)\" cx=\"1596.99\" cy=\"316.302\" r=\"14\" fill=\"#e26f46\" fill-rule=\"evenodd\" fill-opacity=\"1\" stroke=\"#000000\" stroke-opacity=\"1\" stroke-width=\"3.2\"/>\n",
       "<circle clip-path=\"url(#clip812)\" cx=\"1666.32\" cy=\"289.608\" r=\"14\" fill=\"#e26f46\" fill-rule=\"evenodd\" fill-opacity=\"1\" stroke=\"#000000\" stroke-opacity=\"1\" stroke-width=\"3.2\"/>\n",
       "<circle clip-path=\"url(#clip812)\" cx=\"1735.66\" cy=\"263.943\" r=\"14\" fill=\"#e26f46\" fill-rule=\"evenodd\" fill-opacity=\"1\" stroke=\"#000000\" stroke-opacity=\"1\" stroke-width=\"3.2\"/>\n",
       "<circle clip-path=\"url(#clip812)\" cx=\"1805\" cy=\"239.23\" r=\"14\" fill=\"#e26f46\" fill-rule=\"evenodd\" fill-opacity=\"1\" stroke=\"#000000\" stroke-opacity=\"1\" stroke-width=\"3.2\"/>\n",
       "<circle clip-path=\"url(#clip812)\" cx=\"1874.33\" cy=\"215.403\" r=\"14\" fill=\"#e26f46\" fill-rule=\"evenodd\" fill-opacity=\"1\" stroke=\"#000000\" stroke-opacity=\"1\" stroke-width=\"3.2\"/>\n",
       "<circle clip-path=\"url(#clip812)\" cx=\"1943.67\" cy=\"192.4\" r=\"14\" fill=\"#e26f46\" fill-rule=\"evenodd\" fill-opacity=\"1\" stroke=\"#000000\" stroke-opacity=\"1\" stroke-width=\"3.2\"/>\n",
       "<circle clip-path=\"url(#clip812)\" cx=\"2013.01\" cy=\"170.166\" r=\"14\" fill=\"#e26f46\" fill-rule=\"evenodd\" fill-opacity=\"1\" stroke=\"#000000\" stroke-opacity=\"1\" stroke-width=\"3.2\"/>\n",
       "<circle clip-path=\"url(#clip812)\" cx=\"2082.34\" cy=\"148.653\" r=\"14\" fill=\"#e26f46\" fill-rule=\"evenodd\" fill-opacity=\"1\" stroke=\"#000000\" stroke-opacity=\"1\" stroke-width=\"3.2\"/>\n",
       "<circle clip-path=\"url(#clip812)\" cx=\"2151.68\" cy=\"127.816\" r=\"14\" fill=\"#e26f46\" fill-rule=\"evenodd\" fill-opacity=\"1\" stroke=\"#000000\" stroke-opacity=\"1\" stroke-width=\"3.2\"/>\n",
       "<circle clip-path=\"url(#clip812)\" cx=\"2221.02\" cy=\"107.614\" r=\"14\" fill=\"#e26f46\" fill-rule=\"evenodd\" fill-opacity=\"1\" stroke=\"#000000\" stroke-opacity=\"1\" stroke-width=\"3.2\"/>\n",
       "<circle clip-path=\"url(#clip812)\" cx=\"2290.35\" cy=\"87.9763\" r=\"14\" fill=\"#e26f46\" fill-rule=\"evenodd\" fill-opacity=\"1\" stroke=\"#000000\" stroke-opacity=\"1\" stroke-width=\"3.2\"/>\n",
       "</svg>\n"
      ]
     },
     "execution_count": 37,
     "metadata": {},
     "output_type": "execute_result"
    }
   ],
   "source": [
    "#Teste 3\n",
    "\n",
    "g(x) = log(x)\n",
    "gd(x) = 1/x\n",
    "gdd(x) = -1/x^2\n",
    "x_inicial = 1\n",
    "y_inicial = 0\n",
    "x_final = exp(2)\n",
    "y_final = 2\n",
    "n = 30\n",
    "\n",
    "y = Any[y_inicial]\n",
    "for e in resolver_PVC(gdd, x_inicial, y_inicial, x_final, y_final, n)\n",
    "    push!(y, e)\n",
    "end\n",
    "push!(y, y_final)\n",
    "\n",
    "plot(g, x_inicial, x_final)\n",
    "\n",
    "h = (x_final - x_inicial)/(n)\n",
    "scatter!(x_inicial:h:x_final, y, leg=false)"
   ]
  },
  {
   "cell_type": "markdown",
   "metadata": {},
   "source": [
    "### Gerar a Matriz de Vandermonde"
   ]
  },
  {
   "cell_type": "code",
   "execution_count": 38,
   "metadata": {},
   "outputs": [
    {
     "data": {
      "text/plain": [
       "matriz_de_vandermonde (generic function with 1 method)"
      ]
     },
     "execution_count": 38,
     "metadata": {},
     "output_type": "execute_result"
    }
   ],
   "source": [
    "\"\"\" Essa função recebe uma lista de pontos x e retorna uma matriz cujas colunas são \n",
    "dadas por essa lista de pontos elevado a uma potência. A primeira coluna possui apenas 1s, \n",
    "a segunda é potência de 1, a terceira de 2, e assim em diante até o grau especificado. \"\"\"\n",
    "\n",
    "function matriz_de_vandermonde(pontos_x, grau)\n",
    "    matriz = ones(length(pontos_x))\n",
    "    for i in 1:grau\n",
    "        matriz = hcat(matriz, pontos_x.^i)\n",
    "    end \n",
    "    return matriz\n",
    "end"
   ]
  },
  {
   "cell_type": "code",
   "execution_count": 39,
   "metadata": {},
   "outputs": [
    {
     "data": {
      "text/plain": [
       "5×4 Matrix{Float64}:\n",
       " 1.0   1.0   1.0   1.0\n",
       " 1.0   2.0   4.0   8.0\n",
       " 1.0   4.0  16.0  64.0\n",
       " 1.0   2.0   4.0   8.0\n",
       " 1.0  -1.0   1.0  -1.0"
      ]
     },
     "execution_count": 39,
     "metadata": {},
     "output_type": "execute_result"
    }
   ],
   "source": [
    "matriz_de_vandermonde([1,2,4,2,-1], 3)"
   ]
  },
  {
   "cell_type": "code",
   "execution_count": 40,
   "metadata": {},
   "outputs": [
    {
     "data": {
      "text/plain": [
       "5×2 Matrix{Float64}:\n",
       " 1.0   1.0\n",
       " 1.0  -1.0\n",
       " 1.0   2.0\n",
       " 1.0   3.0\n",
       " 1.0  -5.0"
      ]
     },
     "execution_count": 40,
     "metadata": {},
     "output_type": "execute_result"
    }
   ],
   "source": [
    "matriz_de_vandermonde([1,-1,2,3,-5], 1)"
   ]
  },
  {
   "cell_type": "code",
   "execution_count": 41,
   "metadata": {},
   "outputs": [
    {
     "data": {
      "text/plain": [
       "4×6 Matrix{Float64}:\n",
       " 1.0  2.0  4.0   8.0  16.0   32.0\n",
       " 1.0  3.0  9.0  27.0  81.0  243.0\n",
       " 1.0  1.0  1.0   1.0   1.0    1.0\n",
       " 1.0  2.0  4.0   8.0  16.0   32.0"
      ]
     },
     "execution_count": 41,
     "metadata": {},
     "output_type": "execute_result"
    }
   ],
   "source": [
    "matriz_de_vandermonde([2,3,1,2], 5)"
   ]
  },
  {
   "cell_type": "markdown",
   "metadata": {},
   "source": [
    "### Fazer Interpolação de Curva por Vandermonde"
   ]
  },
  {
   "cell_type": "code",
   "execution_count": 42,
   "metadata": {},
   "outputs": [
    {
     "data": {
      "text/plain": [
       "interpolacao_coeficientes (generic function with 1 method)"
      ]
     },
     "execution_count": 42,
     "metadata": {},
     "output_type": "execute_result"
    }
   ],
   "source": [
    "\"\"\" Nessa função, realizamos o processo de interpolação de curvas utilizando a matriz de \n",
    "Vandermonde para o sistema. Consiste em passarmos os pontos de x e y como duas listas \n",
    "separadas e o grau do polinômio, e a função retorna os coeficientes\n",
    "do polinômio, na ordem do grau 0 até o grau especificado.\"\"\"\n",
    "\n",
    "function interpolacao_coeficientes(pontos_x, pontos_y, grau)\n",
    "    V = matriz_de_vandermonde(pontos_x,grau)\n",
    "    coeficientes = resolver_um_sistema(V,pontos_y)\n",
    "    return coeficientes\n",
    "end"
   ]
  },
  {
   "cell_type": "code",
   "execution_count": 43,
   "metadata": {},
   "outputs": [
    {
     "data": {
      "text/plain": [
       "4×1 Matrix{Float64}:\n",
       "  9.500000000000004\n",
       " -8.000000000000004\n",
       "  1.0000000000000009\n",
       " -0.10000000000000007"
      ]
     },
     "execution_count": 43,
     "metadata": {},
     "output_type": "execute_result"
    }
   ],
   "source": [
    "f(x) = 9.5 -8*x + x^2 - 0.1x^3\n",
    "interpolacao_coeficientes([1,5,6,9], [f(1),f(5),f(6),f(9)], 3)"
   ]
  },
  {
   "cell_type": "code",
   "execution_count": 44,
   "metadata": {},
   "outputs": [
    {
     "data": {
      "text/plain": [
       "6×1 Matrix{Float64}:\n",
       " -3.0\n",
       " -4.999999999999997\n",
       " -2.999999999999999\n",
       "  0.39999999999999714\n",
       " -2.220446049250313e-16\n",
       "  1.0000000000000007"
      ]
     },
     "execution_count": 44,
     "metadata": {},
     "output_type": "execute_result"
    }
   ],
   "source": [
    "f(x) = -3 - 5*x - 3*x^2 + 0.4*x^3 + x^5\n",
    "interpolacao_coeficientes([-1,0,1.5,1,-2,2], [f(-1),f(0),f(1.5),f(1),f(-2),f(2)], 5)"
   ]
  },
  {
   "cell_type": "code",
   "execution_count": 45,
   "metadata": {},
   "outputs": [
    {
     "data": {
      "text/plain": [
       "4×1 Matrix{Float64}:\n",
       " 3.0\n",
       " 5.0\n",
       " 0.0\n",
       " 0.0"
      ]
     },
     "execution_count": 45,
     "metadata": {},
     "output_type": "execute_result"
    }
   ],
   "source": [
    "f(x) = 3 + 5*x\n",
    "interpolacao_coeficientes([0,1,-1,2], [f(0),f(1),f(-1),f(2)], 3)"
   ]
  },
  {
   "cell_type": "markdown",
   "metadata": {},
   "source": [
    "### Obter Polinômio por Lagrange"
   ]
  },
  {
   "cell_type": "code",
   "execution_count": 46,
   "metadata": {},
   "outputs": [
    {
     "data": {
      "text/plain": [
       "lagrange (generic function with 1 method)"
      ]
     },
     "execution_count": 46,
     "metadata": {},
     "output_type": "execute_result"
    }
   ],
   "source": [
    "\"\"\"\n",
    "Polinômio de Lagrange dado um conjunto de pontos e o (grau - 1) do polinômio desejado\n",
    "\n",
    "@param: - coordenadas x\n",
    "        - coordenadas y\n",
    "        - (grau - 1) desejado para o polinômio de lagrange (se grau = 3, teremos P_2(x))\n",
    "\n",
    "@return: - aproximação para f no ponto x_final\n",
    "\"\"\"\n",
    "\n",
    "function lagrange(pontos_x, pontos_y, grau)\n",
    "    \n",
    "    # Vamos usar a classe Polynomials para criar um polinômio de uma variável e\n",
    "    # facilitar a nossa vida na hora de fazer as operações nele\n",
    "    poly = Polynomial(0.0)\n",
    "\n",
    "    for i in 1 : grau\n",
    "        # no primeiro instante dizemos que o coeficiente é y_i por conveniência mesmo,\n",
    "        # temos então que o coeficiente pode ser computado da seguinte forma:\n",
    "        # coeff_i = prod_{i=1}^grau (x - x_i) / (x_i - x_j)\n",
    "        \n",
    "        coeff = Polynomial(pontos_y[i])\n",
    "        \n",
    "        for j in 1 : grau\n",
    "            if i == j\n",
    "                # caso especial, não consideramos os\n",
    "                # mesmos índices\n",
    "                continue\n",
    "            end\n",
    "\n",
    "            # adicionamos esse coeficiente no polinômio\n",
    "            # ele vai ter como numerador o polinômio (x - x_i) e denominador (x_i - x_j)\n",
    "            coeff = coeff * Polynomial([-pontos_x[j], 1.0]) / (pontos_x[i] - pontos_x[j])\n",
    "        end\n",
    "\n",
    "        # adicionamos o coeficiente no polinômio\n",
    "        # nesse momento o polinômio já tem todos coeficientes até grau i computados\n",
    "        poly += coeff\n",
    "        \n",
    "    end\n",
    "\n",
    "    # retornamos polinômio na forma [1, x, x^2, ..., x^(grau-1)]\n",
    "    return poly\n",
    "end"
   ]
  },
  {
   "cell_type": "code",
   "execution_count": 47,
   "metadata": {},
   "outputs": [
    {
     "name": "stdout",
     "output_type": "stream",
     "text": [
      "[-1.733333333333333, 4.1, -0.36666666666666675]\n"
     ]
    }
   ],
   "source": [
    "x = [1.0, 2.0, 7.0]\n",
    "y = [2.0, 5.0, 9.0]\n",
    "\n",
    "println(coeffs(lagrange(x, y, 3)))"
   ]
  },
  {
   "cell_type": "code",
   "execution_count": 48,
   "metadata": {},
   "outputs": [
    {
     "name": "stdout",
     "output_type": "stream",
     "text": [
      "[0.5, 0.41666666666666674, -0.08333333333333331]\n"
     ]
    }
   ],
   "source": [
    "x = [-1.0, 2.0, 3.0, 5.0]\n",
    "y = [0.0, 1.0, 1.0, 2.0]\n",
    "\n",
    "println(coeffs(lagrange(x, y, 3)))"
   ]
  },
  {
   "cell_type": "code",
   "execution_count": 49,
   "metadata": {},
   "outputs": [
    {
     "name": "stdout",
     "output_type": "stream",
     "text": [
      "[-2.0, 1.5]\n"
     ]
    }
   ],
   "source": [
    "x = [0.0, 2.0, 4.0]\n",
    "y = [-2.0, 1.0, 4.0]\n",
    "\n",
    "println(coeffs(lagrange(x, y, 2)))"
   ]
  },
  {
   "cell_type": "markdown",
   "metadata": {},
   "source": [
    "### Fazer Interpolação de Curva por Lagrange"
   ]
  },
  {
   "cell_type": "code",
   "execution_count": 50,
   "metadata": {},
   "outputs": [
    {
     "data": {
      "text/plain": [
       "interpolacao_funcao (generic function with 1 method)"
      ]
     },
     "execution_count": 50,
     "metadata": {},
     "output_type": "execute_result"
    }
   ],
   "source": [
    "\"\"\" Essa função faz a interpolação dos pontos x e y dados e retorna uma função com o grau passado.\n",
    "Vale notar que a função é apenas um encapsulamento da função que gera o lagrange.\"\"\"\n",
    "\n",
    "function interpolacao_funcao(pontos_x,pontos_y, grau)\n",
    "    polinomio =lagrange(pontos_x,pontos_y,grau)\n",
    "    return polinomio\n",
    "end"
   ]
  },
  {
   "cell_type": "code",
   "execution_count": 51,
   "metadata": {},
   "outputs": [
    {
     "data": {
      "text/html": [
       "&#45;1.733333333333333 &#43; 4.1&#8729;x &#45; 0.36666666666666675&#8729;x<sup>2</sup>"
      ],
      "text/latex": [
       "$-1.733333333333333 + 4.1\\cdot x - 0.36666666666666675\\cdot x^{2}$"
      ],
      "text/plain": [
       "Polynomial(-1.733333333333333 + 4.1*x - 0.36666666666666675*x^2)"
      ]
     },
     "execution_count": 51,
     "metadata": {},
     "output_type": "execute_result"
    }
   ],
   "source": [
    "x = [1.0, 2.0, 7.0]\n",
    "y = [2.0, 5.0, 9.0]\n",
    "\n",
    "interpolacao_funcao(x,y,3)"
   ]
  },
  {
   "cell_type": "code",
   "execution_count": 52,
   "metadata": {},
   "outputs": [
    {
     "data": {
      "text/html": [
       "0.5 &#43; 0.41666666666666674&#8729;x &#45; 0.08333333333333331&#8729;x<sup>2</sup>"
      ],
      "text/latex": [
       "$0.5 + 0.41666666666666674\\cdot x - 0.08333333333333331\\cdot x^{2}$"
      ],
      "text/plain": [
       "Polynomial(0.5 + 0.41666666666666674*x - 0.08333333333333331*x^2)"
      ]
     },
     "execution_count": 52,
     "metadata": {},
     "output_type": "execute_result"
    }
   ],
   "source": [
    "x = [-1.0, 2.0, 3.0, 5.0]\n",
    "y = [0.0, 1.0, 1.0, 2.0]\n",
    "\n",
    "interpolacao_funcao(x, y, 3)"
   ]
  },
  {
   "cell_type": "code",
   "execution_count": 53,
   "metadata": {},
   "outputs": [
    {
     "data": {
      "text/html": [
       "&#45;2.0 &#43; 1.5&#8729;x"
      ],
      "text/latex": [
       "$-2.0 + 1.5\\cdot x$"
      ],
      "text/plain": [
       "Polynomial(-2.0 + 1.5*x)"
      ]
     },
     "execution_count": 53,
     "metadata": {},
     "output_type": "execute_result"
    }
   ],
   "source": [
    "x = [0.0, 2.0, 4.0]\n",
    "y = [-2.0, 1.0, 4.0]\n",
    "\n",
    "interpolacao_funcao(x, y, 2)"
   ]
  },
  {
   "cell_type": "markdown",
   "metadata": {},
   "source": [
    "### Aplicação de um x em uma função"
   ]
  },
  {
   "cell_type": "code",
   "execution_count": 54,
   "metadata": {},
   "outputs": [
    {
     "data": {
      "text/plain": [
       "aplica (generic function with 1 method)"
      ]
     },
     "execution_count": 54,
     "metadata": {},
     "output_type": "execute_result"
    }
   ],
   "source": [
    "\"\"\" Função auxiliar que transforma uma lista de coeficientes num polinômio centrado em x0 que também é dado como entrada.\n",
    "\n",
    "Ex de entrada: [ c, b, a ]\n",
    "Saída: ax^2 + bx + c\n",
    "\"\"\"\n",
    "\n",
    "function aplica(coeficientes, valor_de_x) # Recebe a lista de coeficientes e o valor x0 \n",
    "    grau_x = 1                             # Começamos com x^0 no polinômio, ou seja, o termo de coeficientes constante\n",
    "    valor_do_polinomio_no_x = 0            # Polinômio começa com valor igual a 0\n",
    "    for i = 1:length(coeficientes)         \n",
    "        valor_do_polinomio_no_x += coeficientes[i] * grau_x # x0^(i-1) * C_i\n",
    "        grau_x *= valor_de_x # x0^(i-1) = x0^i\n",
    "    end\n",
    "    return valor_do_polinomio_no_x # retorna o valor do polinômio em x0\n",
    "end"
   ]
  },
  {
   "cell_type": "markdown",
   "metadata": {},
   "source": [
    "### Resolver um Sistema por Mínimos Quadrados"
   ]
  },
  {
   "cell_type": "code",
   "execution_count": 55,
   "metadata": {},
   "outputs": [
    {
     "data": {
      "text/plain": [
       "resolver_um_sistema_por_minimos_quadrados (generic function with 1 method)"
      ]
     },
     "execution_count": 55,
     "metadata": {},
     "output_type": "execute_result"
    }
   ],
   "source": [
    "\"\"\" Resolvemos um sistema por mínimos quadrados aproveitando a função já implementada que resolve sistemas da forma\n",
    "    Ax = b. Como a fórmula para mínimos quadrados é A'Ax = A'b, passamos como entrada apenas A e b, e para a função aninhada\n",
    "    resolver um sistema passamos A'A e A'b. Como saída temos o vetor de x solução do sistema. \"\"\"\n",
    "\n",
    "function resolver_um_sistema_por_minimos_quadrados(A,b) \n",
    "    x=resolver_um_sistema(A'*A,A'*b) # Resolve o Sistema A'Ax = A'b uma vez que sabemos resolver o sistema Ax=b\n",
    "    return x # Retorna a solução do sistema, ou seja, o vetor x\n",
    "end"
   ]
  },
  {
   "cell_type": "markdown",
   "metadata": {},
   "source": [
    "### Regressão Linear de Funções Lineares"
   ]
  },
  {
   "cell_type": "code",
   "execution_count": null,
   "metadata": {},
   "outputs": [],
   "source": [
    "\"\"\" Com coeficientes lineares usamos polinômios para fazer as regressões. Dessa forma, precisamos da matriz de Vandermonde\n",
    "    que representa o grau dos valores de x. Em suma, teremos uma matriz alta de Vandermonde e o vetor de b que contêm \n",
    "    os valores de y dados e retornaremos os coeficientes do polinômio que minimiza a soma dos quadrados das distâncias. \"\"\"\n",
    "\n",
    "\n",
    "function regressão_coeficientes_lineares(pontos_x,pontos_y, grau) \n",
    "    V=matriz_de_vandermonde(pontos_x,grau)  #Matriz alta de Vandermonde -> muitas linhas e poucas colunas e o grau do polinômio.\n",
    "    coeficientes= resolver_um_sistema_por_minimos_quadrados(V,pontos_y) # retorna os coeficientes do polinômio por mínimos quadrados.\n",
    "end"
   ]
  },
  {
   "cell_type": "code",
   "execution_count": 57,
   "metadata": {},
   "outputs": [
    {
     "name": "stdout",
     "output_type": "stream",
     "text": [
      "[0.047619047619047616; 0.0]\n"
     ]
    },
    {
     "data": {
      "image/svg+xml": [
       "<?xml version=\"1.0\" encoding=\"utf-8\"?>\n",
       "<svg xmlns=\"http://www.w3.org/2000/svg\" xmlns:xlink=\"http://www.w3.org/1999/xlink\" width=\"600\" height=\"400\" viewBox=\"0 0 2400 1600\">\n",
       "<defs>\n",
       "  <clipPath id=\"clip850\">\n",
       "    <rect x=\"0\" y=\"0\" width=\"2400\" height=\"1600\"/>\n",
       "  </clipPath>\n",
       "</defs>\n",
       "<path clip-path=\"url(#clip850)\" d=\"\n",
       "M0 1600 L2400 1600 L2400 0 L0 0  Z\n",
       "  \" fill=\"#ffffff\" fill-rule=\"evenodd\" fill-opacity=\"1\"/>\n",
       "<defs>\n",
       "  <clipPath id=\"clip851\">\n",
       "    <rect x=\"480\" y=\"0\" width=\"1681\" height=\"1600\"/>\n",
       "  </clipPath>\n",
       "</defs>\n",
       "<path clip-path=\"url(#clip850)\" d=\"\n",
       "M174.862 1486.45 L2352.76 1486.45 L2352.76 123.472 L174.862 123.472  Z\n",
       "  \" fill=\"#ffffff\" fill-rule=\"evenodd\" fill-opacity=\"1\"/>\n",
       "<defs>\n",
       "  <clipPath id=\"clip852\">\n",
       "    <rect x=\"174\" y=\"123\" width=\"2179\" height=\"1364\"/>\n",
       "  </clipPath>\n",
       "</defs>\n",
       "<polyline clip-path=\"url(#clip852)\" style=\"stroke:#000000; stroke-width:2; stroke-opacity:0.1; fill:none\" points=\"\n",
       "  236.501,1486.45 236.501,123.472 \n",
       "  \"/>\n",
       "<polyline clip-path=\"url(#clip852)\" style=\"stroke:#000000; stroke-width:2; stroke-opacity:0.1; fill:none\" points=\"\n",
       "  750.155,1486.45 750.155,123.472 \n",
       "  \"/>\n",
       "<polyline clip-path=\"url(#clip852)\" style=\"stroke:#000000; stroke-width:2; stroke-opacity:0.1; fill:none\" points=\"\n",
       "  1263.81,1486.45 1263.81,123.472 \n",
       "  \"/>\n",
       "<polyline clip-path=\"url(#clip852)\" style=\"stroke:#000000; stroke-width:2; stroke-opacity:0.1; fill:none\" points=\"\n",
       "  1777.46,1486.45 1777.46,123.472 \n",
       "  \"/>\n",
       "<polyline clip-path=\"url(#clip852)\" style=\"stroke:#000000; stroke-width:2; stroke-opacity:0.1; fill:none\" points=\"\n",
       "  2291.12,1486.45 2291.12,123.472 \n",
       "  \"/>\n",
       "<polyline clip-path=\"url(#clip850)\" style=\"stroke:#000000; stroke-width:4; stroke-opacity:1; fill:none\" points=\"\n",
       "  174.862,1486.45 2352.76,1486.45 \n",
       "  \"/>\n",
       "<polyline clip-path=\"url(#clip850)\" style=\"stroke:#000000; stroke-width:4; stroke-opacity:1; fill:none\" points=\"\n",
       "  236.501,1486.45 236.501,1470.09 \n",
       "  \"/>\n",
       "<polyline clip-path=\"url(#clip850)\" style=\"stroke:#000000; stroke-width:4; stroke-opacity:1; fill:none\" points=\"\n",
       "  750.155,1486.45 750.155,1470.09 \n",
       "  \"/>\n",
       "<polyline clip-path=\"url(#clip850)\" style=\"stroke:#000000; stroke-width:4; stroke-opacity:1; fill:none\" points=\"\n",
       "  1263.81,1486.45 1263.81,1470.09 \n",
       "  \"/>\n",
       "<polyline clip-path=\"url(#clip850)\" style=\"stroke:#000000; stroke-width:4; stroke-opacity:1; fill:none\" points=\"\n",
       "  1777.46,1486.45 1777.46,1470.09 \n",
       "  \"/>\n",
       "<polyline clip-path=\"url(#clip850)\" style=\"stroke:#000000; stroke-width:4; stroke-opacity:1; fill:none\" points=\"\n",
       "  2291.12,1486.45 2291.12,1470.09 \n",
       "  \"/>\n",
       "<path clip-path=\"url(#clip850)\" d=\"M 0 0 M195.262 1530.29 L224.938 1530.29 L224.938 1534.23 L195.262 1534.23 L195.262 1530.29 Z\" fill=\"#000000\" fill-rule=\"evenodd\" fill-opacity=\"1\" /><path clip-path=\"url(#clip850)\" d=\"M 0 0 M230.818 1543.18 L238.457 1543.18 L238.457 1516.82 L230.146 1518.49 L230.146 1514.23 L238.41 1512.56 L243.086 1512.56 L243.086 1543.18 L250.725 1543.18 L250.725 1547.12 L230.818 1547.12 L230.818 1543.18 Z\" fill=\"#000000\" fill-rule=\"evenodd\" fill-opacity=\"1\" /><path clip-path=\"url(#clip850)\" d=\"M 0 0 M265.794 1515.64 Q262.183 1515.64 260.355 1519.2 Q258.549 1522.75 258.549 1529.87 Q258.549 1536.98 260.355 1540.55 Q262.183 1544.09 265.794 1544.09 Q269.429 1544.09 271.234 1540.55 Q273.063 1536.98 273.063 1529.87 Q273.063 1522.75 271.234 1519.2 Q269.429 1515.64 265.794 1515.64 M265.794 1511.93 Q271.605 1511.93 274.66 1516.54 Q277.739 1521.12 277.739 1529.87 Q277.739 1538.6 274.66 1543.21 Q271.605 1547.79 265.794 1547.79 Q259.984 1547.79 256.906 1543.21 Q253.85 1538.6 253.85 1529.87 Q253.85 1521.12 256.906 1516.54 Q259.984 1511.93 265.794 1511.93 Z\" fill=\"#000000\" fill-rule=\"evenodd\" fill-opacity=\"1\" /><path clip-path=\"url(#clip850)\" d=\"M 0 0 M722.308 1530.29 L751.983 1530.29 L751.983 1534.23 L722.308 1534.23 L722.308 1530.29 Z\" fill=\"#000000\" fill-rule=\"evenodd\" fill-opacity=\"1\" /><path clip-path=\"url(#clip850)\" d=\"M 0 0 M757.099 1512.56 L775.456 1512.56 L775.456 1516.5 L761.382 1516.5 L761.382 1524.97 Q762.4 1524.62 763.419 1524.46 Q764.437 1524.27 765.456 1524.27 Q771.243 1524.27 774.622 1527.44 Q778.002 1530.62 778.002 1536.03 Q778.002 1541.61 774.53 1544.71 Q771.057 1547.79 764.738 1547.79 Q762.562 1547.79 760.294 1547.42 Q758.048 1547.05 755.641 1546.31 L755.641 1541.61 Q757.724 1542.74 759.946 1543.3 Q762.169 1543.86 764.645 1543.86 Q768.65 1543.86 770.988 1541.75 Q773.326 1539.64 773.326 1536.03 Q773.326 1532.42 770.988 1530.31 Q768.65 1528.21 764.645 1528.21 Q762.77 1528.21 760.895 1528.62 Q759.044 1529.04 757.099 1529.92 L757.099 1512.56 Z\" fill=\"#000000\" fill-rule=\"evenodd\" fill-opacity=\"1\" /><path clip-path=\"url(#clip850)\" d=\"M 0 0 M1263.81 1515.64 Q1260.2 1515.64 1258.37 1519.2 Q1256.56 1522.75 1256.56 1529.87 Q1256.56 1536.98 1258.37 1540.55 Q1260.2 1544.09 1263.81 1544.09 Q1267.44 1544.09 1269.25 1540.55 Q1271.08 1536.98 1271.08 1529.87 Q1271.08 1522.75 1269.25 1519.2 Q1267.44 1515.64 1263.81 1515.64 M1263.81 1511.93 Q1269.62 1511.93 1272.67 1516.54 Q1275.75 1521.12 1275.75 1529.87 Q1275.75 1538.6 1272.67 1543.21 Q1269.62 1547.79 1263.81 1547.79 Q1258 1547.79 1254.92 1543.21 Q1251.86 1538.6 1251.86 1529.87 Q1251.86 1521.12 1254.92 1516.54 Q1258 1511.93 1263.81 1511.93 Z\" fill=\"#000000\" fill-rule=\"evenodd\" fill-opacity=\"1\" /><path clip-path=\"url(#clip850)\" d=\"M 0 0 M1767.74 1512.56 L1786.1 1512.56 L1786.1 1516.5 L1772.02 1516.5 L1772.02 1524.97 Q1773.04 1524.62 1774.06 1524.46 Q1775.08 1524.27 1776.1 1524.27 Q1781.88 1524.27 1785.26 1527.44 Q1788.64 1530.62 1788.64 1536.03 Q1788.64 1541.61 1785.17 1544.71 Q1781.7 1547.79 1775.38 1547.79 Q1773.2 1547.79 1770.94 1547.42 Q1768.69 1547.05 1766.28 1546.31 L1766.28 1541.61 Q1768.37 1542.74 1770.59 1543.3 Q1772.81 1543.86 1775.29 1543.86 Q1779.29 1543.86 1781.63 1541.75 Q1783.97 1539.64 1783.97 1536.03 Q1783.97 1532.42 1781.63 1530.31 Q1779.29 1528.21 1775.29 1528.21 Q1773.41 1528.21 1771.54 1528.62 Q1769.69 1529.04 1767.74 1529.92 L1767.74 1512.56 Z\" fill=\"#000000\" fill-rule=\"evenodd\" fill-opacity=\"1\" /><path clip-path=\"url(#clip850)\" d=\"M 0 0 M2267.99 1543.18 L2275.63 1543.18 L2275.63 1516.82 L2267.32 1518.49 L2267.32 1514.23 L2275.59 1512.56 L2280.26 1512.56 L2280.26 1543.18 L2287.9 1543.18 L2287.9 1547.12 L2267.99 1547.12 L2267.99 1543.18 Z\" fill=\"#000000\" fill-rule=\"evenodd\" fill-opacity=\"1\" /><path clip-path=\"url(#clip850)\" d=\"M 0 0 M2302.97 1515.64 Q2299.36 1515.64 2297.53 1519.2 Q2295.72 1522.75 2295.72 1529.87 Q2295.72 1536.98 2297.53 1540.55 Q2299.36 1544.09 2302.97 1544.09 Q2306.6 1544.09 2308.41 1540.55 Q2310.24 1536.98 2310.24 1529.87 Q2310.24 1522.75 2308.41 1519.2 Q2306.6 1515.64 2302.97 1515.64 M2302.97 1511.93 Q2308.78 1511.93 2311.83 1516.54 Q2314.91 1521.12 2314.91 1529.87 Q2314.91 1538.6 2311.83 1543.21 Q2308.78 1547.79 2302.97 1547.79 Q2297.16 1547.79 2294.08 1543.21 Q2291.02 1538.6 2291.02 1529.87 Q2291.02 1521.12 2294.08 1516.54 Q2297.16 1511.93 2302.97 1511.93 Z\" fill=\"#000000\" fill-rule=\"evenodd\" fill-opacity=\"1\" /><polyline clip-path=\"url(#clip852)\" style=\"stroke:#000000; stroke-width:2; stroke-opacity:0.1; fill:none\" points=\"\n",
       "  174.862,1447.87 2352.76,1447.87 \n",
       "  \"/>\n",
       "<polyline clip-path=\"url(#clip852)\" style=\"stroke:#000000; stroke-width:2; stroke-opacity:0.1; fill:none\" points=\"\n",
       "  174.862,1126.42 2352.76,1126.42 \n",
       "  \"/>\n",
       "<polyline clip-path=\"url(#clip852)\" style=\"stroke:#000000; stroke-width:2; stroke-opacity:0.1; fill:none\" points=\"\n",
       "  174.862,804.96 2352.76,804.96 \n",
       "  \"/>\n",
       "<polyline clip-path=\"url(#clip852)\" style=\"stroke:#000000; stroke-width:2; stroke-opacity:0.1; fill:none\" points=\"\n",
       "  174.862,483.503 2352.76,483.503 \n",
       "  \"/>\n",
       "<polyline clip-path=\"url(#clip852)\" style=\"stroke:#000000; stroke-width:2; stroke-opacity:0.1; fill:none\" points=\"\n",
       "  174.862,162.047 2352.76,162.047 \n",
       "  \"/>\n",
       "<polyline clip-path=\"url(#clip850)\" style=\"stroke:#000000; stroke-width:4; stroke-opacity:1; fill:none\" points=\"\n",
       "  174.862,1486.45 174.862,123.472 \n",
       "  \"/>\n",
       "<polyline clip-path=\"url(#clip850)\" style=\"stroke:#000000; stroke-width:4; stroke-opacity:1; fill:none\" points=\"\n",
       "  174.862,1447.87 200.997,1447.87 \n",
       "  \"/>\n",
       "<polyline clip-path=\"url(#clip850)\" style=\"stroke:#000000; stroke-width:4; stroke-opacity:1; fill:none\" points=\"\n",
       "  174.862,1126.42 200.997,1126.42 \n",
       "  \"/>\n",
       "<polyline clip-path=\"url(#clip850)\" style=\"stroke:#000000; stroke-width:4; stroke-opacity:1; fill:none\" points=\"\n",
       "  174.862,804.96 200.997,804.96 \n",
       "  \"/>\n",
       "<polyline clip-path=\"url(#clip850)\" style=\"stroke:#000000; stroke-width:4; stroke-opacity:1; fill:none\" points=\"\n",
       "  174.862,483.503 200.997,483.503 \n",
       "  \"/>\n",
       "<polyline clip-path=\"url(#clip850)\" style=\"stroke:#000000; stroke-width:4; stroke-opacity:1; fill:none\" points=\"\n",
       "  174.862,162.047 200.997,162.047 \n",
       "  \"/>\n",
       "<path clip-path=\"url(#clip850)\" d=\"M 0 0 M62.9365 1433.67 Q59.3254 1433.67 57.4967 1437.24 Q55.6912 1440.78 55.6912 1447.91 Q55.6912 1455.01 57.4967 1458.58 Q59.3254 1462.12 62.9365 1462.12 Q66.5707 1462.12 68.3763 1458.58 Q70.205 1455.01 70.205 1447.91 Q70.205 1440.78 68.3763 1437.24 Q66.5707 1433.67 62.9365 1433.67 M62.9365 1429.97 Q68.7467 1429.97 71.8022 1434.57 Q74.8809 1439.16 74.8809 1447.91 Q74.8809 1456.63 71.8022 1461.24 Q68.7467 1465.82 62.9365 1465.82 Q57.1264 1465.82 54.0477 1461.24 Q50.9921 1456.63 50.9921 1447.91 Q50.9921 1439.16 54.0477 1434.57 Q57.1264 1429.97 62.9365 1429.97 Z\" fill=\"#000000\" fill-rule=\"evenodd\" fill-opacity=\"1\" /><path clip-path=\"url(#clip850)\" d=\"M 0 0 M79.9503 1459.27 L84.8345 1459.27 L84.8345 1465.15 L79.9503 1465.15 L79.9503 1459.27 Z\" fill=\"#000000\" fill-rule=\"evenodd\" fill-opacity=\"1\" /><path clip-path=\"url(#clip850)\" d=\"M 0 0 M99.9039 1433.67 Q96.2928 1433.67 94.4641 1437.24 Q92.6586 1440.78 92.6586 1447.91 Q92.6586 1455.01 94.4641 1458.58 Q96.2928 1462.12 99.9039 1462.12 Q103.538 1462.12 105.344 1458.58 Q107.172 1455.01 107.172 1447.91 Q107.172 1440.78 105.344 1437.24 Q103.538 1433.67 99.9039 1433.67 M99.9039 1429.97 Q105.714 1429.97 108.77 1434.57 Q111.848 1439.16 111.848 1447.91 Q111.848 1456.63 108.77 1461.24 Q105.714 1465.82 99.9039 1465.82 Q94.0937 1465.82 91.0151 1461.24 Q87.9595 1456.63 87.9595 1447.91 Q87.9595 1439.16 91.0151 1434.57 Q94.0937 1429.97 99.9039 1429.97 Z\" fill=\"#000000\" fill-rule=\"evenodd\" fill-opacity=\"1\" /><path clip-path=\"url(#clip850)\" d=\"M 0 0 M126.918 1433.67 Q123.307 1433.67 121.478 1437.24 Q119.672 1440.78 119.672 1447.91 Q119.672 1455.01 121.478 1458.58 Q123.307 1462.12 126.918 1462.12 Q130.552 1462.12 132.357 1458.58 Q134.186 1455.01 134.186 1447.91 Q134.186 1440.78 132.357 1437.24 Q130.552 1433.67 126.918 1433.67 M126.918 1429.97 Q132.728 1429.97 135.783 1434.57 Q138.862 1439.16 138.862 1447.91 Q138.862 1456.63 135.783 1461.24 Q132.728 1465.82 126.918 1465.82 Q121.107 1465.82 118.029 1461.24 Q114.973 1456.63 114.973 1447.91 Q114.973 1439.16 118.029 1434.57 Q121.107 1429.97 126.918 1429.97 Z\" fill=\"#000000\" fill-rule=\"evenodd\" fill-opacity=\"1\" /><path clip-path=\"url(#clip850)\" d=\"M 0 0 M65.5291 1112.22 Q61.918 1112.22 60.0893 1115.78 Q58.2838 1119.32 58.2838 1126.45 Q58.2838 1133.56 60.0893 1137.12 Q61.918 1140.66 65.5291 1140.66 Q69.1633 1140.66 70.9689 1137.12 Q72.7976 1133.56 72.7976 1126.45 Q72.7976 1119.32 70.9689 1115.78 Q69.1633 1112.22 65.5291 1112.22 M65.5291 1108.51 Q71.3392 1108.51 74.3948 1113.12 Q77.4735 1117.7 77.4735 1126.45 Q77.4735 1135.18 74.3948 1139.78 Q71.3392 1144.37 65.5291 1144.37 Q59.7189 1144.37 56.6402 1139.78 Q53.5847 1135.18 53.5847 1126.45 Q53.5847 1117.7 56.6402 1113.12 Q59.7189 1108.51 65.5291 1108.51 Z\" fill=\"#000000\" fill-rule=\"evenodd\" fill-opacity=\"1\" /><path clip-path=\"url(#clip850)\" d=\"M 0 0 M82.5429 1137.82 L87.4271 1137.82 L87.4271 1143.7 L82.5429 1143.7 L82.5429 1137.82 Z\" fill=\"#000000\" fill-rule=\"evenodd\" fill-opacity=\"1\" /><path clip-path=\"url(#clip850)\" d=\"M 0 0 M96.5243 1139.76 L112.844 1139.76 L112.844 1143.7 L90.8993 1143.7 L90.8993 1139.76 Q93.5613 1137.01 98.1447 1132.38 Q102.751 1127.72 103.932 1126.38 Q106.177 1123.86 107.057 1122.12 Q107.959 1120.36 107.959 1118.67 Q107.959 1115.92 106.015 1114.18 Q104.094 1112.45 100.992 1112.45 Q98.7928 1112.45 96.3391 1113.21 Q93.9086 1113.97 91.1308 1115.53 L91.1308 1110.8 Q93.9549 1109.67 96.4085 1109.09 Q98.8622 1108.51 100.899 1108.51 Q106.27 1108.51 109.464 1111.2 Q112.658 1113.88 112.658 1118.37 Q112.658 1120.5 111.848 1122.42 Q111.061 1124.32 108.955 1126.91 Q108.376 1127.59 105.274 1130.8 Q102.172 1134 96.5243 1139.76 Z\" fill=\"#000000\" fill-rule=\"evenodd\" fill-opacity=\"1\" /><path clip-path=\"url(#clip850)\" d=\"M 0 0 M117.959 1109.14 L136.316 1109.14 L136.316 1113.07 L122.242 1113.07 L122.242 1121.54 Q123.26 1121.2 124.279 1121.03 Q125.297 1120.85 126.316 1120.85 Q132.103 1120.85 135.482 1124.02 Q138.862 1127.19 138.862 1132.61 Q138.862 1138.19 135.39 1141.29 Q131.918 1144.37 125.598 1144.37 Q123.422 1144.37 121.154 1144 Q118.908 1143.63 116.501 1142.89 L116.501 1138.19 Q118.584 1139.32 120.807 1139.88 Q123.029 1140.43 125.506 1140.43 Q129.51 1140.43 131.848 1138.33 Q134.186 1136.22 134.186 1132.61 Q134.186 1129 131.848 1126.89 Q129.51 1124.78 125.506 1124.78 Q123.631 1124.78 121.756 1125.2 Q119.904 1125.62 117.959 1126.5 L117.959 1109.14 Z\" fill=\"#000000\" fill-rule=\"evenodd\" fill-opacity=\"1\" /><path clip-path=\"url(#clip850)\" d=\"M 0 0 M63.9319 790.759 Q60.3208 790.759 58.4921 794.323 Q56.6865 797.865 56.6865 804.995 Q56.6865 812.101 58.4921 815.666 Q60.3208 819.208 63.9319 819.208 Q67.5661 819.208 69.3717 815.666 Q71.2004 812.101 71.2004 804.995 Q71.2004 797.865 69.3717 794.323 Q67.5661 790.759 63.9319 790.759 M63.9319 787.055 Q69.742 787.055 72.7976 791.661 Q75.8763 796.245 75.8763 804.995 Q75.8763 813.722 72.7976 818.328 Q69.742 822.911 63.9319 822.911 Q58.1217 822.911 55.043 818.328 Q51.9875 813.722 51.9875 804.995 Q51.9875 796.245 55.043 791.661 Q58.1217 787.055 63.9319 787.055 Z\" fill=\"#000000\" fill-rule=\"evenodd\" fill-opacity=\"1\" /><path clip-path=\"url(#clip850)\" d=\"M 0 0 M80.9457 816.36 L85.8299 816.36 L85.8299 822.24 L80.9457 822.24 L80.9457 816.36 Z\" fill=\"#000000\" fill-rule=\"evenodd\" fill-opacity=\"1\" /><path clip-path=\"url(#clip850)\" d=\"M 0 0 M90.9456 787.68 L109.302 787.68 L109.302 791.615 L95.228 791.615 L95.228 800.087 Q96.2465 799.74 97.265 799.578 Q98.2835 799.393 99.3021 799.393 Q105.089 799.393 108.469 802.564 Q111.848 805.735 111.848 811.152 Q111.848 816.731 108.376 819.833 Q104.904 822.911 98.5845 822.911 Q96.4085 822.911 94.14 822.541 Q91.8947 822.171 89.4873 821.43 L89.4873 816.731 Q91.5706 817.865 93.7928 818.421 Q96.015 818.976 98.4919 818.976 Q102.496 818.976 104.834 816.87 Q107.172 814.763 107.172 811.152 Q107.172 807.541 104.834 805.435 Q102.496 803.328 98.4919 803.328 Q96.6169 803.328 94.7419 803.745 Q92.89 804.161 90.9456 805.041 L90.9456 787.68 Z\" fill=\"#000000\" fill-rule=\"evenodd\" fill-opacity=\"1\" /><path clip-path=\"url(#clip850)\" d=\"M 0 0 M126.918 790.759 Q123.307 790.759 121.478 794.323 Q119.672 797.865 119.672 804.995 Q119.672 812.101 121.478 815.666 Q123.307 819.208 126.918 819.208 Q130.552 819.208 132.357 815.666 Q134.186 812.101 134.186 804.995 Q134.186 797.865 132.357 794.323 Q130.552 790.759 126.918 790.759 M126.918 787.055 Q132.728 787.055 135.783 791.661 Q138.862 796.245 138.862 804.995 Q138.862 813.722 135.783 818.328 Q132.728 822.911 126.918 822.911 Q121.107 822.911 118.029 818.328 Q114.973 813.722 114.973 804.995 Q114.973 796.245 118.029 791.661 Q121.107 787.055 126.918 787.055 Z\" fill=\"#000000\" fill-rule=\"evenodd\" fill-opacity=\"1\" /><path clip-path=\"url(#clip850)\" d=\"M 0 0 M64.8346 469.302 Q61.2236 469.302 59.3949 472.867 Q57.5893 476.409 57.5893 483.538 Q57.5893 490.645 59.3949 494.209 Q61.2236 497.751 64.8346 497.751 Q68.4689 497.751 70.2744 494.209 Q72.1031 490.645 72.1031 483.538 Q72.1031 476.409 70.2744 472.867 Q68.4689 469.302 64.8346 469.302 M64.8346 465.598 Q70.6448 465.598 73.7003 470.205 Q76.779 474.788 76.779 483.538 Q76.779 492.265 73.7003 496.871 Q70.6448 501.455 64.8346 501.455 Q59.0245 501.455 55.9458 496.871 Q52.8903 492.265 52.8903 483.538 Q52.8903 474.788 55.9458 470.205 Q59.0245 465.598 64.8346 465.598 Z\" fill=\"#000000\" fill-rule=\"evenodd\" fill-opacity=\"1\" /><path clip-path=\"url(#clip850)\" d=\"M 0 0 M81.8484 494.904 L86.7327 494.904 L86.7327 500.783 L81.8484 500.783 L81.8484 494.904 Z\" fill=\"#000000\" fill-rule=\"evenodd\" fill-opacity=\"1\" /><path clip-path=\"url(#clip850)\" d=\"M 0 0 M90.6215 466.223 L112.844 466.223 L112.844 468.214 L100.297 500.783 L95.4132 500.783 L107.219 470.159 L90.6215 470.159 L90.6215 466.223 Z\" fill=\"#000000\" fill-rule=\"evenodd\" fill-opacity=\"1\" /><path clip-path=\"url(#clip850)\" d=\"M 0 0 M117.959 466.223 L136.316 466.223 L136.316 470.159 L122.242 470.159 L122.242 478.631 Q123.26 478.284 124.279 478.122 Q125.297 477.936 126.316 477.936 Q132.103 477.936 135.482 481.108 Q138.862 484.279 138.862 489.696 Q138.862 495.274 135.39 498.376 Q131.918 501.455 125.598 501.455 Q123.422 501.455 121.154 501.084 Q118.908 500.714 116.501 499.973 L116.501 495.274 Q118.584 496.408 120.807 496.964 Q123.029 497.52 125.506 497.52 Q129.51 497.52 131.848 495.413 Q134.186 493.307 134.186 489.696 Q134.186 486.084 131.848 483.978 Q129.51 481.872 125.506 481.872 Q123.631 481.872 121.756 482.288 Q119.904 482.705 117.959 483.584 L117.959 466.223 Z\" fill=\"#000000\" fill-rule=\"evenodd\" fill-opacity=\"1\" /><path clip-path=\"url(#clip850)\" d=\"M 0 0 M54.9736 175.392 L62.6124 175.392 L62.6124 149.026 L54.3023 150.693 L54.3023 146.434 L62.5661 144.767 L67.242 144.767 L67.242 175.392 L74.8809 175.392 L74.8809 179.327 L54.9736 179.327 L54.9736 175.392 Z\" fill=\"#000000\" fill-rule=\"evenodd\" fill-opacity=\"1\" /><path clip-path=\"url(#clip850)\" d=\"M 0 0 M79.9503 173.447 L84.8345 173.447 L84.8345 179.327 L79.9503 179.327 L79.9503 173.447 Z\" fill=\"#000000\" fill-rule=\"evenodd\" fill-opacity=\"1\" /><path clip-path=\"url(#clip850)\" d=\"M 0 0 M99.9039 147.846 Q96.2928 147.846 94.4641 151.41 Q92.6586 154.952 92.6586 162.082 Q92.6586 169.188 94.4641 172.753 Q96.2928 176.295 99.9039 176.295 Q103.538 176.295 105.344 172.753 Q107.172 169.188 107.172 162.082 Q107.172 154.952 105.344 151.41 Q103.538 147.846 99.9039 147.846 M99.9039 144.142 Q105.714 144.142 108.77 148.748 Q111.848 153.332 111.848 162.082 Q111.848 170.808 108.77 175.415 Q105.714 179.998 99.9039 179.998 Q94.0937 179.998 91.0151 175.415 Q87.9595 170.808 87.9595 162.082 Q87.9595 153.332 91.0151 148.748 Q94.0937 144.142 99.9039 144.142 Z\" fill=\"#000000\" fill-rule=\"evenodd\" fill-opacity=\"1\" /><path clip-path=\"url(#clip850)\" d=\"M 0 0 M126.918 147.846 Q123.307 147.846 121.478 151.41 Q119.672 154.952 119.672 162.082 Q119.672 169.188 121.478 172.753 Q123.307 176.295 126.918 176.295 Q130.552 176.295 132.357 172.753 Q134.186 169.188 134.186 162.082 Q134.186 154.952 132.357 151.41 Q130.552 147.846 126.918 147.846 M126.918 144.142 Q132.728 144.142 135.783 148.748 Q138.862 153.332 138.862 162.082 Q138.862 170.808 135.783 175.415 Q132.728 179.998 126.918 179.998 Q121.107 179.998 118.029 175.415 Q114.973 170.808 114.973 162.082 Q114.973 153.332 118.029 148.748 Q121.107 144.142 126.918 144.142 Z\" fill=\"#000000\" fill-rule=\"evenodd\" fill-opacity=\"1\" /><path clip-path=\"url(#clip850)\" d=\"M 0 0 M899.329 12.096 L911.522 12.096 L926.956 53.2532 L942.471 12.096 L954.664 12.096 L954.664 72.576 L946.684 72.576 L946.684 19.4686 L931.088 60.9499 L922.865 60.9499 L907.269 19.4686 L907.269 72.576 L899.329 72.576 L899.329 12.096 Z\" fill=\"#000000\" fill-rule=\"evenodd\" fill-opacity=\"1\" /><path clip-path=\"url(#clip850)\" d=\"M 0 0 M971.84 6.22219 L979.901 6.22219 L966.695 21.4536 L960.498 21.4536 L971.84 6.22219 M962.482 27.2059 L969.936 27.2059 L969.936 72.576 L962.482 72.576 L962.482 27.2059 M966.209 26.1121 L966.209 26.1121 Z\" fill=\"#000000\" fill-rule=\"evenodd\" fill-opacity=\"1\" /><path clip-path=\"url(#clip850)\" d=\"M 0 0 M1025.43 45.1919 L1025.43 72.576 L1017.98 72.576 L1017.98 45.4349 Q1017.98 38.994 1015.47 35.7938 Q1012.96 32.5936 1007.93 32.5936 Q1001.9 32.5936 998.414 36.4419 Q994.93 40.2903 994.93 46.9338 L994.93 72.576 L987.436 72.576 L987.436 27.2059 L994.93 27.2059 L994.93 34.2544 Q997.604 30.163 1001.21 28.1376 Q1004.85 26.1121 1009.59 26.1121 Q1017.41 26.1121 1021.42 30.9732 Q1025.43 35.7938 1025.43 45.1919 Z\" fill=\"#000000\" fill-rule=\"evenodd\" fill-opacity=\"1\" /><path clip-path=\"url(#clip850)\" d=\"M 0 0 M1033.25 27.2059 L1040.71 27.2059 L1040.71 72.576 L1033.25 72.576 L1033.25 27.2059 M1033.25 9.54393 L1040.71 9.54393 L1040.71 18.9825 L1033.25 18.9825 L1033.25 9.54393 Z\" fill=\"#000000\" fill-rule=\"evenodd\" fill-opacity=\"1\" /><path clip-path=\"url(#clip850)\" d=\"M 0 0 M1083.85 35.9153 Q1086.64 30.8922 1090.53 28.5022 Q1094.42 26.1121 1099.69 26.1121 Q1106.78 26.1121 1110.62 31.0947 Q1114.47 36.0368 1114.47 45.1919 L1114.47 72.576 L1106.98 72.576 L1106.98 45.4349 Q1106.98 38.913 1104.67 35.7533 Q1102.36 32.5936 1097.62 32.5936 Q1091.83 32.5936 1088.47 36.4419 Q1085.1 40.2903 1085.1 46.9338 L1085.1 72.576 L1077.61 72.576 L1077.61 45.4349 Q1077.61 38.8725 1075.3 35.7533 Q1072.99 32.5936 1068.17 32.5936 Q1062.46 32.5936 1059.1 36.4824 Q1055.73 40.3308 1055.73 46.9338 L1055.73 72.576 L1048.24 72.576 L1048.24 27.2059 L1055.73 27.2059 L1055.73 34.2544 Q1058.29 30.082 1061.85 28.0971 Q1065.42 26.1121 1070.32 26.1121 Q1075.26 26.1121 1078.7 28.6237 Q1082.19 31.1352 1083.85 35.9153 Z\" fill=\"#000000\" fill-rule=\"evenodd\" fill-opacity=\"1\" /><path clip-path=\"url(#clip850)\" d=\"M 0 0 M1139.87 32.4315 Q1133.88 32.4315 1130.39 37.1306 Q1126.91 41.7891 1126.91 49.9314 Q1126.91 58.0738 1130.35 62.7728 Q1133.84 67.4314 1139.87 67.4314 Q1145.83 67.4314 1149.31 62.7323 Q1152.79 58.0333 1152.79 49.9314 Q1152.79 41.8701 1149.31 37.1711 Q1145.83 32.4315 1139.87 32.4315 M1139.87 26.1121 Q1149.59 26.1121 1155.14 32.4315 Q1160.69 38.7509 1160.69 49.9314 Q1160.69 61.0714 1155.14 67.4314 Q1149.59 73.7508 1139.87 73.7508 Q1130.11 73.7508 1124.56 67.4314 Q1119.05 61.0714 1119.05 49.9314 Q1119.05 38.7509 1124.56 32.4315 Q1130.11 26.1121 1139.87 26.1121 Z\" fill=\"#000000\" fill-rule=\"evenodd\" fill-opacity=\"1\" /><path clip-path=\"url(#clip850)\" d=\"M 0 0 M1197.43 28.5427 L1197.43 35.5912 Q1194.28 33.9709 1190.87 33.1607 Q1187.47 32.3505 1183.82 32.3505 Q1178.27 32.3505 1175.48 34.0519 Q1172.72 35.7533 1172.72 39.156 Q1172.72 41.7486 1174.71 43.2475 Q1176.69 44.7058 1182.69 46.0426 L1185.24 46.6097 Q1193.18 48.3111 1196.5 51.4303 Q1199.87 54.509 1199.87 60.0587 Q1199.87 66.3781 1194.84 70.0644 Q1189.86 73.7508 1181.11 73.7508 Q1177.46 73.7508 1173.49 73.0216 Q1169.56 72.3329 1165.19 70.9151 L1165.19 63.2184 Q1169.32 65.3654 1173.33 66.4591 Q1177.34 67.5124 1181.27 67.5124 Q1186.54 67.5124 1189.37 65.73 Q1192.21 63.9071 1192.21 60.6258 Q1192.21 57.5877 1190.14 55.9673 Q1188.12 54.3469 1181.19 52.8481 L1178.6 52.2405 Q1171.67 50.7821 1168.59 47.7845 Q1165.51 44.7463 1165.51 39.4801 Q1165.51 33.0797 1170.05 29.5959 Q1174.59 26.1121 1182.93 26.1121 Q1187.06 26.1121 1190.71 26.7198 Q1194.36 27.3274 1197.43 28.5427 Z\" fill=\"#000000\" fill-rule=\"evenodd\" fill-opacity=\"1\" /><path clip-path=\"url(#clip850)\" d=\"M 0 0 M1258.93 17.6457 Q1250.02 17.6457 1244.75 24.2892 Q1239.52 30.9327 1239.52 42.3968 Q1239.52 53.8203 1244.75 60.4638 Q1250.02 67.1073 1258.93 67.1073 Q1267.84 67.1073 1273.02 60.4638 Q1278.25 53.8203 1278.25 42.3968 Q1278.25 30.9327 1273.02 24.2892 Q1267.84 17.6457 1258.93 17.6457 M1270.39 71.4823 L1281.17 83.2704 L1271.28 83.2704 L1262.33 73.5887 Q1260.99 73.6697 1260.26 73.7103 Q1259.58 73.7508 1258.93 73.7508 Q1246.17 73.7508 1238.51 65.2439 Q1230.9 56.6965 1230.9 42.3968 Q1230.9 28.0566 1238.51 19.5497 Q1246.17 11.0023 1258.93 11.0023 Q1271.65 11.0023 1279.26 19.5497 Q1286.88 28.0566 1286.88 42.3968 Q1286.88 52.9291 1282.63 60.4233 Q1278.41 67.9175 1270.39 71.4823 Z\" fill=\"#000000\" fill-rule=\"evenodd\" fill-opacity=\"1\" /><path clip-path=\"url(#clip850)\" d=\"M 0 0 M1293.93 54.671 L1293.93 27.2059 L1301.38 27.2059 L1301.38 54.3874 Q1301.38 60.8284 1303.89 64.0691 Q1306.4 67.2693 1311.43 67.2693 Q1317.46 67.2693 1320.95 63.421 Q1324.47 59.5726 1324.47 52.9291 L1324.47 27.2059 L1331.92 27.2059 L1331.92 72.576 L1324.47 72.576 L1324.47 65.6084 Q1321.76 69.7404 1318.15 71.7658 Q1314.59 73.7508 1309.85 73.7508 Q1302.03 73.7508 1297.98 68.8897 Q1293.93 64.0286 1293.93 54.671 M1312.68 26.1121 L1312.68 26.1121 Z\" fill=\"#000000\" fill-rule=\"evenodd\" fill-opacity=\"1\" /><path clip-path=\"url(#clip850)\" d=\"M 0 0 M1360.36 49.7694 Q1351.33 49.7694 1347.84 51.8354 Q1344.36 53.9013 1344.36 58.8839 Q1344.36 62.8538 1346.95 65.2034 Q1349.59 67.5124 1354.08 67.5124 Q1360.28 67.5124 1364.01 63.1374 Q1367.78 58.7219 1367.78 51.4303 L1367.78 49.7694 L1360.36 49.7694 M1375.23 46.6907 L1375.23 72.576 L1367.78 72.576 L1367.78 65.6895 Q1365.22 69.8214 1361.42 71.8063 Q1357.61 73.7508 1352.1 73.7508 Q1345.13 73.7508 1341 69.8619 Q1336.91 65.9325 1336.91 59.3701 Q1336.91 51.7138 1342.01 47.825 Q1347.16 43.9361 1357.32 43.9361 L1367.78 43.9361 L1367.78 43.2069 Q1367.78 38.0623 1364.37 35.2672 Q1361.01 32.4315 1354.89 32.4315 Q1351 32.4315 1347.32 33.3632 Q1343.63 34.295 1340.23 36.1584 L1340.23 29.2718 Q1344.32 27.692 1348.17 26.9223 Q1352.02 26.1121 1355.66 26.1121 Q1365.51 26.1121 1370.37 31.2163 Q1375.23 36.3204 1375.23 46.6907 Z\" fill=\"#000000\" fill-rule=\"evenodd\" fill-opacity=\"1\" /><path clip-path=\"url(#clip850)\" d=\"M 0 0 M1412.9 34.0924 L1412.9 9.54393 L1420.36 9.54393 L1420.36 72.576 L1412.9 72.576 L1412.9 65.7705 Q1410.55 69.8214 1406.95 71.8063 Q1403.38 73.7508 1398.36 73.7508 Q1390.14 73.7508 1384.95 67.1883 Q1379.81 60.6258 1379.81 49.9314 Q1379.81 39.2371 1384.95 32.6746 Q1390.14 26.1121 1398.36 26.1121 Q1403.38 26.1121 1406.95 28.0971 Q1410.55 30.0415 1412.9 34.0924 M1387.5 49.9314 Q1387.5 58.1548 1390.87 62.8538 Q1394.27 67.5124 1400.18 67.5124 Q1406.1 67.5124 1409.5 62.8538 Q1412.9 58.1548 1412.9 49.9314 Q1412.9 41.7081 1409.5 37.0496 Q1406.1 32.3505 1400.18 32.3505 Q1394.27 32.3505 1390.87 37.0496 Q1387.5 41.7081 1387.5 49.9314 Z\" fill=\"#000000\" fill-rule=\"evenodd\" fill-opacity=\"1\" /><path clip-path=\"url(#clip850)\" d=\"M 0 0 M1454.46 34.1734 Q1453.21 33.4443 1451.71 33.1202 Q1450.25 32.7556 1448.47 32.7556 Q1442.15 32.7556 1438.75 36.8875 Q1435.39 40.9789 1435.39 48.6757 L1435.39 72.576 L1427.89 72.576 L1427.89 27.2059 L1435.39 27.2059 L1435.39 34.2544 Q1437.73 30.1225 1441.5 28.1376 Q1445.27 26.1121 1450.66 26.1121 Q1451.43 26.1121 1452.36 26.2337 Q1453.29 26.3147 1454.42 26.5172 L1454.46 34.1734 Z\" fill=\"#000000\" fill-rule=\"evenodd\" fill-opacity=\"1\" /><path clip-path=\"url(#clip850)\" d=\"M 0 0 M1482.9 49.7694 Q1473.87 49.7694 1470.38 51.8354 Q1466.9 53.9013 1466.9 58.8839 Q1466.9 62.8538 1469.49 65.2034 Q1472.13 67.5124 1476.62 67.5124 Q1482.82 67.5124 1486.55 63.1374 Q1490.32 58.7219 1490.32 51.4303 L1490.32 49.7694 L1482.9 49.7694 M1497.77 46.6907 L1497.77 72.576 L1490.32 72.576 L1490.32 65.6895 Q1487.76 69.8214 1483.96 71.8063 Q1480.15 73.7508 1474.64 73.7508 Q1467.67 73.7508 1463.54 69.8619 Q1459.45 65.9325 1459.45 59.3701 Q1459.45 51.7138 1464.55 47.825 Q1469.7 43.9361 1479.86 43.9361 L1490.32 43.9361 L1490.32 43.2069 Q1490.32 38.0623 1486.91 35.2672 Q1483.55 32.4315 1477.43 32.4315 Q1473.54 32.4315 1469.86 33.3632 Q1466.17 34.295 1462.77 36.1584 L1462.77 29.2718 Q1466.86 27.692 1470.71 26.9223 Q1474.56 26.1121 1478.2 26.1121 Q1488.05 26.1121 1492.91 31.2163 Q1497.77 36.3204 1497.77 46.6907 Z\" fill=\"#000000\" fill-rule=\"evenodd\" fill-opacity=\"1\" /><path clip-path=\"url(#clip850)\" d=\"M 0 0 M1535.44 34.0924 L1535.44 9.54393 L1542.9 9.54393 L1542.9 72.576 L1535.44 72.576 L1535.44 65.7705 Q1533.09 69.8214 1529.49 71.8063 Q1525.92 73.7508 1520.9 73.7508 Q1512.68 73.7508 1507.49 67.1883 Q1502.35 60.6258 1502.35 49.9314 Q1502.35 39.2371 1507.49 32.6746 Q1512.68 26.1121 1520.9 26.1121 Q1525.92 26.1121 1529.49 28.0971 Q1533.09 30.0415 1535.44 34.0924 M1510.04 49.9314 Q1510.04 58.1548 1513.41 62.8538 Q1516.81 67.5124 1522.72 67.5124 Q1528.64 67.5124 1532.04 62.8538 Q1535.44 58.1548 1535.44 49.9314 Q1535.44 41.7081 1532.04 37.0496 Q1528.64 32.3505 1522.72 32.3505 Q1516.81 32.3505 1513.41 37.0496 Q1510.04 41.7081 1510.04 49.9314 Z\" fill=\"#000000\" fill-rule=\"evenodd\" fill-opacity=\"1\" /><path clip-path=\"url(#clip850)\" d=\"M 0 0 M1568.3 32.4315 Q1562.3 32.4315 1558.82 37.1306 Q1555.33 41.7891 1555.33 49.9314 Q1555.33 58.0738 1558.78 62.7728 Q1562.26 67.4314 1568.3 67.4314 Q1574.25 67.4314 1577.73 62.7323 Q1581.22 58.0333 1581.22 49.9314 Q1581.22 41.8701 1577.73 37.1711 Q1574.25 32.4315 1568.3 32.4315 M1568.3 26.1121 Q1578.02 26.1121 1583.57 32.4315 Q1589.12 38.7509 1589.12 49.9314 Q1589.12 61.0714 1583.57 67.4314 Q1578.02 73.7508 1568.3 73.7508 Q1558.53 73.7508 1552.98 67.4314 Q1547.47 61.0714 1547.47 49.9314 Q1547.47 38.7509 1552.98 32.4315 Q1558.53 26.1121 1568.3 26.1121 Z\" fill=\"#000000\" fill-rule=\"evenodd\" fill-opacity=\"1\" /><path clip-path=\"url(#clip850)\" d=\"M 0 0 M1625.86 28.5427 L1625.86 35.5912 Q1622.7 33.9709 1619.3 33.1607 Q1615.89 32.3505 1612.25 32.3505 Q1606.7 32.3505 1603.9 34.0519 Q1601.15 35.7533 1601.15 39.156 Q1601.15 41.7486 1603.13 43.2475 Q1605.12 44.7058 1611.11 46.0426 L1613.67 46.6097 Q1621.61 48.3111 1624.93 51.4303 Q1628.29 54.509 1628.29 60.0587 Q1628.29 66.3781 1623.27 70.0644 Q1618.28 73.7508 1609.53 73.7508 Q1605.89 73.7508 1601.92 73.0216 Q1597.99 72.3329 1593.61 70.9151 L1593.61 63.2184 Q1597.75 65.3654 1601.76 66.4591 Q1605.77 67.5124 1609.7 67.5124 Q1614.96 67.5124 1617.8 65.73 Q1620.63 63.9071 1620.63 60.6258 Q1620.63 57.5877 1618.57 55.9673 Q1616.54 54.3469 1609.61 52.8481 L1607.02 52.2405 Q1600.09 50.7821 1597.02 47.7845 Q1593.94 44.7463 1593.94 39.4801 Q1593.94 33.0797 1598.47 29.5959 Q1603.01 26.1121 1611.36 26.1121 Q1615.49 26.1121 1619.13 26.7198 Q1622.78 27.3274 1625.86 28.5427 Z\" fill=\"#000000\" fill-rule=\"evenodd\" fill-opacity=\"1\" /><circle clip-path=\"url(#clip852)\" cx=\"236.501\" cy=\"1447.87\" r=\"14\" fill=\"#009af9\" fill-rule=\"evenodd\" fill-opacity=\"1\" stroke=\"#000000\" stroke-opacity=\"1\" stroke-width=\"3.2\"/>\n",
       "<circle clip-path=\"url(#clip852)\" cx=\"339.231\" cy=\"1447.87\" r=\"14\" fill=\"#009af9\" fill-rule=\"evenodd\" fill-opacity=\"1\" stroke=\"#000000\" stroke-opacity=\"1\" stroke-width=\"3.2\"/>\n",
       "<circle clip-path=\"url(#clip852)\" cx=\"441.962\" cy=\"1447.87\" r=\"14\" fill=\"#009af9\" fill-rule=\"evenodd\" fill-opacity=\"1\" stroke=\"#000000\" stroke-opacity=\"1\" stroke-width=\"3.2\"/>\n",
       "<circle clip-path=\"url(#clip852)\" cx=\"544.693\" cy=\"1447.87\" r=\"14\" fill=\"#009af9\" fill-rule=\"evenodd\" fill-opacity=\"1\" stroke=\"#000000\" stroke-opacity=\"1\" stroke-width=\"3.2\"/>\n",
       "<circle clip-path=\"url(#clip852)\" cx=\"647.424\" cy=\"1447.87\" r=\"14\" fill=\"#009af9\" fill-rule=\"evenodd\" fill-opacity=\"1\" stroke=\"#000000\" stroke-opacity=\"1\" stroke-width=\"3.2\"/>\n",
       "<circle clip-path=\"url(#clip852)\" cx=\"750.155\" cy=\"1447.87\" r=\"14\" fill=\"#009af9\" fill-rule=\"evenodd\" fill-opacity=\"1\" stroke=\"#000000\" stroke-opacity=\"1\" stroke-width=\"3.2\"/>\n",
       "<circle clip-path=\"url(#clip852)\" cx=\"852.886\" cy=\"1447.87\" r=\"14\" fill=\"#009af9\" fill-rule=\"evenodd\" fill-opacity=\"1\" stroke=\"#000000\" stroke-opacity=\"1\" stroke-width=\"3.2\"/>\n",
       "<circle clip-path=\"url(#clip852)\" cx=\"955.616\" cy=\"1447.87\" r=\"14\" fill=\"#009af9\" fill-rule=\"evenodd\" fill-opacity=\"1\" stroke=\"#000000\" stroke-opacity=\"1\" stroke-width=\"3.2\"/>\n",
       "<circle clip-path=\"url(#clip852)\" cx=\"1058.35\" cy=\"1447.87\" r=\"14\" fill=\"#009af9\" fill-rule=\"evenodd\" fill-opacity=\"1\" stroke=\"#000000\" stroke-opacity=\"1\" stroke-width=\"3.2\"/>\n",
       "<circle clip-path=\"url(#clip852)\" cx=\"1161.08\" cy=\"1447.87\" r=\"14\" fill=\"#009af9\" fill-rule=\"evenodd\" fill-opacity=\"1\" stroke=\"#000000\" stroke-opacity=\"1\" stroke-width=\"3.2\"/>\n",
       "<circle clip-path=\"url(#clip852)\" cx=\"1263.81\" cy=\"162.047\" r=\"14\" fill=\"#009af9\" fill-rule=\"evenodd\" fill-opacity=\"1\" stroke=\"#000000\" stroke-opacity=\"1\" stroke-width=\"3.2\"/>\n",
       "<circle clip-path=\"url(#clip852)\" cx=\"1366.54\" cy=\"1447.87\" r=\"14\" fill=\"#009af9\" fill-rule=\"evenodd\" fill-opacity=\"1\" stroke=\"#000000\" stroke-opacity=\"1\" stroke-width=\"3.2\"/>\n",
       "<circle clip-path=\"url(#clip852)\" cx=\"1469.27\" cy=\"1447.87\" r=\"14\" fill=\"#009af9\" fill-rule=\"evenodd\" fill-opacity=\"1\" stroke=\"#000000\" stroke-opacity=\"1\" stroke-width=\"3.2\"/>\n",
       "<circle clip-path=\"url(#clip852)\" cx=\"1572\" cy=\"1447.87\" r=\"14\" fill=\"#009af9\" fill-rule=\"evenodd\" fill-opacity=\"1\" stroke=\"#000000\" stroke-opacity=\"1\" stroke-width=\"3.2\"/>\n",
       "<circle clip-path=\"url(#clip852)\" cx=\"1674.73\" cy=\"1447.87\" r=\"14\" fill=\"#009af9\" fill-rule=\"evenodd\" fill-opacity=\"1\" stroke=\"#000000\" stroke-opacity=\"1\" stroke-width=\"3.2\"/>\n",
       "<circle clip-path=\"url(#clip852)\" cx=\"1777.46\" cy=\"1447.87\" r=\"14\" fill=\"#009af9\" fill-rule=\"evenodd\" fill-opacity=\"1\" stroke=\"#000000\" stroke-opacity=\"1\" stroke-width=\"3.2\"/>\n",
       "<circle clip-path=\"url(#clip852)\" cx=\"1880.19\" cy=\"1447.87\" r=\"14\" fill=\"#009af9\" fill-rule=\"evenodd\" fill-opacity=\"1\" stroke=\"#000000\" stroke-opacity=\"1\" stroke-width=\"3.2\"/>\n",
       "<circle clip-path=\"url(#clip852)\" cx=\"1982.92\" cy=\"1447.87\" r=\"14\" fill=\"#009af9\" fill-rule=\"evenodd\" fill-opacity=\"1\" stroke=\"#000000\" stroke-opacity=\"1\" stroke-width=\"3.2\"/>\n",
       "<circle clip-path=\"url(#clip852)\" cx=\"2085.66\" cy=\"1447.87\" r=\"14\" fill=\"#009af9\" fill-rule=\"evenodd\" fill-opacity=\"1\" stroke=\"#000000\" stroke-opacity=\"1\" stroke-width=\"3.2\"/>\n",
       "<circle clip-path=\"url(#clip852)\" cx=\"2188.39\" cy=\"1447.87\" r=\"14\" fill=\"#009af9\" fill-rule=\"evenodd\" fill-opacity=\"1\" stroke=\"#000000\" stroke-opacity=\"1\" stroke-width=\"3.2\"/>\n",
       "<circle clip-path=\"url(#clip852)\" cx=\"2291.12\" cy=\"1447.87\" r=\"14\" fill=\"#009af9\" fill-rule=\"evenodd\" fill-opacity=\"1\" stroke=\"#000000\" stroke-opacity=\"1\" stroke-width=\"3.2\"/>\n",
       "<polyline clip-path=\"url(#clip852)\" style=\"stroke:#ff0000; stroke-width:8; stroke-opacity:1; fill:none\" points=\"\n",
       "  236.501,1386.64 256.566,1386.64 442.096,1386.64 553.591,1386.64 647.86,1386.64 750.262,1386.64 844.667,1386.64 945.879,1386.64 1063.14,1386.64 1167.36,1386.64 \n",
       "  1258.74,1386.64 1358.37,1386.64 1458.6,1386.64 1569.41,1386.64 1674.84,1386.64 1784.47,1386.64 1876.75,1386.64 1989.42,1386.64 2095.33,1386.64 2265,1386.64 \n",
       "  2291.12,1386.64 \n",
       "  \"/>\n",
       "</svg>\n"
      ]
     },
     "execution_count": 57,
     "metadata": {},
     "output_type": "execute_result"
    }
   ],
   "source": [
    "n = 21\n",
    "x = range(-10, 10, length=n)\n",
    "y = zeros(n)\n",
    "y[11] = 1;\n",
    "\n",
    "a = regressão_coeficientes_lineares(x, y, 1) # recebe os coeficientes com polinômio de grau 1: c0 + c1*x\n",
    "println(a)  # printa os coeficientes\n",
    "\n",
    "# Plota os pontos junto com a curva que conseguimos que minimiza a soma dos quadrados das distâncias\n",
    "scatter(x,y,leg=false)\n",
    "plot!(x -> a[1] + a[2] * x, extrema(x)..., c=:red, lw=2)\n",
    "title!(\"Mínimos Quadrados\")"
   ]
  },
  {
   "cell_type": "code",
   "execution_count": 58,
   "metadata": {},
   "outputs": [
    {
     "name": "stdout",
     "output_type": "stream",
     "text": [
      "[-1035.347565078044; 54.54998093497836]\n"
     ]
    },
    {
     "data": {
      "image/svg+xml": [
       "<?xml version=\"1.0\" encoding=\"utf-8\"?>\n",
       "<svg xmlns=\"http://www.w3.org/2000/svg\" xmlns:xlink=\"http://www.w3.org/1999/xlink\" width=\"600\" height=\"400\" viewBox=\"0 0 2400 1600\">\n",
       "<defs>\n",
       "  <clipPath id=\"clip890\">\n",
       "    <rect x=\"0\" y=\"0\" width=\"2400\" height=\"1600\"/>\n",
       "  </clipPath>\n",
       "</defs>\n",
       "<path clip-path=\"url(#clip890)\" d=\"\n",
       "M0 1600 L2400 1600 L2400 0 L0 0  Z\n",
       "  \" fill=\"#ffffff\" fill-rule=\"evenodd\" fill-opacity=\"1\"/>\n",
       "<defs>\n",
       "  <clipPath id=\"clip891\">\n",
       "    <rect x=\"480\" y=\"0\" width=\"1681\" height=\"1600\"/>\n",
       "  </clipPath>\n",
       "</defs>\n",
       "<path clip-path=\"url(#clip890)\" d=\"\n",
       "M188.612 1486.45 L2352.76 1486.45 L2352.76 123.472 L188.612 123.472  Z\n",
       "  \" fill=\"#ffffff\" fill-rule=\"evenodd\" fill-opacity=\"1\"/>\n",
       "<defs>\n",
       "  <clipPath id=\"clip892\">\n",
       "    <rect x=\"188\" y=\"123\" width=\"2165\" height=\"1364\"/>\n",
       "  </clipPath>\n",
       "</defs>\n",
       "<polyline clip-path=\"url(#clip892)\" style=\"stroke:#000000; stroke-width:2; stroke-opacity:0.1; fill:none\" points=\"\n",
       "  360.221,1486.45 360.221,123.472 \n",
       "  \"/>\n",
       "<polyline clip-path=\"url(#clip892)\" style=\"stroke:#000000; stroke-width:2; stroke-opacity:0.1; fill:none\" points=\"\n",
       "  774.068,1486.45 774.068,123.472 \n",
       "  \"/>\n",
       "<polyline clip-path=\"url(#clip892)\" style=\"stroke:#000000; stroke-width:2; stroke-opacity:0.1; fill:none\" points=\"\n",
       "  1187.91,1486.45 1187.91,123.472 \n",
       "  \"/>\n",
       "<polyline clip-path=\"url(#clip892)\" style=\"stroke:#000000; stroke-width:2; stroke-opacity:0.1; fill:none\" points=\"\n",
       "  1601.76,1486.45 1601.76,123.472 \n",
       "  \"/>\n",
       "<polyline clip-path=\"url(#clip892)\" style=\"stroke:#000000; stroke-width:2; stroke-opacity:0.1; fill:none\" points=\"\n",
       "  2015.61,1486.45 2015.61,123.472 \n",
       "  \"/>\n",
       "<polyline clip-path=\"url(#clip890)\" style=\"stroke:#000000; stroke-width:4; stroke-opacity:1; fill:none\" points=\"\n",
       "  188.612,1486.45 2352.76,1486.45 \n",
       "  \"/>\n",
       "<polyline clip-path=\"url(#clip890)\" style=\"stroke:#000000; stroke-width:4; stroke-opacity:1; fill:none\" points=\"\n",
       "  360.221,1486.45 360.221,1470.09 \n",
       "  \"/>\n",
       "<polyline clip-path=\"url(#clip890)\" style=\"stroke:#000000; stroke-width:4; stroke-opacity:1; fill:none\" points=\"\n",
       "  774.068,1486.45 774.068,1470.09 \n",
       "  \"/>\n",
       "<polyline clip-path=\"url(#clip890)\" style=\"stroke:#000000; stroke-width:4; stroke-opacity:1; fill:none\" points=\"\n",
       "  1187.91,1486.45 1187.91,1470.09 \n",
       "  \"/>\n",
       "<polyline clip-path=\"url(#clip890)\" style=\"stroke:#000000; stroke-width:4; stroke-opacity:1; fill:none\" points=\"\n",
       "  1601.76,1486.45 1601.76,1470.09 \n",
       "  \"/>\n",
       "<polyline clip-path=\"url(#clip890)\" style=\"stroke:#000000; stroke-width:4; stroke-opacity:1; fill:none\" points=\"\n",
       "  2015.61,1486.45 2015.61,1470.09 \n",
       "  \"/>\n",
       "<path clip-path=\"url(#clip890)\" d=\"M 0 0 M341.123 1543.18 L357.443 1543.18 L357.443 1547.12 L335.498 1547.12 L335.498 1543.18 Q338.16 1540.43 342.744 1535.8 Q347.35 1531.15 348.531 1529.81 Q350.776 1527.28 351.656 1525.55 Q352.559 1523.79 352.559 1522.1 Q352.559 1519.34 350.614 1517.61 Q348.693 1515.87 345.591 1515.87 Q343.392 1515.87 340.938 1516.63 Q338.508 1517.4 335.73 1518.95 L335.73 1514.23 Q338.554 1513.09 341.008 1512.51 Q343.461 1511.93 345.498 1511.93 Q350.869 1511.93 354.063 1514.62 Q357.258 1517.31 357.258 1521.8 Q357.258 1523.93 356.447 1525.85 Q355.66 1527.74 353.554 1530.34 Q352.975 1531.01 349.873 1534.23 Q346.772 1537.42 341.123 1543.18 Z\" fill=\"#000000\" fill-rule=\"evenodd\" fill-opacity=\"1\" /><path clip-path=\"url(#clip890)\" d=\"M 0 0 M375.359 1516.63 L363.554 1535.08 L375.359 1535.08 L375.359 1516.63 M374.132 1512.56 L380.012 1512.56 L380.012 1535.08 L384.943 1535.08 L384.943 1538.97 L380.012 1538.97 L380.012 1547.12 L375.359 1547.12 L375.359 1538.97 L359.758 1538.97 L359.758 1534.46 L374.132 1512.56 Z\" fill=\"#000000\" fill-rule=\"evenodd\" fill-opacity=\"1\" /><path clip-path=\"url(#clip890)\" d=\"M 0 0 M755.665 1543.18 L771.984 1543.18 L771.984 1547.12 L750.04 1547.12 L750.04 1543.18 Q752.702 1540.43 757.285 1535.8 Q761.892 1531.15 763.072 1529.81 Q765.318 1527.28 766.197 1525.55 Q767.1 1523.79 767.1 1522.1 Q767.1 1519.34 765.156 1517.61 Q763.234 1515.87 760.132 1515.87 Q757.933 1515.87 755.48 1516.63 Q753.049 1517.4 750.271 1518.95 L750.271 1514.23 Q753.095 1513.09 755.549 1512.51 Q758.003 1511.93 760.04 1511.93 Q765.41 1511.93 768.605 1514.62 Q771.799 1517.31 771.799 1521.8 Q771.799 1523.93 770.989 1525.85 Q770.202 1527.74 768.095 1530.34 Q767.517 1531.01 764.415 1534.23 Q761.313 1537.42 755.665 1543.18 Z\" fill=\"#000000\" fill-rule=\"evenodd\" fill-opacity=\"1\" /><path clip-path=\"url(#clip890)\" d=\"M 0 0 M775.873 1512.56 L798.095 1512.56 L798.095 1514.55 L785.549 1547.12 L780.665 1547.12 L792.47 1516.5 L775.873 1516.5 L775.873 1512.56 Z\" fill=\"#000000\" fill-rule=\"evenodd\" fill-opacity=\"1\" /><path clip-path=\"url(#clip890)\" d=\"M 0 0 M1178.66 1528.49 Q1182.01 1529.2 1183.89 1531.47 Q1185.78 1533.74 1185.78 1537.07 Q1185.78 1542.19 1182.27 1544.99 Q1178.75 1547.79 1172.27 1547.79 Q1170.09 1547.79 1167.78 1547.35 Q1165.48 1546.93 1163.03 1546.08 L1163.03 1541.56 Q1164.97 1542.7 1167.29 1543.28 Q1169.6 1543.86 1172.13 1543.86 Q1176.53 1543.86 1178.82 1542.12 Q1181.13 1540.38 1181.13 1537.07 Q1181.13 1534.02 1178.98 1532.31 Q1176.85 1530.57 1173.03 1530.57 L1169 1530.57 L1169 1526.73 L1173.22 1526.73 Q1176.66 1526.73 1178.49 1525.36 Q1180.32 1523.97 1180.32 1521.38 Q1180.32 1518.72 1178.42 1517.31 Q1176.55 1515.87 1173.03 1515.87 Q1171.11 1515.87 1168.91 1516.29 Q1166.71 1516.7 1164.07 1517.58 L1164.07 1513.42 Q1166.73 1512.68 1169.05 1512.31 Q1171.39 1511.93 1173.45 1511.93 Q1178.77 1511.93 1181.87 1514.37 Q1184.97 1516.77 1184.97 1520.89 Q1184.97 1523.76 1183.33 1525.75 Q1181.69 1527.72 1178.66 1528.49 Z\" fill=\"#000000\" fill-rule=\"evenodd\" fill-opacity=\"1\" /><path clip-path=\"url(#clip890)\" d=\"M 0 0 M1200.85 1515.64 Q1197.24 1515.64 1195.41 1519.2 Q1193.61 1522.75 1193.61 1529.87 Q1193.61 1536.98 1195.41 1540.55 Q1197.24 1544.09 1200.85 1544.09 Q1204.49 1544.09 1206.29 1540.55 Q1208.12 1536.98 1208.12 1529.87 Q1208.12 1522.75 1206.29 1519.2 Q1204.49 1515.64 1200.85 1515.64 M1200.85 1511.93 Q1206.66 1511.93 1209.72 1516.54 Q1212.8 1521.12 1212.8 1529.87 Q1212.8 1538.6 1209.72 1543.21 Q1206.66 1547.79 1200.85 1547.79 Q1195.04 1547.79 1191.97 1543.21 Q1188.91 1538.6 1188.91 1529.87 Q1188.91 1521.12 1191.97 1516.54 Q1195.04 1511.93 1200.85 1511.93 Z\" fill=\"#000000\" fill-rule=\"evenodd\" fill-opacity=\"1\" /><path clip-path=\"url(#clip890)\" d=\"M 0 0 M1592.83 1528.49 Q1596.18 1529.2 1598.06 1531.47 Q1599.96 1533.74 1599.96 1537.07 Q1599.96 1542.19 1596.44 1544.99 Q1592.92 1547.79 1586.44 1547.79 Q1584.26 1547.79 1581.95 1547.35 Q1579.66 1546.93 1577.2 1546.08 L1577.2 1541.56 Q1579.15 1542.7 1581.46 1543.28 Q1583.78 1543.86 1586.3 1543.86 Q1590.7 1543.86 1592.99 1542.12 Q1595.3 1540.38 1595.3 1537.07 Q1595.3 1534.02 1593.15 1532.31 Q1591.02 1530.57 1587.2 1530.57 L1583.17 1530.57 L1583.17 1526.73 L1587.39 1526.73 Q1590.84 1526.73 1592.66 1525.36 Q1594.49 1523.97 1594.49 1521.38 Q1594.49 1518.72 1592.59 1517.31 Q1590.72 1515.87 1587.2 1515.87 Q1585.28 1515.87 1583.08 1516.29 Q1580.88 1516.7 1578.24 1517.58 L1578.24 1513.42 Q1580.91 1512.68 1583.22 1512.31 Q1585.56 1511.93 1587.62 1511.93 Q1592.94 1511.93 1596.04 1514.37 Q1599.15 1516.77 1599.15 1520.89 Q1599.15 1523.76 1597.5 1525.75 Q1595.86 1527.72 1592.83 1528.49 Z\" fill=\"#000000\" fill-rule=\"evenodd\" fill-opacity=\"1\" /><path clip-path=\"url(#clip890)\" d=\"M 0 0 M1619.19 1528.49 Q1622.55 1529.2 1624.42 1531.47 Q1626.32 1533.74 1626.32 1537.07 Q1626.32 1542.19 1622.8 1544.99 Q1619.28 1547.79 1612.8 1547.79 Q1610.63 1547.79 1608.31 1547.35 Q1606.02 1546.93 1603.57 1546.08 L1603.57 1541.56 Q1605.51 1542.7 1607.83 1543.28 Q1610.14 1543.86 1612.66 1543.86 Q1617.06 1543.86 1619.35 1542.12 Q1621.67 1540.38 1621.67 1537.07 Q1621.67 1534.02 1619.52 1532.31 Q1617.39 1530.57 1613.57 1530.57 L1609.54 1530.57 L1609.54 1526.73 L1613.75 1526.73 Q1617.2 1526.73 1619.03 1525.36 Q1620.86 1523.97 1620.86 1521.38 Q1620.86 1518.72 1618.96 1517.31 Q1617.09 1515.87 1613.57 1515.87 Q1611.65 1515.87 1609.45 1516.29 Q1607.25 1516.7 1604.61 1517.58 L1604.61 1513.42 Q1607.27 1512.68 1609.59 1512.31 Q1611.92 1511.93 1613.98 1511.93 Q1619.31 1511.93 1622.41 1514.37 Q1625.51 1516.77 1625.51 1520.89 Q1625.51 1523.76 1623.87 1525.75 Q1622.22 1527.72 1619.19 1528.49 Z\" fill=\"#000000\" fill-rule=\"evenodd\" fill-opacity=\"1\" /><path clip-path=\"url(#clip890)\" d=\"M 0 0 M2006.27 1528.49 Q2009.62 1529.2 2011.5 1531.47 Q2013.4 1533.74 2013.4 1537.07 Q2013.4 1542.19 2009.88 1544.99 Q2006.36 1547.79 1999.88 1547.79 Q1997.7 1547.79 1995.39 1547.35 Q1993.1 1546.93 1990.64 1546.08 L1990.64 1541.56 Q1992.59 1542.7 1994.9 1543.28 Q1997.22 1543.86 1999.74 1543.86 Q2004.14 1543.86 2006.43 1542.12 Q2008.75 1540.38 2008.75 1537.07 Q2008.75 1534.02 2006.59 1532.31 Q2004.46 1530.57 2000.64 1530.57 L1996.62 1530.57 L1996.62 1526.73 L2000.83 1526.73 Q2004.28 1526.73 2006.11 1525.36 Q2007.93 1523.97 2007.93 1521.38 Q2007.93 1518.72 2006.04 1517.31 Q2004.16 1515.87 2000.64 1515.87 Q1998.72 1515.87 1996.52 1516.29 Q1994.32 1516.7 1991.69 1517.58 L1991.69 1513.42 Q1994.35 1512.68 1996.66 1512.31 Q1999 1511.93 2001.06 1511.93 Q2006.38 1511.93 2009.49 1514.37 Q2012.59 1516.77 2012.59 1520.89 Q2012.59 1523.76 2010.94 1525.75 Q2009.3 1527.72 2006.27 1528.49 Z\" fill=\"#000000\" fill-rule=\"evenodd\" fill-opacity=\"1\" /><path clip-path=\"url(#clip890)\" d=\"M 0 0 M2029.05 1527.98 Q2025.9 1527.98 2024.05 1530.13 Q2022.22 1532.28 2022.22 1536.03 Q2022.22 1539.76 2024.05 1541.93 Q2025.9 1544.09 2029.05 1544.09 Q2032.19 1544.09 2034.02 1541.93 Q2035.87 1539.76 2035.87 1536.03 Q2035.87 1532.28 2034.02 1530.13 Q2032.19 1527.98 2029.05 1527.98 M2038.33 1513.32 L2038.33 1517.58 Q2036.57 1516.75 2034.76 1516.31 Q2032.98 1515.87 2031.22 1515.87 Q2026.59 1515.87 2024.14 1519 Q2021.71 1522.12 2021.36 1528.44 Q2022.73 1526.43 2024.79 1525.36 Q2026.85 1524.27 2029.32 1524.27 Q2034.53 1524.27 2037.54 1527.44 Q2040.57 1530.59 2040.57 1536.03 Q2040.57 1541.36 2037.43 1544.57 Q2034.28 1547.79 2029.05 1547.79 Q2023.05 1547.79 2019.88 1543.21 Q2016.71 1538.6 2016.71 1529.87 Q2016.71 1521.68 2020.6 1516.82 Q2024.49 1511.93 2031.04 1511.93 Q2032.8 1511.93 2034.58 1512.28 Q2036.38 1512.63 2038.33 1513.32 Z\" fill=\"#000000\" fill-rule=\"evenodd\" fill-opacity=\"1\" /><polyline clip-path=\"url(#clip892)\" style=\"stroke:#000000; stroke-width:2; stroke-opacity:0.1; fill:none\" points=\"\n",
       "  188.612,1177.46 2352.76,1177.46 \n",
       "  \"/>\n",
       "<polyline clip-path=\"url(#clip892)\" style=\"stroke:#000000; stroke-width:2; stroke-opacity:0.1; fill:none\" points=\"\n",
       "  188.612,858.923 2352.76,858.923 \n",
       "  \"/>\n",
       "<polyline clip-path=\"url(#clip892)\" style=\"stroke:#000000; stroke-width:2; stroke-opacity:0.1; fill:none\" points=\"\n",
       "  188.612,540.389 2352.76,540.389 \n",
       "  \"/>\n",
       "<polyline clip-path=\"url(#clip892)\" style=\"stroke:#000000; stroke-width:2; stroke-opacity:0.1; fill:none\" points=\"\n",
       "  188.612,221.854 2352.76,221.854 \n",
       "  \"/>\n",
       "<polyline clip-path=\"url(#clip890)\" style=\"stroke:#000000; stroke-width:4; stroke-opacity:1; fill:none\" points=\"\n",
       "  188.612,1486.45 188.612,123.472 \n",
       "  \"/>\n",
       "<polyline clip-path=\"url(#clip890)\" style=\"stroke:#000000; stroke-width:4; stroke-opacity:1; fill:none\" points=\"\n",
       "  188.612,1177.46 214.582,1177.46 \n",
       "  \"/>\n",
       "<polyline clip-path=\"url(#clip890)\" style=\"stroke:#000000; stroke-width:4; stroke-opacity:1; fill:none\" points=\"\n",
       "  188.612,858.923 214.582,858.923 \n",
       "  \"/>\n",
       "<polyline clip-path=\"url(#clip890)\" style=\"stroke:#000000; stroke-width:4; stroke-opacity:1; fill:none\" points=\"\n",
       "  188.612,540.389 214.582,540.389 \n",
       "  \"/>\n",
       "<polyline clip-path=\"url(#clip890)\" style=\"stroke:#000000; stroke-width:4; stroke-opacity:1; fill:none\" points=\"\n",
       "  188.612,221.854 214.582,221.854 \n",
       "  \"/>\n",
       "<path clip-path=\"url(#clip890)\" d=\"M 0 0 M89.0012 1164.25 L77.1957 1182.7 L89.0012 1182.7 L89.0012 1164.25 M87.7743 1160.18 L93.6539 1160.18 L93.6539 1182.7 L98.5845 1182.7 L98.5845 1186.59 L93.6539 1186.59 L93.6539 1194.74 L89.0012 1194.74 L89.0012 1186.59 L73.3994 1186.59 L73.3994 1182.07 L87.7743 1160.18 Z\" fill=\"#000000\" fill-rule=\"evenodd\" fill-opacity=\"1\" /><path clip-path=\"url(#clip890)\" d=\"M 0 0 M113.654 1163.26 Q110.043 1163.26 108.214 1166.82 Q106.408 1170.36 106.408 1177.49 Q106.408 1184.6 108.214 1188.16 Q110.043 1191.7 113.654 1191.7 Q117.288 1191.7 119.094 1188.16 Q120.922 1184.6 120.922 1177.49 Q120.922 1170.36 119.094 1166.82 Q117.288 1163.26 113.654 1163.26 M113.654 1159.55 Q119.464 1159.55 122.52 1164.16 Q125.598 1168.74 125.598 1177.49 Q125.598 1186.22 122.52 1190.82 Q119.464 1195.41 113.654 1195.41 Q107.844 1195.41 104.765 1190.82 Q101.709 1186.22 101.709 1177.49 Q101.709 1168.74 104.765 1164.16 Q107.844 1159.55 113.654 1159.55 Z\" fill=\"#000000\" fill-rule=\"evenodd\" fill-opacity=\"1\" /><path clip-path=\"url(#clip890)\" d=\"M 0 0 M140.668 1163.26 Q137.056 1163.26 135.228 1166.82 Q133.422 1170.36 133.422 1177.49 Q133.422 1184.6 135.228 1188.16 Q137.056 1191.7 140.668 1191.7 Q144.302 1191.7 146.107 1188.16 Q147.936 1184.6 147.936 1177.49 Q147.936 1170.36 146.107 1166.82 Q144.302 1163.26 140.668 1163.26 M140.668 1159.55 Q146.478 1159.55 149.533 1164.16 Q152.612 1168.74 152.612 1177.49 Q152.612 1186.22 149.533 1190.82 Q146.478 1195.41 140.668 1195.41 Q134.857 1195.41 131.779 1190.82 Q128.723 1186.22 128.723 1177.49 Q128.723 1168.74 131.779 1164.16 Q134.857 1159.55 140.668 1159.55 Z\" fill=\"#000000\" fill-rule=\"evenodd\" fill-opacity=\"1\" /><path clip-path=\"url(#clip890)\" d=\"M 0 0 M87.0567 857.059 Q83.9086 857.059 82.0568 859.212 Q80.2281 861.365 80.2281 865.115 Q80.2281 868.842 82.0568 871.017 Q83.9086 873.17 87.0567 873.17 Q90.2049 873.17 92.0336 871.017 Q93.8854 868.842 93.8854 865.115 Q93.8854 861.365 92.0336 859.212 Q90.2049 857.059 87.0567 857.059 M96.3391 842.407 L96.3391 846.666 Q94.5799 845.832 92.7743 845.393 Q90.9919 844.953 89.2327 844.953 Q84.6031 844.953 82.1494 848.078 Q79.7188 851.203 79.3716 857.522 Q80.7373 855.508 82.7975 854.443 Q84.8577 853.356 87.3345 853.356 Q92.5428 853.356 95.5521 856.527 Q98.5845 859.675 98.5845 865.115 Q98.5845 870.439 95.4363 873.656 Q92.2882 876.874 87.0567 876.874 Q81.0614 876.874 77.8901 872.291 Q74.7189 867.684 74.7189 858.957 Q74.7189 850.763 78.6077 845.902 Q82.4966 841.018 89.0475 841.018 Q90.8067 841.018 92.5891 841.365 Q94.3947 841.712 96.3391 842.407 Z\" fill=\"#000000\" fill-rule=\"evenodd\" fill-opacity=\"1\" /><path clip-path=\"url(#clip890)\" d=\"M 0 0 M113.654 844.721 Q110.043 844.721 108.214 848.286 Q106.408 851.828 106.408 858.957 Q106.408 866.064 108.214 869.629 Q110.043 873.17 113.654 873.17 Q117.288 873.17 119.094 869.629 Q120.922 866.064 120.922 858.957 Q120.922 851.828 119.094 848.286 Q117.288 844.721 113.654 844.721 M113.654 841.018 Q119.464 841.018 122.52 845.624 Q125.598 850.207 125.598 858.957 Q125.598 867.684 122.52 872.291 Q119.464 876.874 113.654 876.874 Q107.844 876.874 104.765 872.291 Q101.709 867.684 101.709 858.957 Q101.709 850.207 104.765 845.624 Q107.844 841.018 113.654 841.018 Z\" fill=\"#000000\" fill-rule=\"evenodd\" fill-opacity=\"1\" /><path clip-path=\"url(#clip890)\" d=\"M 0 0 M140.668 844.721 Q137.056 844.721 135.228 848.286 Q133.422 851.828 133.422 858.957 Q133.422 866.064 135.228 869.629 Q137.056 873.17 140.668 873.17 Q144.302 873.17 146.107 869.629 Q147.936 866.064 147.936 858.957 Q147.936 851.828 146.107 848.286 Q144.302 844.721 140.668 844.721 M140.668 841.018 Q146.478 841.018 149.533 845.624 Q152.612 850.207 152.612 858.957 Q152.612 867.684 149.533 872.291 Q146.478 876.874 140.668 876.874 Q134.857 876.874 131.779 872.291 Q128.723 867.684 128.723 858.957 Q128.723 850.207 131.779 845.624 Q134.857 841.018 140.668 841.018 Z\" fill=\"#000000\" fill-rule=\"evenodd\" fill-opacity=\"1\" /><path clip-path=\"url(#clip890)\" d=\"M 0 0 M86.7327 541.257 Q83.3994 541.257 81.4781 543.039 Q79.5799 544.821 79.5799 547.946 Q79.5799 551.071 81.4781 552.854 Q83.3994 554.636 86.7327 554.636 Q90.066 554.636 91.9873 552.854 Q93.9086 551.048 93.9086 547.946 Q93.9086 544.821 91.9873 543.039 Q90.0891 541.257 86.7327 541.257 M82.0568 539.266 Q79.0475 538.525 77.3577 536.465 Q75.6911 534.405 75.6911 531.442 Q75.6911 527.298 78.6309 524.891 Q81.5938 522.484 86.7327 522.484 Q91.8947 522.484 94.8345 524.891 Q97.7743 527.298 97.7743 531.442 Q97.7743 534.405 96.0845 536.465 Q94.4178 538.525 91.4317 539.266 Q94.8113 540.053 96.6863 542.345 Q98.5845 544.636 98.5845 547.946 Q98.5845 552.969 95.5058 555.655 Q92.4502 558.34 86.7327 558.34 Q81.0151 558.34 77.9364 555.655 Q74.8809 552.969 74.8809 547.946 Q74.8809 544.636 76.779 542.345 Q78.6772 540.053 82.0568 539.266 M80.3438 531.882 Q80.3438 534.567 82.0105 536.071 Q83.7003 537.576 86.7327 537.576 Q89.7419 537.576 91.4317 536.071 Q93.1447 534.567 93.1447 531.882 Q93.1447 529.196 91.4317 527.692 Q89.7419 526.187 86.7327 526.187 Q83.7003 526.187 82.0105 527.692 Q80.3438 529.196 80.3438 531.882 Z\" fill=\"#000000\" fill-rule=\"evenodd\" fill-opacity=\"1\" /><path clip-path=\"url(#clip890)\" d=\"M 0 0 M113.654 526.187 Q110.043 526.187 108.214 529.752 Q106.408 533.294 106.408 540.423 Q106.408 547.53 108.214 551.094 Q110.043 554.636 113.654 554.636 Q117.288 554.636 119.094 551.094 Q120.922 547.53 120.922 540.423 Q120.922 533.294 119.094 529.752 Q117.288 526.187 113.654 526.187 M113.654 522.484 Q119.464 522.484 122.52 527.09 Q125.598 531.673 125.598 540.423 Q125.598 549.15 122.52 553.757 Q119.464 558.34 113.654 558.34 Q107.844 558.34 104.765 553.757 Q101.709 549.15 101.709 540.423 Q101.709 531.673 104.765 527.09 Q107.844 522.484 113.654 522.484 Z\" fill=\"#000000\" fill-rule=\"evenodd\" fill-opacity=\"1\" /><path clip-path=\"url(#clip890)\" d=\"M 0 0 M140.668 526.187 Q137.056 526.187 135.228 529.752 Q133.422 533.294 133.422 540.423 Q133.422 547.53 135.228 551.094 Q137.056 554.636 140.668 554.636 Q144.302 554.636 146.107 551.094 Q147.936 547.53 147.936 540.423 Q147.936 533.294 146.107 529.752 Q144.302 526.187 140.668 526.187 M140.668 522.484 Q146.478 522.484 149.533 527.09 Q152.612 531.673 152.612 540.423 Q152.612 549.15 149.533 553.757 Q146.478 558.34 140.668 558.34 Q134.857 558.34 131.779 553.757 Q128.723 549.15 128.723 540.423 Q128.723 531.673 131.779 527.09 Q134.857 522.484 140.668 522.484 Z\" fill=\"#000000\" fill-rule=\"evenodd\" fill-opacity=\"1\" /><path clip-path=\"url(#clip890)\" d=\"M 0 0 M51.6634 235.199 L59.3023 235.199 L59.3023 208.834 L50.9921 210.5 L50.9921 206.241 L59.256 204.574 L63.9319 204.574 L63.9319 235.199 L71.5707 235.199 L71.5707 239.134 L51.6634 239.134 L51.6634 235.199 Z\" fill=\"#000000\" fill-rule=\"evenodd\" fill-opacity=\"1\" /><path clip-path=\"url(#clip890)\" d=\"M 0 0 M86.6401 207.653 Q83.029 207.653 81.2003 211.218 Q79.3948 214.76 79.3948 221.889 Q79.3948 228.996 81.2003 232.56 Q83.029 236.102 86.6401 236.102 Q90.2743 236.102 92.0799 232.56 Q93.9086 228.996 93.9086 221.889 Q93.9086 214.76 92.0799 211.218 Q90.2743 207.653 86.6401 207.653 M86.6401 203.949 Q92.4502 203.949 95.5058 208.556 Q98.5845 213.139 98.5845 221.889 Q98.5845 230.616 95.5058 235.222 Q92.4502 239.806 86.6401 239.806 Q80.8299 239.806 77.7512 235.222 Q74.6957 230.616 74.6957 221.889 Q74.6957 213.139 77.7512 208.556 Q80.8299 203.949 86.6401 203.949 Z\" fill=\"#000000\" fill-rule=\"evenodd\" fill-opacity=\"1\" /><path clip-path=\"url(#clip890)\" d=\"M 0 0 M113.654 207.653 Q110.043 207.653 108.214 211.218 Q106.408 214.76 106.408 221.889 Q106.408 228.996 108.214 232.56 Q110.043 236.102 113.654 236.102 Q117.288 236.102 119.094 232.56 Q120.922 228.996 120.922 221.889 Q120.922 214.76 119.094 211.218 Q117.288 207.653 113.654 207.653 M113.654 203.949 Q119.464 203.949 122.52 208.556 Q125.598 213.139 125.598 221.889 Q125.598 230.616 122.52 235.222 Q119.464 239.806 113.654 239.806 Q107.844 239.806 104.765 235.222 Q101.709 230.616 101.709 221.889 Q101.709 213.139 104.765 208.556 Q107.844 203.949 113.654 203.949 Z\" fill=\"#000000\" fill-rule=\"evenodd\" fill-opacity=\"1\" /><path clip-path=\"url(#clip890)\" d=\"M 0 0 M140.668 207.653 Q137.056 207.653 135.228 211.218 Q133.422 214.76 133.422 221.889 Q133.422 228.996 135.228 232.56 Q137.056 236.102 140.668 236.102 Q144.302 236.102 146.107 232.56 Q147.936 228.996 147.936 221.889 Q147.936 214.76 146.107 211.218 Q144.302 207.653 140.668 207.653 M140.668 203.949 Q146.478 203.949 149.533 208.556 Q152.612 213.139 152.612 221.889 Q152.612 230.616 149.533 235.222 Q146.478 239.806 140.668 239.806 Q134.857 239.806 131.779 235.222 Q128.723 230.616 128.723 221.889 Q128.723 213.139 131.779 208.556 Q134.857 203.949 140.668 203.949 Z\" fill=\"#000000\" fill-rule=\"evenodd\" fill-opacity=\"1\" /><path clip-path=\"url(#clip890)\" d=\"M 0 0 M906.204 12.096 L918.397 12.096 L933.831 53.2532 L949.346 12.096 L961.539 12.096 L961.539 72.576 L953.559 72.576 L953.559 19.4686 L937.963 60.9499 L929.74 60.9499 L914.144 19.4686 L914.144 72.576 L906.204 72.576 L906.204 12.096 Z\" fill=\"#000000\" fill-rule=\"evenodd\" fill-opacity=\"1\" /><path clip-path=\"url(#clip890)\" d=\"M 0 0 M978.715 6.22219 L986.776 6.22219 L973.57 21.4536 L967.372 21.4536 L978.715 6.22219 M969.357 27.2059 L976.811 27.2059 L976.811 72.576 L969.357 72.576 L969.357 27.2059 M973.084 26.1121 L973.084 26.1121 Z\" fill=\"#000000\" fill-rule=\"evenodd\" fill-opacity=\"1\" /><path clip-path=\"url(#clip890)\" d=\"M 0 0 M1032.31 45.1919 L1032.31 72.576 L1024.85 72.576 L1024.85 45.4349 Q1024.85 38.994 1022.34 35.7938 Q1019.83 32.5936 1014.81 32.5936 Q1008.77 32.5936 1005.29 36.4419 Q1001.81 40.2903 1001.81 46.9338 L1001.81 72.576 L994.311 72.576 L994.311 27.2059 L1001.81 27.2059 L1001.81 34.2544 Q1004.48 30.163 1008.08 28.1376 Q1011.73 26.1121 1016.47 26.1121 Q1024.29 26.1121 1028.3 30.9732 Q1032.31 35.7938 1032.31 45.1919 Z\" fill=\"#000000\" fill-rule=\"evenodd\" fill-opacity=\"1\" /><path clip-path=\"url(#clip890)\" d=\"M 0 0 M1040.13 27.2059 L1047.58 27.2059 L1047.58 72.576 L1040.13 72.576 L1040.13 27.2059 M1040.13 9.54393 L1047.58 9.54393 L1047.58 18.9825 L1040.13 18.9825 L1040.13 9.54393 Z\" fill=\"#000000\" fill-rule=\"evenodd\" fill-opacity=\"1\" /><path clip-path=\"url(#clip890)\" d=\"M 0 0 M1090.72 35.9153 Q1093.52 30.8922 1097.41 28.5022 Q1101.3 26.1121 1106.56 26.1121 Q1113.65 26.1121 1117.5 31.0947 Q1121.35 36.0368 1121.35 45.1919 L1121.35 72.576 L1113.85 72.576 L1113.85 45.4349 Q1113.85 38.913 1111.54 35.7533 Q1109.24 32.5936 1104.5 32.5936 Q1098.7 32.5936 1095.34 36.4419 Q1091.98 40.2903 1091.98 46.9338 L1091.98 72.576 L1084.48 72.576 L1084.48 45.4349 Q1084.48 38.8725 1082.18 35.7533 Q1079.87 32.5936 1075.05 32.5936 Q1069.33 32.5936 1065.97 36.4824 Q1062.61 40.3308 1062.61 46.9338 L1062.61 72.576 L1055.12 72.576 L1055.12 27.2059 L1062.61 27.2059 L1062.61 34.2544 Q1065.16 30.082 1068.73 28.0971 Q1072.29 26.1121 1077.19 26.1121 Q1082.13 26.1121 1085.58 28.6237 Q1089.06 31.1352 1090.72 35.9153 Z\" fill=\"#000000\" fill-rule=\"evenodd\" fill-opacity=\"1\" /><path clip-path=\"url(#clip890)\" d=\"M 0 0 M1146.75 32.4315 Q1140.75 32.4315 1137.27 37.1306 Q1133.78 41.7891 1133.78 49.9314 Q1133.78 58.0738 1137.23 62.7728 Q1140.71 67.4314 1146.75 67.4314 Q1152.7 67.4314 1156.19 62.7323 Q1159.67 58.0333 1159.67 49.9314 Q1159.67 41.8701 1156.19 37.1711 Q1152.7 32.4315 1146.75 32.4315 M1146.75 26.1121 Q1156.47 26.1121 1162.02 32.4315 Q1167.57 38.7509 1167.57 49.9314 Q1167.57 61.0714 1162.02 67.4314 Q1156.47 73.7508 1146.75 73.7508 Q1136.98 73.7508 1131.43 67.4314 Q1125.92 61.0714 1125.92 49.9314 Q1125.92 38.7509 1131.43 32.4315 Q1136.98 26.1121 1146.75 26.1121 Z\" fill=\"#000000\" fill-rule=\"evenodd\" fill-opacity=\"1\" /><path clip-path=\"url(#clip890)\" d=\"M 0 0 M1204.31 28.5427 L1204.31 35.5912 Q1201.15 33.9709 1197.75 33.1607 Q1194.34 32.3505 1190.7 32.3505 Q1185.15 32.3505 1182.35 34.0519 Q1179.6 35.7533 1179.6 39.156 Q1179.6 41.7486 1181.58 43.2475 Q1183.57 44.7058 1189.56 46.0426 L1192.12 46.6097 Q1200.06 48.3111 1203.38 51.4303 Q1206.74 54.509 1206.74 60.0587 Q1206.74 66.3781 1201.72 70.0644 Q1196.73 73.7508 1187.98 73.7508 Q1184.34 73.7508 1180.37 73.0216 Q1176.44 72.3329 1172.06 70.9151 L1172.06 63.2184 Q1176.2 65.3654 1180.21 66.4591 Q1184.22 67.5124 1188.15 67.5124 Q1193.41 67.5124 1196.25 65.73 Q1199.08 63.9071 1199.08 60.6258 Q1199.08 57.5877 1197.02 55.9673 Q1194.99 54.3469 1188.07 52.8481 L1185.47 52.2405 Q1178.55 50.7821 1175.47 47.7845 Q1172.39 44.7463 1172.39 39.4801 Q1172.39 33.0797 1176.93 29.5959 Q1181.46 26.1121 1189.81 26.1121 Q1193.94 26.1121 1197.59 26.7198 Q1201.23 27.3274 1204.31 28.5427 Z\" fill=\"#000000\" fill-rule=\"evenodd\" fill-opacity=\"1\" /><path clip-path=\"url(#clip890)\" d=\"M 0 0 M1265.8 17.6457 Q1256.89 17.6457 1251.62 24.2892 Q1246.4 30.9327 1246.4 42.3968 Q1246.4 53.8203 1251.62 60.4638 Q1256.89 67.1073 1265.8 67.1073 Q1274.71 67.1073 1279.9 60.4638 Q1285.13 53.8203 1285.13 42.3968 Q1285.13 30.9327 1279.9 24.2892 Q1274.71 17.6457 1265.8 17.6457 M1277.27 71.4823 L1288.04 83.2704 L1278.16 83.2704 L1269.21 73.5887 Q1267.87 73.6697 1267.14 73.7103 Q1266.45 73.7508 1265.8 73.7508 Q1253.04 73.7508 1245.39 65.2439 Q1237.77 56.6965 1237.77 42.3968 Q1237.77 28.0566 1245.39 19.5497 Q1253.04 11.0023 1265.8 11.0023 Q1278.52 11.0023 1286.14 19.5497 Q1293.75 28.0566 1293.75 42.3968 Q1293.75 52.9291 1289.5 60.4233 Q1285.29 67.9175 1277.27 71.4823 Z\" fill=\"#000000\" fill-rule=\"evenodd\" fill-opacity=\"1\" /><path clip-path=\"url(#clip890)\" d=\"M 0 0 M1300.8 54.671 L1300.8 27.2059 L1308.26 27.2059 L1308.26 54.3874 Q1308.26 60.8284 1310.77 64.0691 Q1313.28 67.2693 1318.3 67.2693 Q1324.34 67.2693 1327.82 63.421 Q1331.35 59.5726 1331.35 52.9291 L1331.35 27.2059 L1338.8 27.2059 L1338.8 72.576 L1331.35 72.576 L1331.35 65.6084 Q1328.63 69.7404 1325.03 71.7658 Q1321.46 73.7508 1316.72 73.7508 Q1308.9 73.7508 1304.85 68.8897 Q1300.8 64.0286 1300.8 54.671 M1319.56 26.1121 L1319.56 26.1121 Z\" fill=\"#000000\" fill-rule=\"evenodd\" fill-opacity=\"1\" /><path clip-path=\"url(#clip890)\" d=\"M 0 0 M1367.24 49.7694 Q1358.2 49.7694 1354.72 51.8354 Q1351.24 53.9013 1351.24 58.8839 Q1351.24 62.8538 1353.83 65.2034 Q1356.46 67.5124 1360.96 67.5124 Q1367.16 67.5124 1370.88 63.1374 Q1374.65 58.7219 1374.65 51.4303 L1374.65 49.7694 L1367.24 49.7694 M1382.1 46.6907 L1382.1 72.576 L1374.65 72.576 L1374.65 65.6895 Q1372.1 69.8214 1368.29 71.8063 Q1364.48 73.7508 1358.97 73.7508 Q1352.01 73.7508 1347.87 69.8619 Q1343.78 65.9325 1343.78 59.3701 Q1343.78 51.7138 1348.89 47.825 Q1354.03 43.9361 1364.2 43.9361 L1374.65 43.9361 L1374.65 43.2069 Q1374.65 38.0623 1371.25 35.2672 Q1367.89 32.4315 1361.77 32.4315 Q1357.88 32.4315 1354.19 33.3632 Q1350.51 34.295 1347.1 36.1584 L1347.1 29.2718 Q1351.2 27.692 1355.04 26.9223 Q1358.89 26.1121 1362.54 26.1121 Q1372.38 26.1121 1377.24 31.2163 Q1382.1 36.3204 1382.1 46.6907 Z\" fill=\"#000000\" fill-rule=\"evenodd\" fill-opacity=\"1\" /><path clip-path=\"url(#clip890)\" d=\"M 0 0 M1419.78 34.0924 L1419.78 9.54393 L1427.23 9.54393 L1427.23 72.576 L1419.78 72.576 L1419.78 65.7705 Q1417.43 69.8214 1413.82 71.8063 Q1410.26 73.7508 1405.23 73.7508 Q1397.01 73.7508 1391.83 67.1883 Q1386.68 60.6258 1386.68 49.9314 Q1386.68 39.2371 1391.83 32.6746 Q1397.01 26.1121 1405.23 26.1121 Q1410.26 26.1121 1413.82 28.0971 Q1417.43 30.0415 1419.78 34.0924 M1394.38 49.9314 Q1394.38 58.1548 1397.74 62.8538 Q1401.14 67.5124 1407.06 67.5124 Q1412.97 67.5124 1416.37 62.8538 Q1419.78 58.1548 1419.78 49.9314 Q1419.78 41.7081 1416.37 37.0496 Q1412.97 32.3505 1407.06 32.3505 Q1401.14 32.3505 1397.74 37.0496 Q1394.38 41.7081 1394.38 49.9314 Z\" fill=\"#000000\" fill-rule=\"evenodd\" fill-opacity=\"1\" /><path clip-path=\"url(#clip890)\" d=\"M 0 0 M1461.34 34.1734 Q1460.08 33.4443 1458.59 33.1202 Q1457.13 32.7556 1455.34 32.7556 Q1449.02 32.7556 1445.62 36.8875 Q1442.26 40.9789 1442.26 48.6757 L1442.26 72.576 L1434.77 72.576 L1434.77 27.2059 L1442.26 27.2059 L1442.26 34.2544 Q1444.61 30.1225 1448.38 28.1376 Q1452.14 26.1121 1457.53 26.1121 Q1458.3 26.1121 1459.23 26.2337 Q1460.16 26.3147 1461.3 26.5172 L1461.34 34.1734 Z\" fill=\"#000000\" fill-rule=\"evenodd\" fill-opacity=\"1\" /><path clip-path=\"url(#clip890)\" d=\"M 0 0 M1489.78 49.7694 Q1480.74 49.7694 1477.26 51.8354 Q1473.78 53.9013 1473.78 58.8839 Q1473.78 62.8538 1476.37 65.2034 Q1479 67.5124 1483.5 67.5124 Q1489.7 67.5124 1493.42 63.1374 Q1497.19 58.7219 1497.19 51.4303 L1497.19 49.7694 L1489.78 49.7694 M1504.64 46.6907 L1504.64 72.576 L1497.19 72.576 L1497.19 65.6895 Q1494.64 69.8214 1490.83 71.8063 Q1487.02 73.7508 1481.51 73.7508 Q1474.55 73.7508 1470.41 69.8619 Q1466.32 65.9325 1466.32 59.3701 Q1466.32 51.7138 1471.43 47.825 Q1476.57 43.9361 1486.74 43.9361 L1497.19 43.9361 L1497.19 43.2069 Q1497.19 38.0623 1493.79 35.2672 Q1490.43 32.4315 1484.31 32.4315 Q1480.42 32.4315 1476.73 33.3632 Q1473.05 34.295 1469.64 36.1584 L1469.64 29.2718 Q1473.74 27.692 1477.58 26.9223 Q1481.43 26.1121 1485.08 26.1121 Q1494.92 26.1121 1499.78 31.2163 Q1504.64 36.3204 1504.64 46.6907 Z\" fill=\"#000000\" fill-rule=\"evenodd\" fill-opacity=\"1\" /><path clip-path=\"url(#clip890)\" d=\"M 0 0 M1542.32 34.0924 L1542.32 9.54393 L1549.77 9.54393 L1549.77 72.576 L1542.32 72.576 L1542.32 65.7705 Q1539.97 69.8214 1536.36 71.8063 Q1532.8 73.7508 1527.77 73.7508 Q1519.55 73.7508 1514.37 67.1883 Q1509.22 60.6258 1509.22 49.9314 Q1509.22 39.2371 1514.37 32.6746 Q1519.55 26.1121 1527.77 26.1121 Q1532.8 26.1121 1536.36 28.0971 Q1539.97 30.0415 1542.32 34.0924 M1516.92 49.9314 Q1516.92 58.1548 1520.28 62.8538 Q1523.68 67.5124 1529.6 67.5124 Q1535.51 67.5124 1538.91 62.8538 Q1542.32 58.1548 1542.32 49.9314 Q1542.32 41.7081 1538.91 37.0496 Q1535.51 32.3505 1529.6 32.3505 Q1523.68 32.3505 1520.28 37.0496 Q1516.92 41.7081 1516.92 49.9314 Z\" fill=\"#000000\" fill-rule=\"evenodd\" fill-opacity=\"1\" /><path clip-path=\"url(#clip890)\" d=\"M 0 0 M1575.17 32.4315 Q1569.17 32.4315 1565.69 37.1306 Q1562.21 41.7891 1562.21 49.9314 Q1562.21 58.0738 1565.65 62.7728 Q1569.13 67.4314 1575.17 67.4314 Q1581.12 67.4314 1584.61 62.7323 Q1588.09 58.0333 1588.09 49.9314 Q1588.09 41.8701 1584.61 37.1711 Q1581.12 32.4315 1575.17 32.4315 M1575.17 26.1121 Q1584.89 26.1121 1590.44 32.4315 Q1595.99 38.7509 1595.99 49.9314 Q1595.99 61.0714 1590.44 67.4314 Q1584.89 73.7508 1575.17 73.7508 Q1565.41 73.7508 1559.86 67.4314 Q1554.35 61.0714 1554.35 49.9314 Q1554.35 38.7509 1559.86 32.4315 Q1565.41 26.1121 1575.17 26.1121 Z\" fill=\"#000000\" fill-rule=\"evenodd\" fill-opacity=\"1\" /><path clip-path=\"url(#clip890)\" d=\"M 0 0 M1632.73 28.5427 L1632.73 35.5912 Q1629.57 33.9709 1626.17 33.1607 Q1622.77 32.3505 1619.12 32.3505 Q1613.57 32.3505 1610.78 34.0519 Q1608.02 35.7533 1608.02 39.156 Q1608.02 41.7486 1610.01 43.2475 Q1611.99 44.7058 1617.99 46.0426 L1620.54 46.6097 Q1628.48 48.3111 1631.8 51.4303 Q1635.16 54.509 1635.16 60.0587 Q1635.16 66.3781 1630.14 70.0644 Q1625.16 73.7508 1616.41 73.7508 Q1612.76 73.7508 1608.79 73.0216 Q1604.86 72.3329 1600.49 70.9151 L1600.49 63.2184 Q1604.62 65.3654 1608.63 66.4591 Q1612.64 67.5124 1616.57 67.5124 Q1621.84 67.5124 1624.67 65.73 Q1627.51 63.9071 1627.51 60.6258 Q1627.51 57.5877 1625.44 55.9673 Q1623.42 54.3469 1616.49 52.8481 L1613.9 52.2405 Q1606.97 50.7821 1603.89 47.7845 Q1600.81 44.7463 1600.81 39.4801 Q1600.81 33.0797 1605.35 29.5959 Q1609.89 26.1121 1618.23 26.1121 Q1622.36 26.1121 1626.01 26.7198 Q1629.65 27.3274 1632.73 28.5427 Z\" fill=\"#000000\" fill-rule=\"evenodd\" fill-opacity=\"1\" /><circle clip-path=\"url(#clip892)\" cx=\"249.861\" cy=\"1429.1\" r=\"14\" fill=\"#009af9\" fill-rule=\"evenodd\" fill-opacity=\"1\" stroke=\"#000000\" stroke-opacity=\"1\" stroke-width=\"3.2\"/>\n",
       "<circle clip-path=\"url(#clip892)\" cx=\"360.221\" cy=\"1352.65\" r=\"14\" fill=\"#009af9\" fill-rule=\"evenodd\" fill-opacity=\"1\" stroke=\"#000000\" stroke-opacity=\"1\" stroke-width=\"3.2\"/>\n",
       "<circle clip-path=\"url(#clip892)\" cx=\"346.426\" cy=\"1273.02\" r=\"14\" fill=\"#009af9\" fill-rule=\"evenodd\" fill-opacity=\"1\" stroke=\"#000000\" stroke-opacity=\"1\" stroke-width=\"3.2\"/>\n",
       "<circle clip-path=\"url(#clip892)\" cx=\"677.503\" cy=\"1236.39\" r=\"14\" fill=\"#009af9\" fill-rule=\"evenodd\" fill-opacity=\"1\" stroke=\"#000000\" stroke-opacity=\"1\" stroke-width=\"3.2\"/>\n",
       "<circle clip-path=\"url(#clip892)\" cx=\"705.093\" cy=\"1129.68\" r=\"14\" fill=\"#009af9\" fill-rule=\"evenodd\" fill-opacity=\"1\" stroke=\"#000000\" stroke-opacity=\"1\" stroke-width=\"3.2\"/>\n",
       "<circle clip-path=\"url(#clip892)\" cx=\"746.478\" cy=\"1097.82\" r=\"14\" fill=\"#009af9\" fill-rule=\"evenodd\" fill-opacity=\"1\" stroke=\"#000000\" stroke-opacity=\"1\" stroke-width=\"3.2\"/>\n",
       "<circle clip-path=\"url(#clip892)\" cx=\"746.478\" cy=\"1018.19\" r=\"14\" fill=\"#009af9\" fill-rule=\"evenodd\" fill-opacity=\"1\" stroke=\"#000000\" stroke-opacity=\"1\" stroke-width=\"3.2\"/>\n",
       "<circle clip-path=\"url(#clip892)\" cx=\"856.837\" cy=\"1193.38\" r=\"14\" fill=\"#009af9\" fill-rule=\"evenodd\" fill-opacity=\"1\" stroke=\"#000000\" stroke-opacity=\"1\" stroke-width=\"3.2\"/>\n",
       "<circle clip-path=\"url(#clip892)\" cx=\"856.837\" cy=\"1097.82\" r=\"14\" fill=\"#009af9\" fill-rule=\"evenodd\" fill-opacity=\"1\" stroke=\"#000000\" stroke-opacity=\"1\" stroke-width=\"3.2\"/>\n",
       "<circle clip-path=\"url(#clip892)\" cx=\"980.991\" cy=\"1018.19\" r=\"14\" fill=\"#009af9\" fill-rule=\"evenodd\" fill-opacity=\"1\" stroke=\"#000000\" stroke-opacity=\"1\" stroke-width=\"3.2\"/>\n",
       "<circle clip-path=\"url(#clip892)\" cx=\"967.196\" cy=\"1058.01\" r=\"14\" fill=\"#009af9\" fill-rule=\"evenodd\" fill-opacity=\"1\" stroke=\"#000000\" stroke-opacity=\"1\" stroke-width=\"3.2\"/>\n",
       "<circle clip-path=\"url(#clip892)\" cx=\"1008.58\" cy=\"1018.19\" r=\"14\" fill=\"#009af9\" fill-rule=\"evenodd\" fill-opacity=\"1\" stroke=\"#000000\" stroke-opacity=\"1\" stroke-width=\"3.2\"/>\n",
       "<circle clip-path=\"url(#clip892)\" cx=\"1063.76\" cy=\"1018.19\" r=\"14\" fill=\"#009af9\" fill-rule=\"evenodd\" fill-opacity=\"1\" stroke=\"#000000\" stroke-opacity=\"1\" stroke-width=\"3.2\"/>\n",
       "<circle clip-path=\"url(#clip892)\" cx=\"1118.94\" cy=\"1273.02\" r=\"14\" fill=\"#009af9\" fill-rule=\"evenodd\" fill-opacity=\"1\" stroke=\"#000000\" stroke-opacity=\"1\" stroke-width=\"3.2\"/>\n",
       "<circle clip-path=\"url(#clip892)\" cx=\"1105.15\" cy=\"858.923\" r=\"14\" fill=\"#009af9\" fill-rule=\"evenodd\" fill-opacity=\"1\" stroke=\"#000000\" stroke-opacity=\"1\" stroke-width=\"3.2\"/>\n",
       "<circle clip-path=\"url(#clip892)\" cx=\"1105.15\" cy=\"858.923\" r=\"14\" fill=\"#009af9\" fill-rule=\"evenodd\" fill-opacity=\"1\" stroke=\"#000000\" stroke-opacity=\"1\" stroke-width=\"3.2\"/>\n",
       "<circle clip-path=\"url(#clip892)\" cx=\"1243.09\" cy=\"699.656\" r=\"14\" fill=\"#009af9\" fill-rule=\"evenodd\" fill-opacity=\"1\" stroke=\"#000000\" stroke-opacity=\"1\" stroke-width=\"3.2\"/>\n",
       "<circle clip-path=\"url(#clip892)\" cx=\"1243.09\" cy=\"699.656\" r=\"14\" fill=\"#009af9\" fill-rule=\"evenodd\" fill-opacity=\"1\" stroke=\"#000000\" stroke-opacity=\"1\" stroke-width=\"3.2\"/>\n",
       "<circle clip-path=\"url(#clip892)\" cx=\"1312.07\" cy=\"842.996\" r=\"14\" fill=\"#009af9\" fill-rule=\"evenodd\" fill-opacity=\"1\" stroke=\"#000000\" stroke-opacity=\"1\" stroke-width=\"3.2\"/>\n",
       "<circle clip-path=\"url(#clip892)\" cx=\"1325.86\" cy=\"779.289\" r=\"14\" fill=\"#009af9\" fill-rule=\"evenodd\" fill-opacity=\"1\" stroke=\"#000000\" stroke-opacity=\"1\" stroke-width=\"3.2\"/>\n",
       "<circle clip-path=\"url(#clip892)\" cx=\"1367.25\" cy=\"898.739\" r=\"14\" fill=\"#009af9\" fill-rule=\"evenodd\" fill-opacity=\"1\" stroke=\"#000000\" stroke-opacity=\"1\" stroke-width=\"3.2\"/>\n",
       "<circle clip-path=\"url(#clip892)\" cx=\"1381.04\" cy=\"723.546\" r=\"14\" fill=\"#009af9\" fill-rule=\"evenodd\" fill-opacity=\"1\" stroke=\"#000000\" stroke-opacity=\"1\" stroke-width=\"3.2\"/>\n",
       "<circle clip-path=\"url(#clip892)\" cx=\"1394.84\" cy=\"827.069\" r=\"14\" fill=\"#009af9\" fill-rule=\"evenodd\" fill-opacity=\"1\" stroke=\"#000000\" stroke-opacity=\"1\" stroke-width=\"3.2\"/>\n",
       "<circle clip-path=\"url(#clip892)\" cx=\"1436.22\" cy=\"731.509\" r=\"14\" fill=\"#009af9\" fill-rule=\"evenodd\" fill-opacity=\"1\" stroke=\"#000000\" stroke-opacity=\"1\" stroke-width=\"3.2\"/>\n",
       "<circle clip-path=\"url(#clip892)\" cx=\"1450.02\" cy=\"699.656\" r=\"14\" fill=\"#009af9\" fill-rule=\"evenodd\" fill-opacity=\"1\" stroke=\"#000000\" stroke-opacity=\"1\" stroke-width=\"3.2\"/>\n",
       "<circle clip-path=\"url(#clip892)\" cx=\"1436.22\" cy=\"659.839\" r=\"14\" fill=\"#009af9\" fill-rule=\"evenodd\" fill-opacity=\"1\" stroke=\"#000000\" stroke-opacity=\"1\" stroke-width=\"3.2\"/>\n",
       "<circle clip-path=\"url(#clip892)\" cx=\"1463.81\" cy=\"667.802\" r=\"14\" fill=\"#009af9\" fill-rule=\"evenodd\" fill-opacity=\"1\" stroke=\"#000000\" stroke-opacity=\"1\" stroke-width=\"3.2\"/>\n",
       "<circle clip-path=\"url(#clip892)\" cx=\"1560.38\" cy=\"677.358\" r=\"14\" fill=\"#009af9\" fill-rule=\"evenodd\" fill-opacity=\"1\" stroke=\"#000000\" stroke-opacity=\"1\" stroke-width=\"3.2\"/>\n",
       "<circle clip-path=\"url(#clip892)\" cx=\"1574.17\" cy=\"460.755\" r=\"14\" fill=\"#009af9\" fill-rule=\"evenodd\" fill-opacity=\"1\" stroke=\"#000000\" stroke-opacity=\"1\" stroke-width=\"3.2\"/>\n",
       "<circle clip-path=\"url(#clip892)\" cx=\"1670.74\" cy=\"221.854\" r=\"14\" fill=\"#009af9\" fill-rule=\"evenodd\" fill-opacity=\"1\" stroke=\"#000000\" stroke-opacity=\"1\" stroke-width=\"3.2\"/>\n",
       "<circle clip-path=\"url(#clip892)\" cx=\"1877.66\" cy=\"349.268\" r=\"14\" fill=\"#009af9\" fill-rule=\"evenodd\" fill-opacity=\"1\" stroke=\"#000000\" stroke-opacity=\"1\" stroke-width=\"3.2\"/>\n",
       "<circle clip-path=\"url(#clip892)\" cx=\"1877.66\" cy=\"293.525\" r=\"14\" fill=\"#009af9\" fill-rule=\"evenodd\" fill-opacity=\"1\" stroke=\"#000000\" stroke-opacity=\"1\" stroke-width=\"3.2\"/>\n",
       "<circle clip-path=\"url(#clip892)\" cx=\"2043.2\" cy=\"341.305\" r=\"14\" fill=\"#009af9\" fill-rule=\"evenodd\" fill-opacity=\"1\" stroke=\"#000000\" stroke-opacity=\"1\" stroke-width=\"3.2\"/>\n",
       "<circle clip-path=\"url(#clip892)\" cx=\"2208.74\" cy=\"261.671\" r=\"14\" fill=\"#009af9\" fill-rule=\"evenodd\" fill-opacity=\"1\" stroke=\"#000000\" stroke-opacity=\"1\" stroke-width=\"3.2\"/>\n",
       "<circle clip-path=\"url(#clip892)\" cx=\"2291.51\" cy=\"301.488\" r=\"14\" fill=\"#009af9\" fill-rule=\"evenodd\" fill-opacity=\"1\" stroke=\"#000000\" stroke-opacity=\"1\" stroke-width=\"3.2\"/>\n",
       "<polyline clip-path=\"url(#clip892)\" style=\"stroke:#ff0000; stroke-width:8; stroke-opacity:1; fill:none\" points=\"\n",
       "  249.861,1447.87 269.8,1435.32 454.158,1319.21 564.95,1249.43 658.623,1190.44 760.379,1126.35 854.188,1067.27 954.762,1003.93 1071.29,930.541 1174.84,865.323 \n",
       "  1265.65,808.133 1364.65,745.781 1464.24,683.058 1574.35,613.709 1679.12,547.726 1788.06,479.119 1879.76,421.366 1991.71,350.857 2096.95,284.576 2265.56,178.389 \n",
       "  2291.51,162.047 \n",
       "  \"/>\n",
       "</svg>\n"
      ]
     },
     "execution_count": 58,
     "metadata": {},
     "output_type": "execute_result"
    }
   ],
   "source": [
    "# Dados retirados da relação dos pesos de tipo um peixe com suas alturas\n",
    "x = [23.2, 24, 23.9, 26.3, 26.5, 26.8, 26.8, 27.6, 27.6, 28.5, 28.4, 28.7, 29.1, 29.5, 29.4, 29.4, 30.4, 30.4, 30.9, 31, 31.3, 31.4, 31.5, 31.8, 31.9, 31.8, 32, 32.7, 32.8, 33.5, 35, 35, 36.2, 37.4, 38]\n",
    "y = [242, 290, 340, 363, 430, 450, 500, 390, 450, 500, 475, 500, 500, 340, 600, 600, 700, 700, 610, 650, 575, 685, 620, 680, 700, 725, 720, 714, 850, 1000, 920, 955, 925, 975, 950]\n",
    "\n",
    "a = regressão_coeficientes_lineares(x, y, grau) # recebe os coeficientes\n",
    "println(a)  # printa os coeficientes\n",
    "\n",
    "# Plota os pontos junto com a curva que conseguimos que minimiza a soma dos quadrados das distâncias\n",
    "scatter(x,y,leg=false)\n",
    "plot!(x -> a[1] + a[2] * x, extrema(x)..., c=:red, lw=2)\n",
    "title!(\"Mínimos Quadrados\")"
   ]
  },
  {
   "cell_type": "code",
   "execution_count": 59,
   "metadata": {},
   "outputs": [
    {
     "name": "stdout",
     "output_type": "stream",
     "text": [
      "[0.0; 1.0]\n"
     ]
    },
    {
     "data": {
      "image/svg+xml": [
       "<?xml version=\"1.0\" encoding=\"utf-8\"?>\n",
       "<svg xmlns=\"http://www.w3.org/2000/svg\" xmlns:xlink=\"http://www.w3.org/1999/xlink\" width=\"600\" height=\"400\" viewBox=\"0 0 2400 1600\">\n",
       "<defs>\n",
       "  <clipPath id=\"clip930\">\n",
       "    <rect x=\"0\" y=\"0\" width=\"2400\" height=\"1600\"/>\n",
       "  </clipPath>\n",
       "</defs>\n",
       "<path clip-path=\"url(#clip930)\" d=\"\n",
       "M0 1600 L2400 1600 L2400 0 L0 0  Z\n",
       "  \" fill=\"#ffffff\" fill-rule=\"evenodd\" fill-opacity=\"1\"/>\n",
       "<defs>\n",
       "  <clipPath id=\"clip931\">\n",
       "    <rect x=\"480\" y=\"0\" width=\"1681\" height=\"1600\"/>\n",
       "  </clipPath>\n",
       "</defs>\n",
       "<path clip-path=\"url(#clip930)\" d=\"\n",
       "M188.612 1486.45 L2352.76 1486.45 L2352.76 123.472 L188.612 123.472  Z\n",
       "  \" fill=\"#ffffff\" fill-rule=\"evenodd\" fill-opacity=\"1\"/>\n",
       "<defs>\n",
       "  <clipPath id=\"clip932\">\n",
       "    <rect x=\"188\" y=\"123\" width=\"2165\" height=\"1364\"/>\n",
       "  </clipPath>\n",
       "</defs>\n",
       "<polyline clip-path=\"url(#clip932)\" style=\"stroke:#000000; stroke-width:2; stroke-opacity:0.1; fill:none\" points=\"\n",
       "  247.818,1486.45 247.818,123.472 \n",
       "  \"/>\n",
       "<polyline clip-path=\"url(#clip932)\" style=\"stroke:#000000; stroke-width:2; stroke-opacity:0.1; fill:none\" points=\"\n",
       "  758.74,1486.45 758.74,123.472 \n",
       "  \"/>\n",
       "<polyline clip-path=\"url(#clip932)\" style=\"stroke:#000000; stroke-width:2; stroke-opacity:0.1; fill:none\" points=\"\n",
       "  1269.66,1486.45 1269.66,123.472 \n",
       "  \"/>\n",
       "<polyline clip-path=\"url(#clip932)\" style=\"stroke:#000000; stroke-width:2; stroke-opacity:0.1; fill:none\" points=\"\n",
       "  1780.58,1486.45 1780.58,123.472 \n",
       "  \"/>\n",
       "<polyline clip-path=\"url(#clip932)\" style=\"stroke:#000000; stroke-width:2; stroke-opacity:0.1; fill:none\" points=\"\n",
       "  2291.51,1486.45 2291.51,123.472 \n",
       "  \"/>\n",
       "<polyline clip-path=\"url(#clip930)\" style=\"stroke:#000000; stroke-width:4; stroke-opacity:1; fill:none\" points=\"\n",
       "  188.612,1486.45 2352.76,1486.45 \n",
       "  \"/>\n",
       "<polyline clip-path=\"url(#clip930)\" style=\"stroke:#000000; stroke-width:4; stroke-opacity:1; fill:none\" points=\"\n",
       "  247.818,1486.45 247.818,1470.09 \n",
       "  \"/>\n",
       "<polyline clip-path=\"url(#clip930)\" style=\"stroke:#000000; stroke-width:4; stroke-opacity:1; fill:none\" points=\"\n",
       "  758.74,1486.45 758.74,1470.09 \n",
       "  \"/>\n",
       "<polyline clip-path=\"url(#clip930)\" style=\"stroke:#000000; stroke-width:4; stroke-opacity:1; fill:none\" points=\"\n",
       "  1269.66,1486.45 1269.66,1470.09 \n",
       "  \"/>\n",
       "<polyline clip-path=\"url(#clip930)\" style=\"stroke:#000000; stroke-width:4; stroke-opacity:1; fill:none\" points=\"\n",
       "  1780.58,1486.45 1780.58,1470.09 \n",
       "  \"/>\n",
       "<polyline clip-path=\"url(#clip930)\" style=\"stroke:#000000; stroke-width:4; stroke-opacity:1; fill:none\" points=\"\n",
       "  2291.51,1486.45 2291.51,1470.09 \n",
       "  \"/>\n",
       "<path clip-path=\"url(#clip930)\" d=\"M 0 0 M247.818 1515.64 Q244.207 1515.64 242.378 1519.2 Q240.572 1522.75 240.572 1529.87 Q240.572 1536.98 242.378 1540.55 Q244.207 1544.09 247.818 1544.09 Q251.452 1544.09 253.257 1540.55 Q255.086 1536.98 255.086 1529.87 Q255.086 1522.75 253.257 1519.2 Q251.452 1515.64 247.818 1515.64 M247.818 1511.93 Q253.628 1511.93 256.683 1516.54 Q259.762 1521.12 259.762 1529.87 Q259.762 1538.6 256.683 1543.21 Q253.628 1547.79 247.818 1547.79 Q242.007 1547.79 238.929 1543.21 Q235.873 1538.6 235.873 1529.87 Q235.873 1521.12 238.929 1516.54 Q242.007 1511.93 247.818 1511.93 Z\" fill=\"#000000\" fill-rule=\"evenodd\" fill-opacity=\"1\" /><path clip-path=\"url(#clip930)\" d=\"M 0 0 M726.877 1543.18 L743.196 1543.18 L743.196 1547.12 L721.252 1547.12 L721.252 1543.18 Q723.914 1540.43 728.497 1535.8 Q733.103 1531.15 734.284 1529.81 Q736.529 1527.28 737.409 1525.55 Q738.312 1523.79 738.312 1522.1 Q738.312 1519.34 736.367 1517.61 Q734.446 1515.87 731.344 1515.87 Q729.145 1515.87 726.691 1516.63 Q724.261 1517.4 721.483 1518.95 L721.483 1514.23 Q724.307 1513.09 726.761 1512.51 Q729.215 1511.93 731.252 1511.93 Q736.622 1511.93 739.816 1514.62 Q743.011 1517.31 743.011 1521.8 Q743.011 1523.93 742.201 1525.85 Q741.414 1527.74 739.307 1530.34 Q738.728 1531.01 735.627 1534.23 Q732.525 1537.42 726.877 1543.18 Z\" fill=\"#000000\" fill-rule=\"evenodd\" fill-opacity=\"1\" /><path clip-path=\"url(#clip930)\" d=\"M 0 0 M748.312 1512.56 L766.668 1512.56 L766.668 1516.5 L752.594 1516.5 L752.594 1524.97 Q753.613 1524.62 754.631 1524.46 Q755.65 1524.27 756.668 1524.27 Q762.455 1524.27 765.835 1527.44 Q769.214 1530.62 769.214 1536.03 Q769.214 1541.61 765.742 1544.71 Q762.27 1547.79 755.951 1547.79 Q753.775 1547.79 751.506 1547.42 Q749.261 1547.05 746.853 1546.31 L746.853 1541.61 Q748.937 1542.74 751.159 1543.3 Q753.381 1543.86 755.858 1543.86 Q759.863 1543.86 762.2 1541.75 Q764.538 1539.64 764.538 1536.03 Q764.538 1532.42 762.2 1530.31 Q759.863 1528.21 755.858 1528.21 Q753.983 1528.21 752.108 1528.62 Q750.256 1529.04 748.312 1529.92 L748.312 1512.56 Z\" fill=\"#000000\" fill-rule=\"evenodd\" fill-opacity=\"1\" /><path clip-path=\"url(#clip930)\" d=\"M 0 0 M784.284 1515.64 Q780.673 1515.64 778.844 1519.2 Q777.038 1522.75 777.038 1529.87 Q777.038 1536.98 778.844 1540.55 Q780.673 1544.09 784.284 1544.09 Q787.918 1544.09 789.723 1540.55 Q791.552 1536.98 791.552 1529.87 Q791.552 1522.75 789.723 1519.2 Q787.918 1515.64 784.284 1515.64 M784.284 1511.93 Q790.094 1511.93 793.149 1516.54 Q796.228 1521.12 796.228 1529.87 Q796.228 1538.6 793.149 1543.21 Q790.094 1547.79 784.284 1547.79 Q778.474 1547.79 775.395 1543.21 Q772.339 1538.6 772.339 1529.87 Q772.339 1521.12 775.395 1516.54 Q778.474 1511.93 784.284 1511.93 Z\" fill=\"#000000\" fill-rule=\"evenodd\" fill-opacity=\"1\" /><path clip-path=\"url(#clip930)\" d=\"M 0 0 M1232.93 1512.56 L1251.28 1512.56 L1251.28 1516.5 L1237.21 1516.5 L1237.21 1524.97 Q1238.23 1524.62 1239.25 1524.46 Q1240.26 1524.27 1241.28 1524.27 Q1247.07 1524.27 1250.45 1527.44 Q1253.83 1530.62 1253.83 1536.03 Q1253.83 1541.61 1250.36 1544.71 Q1246.88 1547.79 1240.57 1547.79 Q1238.39 1547.79 1236.12 1547.42 Q1233.88 1547.05 1231.47 1546.31 L1231.47 1541.61 Q1233.55 1542.74 1235.77 1543.3 Q1238 1543.86 1240.47 1543.86 Q1244.48 1543.86 1246.81 1541.75 Q1249.15 1539.64 1249.15 1536.03 Q1249.15 1532.42 1246.81 1530.31 Q1244.48 1528.21 1240.47 1528.21 Q1238.6 1528.21 1236.72 1528.62 Q1234.87 1529.04 1232.93 1529.92 L1232.93 1512.56 Z\" fill=\"#000000\" fill-rule=\"evenodd\" fill-opacity=\"1\" /><path clip-path=\"url(#clip930)\" d=\"M 0 0 M1268.9 1515.64 Q1265.29 1515.64 1263.46 1519.2 Q1261.65 1522.75 1261.65 1529.87 Q1261.65 1536.98 1263.46 1540.55 Q1265.29 1544.09 1268.9 1544.09 Q1272.53 1544.09 1274.34 1540.55 Q1276.17 1536.98 1276.17 1529.87 Q1276.17 1522.75 1274.34 1519.2 Q1272.53 1515.64 1268.9 1515.64 M1268.9 1511.93 Q1274.71 1511.93 1277.76 1516.54 Q1280.84 1521.12 1280.84 1529.87 Q1280.84 1538.6 1277.76 1543.21 Q1274.71 1547.79 1268.9 1547.79 Q1263.09 1547.79 1260.01 1543.21 Q1256.95 1538.6 1256.95 1529.87 Q1256.95 1521.12 1260.01 1516.54 Q1263.09 1511.93 1268.9 1511.93 Z\" fill=\"#000000\" fill-rule=\"evenodd\" fill-opacity=\"1\" /><path clip-path=\"url(#clip930)\" d=\"M 0 0 M1295.91 1515.64 Q1292.3 1515.64 1290.47 1519.2 Q1288.67 1522.75 1288.67 1529.87 Q1288.67 1536.98 1290.47 1540.55 Q1292.3 1544.09 1295.91 1544.09 Q1299.55 1544.09 1301.35 1540.55 Q1303.18 1536.98 1303.18 1529.87 Q1303.18 1522.75 1301.35 1519.2 Q1299.55 1515.64 1295.91 1515.64 M1295.91 1511.93 Q1301.72 1511.93 1304.78 1516.54 Q1307.86 1521.12 1307.86 1529.87 Q1307.86 1538.6 1304.78 1543.21 Q1301.72 1547.79 1295.91 1547.79 Q1290.1 1547.79 1287.02 1543.21 Q1283.97 1538.6 1283.97 1529.87 Q1283.97 1521.12 1287.02 1516.54 Q1290.1 1511.93 1295.91 1511.93 Z\" fill=\"#000000\" fill-rule=\"evenodd\" fill-opacity=\"1\" /><path clip-path=\"url(#clip930)\" d=\"M 0 0 M1742.96 1512.56 L1765.18 1512.56 L1765.18 1514.55 L1752.63 1547.12 L1747.75 1547.12 L1759.55 1516.5 L1742.96 1516.5 L1742.96 1512.56 Z\" fill=\"#000000\" fill-rule=\"evenodd\" fill-opacity=\"1\" /><path clip-path=\"url(#clip930)\" d=\"M 0 0 M1770.3 1512.56 L1788.65 1512.56 L1788.65 1516.5 L1774.58 1516.5 L1774.58 1524.97 Q1775.6 1524.62 1776.61 1524.46 Q1777.63 1524.27 1778.65 1524.27 Q1784.44 1524.27 1787.82 1527.44 Q1791.2 1530.62 1791.2 1536.03 Q1791.2 1541.61 1787.73 1544.71 Q1784.25 1547.79 1777.93 1547.79 Q1775.76 1547.79 1773.49 1547.42 Q1771.24 1547.05 1768.84 1546.31 L1768.84 1541.61 Q1770.92 1542.74 1773.14 1543.3 Q1775.36 1543.86 1777.84 1543.86 Q1781.85 1543.86 1784.18 1541.75 Q1786.52 1539.64 1786.52 1536.03 Q1786.52 1532.42 1784.18 1530.31 Q1781.85 1528.21 1777.84 1528.21 Q1775.97 1528.21 1774.09 1528.62 Q1772.24 1529.04 1770.3 1529.92 L1770.3 1512.56 Z\" fill=\"#000000\" fill-rule=\"evenodd\" fill-opacity=\"1\" /><path clip-path=\"url(#clip930)\" d=\"M 0 0 M1806.27 1515.64 Q1802.66 1515.64 1800.83 1519.2 Q1799.02 1522.75 1799.02 1529.87 Q1799.02 1536.98 1800.83 1540.55 Q1802.66 1544.09 1806.27 1544.09 Q1809.9 1544.09 1811.71 1540.55 Q1813.54 1536.98 1813.54 1529.87 Q1813.54 1522.75 1811.71 1519.2 Q1809.9 1515.64 1806.27 1515.64 M1806.27 1511.93 Q1812.08 1511.93 1815.13 1516.54 Q1818.21 1521.12 1818.21 1529.87 Q1818.21 1538.6 1815.13 1543.21 Q1812.08 1547.79 1806.27 1547.79 Q1800.46 1547.79 1797.38 1543.21 Q1794.32 1538.6 1794.32 1529.87 Q1794.32 1521.12 1797.38 1516.54 Q1800.46 1511.93 1806.27 1511.93 Z\" fill=\"#000000\" fill-rule=\"evenodd\" fill-opacity=\"1\" /><path clip-path=\"url(#clip930)\" d=\"M 0 0 M2241.37 1543.18 L2249.01 1543.18 L2249.01 1516.82 L2240.7 1518.49 L2240.7 1514.23 L2248.96 1512.56 L2253.64 1512.56 L2253.64 1543.18 L2261.28 1543.18 L2261.28 1547.12 L2241.37 1547.12 L2241.37 1543.18 Z\" fill=\"#000000\" fill-rule=\"evenodd\" fill-opacity=\"1\" /><path clip-path=\"url(#clip930)\" d=\"M 0 0 M2276.34 1515.64 Q2272.73 1515.64 2270.9 1519.2 Q2269.1 1522.75 2269.1 1529.87 Q2269.1 1536.98 2270.9 1540.55 Q2272.73 1544.09 2276.34 1544.09 Q2279.98 1544.09 2281.78 1540.55 Q2283.61 1536.98 2283.61 1529.87 Q2283.61 1522.75 2281.78 1519.2 Q2279.98 1515.64 2276.34 1515.64 M2276.34 1511.93 Q2282.15 1511.93 2285.21 1516.54 Q2288.29 1521.12 2288.29 1529.87 Q2288.29 1538.6 2285.21 1543.21 Q2282.15 1547.79 2276.34 1547.79 Q2270.53 1547.79 2267.46 1543.21 Q2264.4 1538.6 2264.4 1529.87 Q2264.4 1521.12 2267.46 1516.54 Q2270.53 1511.93 2276.34 1511.93 Z\" fill=\"#000000\" fill-rule=\"evenodd\" fill-opacity=\"1\" /><path clip-path=\"url(#clip930)\" d=\"M 0 0 M2303.36 1515.64 Q2299.75 1515.64 2297.92 1519.2 Q2296.11 1522.75 2296.11 1529.87 Q2296.11 1536.98 2297.92 1540.55 Q2299.75 1544.09 2303.36 1544.09 Q2306.99 1544.09 2308.8 1540.55 Q2310.63 1536.98 2310.63 1529.87 Q2310.63 1522.75 2308.8 1519.2 Q2306.99 1515.64 2303.36 1515.64 M2303.36 1511.93 Q2309.17 1511.93 2312.22 1516.54 Q2315.3 1521.12 2315.3 1529.87 Q2315.3 1538.6 2312.22 1543.21 Q2309.17 1547.79 2303.36 1547.79 Q2297.55 1547.79 2294.47 1543.21 Q2291.41 1538.6 2291.41 1529.87 Q2291.41 1521.12 2294.47 1516.54 Q2297.55 1511.93 2303.36 1511.93 Z\" fill=\"#000000\" fill-rule=\"evenodd\" fill-opacity=\"1\" /><path clip-path=\"url(#clip930)\" d=\"M 0 0 M2330.37 1515.64 Q2326.76 1515.64 2324.93 1519.2 Q2323.13 1522.75 2323.13 1529.87 Q2323.13 1536.98 2324.93 1540.55 Q2326.76 1544.09 2330.37 1544.09 Q2334.01 1544.09 2335.81 1540.55 Q2337.64 1536.98 2337.64 1529.87 Q2337.64 1522.75 2335.81 1519.2 Q2334.01 1515.64 2330.37 1515.64 M2330.37 1511.93 Q2336.18 1511.93 2339.24 1516.54 Q2342.32 1521.12 2342.32 1529.87 Q2342.32 1538.6 2339.24 1543.21 Q2336.18 1547.79 2330.37 1547.79 Q2324.56 1547.79 2321.48 1543.21 Q2318.43 1538.6 2318.43 1529.87 Q2318.43 1521.12 2321.48 1516.54 Q2324.56 1511.93 2330.37 1511.93 Z\" fill=\"#000000\" fill-rule=\"evenodd\" fill-opacity=\"1\" /><polyline clip-path=\"url(#clip932)\" style=\"stroke:#000000; stroke-width:2; stroke-opacity:0.1; fill:none\" points=\"\n",
       "  188.612,1449.16 2352.76,1449.16 \n",
       "  \"/>\n",
       "<polyline clip-path=\"url(#clip932)\" style=\"stroke:#000000; stroke-width:2; stroke-opacity:0.1; fill:none\" points=\"\n",
       "  188.612,1127.38 2352.76,1127.38 \n",
       "  \"/>\n",
       "<polyline clip-path=\"url(#clip932)\" style=\"stroke:#000000; stroke-width:2; stroke-opacity:0.1; fill:none\" points=\"\n",
       "  188.612,805.604 2352.76,805.604 \n",
       "  \"/>\n",
       "<polyline clip-path=\"url(#clip932)\" style=\"stroke:#000000; stroke-width:2; stroke-opacity:0.1; fill:none\" points=\"\n",
       "  188.612,483.825 2352.76,483.825 \n",
       "  \"/>\n",
       "<polyline clip-path=\"url(#clip932)\" style=\"stroke:#000000; stroke-width:2; stroke-opacity:0.1; fill:none\" points=\"\n",
       "  188.612,162.047 2352.76,162.047 \n",
       "  \"/>\n",
       "<polyline clip-path=\"url(#clip930)\" style=\"stroke:#000000; stroke-width:4; stroke-opacity:1; fill:none\" points=\"\n",
       "  188.612,1486.45 188.612,123.472 \n",
       "  \"/>\n",
       "<polyline clip-path=\"url(#clip930)\" style=\"stroke:#000000; stroke-width:4; stroke-opacity:1; fill:none\" points=\"\n",
       "  188.612,1449.16 214.582,1449.16 \n",
       "  \"/>\n",
       "<polyline clip-path=\"url(#clip930)\" style=\"stroke:#000000; stroke-width:4; stroke-opacity:1; fill:none\" points=\"\n",
       "  188.612,1127.38 214.582,1127.38 \n",
       "  \"/>\n",
       "<polyline clip-path=\"url(#clip930)\" style=\"stroke:#000000; stroke-width:4; stroke-opacity:1; fill:none\" points=\"\n",
       "  188.612,805.604 214.582,805.604 \n",
       "  \"/>\n",
       "<polyline clip-path=\"url(#clip930)\" style=\"stroke:#000000; stroke-width:4; stroke-opacity:1; fill:none\" points=\"\n",
       "  188.612,483.825 214.582,483.825 \n",
       "  \"/>\n",
       "<polyline clip-path=\"url(#clip930)\" style=\"stroke:#000000; stroke-width:4; stroke-opacity:1; fill:none\" points=\"\n",
       "  188.612,162.047 214.582,162.047 \n",
       "  \"/>\n",
       "<path clip-path=\"url(#clip930)\" d=\"M 0 0 M140.668 1434.96 Q137.056 1434.96 135.228 1438.52 Q133.422 1442.07 133.422 1449.19 Q133.422 1456.3 135.228 1459.87 Q137.056 1463.41 140.668 1463.41 Q144.302 1463.41 146.107 1459.87 Q147.936 1456.3 147.936 1449.19 Q147.936 1442.07 146.107 1438.52 Q144.302 1434.96 140.668 1434.96 M140.668 1431.26 Q146.478 1431.26 149.533 1435.86 Q152.612 1440.44 152.612 1449.19 Q152.612 1457.92 149.533 1462.53 Q146.478 1467.11 140.668 1467.11 Q134.857 1467.11 131.779 1462.53 Q128.723 1457.92 128.723 1449.19 Q128.723 1440.44 131.779 1435.86 Q134.857 1431.26 140.668 1431.26 Z\" fill=\"#000000\" fill-rule=\"evenodd\" fill-opacity=\"1\" /><path clip-path=\"url(#clip930)\" d=\"M 0 0 M83.2605 1140.73 L99.5798 1140.73 L99.5798 1144.66 L77.6355 1144.66 L77.6355 1140.73 Q80.2975 1137.97 84.8808 1133.34 Q89.4873 1128.69 90.6678 1127.35 Q92.9132 1124.82 93.7928 1123.09 Q94.6956 1121.33 94.6956 1119.64 Q94.6956 1116.88 92.7512 1115.15 Q90.8299 1113.41 87.728 1113.41 Q85.529 1113.41 83.0753 1114.18 Q80.6447 1114.94 77.867 1116.49 L77.867 1111.77 Q80.691 1110.63 83.1447 1110.06 Q85.5984 1109.48 87.6354 1109.48 Q93.0058 1109.48 96.2002 1112.16 Q99.3946 1114.85 99.3946 1119.34 Q99.3946 1121.47 98.5845 1123.39 Q97.7974 1125.29 95.691 1127.88 Q95.1123 1128.55 92.0104 1131.77 Q88.9086 1134.96 83.2605 1140.73 Z\" fill=\"#000000\" fill-rule=\"evenodd\" fill-opacity=\"1\" /><path clip-path=\"url(#clip930)\" d=\"M 0 0 M104.696 1110.1 L123.052 1110.1 L123.052 1114.04 L108.978 1114.04 L108.978 1122.51 Q109.996 1122.16 111.015 1122 Q112.033 1121.81 113.052 1121.81 Q118.839 1121.81 122.219 1124.99 Q125.598 1128.16 125.598 1133.57 Q125.598 1139.15 122.126 1142.25 Q118.654 1145.33 112.334 1145.33 Q110.158 1145.33 107.89 1144.96 Q105.645 1144.59 103.237 1143.85 L103.237 1139.15 Q105.321 1140.29 107.543 1140.84 Q109.765 1141.4 112.242 1141.4 Q116.246 1141.4 118.584 1139.29 Q120.922 1137.19 120.922 1133.57 Q120.922 1129.96 118.584 1127.86 Q116.246 1125.75 112.242 1125.75 Q110.367 1125.75 108.492 1126.17 Q106.64 1126.58 104.696 1127.46 L104.696 1110.1 Z\" fill=\"#000000\" fill-rule=\"evenodd\" fill-opacity=\"1\" /><path clip-path=\"url(#clip930)\" d=\"M 0 0 M140.668 1113.18 Q137.056 1113.18 135.228 1116.75 Q133.422 1120.29 133.422 1127.42 Q133.422 1134.52 135.228 1138.09 Q137.056 1141.63 140.668 1141.63 Q144.302 1141.63 146.107 1138.09 Q147.936 1134.52 147.936 1127.42 Q147.936 1120.29 146.107 1116.75 Q144.302 1113.18 140.668 1113.18 M140.668 1109.48 Q146.478 1109.48 149.533 1114.08 Q152.612 1118.67 152.612 1127.42 Q152.612 1136.14 149.533 1140.75 Q146.478 1145.33 140.668 1145.33 Q134.857 1145.33 131.779 1140.75 Q128.723 1136.14 128.723 1127.42 Q128.723 1118.67 131.779 1114.08 Q134.857 1109.48 140.668 1109.48 Z\" fill=\"#000000\" fill-rule=\"evenodd\" fill-opacity=\"1\" /><path clip-path=\"url(#clip930)\" d=\"M 0 0 M77.6818 788.324 L96.0382 788.324 L96.0382 792.259 L81.9642 792.259 L81.9642 800.731 Q82.9827 800.384 84.0012 800.222 Q85.0197 800.036 86.0382 800.036 Q91.8252 800.036 95.2049 803.208 Q98.5845 806.379 98.5845 811.796 Q98.5845 817.374 95.1123 820.476 Q91.6401 823.555 85.3206 823.555 Q83.1447 823.555 80.8762 823.184 Q78.6309 822.814 76.2235 822.073 L76.2235 817.374 Q78.3068 818.509 80.529 819.064 Q82.7512 819.62 85.2281 819.62 Q89.2327 819.62 91.5706 817.513 Q93.9086 815.407 93.9086 811.796 Q93.9086 808.185 91.5706 806.078 Q89.2327 803.972 85.2281 803.972 Q83.3531 803.972 81.4781 804.388 Q79.6262 804.805 77.6818 805.685 L77.6818 788.324 Z\" fill=\"#000000\" fill-rule=\"evenodd\" fill-opacity=\"1\" /><path clip-path=\"url(#clip930)\" d=\"M 0 0 M113.654 791.402 Q110.043 791.402 108.214 794.967 Q106.408 798.509 106.408 805.638 Q106.408 812.745 108.214 816.31 Q110.043 819.851 113.654 819.851 Q117.288 819.851 119.094 816.31 Q120.922 812.745 120.922 805.638 Q120.922 798.509 119.094 794.967 Q117.288 791.402 113.654 791.402 M113.654 787.699 Q119.464 787.699 122.52 792.305 Q125.598 796.888 125.598 805.638 Q125.598 814.365 122.52 818.972 Q119.464 823.555 113.654 823.555 Q107.844 823.555 104.765 818.972 Q101.709 814.365 101.709 805.638 Q101.709 796.888 104.765 792.305 Q107.844 787.699 113.654 787.699 Z\" fill=\"#000000\" fill-rule=\"evenodd\" fill-opacity=\"1\" /><path clip-path=\"url(#clip930)\" d=\"M 0 0 M140.668 791.402 Q137.056 791.402 135.228 794.967 Q133.422 798.509 133.422 805.638 Q133.422 812.745 135.228 816.31 Q137.056 819.851 140.668 819.851 Q144.302 819.851 146.107 816.31 Q147.936 812.745 147.936 805.638 Q147.936 798.509 146.107 794.967 Q144.302 791.402 140.668 791.402 M140.668 787.699 Q146.478 787.699 149.533 792.305 Q152.612 796.888 152.612 805.638 Q152.612 814.365 149.533 818.972 Q146.478 823.555 140.668 823.555 Q134.857 823.555 131.779 818.972 Q128.723 814.365 128.723 805.638 Q128.723 796.888 131.779 792.305 Q134.857 787.699 140.668 787.699 Z\" fill=\"#000000\" fill-rule=\"evenodd\" fill-opacity=\"1\" /><path clip-path=\"url(#clip930)\" d=\"M 0 0 M77.3577 466.545 L99.5798 466.545 L99.5798 468.536 L87.0336 501.105 L82.1494 501.105 L93.9549 470.48 L77.3577 470.48 L77.3577 466.545 Z\" fill=\"#000000\" fill-rule=\"evenodd\" fill-opacity=\"1\" /><path clip-path=\"url(#clip930)\" d=\"M 0 0 M104.696 466.545 L123.052 466.545 L123.052 470.48 L108.978 470.48 L108.978 478.953 Q109.996 478.605 111.015 478.443 Q112.033 478.258 113.052 478.258 Q118.839 478.258 122.219 481.429 Q125.598 484.601 125.598 490.017 Q125.598 495.596 122.126 498.698 Q118.654 501.777 112.334 501.777 Q110.158 501.777 107.89 501.406 Q105.645 501.036 103.237 500.295 L103.237 495.596 Q105.321 496.73 107.543 497.286 Q109.765 497.841 112.242 497.841 Q116.246 497.841 118.584 495.735 Q120.922 493.628 120.922 490.017 Q120.922 486.406 118.584 484.3 Q116.246 482.193 112.242 482.193 Q110.367 482.193 108.492 482.61 Q106.64 483.027 104.696 483.906 L104.696 466.545 Z\" fill=\"#000000\" fill-rule=\"evenodd\" fill-opacity=\"1\" /><path clip-path=\"url(#clip930)\" d=\"M 0 0 M140.668 469.624 Q137.056 469.624 135.228 473.189 Q133.422 476.73 133.422 483.86 Q133.422 490.966 135.228 494.531 Q137.056 498.073 140.668 498.073 Q144.302 498.073 146.107 494.531 Q147.936 490.966 147.936 483.86 Q147.936 476.73 146.107 473.189 Q144.302 469.624 140.668 469.624 M140.668 465.92 Q146.478 465.92 149.533 470.527 Q152.612 475.11 152.612 483.86 Q152.612 492.587 149.533 497.193 Q146.478 501.777 140.668 501.777 Q134.857 501.777 131.779 497.193 Q128.723 492.587 128.723 483.86 Q128.723 475.11 131.779 470.527 Q134.857 465.92 140.668 465.92 Z\" fill=\"#000000\" fill-rule=\"evenodd\" fill-opacity=\"1\" /><path clip-path=\"url(#clip930)\" d=\"M 0 0 M51.6634 175.392 L59.3023 175.392 L59.3023 149.026 L50.9921 150.693 L50.9921 146.434 L59.256 144.767 L63.9319 144.767 L63.9319 175.392 L71.5707 175.392 L71.5707 179.327 L51.6634 179.327 L51.6634 175.392 Z\" fill=\"#000000\" fill-rule=\"evenodd\" fill-opacity=\"1\" /><path clip-path=\"url(#clip930)\" d=\"M 0 0 M86.6401 147.846 Q83.029 147.846 81.2003 151.41 Q79.3948 154.952 79.3948 162.082 Q79.3948 169.188 81.2003 172.753 Q83.029 176.295 86.6401 176.295 Q90.2743 176.295 92.0799 172.753 Q93.9086 169.188 93.9086 162.082 Q93.9086 154.952 92.0799 151.41 Q90.2743 147.846 86.6401 147.846 M86.6401 144.142 Q92.4502 144.142 95.5058 148.748 Q98.5845 153.332 98.5845 162.082 Q98.5845 170.808 95.5058 175.415 Q92.4502 179.998 86.6401 179.998 Q80.8299 179.998 77.7512 175.415 Q74.6957 170.808 74.6957 162.082 Q74.6957 153.332 77.7512 148.748 Q80.8299 144.142 86.6401 144.142 Z\" fill=\"#000000\" fill-rule=\"evenodd\" fill-opacity=\"1\" /><path clip-path=\"url(#clip930)\" d=\"M 0 0 M113.654 147.846 Q110.043 147.846 108.214 151.41 Q106.408 154.952 106.408 162.082 Q106.408 169.188 108.214 172.753 Q110.043 176.295 113.654 176.295 Q117.288 176.295 119.094 172.753 Q120.922 169.188 120.922 162.082 Q120.922 154.952 119.094 151.41 Q117.288 147.846 113.654 147.846 M113.654 144.142 Q119.464 144.142 122.52 148.748 Q125.598 153.332 125.598 162.082 Q125.598 170.808 122.52 175.415 Q119.464 179.998 113.654 179.998 Q107.844 179.998 104.765 175.415 Q101.709 170.808 101.709 162.082 Q101.709 153.332 104.765 148.748 Q107.844 144.142 113.654 144.142 Z\" fill=\"#000000\" fill-rule=\"evenodd\" fill-opacity=\"1\" /><path clip-path=\"url(#clip930)\" d=\"M 0 0 M140.668 147.846 Q137.056 147.846 135.228 151.41 Q133.422 154.952 133.422 162.082 Q133.422 169.188 135.228 172.753 Q137.056 176.295 140.668 176.295 Q144.302 176.295 146.107 172.753 Q147.936 169.188 147.936 162.082 Q147.936 154.952 146.107 151.41 Q144.302 147.846 140.668 147.846 M140.668 144.142 Q146.478 144.142 149.533 148.748 Q152.612 153.332 152.612 162.082 Q152.612 170.808 149.533 175.415 Q146.478 179.998 140.668 179.998 Q134.857 179.998 131.779 175.415 Q128.723 170.808 128.723 162.082 Q128.723 153.332 131.779 148.748 Q134.857 144.142 140.668 144.142 Z\" fill=\"#000000\" fill-rule=\"evenodd\" fill-opacity=\"1\" /><path clip-path=\"url(#clip930)\" d=\"M 0 0 M906.204 12.096 L918.397 12.096 L933.831 53.2532 L949.346 12.096 L961.539 12.096 L961.539 72.576 L953.559 72.576 L953.559 19.4686 L937.963 60.9499 L929.74 60.9499 L914.144 19.4686 L914.144 72.576 L906.204 72.576 L906.204 12.096 Z\" fill=\"#000000\" fill-rule=\"evenodd\" fill-opacity=\"1\" /><path clip-path=\"url(#clip930)\" d=\"M 0 0 M978.715 6.22219 L986.776 6.22219 L973.57 21.4536 L967.372 21.4536 L978.715 6.22219 M969.357 27.2059 L976.811 27.2059 L976.811 72.576 L969.357 72.576 L969.357 27.2059 M973.084 26.1121 L973.084 26.1121 Z\" fill=\"#000000\" fill-rule=\"evenodd\" fill-opacity=\"1\" /><path clip-path=\"url(#clip930)\" d=\"M 0 0 M1032.31 45.1919 L1032.31 72.576 L1024.85 72.576 L1024.85 45.4349 Q1024.85 38.994 1022.34 35.7938 Q1019.83 32.5936 1014.81 32.5936 Q1008.77 32.5936 1005.29 36.4419 Q1001.81 40.2903 1001.81 46.9338 L1001.81 72.576 L994.311 72.576 L994.311 27.2059 L1001.81 27.2059 L1001.81 34.2544 Q1004.48 30.163 1008.08 28.1376 Q1011.73 26.1121 1016.47 26.1121 Q1024.29 26.1121 1028.3 30.9732 Q1032.31 35.7938 1032.31 45.1919 Z\" fill=\"#000000\" fill-rule=\"evenodd\" fill-opacity=\"1\" /><path clip-path=\"url(#clip930)\" d=\"M 0 0 M1040.13 27.2059 L1047.58 27.2059 L1047.58 72.576 L1040.13 72.576 L1040.13 27.2059 M1040.13 9.54393 L1047.58 9.54393 L1047.58 18.9825 L1040.13 18.9825 L1040.13 9.54393 Z\" fill=\"#000000\" fill-rule=\"evenodd\" fill-opacity=\"1\" /><path clip-path=\"url(#clip930)\" d=\"M 0 0 M1090.72 35.9153 Q1093.52 30.8922 1097.41 28.5022 Q1101.3 26.1121 1106.56 26.1121 Q1113.65 26.1121 1117.5 31.0947 Q1121.35 36.0368 1121.35 45.1919 L1121.35 72.576 L1113.85 72.576 L1113.85 45.4349 Q1113.85 38.913 1111.54 35.7533 Q1109.24 32.5936 1104.5 32.5936 Q1098.7 32.5936 1095.34 36.4419 Q1091.98 40.2903 1091.98 46.9338 L1091.98 72.576 L1084.48 72.576 L1084.48 45.4349 Q1084.48 38.8725 1082.18 35.7533 Q1079.87 32.5936 1075.05 32.5936 Q1069.33 32.5936 1065.97 36.4824 Q1062.61 40.3308 1062.61 46.9338 L1062.61 72.576 L1055.12 72.576 L1055.12 27.2059 L1062.61 27.2059 L1062.61 34.2544 Q1065.16 30.082 1068.73 28.0971 Q1072.29 26.1121 1077.19 26.1121 Q1082.13 26.1121 1085.58 28.6237 Q1089.06 31.1352 1090.72 35.9153 Z\" fill=\"#000000\" fill-rule=\"evenodd\" fill-opacity=\"1\" /><path clip-path=\"url(#clip930)\" d=\"M 0 0 M1146.75 32.4315 Q1140.75 32.4315 1137.27 37.1306 Q1133.78 41.7891 1133.78 49.9314 Q1133.78 58.0738 1137.23 62.7728 Q1140.71 67.4314 1146.75 67.4314 Q1152.7 67.4314 1156.19 62.7323 Q1159.67 58.0333 1159.67 49.9314 Q1159.67 41.8701 1156.19 37.1711 Q1152.7 32.4315 1146.75 32.4315 M1146.75 26.1121 Q1156.47 26.1121 1162.02 32.4315 Q1167.57 38.7509 1167.57 49.9314 Q1167.57 61.0714 1162.02 67.4314 Q1156.47 73.7508 1146.75 73.7508 Q1136.98 73.7508 1131.43 67.4314 Q1125.92 61.0714 1125.92 49.9314 Q1125.92 38.7509 1131.43 32.4315 Q1136.98 26.1121 1146.75 26.1121 Z\" fill=\"#000000\" fill-rule=\"evenodd\" fill-opacity=\"1\" /><path clip-path=\"url(#clip930)\" d=\"M 0 0 M1204.31 28.5427 L1204.31 35.5912 Q1201.15 33.9709 1197.75 33.1607 Q1194.34 32.3505 1190.7 32.3505 Q1185.15 32.3505 1182.35 34.0519 Q1179.6 35.7533 1179.6 39.156 Q1179.6 41.7486 1181.58 43.2475 Q1183.57 44.7058 1189.56 46.0426 L1192.12 46.6097 Q1200.06 48.3111 1203.38 51.4303 Q1206.74 54.509 1206.74 60.0587 Q1206.74 66.3781 1201.72 70.0644 Q1196.73 73.7508 1187.98 73.7508 Q1184.34 73.7508 1180.37 73.0216 Q1176.44 72.3329 1172.06 70.9151 L1172.06 63.2184 Q1176.2 65.3654 1180.21 66.4591 Q1184.22 67.5124 1188.15 67.5124 Q1193.41 67.5124 1196.25 65.73 Q1199.08 63.9071 1199.08 60.6258 Q1199.08 57.5877 1197.02 55.9673 Q1194.99 54.3469 1188.07 52.8481 L1185.47 52.2405 Q1178.55 50.7821 1175.47 47.7845 Q1172.39 44.7463 1172.39 39.4801 Q1172.39 33.0797 1176.93 29.5959 Q1181.46 26.1121 1189.81 26.1121 Q1193.94 26.1121 1197.59 26.7198 Q1201.23 27.3274 1204.31 28.5427 Z\" fill=\"#000000\" fill-rule=\"evenodd\" fill-opacity=\"1\" /><path clip-path=\"url(#clip930)\" d=\"M 0 0 M1265.8 17.6457 Q1256.89 17.6457 1251.62 24.2892 Q1246.4 30.9327 1246.4 42.3968 Q1246.4 53.8203 1251.62 60.4638 Q1256.89 67.1073 1265.8 67.1073 Q1274.71 67.1073 1279.9 60.4638 Q1285.13 53.8203 1285.13 42.3968 Q1285.13 30.9327 1279.9 24.2892 Q1274.71 17.6457 1265.8 17.6457 M1277.27 71.4823 L1288.04 83.2704 L1278.16 83.2704 L1269.21 73.5887 Q1267.87 73.6697 1267.14 73.7103 Q1266.45 73.7508 1265.8 73.7508 Q1253.04 73.7508 1245.39 65.2439 Q1237.77 56.6965 1237.77 42.3968 Q1237.77 28.0566 1245.39 19.5497 Q1253.04 11.0023 1265.8 11.0023 Q1278.52 11.0023 1286.14 19.5497 Q1293.75 28.0566 1293.75 42.3968 Q1293.75 52.9291 1289.5 60.4233 Q1285.29 67.9175 1277.27 71.4823 Z\" fill=\"#000000\" fill-rule=\"evenodd\" fill-opacity=\"1\" /><path clip-path=\"url(#clip930)\" d=\"M 0 0 M1300.8 54.671 L1300.8 27.2059 L1308.26 27.2059 L1308.26 54.3874 Q1308.26 60.8284 1310.77 64.0691 Q1313.28 67.2693 1318.3 67.2693 Q1324.34 67.2693 1327.82 63.421 Q1331.35 59.5726 1331.35 52.9291 L1331.35 27.2059 L1338.8 27.2059 L1338.8 72.576 L1331.35 72.576 L1331.35 65.6084 Q1328.63 69.7404 1325.03 71.7658 Q1321.46 73.7508 1316.72 73.7508 Q1308.9 73.7508 1304.85 68.8897 Q1300.8 64.0286 1300.8 54.671 M1319.56 26.1121 L1319.56 26.1121 Z\" fill=\"#000000\" fill-rule=\"evenodd\" fill-opacity=\"1\" /><path clip-path=\"url(#clip930)\" d=\"M 0 0 M1367.24 49.7694 Q1358.2 49.7694 1354.72 51.8354 Q1351.24 53.9013 1351.24 58.8839 Q1351.24 62.8538 1353.83 65.2034 Q1356.46 67.5124 1360.96 67.5124 Q1367.16 67.5124 1370.88 63.1374 Q1374.65 58.7219 1374.65 51.4303 L1374.65 49.7694 L1367.24 49.7694 M1382.1 46.6907 L1382.1 72.576 L1374.65 72.576 L1374.65 65.6895 Q1372.1 69.8214 1368.29 71.8063 Q1364.48 73.7508 1358.97 73.7508 Q1352.01 73.7508 1347.87 69.8619 Q1343.78 65.9325 1343.78 59.3701 Q1343.78 51.7138 1348.89 47.825 Q1354.03 43.9361 1364.2 43.9361 L1374.65 43.9361 L1374.65 43.2069 Q1374.65 38.0623 1371.25 35.2672 Q1367.89 32.4315 1361.77 32.4315 Q1357.88 32.4315 1354.19 33.3632 Q1350.51 34.295 1347.1 36.1584 L1347.1 29.2718 Q1351.2 27.692 1355.04 26.9223 Q1358.89 26.1121 1362.54 26.1121 Q1372.38 26.1121 1377.24 31.2163 Q1382.1 36.3204 1382.1 46.6907 Z\" fill=\"#000000\" fill-rule=\"evenodd\" fill-opacity=\"1\" /><path clip-path=\"url(#clip930)\" d=\"M 0 0 M1419.78 34.0924 L1419.78 9.54393 L1427.23 9.54393 L1427.23 72.576 L1419.78 72.576 L1419.78 65.7705 Q1417.43 69.8214 1413.82 71.8063 Q1410.26 73.7508 1405.23 73.7508 Q1397.01 73.7508 1391.83 67.1883 Q1386.68 60.6258 1386.68 49.9314 Q1386.68 39.2371 1391.83 32.6746 Q1397.01 26.1121 1405.23 26.1121 Q1410.26 26.1121 1413.82 28.0971 Q1417.43 30.0415 1419.78 34.0924 M1394.38 49.9314 Q1394.38 58.1548 1397.74 62.8538 Q1401.14 67.5124 1407.06 67.5124 Q1412.97 67.5124 1416.37 62.8538 Q1419.78 58.1548 1419.78 49.9314 Q1419.78 41.7081 1416.37 37.0496 Q1412.97 32.3505 1407.06 32.3505 Q1401.14 32.3505 1397.74 37.0496 Q1394.38 41.7081 1394.38 49.9314 Z\" fill=\"#000000\" fill-rule=\"evenodd\" fill-opacity=\"1\" /><path clip-path=\"url(#clip930)\" d=\"M 0 0 M1461.34 34.1734 Q1460.08 33.4443 1458.59 33.1202 Q1457.13 32.7556 1455.34 32.7556 Q1449.02 32.7556 1445.62 36.8875 Q1442.26 40.9789 1442.26 48.6757 L1442.26 72.576 L1434.77 72.576 L1434.77 27.2059 L1442.26 27.2059 L1442.26 34.2544 Q1444.61 30.1225 1448.38 28.1376 Q1452.14 26.1121 1457.53 26.1121 Q1458.3 26.1121 1459.23 26.2337 Q1460.16 26.3147 1461.3 26.5172 L1461.34 34.1734 Z\" fill=\"#000000\" fill-rule=\"evenodd\" fill-opacity=\"1\" /><path clip-path=\"url(#clip930)\" d=\"M 0 0 M1489.78 49.7694 Q1480.74 49.7694 1477.26 51.8354 Q1473.78 53.9013 1473.78 58.8839 Q1473.78 62.8538 1476.37 65.2034 Q1479 67.5124 1483.5 67.5124 Q1489.7 67.5124 1493.42 63.1374 Q1497.19 58.7219 1497.19 51.4303 L1497.19 49.7694 L1489.78 49.7694 M1504.64 46.6907 L1504.64 72.576 L1497.19 72.576 L1497.19 65.6895 Q1494.64 69.8214 1490.83 71.8063 Q1487.02 73.7508 1481.51 73.7508 Q1474.55 73.7508 1470.41 69.8619 Q1466.32 65.9325 1466.32 59.3701 Q1466.32 51.7138 1471.43 47.825 Q1476.57 43.9361 1486.74 43.9361 L1497.19 43.9361 L1497.19 43.2069 Q1497.19 38.0623 1493.79 35.2672 Q1490.43 32.4315 1484.31 32.4315 Q1480.42 32.4315 1476.73 33.3632 Q1473.05 34.295 1469.64 36.1584 L1469.64 29.2718 Q1473.74 27.692 1477.58 26.9223 Q1481.43 26.1121 1485.08 26.1121 Q1494.92 26.1121 1499.78 31.2163 Q1504.64 36.3204 1504.64 46.6907 Z\" fill=\"#000000\" fill-rule=\"evenodd\" fill-opacity=\"1\" /><path clip-path=\"url(#clip930)\" d=\"M 0 0 M1542.32 34.0924 L1542.32 9.54393 L1549.77 9.54393 L1549.77 72.576 L1542.32 72.576 L1542.32 65.7705 Q1539.97 69.8214 1536.36 71.8063 Q1532.8 73.7508 1527.77 73.7508 Q1519.55 73.7508 1514.37 67.1883 Q1509.22 60.6258 1509.22 49.9314 Q1509.22 39.2371 1514.37 32.6746 Q1519.55 26.1121 1527.77 26.1121 Q1532.8 26.1121 1536.36 28.0971 Q1539.97 30.0415 1542.32 34.0924 M1516.92 49.9314 Q1516.92 58.1548 1520.28 62.8538 Q1523.68 67.5124 1529.6 67.5124 Q1535.51 67.5124 1538.91 62.8538 Q1542.32 58.1548 1542.32 49.9314 Q1542.32 41.7081 1538.91 37.0496 Q1535.51 32.3505 1529.6 32.3505 Q1523.68 32.3505 1520.28 37.0496 Q1516.92 41.7081 1516.92 49.9314 Z\" fill=\"#000000\" fill-rule=\"evenodd\" fill-opacity=\"1\" /><path clip-path=\"url(#clip930)\" d=\"M 0 0 M1575.17 32.4315 Q1569.17 32.4315 1565.69 37.1306 Q1562.21 41.7891 1562.21 49.9314 Q1562.21 58.0738 1565.65 62.7728 Q1569.13 67.4314 1575.17 67.4314 Q1581.12 67.4314 1584.61 62.7323 Q1588.09 58.0333 1588.09 49.9314 Q1588.09 41.8701 1584.61 37.1711 Q1581.12 32.4315 1575.17 32.4315 M1575.17 26.1121 Q1584.89 26.1121 1590.44 32.4315 Q1595.99 38.7509 1595.99 49.9314 Q1595.99 61.0714 1590.44 67.4314 Q1584.89 73.7508 1575.17 73.7508 Q1565.41 73.7508 1559.86 67.4314 Q1554.35 61.0714 1554.35 49.9314 Q1554.35 38.7509 1559.86 32.4315 Q1565.41 26.1121 1575.17 26.1121 Z\" fill=\"#000000\" fill-rule=\"evenodd\" fill-opacity=\"1\" /><path clip-path=\"url(#clip930)\" d=\"M 0 0 M1632.73 28.5427 L1632.73 35.5912 Q1629.57 33.9709 1626.17 33.1607 Q1622.77 32.3505 1619.12 32.3505 Q1613.57 32.3505 1610.78 34.0519 Q1608.02 35.7533 1608.02 39.156 Q1608.02 41.7486 1610.01 43.2475 Q1611.99 44.7058 1617.99 46.0426 L1620.54 46.6097 Q1628.48 48.3111 1631.8 51.4303 Q1635.16 54.509 1635.16 60.0587 Q1635.16 66.3781 1630.14 70.0644 Q1625.16 73.7508 1616.41 73.7508 Q1612.76 73.7508 1608.79 73.0216 Q1604.86 72.3329 1600.49 70.9151 L1600.49 63.2184 Q1604.62 65.3654 1608.63 66.4591 Q1612.64 67.5124 1616.57 67.5124 Q1621.84 67.5124 1624.67 65.73 Q1627.51 63.9071 1627.51 60.6258 Q1627.51 57.5877 1625.44 55.9673 Q1623.42 54.3469 1616.49 52.8481 L1613.9 52.2405 Q1606.97 50.7821 1603.89 47.7845 Q1600.81 44.7463 1600.81 39.4801 Q1600.81 33.0797 1605.35 29.5959 Q1609.89 26.1121 1618.23 26.1121 Q1622.36 26.1121 1626.01 26.7198 Q1629.65 27.3274 1632.73 28.5427 Z\" fill=\"#000000\" fill-rule=\"evenodd\" fill-opacity=\"1\" /><circle clip-path=\"url(#clip932)\" cx=\"249.861\" cy=\"1447.87\" r=\"14\" fill=\"#009af9\" fill-rule=\"evenodd\" fill-opacity=\"1\" stroke=\"#000000\" stroke-opacity=\"1\" stroke-width=\"3.2\"/>\n",
       "<circle clip-path=\"url(#clip932)\" cx=\"251.905\" cy=\"1446.59\" r=\"14\" fill=\"#009af9\" fill-rule=\"evenodd\" fill-opacity=\"1\" stroke=\"#000000\" stroke-opacity=\"1\" stroke-width=\"3.2\"/>\n",
       "<circle clip-path=\"url(#clip932)\" cx=\"253.949\" cy=\"1445.3\" r=\"14\" fill=\"#009af9\" fill-rule=\"evenodd\" fill-opacity=\"1\" stroke=\"#000000\" stroke-opacity=\"1\" stroke-width=\"3.2\"/>\n",
       "<circle clip-path=\"url(#clip932)\" cx=\"255.992\" cy=\"1444.01\" r=\"14\" fill=\"#009af9\" fill-rule=\"evenodd\" fill-opacity=\"1\" stroke=\"#000000\" stroke-opacity=\"1\" stroke-width=\"3.2\"/>\n",
       "<circle clip-path=\"url(#clip932)\" cx=\"258.036\" cy=\"1442.72\" r=\"14\" fill=\"#009af9\" fill-rule=\"evenodd\" fill-opacity=\"1\" stroke=\"#000000\" stroke-opacity=\"1\" stroke-width=\"3.2\"/>\n",
       "<circle clip-path=\"url(#clip932)\" cx=\"260.08\" cy=\"1441.44\" r=\"14\" fill=\"#009af9\" fill-rule=\"evenodd\" fill-opacity=\"1\" stroke=\"#000000\" stroke-opacity=\"1\" stroke-width=\"3.2\"/>\n",
       "<circle clip-path=\"url(#clip932)\" cx=\"262.123\" cy=\"1440.15\" r=\"14\" fill=\"#009af9\" fill-rule=\"evenodd\" fill-opacity=\"1\" stroke=\"#000000\" stroke-opacity=\"1\" stroke-width=\"3.2\"/>\n",
       "<circle clip-path=\"url(#clip932)\" cx=\"264.167\" cy=\"1438.86\" r=\"14\" fill=\"#009af9\" fill-rule=\"evenodd\" fill-opacity=\"1\" stroke=\"#000000\" stroke-opacity=\"1\" stroke-width=\"3.2\"/>\n",
       "<circle clip-path=\"url(#clip932)\" cx=\"266.211\" cy=\"1437.58\" r=\"14\" fill=\"#009af9\" fill-rule=\"evenodd\" fill-opacity=\"1\" stroke=\"#000000\" stroke-opacity=\"1\" stroke-width=\"3.2\"/>\n",
       "<circle clip-path=\"url(#clip932)\" cx=\"268.255\" cy=\"1436.29\" r=\"14\" fill=\"#009af9\" fill-rule=\"evenodd\" fill-opacity=\"1\" stroke=\"#000000\" stroke-opacity=\"1\" stroke-width=\"3.2\"/>\n",
       "<circle clip-path=\"url(#clip932)\" cx=\"270.298\" cy=\"1435\" r=\"14\" fill=\"#009af9\" fill-rule=\"evenodd\" fill-opacity=\"1\" stroke=\"#000000\" stroke-opacity=\"1\" stroke-width=\"3.2\"/>\n",
       "<circle clip-path=\"url(#clip932)\" cx=\"272.342\" cy=\"1433.71\" r=\"14\" fill=\"#009af9\" fill-rule=\"evenodd\" fill-opacity=\"1\" stroke=\"#000000\" stroke-opacity=\"1\" stroke-width=\"3.2\"/>\n",
       "<circle clip-path=\"url(#clip932)\" cx=\"274.386\" cy=\"1432.43\" r=\"14\" fill=\"#009af9\" fill-rule=\"evenodd\" fill-opacity=\"1\" stroke=\"#000000\" stroke-opacity=\"1\" stroke-width=\"3.2\"/>\n",
       "<circle clip-path=\"url(#clip932)\" cx=\"276.429\" cy=\"1431.14\" r=\"14\" fill=\"#009af9\" fill-rule=\"evenodd\" fill-opacity=\"1\" stroke=\"#000000\" stroke-opacity=\"1\" stroke-width=\"3.2\"/>\n",
       "<circle clip-path=\"url(#clip932)\" cx=\"278.473\" cy=\"1429.85\" r=\"14\" fill=\"#009af9\" fill-rule=\"evenodd\" fill-opacity=\"1\" stroke=\"#000000\" stroke-opacity=\"1\" stroke-width=\"3.2\"/>\n",
       "<circle clip-path=\"url(#clip932)\" cx=\"280.517\" cy=\"1428.57\" r=\"14\" fill=\"#009af9\" fill-rule=\"evenodd\" fill-opacity=\"1\" stroke=\"#000000\" stroke-opacity=\"1\" stroke-width=\"3.2\"/>\n",
       "<circle clip-path=\"url(#clip932)\" cx=\"282.56\" cy=\"1427.28\" r=\"14\" fill=\"#009af9\" fill-rule=\"evenodd\" fill-opacity=\"1\" stroke=\"#000000\" stroke-opacity=\"1\" stroke-width=\"3.2\"/>\n",
       "<circle clip-path=\"url(#clip932)\" cx=\"284.604\" cy=\"1425.99\" r=\"14\" fill=\"#009af9\" fill-rule=\"evenodd\" fill-opacity=\"1\" stroke=\"#000000\" stroke-opacity=\"1\" stroke-width=\"3.2\"/>\n",
       "<circle clip-path=\"url(#clip932)\" cx=\"286.648\" cy=\"1424.71\" r=\"14\" fill=\"#009af9\" fill-rule=\"evenodd\" fill-opacity=\"1\" stroke=\"#000000\" stroke-opacity=\"1\" stroke-width=\"3.2\"/>\n",
       "<circle clip-path=\"url(#clip932)\" cx=\"288.691\" cy=\"1423.42\" r=\"14\" fill=\"#009af9\" fill-rule=\"evenodd\" fill-opacity=\"1\" stroke=\"#000000\" stroke-opacity=\"1\" stroke-width=\"3.2\"/>\n",
       "<circle clip-path=\"url(#clip932)\" cx=\"290.735\" cy=\"1422.13\" r=\"14\" fill=\"#009af9\" fill-rule=\"evenodd\" fill-opacity=\"1\" stroke=\"#000000\" stroke-opacity=\"1\" stroke-width=\"3.2\"/>\n",
       "<circle clip-path=\"url(#clip932)\" cx=\"292.779\" cy=\"1420.84\" r=\"14\" fill=\"#009af9\" fill-rule=\"evenodd\" fill-opacity=\"1\" stroke=\"#000000\" stroke-opacity=\"1\" stroke-width=\"3.2\"/>\n",
       "<circle clip-path=\"url(#clip932)\" cx=\"294.822\" cy=\"1419.56\" r=\"14\" fill=\"#009af9\" fill-rule=\"evenodd\" fill-opacity=\"1\" stroke=\"#000000\" stroke-opacity=\"1\" stroke-width=\"3.2\"/>\n",
       "<circle clip-path=\"url(#clip932)\" cx=\"296.866\" cy=\"1418.27\" r=\"14\" fill=\"#009af9\" fill-rule=\"evenodd\" fill-opacity=\"1\" stroke=\"#000000\" stroke-opacity=\"1\" stroke-width=\"3.2\"/>\n",
       "<circle clip-path=\"url(#clip932)\" cx=\"298.91\" cy=\"1416.98\" r=\"14\" fill=\"#009af9\" fill-rule=\"evenodd\" fill-opacity=\"1\" stroke=\"#000000\" stroke-opacity=\"1\" stroke-width=\"3.2\"/>\n",
       "<circle clip-path=\"url(#clip932)\" cx=\"300.954\" cy=\"1415.7\" r=\"14\" fill=\"#009af9\" fill-rule=\"evenodd\" fill-opacity=\"1\" stroke=\"#000000\" stroke-opacity=\"1\" stroke-width=\"3.2\"/>\n",
       "<circle clip-path=\"url(#clip932)\" cx=\"302.997\" cy=\"1414.41\" r=\"14\" fill=\"#009af9\" fill-rule=\"evenodd\" fill-opacity=\"1\" stroke=\"#000000\" stroke-opacity=\"1\" stroke-width=\"3.2\"/>\n",
       "<circle clip-path=\"url(#clip932)\" cx=\"305.041\" cy=\"1413.12\" r=\"14\" fill=\"#009af9\" fill-rule=\"evenodd\" fill-opacity=\"1\" stroke=\"#000000\" stroke-opacity=\"1\" stroke-width=\"3.2\"/>\n",
       "<circle clip-path=\"url(#clip932)\" cx=\"307.085\" cy=\"1411.83\" r=\"14\" fill=\"#009af9\" fill-rule=\"evenodd\" fill-opacity=\"1\" stroke=\"#000000\" stroke-opacity=\"1\" stroke-width=\"3.2\"/>\n",
       "<circle clip-path=\"url(#clip932)\" cx=\"309.128\" cy=\"1410.55\" r=\"14\" fill=\"#009af9\" fill-rule=\"evenodd\" fill-opacity=\"1\" stroke=\"#000000\" stroke-opacity=\"1\" stroke-width=\"3.2\"/>\n",
       "<circle clip-path=\"url(#clip932)\" cx=\"311.172\" cy=\"1409.26\" r=\"14\" fill=\"#009af9\" fill-rule=\"evenodd\" fill-opacity=\"1\" stroke=\"#000000\" stroke-opacity=\"1\" stroke-width=\"3.2\"/>\n",
       "<circle clip-path=\"url(#clip932)\" cx=\"313.216\" cy=\"1407.97\" r=\"14\" fill=\"#009af9\" fill-rule=\"evenodd\" fill-opacity=\"1\" stroke=\"#000000\" stroke-opacity=\"1\" stroke-width=\"3.2\"/>\n",
       "<circle clip-path=\"url(#clip932)\" cx=\"315.259\" cy=\"1406.69\" r=\"14\" fill=\"#009af9\" fill-rule=\"evenodd\" fill-opacity=\"1\" stroke=\"#000000\" stroke-opacity=\"1\" stroke-width=\"3.2\"/>\n",
       "<circle clip-path=\"url(#clip932)\" cx=\"317.303\" cy=\"1405.4\" r=\"14\" fill=\"#009af9\" fill-rule=\"evenodd\" fill-opacity=\"1\" stroke=\"#000000\" stroke-opacity=\"1\" stroke-width=\"3.2\"/>\n",
       "<circle clip-path=\"url(#clip932)\" cx=\"319.347\" cy=\"1404.11\" r=\"14\" fill=\"#009af9\" fill-rule=\"evenodd\" fill-opacity=\"1\" stroke=\"#000000\" stroke-opacity=\"1\" stroke-width=\"3.2\"/>\n",
       "<circle clip-path=\"url(#clip932)\" cx=\"321.39\" cy=\"1402.82\" r=\"14\" fill=\"#009af9\" fill-rule=\"evenodd\" fill-opacity=\"1\" stroke=\"#000000\" stroke-opacity=\"1\" stroke-width=\"3.2\"/>\n",
       "<circle clip-path=\"url(#clip932)\" cx=\"323.434\" cy=\"1401.54\" r=\"14\" fill=\"#009af9\" fill-rule=\"evenodd\" fill-opacity=\"1\" stroke=\"#000000\" stroke-opacity=\"1\" stroke-width=\"3.2\"/>\n",
       "<circle clip-path=\"url(#clip932)\" cx=\"325.478\" cy=\"1400.25\" r=\"14\" fill=\"#009af9\" fill-rule=\"evenodd\" fill-opacity=\"1\" stroke=\"#000000\" stroke-opacity=\"1\" stroke-width=\"3.2\"/>\n",
       "<circle clip-path=\"url(#clip932)\" cx=\"327.521\" cy=\"1398.96\" r=\"14\" fill=\"#009af9\" fill-rule=\"evenodd\" fill-opacity=\"1\" stroke=\"#000000\" stroke-opacity=\"1\" stroke-width=\"3.2\"/>\n",
       "<circle clip-path=\"url(#clip932)\" cx=\"329.565\" cy=\"1397.68\" r=\"14\" fill=\"#009af9\" fill-rule=\"evenodd\" fill-opacity=\"1\" stroke=\"#000000\" stroke-opacity=\"1\" stroke-width=\"3.2\"/>\n",
       "<circle clip-path=\"url(#clip932)\" cx=\"331.609\" cy=\"1396.39\" r=\"14\" fill=\"#009af9\" fill-rule=\"evenodd\" fill-opacity=\"1\" stroke=\"#000000\" stroke-opacity=\"1\" stroke-width=\"3.2\"/>\n",
       "<circle clip-path=\"url(#clip932)\" cx=\"333.653\" cy=\"1395.1\" r=\"14\" fill=\"#009af9\" fill-rule=\"evenodd\" fill-opacity=\"1\" stroke=\"#000000\" stroke-opacity=\"1\" stroke-width=\"3.2\"/>\n",
       "<circle clip-path=\"url(#clip932)\" cx=\"335.696\" cy=\"1393.81\" r=\"14\" fill=\"#009af9\" fill-rule=\"evenodd\" fill-opacity=\"1\" stroke=\"#000000\" stroke-opacity=\"1\" stroke-width=\"3.2\"/>\n",
       "<circle clip-path=\"url(#clip932)\" cx=\"337.74\" cy=\"1392.53\" r=\"14\" fill=\"#009af9\" fill-rule=\"evenodd\" fill-opacity=\"1\" stroke=\"#000000\" stroke-opacity=\"1\" stroke-width=\"3.2\"/>\n",
       "<circle clip-path=\"url(#clip932)\" cx=\"339.784\" cy=\"1391.24\" r=\"14\" fill=\"#009af9\" fill-rule=\"evenodd\" fill-opacity=\"1\" stroke=\"#000000\" stroke-opacity=\"1\" stroke-width=\"3.2\"/>\n",
       "<circle clip-path=\"url(#clip932)\" cx=\"341.827\" cy=\"1389.95\" r=\"14\" fill=\"#009af9\" fill-rule=\"evenodd\" fill-opacity=\"1\" stroke=\"#000000\" stroke-opacity=\"1\" stroke-width=\"3.2\"/>\n",
       "<circle clip-path=\"url(#clip932)\" cx=\"343.871\" cy=\"1388.67\" r=\"14\" fill=\"#009af9\" fill-rule=\"evenodd\" fill-opacity=\"1\" stroke=\"#000000\" stroke-opacity=\"1\" stroke-width=\"3.2\"/>\n",
       "<circle clip-path=\"url(#clip932)\" cx=\"345.915\" cy=\"1387.38\" r=\"14\" fill=\"#009af9\" fill-rule=\"evenodd\" fill-opacity=\"1\" stroke=\"#000000\" stroke-opacity=\"1\" stroke-width=\"3.2\"/>\n",
       "<circle clip-path=\"url(#clip932)\" cx=\"347.958\" cy=\"1386.09\" r=\"14\" fill=\"#009af9\" fill-rule=\"evenodd\" fill-opacity=\"1\" stroke=\"#000000\" stroke-opacity=\"1\" stroke-width=\"3.2\"/>\n",
       "<circle clip-path=\"url(#clip932)\" cx=\"350.002\" cy=\"1384.8\" r=\"14\" fill=\"#009af9\" fill-rule=\"evenodd\" fill-opacity=\"1\" stroke=\"#000000\" stroke-opacity=\"1\" stroke-width=\"3.2\"/>\n",
       "<circle clip-path=\"url(#clip932)\" cx=\"352.046\" cy=\"1383.52\" r=\"14\" fill=\"#009af9\" fill-rule=\"evenodd\" fill-opacity=\"1\" stroke=\"#000000\" stroke-opacity=\"1\" stroke-width=\"3.2\"/>\n",
       "<circle clip-path=\"url(#clip932)\" cx=\"354.089\" cy=\"1382.23\" r=\"14\" fill=\"#009af9\" fill-rule=\"evenodd\" fill-opacity=\"1\" stroke=\"#000000\" stroke-opacity=\"1\" stroke-width=\"3.2\"/>\n",
       "<circle clip-path=\"url(#clip932)\" cx=\"356.133\" cy=\"1380.94\" r=\"14\" fill=\"#009af9\" fill-rule=\"evenodd\" fill-opacity=\"1\" stroke=\"#000000\" stroke-opacity=\"1\" stroke-width=\"3.2\"/>\n",
       "<circle clip-path=\"url(#clip932)\" cx=\"358.177\" cy=\"1379.66\" r=\"14\" fill=\"#009af9\" fill-rule=\"evenodd\" fill-opacity=\"1\" stroke=\"#000000\" stroke-opacity=\"1\" stroke-width=\"3.2\"/>\n",
       "<circle clip-path=\"url(#clip932)\" cx=\"360.221\" cy=\"1378.37\" r=\"14\" fill=\"#009af9\" fill-rule=\"evenodd\" fill-opacity=\"1\" stroke=\"#000000\" stroke-opacity=\"1\" stroke-width=\"3.2\"/>\n",
       "<circle clip-path=\"url(#clip932)\" cx=\"362.264\" cy=\"1377.08\" r=\"14\" fill=\"#009af9\" fill-rule=\"evenodd\" fill-opacity=\"1\" stroke=\"#000000\" stroke-opacity=\"1\" stroke-width=\"3.2\"/>\n",
       "<circle clip-path=\"url(#clip932)\" cx=\"364.308\" cy=\"1375.79\" r=\"14\" fill=\"#009af9\" fill-rule=\"evenodd\" fill-opacity=\"1\" stroke=\"#000000\" stroke-opacity=\"1\" stroke-width=\"3.2\"/>\n",
       "<circle clip-path=\"url(#clip932)\" cx=\"366.352\" cy=\"1374.51\" r=\"14\" fill=\"#009af9\" fill-rule=\"evenodd\" fill-opacity=\"1\" stroke=\"#000000\" stroke-opacity=\"1\" stroke-width=\"3.2\"/>\n",
       "<circle clip-path=\"url(#clip932)\" cx=\"368.395\" cy=\"1373.22\" r=\"14\" fill=\"#009af9\" fill-rule=\"evenodd\" fill-opacity=\"1\" stroke=\"#000000\" stroke-opacity=\"1\" stroke-width=\"3.2\"/>\n",
       "<circle clip-path=\"url(#clip932)\" cx=\"370.439\" cy=\"1371.93\" r=\"14\" fill=\"#009af9\" fill-rule=\"evenodd\" fill-opacity=\"1\" stroke=\"#000000\" stroke-opacity=\"1\" stroke-width=\"3.2\"/>\n",
       "<circle clip-path=\"url(#clip932)\" cx=\"372.483\" cy=\"1370.65\" r=\"14\" fill=\"#009af9\" fill-rule=\"evenodd\" fill-opacity=\"1\" stroke=\"#000000\" stroke-opacity=\"1\" stroke-width=\"3.2\"/>\n",
       "<circle clip-path=\"url(#clip932)\" cx=\"374.526\" cy=\"1369.36\" r=\"14\" fill=\"#009af9\" fill-rule=\"evenodd\" fill-opacity=\"1\" stroke=\"#000000\" stroke-opacity=\"1\" stroke-width=\"3.2\"/>\n",
       "<circle clip-path=\"url(#clip932)\" cx=\"376.57\" cy=\"1368.07\" r=\"14\" fill=\"#009af9\" fill-rule=\"evenodd\" fill-opacity=\"1\" stroke=\"#000000\" stroke-opacity=\"1\" stroke-width=\"3.2\"/>\n",
       "<circle clip-path=\"url(#clip932)\" cx=\"378.614\" cy=\"1366.78\" r=\"14\" fill=\"#009af9\" fill-rule=\"evenodd\" fill-opacity=\"1\" stroke=\"#000000\" stroke-opacity=\"1\" stroke-width=\"3.2\"/>\n",
       "<circle clip-path=\"url(#clip932)\" cx=\"380.657\" cy=\"1365.5\" r=\"14\" fill=\"#009af9\" fill-rule=\"evenodd\" fill-opacity=\"1\" stroke=\"#000000\" stroke-opacity=\"1\" stroke-width=\"3.2\"/>\n",
       "<circle clip-path=\"url(#clip932)\" cx=\"382.701\" cy=\"1364.21\" r=\"14\" fill=\"#009af9\" fill-rule=\"evenodd\" fill-opacity=\"1\" stroke=\"#000000\" stroke-opacity=\"1\" stroke-width=\"3.2\"/>\n",
       "<circle clip-path=\"url(#clip932)\" cx=\"384.745\" cy=\"1362.92\" r=\"14\" fill=\"#009af9\" fill-rule=\"evenodd\" fill-opacity=\"1\" stroke=\"#000000\" stroke-opacity=\"1\" stroke-width=\"3.2\"/>\n",
       "<circle clip-path=\"url(#clip932)\" cx=\"386.788\" cy=\"1361.64\" r=\"14\" fill=\"#009af9\" fill-rule=\"evenodd\" fill-opacity=\"1\" stroke=\"#000000\" stroke-opacity=\"1\" stroke-width=\"3.2\"/>\n",
       "<circle clip-path=\"url(#clip932)\" cx=\"388.832\" cy=\"1360.35\" r=\"14\" fill=\"#009af9\" fill-rule=\"evenodd\" fill-opacity=\"1\" stroke=\"#000000\" stroke-opacity=\"1\" stroke-width=\"3.2\"/>\n",
       "<circle clip-path=\"url(#clip932)\" cx=\"390.876\" cy=\"1359.06\" r=\"14\" fill=\"#009af9\" fill-rule=\"evenodd\" fill-opacity=\"1\" stroke=\"#000000\" stroke-opacity=\"1\" stroke-width=\"3.2\"/>\n",
       "<circle clip-path=\"url(#clip932)\" cx=\"392.92\" cy=\"1357.78\" r=\"14\" fill=\"#009af9\" fill-rule=\"evenodd\" fill-opacity=\"1\" stroke=\"#000000\" stroke-opacity=\"1\" stroke-width=\"3.2\"/>\n",
       "<circle clip-path=\"url(#clip932)\" cx=\"394.963\" cy=\"1356.49\" r=\"14\" fill=\"#009af9\" fill-rule=\"evenodd\" fill-opacity=\"1\" stroke=\"#000000\" stroke-opacity=\"1\" stroke-width=\"3.2\"/>\n",
       "<circle clip-path=\"url(#clip932)\" cx=\"397.007\" cy=\"1355.2\" r=\"14\" fill=\"#009af9\" fill-rule=\"evenodd\" fill-opacity=\"1\" stroke=\"#000000\" stroke-opacity=\"1\" stroke-width=\"3.2\"/>\n",
       "<circle clip-path=\"url(#clip932)\" cx=\"399.051\" cy=\"1353.91\" r=\"14\" fill=\"#009af9\" fill-rule=\"evenodd\" fill-opacity=\"1\" stroke=\"#000000\" stroke-opacity=\"1\" stroke-width=\"3.2\"/>\n",
       "<circle clip-path=\"url(#clip932)\" cx=\"401.094\" cy=\"1352.63\" r=\"14\" fill=\"#009af9\" fill-rule=\"evenodd\" fill-opacity=\"1\" stroke=\"#000000\" stroke-opacity=\"1\" stroke-width=\"3.2\"/>\n",
       "<circle clip-path=\"url(#clip932)\" cx=\"403.138\" cy=\"1351.34\" r=\"14\" fill=\"#009af9\" fill-rule=\"evenodd\" fill-opacity=\"1\" stroke=\"#000000\" stroke-opacity=\"1\" stroke-width=\"3.2\"/>\n",
       "<circle clip-path=\"url(#clip932)\" cx=\"405.182\" cy=\"1350.05\" r=\"14\" fill=\"#009af9\" fill-rule=\"evenodd\" fill-opacity=\"1\" stroke=\"#000000\" stroke-opacity=\"1\" stroke-width=\"3.2\"/>\n",
       "<circle clip-path=\"url(#clip932)\" cx=\"407.225\" cy=\"1348.77\" r=\"14\" fill=\"#009af9\" fill-rule=\"evenodd\" fill-opacity=\"1\" stroke=\"#000000\" stroke-opacity=\"1\" stroke-width=\"3.2\"/>\n",
       "<circle clip-path=\"url(#clip932)\" cx=\"409.269\" cy=\"1347.48\" r=\"14\" fill=\"#009af9\" fill-rule=\"evenodd\" fill-opacity=\"1\" stroke=\"#000000\" stroke-opacity=\"1\" stroke-width=\"3.2\"/>\n",
       "<circle clip-path=\"url(#clip932)\" cx=\"411.313\" cy=\"1346.19\" r=\"14\" fill=\"#009af9\" fill-rule=\"evenodd\" fill-opacity=\"1\" stroke=\"#000000\" stroke-opacity=\"1\" stroke-width=\"3.2\"/>\n",
       "<circle clip-path=\"url(#clip932)\" cx=\"413.356\" cy=\"1344.9\" r=\"14\" fill=\"#009af9\" fill-rule=\"evenodd\" fill-opacity=\"1\" stroke=\"#000000\" stroke-opacity=\"1\" stroke-width=\"3.2\"/>\n",
       "<circle clip-path=\"url(#clip932)\" cx=\"415.4\" cy=\"1343.62\" r=\"14\" fill=\"#009af9\" fill-rule=\"evenodd\" fill-opacity=\"1\" stroke=\"#000000\" stroke-opacity=\"1\" stroke-width=\"3.2\"/>\n",
       "<circle clip-path=\"url(#clip932)\" cx=\"417.444\" cy=\"1342.33\" r=\"14\" fill=\"#009af9\" fill-rule=\"evenodd\" fill-opacity=\"1\" stroke=\"#000000\" stroke-opacity=\"1\" stroke-width=\"3.2\"/>\n",
       "<circle clip-path=\"url(#clip932)\" cx=\"419.487\" cy=\"1341.04\" r=\"14\" fill=\"#009af9\" fill-rule=\"evenodd\" fill-opacity=\"1\" stroke=\"#000000\" stroke-opacity=\"1\" stroke-width=\"3.2\"/>\n",
       "<circle clip-path=\"url(#clip932)\" cx=\"421.531\" cy=\"1339.76\" r=\"14\" fill=\"#009af9\" fill-rule=\"evenodd\" fill-opacity=\"1\" stroke=\"#000000\" stroke-opacity=\"1\" stroke-width=\"3.2\"/>\n",
       "<circle clip-path=\"url(#clip932)\" cx=\"423.575\" cy=\"1338.47\" r=\"14\" fill=\"#009af9\" fill-rule=\"evenodd\" fill-opacity=\"1\" stroke=\"#000000\" stroke-opacity=\"1\" stroke-width=\"3.2\"/>\n",
       "<circle clip-path=\"url(#clip932)\" cx=\"425.619\" cy=\"1337.18\" r=\"14\" fill=\"#009af9\" fill-rule=\"evenodd\" fill-opacity=\"1\" stroke=\"#000000\" stroke-opacity=\"1\" stroke-width=\"3.2\"/>\n",
       "<circle clip-path=\"url(#clip932)\" cx=\"427.662\" cy=\"1335.89\" r=\"14\" fill=\"#009af9\" fill-rule=\"evenodd\" fill-opacity=\"1\" stroke=\"#000000\" stroke-opacity=\"1\" stroke-width=\"3.2\"/>\n",
       "<circle clip-path=\"url(#clip932)\" cx=\"429.706\" cy=\"1334.61\" r=\"14\" fill=\"#009af9\" fill-rule=\"evenodd\" fill-opacity=\"1\" stroke=\"#000000\" stroke-opacity=\"1\" stroke-width=\"3.2\"/>\n",
       "<circle clip-path=\"url(#clip932)\" cx=\"431.75\" cy=\"1333.32\" r=\"14\" fill=\"#009af9\" fill-rule=\"evenodd\" fill-opacity=\"1\" stroke=\"#000000\" stroke-opacity=\"1\" stroke-width=\"3.2\"/>\n",
       "<circle clip-path=\"url(#clip932)\" cx=\"433.793\" cy=\"1332.03\" r=\"14\" fill=\"#009af9\" fill-rule=\"evenodd\" fill-opacity=\"1\" stroke=\"#000000\" stroke-opacity=\"1\" stroke-width=\"3.2\"/>\n",
       "<circle clip-path=\"url(#clip932)\" cx=\"435.837\" cy=\"1330.75\" r=\"14\" fill=\"#009af9\" fill-rule=\"evenodd\" fill-opacity=\"1\" stroke=\"#000000\" stroke-opacity=\"1\" stroke-width=\"3.2\"/>\n",
       "<circle clip-path=\"url(#clip932)\" cx=\"437.881\" cy=\"1329.46\" r=\"14\" fill=\"#009af9\" fill-rule=\"evenodd\" fill-opacity=\"1\" stroke=\"#000000\" stroke-opacity=\"1\" stroke-width=\"3.2\"/>\n",
       "<circle clip-path=\"url(#clip932)\" cx=\"439.924\" cy=\"1328.17\" r=\"14\" fill=\"#009af9\" fill-rule=\"evenodd\" fill-opacity=\"1\" stroke=\"#000000\" stroke-opacity=\"1\" stroke-width=\"3.2\"/>\n",
       "<circle clip-path=\"url(#clip932)\" cx=\"441.968\" cy=\"1326.88\" r=\"14\" fill=\"#009af9\" fill-rule=\"evenodd\" fill-opacity=\"1\" stroke=\"#000000\" stroke-opacity=\"1\" stroke-width=\"3.2\"/>\n",
       "<circle clip-path=\"url(#clip932)\" cx=\"444.012\" cy=\"1325.6\" r=\"14\" fill=\"#009af9\" fill-rule=\"evenodd\" fill-opacity=\"1\" stroke=\"#000000\" stroke-opacity=\"1\" stroke-width=\"3.2\"/>\n",
       "<circle clip-path=\"url(#clip932)\" cx=\"446.055\" cy=\"1324.31\" r=\"14\" fill=\"#009af9\" fill-rule=\"evenodd\" fill-opacity=\"1\" stroke=\"#000000\" stroke-opacity=\"1\" stroke-width=\"3.2\"/>\n",
       "<circle clip-path=\"url(#clip932)\" cx=\"448.099\" cy=\"1323.02\" r=\"14\" fill=\"#009af9\" fill-rule=\"evenodd\" fill-opacity=\"1\" stroke=\"#000000\" stroke-opacity=\"1\" stroke-width=\"3.2\"/>\n",
       "<circle clip-path=\"url(#clip932)\" cx=\"450.143\" cy=\"1321.74\" r=\"14\" fill=\"#009af9\" fill-rule=\"evenodd\" fill-opacity=\"1\" stroke=\"#000000\" stroke-opacity=\"1\" stroke-width=\"3.2\"/>\n",
       "<circle clip-path=\"url(#clip932)\" cx=\"452.187\" cy=\"1320.45\" r=\"14\" fill=\"#009af9\" fill-rule=\"evenodd\" fill-opacity=\"1\" stroke=\"#000000\" stroke-opacity=\"1\" stroke-width=\"3.2\"/>\n",
       "<circle clip-path=\"url(#clip932)\" cx=\"454.23\" cy=\"1319.16\" r=\"14\" fill=\"#009af9\" fill-rule=\"evenodd\" fill-opacity=\"1\" stroke=\"#000000\" stroke-opacity=\"1\" stroke-width=\"3.2\"/>\n",
       "<circle clip-path=\"url(#clip932)\" cx=\"456.274\" cy=\"1317.87\" r=\"14\" fill=\"#009af9\" fill-rule=\"evenodd\" fill-opacity=\"1\" stroke=\"#000000\" stroke-opacity=\"1\" stroke-width=\"3.2\"/>\n",
       "<circle clip-path=\"url(#clip932)\" cx=\"458.318\" cy=\"1316.59\" r=\"14\" fill=\"#009af9\" fill-rule=\"evenodd\" fill-opacity=\"1\" stroke=\"#000000\" stroke-opacity=\"1\" stroke-width=\"3.2\"/>\n",
       "<circle clip-path=\"url(#clip932)\" cx=\"460.361\" cy=\"1315.3\" r=\"14\" fill=\"#009af9\" fill-rule=\"evenodd\" fill-opacity=\"1\" stroke=\"#000000\" stroke-opacity=\"1\" stroke-width=\"3.2\"/>\n",
       "<circle clip-path=\"url(#clip932)\" cx=\"462.405\" cy=\"1314.01\" r=\"14\" fill=\"#009af9\" fill-rule=\"evenodd\" fill-opacity=\"1\" stroke=\"#000000\" stroke-opacity=\"1\" stroke-width=\"3.2\"/>\n",
       "<circle clip-path=\"url(#clip932)\" cx=\"464.449\" cy=\"1312.73\" r=\"14\" fill=\"#009af9\" fill-rule=\"evenodd\" fill-opacity=\"1\" stroke=\"#000000\" stroke-opacity=\"1\" stroke-width=\"3.2\"/>\n",
       "<circle clip-path=\"url(#clip932)\" cx=\"466.492\" cy=\"1311.44\" r=\"14\" fill=\"#009af9\" fill-rule=\"evenodd\" fill-opacity=\"1\" stroke=\"#000000\" stroke-opacity=\"1\" stroke-width=\"3.2\"/>\n",
       "<circle clip-path=\"url(#clip932)\" cx=\"468.536\" cy=\"1310.15\" r=\"14\" fill=\"#009af9\" fill-rule=\"evenodd\" fill-opacity=\"1\" stroke=\"#000000\" stroke-opacity=\"1\" stroke-width=\"3.2\"/>\n",
       "<circle clip-path=\"url(#clip932)\" cx=\"470.58\" cy=\"1308.86\" r=\"14\" fill=\"#009af9\" fill-rule=\"evenodd\" fill-opacity=\"1\" stroke=\"#000000\" stroke-opacity=\"1\" stroke-width=\"3.2\"/>\n",
       "<circle clip-path=\"url(#clip932)\" cx=\"472.623\" cy=\"1307.58\" r=\"14\" fill=\"#009af9\" fill-rule=\"evenodd\" fill-opacity=\"1\" stroke=\"#000000\" stroke-opacity=\"1\" stroke-width=\"3.2\"/>\n",
       "<circle clip-path=\"url(#clip932)\" cx=\"474.667\" cy=\"1306.29\" r=\"14\" fill=\"#009af9\" fill-rule=\"evenodd\" fill-opacity=\"1\" stroke=\"#000000\" stroke-opacity=\"1\" stroke-width=\"3.2\"/>\n",
       "<circle clip-path=\"url(#clip932)\" cx=\"476.711\" cy=\"1305\" r=\"14\" fill=\"#009af9\" fill-rule=\"evenodd\" fill-opacity=\"1\" stroke=\"#000000\" stroke-opacity=\"1\" stroke-width=\"3.2\"/>\n",
       "<circle clip-path=\"url(#clip932)\" cx=\"478.754\" cy=\"1303.72\" r=\"14\" fill=\"#009af9\" fill-rule=\"evenodd\" fill-opacity=\"1\" stroke=\"#000000\" stroke-opacity=\"1\" stroke-width=\"3.2\"/>\n",
       "<circle clip-path=\"url(#clip932)\" cx=\"480.798\" cy=\"1302.43\" r=\"14\" fill=\"#009af9\" fill-rule=\"evenodd\" fill-opacity=\"1\" stroke=\"#000000\" stroke-opacity=\"1\" stroke-width=\"3.2\"/>\n",
       "<circle clip-path=\"url(#clip932)\" cx=\"482.842\" cy=\"1301.14\" r=\"14\" fill=\"#009af9\" fill-rule=\"evenodd\" fill-opacity=\"1\" stroke=\"#000000\" stroke-opacity=\"1\" stroke-width=\"3.2\"/>\n",
       "<circle clip-path=\"url(#clip932)\" cx=\"484.886\" cy=\"1299.86\" r=\"14\" fill=\"#009af9\" fill-rule=\"evenodd\" fill-opacity=\"1\" stroke=\"#000000\" stroke-opacity=\"1\" stroke-width=\"3.2\"/>\n",
       "<circle clip-path=\"url(#clip932)\" cx=\"486.929\" cy=\"1298.57\" r=\"14\" fill=\"#009af9\" fill-rule=\"evenodd\" fill-opacity=\"1\" stroke=\"#000000\" stroke-opacity=\"1\" stroke-width=\"3.2\"/>\n",
       "<circle clip-path=\"url(#clip932)\" cx=\"488.973\" cy=\"1297.28\" r=\"14\" fill=\"#009af9\" fill-rule=\"evenodd\" fill-opacity=\"1\" stroke=\"#000000\" stroke-opacity=\"1\" stroke-width=\"3.2\"/>\n",
       "<circle clip-path=\"url(#clip932)\" cx=\"491.017\" cy=\"1295.99\" r=\"14\" fill=\"#009af9\" fill-rule=\"evenodd\" fill-opacity=\"1\" stroke=\"#000000\" stroke-opacity=\"1\" stroke-width=\"3.2\"/>\n",
       "<circle clip-path=\"url(#clip932)\" cx=\"493.06\" cy=\"1294.71\" r=\"14\" fill=\"#009af9\" fill-rule=\"evenodd\" fill-opacity=\"1\" stroke=\"#000000\" stroke-opacity=\"1\" stroke-width=\"3.2\"/>\n",
       "<circle clip-path=\"url(#clip932)\" cx=\"495.104\" cy=\"1293.42\" r=\"14\" fill=\"#009af9\" fill-rule=\"evenodd\" fill-opacity=\"1\" stroke=\"#000000\" stroke-opacity=\"1\" stroke-width=\"3.2\"/>\n",
       "<circle clip-path=\"url(#clip932)\" cx=\"497.148\" cy=\"1292.13\" r=\"14\" fill=\"#009af9\" fill-rule=\"evenodd\" fill-opacity=\"1\" stroke=\"#000000\" stroke-opacity=\"1\" stroke-width=\"3.2\"/>\n",
       "<circle clip-path=\"url(#clip932)\" cx=\"499.191\" cy=\"1290.85\" r=\"14\" fill=\"#009af9\" fill-rule=\"evenodd\" fill-opacity=\"1\" stroke=\"#000000\" stroke-opacity=\"1\" stroke-width=\"3.2\"/>\n",
       "<circle clip-path=\"url(#clip932)\" cx=\"501.235\" cy=\"1289.56\" r=\"14\" fill=\"#009af9\" fill-rule=\"evenodd\" fill-opacity=\"1\" stroke=\"#000000\" stroke-opacity=\"1\" stroke-width=\"3.2\"/>\n",
       "<circle clip-path=\"url(#clip932)\" cx=\"503.279\" cy=\"1288.27\" r=\"14\" fill=\"#009af9\" fill-rule=\"evenodd\" fill-opacity=\"1\" stroke=\"#000000\" stroke-opacity=\"1\" stroke-width=\"3.2\"/>\n",
       "<circle clip-path=\"url(#clip932)\" cx=\"505.322\" cy=\"1286.98\" r=\"14\" fill=\"#009af9\" fill-rule=\"evenodd\" fill-opacity=\"1\" stroke=\"#000000\" stroke-opacity=\"1\" stroke-width=\"3.2\"/>\n",
       "<circle clip-path=\"url(#clip932)\" cx=\"507.366\" cy=\"1285.7\" r=\"14\" fill=\"#009af9\" fill-rule=\"evenodd\" fill-opacity=\"1\" stroke=\"#000000\" stroke-opacity=\"1\" stroke-width=\"3.2\"/>\n",
       "<circle clip-path=\"url(#clip932)\" cx=\"509.41\" cy=\"1284.41\" r=\"14\" fill=\"#009af9\" fill-rule=\"evenodd\" fill-opacity=\"1\" stroke=\"#000000\" stroke-opacity=\"1\" stroke-width=\"3.2\"/>\n",
       "<circle clip-path=\"url(#clip932)\" cx=\"511.453\" cy=\"1283.12\" r=\"14\" fill=\"#009af9\" fill-rule=\"evenodd\" fill-opacity=\"1\" stroke=\"#000000\" stroke-opacity=\"1\" stroke-width=\"3.2\"/>\n",
       "<circle clip-path=\"url(#clip932)\" cx=\"513.497\" cy=\"1281.84\" r=\"14\" fill=\"#009af9\" fill-rule=\"evenodd\" fill-opacity=\"1\" stroke=\"#000000\" stroke-opacity=\"1\" stroke-width=\"3.2\"/>\n",
       "<circle clip-path=\"url(#clip932)\" cx=\"515.541\" cy=\"1280.55\" r=\"14\" fill=\"#009af9\" fill-rule=\"evenodd\" fill-opacity=\"1\" stroke=\"#000000\" stroke-opacity=\"1\" stroke-width=\"3.2\"/>\n",
       "<circle clip-path=\"url(#clip932)\" cx=\"517.585\" cy=\"1279.26\" r=\"14\" fill=\"#009af9\" fill-rule=\"evenodd\" fill-opacity=\"1\" stroke=\"#000000\" stroke-opacity=\"1\" stroke-width=\"3.2\"/>\n",
       "<circle clip-path=\"url(#clip932)\" cx=\"519.628\" cy=\"1277.97\" r=\"14\" fill=\"#009af9\" fill-rule=\"evenodd\" fill-opacity=\"1\" stroke=\"#000000\" stroke-opacity=\"1\" stroke-width=\"3.2\"/>\n",
       "<circle clip-path=\"url(#clip932)\" cx=\"521.672\" cy=\"1276.69\" r=\"14\" fill=\"#009af9\" fill-rule=\"evenodd\" fill-opacity=\"1\" stroke=\"#000000\" stroke-opacity=\"1\" stroke-width=\"3.2\"/>\n",
       "<circle clip-path=\"url(#clip932)\" cx=\"523.716\" cy=\"1275.4\" r=\"14\" fill=\"#009af9\" fill-rule=\"evenodd\" fill-opacity=\"1\" stroke=\"#000000\" stroke-opacity=\"1\" stroke-width=\"3.2\"/>\n",
       "<circle clip-path=\"url(#clip932)\" cx=\"525.759\" cy=\"1274.11\" r=\"14\" fill=\"#009af9\" fill-rule=\"evenodd\" fill-opacity=\"1\" stroke=\"#000000\" stroke-opacity=\"1\" stroke-width=\"3.2\"/>\n",
       "<circle clip-path=\"url(#clip932)\" cx=\"527.803\" cy=\"1272.83\" r=\"14\" fill=\"#009af9\" fill-rule=\"evenodd\" fill-opacity=\"1\" stroke=\"#000000\" stroke-opacity=\"1\" stroke-width=\"3.2\"/>\n",
       "<circle clip-path=\"url(#clip932)\" cx=\"529.847\" cy=\"1271.54\" r=\"14\" fill=\"#009af9\" fill-rule=\"evenodd\" fill-opacity=\"1\" stroke=\"#000000\" stroke-opacity=\"1\" stroke-width=\"3.2\"/>\n",
       "<circle clip-path=\"url(#clip932)\" cx=\"531.89\" cy=\"1270.25\" r=\"14\" fill=\"#009af9\" fill-rule=\"evenodd\" fill-opacity=\"1\" stroke=\"#000000\" stroke-opacity=\"1\" stroke-width=\"3.2\"/>\n",
       "<circle clip-path=\"url(#clip932)\" cx=\"533.934\" cy=\"1268.96\" r=\"14\" fill=\"#009af9\" fill-rule=\"evenodd\" fill-opacity=\"1\" stroke=\"#000000\" stroke-opacity=\"1\" stroke-width=\"3.2\"/>\n",
       "<circle clip-path=\"url(#clip932)\" cx=\"535.978\" cy=\"1267.68\" r=\"14\" fill=\"#009af9\" fill-rule=\"evenodd\" fill-opacity=\"1\" stroke=\"#000000\" stroke-opacity=\"1\" stroke-width=\"3.2\"/>\n",
       "<circle clip-path=\"url(#clip932)\" cx=\"538.021\" cy=\"1266.39\" r=\"14\" fill=\"#009af9\" fill-rule=\"evenodd\" fill-opacity=\"1\" stroke=\"#000000\" stroke-opacity=\"1\" stroke-width=\"3.2\"/>\n",
       "<circle clip-path=\"url(#clip932)\" cx=\"540.065\" cy=\"1265.1\" r=\"14\" fill=\"#009af9\" fill-rule=\"evenodd\" fill-opacity=\"1\" stroke=\"#000000\" stroke-opacity=\"1\" stroke-width=\"3.2\"/>\n",
       "<circle clip-path=\"url(#clip932)\" cx=\"542.109\" cy=\"1263.82\" r=\"14\" fill=\"#009af9\" fill-rule=\"evenodd\" fill-opacity=\"1\" stroke=\"#000000\" stroke-opacity=\"1\" stroke-width=\"3.2\"/>\n",
       "<circle clip-path=\"url(#clip932)\" cx=\"544.153\" cy=\"1262.53\" r=\"14\" fill=\"#009af9\" fill-rule=\"evenodd\" fill-opacity=\"1\" stroke=\"#000000\" stroke-opacity=\"1\" stroke-width=\"3.2\"/>\n",
       "<circle clip-path=\"url(#clip932)\" cx=\"546.196\" cy=\"1261.24\" r=\"14\" fill=\"#009af9\" fill-rule=\"evenodd\" fill-opacity=\"1\" stroke=\"#000000\" stroke-opacity=\"1\" stroke-width=\"3.2\"/>\n",
       "<circle clip-path=\"url(#clip932)\" cx=\"548.24\" cy=\"1259.95\" r=\"14\" fill=\"#009af9\" fill-rule=\"evenodd\" fill-opacity=\"1\" stroke=\"#000000\" stroke-opacity=\"1\" stroke-width=\"3.2\"/>\n",
       "<circle clip-path=\"url(#clip932)\" cx=\"550.284\" cy=\"1258.67\" r=\"14\" fill=\"#009af9\" fill-rule=\"evenodd\" fill-opacity=\"1\" stroke=\"#000000\" stroke-opacity=\"1\" stroke-width=\"3.2\"/>\n",
       "<circle clip-path=\"url(#clip932)\" cx=\"552.327\" cy=\"1257.38\" r=\"14\" fill=\"#009af9\" fill-rule=\"evenodd\" fill-opacity=\"1\" stroke=\"#000000\" stroke-opacity=\"1\" stroke-width=\"3.2\"/>\n",
       "<circle clip-path=\"url(#clip932)\" cx=\"554.371\" cy=\"1256.09\" r=\"14\" fill=\"#009af9\" fill-rule=\"evenodd\" fill-opacity=\"1\" stroke=\"#000000\" stroke-opacity=\"1\" stroke-width=\"3.2\"/>\n",
       "<circle clip-path=\"url(#clip932)\" cx=\"556.415\" cy=\"1254.81\" r=\"14\" fill=\"#009af9\" fill-rule=\"evenodd\" fill-opacity=\"1\" stroke=\"#000000\" stroke-opacity=\"1\" stroke-width=\"3.2\"/>\n",
       "<circle clip-path=\"url(#clip932)\" cx=\"558.458\" cy=\"1253.52\" r=\"14\" fill=\"#009af9\" fill-rule=\"evenodd\" fill-opacity=\"1\" stroke=\"#000000\" stroke-opacity=\"1\" stroke-width=\"3.2\"/>\n",
       "<circle clip-path=\"url(#clip932)\" cx=\"560.502\" cy=\"1252.23\" r=\"14\" fill=\"#009af9\" fill-rule=\"evenodd\" fill-opacity=\"1\" stroke=\"#000000\" stroke-opacity=\"1\" stroke-width=\"3.2\"/>\n",
       "<circle clip-path=\"url(#clip932)\" cx=\"562.546\" cy=\"1250.94\" r=\"14\" fill=\"#009af9\" fill-rule=\"evenodd\" fill-opacity=\"1\" stroke=\"#000000\" stroke-opacity=\"1\" stroke-width=\"3.2\"/>\n",
       "<circle clip-path=\"url(#clip932)\" cx=\"564.589\" cy=\"1249.66\" r=\"14\" fill=\"#009af9\" fill-rule=\"evenodd\" fill-opacity=\"1\" stroke=\"#000000\" stroke-opacity=\"1\" stroke-width=\"3.2\"/>\n",
       "<circle clip-path=\"url(#clip932)\" cx=\"566.633\" cy=\"1248.37\" r=\"14\" fill=\"#009af9\" fill-rule=\"evenodd\" fill-opacity=\"1\" stroke=\"#000000\" stroke-opacity=\"1\" stroke-width=\"3.2\"/>\n",
       "<circle clip-path=\"url(#clip932)\" cx=\"568.677\" cy=\"1247.08\" r=\"14\" fill=\"#009af9\" fill-rule=\"evenodd\" fill-opacity=\"1\" stroke=\"#000000\" stroke-opacity=\"1\" stroke-width=\"3.2\"/>\n",
       "<circle clip-path=\"url(#clip932)\" cx=\"570.72\" cy=\"1245.8\" r=\"14\" fill=\"#009af9\" fill-rule=\"evenodd\" fill-opacity=\"1\" stroke=\"#000000\" stroke-opacity=\"1\" stroke-width=\"3.2\"/>\n",
       "<circle clip-path=\"url(#clip932)\" cx=\"572.764\" cy=\"1244.51\" r=\"14\" fill=\"#009af9\" fill-rule=\"evenodd\" fill-opacity=\"1\" stroke=\"#000000\" stroke-opacity=\"1\" stroke-width=\"3.2\"/>\n",
       "<circle clip-path=\"url(#clip932)\" cx=\"574.808\" cy=\"1243.22\" r=\"14\" fill=\"#009af9\" fill-rule=\"evenodd\" fill-opacity=\"1\" stroke=\"#000000\" stroke-opacity=\"1\" stroke-width=\"3.2\"/>\n",
       "<circle clip-path=\"url(#clip932)\" cx=\"576.852\" cy=\"1241.93\" r=\"14\" fill=\"#009af9\" fill-rule=\"evenodd\" fill-opacity=\"1\" stroke=\"#000000\" stroke-opacity=\"1\" stroke-width=\"3.2\"/>\n",
       "<circle clip-path=\"url(#clip932)\" cx=\"578.895\" cy=\"1240.65\" r=\"14\" fill=\"#009af9\" fill-rule=\"evenodd\" fill-opacity=\"1\" stroke=\"#000000\" stroke-opacity=\"1\" stroke-width=\"3.2\"/>\n",
       "<circle clip-path=\"url(#clip932)\" cx=\"580.939\" cy=\"1239.36\" r=\"14\" fill=\"#009af9\" fill-rule=\"evenodd\" fill-opacity=\"1\" stroke=\"#000000\" stroke-opacity=\"1\" stroke-width=\"3.2\"/>\n",
       "<circle clip-path=\"url(#clip932)\" cx=\"582.983\" cy=\"1238.07\" r=\"14\" fill=\"#009af9\" fill-rule=\"evenodd\" fill-opacity=\"1\" stroke=\"#000000\" stroke-opacity=\"1\" stroke-width=\"3.2\"/>\n",
       "<circle clip-path=\"url(#clip932)\" cx=\"585.026\" cy=\"1236.79\" r=\"14\" fill=\"#009af9\" fill-rule=\"evenodd\" fill-opacity=\"1\" stroke=\"#000000\" stroke-opacity=\"1\" stroke-width=\"3.2\"/>\n",
       "<circle clip-path=\"url(#clip932)\" cx=\"587.07\" cy=\"1235.5\" r=\"14\" fill=\"#009af9\" fill-rule=\"evenodd\" fill-opacity=\"1\" stroke=\"#000000\" stroke-opacity=\"1\" stroke-width=\"3.2\"/>\n",
       "<circle clip-path=\"url(#clip932)\" cx=\"589.114\" cy=\"1234.21\" r=\"14\" fill=\"#009af9\" fill-rule=\"evenodd\" fill-opacity=\"1\" stroke=\"#000000\" stroke-opacity=\"1\" stroke-width=\"3.2\"/>\n",
       "<circle clip-path=\"url(#clip932)\" cx=\"591.157\" cy=\"1232.93\" r=\"14\" fill=\"#009af9\" fill-rule=\"evenodd\" fill-opacity=\"1\" stroke=\"#000000\" stroke-opacity=\"1\" stroke-width=\"3.2\"/>\n",
       "<circle clip-path=\"url(#clip932)\" cx=\"593.201\" cy=\"1231.64\" r=\"14\" fill=\"#009af9\" fill-rule=\"evenodd\" fill-opacity=\"1\" stroke=\"#000000\" stroke-opacity=\"1\" stroke-width=\"3.2\"/>\n",
       "<circle clip-path=\"url(#clip932)\" cx=\"595.245\" cy=\"1230.35\" r=\"14\" fill=\"#009af9\" fill-rule=\"evenodd\" fill-opacity=\"1\" stroke=\"#000000\" stroke-opacity=\"1\" stroke-width=\"3.2\"/>\n",
       "<circle clip-path=\"url(#clip932)\" cx=\"597.288\" cy=\"1229.06\" r=\"14\" fill=\"#009af9\" fill-rule=\"evenodd\" fill-opacity=\"1\" stroke=\"#000000\" stroke-opacity=\"1\" stroke-width=\"3.2\"/>\n",
       "<circle clip-path=\"url(#clip932)\" cx=\"599.332\" cy=\"1227.78\" r=\"14\" fill=\"#009af9\" fill-rule=\"evenodd\" fill-opacity=\"1\" stroke=\"#000000\" stroke-opacity=\"1\" stroke-width=\"3.2\"/>\n",
       "<circle clip-path=\"url(#clip932)\" cx=\"601.376\" cy=\"1226.49\" r=\"14\" fill=\"#009af9\" fill-rule=\"evenodd\" fill-opacity=\"1\" stroke=\"#000000\" stroke-opacity=\"1\" stroke-width=\"3.2\"/>\n",
       "<circle clip-path=\"url(#clip932)\" cx=\"603.419\" cy=\"1225.2\" r=\"14\" fill=\"#009af9\" fill-rule=\"evenodd\" fill-opacity=\"1\" stroke=\"#000000\" stroke-opacity=\"1\" stroke-width=\"3.2\"/>\n",
       "<circle clip-path=\"url(#clip932)\" cx=\"605.463\" cy=\"1223.92\" r=\"14\" fill=\"#009af9\" fill-rule=\"evenodd\" fill-opacity=\"1\" stroke=\"#000000\" stroke-opacity=\"1\" stroke-width=\"3.2\"/>\n",
       "<circle clip-path=\"url(#clip932)\" cx=\"607.507\" cy=\"1222.63\" r=\"14\" fill=\"#009af9\" fill-rule=\"evenodd\" fill-opacity=\"1\" stroke=\"#000000\" stroke-opacity=\"1\" stroke-width=\"3.2\"/>\n",
       "<circle clip-path=\"url(#clip932)\" cx=\"609.551\" cy=\"1221.34\" r=\"14\" fill=\"#009af9\" fill-rule=\"evenodd\" fill-opacity=\"1\" stroke=\"#000000\" stroke-opacity=\"1\" stroke-width=\"3.2\"/>\n",
       "<circle clip-path=\"url(#clip932)\" cx=\"611.594\" cy=\"1220.05\" r=\"14\" fill=\"#009af9\" fill-rule=\"evenodd\" fill-opacity=\"1\" stroke=\"#000000\" stroke-opacity=\"1\" stroke-width=\"3.2\"/>\n",
       "<circle clip-path=\"url(#clip932)\" cx=\"613.638\" cy=\"1218.77\" r=\"14\" fill=\"#009af9\" fill-rule=\"evenodd\" fill-opacity=\"1\" stroke=\"#000000\" stroke-opacity=\"1\" stroke-width=\"3.2\"/>\n",
       "<circle clip-path=\"url(#clip932)\" cx=\"615.682\" cy=\"1217.48\" r=\"14\" fill=\"#009af9\" fill-rule=\"evenodd\" fill-opacity=\"1\" stroke=\"#000000\" stroke-opacity=\"1\" stroke-width=\"3.2\"/>\n",
       "<circle clip-path=\"url(#clip932)\" cx=\"617.725\" cy=\"1216.19\" r=\"14\" fill=\"#009af9\" fill-rule=\"evenodd\" fill-opacity=\"1\" stroke=\"#000000\" stroke-opacity=\"1\" stroke-width=\"3.2\"/>\n",
       "<circle clip-path=\"url(#clip932)\" cx=\"619.769\" cy=\"1214.91\" r=\"14\" fill=\"#009af9\" fill-rule=\"evenodd\" fill-opacity=\"1\" stroke=\"#000000\" stroke-opacity=\"1\" stroke-width=\"3.2\"/>\n",
       "<circle clip-path=\"url(#clip932)\" cx=\"621.813\" cy=\"1213.62\" r=\"14\" fill=\"#009af9\" fill-rule=\"evenodd\" fill-opacity=\"1\" stroke=\"#000000\" stroke-opacity=\"1\" stroke-width=\"3.2\"/>\n",
       "<circle clip-path=\"url(#clip932)\" cx=\"623.856\" cy=\"1212.33\" r=\"14\" fill=\"#009af9\" fill-rule=\"evenodd\" fill-opacity=\"1\" stroke=\"#000000\" stroke-opacity=\"1\" stroke-width=\"3.2\"/>\n",
       "<circle clip-path=\"url(#clip932)\" cx=\"625.9\" cy=\"1211.04\" r=\"14\" fill=\"#009af9\" fill-rule=\"evenodd\" fill-opacity=\"1\" stroke=\"#000000\" stroke-opacity=\"1\" stroke-width=\"3.2\"/>\n",
       "<circle clip-path=\"url(#clip932)\" cx=\"627.944\" cy=\"1209.76\" r=\"14\" fill=\"#009af9\" fill-rule=\"evenodd\" fill-opacity=\"1\" stroke=\"#000000\" stroke-opacity=\"1\" stroke-width=\"3.2\"/>\n",
       "<circle clip-path=\"url(#clip932)\" cx=\"629.987\" cy=\"1208.47\" r=\"14\" fill=\"#009af9\" fill-rule=\"evenodd\" fill-opacity=\"1\" stroke=\"#000000\" stroke-opacity=\"1\" stroke-width=\"3.2\"/>\n",
       "<circle clip-path=\"url(#clip932)\" cx=\"632.031\" cy=\"1207.18\" r=\"14\" fill=\"#009af9\" fill-rule=\"evenodd\" fill-opacity=\"1\" stroke=\"#000000\" stroke-opacity=\"1\" stroke-width=\"3.2\"/>\n",
       "<circle clip-path=\"url(#clip932)\" cx=\"634.075\" cy=\"1205.9\" r=\"14\" fill=\"#009af9\" fill-rule=\"evenodd\" fill-opacity=\"1\" stroke=\"#000000\" stroke-opacity=\"1\" stroke-width=\"3.2\"/>\n",
       "<circle clip-path=\"url(#clip932)\" cx=\"636.119\" cy=\"1204.61\" r=\"14\" fill=\"#009af9\" fill-rule=\"evenodd\" fill-opacity=\"1\" stroke=\"#000000\" stroke-opacity=\"1\" stroke-width=\"3.2\"/>\n",
       "<circle clip-path=\"url(#clip932)\" cx=\"638.162\" cy=\"1203.32\" r=\"14\" fill=\"#009af9\" fill-rule=\"evenodd\" fill-opacity=\"1\" stroke=\"#000000\" stroke-opacity=\"1\" stroke-width=\"3.2\"/>\n",
       "<circle clip-path=\"url(#clip932)\" cx=\"640.206\" cy=\"1202.03\" r=\"14\" fill=\"#009af9\" fill-rule=\"evenodd\" fill-opacity=\"1\" stroke=\"#000000\" stroke-opacity=\"1\" stroke-width=\"3.2\"/>\n",
       "<circle clip-path=\"url(#clip932)\" cx=\"642.25\" cy=\"1200.75\" r=\"14\" fill=\"#009af9\" fill-rule=\"evenodd\" fill-opacity=\"1\" stroke=\"#000000\" stroke-opacity=\"1\" stroke-width=\"3.2\"/>\n",
       "<circle clip-path=\"url(#clip932)\" cx=\"644.293\" cy=\"1199.46\" r=\"14\" fill=\"#009af9\" fill-rule=\"evenodd\" fill-opacity=\"1\" stroke=\"#000000\" stroke-opacity=\"1\" stroke-width=\"3.2\"/>\n",
       "<circle clip-path=\"url(#clip932)\" cx=\"646.337\" cy=\"1198.17\" r=\"14\" fill=\"#009af9\" fill-rule=\"evenodd\" fill-opacity=\"1\" stroke=\"#000000\" stroke-opacity=\"1\" stroke-width=\"3.2\"/>\n",
       "<circle clip-path=\"url(#clip932)\" cx=\"648.381\" cy=\"1196.89\" r=\"14\" fill=\"#009af9\" fill-rule=\"evenodd\" fill-opacity=\"1\" stroke=\"#000000\" stroke-opacity=\"1\" stroke-width=\"3.2\"/>\n",
       "<circle clip-path=\"url(#clip932)\" cx=\"650.424\" cy=\"1195.6\" r=\"14\" fill=\"#009af9\" fill-rule=\"evenodd\" fill-opacity=\"1\" stroke=\"#000000\" stroke-opacity=\"1\" stroke-width=\"3.2\"/>\n",
       "<circle clip-path=\"url(#clip932)\" cx=\"652.468\" cy=\"1194.31\" r=\"14\" fill=\"#009af9\" fill-rule=\"evenodd\" fill-opacity=\"1\" stroke=\"#000000\" stroke-opacity=\"1\" stroke-width=\"3.2\"/>\n",
       "<circle clip-path=\"url(#clip932)\" cx=\"654.512\" cy=\"1193.02\" r=\"14\" fill=\"#009af9\" fill-rule=\"evenodd\" fill-opacity=\"1\" stroke=\"#000000\" stroke-opacity=\"1\" stroke-width=\"3.2\"/>\n",
       "<circle clip-path=\"url(#clip932)\" cx=\"656.555\" cy=\"1191.74\" r=\"14\" fill=\"#009af9\" fill-rule=\"evenodd\" fill-opacity=\"1\" stroke=\"#000000\" stroke-opacity=\"1\" stroke-width=\"3.2\"/>\n",
       "<circle clip-path=\"url(#clip932)\" cx=\"658.599\" cy=\"1190.45\" r=\"14\" fill=\"#009af9\" fill-rule=\"evenodd\" fill-opacity=\"1\" stroke=\"#000000\" stroke-opacity=\"1\" stroke-width=\"3.2\"/>\n",
       "<circle clip-path=\"url(#clip932)\" cx=\"660.643\" cy=\"1189.16\" r=\"14\" fill=\"#009af9\" fill-rule=\"evenodd\" fill-opacity=\"1\" stroke=\"#000000\" stroke-opacity=\"1\" stroke-width=\"3.2\"/>\n",
       "<circle clip-path=\"url(#clip932)\" cx=\"662.686\" cy=\"1187.88\" r=\"14\" fill=\"#009af9\" fill-rule=\"evenodd\" fill-opacity=\"1\" stroke=\"#000000\" stroke-opacity=\"1\" stroke-width=\"3.2\"/>\n",
       "<circle clip-path=\"url(#clip932)\" cx=\"664.73\" cy=\"1186.59\" r=\"14\" fill=\"#009af9\" fill-rule=\"evenodd\" fill-opacity=\"1\" stroke=\"#000000\" stroke-opacity=\"1\" stroke-width=\"3.2\"/>\n",
       "<circle clip-path=\"url(#clip932)\" cx=\"666.774\" cy=\"1185.3\" r=\"14\" fill=\"#009af9\" fill-rule=\"evenodd\" fill-opacity=\"1\" stroke=\"#000000\" stroke-opacity=\"1\" stroke-width=\"3.2\"/>\n",
       "<circle clip-path=\"url(#clip932)\" cx=\"668.818\" cy=\"1184.01\" r=\"14\" fill=\"#009af9\" fill-rule=\"evenodd\" fill-opacity=\"1\" stroke=\"#000000\" stroke-opacity=\"1\" stroke-width=\"3.2\"/>\n",
       "<circle clip-path=\"url(#clip932)\" cx=\"670.861\" cy=\"1182.73\" r=\"14\" fill=\"#009af9\" fill-rule=\"evenodd\" fill-opacity=\"1\" stroke=\"#000000\" stroke-opacity=\"1\" stroke-width=\"3.2\"/>\n",
       "<circle clip-path=\"url(#clip932)\" cx=\"672.905\" cy=\"1181.44\" r=\"14\" fill=\"#009af9\" fill-rule=\"evenodd\" fill-opacity=\"1\" stroke=\"#000000\" stroke-opacity=\"1\" stroke-width=\"3.2\"/>\n",
       "<circle clip-path=\"url(#clip932)\" cx=\"674.949\" cy=\"1180.15\" r=\"14\" fill=\"#009af9\" fill-rule=\"evenodd\" fill-opacity=\"1\" stroke=\"#000000\" stroke-opacity=\"1\" stroke-width=\"3.2\"/>\n",
       "<circle clip-path=\"url(#clip932)\" cx=\"676.992\" cy=\"1178.87\" r=\"14\" fill=\"#009af9\" fill-rule=\"evenodd\" fill-opacity=\"1\" stroke=\"#000000\" stroke-opacity=\"1\" stroke-width=\"3.2\"/>\n",
       "<circle clip-path=\"url(#clip932)\" cx=\"679.036\" cy=\"1177.58\" r=\"14\" fill=\"#009af9\" fill-rule=\"evenodd\" fill-opacity=\"1\" stroke=\"#000000\" stroke-opacity=\"1\" stroke-width=\"3.2\"/>\n",
       "<circle clip-path=\"url(#clip932)\" cx=\"681.08\" cy=\"1176.29\" r=\"14\" fill=\"#009af9\" fill-rule=\"evenodd\" fill-opacity=\"1\" stroke=\"#000000\" stroke-opacity=\"1\" stroke-width=\"3.2\"/>\n",
       "<circle clip-path=\"url(#clip932)\" cx=\"683.123\" cy=\"1175.01\" r=\"14\" fill=\"#009af9\" fill-rule=\"evenodd\" fill-opacity=\"1\" stroke=\"#000000\" stroke-opacity=\"1\" stroke-width=\"3.2\"/>\n",
       "<circle clip-path=\"url(#clip932)\" cx=\"685.167\" cy=\"1173.72\" r=\"14\" fill=\"#009af9\" fill-rule=\"evenodd\" fill-opacity=\"1\" stroke=\"#000000\" stroke-opacity=\"1\" stroke-width=\"3.2\"/>\n",
       "<circle clip-path=\"url(#clip932)\" cx=\"687.211\" cy=\"1172.43\" r=\"14\" fill=\"#009af9\" fill-rule=\"evenodd\" fill-opacity=\"1\" stroke=\"#000000\" stroke-opacity=\"1\" stroke-width=\"3.2\"/>\n",
       "<circle clip-path=\"url(#clip932)\" cx=\"689.254\" cy=\"1171.14\" r=\"14\" fill=\"#009af9\" fill-rule=\"evenodd\" fill-opacity=\"1\" stroke=\"#000000\" stroke-opacity=\"1\" stroke-width=\"3.2\"/>\n",
       "<circle clip-path=\"url(#clip932)\" cx=\"691.298\" cy=\"1169.86\" r=\"14\" fill=\"#009af9\" fill-rule=\"evenodd\" fill-opacity=\"1\" stroke=\"#000000\" stroke-opacity=\"1\" stroke-width=\"3.2\"/>\n",
       "<circle clip-path=\"url(#clip932)\" cx=\"693.342\" cy=\"1168.57\" r=\"14\" fill=\"#009af9\" fill-rule=\"evenodd\" fill-opacity=\"1\" stroke=\"#000000\" stroke-opacity=\"1\" stroke-width=\"3.2\"/>\n",
       "<circle clip-path=\"url(#clip932)\" cx=\"695.385\" cy=\"1167.28\" r=\"14\" fill=\"#009af9\" fill-rule=\"evenodd\" fill-opacity=\"1\" stroke=\"#000000\" stroke-opacity=\"1\" stroke-width=\"3.2\"/>\n",
       "<circle clip-path=\"url(#clip932)\" cx=\"697.429\" cy=\"1166\" r=\"14\" fill=\"#009af9\" fill-rule=\"evenodd\" fill-opacity=\"1\" stroke=\"#000000\" stroke-opacity=\"1\" stroke-width=\"3.2\"/>\n",
       "<circle clip-path=\"url(#clip932)\" cx=\"699.473\" cy=\"1164.71\" r=\"14\" fill=\"#009af9\" fill-rule=\"evenodd\" fill-opacity=\"1\" stroke=\"#000000\" stroke-opacity=\"1\" stroke-width=\"3.2\"/>\n",
       "<circle clip-path=\"url(#clip932)\" cx=\"701.517\" cy=\"1163.42\" r=\"14\" fill=\"#009af9\" fill-rule=\"evenodd\" fill-opacity=\"1\" stroke=\"#000000\" stroke-opacity=\"1\" stroke-width=\"3.2\"/>\n",
       "<circle clip-path=\"url(#clip932)\" cx=\"703.56\" cy=\"1162.13\" r=\"14\" fill=\"#009af9\" fill-rule=\"evenodd\" fill-opacity=\"1\" stroke=\"#000000\" stroke-opacity=\"1\" stroke-width=\"3.2\"/>\n",
       "<circle clip-path=\"url(#clip932)\" cx=\"705.604\" cy=\"1160.85\" r=\"14\" fill=\"#009af9\" fill-rule=\"evenodd\" fill-opacity=\"1\" stroke=\"#000000\" stroke-opacity=\"1\" stroke-width=\"3.2\"/>\n",
       "<circle clip-path=\"url(#clip932)\" cx=\"707.648\" cy=\"1159.56\" r=\"14\" fill=\"#009af9\" fill-rule=\"evenodd\" fill-opacity=\"1\" stroke=\"#000000\" stroke-opacity=\"1\" stroke-width=\"3.2\"/>\n",
       "<circle clip-path=\"url(#clip932)\" cx=\"709.691\" cy=\"1158.27\" r=\"14\" fill=\"#009af9\" fill-rule=\"evenodd\" fill-opacity=\"1\" stroke=\"#000000\" stroke-opacity=\"1\" stroke-width=\"3.2\"/>\n",
       "<circle clip-path=\"url(#clip932)\" cx=\"711.735\" cy=\"1156.99\" r=\"14\" fill=\"#009af9\" fill-rule=\"evenodd\" fill-opacity=\"1\" stroke=\"#000000\" stroke-opacity=\"1\" stroke-width=\"3.2\"/>\n",
       "<circle clip-path=\"url(#clip932)\" cx=\"713.779\" cy=\"1155.7\" r=\"14\" fill=\"#009af9\" fill-rule=\"evenodd\" fill-opacity=\"1\" stroke=\"#000000\" stroke-opacity=\"1\" stroke-width=\"3.2\"/>\n",
       "<circle clip-path=\"url(#clip932)\" cx=\"715.822\" cy=\"1154.41\" r=\"14\" fill=\"#009af9\" fill-rule=\"evenodd\" fill-opacity=\"1\" stroke=\"#000000\" stroke-opacity=\"1\" stroke-width=\"3.2\"/>\n",
       "<circle clip-path=\"url(#clip932)\" cx=\"717.866\" cy=\"1153.12\" r=\"14\" fill=\"#009af9\" fill-rule=\"evenodd\" fill-opacity=\"1\" stroke=\"#000000\" stroke-opacity=\"1\" stroke-width=\"3.2\"/>\n",
       "<circle clip-path=\"url(#clip932)\" cx=\"719.91\" cy=\"1151.84\" r=\"14\" fill=\"#009af9\" fill-rule=\"evenodd\" fill-opacity=\"1\" stroke=\"#000000\" stroke-opacity=\"1\" stroke-width=\"3.2\"/>\n",
       "<circle clip-path=\"url(#clip932)\" cx=\"721.953\" cy=\"1150.55\" r=\"14\" fill=\"#009af9\" fill-rule=\"evenodd\" fill-opacity=\"1\" stroke=\"#000000\" stroke-opacity=\"1\" stroke-width=\"3.2\"/>\n",
       "<circle clip-path=\"url(#clip932)\" cx=\"723.997\" cy=\"1149.26\" r=\"14\" fill=\"#009af9\" fill-rule=\"evenodd\" fill-opacity=\"1\" stroke=\"#000000\" stroke-opacity=\"1\" stroke-width=\"3.2\"/>\n",
       "<circle clip-path=\"url(#clip932)\" cx=\"726.041\" cy=\"1147.98\" r=\"14\" fill=\"#009af9\" fill-rule=\"evenodd\" fill-opacity=\"1\" stroke=\"#000000\" stroke-opacity=\"1\" stroke-width=\"3.2\"/>\n",
       "<circle clip-path=\"url(#clip932)\" cx=\"728.085\" cy=\"1146.69\" r=\"14\" fill=\"#009af9\" fill-rule=\"evenodd\" fill-opacity=\"1\" stroke=\"#000000\" stroke-opacity=\"1\" stroke-width=\"3.2\"/>\n",
       "<circle clip-path=\"url(#clip932)\" cx=\"730.128\" cy=\"1145.4\" r=\"14\" fill=\"#009af9\" fill-rule=\"evenodd\" fill-opacity=\"1\" stroke=\"#000000\" stroke-opacity=\"1\" stroke-width=\"3.2\"/>\n",
       "<circle clip-path=\"url(#clip932)\" cx=\"732.172\" cy=\"1144.11\" r=\"14\" fill=\"#009af9\" fill-rule=\"evenodd\" fill-opacity=\"1\" stroke=\"#000000\" stroke-opacity=\"1\" stroke-width=\"3.2\"/>\n",
       "<circle clip-path=\"url(#clip932)\" cx=\"734.216\" cy=\"1142.83\" r=\"14\" fill=\"#009af9\" fill-rule=\"evenodd\" fill-opacity=\"1\" stroke=\"#000000\" stroke-opacity=\"1\" stroke-width=\"3.2\"/>\n",
       "<circle clip-path=\"url(#clip932)\" cx=\"736.259\" cy=\"1141.54\" r=\"14\" fill=\"#009af9\" fill-rule=\"evenodd\" fill-opacity=\"1\" stroke=\"#000000\" stroke-opacity=\"1\" stroke-width=\"3.2\"/>\n",
       "<circle clip-path=\"url(#clip932)\" cx=\"738.303\" cy=\"1140.25\" r=\"14\" fill=\"#009af9\" fill-rule=\"evenodd\" fill-opacity=\"1\" stroke=\"#000000\" stroke-opacity=\"1\" stroke-width=\"3.2\"/>\n",
       "<circle clip-path=\"url(#clip932)\" cx=\"740.347\" cy=\"1138.97\" r=\"14\" fill=\"#009af9\" fill-rule=\"evenodd\" fill-opacity=\"1\" stroke=\"#000000\" stroke-opacity=\"1\" stroke-width=\"3.2\"/>\n",
       "<circle clip-path=\"url(#clip932)\" cx=\"742.39\" cy=\"1137.68\" r=\"14\" fill=\"#009af9\" fill-rule=\"evenodd\" fill-opacity=\"1\" stroke=\"#000000\" stroke-opacity=\"1\" stroke-width=\"3.2\"/>\n",
       "<circle clip-path=\"url(#clip932)\" cx=\"744.434\" cy=\"1136.39\" r=\"14\" fill=\"#009af9\" fill-rule=\"evenodd\" fill-opacity=\"1\" stroke=\"#000000\" stroke-opacity=\"1\" stroke-width=\"3.2\"/>\n",
       "<circle clip-path=\"url(#clip932)\" cx=\"746.478\" cy=\"1135.1\" r=\"14\" fill=\"#009af9\" fill-rule=\"evenodd\" fill-opacity=\"1\" stroke=\"#000000\" stroke-opacity=\"1\" stroke-width=\"3.2\"/>\n",
       "<circle clip-path=\"url(#clip932)\" cx=\"748.521\" cy=\"1133.82\" r=\"14\" fill=\"#009af9\" fill-rule=\"evenodd\" fill-opacity=\"1\" stroke=\"#000000\" stroke-opacity=\"1\" stroke-width=\"3.2\"/>\n",
       "<circle clip-path=\"url(#clip932)\" cx=\"750.565\" cy=\"1132.53\" r=\"14\" fill=\"#009af9\" fill-rule=\"evenodd\" fill-opacity=\"1\" stroke=\"#000000\" stroke-opacity=\"1\" stroke-width=\"3.2\"/>\n",
       "<circle clip-path=\"url(#clip932)\" cx=\"752.609\" cy=\"1131.24\" r=\"14\" fill=\"#009af9\" fill-rule=\"evenodd\" fill-opacity=\"1\" stroke=\"#000000\" stroke-opacity=\"1\" stroke-width=\"3.2\"/>\n",
       "<circle clip-path=\"url(#clip932)\" cx=\"754.652\" cy=\"1129.96\" r=\"14\" fill=\"#009af9\" fill-rule=\"evenodd\" fill-opacity=\"1\" stroke=\"#000000\" stroke-opacity=\"1\" stroke-width=\"3.2\"/>\n",
       "<circle clip-path=\"url(#clip932)\" cx=\"756.696\" cy=\"1128.67\" r=\"14\" fill=\"#009af9\" fill-rule=\"evenodd\" fill-opacity=\"1\" stroke=\"#000000\" stroke-opacity=\"1\" stroke-width=\"3.2\"/>\n",
       "<circle clip-path=\"url(#clip932)\" cx=\"758.74\" cy=\"1127.38\" r=\"14\" fill=\"#009af9\" fill-rule=\"evenodd\" fill-opacity=\"1\" stroke=\"#000000\" stroke-opacity=\"1\" stroke-width=\"3.2\"/>\n",
       "<circle clip-path=\"url(#clip932)\" cx=\"760.784\" cy=\"1126.09\" r=\"14\" fill=\"#009af9\" fill-rule=\"evenodd\" fill-opacity=\"1\" stroke=\"#000000\" stroke-opacity=\"1\" stroke-width=\"3.2\"/>\n",
       "<circle clip-path=\"url(#clip932)\" cx=\"762.827\" cy=\"1124.81\" r=\"14\" fill=\"#009af9\" fill-rule=\"evenodd\" fill-opacity=\"1\" stroke=\"#000000\" stroke-opacity=\"1\" stroke-width=\"3.2\"/>\n",
       "<circle clip-path=\"url(#clip932)\" cx=\"764.871\" cy=\"1123.52\" r=\"14\" fill=\"#009af9\" fill-rule=\"evenodd\" fill-opacity=\"1\" stroke=\"#000000\" stroke-opacity=\"1\" stroke-width=\"3.2\"/>\n",
       "<circle clip-path=\"url(#clip932)\" cx=\"766.915\" cy=\"1122.23\" r=\"14\" fill=\"#009af9\" fill-rule=\"evenodd\" fill-opacity=\"1\" stroke=\"#000000\" stroke-opacity=\"1\" stroke-width=\"3.2\"/>\n",
       "<circle clip-path=\"url(#clip932)\" cx=\"768.958\" cy=\"1120.95\" r=\"14\" fill=\"#009af9\" fill-rule=\"evenodd\" fill-opacity=\"1\" stroke=\"#000000\" stroke-opacity=\"1\" stroke-width=\"3.2\"/>\n",
       "<circle clip-path=\"url(#clip932)\" cx=\"771.002\" cy=\"1119.66\" r=\"14\" fill=\"#009af9\" fill-rule=\"evenodd\" fill-opacity=\"1\" stroke=\"#000000\" stroke-opacity=\"1\" stroke-width=\"3.2\"/>\n",
       "<circle clip-path=\"url(#clip932)\" cx=\"773.046\" cy=\"1118.37\" r=\"14\" fill=\"#009af9\" fill-rule=\"evenodd\" fill-opacity=\"1\" stroke=\"#000000\" stroke-opacity=\"1\" stroke-width=\"3.2\"/>\n",
       "<circle clip-path=\"url(#clip932)\" cx=\"775.089\" cy=\"1117.08\" r=\"14\" fill=\"#009af9\" fill-rule=\"evenodd\" fill-opacity=\"1\" stroke=\"#000000\" stroke-opacity=\"1\" stroke-width=\"3.2\"/>\n",
       "<circle clip-path=\"url(#clip932)\" cx=\"777.133\" cy=\"1115.8\" r=\"14\" fill=\"#009af9\" fill-rule=\"evenodd\" fill-opacity=\"1\" stroke=\"#000000\" stroke-opacity=\"1\" stroke-width=\"3.2\"/>\n",
       "<circle clip-path=\"url(#clip932)\" cx=\"779.177\" cy=\"1114.51\" r=\"14\" fill=\"#009af9\" fill-rule=\"evenodd\" fill-opacity=\"1\" stroke=\"#000000\" stroke-opacity=\"1\" stroke-width=\"3.2\"/>\n",
       "<circle clip-path=\"url(#clip932)\" cx=\"781.22\" cy=\"1113.22\" r=\"14\" fill=\"#009af9\" fill-rule=\"evenodd\" fill-opacity=\"1\" stroke=\"#000000\" stroke-opacity=\"1\" stroke-width=\"3.2\"/>\n",
       "<circle clip-path=\"url(#clip932)\" cx=\"783.264\" cy=\"1111.94\" r=\"14\" fill=\"#009af9\" fill-rule=\"evenodd\" fill-opacity=\"1\" stroke=\"#000000\" stroke-opacity=\"1\" stroke-width=\"3.2\"/>\n",
       "<circle clip-path=\"url(#clip932)\" cx=\"785.308\" cy=\"1110.65\" r=\"14\" fill=\"#009af9\" fill-rule=\"evenodd\" fill-opacity=\"1\" stroke=\"#000000\" stroke-opacity=\"1\" stroke-width=\"3.2\"/>\n",
       "<circle clip-path=\"url(#clip932)\" cx=\"787.351\" cy=\"1109.36\" r=\"14\" fill=\"#009af9\" fill-rule=\"evenodd\" fill-opacity=\"1\" stroke=\"#000000\" stroke-opacity=\"1\" stroke-width=\"3.2\"/>\n",
       "<circle clip-path=\"url(#clip932)\" cx=\"789.395\" cy=\"1108.08\" r=\"14\" fill=\"#009af9\" fill-rule=\"evenodd\" fill-opacity=\"1\" stroke=\"#000000\" stroke-opacity=\"1\" stroke-width=\"3.2\"/>\n",
       "<circle clip-path=\"url(#clip932)\" cx=\"791.439\" cy=\"1106.79\" r=\"14\" fill=\"#009af9\" fill-rule=\"evenodd\" fill-opacity=\"1\" stroke=\"#000000\" stroke-opacity=\"1\" stroke-width=\"3.2\"/>\n",
       "<circle clip-path=\"url(#clip932)\" cx=\"793.483\" cy=\"1105.5\" r=\"14\" fill=\"#009af9\" fill-rule=\"evenodd\" fill-opacity=\"1\" stroke=\"#000000\" stroke-opacity=\"1\" stroke-width=\"3.2\"/>\n",
       "<circle clip-path=\"url(#clip932)\" cx=\"795.526\" cy=\"1104.21\" r=\"14\" fill=\"#009af9\" fill-rule=\"evenodd\" fill-opacity=\"1\" stroke=\"#000000\" stroke-opacity=\"1\" stroke-width=\"3.2\"/>\n",
       "<circle clip-path=\"url(#clip932)\" cx=\"797.57\" cy=\"1102.93\" r=\"14\" fill=\"#009af9\" fill-rule=\"evenodd\" fill-opacity=\"1\" stroke=\"#000000\" stroke-opacity=\"1\" stroke-width=\"3.2\"/>\n",
       "<circle clip-path=\"url(#clip932)\" cx=\"799.614\" cy=\"1101.64\" r=\"14\" fill=\"#009af9\" fill-rule=\"evenodd\" fill-opacity=\"1\" stroke=\"#000000\" stroke-opacity=\"1\" stroke-width=\"3.2\"/>\n",
       "<circle clip-path=\"url(#clip932)\" cx=\"801.657\" cy=\"1100.35\" r=\"14\" fill=\"#009af9\" fill-rule=\"evenodd\" fill-opacity=\"1\" stroke=\"#000000\" stroke-opacity=\"1\" stroke-width=\"3.2\"/>\n",
       "<circle clip-path=\"url(#clip932)\" cx=\"803.701\" cy=\"1099.07\" r=\"14\" fill=\"#009af9\" fill-rule=\"evenodd\" fill-opacity=\"1\" stroke=\"#000000\" stroke-opacity=\"1\" stroke-width=\"3.2\"/>\n",
       "<circle clip-path=\"url(#clip932)\" cx=\"805.745\" cy=\"1097.78\" r=\"14\" fill=\"#009af9\" fill-rule=\"evenodd\" fill-opacity=\"1\" stroke=\"#000000\" stroke-opacity=\"1\" stroke-width=\"3.2\"/>\n",
       "<circle clip-path=\"url(#clip932)\" cx=\"807.788\" cy=\"1096.49\" r=\"14\" fill=\"#009af9\" fill-rule=\"evenodd\" fill-opacity=\"1\" stroke=\"#000000\" stroke-opacity=\"1\" stroke-width=\"3.2\"/>\n",
       "<circle clip-path=\"url(#clip932)\" cx=\"809.832\" cy=\"1095.2\" r=\"14\" fill=\"#009af9\" fill-rule=\"evenodd\" fill-opacity=\"1\" stroke=\"#000000\" stroke-opacity=\"1\" stroke-width=\"3.2\"/>\n",
       "<circle clip-path=\"url(#clip932)\" cx=\"811.876\" cy=\"1093.92\" r=\"14\" fill=\"#009af9\" fill-rule=\"evenodd\" fill-opacity=\"1\" stroke=\"#000000\" stroke-opacity=\"1\" stroke-width=\"3.2\"/>\n",
       "<circle clip-path=\"url(#clip932)\" cx=\"813.919\" cy=\"1092.63\" r=\"14\" fill=\"#009af9\" fill-rule=\"evenodd\" fill-opacity=\"1\" stroke=\"#000000\" stroke-opacity=\"1\" stroke-width=\"3.2\"/>\n",
       "<circle clip-path=\"url(#clip932)\" cx=\"815.963\" cy=\"1091.34\" r=\"14\" fill=\"#009af9\" fill-rule=\"evenodd\" fill-opacity=\"1\" stroke=\"#000000\" stroke-opacity=\"1\" stroke-width=\"3.2\"/>\n",
       "<circle clip-path=\"url(#clip932)\" cx=\"818.007\" cy=\"1090.06\" r=\"14\" fill=\"#009af9\" fill-rule=\"evenodd\" fill-opacity=\"1\" stroke=\"#000000\" stroke-opacity=\"1\" stroke-width=\"3.2\"/>\n",
       "<circle clip-path=\"url(#clip932)\" cx=\"820.051\" cy=\"1088.77\" r=\"14\" fill=\"#009af9\" fill-rule=\"evenodd\" fill-opacity=\"1\" stroke=\"#000000\" stroke-opacity=\"1\" stroke-width=\"3.2\"/>\n",
       "<circle clip-path=\"url(#clip932)\" cx=\"822.094\" cy=\"1087.48\" r=\"14\" fill=\"#009af9\" fill-rule=\"evenodd\" fill-opacity=\"1\" stroke=\"#000000\" stroke-opacity=\"1\" stroke-width=\"3.2\"/>\n",
       "<circle clip-path=\"url(#clip932)\" cx=\"824.138\" cy=\"1086.19\" r=\"14\" fill=\"#009af9\" fill-rule=\"evenodd\" fill-opacity=\"1\" stroke=\"#000000\" stroke-opacity=\"1\" stroke-width=\"3.2\"/>\n",
       "<circle clip-path=\"url(#clip932)\" cx=\"826.182\" cy=\"1084.91\" r=\"14\" fill=\"#009af9\" fill-rule=\"evenodd\" fill-opacity=\"1\" stroke=\"#000000\" stroke-opacity=\"1\" stroke-width=\"3.2\"/>\n",
       "<circle clip-path=\"url(#clip932)\" cx=\"828.225\" cy=\"1083.62\" r=\"14\" fill=\"#009af9\" fill-rule=\"evenodd\" fill-opacity=\"1\" stroke=\"#000000\" stroke-opacity=\"1\" stroke-width=\"3.2\"/>\n",
       "<circle clip-path=\"url(#clip932)\" cx=\"830.269\" cy=\"1082.33\" r=\"14\" fill=\"#009af9\" fill-rule=\"evenodd\" fill-opacity=\"1\" stroke=\"#000000\" stroke-opacity=\"1\" stroke-width=\"3.2\"/>\n",
       "<circle clip-path=\"url(#clip932)\" cx=\"832.313\" cy=\"1081.05\" r=\"14\" fill=\"#009af9\" fill-rule=\"evenodd\" fill-opacity=\"1\" stroke=\"#000000\" stroke-opacity=\"1\" stroke-width=\"3.2\"/>\n",
       "<circle clip-path=\"url(#clip932)\" cx=\"834.356\" cy=\"1079.76\" r=\"14\" fill=\"#009af9\" fill-rule=\"evenodd\" fill-opacity=\"1\" stroke=\"#000000\" stroke-opacity=\"1\" stroke-width=\"3.2\"/>\n",
       "<circle clip-path=\"url(#clip932)\" cx=\"836.4\" cy=\"1078.47\" r=\"14\" fill=\"#009af9\" fill-rule=\"evenodd\" fill-opacity=\"1\" stroke=\"#000000\" stroke-opacity=\"1\" stroke-width=\"3.2\"/>\n",
       "<circle clip-path=\"url(#clip932)\" cx=\"838.444\" cy=\"1077.18\" r=\"14\" fill=\"#009af9\" fill-rule=\"evenodd\" fill-opacity=\"1\" stroke=\"#000000\" stroke-opacity=\"1\" stroke-width=\"3.2\"/>\n",
       "<circle clip-path=\"url(#clip932)\" cx=\"840.487\" cy=\"1075.9\" r=\"14\" fill=\"#009af9\" fill-rule=\"evenodd\" fill-opacity=\"1\" stroke=\"#000000\" stroke-opacity=\"1\" stroke-width=\"3.2\"/>\n",
       "<circle clip-path=\"url(#clip932)\" cx=\"842.531\" cy=\"1074.61\" r=\"14\" fill=\"#009af9\" fill-rule=\"evenodd\" fill-opacity=\"1\" stroke=\"#000000\" stroke-opacity=\"1\" stroke-width=\"3.2\"/>\n",
       "<circle clip-path=\"url(#clip932)\" cx=\"844.575\" cy=\"1073.32\" r=\"14\" fill=\"#009af9\" fill-rule=\"evenodd\" fill-opacity=\"1\" stroke=\"#000000\" stroke-opacity=\"1\" stroke-width=\"3.2\"/>\n",
       "<circle clip-path=\"url(#clip932)\" cx=\"846.618\" cy=\"1072.04\" r=\"14\" fill=\"#009af9\" fill-rule=\"evenodd\" fill-opacity=\"1\" stroke=\"#000000\" stroke-opacity=\"1\" stroke-width=\"3.2\"/>\n",
       "<circle clip-path=\"url(#clip932)\" cx=\"848.662\" cy=\"1070.75\" r=\"14\" fill=\"#009af9\" fill-rule=\"evenodd\" fill-opacity=\"1\" stroke=\"#000000\" stroke-opacity=\"1\" stroke-width=\"3.2\"/>\n",
       "<circle clip-path=\"url(#clip932)\" cx=\"850.706\" cy=\"1069.46\" r=\"14\" fill=\"#009af9\" fill-rule=\"evenodd\" fill-opacity=\"1\" stroke=\"#000000\" stroke-opacity=\"1\" stroke-width=\"3.2\"/>\n",
       "<circle clip-path=\"url(#clip932)\" cx=\"852.75\" cy=\"1068.17\" r=\"14\" fill=\"#009af9\" fill-rule=\"evenodd\" fill-opacity=\"1\" stroke=\"#000000\" stroke-opacity=\"1\" stroke-width=\"3.2\"/>\n",
       "<circle clip-path=\"url(#clip932)\" cx=\"854.793\" cy=\"1066.89\" r=\"14\" fill=\"#009af9\" fill-rule=\"evenodd\" fill-opacity=\"1\" stroke=\"#000000\" stroke-opacity=\"1\" stroke-width=\"3.2\"/>\n",
       "<circle clip-path=\"url(#clip932)\" cx=\"856.837\" cy=\"1065.6\" r=\"14\" fill=\"#009af9\" fill-rule=\"evenodd\" fill-opacity=\"1\" stroke=\"#000000\" stroke-opacity=\"1\" stroke-width=\"3.2\"/>\n",
       "<circle clip-path=\"url(#clip932)\" cx=\"858.881\" cy=\"1064.31\" r=\"14\" fill=\"#009af9\" fill-rule=\"evenodd\" fill-opacity=\"1\" stroke=\"#000000\" stroke-opacity=\"1\" stroke-width=\"3.2\"/>\n",
       "<circle clip-path=\"url(#clip932)\" cx=\"860.924\" cy=\"1063.03\" r=\"14\" fill=\"#009af9\" fill-rule=\"evenodd\" fill-opacity=\"1\" stroke=\"#000000\" stroke-opacity=\"1\" stroke-width=\"3.2\"/>\n",
       "<circle clip-path=\"url(#clip932)\" cx=\"862.968\" cy=\"1061.74\" r=\"14\" fill=\"#009af9\" fill-rule=\"evenodd\" fill-opacity=\"1\" stroke=\"#000000\" stroke-opacity=\"1\" stroke-width=\"3.2\"/>\n",
       "<circle clip-path=\"url(#clip932)\" cx=\"865.012\" cy=\"1060.45\" r=\"14\" fill=\"#009af9\" fill-rule=\"evenodd\" fill-opacity=\"1\" stroke=\"#000000\" stroke-opacity=\"1\" stroke-width=\"3.2\"/>\n",
       "<circle clip-path=\"url(#clip932)\" cx=\"867.055\" cy=\"1059.16\" r=\"14\" fill=\"#009af9\" fill-rule=\"evenodd\" fill-opacity=\"1\" stroke=\"#000000\" stroke-opacity=\"1\" stroke-width=\"3.2\"/>\n",
       "<circle clip-path=\"url(#clip932)\" cx=\"869.099\" cy=\"1057.88\" r=\"14\" fill=\"#009af9\" fill-rule=\"evenodd\" fill-opacity=\"1\" stroke=\"#000000\" stroke-opacity=\"1\" stroke-width=\"3.2\"/>\n",
       "<circle clip-path=\"url(#clip932)\" cx=\"871.143\" cy=\"1056.59\" r=\"14\" fill=\"#009af9\" fill-rule=\"evenodd\" fill-opacity=\"1\" stroke=\"#000000\" stroke-opacity=\"1\" stroke-width=\"3.2\"/>\n",
       "<circle clip-path=\"url(#clip932)\" cx=\"873.186\" cy=\"1055.3\" r=\"14\" fill=\"#009af9\" fill-rule=\"evenodd\" fill-opacity=\"1\" stroke=\"#000000\" stroke-opacity=\"1\" stroke-width=\"3.2\"/>\n",
       "<circle clip-path=\"url(#clip932)\" cx=\"875.23\" cy=\"1054.02\" r=\"14\" fill=\"#009af9\" fill-rule=\"evenodd\" fill-opacity=\"1\" stroke=\"#000000\" stroke-opacity=\"1\" stroke-width=\"3.2\"/>\n",
       "<circle clip-path=\"url(#clip932)\" cx=\"877.274\" cy=\"1052.73\" r=\"14\" fill=\"#009af9\" fill-rule=\"evenodd\" fill-opacity=\"1\" stroke=\"#000000\" stroke-opacity=\"1\" stroke-width=\"3.2\"/>\n",
       "<circle clip-path=\"url(#clip932)\" cx=\"879.317\" cy=\"1051.44\" r=\"14\" fill=\"#009af9\" fill-rule=\"evenodd\" fill-opacity=\"1\" stroke=\"#000000\" stroke-opacity=\"1\" stroke-width=\"3.2\"/>\n",
       "<circle clip-path=\"url(#clip932)\" cx=\"881.361\" cy=\"1050.16\" r=\"14\" fill=\"#009af9\" fill-rule=\"evenodd\" fill-opacity=\"1\" stroke=\"#000000\" stroke-opacity=\"1\" stroke-width=\"3.2\"/>\n",
       "<circle clip-path=\"url(#clip932)\" cx=\"883.405\" cy=\"1048.87\" r=\"14\" fill=\"#009af9\" fill-rule=\"evenodd\" fill-opacity=\"1\" stroke=\"#000000\" stroke-opacity=\"1\" stroke-width=\"3.2\"/>\n",
       "<circle clip-path=\"url(#clip932)\" cx=\"885.449\" cy=\"1047.58\" r=\"14\" fill=\"#009af9\" fill-rule=\"evenodd\" fill-opacity=\"1\" stroke=\"#000000\" stroke-opacity=\"1\" stroke-width=\"3.2\"/>\n",
       "<circle clip-path=\"url(#clip932)\" cx=\"887.492\" cy=\"1046.29\" r=\"14\" fill=\"#009af9\" fill-rule=\"evenodd\" fill-opacity=\"1\" stroke=\"#000000\" stroke-opacity=\"1\" stroke-width=\"3.2\"/>\n",
       "<circle clip-path=\"url(#clip932)\" cx=\"889.536\" cy=\"1045.01\" r=\"14\" fill=\"#009af9\" fill-rule=\"evenodd\" fill-opacity=\"1\" stroke=\"#000000\" stroke-opacity=\"1\" stroke-width=\"3.2\"/>\n",
       "<circle clip-path=\"url(#clip932)\" cx=\"891.58\" cy=\"1043.72\" r=\"14\" fill=\"#009af9\" fill-rule=\"evenodd\" fill-opacity=\"1\" stroke=\"#000000\" stroke-opacity=\"1\" stroke-width=\"3.2\"/>\n",
       "<circle clip-path=\"url(#clip932)\" cx=\"893.623\" cy=\"1042.43\" r=\"14\" fill=\"#009af9\" fill-rule=\"evenodd\" fill-opacity=\"1\" stroke=\"#000000\" stroke-opacity=\"1\" stroke-width=\"3.2\"/>\n",
       "<circle clip-path=\"url(#clip932)\" cx=\"895.667\" cy=\"1041.15\" r=\"14\" fill=\"#009af9\" fill-rule=\"evenodd\" fill-opacity=\"1\" stroke=\"#000000\" stroke-opacity=\"1\" stroke-width=\"3.2\"/>\n",
       "<circle clip-path=\"url(#clip932)\" cx=\"897.711\" cy=\"1039.86\" r=\"14\" fill=\"#009af9\" fill-rule=\"evenodd\" fill-opacity=\"1\" stroke=\"#000000\" stroke-opacity=\"1\" stroke-width=\"3.2\"/>\n",
       "<circle clip-path=\"url(#clip932)\" cx=\"899.754\" cy=\"1038.57\" r=\"14\" fill=\"#009af9\" fill-rule=\"evenodd\" fill-opacity=\"1\" stroke=\"#000000\" stroke-opacity=\"1\" stroke-width=\"3.2\"/>\n",
       "<circle clip-path=\"url(#clip932)\" cx=\"901.798\" cy=\"1037.28\" r=\"14\" fill=\"#009af9\" fill-rule=\"evenodd\" fill-opacity=\"1\" stroke=\"#000000\" stroke-opacity=\"1\" stroke-width=\"3.2\"/>\n",
       "<circle clip-path=\"url(#clip932)\" cx=\"903.842\" cy=\"1036\" r=\"14\" fill=\"#009af9\" fill-rule=\"evenodd\" fill-opacity=\"1\" stroke=\"#000000\" stroke-opacity=\"1\" stroke-width=\"3.2\"/>\n",
       "<circle clip-path=\"url(#clip932)\" cx=\"905.885\" cy=\"1034.71\" r=\"14\" fill=\"#009af9\" fill-rule=\"evenodd\" fill-opacity=\"1\" stroke=\"#000000\" stroke-opacity=\"1\" stroke-width=\"3.2\"/>\n",
       "<circle clip-path=\"url(#clip932)\" cx=\"907.929\" cy=\"1033.42\" r=\"14\" fill=\"#009af9\" fill-rule=\"evenodd\" fill-opacity=\"1\" stroke=\"#000000\" stroke-opacity=\"1\" stroke-width=\"3.2\"/>\n",
       "<circle clip-path=\"url(#clip932)\" cx=\"909.973\" cy=\"1032.14\" r=\"14\" fill=\"#009af9\" fill-rule=\"evenodd\" fill-opacity=\"1\" stroke=\"#000000\" stroke-opacity=\"1\" stroke-width=\"3.2\"/>\n",
       "<circle clip-path=\"url(#clip932)\" cx=\"912.017\" cy=\"1030.85\" r=\"14\" fill=\"#009af9\" fill-rule=\"evenodd\" fill-opacity=\"1\" stroke=\"#000000\" stroke-opacity=\"1\" stroke-width=\"3.2\"/>\n",
       "<circle clip-path=\"url(#clip932)\" cx=\"914.06\" cy=\"1029.56\" r=\"14\" fill=\"#009af9\" fill-rule=\"evenodd\" fill-opacity=\"1\" stroke=\"#000000\" stroke-opacity=\"1\" stroke-width=\"3.2\"/>\n",
       "<circle clip-path=\"url(#clip932)\" cx=\"916.104\" cy=\"1028.27\" r=\"14\" fill=\"#009af9\" fill-rule=\"evenodd\" fill-opacity=\"1\" stroke=\"#000000\" stroke-opacity=\"1\" stroke-width=\"3.2\"/>\n",
       "<circle clip-path=\"url(#clip932)\" cx=\"918.148\" cy=\"1026.99\" r=\"14\" fill=\"#009af9\" fill-rule=\"evenodd\" fill-opacity=\"1\" stroke=\"#000000\" stroke-opacity=\"1\" stroke-width=\"3.2\"/>\n",
       "<circle clip-path=\"url(#clip932)\" cx=\"920.191\" cy=\"1025.7\" r=\"14\" fill=\"#009af9\" fill-rule=\"evenodd\" fill-opacity=\"1\" stroke=\"#000000\" stroke-opacity=\"1\" stroke-width=\"3.2\"/>\n",
       "<circle clip-path=\"url(#clip932)\" cx=\"922.235\" cy=\"1024.41\" r=\"14\" fill=\"#009af9\" fill-rule=\"evenodd\" fill-opacity=\"1\" stroke=\"#000000\" stroke-opacity=\"1\" stroke-width=\"3.2\"/>\n",
       "<circle clip-path=\"url(#clip932)\" cx=\"924.279\" cy=\"1023.13\" r=\"14\" fill=\"#009af9\" fill-rule=\"evenodd\" fill-opacity=\"1\" stroke=\"#000000\" stroke-opacity=\"1\" stroke-width=\"3.2\"/>\n",
       "<circle clip-path=\"url(#clip932)\" cx=\"926.322\" cy=\"1021.84\" r=\"14\" fill=\"#009af9\" fill-rule=\"evenodd\" fill-opacity=\"1\" stroke=\"#000000\" stroke-opacity=\"1\" stroke-width=\"3.2\"/>\n",
       "<circle clip-path=\"url(#clip932)\" cx=\"928.366\" cy=\"1020.55\" r=\"14\" fill=\"#009af9\" fill-rule=\"evenodd\" fill-opacity=\"1\" stroke=\"#000000\" stroke-opacity=\"1\" stroke-width=\"3.2\"/>\n",
       "<circle clip-path=\"url(#clip932)\" cx=\"930.41\" cy=\"1019.26\" r=\"14\" fill=\"#009af9\" fill-rule=\"evenodd\" fill-opacity=\"1\" stroke=\"#000000\" stroke-opacity=\"1\" stroke-width=\"3.2\"/>\n",
       "<circle clip-path=\"url(#clip932)\" cx=\"932.453\" cy=\"1017.98\" r=\"14\" fill=\"#009af9\" fill-rule=\"evenodd\" fill-opacity=\"1\" stroke=\"#000000\" stroke-opacity=\"1\" stroke-width=\"3.2\"/>\n",
       "<circle clip-path=\"url(#clip932)\" cx=\"934.497\" cy=\"1016.69\" r=\"14\" fill=\"#009af9\" fill-rule=\"evenodd\" fill-opacity=\"1\" stroke=\"#000000\" stroke-opacity=\"1\" stroke-width=\"3.2\"/>\n",
       "<circle clip-path=\"url(#clip932)\" cx=\"936.541\" cy=\"1015.4\" r=\"14\" fill=\"#009af9\" fill-rule=\"evenodd\" fill-opacity=\"1\" stroke=\"#000000\" stroke-opacity=\"1\" stroke-width=\"3.2\"/>\n",
       "<circle clip-path=\"url(#clip932)\" cx=\"938.584\" cy=\"1014.12\" r=\"14\" fill=\"#009af9\" fill-rule=\"evenodd\" fill-opacity=\"1\" stroke=\"#000000\" stroke-opacity=\"1\" stroke-width=\"3.2\"/>\n",
       "<circle clip-path=\"url(#clip932)\" cx=\"940.628\" cy=\"1012.83\" r=\"14\" fill=\"#009af9\" fill-rule=\"evenodd\" fill-opacity=\"1\" stroke=\"#000000\" stroke-opacity=\"1\" stroke-width=\"3.2\"/>\n",
       "<circle clip-path=\"url(#clip932)\" cx=\"942.672\" cy=\"1011.54\" r=\"14\" fill=\"#009af9\" fill-rule=\"evenodd\" fill-opacity=\"1\" stroke=\"#000000\" stroke-opacity=\"1\" stroke-width=\"3.2\"/>\n",
       "<circle clip-path=\"url(#clip932)\" cx=\"944.716\" cy=\"1010.25\" r=\"14\" fill=\"#009af9\" fill-rule=\"evenodd\" fill-opacity=\"1\" stroke=\"#000000\" stroke-opacity=\"1\" stroke-width=\"3.2\"/>\n",
       "<circle clip-path=\"url(#clip932)\" cx=\"946.759\" cy=\"1008.97\" r=\"14\" fill=\"#009af9\" fill-rule=\"evenodd\" fill-opacity=\"1\" stroke=\"#000000\" stroke-opacity=\"1\" stroke-width=\"3.2\"/>\n",
       "<circle clip-path=\"url(#clip932)\" cx=\"948.803\" cy=\"1007.68\" r=\"14\" fill=\"#009af9\" fill-rule=\"evenodd\" fill-opacity=\"1\" stroke=\"#000000\" stroke-opacity=\"1\" stroke-width=\"3.2\"/>\n",
       "<circle clip-path=\"url(#clip932)\" cx=\"950.847\" cy=\"1006.39\" r=\"14\" fill=\"#009af9\" fill-rule=\"evenodd\" fill-opacity=\"1\" stroke=\"#000000\" stroke-opacity=\"1\" stroke-width=\"3.2\"/>\n",
       "<circle clip-path=\"url(#clip932)\" cx=\"952.89\" cy=\"1005.11\" r=\"14\" fill=\"#009af9\" fill-rule=\"evenodd\" fill-opacity=\"1\" stroke=\"#000000\" stroke-opacity=\"1\" stroke-width=\"3.2\"/>\n",
       "<circle clip-path=\"url(#clip932)\" cx=\"954.934\" cy=\"1003.82\" r=\"14\" fill=\"#009af9\" fill-rule=\"evenodd\" fill-opacity=\"1\" stroke=\"#000000\" stroke-opacity=\"1\" stroke-width=\"3.2\"/>\n",
       "<circle clip-path=\"url(#clip932)\" cx=\"956.978\" cy=\"1002.53\" r=\"14\" fill=\"#009af9\" fill-rule=\"evenodd\" fill-opacity=\"1\" stroke=\"#000000\" stroke-opacity=\"1\" stroke-width=\"3.2\"/>\n",
       "<circle clip-path=\"url(#clip932)\" cx=\"959.021\" cy=\"1001.24\" r=\"14\" fill=\"#009af9\" fill-rule=\"evenodd\" fill-opacity=\"1\" stroke=\"#000000\" stroke-opacity=\"1\" stroke-width=\"3.2\"/>\n",
       "<circle clip-path=\"url(#clip932)\" cx=\"961.065\" cy=\"999.958\" r=\"14\" fill=\"#009af9\" fill-rule=\"evenodd\" fill-opacity=\"1\" stroke=\"#000000\" stroke-opacity=\"1\" stroke-width=\"3.2\"/>\n",
       "<circle clip-path=\"url(#clip932)\" cx=\"963.109\" cy=\"998.671\" r=\"14\" fill=\"#009af9\" fill-rule=\"evenodd\" fill-opacity=\"1\" stroke=\"#000000\" stroke-opacity=\"1\" stroke-width=\"3.2\"/>\n",
       "<circle clip-path=\"url(#clip932)\" cx=\"965.152\" cy=\"997.383\" r=\"14\" fill=\"#009af9\" fill-rule=\"evenodd\" fill-opacity=\"1\" stroke=\"#000000\" stroke-opacity=\"1\" stroke-width=\"3.2\"/>\n",
       "<circle clip-path=\"url(#clip932)\" cx=\"967.196\" cy=\"996.096\" r=\"14\" fill=\"#009af9\" fill-rule=\"evenodd\" fill-opacity=\"1\" stroke=\"#000000\" stroke-opacity=\"1\" stroke-width=\"3.2\"/>\n",
       "<circle clip-path=\"url(#clip932)\" cx=\"969.24\" cy=\"994.809\" r=\"14\" fill=\"#009af9\" fill-rule=\"evenodd\" fill-opacity=\"1\" stroke=\"#000000\" stroke-opacity=\"1\" stroke-width=\"3.2\"/>\n",
       "<circle clip-path=\"url(#clip932)\" cx=\"971.284\" cy=\"993.522\" r=\"14\" fill=\"#009af9\" fill-rule=\"evenodd\" fill-opacity=\"1\" stroke=\"#000000\" stroke-opacity=\"1\" stroke-width=\"3.2\"/>\n",
       "<circle clip-path=\"url(#clip932)\" cx=\"973.327\" cy=\"992.235\" r=\"14\" fill=\"#009af9\" fill-rule=\"evenodd\" fill-opacity=\"1\" stroke=\"#000000\" stroke-opacity=\"1\" stroke-width=\"3.2\"/>\n",
       "<circle clip-path=\"url(#clip932)\" cx=\"975.371\" cy=\"990.948\" r=\"14\" fill=\"#009af9\" fill-rule=\"evenodd\" fill-opacity=\"1\" stroke=\"#000000\" stroke-opacity=\"1\" stroke-width=\"3.2\"/>\n",
       "<circle clip-path=\"url(#clip932)\" cx=\"977.415\" cy=\"989.661\" r=\"14\" fill=\"#009af9\" fill-rule=\"evenodd\" fill-opacity=\"1\" stroke=\"#000000\" stroke-opacity=\"1\" stroke-width=\"3.2\"/>\n",
       "<circle clip-path=\"url(#clip932)\" cx=\"979.458\" cy=\"988.374\" r=\"14\" fill=\"#009af9\" fill-rule=\"evenodd\" fill-opacity=\"1\" stroke=\"#000000\" stroke-opacity=\"1\" stroke-width=\"3.2\"/>\n",
       "<circle clip-path=\"url(#clip932)\" cx=\"981.502\" cy=\"987.087\" r=\"14\" fill=\"#009af9\" fill-rule=\"evenodd\" fill-opacity=\"1\" stroke=\"#000000\" stroke-opacity=\"1\" stroke-width=\"3.2\"/>\n",
       "<circle clip-path=\"url(#clip932)\" cx=\"983.546\" cy=\"985.799\" r=\"14\" fill=\"#009af9\" fill-rule=\"evenodd\" fill-opacity=\"1\" stroke=\"#000000\" stroke-opacity=\"1\" stroke-width=\"3.2\"/>\n",
       "<circle clip-path=\"url(#clip932)\" cx=\"985.589\" cy=\"984.512\" r=\"14\" fill=\"#009af9\" fill-rule=\"evenodd\" fill-opacity=\"1\" stroke=\"#000000\" stroke-opacity=\"1\" stroke-width=\"3.2\"/>\n",
       "<circle clip-path=\"url(#clip932)\" cx=\"987.633\" cy=\"983.225\" r=\"14\" fill=\"#009af9\" fill-rule=\"evenodd\" fill-opacity=\"1\" stroke=\"#000000\" stroke-opacity=\"1\" stroke-width=\"3.2\"/>\n",
       "<circle clip-path=\"url(#clip932)\" cx=\"989.677\" cy=\"981.938\" r=\"14\" fill=\"#009af9\" fill-rule=\"evenodd\" fill-opacity=\"1\" stroke=\"#000000\" stroke-opacity=\"1\" stroke-width=\"3.2\"/>\n",
       "<circle clip-path=\"url(#clip932)\" cx=\"991.72\" cy=\"980.651\" r=\"14\" fill=\"#009af9\" fill-rule=\"evenodd\" fill-opacity=\"1\" stroke=\"#000000\" stroke-opacity=\"1\" stroke-width=\"3.2\"/>\n",
       "<circle clip-path=\"url(#clip932)\" cx=\"993.764\" cy=\"979.364\" r=\"14\" fill=\"#009af9\" fill-rule=\"evenodd\" fill-opacity=\"1\" stroke=\"#000000\" stroke-opacity=\"1\" stroke-width=\"3.2\"/>\n",
       "<circle clip-path=\"url(#clip932)\" cx=\"995.808\" cy=\"978.077\" r=\"14\" fill=\"#009af9\" fill-rule=\"evenodd\" fill-opacity=\"1\" stroke=\"#000000\" stroke-opacity=\"1\" stroke-width=\"3.2\"/>\n",
       "<circle clip-path=\"url(#clip932)\" cx=\"997.851\" cy=\"976.79\" r=\"14\" fill=\"#009af9\" fill-rule=\"evenodd\" fill-opacity=\"1\" stroke=\"#000000\" stroke-opacity=\"1\" stroke-width=\"3.2\"/>\n",
       "<circle clip-path=\"url(#clip932)\" cx=\"999.895\" cy=\"975.503\" r=\"14\" fill=\"#009af9\" fill-rule=\"evenodd\" fill-opacity=\"1\" stroke=\"#000000\" stroke-opacity=\"1\" stroke-width=\"3.2\"/>\n",
       "<circle clip-path=\"url(#clip932)\" cx=\"1001.94\" cy=\"974.215\" r=\"14\" fill=\"#009af9\" fill-rule=\"evenodd\" fill-opacity=\"1\" stroke=\"#000000\" stroke-opacity=\"1\" stroke-width=\"3.2\"/>\n",
       "<circle clip-path=\"url(#clip932)\" cx=\"1003.98\" cy=\"972.928\" r=\"14\" fill=\"#009af9\" fill-rule=\"evenodd\" fill-opacity=\"1\" stroke=\"#000000\" stroke-opacity=\"1\" stroke-width=\"3.2\"/>\n",
       "<circle clip-path=\"url(#clip932)\" cx=\"1006.03\" cy=\"971.641\" r=\"14\" fill=\"#009af9\" fill-rule=\"evenodd\" fill-opacity=\"1\" stroke=\"#000000\" stroke-opacity=\"1\" stroke-width=\"3.2\"/>\n",
       "<circle clip-path=\"url(#clip932)\" cx=\"1008.07\" cy=\"970.354\" r=\"14\" fill=\"#009af9\" fill-rule=\"evenodd\" fill-opacity=\"1\" stroke=\"#000000\" stroke-opacity=\"1\" stroke-width=\"3.2\"/>\n",
       "<circle clip-path=\"url(#clip932)\" cx=\"1010.11\" cy=\"969.067\" r=\"14\" fill=\"#009af9\" fill-rule=\"evenodd\" fill-opacity=\"1\" stroke=\"#000000\" stroke-opacity=\"1\" stroke-width=\"3.2\"/>\n",
       "<circle clip-path=\"url(#clip932)\" cx=\"1012.16\" cy=\"967.78\" r=\"14\" fill=\"#009af9\" fill-rule=\"evenodd\" fill-opacity=\"1\" stroke=\"#000000\" stroke-opacity=\"1\" stroke-width=\"3.2\"/>\n",
       "<circle clip-path=\"url(#clip932)\" cx=\"1014.2\" cy=\"966.493\" r=\"14\" fill=\"#009af9\" fill-rule=\"evenodd\" fill-opacity=\"1\" stroke=\"#000000\" stroke-opacity=\"1\" stroke-width=\"3.2\"/>\n",
       "<circle clip-path=\"url(#clip932)\" cx=\"1016.24\" cy=\"965.206\" r=\"14\" fill=\"#009af9\" fill-rule=\"evenodd\" fill-opacity=\"1\" stroke=\"#000000\" stroke-opacity=\"1\" stroke-width=\"3.2\"/>\n",
       "<circle clip-path=\"url(#clip932)\" cx=\"1018.29\" cy=\"963.918\" r=\"14\" fill=\"#009af9\" fill-rule=\"evenodd\" fill-opacity=\"1\" stroke=\"#000000\" stroke-opacity=\"1\" stroke-width=\"3.2\"/>\n",
       "<circle clip-path=\"url(#clip932)\" cx=\"1020.33\" cy=\"962.631\" r=\"14\" fill=\"#009af9\" fill-rule=\"evenodd\" fill-opacity=\"1\" stroke=\"#000000\" stroke-opacity=\"1\" stroke-width=\"3.2\"/>\n",
       "<circle clip-path=\"url(#clip932)\" cx=\"1022.38\" cy=\"961.344\" r=\"14\" fill=\"#009af9\" fill-rule=\"evenodd\" fill-opacity=\"1\" stroke=\"#000000\" stroke-opacity=\"1\" stroke-width=\"3.2\"/>\n",
       "<circle clip-path=\"url(#clip932)\" cx=\"1024.42\" cy=\"960.057\" r=\"14\" fill=\"#009af9\" fill-rule=\"evenodd\" fill-opacity=\"1\" stroke=\"#000000\" stroke-opacity=\"1\" stroke-width=\"3.2\"/>\n",
       "<circle clip-path=\"url(#clip932)\" cx=\"1026.46\" cy=\"958.77\" r=\"14\" fill=\"#009af9\" fill-rule=\"evenodd\" fill-opacity=\"1\" stroke=\"#000000\" stroke-opacity=\"1\" stroke-width=\"3.2\"/>\n",
       "<circle clip-path=\"url(#clip932)\" cx=\"1028.51\" cy=\"957.483\" r=\"14\" fill=\"#009af9\" fill-rule=\"evenodd\" fill-opacity=\"1\" stroke=\"#000000\" stroke-opacity=\"1\" stroke-width=\"3.2\"/>\n",
       "<circle clip-path=\"url(#clip932)\" cx=\"1030.55\" cy=\"956.196\" r=\"14\" fill=\"#009af9\" fill-rule=\"evenodd\" fill-opacity=\"1\" stroke=\"#000000\" stroke-opacity=\"1\" stroke-width=\"3.2\"/>\n",
       "<circle clip-path=\"url(#clip932)\" cx=\"1032.59\" cy=\"954.909\" r=\"14\" fill=\"#009af9\" fill-rule=\"evenodd\" fill-opacity=\"1\" stroke=\"#000000\" stroke-opacity=\"1\" stroke-width=\"3.2\"/>\n",
       "<circle clip-path=\"url(#clip932)\" cx=\"1034.64\" cy=\"953.622\" r=\"14\" fill=\"#009af9\" fill-rule=\"evenodd\" fill-opacity=\"1\" stroke=\"#000000\" stroke-opacity=\"1\" stroke-width=\"3.2\"/>\n",
       "<circle clip-path=\"url(#clip932)\" cx=\"1036.68\" cy=\"952.334\" r=\"14\" fill=\"#009af9\" fill-rule=\"evenodd\" fill-opacity=\"1\" stroke=\"#000000\" stroke-opacity=\"1\" stroke-width=\"3.2\"/>\n",
       "<circle clip-path=\"url(#clip932)\" cx=\"1038.73\" cy=\"951.047\" r=\"14\" fill=\"#009af9\" fill-rule=\"evenodd\" fill-opacity=\"1\" stroke=\"#000000\" stroke-opacity=\"1\" stroke-width=\"3.2\"/>\n",
       "<circle clip-path=\"url(#clip932)\" cx=\"1040.77\" cy=\"949.76\" r=\"14\" fill=\"#009af9\" fill-rule=\"evenodd\" fill-opacity=\"1\" stroke=\"#000000\" stroke-opacity=\"1\" stroke-width=\"3.2\"/>\n",
       "<circle clip-path=\"url(#clip932)\" cx=\"1042.81\" cy=\"948.473\" r=\"14\" fill=\"#009af9\" fill-rule=\"evenodd\" fill-opacity=\"1\" stroke=\"#000000\" stroke-opacity=\"1\" stroke-width=\"3.2\"/>\n",
       "<circle clip-path=\"url(#clip932)\" cx=\"1044.86\" cy=\"947.186\" r=\"14\" fill=\"#009af9\" fill-rule=\"evenodd\" fill-opacity=\"1\" stroke=\"#000000\" stroke-opacity=\"1\" stroke-width=\"3.2\"/>\n",
       "<circle clip-path=\"url(#clip932)\" cx=\"1046.9\" cy=\"945.899\" r=\"14\" fill=\"#009af9\" fill-rule=\"evenodd\" fill-opacity=\"1\" stroke=\"#000000\" stroke-opacity=\"1\" stroke-width=\"3.2\"/>\n",
       "<circle clip-path=\"url(#clip932)\" cx=\"1048.94\" cy=\"944.612\" r=\"14\" fill=\"#009af9\" fill-rule=\"evenodd\" fill-opacity=\"1\" stroke=\"#000000\" stroke-opacity=\"1\" stroke-width=\"3.2\"/>\n",
       "<circle clip-path=\"url(#clip932)\" cx=\"1050.99\" cy=\"943.325\" r=\"14\" fill=\"#009af9\" fill-rule=\"evenodd\" fill-opacity=\"1\" stroke=\"#000000\" stroke-opacity=\"1\" stroke-width=\"3.2\"/>\n",
       "<circle clip-path=\"url(#clip932)\" cx=\"1053.03\" cy=\"942.038\" r=\"14\" fill=\"#009af9\" fill-rule=\"evenodd\" fill-opacity=\"1\" stroke=\"#000000\" stroke-opacity=\"1\" stroke-width=\"3.2\"/>\n",
       "<circle clip-path=\"url(#clip932)\" cx=\"1055.07\" cy=\"940.75\" r=\"14\" fill=\"#009af9\" fill-rule=\"evenodd\" fill-opacity=\"1\" stroke=\"#000000\" stroke-opacity=\"1\" stroke-width=\"3.2\"/>\n",
       "<circle clip-path=\"url(#clip932)\" cx=\"1057.12\" cy=\"939.463\" r=\"14\" fill=\"#009af9\" fill-rule=\"evenodd\" fill-opacity=\"1\" stroke=\"#000000\" stroke-opacity=\"1\" stroke-width=\"3.2\"/>\n",
       "<circle clip-path=\"url(#clip932)\" cx=\"1059.16\" cy=\"938.176\" r=\"14\" fill=\"#009af9\" fill-rule=\"evenodd\" fill-opacity=\"1\" stroke=\"#000000\" stroke-opacity=\"1\" stroke-width=\"3.2\"/>\n",
       "<circle clip-path=\"url(#clip932)\" cx=\"1061.21\" cy=\"936.889\" r=\"14\" fill=\"#009af9\" fill-rule=\"evenodd\" fill-opacity=\"1\" stroke=\"#000000\" stroke-opacity=\"1\" stroke-width=\"3.2\"/>\n",
       "<circle clip-path=\"url(#clip932)\" cx=\"1063.25\" cy=\"935.602\" r=\"14\" fill=\"#009af9\" fill-rule=\"evenodd\" fill-opacity=\"1\" stroke=\"#000000\" stroke-opacity=\"1\" stroke-width=\"3.2\"/>\n",
       "<circle clip-path=\"url(#clip932)\" cx=\"1065.29\" cy=\"934.315\" r=\"14\" fill=\"#009af9\" fill-rule=\"evenodd\" fill-opacity=\"1\" stroke=\"#000000\" stroke-opacity=\"1\" stroke-width=\"3.2\"/>\n",
       "<circle clip-path=\"url(#clip932)\" cx=\"1067.34\" cy=\"933.028\" r=\"14\" fill=\"#009af9\" fill-rule=\"evenodd\" fill-opacity=\"1\" stroke=\"#000000\" stroke-opacity=\"1\" stroke-width=\"3.2\"/>\n",
       "<circle clip-path=\"url(#clip932)\" cx=\"1069.38\" cy=\"931.741\" r=\"14\" fill=\"#009af9\" fill-rule=\"evenodd\" fill-opacity=\"1\" stroke=\"#000000\" stroke-opacity=\"1\" stroke-width=\"3.2\"/>\n",
       "<circle clip-path=\"url(#clip932)\" cx=\"1071.42\" cy=\"930.454\" r=\"14\" fill=\"#009af9\" fill-rule=\"evenodd\" fill-opacity=\"1\" stroke=\"#000000\" stroke-opacity=\"1\" stroke-width=\"3.2\"/>\n",
       "<circle clip-path=\"url(#clip932)\" cx=\"1073.47\" cy=\"929.166\" r=\"14\" fill=\"#009af9\" fill-rule=\"evenodd\" fill-opacity=\"1\" stroke=\"#000000\" stroke-opacity=\"1\" stroke-width=\"3.2\"/>\n",
       "<circle clip-path=\"url(#clip932)\" cx=\"1075.51\" cy=\"927.879\" r=\"14\" fill=\"#009af9\" fill-rule=\"evenodd\" fill-opacity=\"1\" stroke=\"#000000\" stroke-opacity=\"1\" stroke-width=\"3.2\"/>\n",
       "<circle clip-path=\"url(#clip932)\" cx=\"1077.56\" cy=\"926.592\" r=\"14\" fill=\"#009af9\" fill-rule=\"evenodd\" fill-opacity=\"1\" stroke=\"#000000\" stroke-opacity=\"1\" stroke-width=\"3.2\"/>\n",
       "<circle clip-path=\"url(#clip932)\" cx=\"1079.6\" cy=\"925.305\" r=\"14\" fill=\"#009af9\" fill-rule=\"evenodd\" fill-opacity=\"1\" stroke=\"#000000\" stroke-opacity=\"1\" stroke-width=\"3.2\"/>\n",
       "<circle clip-path=\"url(#clip932)\" cx=\"1081.64\" cy=\"924.018\" r=\"14\" fill=\"#009af9\" fill-rule=\"evenodd\" fill-opacity=\"1\" stroke=\"#000000\" stroke-opacity=\"1\" stroke-width=\"3.2\"/>\n",
       "<circle clip-path=\"url(#clip932)\" cx=\"1083.69\" cy=\"922.731\" r=\"14\" fill=\"#009af9\" fill-rule=\"evenodd\" fill-opacity=\"1\" stroke=\"#000000\" stroke-opacity=\"1\" stroke-width=\"3.2\"/>\n",
       "<circle clip-path=\"url(#clip932)\" cx=\"1085.73\" cy=\"921.444\" r=\"14\" fill=\"#009af9\" fill-rule=\"evenodd\" fill-opacity=\"1\" stroke=\"#000000\" stroke-opacity=\"1\" stroke-width=\"3.2\"/>\n",
       "<circle clip-path=\"url(#clip932)\" cx=\"1087.77\" cy=\"920.157\" r=\"14\" fill=\"#009af9\" fill-rule=\"evenodd\" fill-opacity=\"1\" stroke=\"#000000\" stroke-opacity=\"1\" stroke-width=\"3.2\"/>\n",
       "<circle clip-path=\"url(#clip932)\" cx=\"1089.82\" cy=\"918.87\" r=\"14\" fill=\"#009af9\" fill-rule=\"evenodd\" fill-opacity=\"1\" stroke=\"#000000\" stroke-opacity=\"1\" stroke-width=\"3.2\"/>\n",
       "<circle clip-path=\"url(#clip932)\" cx=\"1091.86\" cy=\"917.582\" r=\"14\" fill=\"#009af9\" fill-rule=\"evenodd\" fill-opacity=\"1\" stroke=\"#000000\" stroke-opacity=\"1\" stroke-width=\"3.2\"/>\n",
       "<circle clip-path=\"url(#clip932)\" cx=\"1093.9\" cy=\"916.295\" r=\"14\" fill=\"#009af9\" fill-rule=\"evenodd\" fill-opacity=\"1\" stroke=\"#000000\" stroke-opacity=\"1\" stroke-width=\"3.2\"/>\n",
       "<circle clip-path=\"url(#clip932)\" cx=\"1095.95\" cy=\"915.008\" r=\"14\" fill=\"#009af9\" fill-rule=\"evenodd\" fill-opacity=\"1\" stroke=\"#000000\" stroke-opacity=\"1\" stroke-width=\"3.2\"/>\n",
       "<circle clip-path=\"url(#clip932)\" cx=\"1097.99\" cy=\"913.721\" r=\"14\" fill=\"#009af9\" fill-rule=\"evenodd\" fill-opacity=\"1\" stroke=\"#000000\" stroke-opacity=\"1\" stroke-width=\"3.2\"/>\n",
       "<circle clip-path=\"url(#clip932)\" cx=\"1100.04\" cy=\"912.434\" r=\"14\" fill=\"#009af9\" fill-rule=\"evenodd\" fill-opacity=\"1\" stroke=\"#000000\" stroke-opacity=\"1\" stroke-width=\"3.2\"/>\n",
       "<circle clip-path=\"url(#clip932)\" cx=\"1102.08\" cy=\"911.147\" r=\"14\" fill=\"#009af9\" fill-rule=\"evenodd\" fill-opacity=\"1\" stroke=\"#000000\" stroke-opacity=\"1\" stroke-width=\"3.2\"/>\n",
       "<circle clip-path=\"url(#clip932)\" cx=\"1104.12\" cy=\"909.86\" r=\"14\" fill=\"#009af9\" fill-rule=\"evenodd\" fill-opacity=\"1\" stroke=\"#000000\" stroke-opacity=\"1\" stroke-width=\"3.2\"/>\n",
       "<circle clip-path=\"url(#clip932)\" cx=\"1106.17\" cy=\"908.573\" r=\"14\" fill=\"#009af9\" fill-rule=\"evenodd\" fill-opacity=\"1\" stroke=\"#000000\" stroke-opacity=\"1\" stroke-width=\"3.2\"/>\n",
       "<circle clip-path=\"url(#clip932)\" cx=\"1108.21\" cy=\"907.286\" r=\"14\" fill=\"#009af9\" fill-rule=\"evenodd\" fill-opacity=\"1\" stroke=\"#000000\" stroke-opacity=\"1\" stroke-width=\"3.2\"/>\n",
       "<circle clip-path=\"url(#clip932)\" cx=\"1110.25\" cy=\"905.998\" r=\"14\" fill=\"#009af9\" fill-rule=\"evenodd\" fill-opacity=\"1\" stroke=\"#000000\" stroke-opacity=\"1\" stroke-width=\"3.2\"/>\n",
       "<circle clip-path=\"url(#clip932)\" cx=\"1112.3\" cy=\"904.711\" r=\"14\" fill=\"#009af9\" fill-rule=\"evenodd\" fill-opacity=\"1\" stroke=\"#000000\" stroke-opacity=\"1\" stroke-width=\"3.2\"/>\n",
       "<circle clip-path=\"url(#clip932)\" cx=\"1114.34\" cy=\"903.424\" r=\"14\" fill=\"#009af9\" fill-rule=\"evenodd\" fill-opacity=\"1\" stroke=\"#000000\" stroke-opacity=\"1\" stroke-width=\"3.2\"/>\n",
       "<circle clip-path=\"url(#clip932)\" cx=\"1116.39\" cy=\"902.137\" r=\"14\" fill=\"#009af9\" fill-rule=\"evenodd\" fill-opacity=\"1\" stroke=\"#000000\" stroke-opacity=\"1\" stroke-width=\"3.2\"/>\n",
       "<circle clip-path=\"url(#clip932)\" cx=\"1118.43\" cy=\"900.85\" r=\"14\" fill=\"#009af9\" fill-rule=\"evenodd\" fill-opacity=\"1\" stroke=\"#000000\" stroke-opacity=\"1\" stroke-width=\"3.2\"/>\n",
       "<circle clip-path=\"url(#clip932)\" cx=\"1120.47\" cy=\"899.563\" r=\"14\" fill=\"#009af9\" fill-rule=\"evenodd\" fill-opacity=\"1\" stroke=\"#000000\" stroke-opacity=\"1\" stroke-width=\"3.2\"/>\n",
       "<circle clip-path=\"url(#clip932)\" cx=\"1122.52\" cy=\"898.276\" r=\"14\" fill=\"#009af9\" fill-rule=\"evenodd\" fill-opacity=\"1\" stroke=\"#000000\" stroke-opacity=\"1\" stroke-width=\"3.2\"/>\n",
       "<circle clip-path=\"url(#clip932)\" cx=\"1124.56\" cy=\"896.989\" r=\"14\" fill=\"#009af9\" fill-rule=\"evenodd\" fill-opacity=\"1\" stroke=\"#000000\" stroke-opacity=\"1\" stroke-width=\"3.2\"/>\n",
       "<circle clip-path=\"url(#clip932)\" cx=\"1126.6\" cy=\"895.701\" r=\"14\" fill=\"#009af9\" fill-rule=\"evenodd\" fill-opacity=\"1\" stroke=\"#000000\" stroke-opacity=\"1\" stroke-width=\"3.2\"/>\n",
       "<circle clip-path=\"url(#clip932)\" cx=\"1128.65\" cy=\"894.414\" r=\"14\" fill=\"#009af9\" fill-rule=\"evenodd\" fill-opacity=\"1\" stroke=\"#000000\" stroke-opacity=\"1\" stroke-width=\"3.2\"/>\n",
       "<circle clip-path=\"url(#clip932)\" cx=\"1130.69\" cy=\"893.127\" r=\"14\" fill=\"#009af9\" fill-rule=\"evenodd\" fill-opacity=\"1\" stroke=\"#000000\" stroke-opacity=\"1\" stroke-width=\"3.2\"/>\n",
       "<circle clip-path=\"url(#clip932)\" cx=\"1132.73\" cy=\"891.84\" r=\"14\" fill=\"#009af9\" fill-rule=\"evenodd\" fill-opacity=\"1\" stroke=\"#000000\" stroke-opacity=\"1\" stroke-width=\"3.2\"/>\n",
       "<circle clip-path=\"url(#clip932)\" cx=\"1134.78\" cy=\"890.553\" r=\"14\" fill=\"#009af9\" fill-rule=\"evenodd\" fill-opacity=\"1\" stroke=\"#000000\" stroke-opacity=\"1\" stroke-width=\"3.2\"/>\n",
       "<circle clip-path=\"url(#clip932)\" cx=\"1136.82\" cy=\"889.266\" r=\"14\" fill=\"#009af9\" fill-rule=\"evenodd\" fill-opacity=\"1\" stroke=\"#000000\" stroke-opacity=\"1\" stroke-width=\"3.2\"/>\n",
       "<circle clip-path=\"url(#clip932)\" cx=\"1138.87\" cy=\"887.979\" r=\"14\" fill=\"#009af9\" fill-rule=\"evenodd\" fill-opacity=\"1\" stroke=\"#000000\" stroke-opacity=\"1\" stroke-width=\"3.2\"/>\n",
       "<circle clip-path=\"url(#clip932)\" cx=\"1140.91\" cy=\"886.692\" r=\"14\" fill=\"#009af9\" fill-rule=\"evenodd\" fill-opacity=\"1\" stroke=\"#000000\" stroke-opacity=\"1\" stroke-width=\"3.2\"/>\n",
       "<circle clip-path=\"url(#clip932)\" cx=\"1142.95\" cy=\"885.405\" r=\"14\" fill=\"#009af9\" fill-rule=\"evenodd\" fill-opacity=\"1\" stroke=\"#000000\" stroke-opacity=\"1\" stroke-width=\"3.2\"/>\n",
       "<circle clip-path=\"url(#clip932)\" cx=\"1145\" cy=\"884.117\" r=\"14\" fill=\"#009af9\" fill-rule=\"evenodd\" fill-opacity=\"1\" stroke=\"#000000\" stroke-opacity=\"1\" stroke-width=\"3.2\"/>\n",
       "<circle clip-path=\"url(#clip932)\" cx=\"1147.04\" cy=\"882.83\" r=\"14\" fill=\"#009af9\" fill-rule=\"evenodd\" fill-opacity=\"1\" stroke=\"#000000\" stroke-opacity=\"1\" stroke-width=\"3.2\"/>\n",
       "<circle clip-path=\"url(#clip932)\" cx=\"1149.08\" cy=\"881.543\" r=\"14\" fill=\"#009af9\" fill-rule=\"evenodd\" fill-opacity=\"1\" stroke=\"#000000\" stroke-opacity=\"1\" stroke-width=\"3.2\"/>\n",
       "<circle clip-path=\"url(#clip932)\" cx=\"1151.13\" cy=\"880.256\" r=\"14\" fill=\"#009af9\" fill-rule=\"evenodd\" fill-opacity=\"1\" stroke=\"#000000\" stroke-opacity=\"1\" stroke-width=\"3.2\"/>\n",
       "<circle clip-path=\"url(#clip932)\" cx=\"1153.17\" cy=\"878.969\" r=\"14\" fill=\"#009af9\" fill-rule=\"evenodd\" fill-opacity=\"1\" stroke=\"#000000\" stroke-opacity=\"1\" stroke-width=\"3.2\"/>\n",
       "<circle clip-path=\"url(#clip932)\" cx=\"1155.22\" cy=\"877.682\" r=\"14\" fill=\"#009af9\" fill-rule=\"evenodd\" fill-opacity=\"1\" stroke=\"#000000\" stroke-opacity=\"1\" stroke-width=\"3.2\"/>\n",
       "<circle clip-path=\"url(#clip932)\" cx=\"1157.26\" cy=\"876.395\" r=\"14\" fill=\"#009af9\" fill-rule=\"evenodd\" fill-opacity=\"1\" stroke=\"#000000\" stroke-opacity=\"1\" stroke-width=\"3.2\"/>\n",
       "<circle clip-path=\"url(#clip932)\" cx=\"1159.3\" cy=\"875.108\" r=\"14\" fill=\"#009af9\" fill-rule=\"evenodd\" fill-opacity=\"1\" stroke=\"#000000\" stroke-opacity=\"1\" stroke-width=\"3.2\"/>\n",
       "<circle clip-path=\"url(#clip932)\" cx=\"1161.35\" cy=\"873.821\" r=\"14\" fill=\"#009af9\" fill-rule=\"evenodd\" fill-opacity=\"1\" stroke=\"#000000\" stroke-opacity=\"1\" stroke-width=\"3.2\"/>\n",
       "<circle clip-path=\"url(#clip932)\" cx=\"1163.39\" cy=\"872.533\" r=\"14\" fill=\"#009af9\" fill-rule=\"evenodd\" fill-opacity=\"1\" stroke=\"#000000\" stroke-opacity=\"1\" stroke-width=\"3.2\"/>\n",
       "<circle clip-path=\"url(#clip932)\" cx=\"1165.43\" cy=\"871.246\" r=\"14\" fill=\"#009af9\" fill-rule=\"evenodd\" fill-opacity=\"1\" stroke=\"#000000\" stroke-opacity=\"1\" stroke-width=\"3.2\"/>\n",
       "<circle clip-path=\"url(#clip932)\" cx=\"1167.48\" cy=\"869.959\" r=\"14\" fill=\"#009af9\" fill-rule=\"evenodd\" fill-opacity=\"1\" stroke=\"#000000\" stroke-opacity=\"1\" stroke-width=\"3.2\"/>\n",
       "<circle clip-path=\"url(#clip932)\" cx=\"1169.52\" cy=\"868.672\" r=\"14\" fill=\"#009af9\" fill-rule=\"evenodd\" fill-opacity=\"1\" stroke=\"#000000\" stroke-opacity=\"1\" stroke-width=\"3.2\"/>\n",
       "<circle clip-path=\"url(#clip932)\" cx=\"1171.57\" cy=\"867.385\" r=\"14\" fill=\"#009af9\" fill-rule=\"evenodd\" fill-opacity=\"1\" stroke=\"#000000\" stroke-opacity=\"1\" stroke-width=\"3.2\"/>\n",
       "<circle clip-path=\"url(#clip932)\" cx=\"1173.61\" cy=\"866.098\" r=\"14\" fill=\"#009af9\" fill-rule=\"evenodd\" fill-opacity=\"1\" stroke=\"#000000\" stroke-opacity=\"1\" stroke-width=\"3.2\"/>\n",
       "<circle clip-path=\"url(#clip932)\" cx=\"1175.65\" cy=\"864.811\" r=\"14\" fill=\"#009af9\" fill-rule=\"evenodd\" fill-opacity=\"1\" stroke=\"#000000\" stroke-opacity=\"1\" stroke-width=\"3.2\"/>\n",
       "<circle clip-path=\"url(#clip932)\" cx=\"1177.7\" cy=\"863.524\" r=\"14\" fill=\"#009af9\" fill-rule=\"evenodd\" fill-opacity=\"1\" stroke=\"#000000\" stroke-opacity=\"1\" stroke-width=\"3.2\"/>\n",
       "<circle clip-path=\"url(#clip932)\" cx=\"1179.74\" cy=\"862.237\" r=\"14\" fill=\"#009af9\" fill-rule=\"evenodd\" fill-opacity=\"1\" stroke=\"#000000\" stroke-opacity=\"1\" stroke-width=\"3.2\"/>\n",
       "<circle clip-path=\"url(#clip932)\" cx=\"1181.78\" cy=\"860.949\" r=\"14\" fill=\"#009af9\" fill-rule=\"evenodd\" fill-opacity=\"1\" stroke=\"#000000\" stroke-opacity=\"1\" stroke-width=\"3.2\"/>\n",
       "<circle clip-path=\"url(#clip932)\" cx=\"1183.83\" cy=\"859.662\" r=\"14\" fill=\"#009af9\" fill-rule=\"evenodd\" fill-opacity=\"1\" stroke=\"#000000\" stroke-opacity=\"1\" stroke-width=\"3.2\"/>\n",
       "<circle clip-path=\"url(#clip932)\" cx=\"1185.87\" cy=\"858.375\" r=\"14\" fill=\"#009af9\" fill-rule=\"evenodd\" fill-opacity=\"1\" stroke=\"#000000\" stroke-opacity=\"1\" stroke-width=\"3.2\"/>\n",
       "<circle clip-path=\"url(#clip932)\" cx=\"1187.91\" cy=\"857.088\" r=\"14\" fill=\"#009af9\" fill-rule=\"evenodd\" fill-opacity=\"1\" stroke=\"#000000\" stroke-opacity=\"1\" stroke-width=\"3.2\"/>\n",
       "<circle clip-path=\"url(#clip932)\" cx=\"1189.96\" cy=\"855.801\" r=\"14\" fill=\"#009af9\" fill-rule=\"evenodd\" fill-opacity=\"1\" stroke=\"#000000\" stroke-opacity=\"1\" stroke-width=\"3.2\"/>\n",
       "<circle clip-path=\"url(#clip932)\" cx=\"1192\" cy=\"854.514\" r=\"14\" fill=\"#009af9\" fill-rule=\"evenodd\" fill-opacity=\"1\" stroke=\"#000000\" stroke-opacity=\"1\" stroke-width=\"3.2\"/>\n",
       "<circle clip-path=\"url(#clip932)\" cx=\"1194.05\" cy=\"853.227\" r=\"14\" fill=\"#009af9\" fill-rule=\"evenodd\" fill-opacity=\"1\" stroke=\"#000000\" stroke-opacity=\"1\" stroke-width=\"3.2\"/>\n",
       "<circle clip-path=\"url(#clip932)\" cx=\"1196.09\" cy=\"851.94\" r=\"14\" fill=\"#009af9\" fill-rule=\"evenodd\" fill-opacity=\"1\" stroke=\"#000000\" stroke-opacity=\"1\" stroke-width=\"3.2\"/>\n",
       "<circle clip-path=\"url(#clip932)\" cx=\"1198.13\" cy=\"850.653\" r=\"14\" fill=\"#009af9\" fill-rule=\"evenodd\" fill-opacity=\"1\" stroke=\"#000000\" stroke-opacity=\"1\" stroke-width=\"3.2\"/>\n",
       "<circle clip-path=\"url(#clip932)\" cx=\"1200.18\" cy=\"849.365\" r=\"14\" fill=\"#009af9\" fill-rule=\"evenodd\" fill-opacity=\"1\" stroke=\"#000000\" stroke-opacity=\"1\" stroke-width=\"3.2\"/>\n",
       "<circle clip-path=\"url(#clip932)\" cx=\"1202.22\" cy=\"848.078\" r=\"14\" fill=\"#009af9\" fill-rule=\"evenodd\" fill-opacity=\"1\" stroke=\"#000000\" stroke-opacity=\"1\" stroke-width=\"3.2\"/>\n",
       "<circle clip-path=\"url(#clip932)\" cx=\"1204.26\" cy=\"846.791\" r=\"14\" fill=\"#009af9\" fill-rule=\"evenodd\" fill-opacity=\"1\" stroke=\"#000000\" stroke-opacity=\"1\" stroke-width=\"3.2\"/>\n",
       "<circle clip-path=\"url(#clip932)\" cx=\"1206.31\" cy=\"845.504\" r=\"14\" fill=\"#009af9\" fill-rule=\"evenodd\" fill-opacity=\"1\" stroke=\"#000000\" stroke-opacity=\"1\" stroke-width=\"3.2\"/>\n",
       "<circle clip-path=\"url(#clip932)\" cx=\"1208.35\" cy=\"844.217\" r=\"14\" fill=\"#009af9\" fill-rule=\"evenodd\" fill-opacity=\"1\" stroke=\"#000000\" stroke-opacity=\"1\" stroke-width=\"3.2\"/>\n",
       "<circle clip-path=\"url(#clip932)\" cx=\"1210.4\" cy=\"842.93\" r=\"14\" fill=\"#009af9\" fill-rule=\"evenodd\" fill-opacity=\"1\" stroke=\"#000000\" stroke-opacity=\"1\" stroke-width=\"3.2\"/>\n",
       "<circle clip-path=\"url(#clip932)\" cx=\"1212.44\" cy=\"841.643\" r=\"14\" fill=\"#009af9\" fill-rule=\"evenodd\" fill-opacity=\"1\" stroke=\"#000000\" stroke-opacity=\"1\" stroke-width=\"3.2\"/>\n",
       "<circle clip-path=\"url(#clip932)\" cx=\"1214.48\" cy=\"840.356\" r=\"14\" fill=\"#009af9\" fill-rule=\"evenodd\" fill-opacity=\"1\" stroke=\"#000000\" stroke-opacity=\"1\" stroke-width=\"3.2\"/>\n",
       "<circle clip-path=\"url(#clip932)\" cx=\"1216.53\" cy=\"839.069\" r=\"14\" fill=\"#009af9\" fill-rule=\"evenodd\" fill-opacity=\"1\" stroke=\"#000000\" stroke-opacity=\"1\" stroke-width=\"3.2\"/>\n",
       "<circle clip-path=\"url(#clip932)\" cx=\"1218.57\" cy=\"837.781\" r=\"14\" fill=\"#009af9\" fill-rule=\"evenodd\" fill-opacity=\"1\" stroke=\"#000000\" stroke-opacity=\"1\" stroke-width=\"3.2\"/>\n",
       "<circle clip-path=\"url(#clip932)\" cx=\"1220.61\" cy=\"836.494\" r=\"14\" fill=\"#009af9\" fill-rule=\"evenodd\" fill-opacity=\"1\" stroke=\"#000000\" stroke-opacity=\"1\" stroke-width=\"3.2\"/>\n",
       "<circle clip-path=\"url(#clip932)\" cx=\"1222.66\" cy=\"835.207\" r=\"14\" fill=\"#009af9\" fill-rule=\"evenodd\" fill-opacity=\"1\" stroke=\"#000000\" stroke-opacity=\"1\" stroke-width=\"3.2\"/>\n",
       "<circle clip-path=\"url(#clip932)\" cx=\"1224.7\" cy=\"833.92\" r=\"14\" fill=\"#009af9\" fill-rule=\"evenodd\" fill-opacity=\"1\" stroke=\"#000000\" stroke-opacity=\"1\" stroke-width=\"3.2\"/>\n",
       "<circle clip-path=\"url(#clip932)\" cx=\"1226.74\" cy=\"832.633\" r=\"14\" fill=\"#009af9\" fill-rule=\"evenodd\" fill-opacity=\"1\" stroke=\"#000000\" stroke-opacity=\"1\" stroke-width=\"3.2\"/>\n",
       "<circle clip-path=\"url(#clip932)\" cx=\"1228.79\" cy=\"831.346\" r=\"14\" fill=\"#009af9\" fill-rule=\"evenodd\" fill-opacity=\"1\" stroke=\"#000000\" stroke-opacity=\"1\" stroke-width=\"3.2\"/>\n",
       "<circle clip-path=\"url(#clip932)\" cx=\"1230.83\" cy=\"830.059\" r=\"14\" fill=\"#009af9\" fill-rule=\"evenodd\" fill-opacity=\"1\" stroke=\"#000000\" stroke-opacity=\"1\" stroke-width=\"3.2\"/>\n",
       "<circle clip-path=\"url(#clip932)\" cx=\"1232.88\" cy=\"828.772\" r=\"14\" fill=\"#009af9\" fill-rule=\"evenodd\" fill-opacity=\"1\" stroke=\"#000000\" stroke-opacity=\"1\" stroke-width=\"3.2\"/>\n",
       "<circle clip-path=\"url(#clip932)\" cx=\"1234.92\" cy=\"827.484\" r=\"14\" fill=\"#009af9\" fill-rule=\"evenodd\" fill-opacity=\"1\" stroke=\"#000000\" stroke-opacity=\"1\" stroke-width=\"3.2\"/>\n",
       "<circle clip-path=\"url(#clip932)\" cx=\"1236.96\" cy=\"826.197\" r=\"14\" fill=\"#009af9\" fill-rule=\"evenodd\" fill-opacity=\"1\" stroke=\"#000000\" stroke-opacity=\"1\" stroke-width=\"3.2\"/>\n",
       "<circle clip-path=\"url(#clip932)\" cx=\"1239.01\" cy=\"824.91\" r=\"14\" fill=\"#009af9\" fill-rule=\"evenodd\" fill-opacity=\"1\" stroke=\"#000000\" stroke-opacity=\"1\" stroke-width=\"3.2\"/>\n",
       "<circle clip-path=\"url(#clip932)\" cx=\"1241.05\" cy=\"823.623\" r=\"14\" fill=\"#009af9\" fill-rule=\"evenodd\" fill-opacity=\"1\" stroke=\"#000000\" stroke-opacity=\"1\" stroke-width=\"3.2\"/>\n",
       "<circle clip-path=\"url(#clip932)\" cx=\"1243.09\" cy=\"822.336\" r=\"14\" fill=\"#009af9\" fill-rule=\"evenodd\" fill-opacity=\"1\" stroke=\"#000000\" stroke-opacity=\"1\" stroke-width=\"3.2\"/>\n",
       "<circle clip-path=\"url(#clip932)\" cx=\"1245.14\" cy=\"821.049\" r=\"14\" fill=\"#009af9\" fill-rule=\"evenodd\" fill-opacity=\"1\" stroke=\"#000000\" stroke-opacity=\"1\" stroke-width=\"3.2\"/>\n",
       "<circle clip-path=\"url(#clip932)\" cx=\"1247.18\" cy=\"819.762\" r=\"14\" fill=\"#009af9\" fill-rule=\"evenodd\" fill-opacity=\"1\" stroke=\"#000000\" stroke-opacity=\"1\" stroke-width=\"3.2\"/>\n",
       "<circle clip-path=\"url(#clip932)\" cx=\"1249.23\" cy=\"818.475\" r=\"14\" fill=\"#009af9\" fill-rule=\"evenodd\" fill-opacity=\"1\" stroke=\"#000000\" stroke-opacity=\"1\" stroke-width=\"3.2\"/>\n",
       "<circle clip-path=\"url(#clip932)\" cx=\"1251.27\" cy=\"817.188\" r=\"14\" fill=\"#009af9\" fill-rule=\"evenodd\" fill-opacity=\"1\" stroke=\"#000000\" stroke-opacity=\"1\" stroke-width=\"3.2\"/>\n",
       "<circle clip-path=\"url(#clip932)\" cx=\"1253.31\" cy=\"815.9\" r=\"14\" fill=\"#009af9\" fill-rule=\"evenodd\" fill-opacity=\"1\" stroke=\"#000000\" stroke-opacity=\"1\" stroke-width=\"3.2\"/>\n",
       "<circle clip-path=\"url(#clip932)\" cx=\"1255.36\" cy=\"814.613\" r=\"14\" fill=\"#009af9\" fill-rule=\"evenodd\" fill-opacity=\"1\" stroke=\"#000000\" stroke-opacity=\"1\" stroke-width=\"3.2\"/>\n",
       "<circle clip-path=\"url(#clip932)\" cx=\"1257.4\" cy=\"813.326\" r=\"14\" fill=\"#009af9\" fill-rule=\"evenodd\" fill-opacity=\"1\" stroke=\"#000000\" stroke-opacity=\"1\" stroke-width=\"3.2\"/>\n",
       "<circle clip-path=\"url(#clip932)\" cx=\"1259.44\" cy=\"812.039\" r=\"14\" fill=\"#009af9\" fill-rule=\"evenodd\" fill-opacity=\"1\" stroke=\"#000000\" stroke-opacity=\"1\" stroke-width=\"3.2\"/>\n",
       "<circle clip-path=\"url(#clip932)\" cx=\"1261.49\" cy=\"810.752\" r=\"14\" fill=\"#009af9\" fill-rule=\"evenodd\" fill-opacity=\"1\" stroke=\"#000000\" stroke-opacity=\"1\" stroke-width=\"3.2\"/>\n",
       "<circle clip-path=\"url(#clip932)\" cx=\"1263.53\" cy=\"809.465\" r=\"14\" fill=\"#009af9\" fill-rule=\"evenodd\" fill-opacity=\"1\" stroke=\"#000000\" stroke-opacity=\"1\" stroke-width=\"3.2\"/>\n",
       "<circle clip-path=\"url(#clip932)\" cx=\"1265.57\" cy=\"808.178\" r=\"14\" fill=\"#009af9\" fill-rule=\"evenodd\" fill-opacity=\"1\" stroke=\"#000000\" stroke-opacity=\"1\" stroke-width=\"3.2\"/>\n",
       "<circle clip-path=\"url(#clip932)\" cx=\"1267.62\" cy=\"806.891\" r=\"14\" fill=\"#009af9\" fill-rule=\"evenodd\" fill-opacity=\"1\" stroke=\"#000000\" stroke-opacity=\"1\" stroke-width=\"3.2\"/>\n",
       "<circle clip-path=\"url(#clip932)\" cx=\"1269.66\" cy=\"805.604\" r=\"14\" fill=\"#009af9\" fill-rule=\"evenodd\" fill-opacity=\"1\" stroke=\"#000000\" stroke-opacity=\"1\" stroke-width=\"3.2\"/>\n",
       "<circle clip-path=\"url(#clip932)\" cx=\"1271.71\" cy=\"804.316\" r=\"14\" fill=\"#009af9\" fill-rule=\"evenodd\" fill-opacity=\"1\" stroke=\"#000000\" stroke-opacity=\"1\" stroke-width=\"3.2\"/>\n",
       "<circle clip-path=\"url(#clip932)\" cx=\"1273.75\" cy=\"803.029\" r=\"14\" fill=\"#009af9\" fill-rule=\"evenodd\" fill-opacity=\"1\" stroke=\"#000000\" stroke-opacity=\"1\" stroke-width=\"3.2\"/>\n",
       "<circle clip-path=\"url(#clip932)\" cx=\"1275.79\" cy=\"801.742\" r=\"14\" fill=\"#009af9\" fill-rule=\"evenodd\" fill-opacity=\"1\" stroke=\"#000000\" stroke-opacity=\"1\" stroke-width=\"3.2\"/>\n",
       "<circle clip-path=\"url(#clip932)\" cx=\"1277.84\" cy=\"800.455\" r=\"14\" fill=\"#009af9\" fill-rule=\"evenodd\" fill-opacity=\"1\" stroke=\"#000000\" stroke-opacity=\"1\" stroke-width=\"3.2\"/>\n",
       "<circle clip-path=\"url(#clip932)\" cx=\"1279.88\" cy=\"799.168\" r=\"14\" fill=\"#009af9\" fill-rule=\"evenodd\" fill-opacity=\"1\" stroke=\"#000000\" stroke-opacity=\"1\" stroke-width=\"3.2\"/>\n",
       "<circle clip-path=\"url(#clip932)\" cx=\"1281.92\" cy=\"797.881\" r=\"14\" fill=\"#009af9\" fill-rule=\"evenodd\" fill-opacity=\"1\" stroke=\"#000000\" stroke-opacity=\"1\" stroke-width=\"3.2\"/>\n",
       "<circle clip-path=\"url(#clip932)\" cx=\"1283.97\" cy=\"796.594\" r=\"14\" fill=\"#009af9\" fill-rule=\"evenodd\" fill-opacity=\"1\" stroke=\"#000000\" stroke-opacity=\"1\" stroke-width=\"3.2\"/>\n",
       "<circle clip-path=\"url(#clip932)\" cx=\"1286.01\" cy=\"795.307\" r=\"14\" fill=\"#009af9\" fill-rule=\"evenodd\" fill-opacity=\"1\" stroke=\"#000000\" stroke-opacity=\"1\" stroke-width=\"3.2\"/>\n",
       "<circle clip-path=\"url(#clip932)\" cx=\"1288.06\" cy=\"794.02\" r=\"14\" fill=\"#009af9\" fill-rule=\"evenodd\" fill-opacity=\"1\" stroke=\"#000000\" stroke-opacity=\"1\" stroke-width=\"3.2\"/>\n",
       "<circle clip-path=\"url(#clip932)\" cx=\"1290.1\" cy=\"792.732\" r=\"14\" fill=\"#009af9\" fill-rule=\"evenodd\" fill-opacity=\"1\" stroke=\"#000000\" stroke-opacity=\"1\" stroke-width=\"3.2\"/>\n",
       "<circle clip-path=\"url(#clip932)\" cx=\"1292.14\" cy=\"791.445\" r=\"14\" fill=\"#009af9\" fill-rule=\"evenodd\" fill-opacity=\"1\" stroke=\"#000000\" stroke-opacity=\"1\" stroke-width=\"3.2\"/>\n",
       "<circle clip-path=\"url(#clip932)\" cx=\"1294.19\" cy=\"790.158\" r=\"14\" fill=\"#009af9\" fill-rule=\"evenodd\" fill-opacity=\"1\" stroke=\"#000000\" stroke-opacity=\"1\" stroke-width=\"3.2\"/>\n",
       "<circle clip-path=\"url(#clip932)\" cx=\"1296.23\" cy=\"788.871\" r=\"14\" fill=\"#009af9\" fill-rule=\"evenodd\" fill-opacity=\"1\" stroke=\"#000000\" stroke-opacity=\"1\" stroke-width=\"3.2\"/>\n",
       "<circle clip-path=\"url(#clip932)\" cx=\"1298.27\" cy=\"787.584\" r=\"14\" fill=\"#009af9\" fill-rule=\"evenodd\" fill-opacity=\"1\" stroke=\"#000000\" stroke-opacity=\"1\" stroke-width=\"3.2\"/>\n",
       "<circle clip-path=\"url(#clip932)\" cx=\"1300.32\" cy=\"786.297\" r=\"14\" fill=\"#009af9\" fill-rule=\"evenodd\" fill-opacity=\"1\" stroke=\"#000000\" stroke-opacity=\"1\" stroke-width=\"3.2\"/>\n",
       "<circle clip-path=\"url(#clip932)\" cx=\"1302.36\" cy=\"785.01\" r=\"14\" fill=\"#009af9\" fill-rule=\"evenodd\" fill-opacity=\"1\" stroke=\"#000000\" stroke-opacity=\"1\" stroke-width=\"3.2\"/>\n",
       "<circle clip-path=\"url(#clip932)\" cx=\"1304.4\" cy=\"783.723\" r=\"14\" fill=\"#009af9\" fill-rule=\"evenodd\" fill-opacity=\"1\" stroke=\"#000000\" stroke-opacity=\"1\" stroke-width=\"3.2\"/>\n",
       "<circle clip-path=\"url(#clip932)\" cx=\"1306.45\" cy=\"782.436\" r=\"14\" fill=\"#009af9\" fill-rule=\"evenodd\" fill-opacity=\"1\" stroke=\"#000000\" stroke-opacity=\"1\" stroke-width=\"3.2\"/>\n",
       "<circle clip-path=\"url(#clip932)\" cx=\"1308.49\" cy=\"781.148\" r=\"14\" fill=\"#009af9\" fill-rule=\"evenodd\" fill-opacity=\"1\" stroke=\"#000000\" stroke-opacity=\"1\" stroke-width=\"3.2\"/>\n",
       "<circle clip-path=\"url(#clip932)\" cx=\"1310.54\" cy=\"779.861\" r=\"14\" fill=\"#009af9\" fill-rule=\"evenodd\" fill-opacity=\"1\" stroke=\"#000000\" stroke-opacity=\"1\" stroke-width=\"3.2\"/>\n",
       "<circle clip-path=\"url(#clip932)\" cx=\"1312.58\" cy=\"778.574\" r=\"14\" fill=\"#009af9\" fill-rule=\"evenodd\" fill-opacity=\"1\" stroke=\"#000000\" stroke-opacity=\"1\" stroke-width=\"3.2\"/>\n",
       "<circle clip-path=\"url(#clip932)\" cx=\"1314.62\" cy=\"777.287\" r=\"14\" fill=\"#009af9\" fill-rule=\"evenodd\" fill-opacity=\"1\" stroke=\"#000000\" stroke-opacity=\"1\" stroke-width=\"3.2\"/>\n",
       "<circle clip-path=\"url(#clip932)\" cx=\"1316.67\" cy=\"776\" r=\"14\" fill=\"#009af9\" fill-rule=\"evenodd\" fill-opacity=\"1\" stroke=\"#000000\" stroke-opacity=\"1\" stroke-width=\"3.2\"/>\n",
       "<circle clip-path=\"url(#clip932)\" cx=\"1318.71\" cy=\"774.713\" r=\"14\" fill=\"#009af9\" fill-rule=\"evenodd\" fill-opacity=\"1\" stroke=\"#000000\" stroke-opacity=\"1\" stroke-width=\"3.2\"/>\n",
       "<circle clip-path=\"url(#clip932)\" cx=\"1320.75\" cy=\"773.426\" r=\"14\" fill=\"#009af9\" fill-rule=\"evenodd\" fill-opacity=\"1\" stroke=\"#000000\" stroke-opacity=\"1\" stroke-width=\"3.2\"/>\n",
       "<circle clip-path=\"url(#clip932)\" cx=\"1322.8\" cy=\"772.139\" r=\"14\" fill=\"#009af9\" fill-rule=\"evenodd\" fill-opacity=\"1\" stroke=\"#000000\" stroke-opacity=\"1\" stroke-width=\"3.2\"/>\n",
       "<circle clip-path=\"url(#clip932)\" cx=\"1324.84\" cy=\"770.851\" r=\"14\" fill=\"#009af9\" fill-rule=\"evenodd\" fill-opacity=\"1\" stroke=\"#000000\" stroke-opacity=\"1\" stroke-width=\"3.2\"/>\n",
       "<circle clip-path=\"url(#clip932)\" cx=\"1326.89\" cy=\"769.564\" r=\"14\" fill=\"#009af9\" fill-rule=\"evenodd\" fill-opacity=\"1\" stroke=\"#000000\" stroke-opacity=\"1\" stroke-width=\"3.2\"/>\n",
       "<circle clip-path=\"url(#clip932)\" cx=\"1328.93\" cy=\"768.277\" r=\"14\" fill=\"#009af9\" fill-rule=\"evenodd\" fill-opacity=\"1\" stroke=\"#000000\" stroke-opacity=\"1\" stroke-width=\"3.2\"/>\n",
       "<circle clip-path=\"url(#clip932)\" cx=\"1330.97\" cy=\"766.99\" r=\"14\" fill=\"#009af9\" fill-rule=\"evenodd\" fill-opacity=\"1\" stroke=\"#000000\" stroke-opacity=\"1\" stroke-width=\"3.2\"/>\n",
       "<circle clip-path=\"url(#clip932)\" cx=\"1333.02\" cy=\"765.703\" r=\"14\" fill=\"#009af9\" fill-rule=\"evenodd\" fill-opacity=\"1\" stroke=\"#000000\" stroke-opacity=\"1\" stroke-width=\"3.2\"/>\n",
       "<circle clip-path=\"url(#clip932)\" cx=\"1335.06\" cy=\"764.416\" r=\"14\" fill=\"#009af9\" fill-rule=\"evenodd\" fill-opacity=\"1\" stroke=\"#000000\" stroke-opacity=\"1\" stroke-width=\"3.2\"/>\n",
       "<circle clip-path=\"url(#clip932)\" cx=\"1337.1\" cy=\"763.129\" r=\"14\" fill=\"#009af9\" fill-rule=\"evenodd\" fill-opacity=\"1\" stroke=\"#000000\" stroke-opacity=\"1\" stroke-width=\"3.2\"/>\n",
       "<circle clip-path=\"url(#clip932)\" cx=\"1339.15\" cy=\"761.842\" r=\"14\" fill=\"#009af9\" fill-rule=\"evenodd\" fill-opacity=\"1\" stroke=\"#000000\" stroke-opacity=\"1\" stroke-width=\"3.2\"/>\n",
       "<circle clip-path=\"url(#clip932)\" cx=\"1341.19\" cy=\"760.555\" r=\"14\" fill=\"#009af9\" fill-rule=\"evenodd\" fill-opacity=\"1\" stroke=\"#000000\" stroke-opacity=\"1\" stroke-width=\"3.2\"/>\n",
       "<circle clip-path=\"url(#clip932)\" cx=\"1343.23\" cy=\"759.267\" r=\"14\" fill=\"#009af9\" fill-rule=\"evenodd\" fill-opacity=\"1\" stroke=\"#000000\" stroke-opacity=\"1\" stroke-width=\"3.2\"/>\n",
       "<circle clip-path=\"url(#clip932)\" cx=\"1345.28\" cy=\"757.98\" r=\"14\" fill=\"#009af9\" fill-rule=\"evenodd\" fill-opacity=\"1\" stroke=\"#000000\" stroke-opacity=\"1\" stroke-width=\"3.2\"/>\n",
       "<circle clip-path=\"url(#clip932)\" cx=\"1347.32\" cy=\"756.693\" r=\"14\" fill=\"#009af9\" fill-rule=\"evenodd\" fill-opacity=\"1\" stroke=\"#000000\" stroke-opacity=\"1\" stroke-width=\"3.2\"/>\n",
       "<circle clip-path=\"url(#clip932)\" cx=\"1349.37\" cy=\"755.406\" r=\"14\" fill=\"#009af9\" fill-rule=\"evenodd\" fill-opacity=\"1\" stroke=\"#000000\" stroke-opacity=\"1\" stroke-width=\"3.2\"/>\n",
       "<circle clip-path=\"url(#clip932)\" cx=\"1351.41\" cy=\"754.119\" r=\"14\" fill=\"#009af9\" fill-rule=\"evenodd\" fill-opacity=\"1\" stroke=\"#000000\" stroke-opacity=\"1\" stroke-width=\"3.2\"/>\n",
       "<circle clip-path=\"url(#clip932)\" cx=\"1353.45\" cy=\"752.832\" r=\"14\" fill=\"#009af9\" fill-rule=\"evenodd\" fill-opacity=\"1\" stroke=\"#000000\" stroke-opacity=\"1\" stroke-width=\"3.2\"/>\n",
       "<circle clip-path=\"url(#clip932)\" cx=\"1355.5\" cy=\"751.545\" r=\"14\" fill=\"#009af9\" fill-rule=\"evenodd\" fill-opacity=\"1\" stroke=\"#000000\" stroke-opacity=\"1\" stroke-width=\"3.2\"/>\n",
       "<circle clip-path=\"url(#clip932)\" cx=\"1357.54\" cy=\"750.258\" r=\"14\" fill=\"#009af9\" fill-rule=\"evenodd\" fill-opacity=\"1\" stroke=\"#000000\" stroke-opacity=\"1\" stroke-width=\"3.2\"/>\n",
       "<circle clip-path=\"url(#clip932)\" cx=\"1359.58\" cy=\"748.971\" r=\"14\" fill=\"#009af9\" fill-rule=\"evenodd\" fill-opacity=\"1\" stroke=\"#000000\" stroke-opacity=\"1\" stroke-width=\"3.2\"/>\n",
       "<circle clip-path=\"url(#clip932)\" cx=\"1361.63\" cy=\"747.683\" r=\"14\" fill=\"#009af9\" fill-rule=\"evenodd\" fill-opacity=\"1\" stroke=\"#000000\" stroke-opacity=\"1\" stroke-width=\"3.2\"/>\n",
       "<circle clip-path=\"url(#clip932)\" cx=\"1363.67\" cy=\"746.396\" r=\"14\" fill=\"#009af9\" fill-rule=\"evenodd\" fill-opacity=\"1\" stroke=\"#000000\" stroke-opacity=\"1\" stroke-width=\"3.2\"/>\n",
       "<circle clip-path=\"url(#clip932)\" cx=\"1365.72\" cy=\"745.109\" r=\"14\" fill=\"#009af9\" fill-rule=\"evenodd\" fill-opacity=\"1\" stroke=\"#000000\" stroke-opacity=\"1\" stroke-width=\"3.2\"/>\n",
       "<circle clip-path=\"url(#clip932)\" cx=\"1367.76\" cy=\"743.822\" r=\"14\" fill=\"#009af9\" fill-rule=\"evenodd\" fill-opacity=\"1\" stroke=\"#000000\" stroke-opacity=\"1\" stroke-width=\"3.2\"/>\n",
       "<circle clip-path=\"url(#clip932)\" cx=\"1369.8\" cy=\"742.535\" r=\"14\" fill=\"#009af9\" fill-rule=\"evenodd\" fill-opacity=\"1\" stroke=\"#000000\" stroke-opacity=\"1\" stroke-width=\"3.2\"/>\n",
       "<circle clip-path=\"url(#clip932)\" cx=\"1371.85\" cy=\"741.248\" r=\"14\" fill=\"#009af9\" fill-rule=\"evenodd\" fill-opacity=\"1\" stroke=\"#000000\" stroke-opacity=\"1\" stroke-width=\"3.2\"/>\n",
       "<circle clip-path=\"url(#clip932)\" cx=\"1373.89\" cy=\"739.961\" r=\"14\" fill=\"#009af9\" fill-rule=\"evenodd\" fill-opacity=\"1\" stroke=\"#000000\" stroke-opacity=\"1\" stroke-width=\"3.2\"/>\n",
       "<circle clip-path=\"url(#clip932)\" cx=\"1375.93\" cy=\"738.674\" r=\"14\" fill=\"#009af9\" fill-rule=\"evenodd\" fill-opacity=\"1\" stroke=\"#000000\" stroke-opacity=\"1\" stroke-width=\"3.2\"/>\n",
       "<circle clip-path=\"url(#clip932)\" cx=\"1377.98\" cy=\"737.387\" r=\"14\" fill=\"#009af9\" fill-rule=\"evenodd\" fill-opacity=\"1\" stroke=\"#000000\" stroke-opacity=\"1\" stroke-width=\"3.2\"/>\n",
       "<circle clip-path=\"url(#clip932)\" cx=\"1380.02\" cy=\"736.099\" r=\"14\" fill=\"#009af9\" fill-rule=\"evenodd\" fill-opacity=\"1\" stroke=\"#000000\" stroke-opacity=\"1\" stroke-width=\"3.2\"/>\n",
       "<circle clip-path=\"url(#clip932)\" cx=\"1382.06\" cy=\"734.812\" r=\"14\" fill=\"#009af9\" fill-rule=\"evenodd\" fill-opacity=\"1\" stroke=\"#000000\" stroke-opacity=\"1\" stroke-width=\"3.2\"/>\n",
       "<circle clip-path=\"url(#clip932)\" cx=\"1384.11\" cy=\"733.525\" r=\"14\" fill=\"#009af9\" fill-rule=\"evenodd\" fill-opacity=\"1\" stroke=\"#000000\" stroke-opacity=\"1\" stroke-width=\"3.2\"/>\n",
       "<circle clip-path=\"url(#clip932)\" cx=\"1386.15\" cy=\"732.238\" r=\"14\" fill=\"#009af9\" fill-rule=\"evenodd\" fill-opacity=\"1\" stroke=\"#000000\" stroke-opacity=\"1\" stroke-width=\"3.2\"/>\n",
       "<circle clip-path=\"url(#clip932)\" cx=\"1388.2\" cy=\"730.951\" r=\"14\" fill=\"#009af9\" fill-rule=\"evenodd\" fill-opacity=\"1\" stroke=\"#000000\" stroke-opacity=\"1\" stroke-width=\"3.2\"/>\n",
       "<circle clip-path=\"url(#clip932)\" cx=\"1390.24\" cy=\"729.664\" r=\"14\" fill=\"#009af9\" fill-rule=\"evenodd\" fill-opacity=\"1\" stroke=\"#000000\" stroke-opacity=\"1\" stroke-width=\"3.2\"/>\n",
       "<circle clip-path=\"url(#clip932)\" cx=\"1392.28\" cy=\"728.377\" r=\"14\" fill=\"#009af9\" fill-rule=\"evenodd\" fill-opacity=\"1\" stroke=\"#000000\" stroke-opacity=\"1\" stroke-width=\"3.2\"/>\n",
       "<circle clip-path=\"url(#clip932)\" cx=\"1394.33\" cy=\"727.09\" r=\"14\" fill=\"#009af9\" fill-rule=\"evenodd\" fill-opacity=\"1\" stroke=\"#000000\" stroke-opacity=\"1\" stroke-width=\"3.2\"/>\n",
       "<circle clip-path=\"url(#clip932)\" cx=\"1396.37\" cy=\"725.803\" r=\"14\" fill=\"#009af9\" fill-rule=\"evenodd\" fill-opacity=\"1\" stroke=\"#000000\" stroke-opacity=\"1\" stroke-width=\"3.2\"/>\n",
       "<circle clip-path=\"url(#clip932)\" cx=\"1398.41\" cy=\"724.515\" r=\"14\" fill=\"#009af9\" fill-rule=\"evenodd\" fill-opacity=\"1\" stroke=\"#000000\" stroke-opacity=\"1\" stroke-width=\"3.2\"/>\n",
       "<circle clip-path=\"url(#clip932)\" cx=\"1400.46\" cy=\"723.228\" r=\"14\" fill=\"#009af9\" fill-rule=\"evenodd\" fill-opacity=\"1\" stroke=\"#000000\" stroke-opacity=\"1\" stroke-width=\"3.2\"/>\n",
       "<circle clip-path=\"url(#clip932)\" cx=\"1402.5\" cy=\"721.941\" r=\"14\" fill=\"#009af9\" fill-rule=\"evenodd\" fill-opacity=\"1\" stroke=\"#000000\" stroke-opacity=\"1\" stroke-width=\"3.2\"/>\n",
       "<circle clip-path=\"url(#clip932)\" cx=\"1404.55\" cy=\"720.654\" r=\"14\" fill=\"#009af9\" fill-rule=\"evenodd\" fill-opacity=\"1\" stroke=\"#000000\" stroke-opacity=\"1\" stroke-width=\"3.2\"/>\n",
       "<circle clip-path=\"url(#clip932)\" cx=\"1406.59\" cy=\"719.367\" r=\"14\" fill=\"#009af9\" fill-rule=\"evenodd\" fill-opacity=\"1\" stroke=\"#000000\" stroke-opacity=\"1\" stroke-width=\"3.2\"/>\n",
       "<circle clip-path=\"url(#clip932)\" cx=\"1408.63\" cy=\"718.08\" r=\"14\" fill=\"#009af9\" fill-rule=\"evenodd\" fill-opacity=\"1\" stroke=\"#000000\" stroke-opacity=\"1\" stroke-width=\"3.2\"/>\n",
       "<circle clip-path=\"url(#clip932)\" cx=\"1410.68\" cy=\"716.793\" r=\"14\" fill=\"#009af9\" fill-rule=\"evenodd\" fill-opacity=\"1\" stroke=\"#000000\" stroke-opacity=\"1\" stroke-width=\"3.2\"/>\n",
       "<circle clip-path=\"url(#clip932)\" cx=\"1412.72\" cy=\"715.506\" r=\"14\" fill=\"#009af9\" fill-rule=\"evenodd\" fill-opacity=\"1\" stroke=\"#000000\" stroke-opacity=\"1\" stroke-width=\"3.2\"/>\n",
       "<circle clip-path=\"url(#clip932)\" cx=\"1414.76\" cy=\"714.219\" r=\"14\" fill=\"#009af9\" fill-rule=\"evenodd\" fill-opacity=\"1\" stroke=\"#000000\" stroke-opacity=\"1\" stroke-width=\"3.2\"/>\n",
       "<circle clip-path=\"url(#clip932)\" cx=\"1416.81\" cy=\"712.931\" r=\"14\" fill=\"#009af9\" fill-rule=\"evenodd\" fill-opacity=\"1\" stroke=\"#000000\" stroke-opacity=\"1\" stroke-width=\"3.2\"/>\n",
       "<circle clip-path=\"url(#clip932)\" cx=\"1418.85\" cy=\"711.644\" r=\"14\" fill=\"#009af9\" fill-rule=\"evenodd\" fill-opacity=\"1\" stroke=\"#000000\" stroke-opacity=\"1\" stroke-width=\"3.2\"/>\n",
       "<circle clip-path=\"url(#clip932)\" cx=\"1420.9\" cy=\"710.357\" r=\"14\" fill=\"#009af9\" fill-rule=\"evenodd\" fill-opacity=\"1\" stroke=\"#000000\" stroke-opacity=\"1\" stroke-width=\"3.2\"/>\n",
       "<circle clip-path=\"url(#clip932)\" cx=\"1422.94\" cy=\"709.07\" r=\"14\" fill=\"#009af9\" fill-rule=\"evenodd\" fill-opacity=\"1\" stroke=\"#000000\" stroke-opacity=\"1\" stroke-width=\"3.2\"/>\n",
       "<circle clip-path=\"url(#clip932)\" cx=\"1424.98\" cy=\"707.783\" r=\"14\" fill=\"#009af9\" fill-rule=\"evenodd\" fill-opacity=\"1\" stroke=\"#000000\" stroke-opacity=\"1\" stroke-width=\"3.2\"/>\n",
       "<circle clip-path=\"url(#clip932)\" cx=\"1427.03\" cy=\"706.496\" r=\"14\" fill=\"#009af9\" fill-rule=\"evenodd\" fill-opacity=\"1\" stroke=\"#000000\" stroke-opacity=\"1\" stroke-width=\"3.2\"/>\n",
       "<circle clip-path=\"url(#clip932)\" cx=\"1429.07\" cy=\"705.209\" r=\"14\" fill=\"#009af9\" fill-rule=\"evenodd\" fill-opacity=\"1\" stroke=\"#000000\" stroke-opacity=\"1\" stroke-width=\"3.2\"/>\n",
       "<circle clip-path=\"url(#clip932)\" cx=\"1431.11\" cy=\"703.922\" r=\"14\" fill=\"#009af9\" fill-rule=\"evenodd\" fill-opacity=\"1\" stroke=\"#000000\" stroke-opacity=\"1\" stroke-width=\"3.2\"/>\n",
       "<circle clip-path=\"url(#clip932)\" cx=\"1433.16\" cy=\"702.634\" r=\"14\" fill=\"#009af9\" fill-rule=\"evenodd\" fill-opacity=\"1\" stroke=\"#000000\" stroke-opacity=\"1\" stroke-width=\"3.2\"/>\n",
       "<circle clip-path=\"url(#clip932)\" cx=\"1435.2\" cy=\"701.347\" r=\"14\" fill=\"#009af9\" fill-rule=\"evenodd\" fill-opacity=\"1\" stroke=\"#000000\" stroke-opacity=\"1\" stroke-width=\"3.2\"/>\n",
       "<circle clip-path=\"url(#clip932)\" cx=\"1437.24\" cy=\"700.06\" r=\"14\" fill=\"#009af9\" fill-rule=\"evenodd\" fill-opacity=\"1\" stroke=\"#000000\" stroke-opacity=\"1\" stroke-width=\"3.2\"/>\n",
       "<circle clip-path=\"url(#clip932)\" cx=\"1439.29\" cy=\"698.773\" r=\"14\" fill=\"#009af9\" fill-rule=\"evenodd\" fill-opacity=\"1\" stroke=\"#000000\" stroke-opacity=\"1\" stroke-width=\"3.2\"/>\n",
       "<circle clip-path=\"url(#clip932)\" cx=\"1441.33\" cy=\"697.486\" r=\"14\" fill=\"#009af9\" fill-rule=\"evenodd\" fill-opacity=\"1\" stroke=\"#000000\" stroke-opacity=\"1\" stroke-width=\"3.2\"/>\n",
       "<circle clip-path=\"url(#clip932)\" cx=\"1443.38\" cy=\"696.199\" r=\"14\" fill=\"#009af9\" fill-rule=\"evenodd\" fill-opacity=\"1\" stroke=\"#000000\" stroke-opacity=\"1\" stroke-width=\"3.2\"/>\n",
       "<circle clip-path=\"url(#clip932)\" cx=\"1445.42\" cy=\"694.912\" r=\"14\" fill=\"#009af9\" fill-rule=\"evenodd\" fill-opacity=\"1\" stroke=\"#000000\" stroke-opacity=\"1\" stroke-width=\"3.2\"/>\n",
       "<circle clip-path=\"url(#clip932)\" cx=\"1447.46\" cy=\"693.625\" r=\"14\" fill=\"#009af9\" fill-rule=\"evenodd\" fill-opacity=\"1\" stroke=\"#000000\" stroke-opacity=\"1\" stroke-width=\"3.2\"/>\n",
       "<circle clip-path=\"url(#clip932)\" cx=\"1449.51\" cy=\"692.338\" r=\"14\" fill=\"#009af9\" fill-rule=\"evenodd\" fill-opacity=\"1\" stroke=\"#000000\" stroke-opacity=\"1\" stroke-width=\"3.2\"/>\n",
       "<circle clip-path=\"url(#clip932)\" cx=\"1451.55\" cy=\"691.05\" r=\"14\" fill=\"#009af9\" fill-rule=\"evenodd\" fill-opacity=\"1\" stroke=\"#000000\" stroke-opacity=\"1\" stroke-width=\"3.2\"/>\n",
       "<circle clip-path=\"url(#clip932)\" cx=\"1453.59\" cy=\"689.763\" r=\"14\" fill=\"#009af9\" fill-rule=\"evenodd\" fill-opacity=\"1\" stroke=\"#000000\" stroke-opacity=\"1\" stroke-width=\"3.2\"/>\n",
       "<circle clip-path=\"url(#clip932)\" cx=\"1455.64\" cy=\"688.476\" r=\"14\" fill=\"#009af9\" fill-rule=\"evenodd\" fill-opacity=\"1\" stroke=\"#000000\" stroke-opacity=\"1\" stroke-width=\"3.2\"/>\n",
       "<circle clip-path=\"url(#clip932)\" cx=\"1457.68\" cy=\"687.189\" r=\"14\" fill=\"#009af9\" fill-rule=\"evenodd\" fill-opacity=\"1\" stroke=\"#000000\" stroke-opacity=\"1\" stroke-width=\"3.2\"/>\n",
       "<circle clip-path=\"url(#clip932)\" cx=\"1459.73\" cy=\"685.902\" r=\"14\" fill=\"#009af9\" fill-rule=\"evenodd\" fill-opacity=\"1\" stroke=\"#000000\" stroke-opacity=\"1\" stroke-width=\"3.2\"/>\n",
       "<circle clip-path=\"url(#clip932)\" cx=\"1461.77\" cy=\"684.615\" r=\"14\" fill=\"#009af9\" fill-rule=\"evenodd\" fill-opacity=\"1\" stroke=\"#000000\" stroke-opacity=\"1\" stroke-width=\"3.2\"/>\n",
       "<circle clip-path=\"url(#clip932)\" cx=\"1463.81\" cy=\"683.328\" r=\"14\" fill=\"#009af9\" fill-rule=\"evenodd\" fill-opacity=\"1\" stroke=\"#000000\" stroke-opacity=\"1\" stroke-width=\"3.2\"/>\n",
       "<circle clip-path=\"url(#clip932)\" cx=\"1465.86\" cy=\"682.041\" r=\"14\" fill=\"#009af9\" fill-rule=\"evenodd\" fill-opacity=\"1\" stroke=\"#000000\" stroke-opacity=\"1\" stroke-width=\"3.2\"/>\n",
       "<circle clip-path=\"url(#clip932)\" cx=\"1467.9\" cy=\"680.754\" r=\"14\" fill=\"#009af9\" fill-rule=\"evenodd\" fill-opacity=\"1\" stroke=\"#000000\" stroke-opacity=\"1\" stroke-width=\"3.2\"/>\n",
       "<circle clip-path=\"url(#clip932)\" cx=\"1469.94\" cy=\"679.466\" r=\"14\" fill=\"#009af9\" fill-rule=\"evenodd\" fill-opacity=\"1\" stroke=\"#000000\" stroke-opacity=\"1\" stroke-width=\"3.2\"/>\n",
       "<circle clip-path=\"url(#clip932)\" cx=\"1471.99\" cy=\"678.179\" r=\"14\" fill=\"#009af9\" fill-rule=\"evenodd\" fill-opacity=\"1\" stroke=\"#000000\" stroke-opacity=\"1\" stroke-width=\"3.2\"/>\n",
       "<circle clip-path=\"url(#clip932)\" cx=\"1474.03\" cy=\"676.892\" r=\"14\" fill=\"#009af9\" fill-rule=\"evenodd\" fill-opacity=\"1\" stroke=\"#000000\" stroke-opacity=\"1\" stroke-width=\"3.2\"/>\n",
       "<circle clip-path=\"url(#clip932)\" cx=\"1476.07\" cy=\"675.605\" r=\"14\" fill=\"#009af9\" fill-rule=\"evenodd\" fill-opacity=\"1\" stroke=\"#000000\" stroke-opacity=\"1\" stroke-width=\"3.2\"/>\n",
       "<circle clip-path=\"url(#clip932)\" cx=\"1478.12\" cy=\"674.318\" r=\"14\" fill=\"#009af9\" fill-rule=\"evenodd\" fill-opacity=\"1\" stroke=\"#000000\" stroke-opacity=\"1\" stroke-width=\"3.2\"/>\n",
       "<circle clip-path=\"url(#clip932)\" cx=\"1480.16\" cy=\"673.031\" r=\"14\" fill=\"#009af9\" fill-rule=\"evenodd\" fill-opacity=\"1\" stroke=\"#000000\" stroke-opacity=\"1\" stroke-width=\"3.2\"/>\n",
       "<circle clip-path=\"url(#clip932)\" cx=\"1482.21\" cy=\"671.744\" r=\"14\" fill=\"#009af9\" fill-rule=\"evenodd\" fill-opacity=\"1\" stroke=\"#000000\" stroke-opacity=\"1\" stroke-width=\"3.2\"/>\n",
       "<circle clip-path=\"url(#clip932)\" cx=\"1484.25\" cy=\"670.457\" r=\"14\" fill=\"#009af9\" fill-rule=\"evenodd\" fill-opacity=\"1\" stroke=\"#000000\" stroke-opacity=\"1\" stroke-width=\"3.2\"/>\n",
       "<circle clip-path=\"url(#clip932)\" cx=\"1486.29\" cy=\"669.17\" r=\"14\" fill=\"#009af9\" fill-rule=\"evenodd\" fill-opacity=\"1\" stroke=\"#000000\" stroke-opacity=\"1\" stroke-width=\"3.2\"/>\n",
       "<circle clip-path=\"url(#clip932)\" cx=\"1488.34\" cy=\"667.882\" r=\"14\" fill=\"#009af9\" fill-rule=\"evenodd\" fill-opacity=\"1\" stroke=\"#000000\" stroke-opacity=\"1\" stroke-width=\"3.2\"/>\n",
       "<circle clip-path=\"url(#clip932)\" cx=\"1490.38\" cy=\"666.595\" r=\"14\" fill=\"#009af9\" fill-rule=\"evenodd\" fill-opacity=\"1\" stroke=\"#000000\" stroke-opacity=\"1\" stroke-width=\"3.2\"/>\n",
       "<circle clip-path=\"url(#clip932)\" cx=\"1492.42\" cy=\"665.308\" r=\"14\" fill=\"#009af9\" fill-rule=\"evenodd\" fill-opacity=\"1\" stroke=\"#000000\" stroke-opacity=\"1\" stroke-width=\"3.2\"/>\n",
       "<circle clip-path=\"url(#clip932)\" cx=\"1494.47\" cy=\"664.021\" r=\"14\" fill=\"#009af9\" fill-rule=\"evenodd\" fill-opacity=\"1\" stroke=\"#000000\" stroke-opacity=\"1\" stroke-width=\"3.2\"/>\n",
       "<circle clip-path=\"url(#clip932)\" cx=\"1496.51\" cy=\"662.734\" r=\"14\" fill=\"#009af9\" fill-rule=\"evenodd\" fill-opacity=\"1\" stroke=\"#000000\" stroke-opacity=\"1\" stroke-width=\"3.2\"/>\n",
       "<circle clip-path=\"url(#clip932)\" cx=\"1498.56\" cy=\"661.447\" r=\"14\" fill=\"#009af9\" fill-rule=\"evenodd\" fill-opacity=\"1\" stroke=\"#000000\" stroke-opacity=\"1\" stroke-width=\"3.2\"/>\n",
       "<circle clip-path=\"url(#clip932)\" cx=\"1500.6\" cy=\"660.16\" r=\"14\" fill=\"#009af9\" fill-rule=\"evenodd\" fill-opacity=\"1\" stroke=\"#000000\" stroke-opacity=\"1\" stroke-width=\"3.2\"/>\n",
       "<circle clip-path=\"url(#clip932)\" cx=\"1502.64\" cy=\"658.873\" r=\"14\" fill=\"#009af9\" fill-rule=\"evenodd\" fill-opacity=\"1\" stroke=\"#000000\" stroke-opacity=\"1\" stroke-width=\"3.2\"/>\n",
       "<circle clip-path=\"url(#clip932)\" cx=\"1504.69\" cy=\"657.586\" r=\"14\" fill=\"#009af9\" fill-rule=\"evenodd\" fill-opacity=\"1\" stroke=\"#000000\" stroke-opacity=\"1\" stroke-width=\"3.2\"/>\n",
       "<circle clip-path=\"url(#clip932)\" cx=\"1506.73\" cy=\"656.298\" r=\"14\" fill=\"#009af9\" fill-rule=\"evenodd\" fill-opacity=\"1\" stroke=\"#000000\" stroke-opacity=\"1\" stroke-width=\"3.2\"/>\n",
       "<circle clip-path=\"url(#clip932)\" cx=\"1508.77\" cy=\"655.011\" r=\"14\" fill=\"#009af9\" fill-rule=\"evenodd\" fill-opacity=\"1\" stroke=\"#000000\" stroke-opacity=\"1\" stroke-width=\"3.2\"/>\n",
       "<circle clip-path=\"url(#clip932)\" cx=\"1510.82\" cy=\"653.724\" r=\"14\" fill=\"#009af9\" fill-rule=\"evenodd\" fill-opacity=\"1\" stroke=\"#000000\" stroke-opacity=\"1\" stroke-width=\"3.2\"/>\n",
       "<circle clip-path=\"url(#clip932)\" cx=\"1512.86\" cy=\"652.437\" r=\"14\" fill=\"#009af9\" fill-rule=\"evenodd\" fill-opacity=\"1\" stroke=\"#000000\" stroke-opacity=\"1\" stroke-width=\"3.2\"/>\n",
       "<circle clip-path=\"url(#clip932)\" cx=\"1514.9\" cy=\"651.15\" r=\"14\" fill=\"#009af9\" fill-rule=\"evenodd\" fill-opacity=\"1\" stroke=\"#000000\" stroke-opacity=\"1\" stroke-width=\"3.2\"/>\n",
       "<circle clip-path=\"url(#clip932)\" cx=\"1516.95\" cy=\"649.863\" r=\"14\" fill=\"#009af9\" fill-rule=\"evenodd\" fill-opacity=\"1\" stroke=\"#000000\" stroke-opacity=\"1\" stroke-width=\"3.2\"/>\n",
       "<circle clip-path=\"url(#clip932)\" cx=\"1518.99\" cy=\"648.576\" r=\"14\" fill=\"#009af9\" fill-rule=\"evenodd\" fill-opacity=\"1\" stroke=\"#000000\" stroke-opacity=\"1\" stroke-width=\"3.2\"/>\n",
       "<circle clip-path=\"url(#clip932)\" cx=\"1521.04\" cy=\"647.289\" r=\"14\" fill=\"#009af9\" fill-rule=\"evenodd\" fill-opacity=\"1\" stroke=\"#000000\" stroke-opacity=\"1\" stroke-width=\"3.2\"/>\n",
       "<circle clip-path=\"url(#clip932)\" cx=\"1523.08\" cy=\"646.002\" r=\"14\" fill=\"#009af9\" fill-rule=\"evenodd\" fill-opacity=\"1\" stroke=\"#000000\" stroke-opacity=\"1\" stroke-width=\"3.2\"/>\n",
       "<circle clip-path=\"url(#clip932)\" cx=\"1525.12\" cy=\"644.714\" r=\"14\" fill=\"#009af9\" fill-rule=\"evenodd\" fill-opacity=\"1\" stroke=\"#000000\" stroke-opacity=\"1\" stroke-width=\"3.2\"/>\n",
       "<circle clip-path=\"url(#clip932)\" cx=\"1527.17\" cy=\"643.427\" r=\"14\" fill=\"#009af9\" fill-rule=\"evenodd\" fill-opacity=\"1\" stroke=\"#000000\" stroke-opacity=\"1\" stroke-width=\"3.2\"/>\n",
       "<circle clip-path=\"url(#clip932)\" cx=\"1529.21\" cy=\"642.14\" r=\"14\" fill=\"#009af9\" fill-rule=\"evenodd\" fill-opacity=\"1\" stroke=\"#000000\" stroke-opacity=\"1\" stroke-width=\"3.2\"/>\n",
       "<circle clip-path=\"url(#clip932)\" cx=\"1531.25\" cy=\"640.853\" r=\"14\" fill=\"#009af9\" fill-rule=\"evenodd\" fill-opacity=\"1\" stroke=\"#000000\" stroke-opacity=\"1\" stroke-width=\"3.2\"/>\n",
       "<circle clip-path=\"url(#clip932)\" cx=\"1533.3\" cy=\"639.566\" r=\"14\" fill=\"#009af9\" fill-rule=\"evenodd\" fill-opacity=\"1\" stroke=\"#000000\" stroke-opacity=\"1\" stroke-width=\"3.2\"/>\n",
       "<circle clip-path=\"url(#clip932)\" cx=\"1535.34\" cy=\"638.279\" r=\"14\" fill=\"#009af9\" fill-rule=\"evenodd\" fill-opacity=\"1\" stroke=\"#000000\" stroke-opacity=\"1\" stroke-width=\"3.2\"/>\n",
       "<circle clip-path=\"url(#clip932)\" cx=\"1537.39\" cy=\"636.992\" r=\"14\" fill=\"#009af9\" fill-rule=\"evenodd\" fill-opacity=\"1\" stroke=\"#000000\" stroke-opacity=\"1\" stroke-width=\"3.2\"/>\n",
       "<circle clip-path=\"url(#clip932)\" cx=\"1539.43\" cy=\"635.705\" r=\"14\" fill=\"#009af9\" fill-rule=\"evenodd\" fill-opacity=\"1\" stroke=\"#000000\" stroke-opacity=\"1\" stroke-width=\"3.2\"/>\n",
       "<circle clip-path=\"url(#clip932)\" cx=\"1541.47\" cy=\"634.417\" r=\"14\" fill=\"#009af9\" fill-rule=\"evenodd\" fill-opacity=\"1\" stroke=\"#000000\" stroke-opacity=\"1\" stroke-width=\"3.2\"/>\n",
       "<circle clip-path=\"url(#clip932)\" cx=\"1543.52\" cy=\"633.13\" r=\"14\" fill=\"#009af9\" fill-rule=\"evenodd\" fill-opacity=\"1\" stroke=\"#000000\" stroke-opacity=\"1\" stroke-width=\"3.2\"/>\n",
       "<circle clip-path=\"url(#clip932)\" cx=\"1545.56\" cy=\"631.843\" r=\"14\" fill=\"#009af9\" fill-rule=\"evenodd\" fill-opacity=\"1\" stroke=\"#000000\" stroke-opacity=\"1\" stroke-width=\"3.2\"/>\n",
       "<circle clip-path=\"url(#clip932)\" cx=\"1547.6\" cy=\"630.556\" r=\"14\" fill=\"#009af9\" fill-rule=\"evenodd\" fill-opacity=\"1\" stroke=\"#000000\" stroke-opacity=\"1\" stroke-width=\"3.2\"/>\n",
       "<circle clip-path=\"url(#clip932)\" cx=\"1549.65\" cy=\"629.269\" r=\"14\" fill=\"#009af9\" fill-rule=\"evenodd\" fill-opacity=\"1\" stroke=\"#000000\" stroke-opacity=\"1\" stroke-width=\"3.2\"/>\n",
       "<circle clip-path=\"url(#clip932)\" cx=\"1551.69\" cy=\"627.982\" r=\"14\" fill=\"#009af9\" fill-rule=\"evenodd\" fill-opacity=\"1\" stroke=\"#000000\" stroke-opacity=\"1\" stroke-width=\"3.2\"/>\n",
       "<circle clip-path=\"url(#clip932)\" cx=\"1553.73\" cy=\"626.695\" r=\"14\" fill=\"#009af9\" fill-rule=\"evenodd\" fill-opacity=\"1\" stroke=\"#000000\" stroke-opacity=\"1\" stroke-width=\"3.2\"/>\n",
       "<circle clip-path=\"url(#clip932)\" cx=\"1555.78\" cy=\"625.408\" r=\"14\" fill=\"#009af9\" fill-rule=\"evenodd\" fill-opacity=\"1\" stroke=\"#000000\" stroke-opacity=\"1\" stroke-width=\"3.2\"/>\n",
       "<circle clip-path=\"url(#clip932)\" cx=\"1557.82\" cy=\"624.121\" r=\"14\" fill=\"#009af9\" fill-rule=\"evenodd\" fill-opacity=\"1\" stroke=\"#000000\" stroke-opacity=\"1\" stroke-width=\"3.2\"/>\n",
       "<circle clip-path=\"url(#clip932)\" cx=\"1559.87\" cy=\"622.833\" r=\"14\" fill=\"#009af9\" fill-rule=\"evenodd\" fill-opacity=\"1\" stroke=\"#000000\" stroke-opacity=\"1\" stroke-width=\"3.2\"/>\n",
       "<circle clip-path=\"url(#clip932)\" cx=\"1561.91\" cy=\"621.546\" r=\"14\" fill=\"#009af9\" fill-rule=\"evenodd\" fill-opacity=\"1\" stroke=\"#000000\" stroke-opacity=\"1\" stroke-width=\"3.2\"/>\n",
       "<circle clip-path=\"url(#clip932)\" cx=\"1563.95\" cy=\"620.259\" r=\"14\" fill=\"#009af9\" fill-rule=\"evenodd\" fill-opacity=\"1\" stroke=\"#000000\" stroke-opacity=\"1\" stroke-width=\"3.2\"/>\n",
       "<circle clip-path=\"url(#clip932)\" cx=\"1566\" cy=\"618.972\" r=\"14\" fill=\"#009af9\" fill-rule=\"evenodd\" fill-opacity=\"1\" stroke=\"#000000\" stroke-opacity=\"1\" stroke-width=\"3.2\"/>\n",
       "<circle clip-path=\"url(#clip932)\" cx=\"1568.04\" cy=\"617.685\" r=\"14\" fill=\"#009af9\" fill-rule=\"evenodd\" fill-opacity=\"1\" stroke=\"#000000\" stroke-opacity=\"1\" stroke-width=\"3.2\"/>\n",
       "<circle clip-path=\"url(#clip932)\" cx=\"1570.08\" cy=\"616.398\" r=\"14\" fill=\"#009af9\" fill-rule=\"evenodd\" fill-opacity=\"1\" stroke=\"#000000\" stroke-opacity=\"1\" stroke-width=\"3.2\"/>\n",
       "<circle clip-path=\"url(#clip932)\" cx=\"1572.13\" cy=\"615.111\" r=\"14\" fill=\"#009af9\" fill-rule=\"evenodd\" fill-opacity=\"1\" stroke=\"#000000\" stroke-opacity=\"1\" stroke-width=\"3.2\"/>\n",
       "<circle clip-path=\"url(#clip932)\" cx=\"1574.17\" cy=\"613.824\" r=\"14\" fill=\"#009af9\" fill-rule=\"evenodd\" fill-opacity=\"1\" stroke=\"#000000\" stroke-opacity=\"1\" stroke-width=\"3.2\"/>\n",
       "<circle clip-path=\"url(#clip932)\" cx=\"1576.22\" cy=\"612.537\" r=\"14\" fill=\"#009af9\" fill-rule=\"evenodd\" fill-opacity=\"1\" stroke=\"#000000\" stroke-opacity=\"1\" stroke-width=\"3.2\"/>\n",
       "<circle clip-path=\"url(#clip932)\" cx=\"1578.26\" cy=\"611.249\" r=\"14\" fill=\"#009af9\" fill-rule=\"evenodd\" fill-opacity=\"1\" stroke=\"#000000\" stroke-opacity=\"1\" stroke-width=\"3.2\"/>\n",
       "<circle clip-path=\"url(#clip932)\" cx=\"1580.3\" cy=\"609.962\" r=\"14\" fill=\"#009af9\" fill-rule=\"evenodd\" fill-opacity=\"1\" stroke=\"#000000\" stroke-opacity=\"1\" stroke-width=\"3.2\"/>\n",
       "<circle clip-path=\"url(#clip932)\" cx=\"1582.35\" cy=\"608.675\" r=\"14\" fill=\"#009af9\" fill-rule=\"evenodd\" fill-opacity=\"1\" stroke=\"#000000\" stroke-opacity=\"1\" stroke-width=\"3.2\"/>\n",
       "<circle clip-path=\"url(#clip932)\" cx=\"1584.39\" cy=\"607.388\" r=\"14\" fill=\"#009af9\" fill-rule=\"evenodd\" fill-opacity=\"1\" stroke=\"#000000\" stroke-opacity=\"1\" stroke-width=\"3.2\"/>\n",
       "<circle clip-path=\"url(#clip932)\" cx=\"1586.43\" cy=\"606.101\" r=\"14\" fill=\"#009af9\" fill-rule=\"evenodd\" fill-opacity=\"1\" stroke=\"#000000\" stroke-opacity=\"1\" stroke-width=\"3.2\"/>\n",
       "<circle clip-path=\"url(#clip932)\" cx=\"1588.48\" cy=\"604.814\" r=\"14\" fill=\"#009af9\" fill-rule=\"evenodd\" fill-opacity=\"1\" stroke=\"#000000\" stroke-opacity=\"1\" stroke-width=\"3.2\"/>\n",
       "<circle clip-path=\"url(#clip932)\" cx=\"1590.52\" cy=\"603.527\" r=\"14\" fill=\"#009af9\" fill-rule=\"evenodd\" fill-opacity=\"1\" stroke=\"#000000\" stroke-opacity=\"1\" stroke-width=\"3.2\"/>\n",
       "<circle clip-path=\"url(#clip932)\" cx=\"1592.56\" cy=\"602.24\" r=\"14\" fill=\"#009af9\" fill-rule=\"evenodd\" fill-opacity=\"1\" stroke=\"#000000\" stroke-opacity=\"1\" stroke-width=\"3.2\"/>\n",
       "<circle clip-path=\"url(#clip932)\" cx=\"1594.61\" cy=\"600.953\" r=\"14\" fill=\"#009af9\" fill-rule=\"evenodd\" fill-opacity=\"1\" stroke=\"#000000\" stroke-opacity=\"1\" stroke-width=\"3.2\"/>\n",
       "<circle clip-path=\"url(#clip932)\" cx=\"1596.65\" cy=\"599.665\" r=\"14\" fill=\"#009af9\" fill-rule=\"evenodd\" fill-opacity=\"1\" stroke=\"#000000\" stroke-opacity=\"1\" stroke-width=\"3.2\"/>\n",
       "<circle clip-path=\"url(#clip932)\" cx=\"1598.7\" cy=\"598.378\" r=\"14\" fill=\"#009af9\" fill-rule=\"evenodd\" fill-opacity=\"1\" stroke=\"#000000\" stroke-opacity=\"1\" stroke-width=\"3.2\"/>\n",
       "<circle clip-path=\"url(#clip932)\" cx=\"1600.74\" cy=\"597.091\" r=\"14\" fill=\"#009af9\" fill-rule=\"evenodd\" fill-opacity=\"1\" stroke=\"#000000\" stroke-opacity=\"1\" stroke-width=\"3.2\"/>\n",
       "<circle clip-path=\"url(#clip932)\" cx=\"1602.78\" cy=\"595.804\" r=\"14\" fill=\"#009af9\" fill-rule=\"evenodd\" fill-opacity=\"1\" stroke=\"#000000\" stroke-opacity=\"1\" stroke-width=\"3.2\"/>\n",
       "<circle clip-path=\"url(#clip932)\" cx=\"1604.83\" cy=\"594.517\" r=\"14\" fill=\"#009af9\" fill-rule=\"evenodd\" fill-opacity=\"1\" stroke=\"#000000\" stroke-opacity=\"1\" stroke-width=\"3.2\"/>\n",
       "<circle clip-path=\"url(#clip932)\" cx=\"1606.87\" cy=\"593.23\" r=\"14\" fill=\"#009af9\" fill-rule=\"evenodd\" fill-opacity=\"1\" stroke=\"#000000\" stroke-opacity=\"1\" stroke-width=\"3.2\"/>\n",
       "<circle clip-path=\"url(#clip932)\" cx=\"1608.91\" cy=\"591.943\" r=\"14\" fill=\"#009af9\" fill-rule=\"evenodd\" fill-opacity=\"1\" stroke=\"#000000\" stroke-opacity=\"1\" stroke-width=\"3.2\"/>\n",
       "<circle clip-path=\"url(#clip932)\" cx=\"1610.96\" cy=\"590.656\" r=\"14\" fill=\"#009af9\" fill-rule=\"evenodd\" fill-opacity=\"1\" stroke=\"#000000\" stroke-opacity=\"1\" stroke-width=\"3.2\"/>\n",
       "<circle clip-path=\"url(#clip932)\" cx=\"1613\" cy=\"589.369\" r=\"14\" fill=\"#009af9\" fill-rule=\"evenodd\" fill-opacity=\"1\" stroke=\"#000000\" stroke-opacity=\"1\" stroke-width=\"3.2\"/>\n",
       "<circle clip-path=\"url(#clip932)\" cx=\"1615.05\" cy=\"588.081\" r=\"14\" fill=\"#009af9\" fill-rule=\"evenodd\" fill-opacity=\"1\" stroke=\"#000000\" stroke-opacity=\"1\" stroke-width=\"3.2\"/>\n",
       "<circle clip-path=\"url(#clip932)\" cx=\"1617.09\" cy=\"586.794\" r=\"14\" fill=\"#009af9\" fill-rule=\"evenodd\" fill-opacity=\"1\" stroke=\"#000000\" stroke-opacity=\"1\" stroke-width=\"3.2\"/>\n",
       "<circle clip-path=\"url(#clip932)\" cx=\"1619.13\" cy=\"585.507\" r=\"14\" fill=\"#009af9\" fill-rule=\"evenodd\" fill-opacity=\"1\" stroke=\"#000000\" stroke-opacity=\"1\" stroke-width=\"3.2\"/>\n",
       "<circle clip-path=\"url(#clip932)\" cx=\"1621.18\" cy=\"584.22\" r=\"14\" fill=\"#009af9\" fill-rule=\"evenodd\" fill-opacity=\"1\" stroke=\"#000000\" stroke-opacity=\"1\" stroke-width=\"3.2\"/>\n",
       "<circle clip-path=\"url(#clip932)\" cx=\"1623.22\" cy=\"582.933\" r=\"14\" fill=\"#009af9\" fill-rule=\"evenodd\" fill-opacity=\"1\" stroke=\"#000000\" stroke-opacity=\"1\" stroke-width=\"3.2\"/>\n",
       "<circle clip-path=\"url(#clip932)\" cx=\"1625.26\" cy=\"581.646\" r=\"14\" fill=\"#009af9\" fill-rule=\"evenodd\" fill-opacity=\"1\" stroke=\"#000000\" stroke-opacity=\"1\" stroke-width=\"3.2\"/>\n",
       "<circle clip-path=\"url(#clip932)\" cx=\"1627.31\" cy=\"580.359\" r=\"14\" fill=\"#009af9\" fill-rule=\"evenodd\" fill-opacity=\"1\" stroke=\"#000000\" stroke-opacity=\"1\" stroke-width=\"3.2\"/>\n",
       "<circle clip-path=\"url(#clip932)\" cx=\"1629.35\" cy=\"579.072\" r=\"14\" fill=\"#009af9\" fill-rule=\"evenodd\" fill-opacity=\"1\" stroke=\"#000000\" stroke-opacity=\"1\" stroke-width=\"3.2\"/>\n",
       "<circle clip-path=\"url(#clip932)\" cx=\"1631.4\" cy=\"577.785\" r=\"14\" fill=\"#009af9\" fill-rule=\"evenodd\" fill-opacity=\"1\" stroke=\"#000000\" stroke-opacity=\"1\" stroke-width=\"3.2\"/>\n",
       "<circle clip-path=\"url(#clip932)\" cx=\"1633.44\" cy=\"576.497\" r=\"14\" fill=\"#009af9\" fill-rule=\"evenodd\" fill-opacity=\"1\" stroke=\"#000000\" stroke-opacity=\"1\" stroke-width=\"3.2\"/>\n",
       "<circle clip-path=\"url(#clip932)\" cx=\"1635.48\" cy=\"575.21\" r=\"14\" fill=\"#009af9\" fill-rule=\"evenodd\" fill-opacity=\"1\" stroke=\"#000000\" stroke-opacity=\"1\" stroke-width=\"3.2\"/>\n",
       "<circle clip-path=\"url(#clip932)\" cx=\"1637.53\" cy=\"573.923\" r=\"14\" fill=\"#009af9\" fill-rule=\"evenodd\" fill-opacity=\"1\" stroke=\"#000000\" stroke-opacity=\"1\" stroke-width=\"3.2\"/>\n",
       "<circle clip-path=\"url(#clip932)\" cx=\"1639.57\" cy=\"572.636\" r=\"14\" fill=\"#009af9\" fill-rule=\"evenodd\" fill-opacity=\"1\" stroke=\"#000000\" stroke-opacity=\"1\" stroke-width=\"3.2\"/>\n",
       "<circle clip-path=\"url(#clip932)\" cx=\"1641.61\" cy=\"571.349\" r=\"14\" fill=\"#009af9\" fill-rule=\"evenodd\" fill-opacity=\"1\" stroke=\"#000000\" stroke-opacity=\"1\" stroke-width=\"3.2\"/>\n",
       "<circle clip-path=\"url(#clip932)\" cx=\"1643.66\" cy=\"570.062\" r=\"14\" fill=\"#009af9\" fill-rule=\"evenodd\" fill-opacity=\"1\" stroke=\"#000000\" stroke-opacity=\"1\" stroke-width=\"3.2\"/>\n",
       "<circle clip-path=\"url(#clip932)\" cx=\"1645.7\" cy=\"568.775\" r=\"14\" fill=\"#009af9\" fill-rule=\"evenodd\" fill-opacity=\"1\" stroke=\"#000000\" stroke-opacity=\"1\" stroke-width=\"3.2\"/>\n",
       "<circle clip-path=\"url(#clip932)\" cx=\"1647.74\" cy=\"567.488\" r=\"14\" fill=\"#009af9\" fill-rule=\"evenodd\" fill-opacity=\"1\" stroke=\"#000000\" stroke-opacity=\"1\" stroke-width=\"3.2\"/>\n",
       "<circle clip-path=\"url(#clip932)\" cx=\"1649.79\" cy=\"566.2\" r=\"14\" fill=\"#009af9\" fill-rule=\"evenodd\" fill-opacity=\"1\" stroke=\"#000000\" stroke-opacity=\"1\" stroke-width=\"3.2\"/>\n",
       "<circle clip-path=\"url(#clip932)\" cx=\"1651.83\" cy=\"564.913\" r=\"14\" fill=\"#009af9\" fill-rule=\"evenodd\" fill-opacity=\"1\" stroke=\"#000000\" stroke-opacity=\"1\" stroke-width=\"3.2\"/>\n",
       "<circle clip-path=\"url(#clip932)\" cx=\"1653.88\" cy=\"563.626\" r=\"14\" fill=\"#009af9\" fill-rule=\"evenodd\" fill-opacity=\"1\" stroke=\"#000000\" stroke-opacity=\"1\" stroke-width=\"3.2\"/>\n",
       "<circle clip-path=\"url(#clip932)\" cx=\"1655.92\" cy=\"562.339\" r=\"14\" fill=\"#009af9\" fill-rule=\"evenodd\" fill-opacity=\"1\" stroke=\"#000000\" stroke-opacity=\"1\" stroke-width=\"3.2\"/>\n",
       "<circle clip-path=\"url(#clip932)\" cx=\"1657.96\" cy=\"561.052\" r=\"14\" fill=\"#009af9\" fill-rule=\"evenodd\" fill-opacity=\"1\" stroke=\"#000000\" stroke-opacity=\"1\" stroke-width=\"3.2\"/>\n",
       "<circle clip-path=\"url(#clip932)\" cx=\"1660.01\" cy=\"559.765\" r=\"14\" fill=\"#009af9\" fill-rule=\"evenodd\" fill-opacity=\"1\" stroke=\"#000000\" stroke-opacity=\"1\" stroke-width=\"3.2\"/>\n",
       "<circle clip-path=\"url(#clip932)\" cx=\"1662.05\" cy=\"558.478\" r=\"14\" fill=\"#009af9\" fill-rule=\"evenodd\" fill-opacity=\"1\" stroke=\"#000000\" stroke-opacity=\"1\" stroke-width=\"3.2\"/>\n",
       "<circle clip-path=\"url(#clip932)\" cx=\"1664.09\" cy=\"557.191\" r=\"14\" fill=\"#009af9\" fill-rule=\"evenodd\" fill-opacity=\"1\" stroke=\"#000000\" stroke-opacity=\"1\" stroke-width=\"3.2\"/>\n",
       "<circle clip-path=\"url(#clip932)\" cx=\"1666.14\" cy=\"555.904\" r=\"14\" fill=\"#009af9\" fill-rule=\"evenodd\" fill-opacity=\"1\" stroke=\"#000000\" stroke-opacity=\"1\" stroke-width=\"3.2\"/>\n",
       "<circle clip-path=\"url(#clip932)\" cx=\"1668.18\" cy=\"554.616\" r=\"14\" fill=\"#009af9\" fill-rule=\"evenodd\" fill-opacity=\"1\" stroke=\"#000000\" stroke-opacity=\"1\" stroke-width=\"3.2\"/>\n",
       "<circle clip-path=\"url(#clip932)\" cx=\"1670.23\" cy=\"553.329\" r=\"14\" fill=\"#009af9\" fill-rule=\"evenodd\" fill-opacity=\"1\" stroke=\"#000000\" stroke-opacity=\"1\" stroke-width=\"3.2\"/>\n",
       "<circle clip-path=\"url(#clip932)\" cx=\"1672.27\" cy=\"552.042\" r=\"14\" fill=\"#009af9\" fill-rule=\"evenodd\" fill-opacity=\"1\" stroke=\"#000000\" stroke-opacity=\"1\" stroke-width=\"3.2\"/>\n",
       "<circle clip-path=\"url(#clip932)\" cx=\"1674.31\" cy=\"550.755\" r=\"14\" fill=\"#009af9\" fill-rule=\"evenodd\" fill-opacity=\"1\" stroke=\"#000000\" stroke-opacity=\"1\" stroke-width=\"3.2\"/>\n",
       "<circle clip-path=\"url(#clip932)\" cx=\"1676.36\" cy=\"549.468\" r=\"14\" fill=\"#009af9\" fill-rule=\"evenodd\" fill-opacity=\"1\" stroke=\"#000000\" stroke-opacity=\"1\" stroke-width=\"3.2\"/>\n",
       "<circle clip-path=\"url(#clip932)\" cx=\"1678.4\" cy=\"548.181\" r=\"14\" fill=\"#009af9\" fill-rule=\"evenodd\" fill-opacity=\"1\" stroke=\"#000000\" stroke-opacity=\"1\" stroke-width=\"3.2\"/>\n",
       "<circle clip-path=\"url(#clip932)\" cx=\"1680.44\" cy=\"546.894\" r=\"14\" fill=\"#009af9\" fill-rule=\"evenodd\" fill-opacity=\"1\" stroke=\"#000000\" stroke-opacity=\"1\" stroke-width=\"3.2\"/>\n",
       "<circle clip-path=\"url(#clip932)\" cx=\"1682.49\" cy=\"545.607\" r=\"14\" fill=\"#009af9\" fill-rule=\"evenodd\" fill-opacity=\"1\" stroke=\"#000000\" stroke-opacity=\"1\" stroke-width=\"3.2\"/>\n",
       "<circle clip-path=\"url(#clip932)\" cx=\"1684.53\" cy=\"544.32\" r=\"14\" fill=\"#009af9\" fill-rule=\"evenodd\" fill-opacity=\"1\" stroke=\"#000000\" stroke-opacity=\"1\" stroke-width=\"3.2\"/>\n",
       "<circle clip-path=\"url(#clip932)\" cx=\"1686.57\" cy=\"543.032\" r=\"14\" fill=\"#009af9\" fill-rule=\"evenodd\" fill-opacity=\"1\" stroke=\"#000000\" stroke-opacity=\"1\" stroke-width=\"3.2\"/>\n",
       "<circle clip-path=\"url(#clip932)\" cx=\"1688.62\" cy=\"541.745\" r=\"14\" fill=\"#009af9\" fill-rule=\"evenodd\" fill-opacity=\"1\" stroke=\"#000000\" stroke-opacity=\"1\" stroke-width=\"3.2\"/>\n",
       "<circle clip-path=\"url(#clip932)\" cx=\"1690.66\" cy=\"540.458\" r=\"14\" fill=\"#009af9\" fill-rule=\"evenodd\" fill-opacity=\"1\" stroke=\"#000000\" stroke-opacity=\"1\" stroke-width=\"3.2\"/>\n",
       "<circle clip-path=\"url(#clip932)\" cx=\"1692.71\" cy=\"539.171\" r=\"14\" fill=\"#009af9\" fill-rule=\"evenodd\" fill-opacity=\"1\" stroke=\"#000000\" stroke-opacity=\"1\" stroke-width=\"3.2\"/>\n",
       "<circle clip-path=\"url(#clip932)\" cx=\"1694.75\" cy=\"537.884\" r=\"14\" fill=\"#009af9\" fill-rule=\"evenodd\" fill-opacity=\"1\" stroke=\"#000000\" stroke-opacity=\"1\" stroke-width=\"3.2\"/>\n",
       "<circle clip-path=\"url(#clip932)\" cx=\"1696.79\" cy=\"536.597\" r=\"14\" fill=\"#009af9\" fill-rule=\"evenodd\" fill-opacity=\"1\" stroke=\"#000000\" stroke-opacity=\"1\" stroke-width=\"3.2\"/>\n",
       "<circle clip-path=\"url(#clip932)\" cx=\"1698.84\" cy=\"535.31\" r=\"14\" fill=\"#009af9\" fill-rule=\"evenodd\" fill-opacity=\"1\" stroke=\"#000000\" stroke-opacity=\"1\" stroke-width=\"3.2\"/>\n",
       "<circle clip-path=\"url(#clip932)\" cx=\"1700.88\" cy=\"534.023\" r=\"14\" fill=\"#009af9\" fill-rule=\"evenodd\" fill-opacity=\"1\" stroke=\"#000000\" stroke-opacity=\"1\" stroke-width=\"3.2\"/>\n",
       "<circle clip-path=\"url(#clip932)\" cx=\"1702.92\" cy=\"532.736\" r=\"14\" fill=\"#009af9\" fill-rule=\"evenodd\" fill-opacity=\"1\" stroke=\"#000000\" stroke-opacity=\"1\" stroke-width=\"3.2\"/>\n",
       "<circle clip-path=\"url(#clip932)\" cx=\"1704.97\" cy=\"531.448\" r=\"14\" fill=\"#009af9\" fill-rule=\"evenodd\" fill-opacity=\"1\" stroke=\"#000000\" stroke-opacity=\"1\" stroke-width=\"3.2\"/>\n",
       "<circle clip-path=\"url(#clip932)\" cx=\"1707.01\" cy=\"530.161\" r=\"14\" fill=\"#009af9\" fill-rule=\"evenodd\" fill-opacity=\"1\" stroke=\"#000000\" stroke-opacity=\"1\" stroke-width=\"3.2\"/>\n",
       "<circle clip-path=\"url(#clip932)\" cx=\"1709.06\" cy=\"528.874\" r=\"14\" fill=\"#009af9\" fill-rule=\"evenodd\" fill-opacity=\"1\" stroke=\"#000000\" stroke-opacity=\"1\" stroke-width=\"3.2\"/>\n",
       "<circle clip-path=\"url(#clip932)\" cx=\"1711.1\" cy=\"527.587\" r=\"14\" fill=\"#009af9\" fill-rule=\"evenodd\" fill-opacity=\"1\" stroke=\"#000000\" stroke-opacity=\"1\" stroke-width=\"3.2\"/>\n",
       "<circle clip-path=\"url(#clip932)\" cx=\"1713.14\" cy=\"526.3\" r=\"14\" fill=\"#009af9\" fill-rule=\"evenodd\" fill-opacity=\"1\" stroke=\"#000000\" stroke-opacity=\"1\" stroke-width=\"3.2\"/>\n",
       "<circle clip-path=\"url(#clip932)\" cx=\"1715.19\" cy=\"525.013\" r=\"14\" fill=\"#009af9\" fill-rule=\"evenodd\" fill-opacity=\"1\" stroke=\"#000000\" stroke-opacity=\"1\" stroke-width=\"3.2\"/>\n",
       "<circle clip-path=\"url(#clip932)\" cx=\"1717.23\" cy=\"523.726\" r=\"14\" fill=\"#009af9\" fill-rule=\"evenodd\" fill-opacity=\"1\" stroke=\"#000000\" stroke-opacity=\"1\" stroke-width=\"3.2\"/>\n",
       "<circle clip-path=\"url(#clip932)\" cx=\"1719.27\" cy=\"522.439\" r=\"14\" fill=\"#009af9\" fill-rule=\"evenodd\" fill-opacity=\"1\" stroke=\"#000000\" stroke-opacity=\"1\" stroke-width=\"3.2\"/>\n",
       "<circle clip-path=\"url(#clip932)\" cx=\"1721.32\" cy=\"521.152\" r=\"14\" fill=\"#009af9\" fill-rule=\"evenodd\" fill-opacity=\"1\" stroke=\"#000000\" stroke-opacity=\"1\" stroke-width=\"3.2\"/>\n",
       "<circle clip-path=\"url(#clip932)\" cx=\"1723.36\" cy=\"519.864\" r=\"14\" fill=\"#009af9\" fill-rule=\"evenodd\" fill-opacity=\"1\" stroke=\"#000000\" stroke-opacity=\"1\" stroke-width=\"3.2\"/>\n",
       "<circle clip-path=\"url(#clip932)\" cx=\"1725.4\" cy=\"518.577\" r=\"14\" fill=\"#009af9\" fill-rule=\"evenodd\" fill-opacity=\"1\" stroke=\"#000000\" stroke-opacity=\"1\" stroke-width=\"3.2\"/>\n",
       "<circle clip-path=\"url(#clip932)\" cx=\"1727.45\" cy=\"517.29\" r=\"14\" fill=\"#009af9\" fill-rule=\"evenodd\" fill-opacity=\"1\" stroke=\"#000000\" stroke-opacity=\"1\" stroke-width=\"3.2\"/>\n",
       "<circle clip-path=\"url(#clip932)\" cx=\"1729.49\" cy=\"516.003\" r=\"14\" fill=\"#009af9\" fill-rule=\"evenodd\" fill-opacity=\"1\" stroke=\"#000000\" stroke-opacity=\"1\" stroke-width=\"3.2\"/>\n",
       "<circle clip-path=\"url(#clip932)\" cx=\"1731.54\" cy=\"514.716\" r=\"14\" fill=\"#009af9\" fill-rule=\"evenodd\" fill-opacity=\"1\" stroke=\"#000000\" stroke-opacity=\"1\" stroke-width=\"3.2\"/>\n",
       "<circle clip-path=\"url(#clip932)\" cx=\"1733.58\" cy=\"513.429\" r=\"14\" fill=\"#009af9\" fill-rule=\"evenodd\" fill-opacity=\"1\" stroke=\"#000000\" stroke-opacity=\"1\" stroke-width=\"3.2\"/>\n",
       "<circle clip-path=\"url(#clip932)\" cx=\"1735.62\" cy=\"512.142\" r=\"14\" fill=\"#009af9\" fill-rule=\"evenodd\" fill-opacity=\"1\" stroke=\"#000000\" stroke-opacity=\"1\" stroke-width=\"3.2\"/>\n",
       "<circle clip-path=\"url(#clip932)\" cx=\"1737.67\" cy=\"510.855\" r=\"14\" fill=\"#009af9\" fill-rule=\"evenodd\" fill-opacity=\"1\" stroke=\"#000000\" stroke-opacity=\"1\" stroke-width=\"3.2\"/>\n",
       "<circle clip-path=\"url(#clip932)\" cx=\"1739.71\" cy=\"509.567\" r=\"14\" fill=\"#009af9\" fill-rule=\"evenodd\" fill-opacity=\"1\" stroke=\"#000000\" stroke-opacity=\"1\" stroke-width=\"3.2\"/>\n",
       "<circle clip-path=\"url(#clip932)\" cx=\"1741.75\" cy=\"508.28\" r=\"14\" fill=\"#009af9\" fill-rule=\"evenodd\" fill-opacity=\"1\" stroke=\"#000000\" stroke-opacity=\"1\" stroke-width=\"3.2\"/>\n",
       "<circle clip-path=\"url(#clip932)\" cx=\"1743.8\" cy=\"506.993\" r=\"14\" fill=\"#009af9\" fill-rule=\"evenodd\" fill-opacity=\"1\" stroke=\"#000000\" stroke-opacity=\"1\" stroke-width=\"3.2\"/>\n",
       "<circle clip-path=\"url(#clip932)\" cx=\"1745.84\" cy=\"505.706\" r=\"14\" fill=\"#009af9\" fill-rule=\"evenodd\" fill-opacity=\"1\" stroke=\"#000000\" stroke-opacity=\"1\" stroke-width=\"3.2\"/>\n",
       "<circle clip-path=\"url(#clip932)\" cx=\"1747.89\" cy=\"504.419\" r=\"14\" fill=\"#009af9\" fill-rule=\"evenodd\" fill-opacity=\"1\" stroke=\"#000000\" stroke-opacity=\"1\" stroke-width=\"3.2\"/>\n",
       "<circle clip-path=\"url(#clip932)\" cx=\"1749.93\" cy=\"503.132\" r=\"14\" fill=\"#009af9\" fill-rule=\"evenodd\" fill-opacity=\"1\" stroke=\"#000000\" stroke-opacity=\"1\" stroke-width=\"3.2\"/>\n",
       "<circle clip-path=\"url(#clip932)\" cx=\"1751.97\" cy=\"501.845\" r=\"14\" fill=\"#009af9\" fill-rule=\"evenodd\" fill-opacity=\"1\" stroke=\"#000000\" stroke-opacity=\"1\" stroke-width=\"3.2\"/>\n",
       "<circle clip-path=\"url(#clip932)\" cx=\"1754.02\" cy=\"500.558\" r=\"14\" fill=\"#009af9\" fill-rule=\"evenodd\" fill-opacity=\"1\" stroke=\"#000000\" stroke-opacity=\"1\" stroke-width=\"3.2\"/>\n",
       "<circle clip-path=\"url(#clip932)\" cx=\"1756.06\" cy=\"499.271\" r=\"14\" fill=\"#009af9\" fill-rule=\"evenodd\" fill-opacity=\"1\" stroke=\"#000000\" stroke-opacity=\"1\" stroke-width=\"3.2\"/>\n",
       "<circle clip-path=\"url(#clip932)\" cx=\"1758.1\" cy=\"497.983\" r=\"14\" fill=\"#009af9\" fill-rule=\"evenodd\" fill-opacity=\"1\" stroke=\"#000000\" stroke-opacity=\"1\" stroke-width=\"3.2\"/>\n",
       "<circle clip-path=\"url(#clip932)\" cx=\"1760.15\" cy=\"496.696\" r=\"14\" fill=\"#009af9\" fill-rule=\"evenodd\" fill-opacity=\"1\" stroke=\"#000000\" stroke-opacity=\"1\" stroke-width=\"3.2\"/>\n",
       "<circle clip-path=\"url(#clip932)\" cx=\"1762.19\" cy=\"495.409\" r=\"14\" fill=\"#009af9\" fill-rule=\"evenodd\" fill-opacity=\"1\" stroke=\"#000000\" stroke-opacity=\"1\" stroke-width=\"3.2\"/>\n",
       "<circle clip-path=\"url(#clip932)\" cx=\"1764.23\" cy=\"494.122\" r=\"14\" fill=\"#009af9\" fill-rule=\"evenodd\" fill-opacity=\"1\" stroke=\"#000000\" stroke-opacity=\"1\" stroke-width=\"3.2\"/>\n",
       "<circle clip-path=\"url(#clip932)\" cx=\"1766.28\" cy=\"492.835\" r=\"14\" fill=\"#009af9\" fill-rule=\"evenodd\" fill-opacity=\"1\" stroke=\"#000000\" stroke-opacity=\"1\" stroke-width=\"3.2\"/>\n",
       "<circle clip-path=\"url(#clip932)\" cx=\"1768.32\" cy=\"491.548\" r=\"14\" fill=\"#009af9\" fill-rule=\"evenodd\" fill-opacity=\"1\" stroke=\"#000000\" stroke-opacity=\"1\" stroke-width=\"3.2\"/>\n",
       "<circle clip-path=\"url(#clip932)\" cx=\"1770.37\" cy=\"490.261\" r=\"14\" fill=\"#009af9\" fill-rule=\"evenodd\" fill-opacity=\"1\" stroke=\"#000000\" stroke-opacity=\"1\" stroke-width=\"3.2\"/>\n",
       "<circle clip-path=\"url(#clip932)\" cx=\"1772.41\" cy=\"488.974\" r=\"14\" fill=\"#009af9\" fill-rule=\"evenodd\" fill-opacity=\"1\" stroke=\"#000000\" stroke-opacity=\"1\" stroke-width=\"3.2\"/>\n",
       "<circle clip-path=\"url(#clip932)\" cx=\"1774.45\" cy=\"487.687\" r=\"14\" fill=\"#009af9\" fill-rule=\"evenodd\" fill-opacity=\"1\" stroke=\"#000000\" stroke-opacity=\"1\" stroke-width=\"3.2\"/>\n",
       "<circle clip-path=\"url(#clip932)\" cx=\"1776.5\" cy=\"486.399\" r=\"14\" fill=\"#009af9\" fill-rule=\"evenodd\" fill-opacity=\"1\" stroke=\"#000000\" stroke-opacity=\"1\" stroke-width=\"3.2\"/>\n",
       "<circle clip-path=\"url(#clip932)\" cx=\"1778.54\" cy=\"485.112\" r=\"14\" fill=\"#009af9\" fill-rule=\"evenodd\" fill-opacity=\"1\" stroke=\"#000000\" stroke-opacity=\"1\" stroke-width=\"3.2\"/>\n",
       "<circle clip-path=\"url(#clip932)\" cx=\"1780.58\" cy=\"483.825\" r=\"14\" fill=\"#009af9\" fill-rule=\"evenodd\" fill-opacity=\"1\" stroke=\"#000000\" stroke-opacity=\"1\" stroke-width=\"3.2\"/>\n",
       "<circle clip-path=\"url(#clip932)\" cx=\"1782.63\" cy=\"482.538\" r=\"14\" fill=\"#009af9\" fill-rule=\"evenodd\" fill-opacity=\"1\" stroke=\"#000000\" stroke-opacity=\"1\" stroke-width=\"3.2\"/>\n",
       "<circle clip-path=\"url(#clip932)\" cx=\"1784.67\" cy=\"481.251\" r=\"14\" fill=\"#009af9\" fill-rule=\"evenodd\" fill-opacity=\"1\" stroke=\"#000000\" stroke-opacity=\"1\" stroke-width=\"3.2\"/>\n",
       "<circle clip-path=\"url(#clip932)\" cx=\"1786.72\" cy=\"479.964\" r=\"14\" fill=\"#009af9\" fill-rule=\"evenodd\" fill-opacity=\"1\" stroke=\"#000000\" stroke-opacity=\"1\" stroke-width=\"3.2\"/>\n",
       "<circle clip-path=\"url(#clip932)\" cx=\"1788.76\" cy=\"478.677\" r=\"14\" fill=\"#009af9\" fill-rule=\"evenodd\" fill-opacity=\"1\" stroke=\"#000000\" stroke-opacity=\"1\" stroke-width=\"3.2\"/>\n",
       "<circle clip-path=\"url(#clip932)\" cx=\"1790.8\" cy=\"477.39\" r=\"14\" fill=\"#009af9\" fill-rule=\"evenodd\" fill-opacity=\"1\" stroke=\"#000000\" stroke-opacity=\"1\" stroke-width=\"3.2\"/>\n",
       "<circle clip-path=\"url(#clip932)\" cx=\"1792.85\" cy=\"476.103\" r=\"14\" fill=\"#009af9\" fill-rule=\"evenodd\" fill-opacity=\"1\" stroke=\"#000000\" stroke-opacity=\"1\" stroke-width=\"3.2\"/>\n",
       "<circle clip-path=\"url(#clip932)\" cx=\"1794.89\" cy=\"474.815\" r=\"14\" fill=\"#009af9\" fill-rule=\"evenodd\" fill-opacity=\"1\" stroke=\"#000000\" stroke-opacity=\"1\" stroke-width=\"3.2\"/>\n",
       "<circle clip-path=\"url(#clip932)\" cx=\"1796.93\" cy=\"473.528\" r=\"14\" fill=\"#009af9\" fill-rule=\"evenodd\" fill-opacity=\"1\" stroke=\"#000000\" stroke-opacity=\"1\" stroke-width=\"3.2\"/>\n",
       "<circle clip-path=\"url(#clip932)\" cx=\"1798.98\" cy=\"472.241\" r=\"14\" fill=\"#009af9\" fill-rule=\"evenodd\" fill-opacity=\"1\" stroke=\"#000000\" stroke-opacity=\"1\" stroke-width=\"3.2\"/>\n",
       "<circle clip-path=\"url(#clip932)\" cx=\"1801.02\" cy=\"470.954\" r=\"14\" fill=\"#009af9\" fill-rule=\"evenodd\" fill-opacity=\"1\" stroke=\"#000000\" stroke-opacity=\"1\" stroke-width=\"3.2\"/>\n",
       "<circle clip-path=\"url(#clip932)\" cx=\"1803.06\" cy=\"469.667\" r=\"14\" fill=\"#009af9\" fill-rule=\"evenodd\" fill-opacity=\"1\" stroke=\"#000000\" stroke-opacity=\"1\" stroke-width=\"3.2\"/>\n",
       "<circle clip-path=\"url(#clip932)\" cx=\"1805.11\" cy=\"468.38\" r=\"14\" fill=\"#009af9\" fill-rule=\"evenodd\" fill-opacity=\"1\" stroke=\"#000000\" stroke-opacity=\"1\" stroke-width=\"3.2\"/>\n",
       "<circle clip-path=\"url(#clip932)\" cx=\"1807.15\" cy=\"467.093\" r=\"14\" fill=\"#009af9\" fill-rule=\"evenodd\" fill-opacity=\"1\" stroke=\"#000000\" stroke-opacity=\"1\" stroke-width=\"3.2\"/>\n",
       "<circle clip-path=\"url(#clip932)\" cx=\"1809.2\" cy=\"465.806\" r=\"14\" fill=\"#009af9\" fill-rule=\"evenodd\" fill-opacity=\"1\" stroke=\"#000000\" stroke-opacity=\"1\" stroke-width=\"3.2\"/>\n",
       "<circle clip-path=\"url(#clip932)\" cx=\"1811.24\" cy=\"464.519\" r=\"14\" fill=\"#009af9\" fill-rule=\"evenodd\" fill-opacity=\"1\" stroke=\"#000000\" stroke-opacity=\"1\" stroke-width=\"3.2\"/>\n",
       "<circle clip-path=\"url(#clip932)\" cx=\"1813.28\" cy=\"463.231\" r=\"14\" fill=\"#009af9\" fill-rule=\"evenodd\" fill-opacity=\"1\" stroke=\"#000000\" stroke-opacity=\"1\" stroke-width=\"3.2\"/>\n",
       "<circle clip-path=\"url(#clip932)\" cx=\"1815.33\" cy=\"461.944\" r=\"14\" fill=\"#009af9\" fill-rule=\"evenodd\" fill-opacity=\"1\" stroke=\"#000000\" stroke-opacity=\"1\" stroke-width=\"3.2\"/>\n",
       "<circle clip-path=\"url(#clip932)\" cx=\"1817.37\" cy=\"460.657\" r=\"14\" fill=\"#009af9\" fill-rule=\"evenodd\" fill-opacity=\"1\" stroke=\"#000000\" stroke-opacity=\"1\" stroke-width=\"3.2\"/>\n",
       "<circle clip-path=\"url(#clip932)\" cx=\"1819.41\" cy=\"459.37\" r=\"14\" fill=\"#009af9\" fill-rule=\"evenodd\" fill-opacity=\"1\" stroke=\"#000000\" stroke-opacity=\"1\" stroke-width=\"3.2\"/>\n",
       "<circle clip-path=\"url(#clip932)\" cx=\"1821.46\" cy=\"458.083\" r=\"14\" fill=\"#009af9\" fill-rule=\"evenodd\" fill-opacity=\"1\" stroke=\"#000000\" stroke-opacity=\"1\" stroke-width=\"3.2\"/>\n",
       "<circle clip-path=\"url(#clip932)\" cx=\"1823.5\" cy=\"456.796\" r=\"14\" fill=\"#009af9\" fill-rule=\"evenodd\" fill-opacity=\"1\" stroke=\"#000000\" stroke-opacity=\"1\" stroke-width=\"3.2\"/>\n",
       "<circle clip-path=\"url(#clip932)\" cx=\"1825.55\" cy=\"455.509\" r=\"14\" fill=\"#009af9\" fill-rule=\"evenodd\" fill-opacity=\"1\" stroke=\"#000000\" stroke-opacity=\"1\" stroke-width=\"3.2\"/>\n",
       "<circle clip-path=\"url(#clip932)\" cx=\"1827.59\" cy=\"454.222\" r=\"14\" fill=\"#009af9\" fill-rule=\"evenodd\" fill-opacity=\"1\" stroke=\"#000000\" stroke-opacity=\"1\" stroke-width=\"3.2\"/>\n",
       "<circle clip-path=\"url(#clip932)\" cx=\"1829.63\" cy=\"452.935\" r=\"14\" fill=\"#009af9\" fill-rule=\"evenodd\" fill-opacity=\"1\" stroke=\"#000000\" stroke-opacity=\"1\" stroke-width=\"3.2\"/>\n",
       "<circle clip-path=\"url(#clip932)\" cx=\"1831.68\" cy=\"451.647\" r=\"14\" fill=\"#009af9\" fill-rule=\"evenodd\" fill-opacity=\"1\" stroke=\"#000000\" stroke-opacity=\"1\" stroke-width=\"3.2\"/>\n",
       "<circle clip-path=\"url(#clip932)\" cx=\"1833.72\" cy=\"450.36\" r=\"14\" fill=\"#009af9\" fill-rule=\"evenodd\" fill-opacity=\"1\" stroke=\"#000000\" stroke-opacity=\"1\" stroke-width=\"3.2\"/>\n",
       "<circle clip-path=\"url(#clip932)\" cx=\"1835.76\" cy=\"449.073\" r=\"14\" fill=\"#009af9\" fill-rule=\"evenodd\" fill-opacity=\"1\" stroke=\"#000000\" stroke-opacity=\"1\" stroke-width=\"3.2\"/>\n",
       "<circle clip-path=\"url(#clip932)\" cx=\"1837.81\" cy=\"447.786\" r=\"14\" fill=\"#009af9\" fill-rule=\"evenodd\" fill-opacity=\"1\" stroke=\"#000000\" stroke-opacity=\"1\" stroke-width=\"3.2\"/>\n",
       "<circle clip-path=\"url(#clip932)\" cx=\"1839.85\" cy=\"446.499\" r=\"14\" fill=\"#009af9\" fill-rule=\"evenodd\" fill-opacity=\"1\" stroke=\"#000000\" stroke-opacity=\"1\" stroke-width=\"3.2\"/>\n",
       "<circle clip-path=\"url(#clip932)\" cx=\"1841.89\" cy=\"445.212\" r=\"14\" fill=\"#009af9\" fill-rule=\"evenodd\" fill-opacity=\"1\" stroke=\"#000000\" stroke-opacity=\"1\" stroke-width=\"3.2\"/>\n",
       "<circle clip-path=\"url(#clip932)\" cx=\"1843.94\" cy=\"443.925\" r=\"14\" fill=\"#009af9\" fill-rule=\"evenodd\" fill-opacity=\"1\" stroke=\"#000000\" stroke-opacity=\"1\" stroke-width=\"3.2\"/>\n",
       "<circle clip-path=\"url(#clip932)\" cx=\"1845.98\" cy=\"442.638\" r=\"14\" fill=\"#009af9\" fill-rule=\"evenodd\" fill-opacity=\"1\" stroke=\"#000000\" stroke-opacity=\"1\" stroke-width=\"3.2\"/>\n",
       "<circle clip-path=\"url(#clip932)\" cx=\"1848.03\" cy=\"441.35\" r=\"14\" fill=\"#009af9\" fill-rule=\"evenodd\" fill-opacity=\"1\" stroke=\"#000000\" stroke-opacity=\"1\" stroke-width=\"3.2\"/>\n",
       "<circle clip-path=\"url(#clip932)\" cx=\"1850.07\" cy=\"440.063\" r=\"14\" fill=\"#009af9\" fill-rule=\"evenodd\" fill-opacity=\"1\" stroke=\"#000000\" stroke-opacity=\"1\" stroke-width=\"3.2\"/>\n",
       "<circle clip-path=\"url(#clip932)\" cx=\"1852.11\" cy=\"438.776\" r=\"14\" fill=\"#009af9\" fill-rule=\"evenodd\" fill-opacity=\"1\" stroke=\"#000000\" stroke-opacity=\"1\" stroke-width=\"3.2\"/>\n",
       "<circle clip-path=\"url(#clip932)\" cx=\"1854.16\" cy=\"437.489\" r=\"14\" fill=\"#009af9\" fill-rule=\"evenodd\" fill-opacity=\"1\" stroke=\"#000000\" stroke-opacity=\"1\" stroke-width=\"3.2\"/>\n",
       "<circle clip-path=\"url(#clip932)\" cx=\"1856.2\" cy=\"436.202\" r=\"14\" fill=\"#009af9\" fill-rule=\"evenodd\" fill-opacity=\"1\" stroke=\"#000000\" stroke-opacity=\"1\" stroke-width=\"3.2\"/>\n",
       "<circle clip-path=\"url(#clip932)\" cx=\"1858.24\" cy=\"434.915\" r=\"14\" fill=\"#009af9\" fill-rule=\"evenodd\" fill-opacity=\"1\" stroke=\"#000000\" stroke-opacity=\"1\" stroke-width=\"3.2\"/>\n",
       "<circle clip-path=\"url(#clip932)\" cx=\"1860.29\" cy=\"433.628\" r=\"14\" fill=\"#009af9\" fill-rule=\"evenodd\" fill-opacity=\"1\" stroke=\"#000000\" stroke-opacity=\"1\" stroke-width=\"3.2\"/>\n",
       "<circle clip-path=\"url(#clip932)\" cx=\"1862.33\" cy=\"432.341\" r=\"14\" fill=\"#009af9\" fill-rule=\"evenodd\" fill-opacity=\"1\" stroke=\"#000000\" stroke-opacity=\"1\" stroke-width=\"3.2\"/>\n",
       "<circle clip-path=\"url(#clip932)\" cx=\"1864.38\" cy=\"431.054\" r=\"14\" fill=\"#009af9\" fill-rule=\"evenodd\" fill-opacity=\"1\" stroke=\"#000000\" stroke-opacity=\"1\" stroke-width=\"3.2\"/>\n",
       "<circle clip-path=\"url(#clip932)\" cx=\"1866.42\" cy=\"429.766\" r=\"14\" fill=\"#009af9\" fill-rule=\"evenodd\" fill-opacity=\"1\" stroke=\"#000000\" stroke-opacity=\"1\" stroke-width=\"3.2\"/>\n",
       "<circle clip-path=\"url(#clip932)\" cx=\"1868.46\" cy=\"428.479\" r=\"14\" fill=\"#009af9\" fill-rule=\"evenodd\" fill-opacity=\"1\" stroke=\"#000000\" stroke-opacity=\"1\" stroke-width=\"3.2\"/>\n",
       "<circle clip-path=\"url(#clip932)\" cx=\"1870.51\" cy=\"427.192\" r=\"14\" fill=\"#009af9\" fill-rule=\"evenodd\" fill-opacity=\"1\" stroke=\"#000000\" stroke-opacity=\"1\" stroke-width=\"3.2\"/>\n",
       "<circle clip-path=\"url(#clip932)\" cx=\"1872.55\" cy=\"425.905\" r=\"14\" fill=\"#009af9\" fill-rule=\"evenodd\" fill-opacity=\"1\" stroke=\"#000000\" stroke-opacity=\"1\" stroke-width=\"3.2\"/>\n",
       "<circle clip-path=\"url(#clip932)\" cx=\"1874.59\" cy=\"424.618\" r=\"14\" fill=\"#009af9\" fill-rule=\"evenodd\" fill-opacity=\"1\" stroke=\"#000000\" stroke-opacity=\"1\" stroke-width=\"3.2\"/>\n",
       "<circle clip-path=\"url(#clip932)\" cx=\"1876.64\" cy=\"423.331\" r=\"14\" fill=\"#009af9\" fill-rule=\"evenodd\" fill-opacity=\"1\" stroke=\"#000000\" stroke-opacity=\"1\" stroke-width=\"3.2\"/>\n",
       "<circle clip-path=\"url(#clip932)\" cx=\"1878.68\" cy=\"422.044\" r=\"14\" fill=\"#009af9\" fill-rule=\"evenodd\" fill-opacity=\"1\" stroke=\"#000000\" stroke-opacity=\"1\" stroke-width=\"3.2\"/>\n",
       "<circle clip-path=\"url(#clip932)\" cx=\"1880.73\" cy=\"420.757\" r=\"14\" fill=\"#009af9\" fill-rule=\"evenodd\" fill-opacity=\"1\" stroke=\"#000000\" stroke-opacity=\"1\" stroke-width=\"3.2\"/>\n",
       "<circle clip-path=\"url(#clip932)\" cx=\"1882.77\" cy=\"419.47\" r=\"14\" fill=\"#009af9\" fill-rule=\"evenodd\" fill-opacity=\"1\" stroke=\"#000000\" stroke-opacity=\"1\" stroke-width=\"3.2\"/>\n",
       "<circle clip-path=\"url(#clip932)\" cx=\"1884.81\" cy=\"418.182\" r=\"14\" fill=\"#009af9\" fill-rule=\"evenodd\" fill-opacity=\"1\" stroke=\"#000000\" stroke-opacity=\"1\" stroke-width=\"3.2\"/>\n",
       "<circle clip-path=\"url(#clip932)\" cx=\"1886.86\" cy=\"416.895\" r=\"14\" fill=\"#009af9\" fill-rule=\"evenodd\" fill-opacity=\"1\" stroke=\"#000000\" stroke-opacity=\"1\" stroke-width=\"3.2\"/>\n",
       "<circle clip-path=\"url(#clip932)\" cx=\"1888.9\" cy=\"415.608\" r=\"14\" fill=\"#009af9\" fill-rule=\"evenodd\" fill-opacity=\"1\" stroke=\"#000000\" stroke-opacity=\"1\" stroke-width=\"3.2\"/>\n",
       "<circle clip-path=\"url(#clip932)\" cx=\"1890.94\" cy=\"414.321\" r=\"14\" fill=\"#009af9\" fill-rule=\"evenodd\" fill-opacity=\"1\" stroke=\"#000000\" stroke-opacity=\"1\" stroke-width=\"3.2\"/>\n",
       "<circle clip-path=\"url(#clip932)\" cx=\"1892.99\" cy=\"413.034\" r=\"14\" fill=\"#009af9\" fill-rule=\"evenodd\" fill-opacity=\"1\" stroke=\"#000000\" stroke-opacity=\"1\" stroke-width=\"3.2\"/>\n",
       "<circle clip-path=\"url(#clip932)\" cx=\"1895.03\" cy=\"411.747\" r=\"14\" fill=\"#009af9\" fill-rule=\"evenodd\" fill-opacity=\"1\" stroke=\"#000000\" stroke-opacity=\"1\" stroke-width=\"3.2\"/>\n",
       "<circle clip-path=\"url(#clip932)\" cx=\"1897.07\" cy=\"410.46\" r=\"14\" fill=\"#009af9\" fill-rule=\"evenodd\" fill-opacity=\"1\" stroke=\"#000000\" stroke-opacity=\"1\" stroke-width=\"3.2\"/>\n",
       "<circle clip-path=\"url(#clip932)\" cx=\"1899.12\" cy=\"409.173\" r=\"14\" fill=\"#009af9\" fill-rule=\"evenodd\" fill-opacity=\"1\" stroke=\"#000000\" stroke-opacity=\"1\" stroke-width=\"3.2\"/>\n",
       "<circle clip-path=\"url(#clip932)\" cx=\"1901.16\" cy=\"407.886\" r=\"14\" fill=\"#009af9\" fill-rule=\"evenodd\" fill-opacity=\"1\" stroke=\"#000000\" stroke-opacity=\"1\" stroke-width=\"3.2\"/>\n",
       "<circle clip-path=\"url(#clip932)\" cx=\"1903.21\" cy=\"406.598\" r=\"14\" fill=\"#009af9\" fill-rule=\"evenodd\" fill-opacity=\"1\" stroke=\"#000000\" stroke-opacity=\"1\" stroke-width=\"3.2\"/>\n",
       "<circle clip-path=\"url(#clip932)\" cx=\"1905.25\" cy=\"405.311\" r=\"14\" fill=\"#009af9\" fill-rule=\"evenodd\" fill-opacity=\"1\" stroke=\"#000000\" stroke-opacity=\"1\" stroke-width=\"3.2\"/>\n",
       "<circle clip-path=\"url(#clip932)\" cx=\"1907.29\" cy=\"404.024\" r=\"14\" fill=\"#009af9\" fill-rule=\"evenodd\" fill-opacity=\"1\" stroke=\"#000000\" stroke-opacity=\"1\" stroke-width=\"3.2\"/>\n",
       "<circle clip-path=\"url(#clip932)\" cx=\"1909.34\" cy=\"402.737\" r=\"14\" fill=\"#009af9\" fill-rule=\"evenodd\" fill-opacity=\"1\" stroke=\"#000000\" stroke-opacity=\"1\" stroke-width=\"3.2\"/>\n",
       "<circle clip-path=\"url(#clip932)\" cx=\"1911.38\" cy=\"401.45\" r=\"14\" fill=\"#009af9\" fill-rule=\"evenodd\" fill-opacity=\"1\" stroke=\"#000000\" stroke-opacity=\"1\" stroke-width=\"3.2\"/>\n",
       "<circle clip-path=\"url(#clip932)\" cx=\"1913.42\" cy=\"400.163\" r=\"14\" fill=\"#009af9\" fill-rule=\"evenodd\" fill-opacity=\"1\" stroke=\"#000000\" stroke-opacity=\"1\" stroke-width=\"3.2\"/>\n",
       "<circle clip-path=\"url(#clip932)\" cx=\"1915.47\" cy=\"398.876\" r=\"14\" fill=\"#009af9\" fill-rule=\"evenodd\" fill-opacity=\"1\" stroke=\"#000000\" stroke-opacity=\"1\" stroke-width=\"3.2\"/>\n",
       "<circle clip-path=\"url(#clip932)\" cx=\"1917.51\" cy=\"397.589\" r=\"14\" fill=\"#009af9\" fill-rule=\"evenodd\" fill-opacity=\"1\" stroke=\"#000000\" stroke-opacity=\"1\" stroke-width=\"3.2\"/>\n",
       "<circle clip-path=\"url(#clip932)\" cx=\"1919.56\" cy=\"396.302\" r=\"14\" fill=\"#009af9\" fill-rule=\"evenodd\" fill-opacity=\"1\" stroke=\"#000000\" stroke-opacity=\"1\" stroke-width=\"3.2\"/>\n",
       "<circle clip-path=\"url(#clip932)\" cx=\"1921.6\" cy=\"395.014\" r=\"14\" fill=\"#009af9\" fill-rule=\"evenodd\" fill-opacity=\"1\" stroke=\"#000000\" stroke-opacity=\"1\" stroke-width=\"3.2\"/>\n",
       "<circle clip-path=\"url(#clip932)\" cx=\"1923.64\" cy=\"393.727\" r=\"14\" fill=\"#009af9\" fill-rule=\"evenodd\" fill-opacity=\"1\" stroke=\"#000000\" stroke-opacity=\"1\" stroke-width=\"3.2\"/>\n",
       "<circle clip-path=\"url(#clip932)\" cx=\"1925.69\" cy=\"392.44\" r=\"14\" fill=\"#009af9\" fill-rule=\"evenodd\" fill-opacity=\"1\" stroke=\"#000000\" stroke-opacity=\"1\" stroke-width=\"3.2\"/>\n",
       "<circle clip-path=\"url(#clip932)\" cx=\"1927.73\" cy=\"391.153\" r=\"14\" fill=\"#009af9\" fill-rule=\"evenodd\" fill-opacity=\"1\" stroke=\"#000000\" stroke-opacity=\"1\" stroke-width=\"3.2\"/>\n",
       "<circle clip-path=\"url(#clip932)\" cx=\"1929.77\" cy=\"389.866\" r=\"14\" fill=\"#009af9\" fill-rule=\"evenodd\" fill-opacity=\"1\" stroke=\"#000000\" stroke-opacity=\"1\" stroke-width=\"3.2\"/>\n",
       "<circle clip-path=\"url(#clip932)\" cx=\"1931.82\" cy=\"388.579\" r=\"14\" fill=\"#009af9\" fill-rule=\"evenodd\" fill-opacity=\"1\" stroke=\"#000000\" stroke-opacity=\"1\" stroke-width=\"3.2\"/>\n",
       "<circle clip-path=\"url(#clip932)\" cx=\"1933.86\" cy=\"387.292\" r=\"14\" fill=\"#009af9\" fill-rule=\"evenodd\" fill-opacity=\"1\" stroke=\"#000000\" stroke-opacity=\"1\" stroke-width=\"3.2\"/>\n",
       "<circle clip-path=\"url(#clip932)\" cx=\"1935.9\" cy=\"386.005\" r=\"14\" fill=\"#009af9\" fill-rule=\"evenodd\" fill-opacity=\"1\" stroke=\"#000000\" stroke-opacity=\"1\" stroke-width=\"3.2\"/>\n",
       "<circle clip-path=\"url(#clip932)\" cx=\"1937.95\" cy=\"384.718\" r=\"14\" fill=\"#009af9\" fill-rule=\"evenodd\" fill-opacity=\"1\" stroke=\"#000000\" stroke-opacity=\"1\" stroke-width=\"3.2\"/>\n",
       "<circle clip-path=\"url(#clip932)\" cx=\"1939.99\" cy=\"383.43\" r=\"14\" fill=\"#009af9\" fill-rule=\"evenodd\" fill-opacity=\"1\" stroke=\"#000000\" stroke-opacity=\"1\" stroke-width=\"3.2\"/>\n",
       "<circle clip-path=\"url(#clip932)\" cx=\"1942.04\" cy=\"382.143\" r=\"14\" fill=\"#009af9\" fill-rule=\"evenodd\" fill-opacity=\"1\" stroke=\"#000000\" stroke-opacity=\"1\" stroke-width=\"3.2\"/>\n",
       "<circle clip-path=\"url(#clip932)\" cx=\"1944.08\" cy=\"380.856\" r=\"14\" fill=\"#009af9\" fill-rule=\"evenodd\" fill-opacity=\"1\" stroke=\"#000000\" stroke-opacity=\"1\" stroke-width=\"3.2\"/>\n",
       "<circle clip-path=\"url(#clip932)\" cx=\"1946.12\" cy=\"379.569\" r=\"14\" fill=\"#009af9\" fill-rule=\"evenodd\" fill-opacity=\"1\" stroke=\"#000000\" stroke-opacity=\"1\" stroke-width=\"3.2\"/>\n",
       "<circle clip-path=\"url(#clip932)\" cx=\"1948.17\" cy=\"378.282\" r=\"14\" fill=\"#009af9\" fill-rule=\"evenodd\" fill-opacity=\"1\" stroke=\"#000000\" stroke-opacity=\"1\" stroke-width=\"3.2\"/>\n",
       "<circle clip-path=\"url(#clip932)\" cx=\"1950.21\" cy=\"376.995\" r=\"14\" fill=\"#009af9\" fill-rule=\"evenodd\" fill-opacity=\"1\" stroke=\"#000000\" stroke-opacity=\"1\" stroke-width=\"3.2\"/>\n",
       "<circle clip-path=\"url(#clip932)\" cx=\"1952.25\" cy=\"375.708\" r=\"14\" fill=\"#009af9\" fill-rule=\"evenodd\" fill-opacity=\"1\" stroke=\"#000000\" stroke-opacity=\"1\" stroke-width=\"3.2\"/>\n",
       "<circle clip-path=\"url(#clip932)\" cx=\"1954.3\" cy=\"374.421\" r=\"14\" fill=\"#009af9\" fill-rule=\"evenodd\" fill-opacity=\"1\" stroke=\"#000000\" stroke-opacity=\"1\" stroke-width=\"3.2\"/>\n",
       "<circle clip-path=\"url(#clip932)\" cx=\"1956.34\" cy=\"373.133\" r=\"14\" fill=\"#009af9\" fill-rule=\"evenodd\" fill-opacity=\"1\" stroke=\"#000000\" stroke-opacity=\"1\" stroke-width=\"3.2\"/>\n",
       "<circle clip-path=\"url(#clip932)\" cx=\"1958.39\" cy=\"371.846\" r=\"14\" fill=\"#009af9\" fill-rule=\"evenodd\" fill-opacity=\"1\" stroke=\"#000000\" stroke-opacity=\"1\" stroke-width=\"3.2\"/>\n",
       "<circle clip-path=\"url(#clip932)\" cx=\"1960.43\" cy=\"370.559\" r=\"14\" fill=\"#009af9\" fill-rule=\"evenodd\" fill-opacity=\"1\" stroke=\"#000000\" stroke-opacity=\"1\" stroke-width=\"3.2\"/>\n",
       "<circle clip-path=\"url(#clip932)\" cx=\"1962.47\" cy=\"369.272\" r=\"14\" fill=\"#009af9\" fill-rule=\"evenodd\" fill-opacity=\"1\" stroke=\"#000000\" stroke-opacity=\"1\" stroke-width=\"3.2\"/>\n",
       "<circle clip-path=\"url(#clip932)\" cx=\"1964.52\" cy=\"367.985\" r=\"14\" fill=\"#009af9\" fill-rule=\"evenodd\" fill-opacity=\"1\" stroke=\"#000000\" stroke-opacity=\"1\" stroke-width=\"3.2\"/>\n",
       "<circle clip-path=\"url(#clip932)\" cx=\"1966.56\" cy=\"366.698\" r=\"14\" fill=\"#009af9\" fill-rule=\"evenodd\" fill-opacity=\"1\" stroke=\"#000000\" stroke-opacity=\"1\" stroke-width=\"3.2\"/>\n",
       "<circle clip-path=\"url(#clip932)\" cx=\"1968.6\" cy=\"365.411\" r=\"14\" fill=\"#009af9\" fill-rule=\"evenodd\" fill-opacity=\"1\" stroke=\"#000000\" stroke-opacity=\"1\" stroke-width=\"3.2\"/>\n",
       "<circle clip-path=\"url(#clip932)\" cx=\"1970.65\" cy=\"364.124\" r=\"14\" fill=\"#009af9\" fill-rule=\"evenodd\" fill-opacity=\"1\" stroke=\"#000000\" stroke-opacity=\"1\" stroke-width=\"3.2\"/>\n",
       "<circle clip-path=\"url(#clip932)\" cx=\"1972.69\" cy=\"362.837\" r=\"14\" fill=\"#009af9\" fill-rule=\"evenodd\" fill-opacity=\"1\" stroke=\"#000000\" stroke-opacity=\"1\" stroke-width=\"3.2\"/>\n",
       "<circle clip-path=\"url(#clip932)\" cx=\"1974.73\" cy=\"361.549\" r=\"14\" fill=\"#009af9\" fill-rule=\"evenodd\" fill-opacity=\"1\" stroke=\"#000000\" stroke-opacity=\"1\" stroke-width=\"3.2\"/>\n",
       "<circle clip-path=\"url(#clip932)\" cx=\"1976.78\" cy=\"360.262\" r=\"14\" fill=\"#009af9\" fill-rule=\"evenodd\" fill-opacity=\"1\" stroke=\"#000000\" stroke-opacity=\"1\" stroke-width=\"3.2\"/>\n",
       "<circle clip-path=\"url(#clip932)\" cx=\"1978.82\" cy=\"358.975\" r=\"14\" fill=\"#009af9\" fill-rule=\"evenodd\" fill-opacity=\"1\" stroke=\"#000000\" stroke-opacity=\"1\" stroke-width=\"3.2\"/>\n",
       "<circle clip-path=\"url(#clip932)\" cx=\"1980.87\" cy=\"357.688\" r=\"14\" fill=\"#009af9\" fill-rule=\"evenodd\" fill-opacity=\"1\" stroke=\"#000000\" stroke-opacity=\"1\" stroke-width=\"3.2\"/>\n",
       "<circle clip-path=\"url(#clip932)\" cx=\"1982.91\" cy=\"356.401\" r=\"14\" fill=\"#009af9\" fill-rule=\"evenodd\" fill-opacity=\"1\" stroke=\"#000000\" stroke-opacity=\"1\" stroke-width=\"3.2\"/>\n",
       "<circle clip-path=\"url(#clip932)\" cx=\"1984.95\" cy=\"355.114\" r=\"14\" fill=\"#009af9\" fill-rule=\"evenodd\" fill-opacity=\"1\" stroke=\"#000000\" stroke-opacity=\"1\" stroke-width=\"3.2\"/>\n",
       "<circle clip-path=\"url(#clip932)\" cx=\"1987\" cy=\"353.827\" r=\"14\" fill=\"#009af9\" fill-rule=\"evenodd\" fill-opacity=\"1\" stroke=\"#000000\" stroke-opacity=\"1\" stroke-width=\"3.2\"/>\n",
       "<circle clip-path=\"url(#clip932)\" cx=\"1989.04\" cy=\"352.54\" r=\"14\" fill=\"#009af9\" fill-rule=\"evenodd\" fill-opacity=\"1\" stroke=\"#000000\" stroke-opacity=\"1\" stroke-width=\"3.2\"/>\n",
       "<circle clip-path=\"url(#clip932)\" cx=\"1991.08\" cy=\"351.253\" r=\"14\" fill=\"#009af9\" fill-rule=\"evenodd\" fill-opacity=\"1\" stroke=\"#000000\" stroke-opacity=\"1\" stroke-width=\"3.2\"/>\n",
       "<circle clip-path=\"url(#clip932)\" cx=\"1993.13\" cy=\"349.965\" r=\"14\" fill=\"#009af9\" fill-rule=\"evenodd\" fill-opacity=\"1\" stroke=\"#000000\" stroke-opacity=\"1\" stroke-width=\"3.2\"/>\n",
       "<circle clip-path=\"url(#clip932)\" cx=\"1995.17\" cy=\"348.678\" r=\"14\" fill=\"#009af9\" fill-rule=\"evenodd\" fill-opacity=\"1\" stroke=\"#000000\" stroke-opacity=\"1\" stroke-width=\"3.2\"/>\n",
       "<circle clip-path=\"url(#clip932)\" cx=\"1997.22\" cy=\"347.391\" r=\"14\" fill=\"#009af9\" fill-rule=\"evenodd\" fill-opacity=\"1\" stroke=\"#000000\" stroke-opacity=\"1\" stroke-width=\"3.2\"/>\n",
       "<circle clip-path=\"url(#clip932)\" cx=\"1999.26\" cy=\"346.104\" r=\"14\" fill=\"#009af9\" fill-rule=\"evenodd\" fill-opacity=\"1\" stroke=\"#000000\" stroke-opacity=\"1\" stroke-width=\"3.2\"/>\n",
       "<circle clip-path=\"url(#clip932)\" cx=\"2001.3\" cy=\"344.817\" r=\"14\" fill=\"#009af9\" fill-rule=\"evenodd\" fill-opacity=\"1\" stroke=\"#000000\" stroke-opacity=\"1\" stroke-width=\"3.2\"/>\n",
       "<circle clip-path=\"url(#clip932)\" cx=\"2003.35\" cy=\"343.53\" r=\"14\" fill=\"#009af9\" fill-rule=\"evenodd\" fill-opacity=\"1\" stroke=\"#000000\" stroke-opacity=\"1\" stroke-width=\"3.2\"/>\n",
       "<circle clip-path=\"url(#clip932)\" cx=\"2005.39\" cy=\"342.243\" r=\"14\" fill=\"#009af9\" fill-rule=\"evenodd\" fill-opacity=\"1\" stroke=\"#000000\" stroke-opacity=\"1\" stroke-width=\"3.2\"/>\n",
       "<circle clip-path=\"url(#clip932)\" cx=\"2007.43\" cy=\"340.956\" r=\"14\" fill=\"#009af9\" fill-rule=\"evenodd\" fill-opacity=\"1\" stroke=\"#000000\" stroke-opacity=\"1\" stroke-width=\"3.2\"/>\n",
       "<circle clip-path=\"url(#clip932)\" cx=\"2009.48\" cy=\"339.669\" r=\"14\" fill=\"#009af9\" fill-rule=\"evenodd\" fill-opacity=\"1\" stroke=\"#000000\" stroke-opacity=\"1\" stroke-width=\"3.2\"/>\n",
       "<circle clip-path=\"url(#clip932)\" cx=\"2011.52\" cy=\"338.381\" r=\"14\" fill=\"#009af9\" fill-rule=\"evenodd\" fill-opacity=\"1\" stroke=\"#000000\" stroke-opacity=\"1\" stroke-width=\"3.2\"/>\n",
       "<circle clip-path=\"url(#clip932)\" cx=\"2013.56\" cy=\"337.094\" r=\"14\" fill=\"#009af9\" fill-rule=\"evenodd\" fill-opacity=\"1\" stroke=\"#000000\" stroke-opacity=\"1\" stroke-width=\"3.2\"/>\n",
       "<circle clip-path=\"url(#clip932)\" cx=\"2015.61\" cy=\"335.807\" r=\"14\" fill=\"#009af9\" fill-rule=\"evenodd\" fill-opacity=\"1\" stroke=\"#000000\" stroke-opacity=\"1\" stroke-width=\"3.2\"/>\n",
       "<circle clip-path=\"url(#clip932)\" cx=\"2017.65\" cy=\"334.52\" r=\"14\" fill=\"#009af9\" fill-rule=\"evenodd\" fill-opacity=\"1\" stroke=\"#000000\" stroke-opacity=\"1\" stroke-width=\"3.2\"/>\n",
       "<circle clip-path=\"url(#clip932)\" cx=\"2019.7\" cy=\"333.233\" r=\"14\" fill=\"#009af9\" fill-rule=\"evenodd\" fill-opacity=\"1\" stroke=\"#000000\" stroke-opacity=\"1\" stroke-width=\"3.2\"/>\n",
       "<circle clip-path=\"url(#clip932)\" cx=\"2021.74\" cy=\"331.946\" r=\"14\" fill=\"#009af9\" fill-rule=\"evenodd\" fill-opacity=\"1\" stroke=\"#000000\" stroke-opacity=\"1\" stroke-width=\"3.2\"/>\n",
       "<circle clip-path=\"url(#clip932)\" cx=\"2023.78\" cy=\"330.659\" r=\"14\" fill=\"#009af9\" fill-rule=\"evenodd\" fill-opacity=\"1\" stroke=\"#000000\" stroke-opacity=\"1\" stroke-width=\"3.2\"/>\n",
       "<circle clip-path=\"url(#clip932)\" cx=\"2025.83\" cy=\"329.372\" r=\"14\" fill=\"#009af9\" fill-rule=\"evenodd\" fill-opacity=\"1\" stroke=\"#000000\" stroke-opacity=\"1\" stroke-width=\"3.2\"/>\n",
       "<circle clip-path=\"url(#clip932)\" cx=\"2027.87\" cy=\"328.085\" r=\"14\" fill=\"#009af9\" fill-rule=\"evenodd\" fill-opacity=\"1\" stroke=\"#000000\" stroke-opacity=\"1\" stroke-width=\"3.2\"/>\n",
       "<circle clip-path=\"url(#clip932)\" cx=\"2029.91\" cy=\"326.797\" r=\"14\" fill=\"#009af9\" fill-rule=\"evenodd\" fill-opacity=\"1\" stroke=\"#000000\" stroke-opacity=\"1\" stroke-width=\"3.2\"/>\n",
       "<circle clip-path=\"url(#clip932)\" cx=\"2031.96\" cy=\"325.51\" r=\"14\" fill=\"#009af9\" fill-rule=\"evenodd\" fill-opacity=\"1\" stroke=\"#000000\" stroke-opacity=\"1\" stroke-width=\"3.2\"/>\n",
       "<circle clip-path=\"url(#clip932)\" cx=\"2034\" cy=\"324.223\" r=\"14\" fill=\"#009af9\" fill-rule=\"evenodd\" fill-opacity=\"1\" stroke=\"#000000\" stroke-opacity=\"1\" stroke-width=\"3.2\"/>\n",
       "<circle clip-path=\"url(#clip932)\" cx=\"2036.05\" cy=\"322.936\" r=\"14\" fill=\"#009af9\" fill-rule=\"evenodd\" fill-opacity=\"1\" stroke=\"#000000\" stroke-opacity=\"1\" stroke-width=\"3.2\"/>\n",
       "<circle clip-path=\"url(#clip932)\" cx=\"2038.09\" cy=\"321.649\" r=\"14\" fill=\"#009af9\" fill-rule=\"evenodd\" fill-opacity=\"1\" stroke=\"#000000\" stroke-opacity=\"1\" stroke-width=\"3.2\"/>\n",
       "<circle clip-path=\"url(#clip932)\" cx=\"2040.13\" cy=\"320.362\" r=\"14\" fill=\"#009af9\" fill-rule=\"evenodd\" fill-opacity=\"1\" stroke=\"#000000\" stroke-opacity=\"1\" stroke-width=\"3.2\"/>\n",
       "<circle clip-path=\"url(#clip932)\" cx=\"2042.18\" cy=\"319.075\" r=\"14\" fill=\"#009af9\" fill-rule=\"evenodd\" fill-opacity=\"1\" stroke=\"#000000\" stroke-opacity=\"1\" stroke-width=\"3.2\"/>\n",
       "<circle clip-path=\"url(#clip932)\" cx=\"2044.22\" cy=\"317.788\" r=\"14\" fill=\"#009af9\" fill-rule=\"evenodd\" fill-opacity=\"1\" stroke=\"#000000\" stroke-opacity=\"1\" stroke-width=\"3.2\"/>\n",
       "<circle clip-path=\"url(#clip932)\" cx=\"2046.26\" cy=\"316.501\" r=\"14\" fill=\"#009af9\" fill-rule=\"evenodd\" fill-opacity=\"1\" stroke=\"#000000\" stroke-opacity=\"1\" stroke-width=\"3.2\"/>\n",
       "<circle clip-path=\"url(#clip932)\" cx=\"2048.31\" cy=\"315.213\" r=\"14\" fill=\"#009af9\" fill-rule=\"evenodd\" fill-opacity=\"1\" stroke=\"#000000\" stroke-opacity=\"1\" stroke-width=\"3.2\"/>\n",
       "<circle clip-path=\"url(#clip932)\" cx=\"2050.35\" cy=\"313.926\" r=\"14\" fill=\"#009af9\" fill-rule=\"evenodd\" fill-opacity=\"1\" stroke=\"#000000\" stroke-opacity=\"1\" stroke-width=\"3.2\"/>\n",
       "<circle clip-path=\"url(#clip932)\" cx=\"2052.39\" cy=\"312.639\" r=\"14\" fill=\"#009af9\" fill-rule=\"evenodd\" fill-opacity=\"1\" stroke=\"#000000\" stroke-opacity=\"1\" stroke-width=\"3.2\"/>\n",
       "<circle clip-path=\"url(#clip932)\" cx=\"2054.44\" cy=\"311.352\" r=\"14\" fill=\"#009af9\" fill-rule=\"evenodd\" fill-opacity=\"1\" stroke=\"#000000\" stroke-opacity=\"1\" stroke-width=\"3.2\"/>\n",
       "<circle clip-path=\"url(#clip932)\" cx=\"2056.48\" cy=\"310.065\" r=\"14\" fill=\"#009af9\" fill-rule=\"evenodd\" fill-opacity=\"1\" stroke=\"#000000\" stroke-opacity=\"1\" stroke-width=\"3.2\"/>\n",
       "<circle clip-path=\"url(#clip932)\" cx=\"2058.53\" cy=\"308.778\" r=\"14\" fill=\"#009af9\" fill-rule=\"evenodd\" fill-opacity=\"1\" stroke=\"#000000\" stroke-opacity=\"1\" stroke-width=\"3.2\"/>\n",
       "<circle clip-path=\"url(#clip932)\" cx=\"2060.57\" cy=\"307.491\" r=\"14\" fill=\"#009af9\" fill-rule=\"evenodd\" fill-opacity=\"1\" stroke=\"#000000\" stroke-opacity=\"1\" stroke-width=\"3.2\"/>\n",
       "<circle clip-path=\"url(#clip932)\" cx=\"2062.61\" cy=\"306.204\" r=\"14\" fill=\"#009af9\" fill-rule=\"evenodd\" fill-opacity=\"1\" stroke=\"#000000\" stroke-opacity=\"1\" stroke-width=\"3.2\"/>\n",
       "<circle clip-path=\"url(#clip932)\" cx=\"2064.66\" cy=\"304.916\" r=\"14\" fill=\"#009af9\" fill-rule=\"evenodd\" fill-opacity=\"1\" stroke=\"#000000\" stroke-opacity=\"1\" stroke-width=\"3.2\"/>\n",
       "<circle clip-path=\"url(#clip932)\" cx=\"2066.7\" cy=\"303.629\" r=\"14\" fill=\"#009af9\" fill-rule=\"evenodd\" fill-opacity=\"1\" stroke=\"#000000\" stroke-opacity=\"1\" stroke-width=\"3.2\"/>\n",
       "<circle clip-path=\"url(#clip932)\" cx=\"2068.74\" cy=\"302.342\" r=\"14\" fill=\"#009af9\" fill-rule=\"evenodd\" fill-opacity=\"1\" stroke=\"#000000\" stroke-opacity=\"1\" stroke-width=\"3.2\"/>\n",
       "<circle clip-path=\"url(#clip932)\" cx=\"2070.79\" cy=\"301.055\" r=\"14\" fill=\"#009af9\" fill-rule=\"evenodd\" fill-opacity=\"1\" stroke=\"#000000\" stroke-opacity=\"1\" stroke-width=\"3.2\"/>\n",
       "<circle clip-path=\"url(#clip932)\" cx=\"2072.83\" cy=\"299.768\" r=\"14\" fill=\"#009af9\" fill-rule=\"evenodd\" fill-opacity=\"1\" stroke=\"#000000\" stroke-opacity=\"1\" stroke-width=\"3.2\"/>\n",
       "<circle clip-path=\"url(#clip932)\" cx=\"2074.88\" cy=\"298.481\" r=\"14\" fill=\"#009af9\" fill-rule=\"evenodd\" fill-opacity=\"1\" stroke=\"#000000\" stroke-opacity=\"1\" stroke-width=\"3.2\"/>\n",
       "<circle clip-path=\"url(#clip932)\" cx=\"2076.92\" cy=\"297.194\" r=\"14\" fill=\"#009af9\" fill-rule=\"evenodd\" fill-opacity=\"1\" stroke=\"#000000\" stroke-opacity=\"1\" stroke-width=\"3.2\"/>\n",
       "<circle clip-path=\"url(#clip932)\" cx=\"2078.96\" cy=\"295.907\" r=\"14\" fill=\"#009af9\" fill-rule=\"evenodd\" fill-opacity=\"1\" stroke=\"#000000\" stroke-opacity=\"1\" stroke-width=\"3.2\"/>\n",
       "<circle clip-path=\"url(#clip932)\" cx=\"2081.01\" cy=\"294.62\" r=\"14\" fill=\"#009af9\" fill-rule=\"evenodd\" fill-opacity=\"1\" stroke=\"#000000\" stroke-opacity=\"1\" stroke-width=\"3.2\"/>\n",
       "<circle clip-path=\"url(#clip932)\" cx=\"2083.05\" cy=\"293.332\" r=\"14\" fill=\"#009af9\" fill-rule=\"evenodd\" fill-opacity=\"1\" stroke=\"#000000\" stroke-opacity=\"1\" stroke-width=\"3.2\"/>\n",
       "<circle clip-path=\"url(#clip932)\" cx=\"2085.09\" cy=\"292.045\" r=\"14\" fill=\"#009af9\" fill-rule=\"evenodd\" fill-opacity=\"1\" stroke=\"#000000\" stroke-opacity=\"1\" stroke-width=\"3.2\"/>\n",
       "<circle clip-path=\"url(#clip932)\" cx=\"2087.14\" cy=\"290.758\" r=\"14\" fill=\"#009af9\" fill-rule=\"evenodd\" fill-opacity=\"1\" stroke=\"#000000\" stroke-opacity=\"1\" stroke-width=\"3.2\"/>\n",
       "<circle clip-path=\"url(#clip932)\" cx=\"2089.18\" cy=\"289.471\" r=\"14\" fill=\"#009af9\" fill-rule=\"evenodd\" fill-opacity=\"1\" stroke=\"#000000\" stroke-opacity=\"1\" stroke-width=\"3.2\"/>\n",
       "<circle clip-path=\"url(#clip932)\" cx=\"2091.23\" cy=\"288.184\" r=\"14\" fill=\"#009af9\" fill-rule=\"evenodd\" fill-opacity=\"1\" stroke=\"#000000\" stroke-opacity=\"1\" stroke-width=\"3.2\"/>\n",
       "<circle clip-path=\"url(#clip932)\" cx=\"2093.27\" cy=\"286.897\" r=\"14\" fill=\"#009af9\" fill-rule=\"evenodd\" fill-opacity=\"1\" stroke=\"#000000\" stroke-opacity=\"1\" stroke-width=\"3.2\"/>\n",
       "<circle clip-path=\"url(#clip932)\" cx=\"2095.31\" cy=\"285.61\" r=\"14\" fill=\"#009af9\" fill-rule=\"evenodd\" fill-opacity=\"1\" stroke=\"#000000\" stroke-opacity=\"1\" stroke-width=\"3.2\"/>\n",
       "<circle clip-path=\"url(#clip932)\" cx=\"2097.36\" cy=\"284.323\" r=\"14\" fill=\"#009af9\" fill-rule=\"evenodd\" fill-opacity=\"1\" stroke=\"#000000\" stroke-opacity=\"1\" stroke-width=\"3.2\"/>\n",
       "<circle clip-path=\"url(#clip932)\" cx=\"2099.4\" cy=\"283.036\" r=\"14\" fill=\"#009af9\" fill-rule=\"evenodd\" fill-opacity=\"1\" stroke=\"#000000\" stroke-opacity=\"1\" stroke-width=\"3.2\"/>\n",
       "<circle clip-path=\"url(#clip932)\" cx=\"2101.44\" cy=\"281.748\" r=\"14\" fill=\"#009af9\" fill-rule=\"evenodd\" fill-opacity=\"1\" stroke=\"#000000\" stroke-opacity=\"1\" stroke-width=\"3.2\"/>\n",
       "<circle clip-path=\"url(#clip932)\" cx=\"2103.49\" cy=\"280.461\" r=\"14\" fill=\"#009af9\" fill-rule=\"evenodd\" fill-opacity=\"1\" stroke=\"#000000\" stroke-opacity=\"1\" stroke-width=\"3.2\"/>\n",
       "<circle clip-path=\"url(#clip932)\" cx=\"2105.53\" cy=\"279.174\" r=\"14\" fill=\"#009af9\" fill-rule=\"evenodd\" fill-opacity=\"1\" stroke=\"#000000\" stroke-opacity=\"1\" stroke-width=\"3.2\"/>\n",
       "<circle clip-path=\"url(#clip932)\" cx=\"2107.57\" cy=\"277.887\" r=\"14\" fill=\"#009af9\" fill-rule=\"evenodd\" fill-opacity=\"1\" stroke=\"#000000\" stroke-opacity=\"1\" stroke-width=\"3.2\"/>\n",
       "<circle clip-path=\"url(#clip932)\" cx=\"2109.62\" cy=\"276.6\" r=\"14\" fill=\"#009af9\" fill-rule=\"evenodd\" fill-opacity=\"1\" stroke=\"#000000\" stroke-opacity=\"1\" stroke-width=\"3.2\"/>\n",
       "<circle clip-path=\"url(#clip932)\" cx=\"2111.66\" cy=\"275.313\" r=\"14\" fill=\"#009af9\" fill-rule=\"evenodd\" fill-opacity=\"1\" stroke=\"#000000\" stroke-opacity=\"1\" stroke-width=\"3.2\"/>\n",
       "<circle clip-path=\"url(#clip932)\" cx=\"2113.71\" cy=\"274.026\" r=\"14\" fill=\"#009af9\" fill-rule=\"evenodd\" fill-opacity=\"1\" stroke=\"#000000\" stroke-opacity=\"1\" stroke-width=\"3.2\"/>\n",
       "<circle clip-path=\"url(#clip932)\" cx=\"2115.75\" cy=\"272.739\" r=\"14\" fill=\"#009af9\" fill-rule=\"evenodd\" fill-opacity=\"1\" stroke=\"#000000\" stroke-opacity=\"1\" stroke-width=\"3.2\"/>\n",
       "<circle clip-path=\"url(#clip932)\" cx=\"2117.79\" cy=\"271.452\" r=\"14\" fill=\"#009af9\" fill-rule=\"evenodd\" fill-opacity=\"1\" stroke=\"#000000\" stroke-opacity=\"1\" stroke-width=\"3.2\"/>\n",
       "<circle clip-path=\"url(#clip932)\" cx=\"2119.84\" cy=\"270.164\" r=\"14\" fill=\"#009af9\" fill-rule=\"evenodd\" fill-opacity=\"1\" stroke=\"#000000\" stroke-opacity=\"1\" stroke-width=\"3.2\"/>\n",
       "<circle clip-path=\"url(#clip932)\" cx=\"2121.88\" cy=\"268.877\" r=\"14\" fill=\"#009af9\" fill-rule=\"evenodd\" fill-opacity=\"1\" stroke=\"#000000\" stroke-opacity=\"1\" stroke-width=\"3.2\"/>\n",
       "<circle clip-path=\"url(#clip932)\" cx=\"2123.92\" cy=\"267.59\" r=\"14\" fill=\"#009af9\" fill-rule=\"evenodd\" fill-opacity=\"1\" stroke=\"#000000\" stroke-opacity=\"1\" stroke-width=\"3.2\"/>\n",
       "<circle clip-path=\"url(#clip932)\" cx=\"2125.97\" cy=\"266.303\" r=\"14\" fill=\"#009af9\" fill-rule=\"evenodd\" fill-opacity=\"1\" stroke=\"#000000\" stroke-opacity=\"1\" stroke-width=\"3.2\"/>\n",
       "<circle clip-path=\"url(#clip932)\" cx=\"2128.01\" cy=\"265.016\" r=\"14\" fill=\"#009af9\" fill-rule=\"evenodd\" fill-opacity=\"1\" stroke=\"#000000\" stroke-opacity=\"1\" stroke-width=\"3.2\"/>\n",
       "<circle clip-path=\"url(#clip932)\" cx=\"2130.06\" cy=\"263.729\" r=\"14\" fill=\"#009af9\" fill-rule=\"evenodd\" fill-opacity=\"1\" stroke=\"#000000\" stroke-opacity=\"1\" stroke-width=\"3.2\"/>\n",
       "<circle clip-path=\"url(#clip932)\" cx=\"2132.1\" cy=\"262.442\" r=\"14\" fill=\"#009af9\" fill-rule=\"evenodd\" fill-opacity=\"1\" stroke=\"#000000\" stroke-opacity=\"1\" stroke-width=\"3.2\"/>\n",
       "<circle clip-path=\"url(#clip932)\" cx=\"2134.14\" cy=\"261.155\" r=\"14\" fill=\"#009af9\" fill-rule=\"evenodd\" fill-opacity=\"1\" stroke=\"#000000\" stroke-opacity=\"1\" stroke-width=\"3.2\"/>\n",
       "<circle clip-path=\"url(#clip932)\" cx=\"2136.19\" cy=\"259.868\" r=\"14\" fill=\"#009af9\" fill-rule=\"evenodd\" fill-opacity=\"1\" stroke=\"#000000\" stroke-opacity=\"1\" stroke-width=\"3.2\"/>\n",
       "<circle clip-path=\"url(#clip932)\" cx=\"2138.23\" cy=\"258.58\" r=\"14\" fill=\"#009af9\" fill-rule=\"evenodd\" fill-opacity=\"1\" stroke=\"#000000\" stroke-opacity=\"1\" stroke-width=\"3.2\"/>\n",
       "<circle clip-path=\"url(#clip932)\" cx=\"2140.27\" cy=\"257.293\" r=\"14\" fill=\"#009af9\" fill-rule=\"evenodd\" fill-opacity=\"1\" stroke=\"#000000\" stroke-opacity=\"1\" stroke-width=\"3.2\"/>\n",
       "<circle clip-path=\"url(#clip932)\" cx=\"2142.32\" cy=\"256.006\" r=\"14\" fill=\"#009af9\" fill-rule=\"evenodd\" fill-opacity=\"1\" stroke=\"#000000\" stroke-opacity=\"1\" stroke-width=\"3.2\"/>\n",
       "<circle clip-path=\"url(#clip932)\" cx=\"2144.36\" cy=\"254.719\" r=\"14\" fill=\"#009af9\" fill-rule=\"evenodd\" fill-opacity=\"1\" stroke=\"#000000\" stroke-opacity=\"1\" stroke-width=\"3.2\"/>\n",
       "<circle clip-path=\"url(#clip932)\" cx=\"2146.4\" cy=\"253.432\" r=\"14\" fill=\"#009af9\" fill-rule=\"evenodd\" fill-opacity=\"1\" stroke=\"#000000\" stroke-opacity=\"1\" stroke-width=\"3.2\"/>\n",
       "<circle clip-path=\"url(#clip932)\" cx=\"2148.45\" cy=\"252.145\" r=\"14\" fill=\"#009af9\" fill-rule=\"evenodd\" fill-opacity=\"1\" stroke=\"#000000\" stroke-opacity=\"1\" stroke-width=\"3.2\"/>\n",
       "<circle clip-path=\"url(#clip932)\" cx=\"2150.49\" cy=\"250.858\" r=\"14\" fill=\"#009af9\" fill-rule=\"evenodd\" fill-opacity=\"1\" stroke=\"#000000\" stroke-opacity=\"1\" stroke-width=\"3.2\"/>\n",
       "<circle clip-path=\"url(#clip932)\" cx=\"2152.54\" cy=\"249.571\" r=\"14\" fill=\"#009af9\" fill-rule=\"evenodd\" fill-opacity=\"1\" stroke=\"#000000\" stroke-opacity=\"1\" stroke-width=\"3.2\"/>\n",
       "<circle clip-path=\"url(#clip932)\" cx=\"2154.58\" cy=\"248.284\" r=\"14\" fill=\"#009af9\" fill-rule=\"evenodd\" fill-opacity=\"1\" stroke=\"#000000\" stroke-opacity=\"1\" stroke-width=\"3.2\"/>\n",
       "<circle clip-path=\"url(#clip932)\" cx=\"2156.62\" cy=\"246.996\" r=\"14\" fill=\"#009af9\" fill-rule=\"evenodd\" fill-opacity=\"1\" stroke=\"#000000\" stroke-opacity=\"1\" stroke-width=\"3.2\"/>\n",
       "<circle clip-path=\"url(#clip932)\" cx=\"2158.67\" cy=\"245.709\" r=\"14\" fill=\"#009af9\" fill-rule=\"evenodd\" fill-opacity=\"1\" stroke=\"#000000\" stroke-opacity=\"1\" stroke-width=\"3.2\"/>\n",
       "<circle clip-path=\"url(#clip932)\" cx=\"2160.71\" cy=\"244.422\" r=\"14\" fill=\"#009af9\" fill-rule=\"evenodd\" fill-opacity=\"1\" stroke=\"#000000\" stroke-opacity=\"1\" stroke-width=\"3.2\"/>\n",
       "<circle clip-path=\"url(#clip932)\" cx=\"2162.75\" cy=\"243.135\" r=\"14\" fill=\"#009af9\" fill-rule=\"evenodd\" fill-opacity=\"1\" stroke=\"#000000\" stroke-opacity=\"1\" stroke-width=\"3.2\"/>\n",
       "<circle clip-path=\"url(#clip932)\" cx=\"2164.8\" cy=\"241.848\" r=\"14\" fill=\"#009af9\" fill-rule=\"evenodd\" fill-opacity=\"1\" stroke=\"#000000\" stroke-opacity=\"1\" stroke-width=\"3.2\"/>\n",
       "<circle clip-path=\"url(#clip932)\" cx=\"2166.84\" cy=\"240.561\" r=\"14\" fill=\"#009af9\" fill-rule=\"evenodd\" fill-opacity=\"1\" stroke=\"#000000\" stroke-opacity=\"1\" stroke-width=\"3.2\"/>\n",
       "<circle clip-path=\"url(#clip932)\" cx=\"2168.89\" cy=\"239.274\" r=\"14\" fill=\"#009af9\" fill-rule=\"evenodd\" fill-opacity=\"1\" stroke=\"#000000\" stroke-opacity=\"1\" stroke-width=\"3.2\"/>\n",
       "<circle clip-path=\"url(#clip932)\" cx=\"2170.93\" cy=\"237.987\" r=\"14\" fill=\"#009af9\" fill-rule=\"evenodd\" fill-opacity=\"1\" stroke=\"#000000\" stroke-opacity=\"1\" stroke-width=\"3.2\"/>\n",
       "<circle clip-path=\"url(#clip932)\" cx=\"2172.97\" cy=\"236.699\" r=\"14\" fill=\"#009af9\" fill-rule=\"evenodd\" fill-opacity=\"1\" stroke=\"#000000\" stroke-opacity=\"1\" stroke-width=\"3.2\"/>\n",
       "<circle clip-path=\"url(#clip932)\" cx=\"2175.02\" cy=\"235.412\" r=\"14\" fill=\"#009af9\" fill-rule=\"evenodd\" fill-opacity=\"1\" stroke=\"#000000\" stroke-opacity=\"1\" stroke-width=\"3.2\"/>\n",
       "<circle clip-path=\"url(#clip932)\" cx=\"2177.06\" cy=\"234.125\" r=\"14\" fill=\"#009af9\" fill-rule=\"evenodd\" fill-opacity=\"1\" stroke=\"#000000\" stroke-opacity=\"1\" stroke-width=\"3.2\"/>\n",
       "<circle clip-path=\"url(#clip932)\" cx=\"2179.1\" cy=\"232.838\" r=\"14\" fill=\"#009af9\" fill-rule=\"evenodd\" fill-opacity=\"1\" stroke=\"#000000\" stroke-opacity=\"1\" stroke-width=\"3.2\"/>\n",
       "<circle clip-path=\"url(#clip932)\" cx=\"2181.15\" cy=\"231.551\" r=\"14\" fill=\"#009af9\" fill-rule=\"evenodd\" fill-opacity=\"1\" stroke=\"#000000\" stroke-opacity=\"1\" stroke-width=\"3.2\"/>\n",
       "<circle clip-path=\"url(#clip932)\" cx=\"2183.19\" cy=\"230.264\" r=\"14\" fill=\"#009af9\" fill-rule=\"evenodd\" fill-opacity=\"1\" stroke=\"#000000\" stroke-opacity=\"1\" stroke-width=\"3.2\"/>\n",
       "<circle clip-path=\"url(#clip932)\" cx=\"2185.23\" cy=\"228.977\" r=\"14\" fill=\"#009af9\" fill-rule=\"evenodd\" fill-opacity=\"1\" stroke=\"#000000\" stroke-opacity=\"1\" stroke-width=\"3.2\"/>\n",
       "<circle clip-path=\"url(#clip932)\" cx=\"2187.28\" cy=\"227.69\" r=\"14\" fill=\"#009af9\" fill-rule=\"evenodd\" fill-opacity=\"1\" stroke=\"#000000\" stroke-opacity=\"1\" stroke-width=\"3.2\"/>\n",
       "<circle clip-path=\"url(#clip932)\" cx=\"2189.32\" cy=\"226.403\" r=\"14\" fill=\"#009af9\" fill-rule=\"evenodd\" fill-opacity=\"1\" stroke=\"#000000\" stroke-opacity=\"1\" stroke-width=\"3.2\"/>\n",
       "<circle clip-path=\"url(#clip932)\" cx=\"2191.37\" cy=\"225.115\" r=\"14\" fill=\"#009af9\" fill-rule=\"evenodd\" fill-opacity=\"1\" stroke=\"#000000\" stroke-opacity=\"1\" stroke-width=\"3.2\"/>\n",
       "<circle clip-path=\"url(#clip932)\" cx=\"2193.41\" cy=\"223.828\" r=\"14\" fill=\"#009af9\" fill-rule=\"evenodd\" fill-opacity=\"1\" stroke=\"#000000\" stroke-opacity=\"1\" stroke-width=\"3.2\"/>\n",
       "<circle clip-path=\"url(#clip932)\" cx=\"2195.45\" cy=\"222.541\" r=\"14\" fill=\"#009af9\" fill-rule=\"evenodd\" fill-opacity=\"1\" stroke=\"#000000\" stroke-opacity=\"1\" stroke-width=\"3.2\"/>\n",
       "<circle clip-path=\"url(#clip932)\" cx=\"2197.5\" cy=\"221.254\" r=\"14\" fill=\"#009af9\" fill-rule=\"evenodd\" fill-opacity=\"1\" stroke=\"#000000\" stroke-opacity=\"1\" stroke-width=\"3.2\"/>\n",
       "<circle clip-path=\"url(#clip932)\" cx=\"2199.54\" cy=\"219.967\" r=\"14\" fill=\"#009af9\" fill-rule=\"evenodd\" fill-opacity=\"1\" stroke=\"#000000\" stroke-opacity=\"1\" stroke-width=\"3.2\"/>\n",
       "<circle clip-path=\"url(#clip932)\" cx=\"2201.58\" cy=\"218.68\" r=\"14\" fill=\"#009af9\" fill-rule=\"evenodd\" fill-opacity=\"1\" stroke=\"#000000\" stroke-opacity=\"1\" stroke-width=\"3.2\"/>\n",
       "<circle clip-path=\"url(#clip932)\" cx=\"2203.63\" cy=\"217.393\" r=\"14\" fill=\"#009af9\" fill-rule=\"evenodd\" fill-opacity=\"1\" stroke=\"#000000\" stroke-opacity=\"1\" stroke-width=\"3.2\"/>\n",
       "<circle clip-path=\"url(#clip932)\" cx=\"2205.67\" cy=\"216.106\" r=\"14\" fill=\"#009af9\" fill-rule=\"evenodd\" fill-opacity=\"1\" stroke=\"#000000\" stroke-opacity=\"1\" stroke-width=\"3.2\"/>\n",
       "<circle clip-path=\"url(#clip932)\" cx=\"2207.72\" cy=\"214.819\" r=\"14\" fill=\"#009af9\" fill-rule=\"evenodd\" fill-opacity=\"1\" stroke=\"#000000\" stroke-opacity=\"1\" stroke-width=\"3.2\"/>\n",
       "<circle clip-path=\"url(#clip932)\" cx=\"2209.76\" cy=\"213.531\" r=\"14\" fill=\"#009af9\" fill-rule=\"evenodd\" fill-opacity=\"1\" stroke=\"#000000\" stroke-opacity=\"1\" stroke-width=\"3.2\"/>\n",
       "<circle clip-path=\"url(#clip932)\" cx=\"2211.8\" cy=\"212.244\" r=\"14\" fill=\"#009af9\" fill-rule=\"evenodd\" fill-opacity=\"1\" stroke=\"#000000\" stroke-opacity=\"1\" stroke-width=\"3.2\"/>\n",
       "<circle clip-path=\"url(#clip932)\" cx=\"2213.85\" cy=\"210.957\" r=\"14\" fill=\"#009af9\" fill-rule=\"evenodd\" fill-opacity=\"1\" stroke=\"#000000\" stroke-opacity=\"1\" stroke-width=\"3.2\"/>\n",
       "<circle clip-path=\"url(#clip932)\" cx=\"2215.89\" cy=\"209.67\" r=\"14\" fill=\"#009af9\" fill-rule=\"evenodd\" fill-opacity=\"1\" stroke=\"#000000\" stroke-opacity=\"1\" stroke-width=\"3.2\"/>\n",
       "<circle clip-path=\"url(#clip932)\" cx=\"2217.93\" cy=\"208.383\" r=\"14\" fill=\"#009af9\" fill-rule=\"evenodd\" fill-opacity=\"1\" stroke=\"#000000\" stroke-opacity=\"1\" stroke-width=\"3.2\"/>\n",
       "<circle clip-path=\"url(#clip932)\" cx=\"2219.98\" cy=\"207.096\" r=\"14\" fill=\"#009af9\" fill-rule=\"evenodd\" fill-opacity=\"1\" stroke=\"#000000\" stroke-opacity=\"1\" stroke-width=\"3.2\"/>\n",
       "<circle clip-path=\"url(#clip932)\" cx=\"2222.02\" cy=\"205.809\" r=\"14\" fill=\"#009af9\" fill-rule=\"evenodd\" fill-opacity=\"1\" stroke=\"#000000\" stroke-opacity=\"1\" stroke-width=\"3.2\"/>\n",
       "<circle clip-path=\"url(#clip932)\" cx=\"2224.06\" cy=\"204.522\" r=\"14\" fill=\"#009af9\" fill-rule=\"evenodd\" fill-opacity=\"1\" stroke=\"#000000\" stroke-opacity=\"1\" stroke-width=\"3.2\"/>\n",
       "<circle clip-path=\"url(#clip932)\" cx=\"2226.11\" cy=\"203.235\" r=\"14\" fill=\"#009af9\" fill-rule=\"evenodd\" fill-opacity=\"1\" stroke=\"#000000\" stroke-opacity=\"1\" stroke-width=\"3.2\"/>\n",
       "<circle clip-path=\"url(#clip932)\" cx=\"2228.15\" cy=\"201.947\" r=\"14\" fill=\"#009af9\" fill-rule=\"evenodd\" fill-opacity=\"1\" stroke=\"#000000\" stroke-opacity=\"1\" stroke-width=\"3.2\"/>\n",
       "<circle clip-path=\"url(#clip932)\" cx=\"2230.2\" cy=\"200.66\" r=\"14\" fill=\"#009af9\" fill-rule=\"evenodd\" fill-opacity=\"1\" stroke=\"#000000\" stroke-opacity=\"1\" stroke-width=\"3.2\"/>\n",
       "<circle clip-path=\"url(#clip932)\" cx=\"2232.24\" cy=\"199.373\" r=\"14\" fill=\"#009af9\" fill-rule=\"evenodd\" fill-opacity=\"1\" stroke=\"#000000\" stroke-opacity=\"1\" stroke-width=\"3.2\"/>\n",
       "<circle clip-path=\"url(#clip932)\" cx=\"2234.28\" cy=\"198.086\" r=\"14\" fill=\"#009af9\" fill-rule=\"evenodd\" fill-opacity=\"1\" stroke=\"#000000\" stroke-opacity=\"1\" stroke-width=\"3.2\"/>\n",
       "<circle clip-path=\"url(#clip932)\" cx=\"2236.33\" cy=\"196.799\" r=\"14\" fill=\"#009af9\" fill-rule=\"evenodd\" fill-opacity=\"1\" stroke=\"#000000\" stroke-opacity=\"1\" stroke-width=\"3.2\"/>\n",
       "<circle clip-path=\"url(#clip932)\" cx=\"2238.37\" cy=\"195.512\" r=\"14\" fill=\"#009af9\" fill-rule=\"evenodd\" fill-opacity=\"1\" stroke=\"#000000\" stroke-opacity=\"1\" stroke-width=\"3.2\"/>\n",
       "<circle clip-path=\"url(#clip932)\" cx=\"2240.41\" cy=\"194.225\" r=\"14\" fill=\"#009af9\" fill-rule=\"evenodd\" fill-opacity=\"1\" stroke=\"#000000\" stroke-opacity=\"1\" stroke-width=\"3.2\"/>\n",
       "<circle clip-path=\"url(#clip932)\" cx=\"2242.46\" cy=\"192.938\" r=\"14\" fill=\"#009af9\" fill-rule=\"evenodd\" fill-opacity=\"1\" stroke=\"#000000\" stroke-opacity=\"1\" stroke-width=\"3.2\"/>\n",
       "<circle clip-path=\"url(#clip932)\" cx=\"2244.5\" cy=\"191.651\" r=\"14\" fill=\"#009af9\" fill-rule=\"evenodd\" fill-opacity=\"1\" stroke=\"#000000\" stroke-opacity=\"1\" stroke-width=\"3.2\"/>\n",
       "<circle clip-path=\"url(#clip932)\" cx=\"2246.55\" cy=\"190.363\" r=\"14\" fill=\"#009af9\" fill-rule=\"evenodd\" fill-opacity=\"1\" stroke=\"#000000\" stroke-opacity=\"1\" stroke-width=\"3.2\"/>\n",
       "<circle clip-path=\"url(#clip932)\" cx=\"2248.59\" cy=\"189.076\" r=\"14\" fill=\"#009af9\" fill-rule=\"evenodd\" fill-opacity=\"1\" stroke=\"#000000\" stroke-opacity=\"1\" stroke-width=\"3.2\"/>\n",
       "<circle clip-path=\"url(#clip932)\" cx=\"2250.63\" cy=\"187.789\" r=\"14\" fill=\"#009af9\" fill-rule=\"evenodd\" fill-opacity=\"1\" stroke=\"#000000\" stroke-opacity=\"1\" stroke-width=\"3.2\"/>\n",
       "<circle clip-path=\"url(#clip932)\" cx=\"2252.68\" cy=\"186.502\" r=\"14\" fill=\"#009af9\" fill-rule=\"evenodd\" fill-opacity=\"1\" stroke=\"#000000\" stroke-opacity=\"1\" stroke-width=\"3.2\"/>\n",
       "<circle clip-path=\"url(#clip932)\" cx=\"2254.72\" cy=\"185.215\" r=\"14\" fill=\"#009af9\" fill-rule=\"evenodd\" fill-opacity=\"1\" stroke=\"#000000\" stroke-opacity=\"1\" stroke-width=\"3.2\"/>\n",
       "<circle clip-path=\"url(#clip932)\" cx=\"2256.76\" cy=\"183.928\" r=\"14\" fill=\"#009af9\" fill-rule=\"evenodd\" fill-opacity=\"1\" stroke=\"#000000\" stroke-opacity=\"1\" stroke-width=\"3.2\"/>\n",
       "<circle clip-path=\"url(#clip932)\" cx=\"2258.81\" cy=\"182.641\" r=\"14\" fill=\"#009af9\" fill-rule=\"evenodd\" fill-opacity=\"1\" stroke=\"#000000\" stroke-opacity=\"1\" stroke-width=\"3.2\"/>\n",
       "<circle clip-path=\"url(#clip932)\" cx=\"2260.85\" cy=\"181.354\" r=\"14\" fill=\"#009af9\" fill-rule=\"evenodd\" fill-opacity=\"1\" stroke=\"#000000\" stroke-opacity=\"1\" stroke-width=\"3.2\"/>\n",
       "<circle clip-path=\"url(#clip932)\" cx=\"2262.89\" cy=\"180.066\" r=\"14\" fill=\"#009af9\" fill-rule=\"evenodd\" fill-opacity=\"1\" stroke=\"#000000\" stroke-opacity=\"1\" stroke-width=\"3.2\"/>\n",
       "<circle clip-path=\"url(#clip932)\" cx=\"2264.94\" cy=\"178.779\" r=\"14\" fill=\"#009af9\" fill-rule=\"evenodd\" fill-opacity=\"1\" stroke=\"#000000\" stroke-opacity=\"1\" stroke-width=\"3.2\"/>\n",
       "<circle clip-path=\"url(#clip932)\" cx=\"2266.98\" cy=\"177.492\" r=\"14\" fill=\"#009af9\" fill-rule=\"evenodd\" fill-opacity=\"1\" stroke=\"#000000\" stroke-opacity=\"1\" stroke-width=\"3.2\"/>\n",
       "<circle clip-path=\"url(#clip932)\" cx=\"2269.03\" cy=\"176.205\" r=\"14\" fill=\"#009af9\" fill-rule=\"evenodd\" fill-opacity=\"1\" stroke=\"#000000\" stroke-opacity=\"1\" stroke-width=\"3.2\"/>\n",
       "<circle clip-path=\"url(#clip932)\" cx=\"2271.07\" cy=\"174.918\" r=\"14\" fill=\"#009af9\" fill-rule=\"evenodd\" fill-opacity=\"1\" stroke=\"#000000\" stroke-opacity=\"1\" stroke-width=\"3.2\"/>\n",
       "<circle clip-path=\"url(#clip932)\" cx=\"2273.11\" cy=\"173.631\" r=\"14\" fill=\"#009af9\" fill-rule=\"evenodd\" fill-opacity=\"1\" stroke=\"#000000\" stroke-opacity=\"1\" stroke-width=\"3.2\"/>\n",
       "<circle clip-path=\"url(#clip932)\" cx=\"2275.16\" cy=\"172.344\" r=\"14\" fill=\"#009af9\" fill-rule=\"evenodd\" fill-opacity=\"1\" stroke=\"#000000\" stroke-opacity=\"1\" stroke-width=\"3.2\"/>\n",
       "<circle clip-path=\"url(#clip932)\" cx=\"2277.2\" cy=\"171.057\" r=\"14\" fill=\"#009af9\" fill-rule=\"evenodd\" fill-opacity=\"1\" stroke=\"#000000\" stroke-opacity=\"1\" stroke-width=\"3.2\"/>\n",
       "<circle clip-path=\"url(#clip932)\" cx=\"2279.24\" cy=\"169.77\" r=\"14\" fill=\"#009af9\" fill-rule=\"evenodd\" fill-opacity=\"1\" stroke=\"#000000\" stroke-opacity=\"1\" stroke-width=\"3.2\"/>\n",
       "<circle clip-path=\"url(#clip932)\" cx=\"2281.29\" cy=\"168.482\" r=\"14\" fill=\"#009af9\" fill-rule=\"evenodd\" fill-opacity=\"1\" stroke=\"#000000\" stroke-opacity=\"1\" stroke-width=\"3.2\"/>\n",
       "<circle clip-path=\"url(#clip932)\" cx=\"2283.33\" cy=\"167.195\" r=\"14\" fill=\"#009af9\" fill-rule=\"evenodd\" fill-opacity=\"1\" stroke=\"#000000\" stroke-opacity=\"1\" stroke-width=\"3.2\"/>\n",
       "<circle clip-path=\"url(#clip932)\" cx=\"2285.38\" cy=\"165.908\" r=\"14\" fill=\"#009af9\" fill-rule=\"evenodd\" fill-opacity=\"1\" stroke=\"#000000\" stroke-opacity=\"1\" stroke-width=\"3.2\"/>\n",
       "<circle clip-path=\"url(#clip932)\" cx=\"2287.42\" cy=\"164.621\" r=\"14\" fill=\"#009af9\" fill-rule=\"evenodd\" fill-opacity=\"1\" stroke=\"#000000\" stroke-opacity=\"1\" stroke-width=\"3.2\"/>\n",
       "<circle clip-path=\"url(#clip932)\" cx=\"2289.46\" cy=\"163.334\" r=\"14\" fill=\"#009af9\" fill-rule=\"evenodd\" fill-opacity=\"1\" stroke=\"#000000\" stroke-opacity=\"1\" stroke-width=\"3.2\"/>\n",
       "<circle clip-path=\"url(#clip932)\" cx=\"2291.51\" cy=\"162.047\" r=\"14\" fill=\"#009af9\" fill-rule=\"evenodd\" fill-opacity=\"1\" stroke=\"#000000\" stroke-opacity=\"1\" stroke-width=\"3.2\"/>\n",
       "<polyline clip-path=\"url(#clip932)\" style=\"stroke:#ff0000; stroke-width:8; stroke-opacity:1; fill:none\" points=\"\n",
       "  249.861,1447.87 269.8,1435.32 454.158,1319.21 564.95,1249.43 658.623,1190.44 760.379,1126.35 854.188,1067.27 954.762,1003.93 1071.29,930.541 1174.84,865.323 \n",
       "  1265.65,808.133 1364.65,745.781 1464.24,683.058 1574.35,613.709 1679.12,547.726 1788.06,479.119 1879.76,421.366 1991.71,350.857 2096.95,284.576 2265.56,178.389 \n",
       "  2291.51,162.047 \n",
       "  \"/>\n",
       "</svg>\n"
      ]
     },
     "execution_count": 59,
     "metadata": {},
     "output_type": "execute_result"
    }
   ],
   "source": [
    "# Testando com uma função especificamente linear\n",
    "x = []\n",
    "y = []\n",
    "\n",
    "for i in 1:1000\n",
    "    push!(x, i)\n",
    "    push!(y, i)\n",
    "    \n",
    "end\n",
    "\n",
    "a = regressão_coeficientes_lineares(x, y, grau) # recebe os coeficientes\n",
    "println(a)  # printa os coeficientes\n",
    "\n",
    "# Plota os pontos junto com a curva que conseguimos que minimiza a soma dos quadrados das distâncias\n",
    "scatter(x,y,leg=false)\n",
    "plot!(x -> a[1] + a[2] * x, extrema(x)..., c=:red, lw=2)\n",
    "title!(\"Mínimos Quadrados\")"
   ]
  },
  {
   "cell_type": "markdown",
   "metadata": {},
   "source": [
    "### Regressão Linear de Funções Exponenciais"
   ]
  },
  {
   "cell_type": "code",
   "execution_count": 95,
   "metadata": {},
   "outputs": [
    {
     "data": {
      "text/plain": [
       "regressão_função_exponencial (generic function with 2 methods)"
      ]
     },
     "execution_count": 95,
     "metadata": {},
     "output_type": "execute_result"
    }
   ],
   "source": [
    "\"\"\" A função regressão_função_exponencial minimiza a soma dos quadrados das distâncias de acordo com a função c0*e^(x*c1).\n",
    "    Sendo assim, para calcular os coeficientes precisamos usar log natural como um dicionário, que \"linenizará\" a função.\n",
    "    Como entrada temos os valores de x, os valores de y correspondentes aos valores de x. E como saida o retorno dos\n",
    "    coeficientes c0 e c1. \"\"\"\n",
    "\n",
    "function regressão_função_exponencial(pontos_x,pontos_y) \n",
    "    #dicionário (\"linearização\") é feito manualmente ou por uma tabela\n",
    "    pontos_y_barra = zeros(length(pontos_y))\n",
    "    for i in 1:length(pontos_x)\n",
    "        pontos_y_barra[i] = log(pontos_y[i]) # aplicamos log nos valores de y e na direita da equação temos c0 + x*c1\n",
    "    end\n",
    "    pontos_x_barra = pontos_x # os valores de x se mantém os mesmos\n",
    "    \n",
    "    #resolver regresssão com coeficientes lineares no \"mundo barra\"\n",
    "    coeficientes_barra = regressão_coeficientes_lineares(pontos_x_barra,pontos_y_barra, 1)\n",
    "    return coeficientes_barra\n",
    "end"
   ]
  },
  {
   "cell_type": "code",
   "execution_count": 100,
   "metadata": {},
   "outputs": [
    {
     "data": {
      "image/svg+xml": [
       "<?xml version=\"1.0\" encoding=\"utf-8\"?>\n",
       "<svg xmlns=\"http://www.w3.org/2000/svg\" xmlns:xlink=\"http://www.w3.org/1999/xlink\" width=\"600\" height=\"400\" viewBox=\"0 0 2400 1600\">\n",
       "<defs>\n",
       "  <clipPath id=\"clip610\">\n",
       "    <rect x=\"0\" y=\"0\" width=\"2400\" height=\"1600\"/>\n",
       "  </clipPath>\n",
       "</defs>\n",
       "<path clip-path=\"url(#clip610)\" d=\"\n",
       "M0 1600 L2400 1600 L2400 0 L0 0  Z\n",
       "  \" fill=\"#ffffff\" fill-rule=\"evenodd\" fill-opacity=\"1\"/>\n",
       "<defs>\n",
       "  <clipPath id=\"clip611\">\n",
       "    <rect x=\"480\" y=\"0\" width=\"1681\" height=\"1600\"/>\n",
       "  </clipPath>\n",
       "</defs>\n",
       "<path clip-path=\"url(#clip610)\" d=\"\n",
       "M139.191 1486.45 L2352.76 1486.45 L2352.76 123.472 L139.191 123.472  Z\n",
       "  \" fill=\"#ffffff\" fill-rule=\"evenodd\" fill-opacity=\"1\"/>\n",
       "<defs>\n",
       "  <clipPath id=\"clip612\">\n",
       "    <rect x=\"139\" y=\"123\" width=\"2215\" height=\"1364\"/>\n",
       "  </clipPath>\n",
       "</defs>\n",
       "<polyline clip-path=\"url(#clip612)\" style=\"stroke:#000000; stroke-width:2; stroke-opacity:0.1; fill:none\" points=\"\n",
       "  329.664,1486.45 329.664,123.472 \n",
       "  \"/>\n",
       "<polyline clip-path=\"url(#clip612)\" style=\"stroke:#000000; stroke-width:2; stroke-opacity:0.1; fill:none\" points=\"\n",
       "  787.819,1486.45 787.819,123.472 \n",
       "  \"/>\n",
       "<polyline clip-path=\"url(#clip612)\" style=\"stroke:#000000; stroke-width:2; stroke-opacity:0.1; fill:none\" points=\"\n",
       "  1245.97,1486.45 1245.97,123.472 \n",
       "  \"/>\n",
       "<polyline clip-path=\"url(#clip612)\" style=\"stroke:#000000; stroke-width:2; stroke-opacity:0.1; fill:none\" points=\"\n",
       "  1704.13,1486.45 1704.13,123.472 \n",
       "  \"/>\n",
       "<polyline clip-path=\"url(#clip612)\" style=\"stroke:#000000; stroke-width:2; stroke-opacity:0.1; fill:none\" points=\"\n",
       "  2162.28,1486.45 2162.28,123.472 \n",
       "  \"/>\n",
       "<polyline clip-path=\"url(#clip610)\" style=\"stroke:#000000; stroke-width:4; stroke-opacity:1; fill:none\" points=\"\n",
       "  139.191,1486.45 2352.76,1486.45 \n",
       "  \"/>\n",
       "<polyline clip-path=\"url(#clip610)\" style=\"stroke:#000000; stroke-width:4; stroke-opacity:1; fill:none\" points=\"\n",
       "  329.664,1486.45 329.664,1470.09 \n",
       "  \"/>\n",
       "<polyline clip-path=\"url(#clip610)\" style=\"stroke:#000000; stroke-width:4; stroke-opacity:1; fill:none\" points=\"\n",
       "  787.819,1486.45 787.819,1470.09 \n",
       "  \"/>\n",
       "<polyline clip-path=\"url(#clip610)\" style=\"stroke:#000000; stroke-width:4; stroke-opacity:1; fill:none\" points=\"\n",
       "  1245.97,1486.45 1245.97,1470.09 \n",
       "  \"/>\n",
       "<polyline clip-path=\"url(#clip610)\" style=\"stroke:#000000; stroke-width:4; stroke-opacity:1; fill:none\" points=\"\n",
       "  1704.13,1486.45 1704.13,1470.09 \n",
       "  \"/>\n",
       "<polyline clip-path=\"url(#clip610)\" style=\"stroke:#000000; stroke-width:4; stroke-opacity:1; fill:none\" points=\"\n",
       "  2162.28,1486.45 2162.28,1470.09 \n",
       "  \"/>\n",
       "<path clip-path=\"url(#clip610)\" d=\"M 0 0 M310.81 1543.18 L327.129 1543.18 L327.129 1547.12 L305.185 1547.12 L305.185 1543.18 Q307.847 1540.43 312.43 1535.8 Q317.037 1531.15 318.217 1529.81 Q320.463 1527.28 321.342 1525.55 Q322.245 1523.79 322.245 1522.1 Q322.245 1519.34 320.301 1517.61 Q318.379 1515.87 315.278 1515.87 Q313.079 1515.87 310.625 1516.63 Q308.194 1517.4 305.417 1518.95 L305.417 1514.23 Q308.241 1513.09 310.694 1512.51 Q313.148 1511.93 315.185 1511.93 Q320.555 1511.93 323.75 1514.62 Q326.944 1517.31 326.944 1521.8 Q326.944 1523.93 326.134 1525.85 Q325.347 1527.74 323.241 1530.34 Q322.662 1531.01 319.56 1534.23 Q316.458 1537.42 310.81 1543.18 Z\" fill=\"#000000\" fill-rule=\"evenodd\" fill-opacity=\"1\" /><path clip-path=\"url(#clip610)\" d=\"M 0 0 M342.199 1515.64 Q338.588 1515.64 336.759 1519.2 Q334.953 1522.75 334.953 1529.87 Q334.953 1536.98 336.759 1540.55 Q338.588 1544.09 342.199 1544.09 Q345.833 1544.09 347.639 1540.55 Q349.467 1536.98 349.467 1529.87 Q349.467 1522.75 347.639 1519.2 Q345.833 1515.64 342.199 1515.64 M342.199 1511.93 Q348.009 1511.93 351.064 1516.54 Q354.143 1521.12 354.143 1529.87 Q354.143 1538.6 351.064 1543.21 Q348.009 1547.79 342.199 1547.79 Q336.389 1547.79 333.31 1543.21 Q330.254 1538.6 330.254 1529.87 Q330.254 1521.12 333.31 1516.54 Q336.389 1511.93 342.199 1511.93 Z\" fill=\"#000000\" fill-rule=\"evenodd\" fill-opacity=\"1\" /><path clip-path=\"url(#clip610)\" d=\"M 0 0 M777.321 1516.63 L765.516 1535.08 L777.321 1535.08 L777.321 1516.63 M776.094 1512.56 L781.974 1512.56 L781.974 1535.08 L786.904 1535.08 L786.904 1538.97 L781.974 1538.97 L781.974 1547.12 L777.321 1547.12 L777.321 1538.97 L761.719 1538.97 L761.719 1534.46 L776.094 1512.56 Z\" fill=\"#000000\" fill-rule=\"evenodd\" fill-opacity=\"1\" /><path clip-path=\"url(#clip610)\" d=\"M 0 0 M801.974 1515.64 Q798.363 1515.64 796.534 1519.2 Q794.728 1522.75 794.728 1529.87 Q794.728 1536.98 796.534 1540.55 Q798.363 1544.09 801.974 1544.09 Q805.608 1544.09 807.414 1540.55 Q809.242 1536.98 809.242 1529.87 Q809.242 1522.75 807.414 1519.2 Q805.608 1515.64 801.974 1515.64 M801.974 1511.93 Q807.784 1511.93 810.839 1516.54 Q813.918 1521.12 813.918 1529.87 Q813.918 1538.6 810.839 1543.21 Q807.784 1547.79 801.974 1547.79 Q796.164 1547.79 793.085 1543.21 Q790.029 1538.6 790.029 1529.87 Q790.029 1521.12 793.085 1516.54 Q796.164 1511.93 801.974 1511.93 Z\" fill=\"#000000\" fill-rule=\"evenodd\" fill-opacity=\"1\" /><path clip-path=\"url(#clip610)\" d=\"M 0 0 M1232.87 1527.98 Q1229.72 1527.98 1227.87 1530.13 Q1226.04 1532.28 1226.04 1536.03 Q1226.04 1539.76 1227.87 1541.93 Q1229.72 1544.09 1232.87 1544.09 Q1236.02 1544.09 1237.85 1541.93 Q1239.7 1539.76 1239.7 1536.03 Q1239.7 1532.28 1237.85 1530.13 Q1236.02 1527.98 1232.87 1527.98 M1242.15 1513.32 L1242.15 1517.58 Q1240.39 1516.75 1238.59 1516.31 Q1236.81 1515.87 1235.05 1515.87 Q1230.42 1515.87 1227.96 1519 Q1225.53 1522.12 1225.19 1528.44 Q1226.55 1526.43 1228.61 1525.36 Q1230.67 1524.27 1233.15 1524.27 Q1238.36 1524.27 1241.37 1527.44 Q1244.4 1530.59 1244.4 1536.03 Q1244.4 1541.36 1241.25 1544.57 Q1238.1 1547.79 1232.87 1547.79 Q1226.88 1547.79 1223.71 1543.21 Q1220.53 1538.6 1220.53 1529.87 Q1220.53 1521.68 1224.42 1516.82 Q1228.31 1511.93 1234.86 1511.93 Q1236.62 1511.93 1238.4 1512.28 Q1240.21 1512.63 1242.15 1513.32 Z\" fill=\"#000000\" fill-rule=\"evenodd\" fill-opacity=\"1\" /><path clip-path=\"url(#clip610)\" d=\"M 0 0 M1259.47 1515.64 Q1255.86 1515.64 1254.03 1519.2 Q1252.22 1522.75 1252.22 1529.87 Q1252.22 1536.98 1254.03 1540.55 Q1255.86 1544.09 1259.47 1544.09 Q1263.1 1544.09 1264.91 1540.55 Q1266.74 1536.98 1266.74 1529.87 Q1266.74 1522.75 1264.91 1519.2 Q1263.1 1515.64 1259.47 1515.64 M1259.47 1511.93 Q1265.28 1511.93 1268.33 1516.54 Q1271.41 1521.12 1271.41 1529.87 Q1271.41 1538.6 1268.33 1543.21 Q1265.28 1547.79 1259.47 1547.79 Q1253.66 1547.79 1250.58 1543.21 Q1247.52 1538.6 1247.52 1529.87 Q1247.52 1521.12 1250.58 1516.54 Q1253.66 1511.93 1259.47 1511.93 Z\" fill=\"#000000\" fill-rule=\"evenodd\" fill-opacity=\"1\" /><path clip-path=\"url(#clip610)\" d=\"M 0 0 M1690.62 1530.71 Q1687.29 1530.71 1685.37 1532.49 Q1683.47 1534.27 1683.47 1537.4 Q1683.47 1540.52 1685.37 1542.31 Q1687.29 1544.09 1690.62 1544.09 Q1693.95 1544.09 1695.88 1542.31 Q1697.8 1540.5 1697.8 1537.4 Q1697.8 1534.27 1695.88 1532.49 Q1693.98 1530.71 1690.62 1530.71 M1685.95 1528.72 Q1682.94 1527.98 1681.25 1525.92 Q1679.58 1523.86 1679.58 1520.89 Q1679.58 1516.75 1682.52 1514.34 Q1685.48 1511.93 1690.62 1511.93 Q1695.78 1511.93 1698.72 1514.34 Q1701.66 1516.75 1701.66 1520.89 Q1701.66 1523.86 1699.97 1525.92 Q1698.31 1527.98 1695.32 1528.72 Q1698.7 1529.5 1700.57 1531.8 Q1702.47 1534.09 1702.47 1537.4 Q1702.47 1542.42 1699.39 1545.11 Q1696.34 1547.79 1690.62 1547.79 Q1684.9 1547.79 1681.82 1545.11 Q1678.77 1542.42 1678.77 1537.4 Q1678.77 1534.09 1680.67 1531.8 Q1682.57 1529.5 1685.95 1528.72 M1684.23 1521.33 Q1684.23 1524.02 1685.9 1525.52 Q1687.59 1527.03 1690.62 1527.03 Q1693.63 1527.03 1695.32 1525.52 Q1697.03 1524.02 1697.03 1521.33 Q1697.03 1518.65 1695.32 1517.14 Q1693.63 1515.64 1690.62 1515.64 Q1687.59 1515.64 1685.9 1517.14 Q1684.23 1518.65 1684.23 1521.33 Z\" fill=\"#000000\" fill-rule=\"evenodd\" fill-opacity=\"1\" /><path clip-path=\"url(#clip610)\" d=\"M 0 0 M1717.54 1515.64 Q1713.93 1515.64 1712.1 1519.2 Q1710.3 1522.75 1710.3 1529.87 Q1710.3 1536.98 1712.1 1540.55 Q1713.93 1544.09 1717.54 1544.09 Q1721.18 1544.09 1722.98 1540.55 Q1724.81 1536.98 1724.81 1529.87 Q1724.81 1522.75 1722.98 1519.2 Q1721.18 1515.64 1717.54 1515.64 M1717.54 1511.93 Q1723.35 1511.93 1726.41 1516.54 Q1729.49 1521.12 1729.49 1529.87 Q1729.49 1538.6 1726.41 1543.21 Q1723.35 1547.79 1717.54 1547.79 Q1711.73 1547.79 1708.65 1543.21 Q1705.6 1538.6 1705.6 1529.87 Q1705.6 1521.12 1708.65 1516.54 Q1711.73 1511.93 1717.54 1511.93 Z\" fill=\"#000000\" fill-rule=\"evenodd\" fill-opacity=\"1\" /><path clip-path=\"url(#clip610)\" d=\"M 0 0 M2125.65 1543.18 L2133.29 1543.18 L2133.29 1516.82 L2124.98 1518.49 L2124.98 1514.23 L2133.24 1512.56 L2137.92 1512.56 L2137.92 1543.18 L2145.56 1543.18 L2145.56 1547.12 L2125.65 1547.12 L2125.65 1543.18 Z\" fill=\"#000000\" fill-rule=\"evenodd\" fill-opacity=\"1\" /><path clip-path=\"url(#clip610)\" d=\"M 0 0 M2160.63 1515.64 Q2157.02 1515.64 2155.19 1519.2 Q2153.38 1522.75 2153.38 1529.87 Q2153.38 1536.98 2155.19 1540.55 Q2157.02 1544.09 2160.63 1544.09 Q2164.26 1544.09 2166.07 1540.55 Q2167.9 1536.98 2167.9 1529.87 Q2167.9 1522.75 2166.07 1519.2 Q2164.26 1515.64 2160.63 1515.64 M2160.63 1511.93 Q2166.44 1511.93 2169.49 1516.54 Q2172.57 1521.12 2172.57 1529.87 Q2172.57 1538.6 2169.49 1543.21 Q2166.44 1547.79 2160.63 1547.79 Q2154.82 1547.79 2151.74 1543.21 Q2148.68 1538.6 2148.68 1529.87 Q2148.68 1521.12 2151.74 1516.54 Q2154.82 1511.93 2160.63 1511.93 Z\" fill=\"#000000\" fill-rule=\"evenodd\" fill-opacity=\"1\" /><path clip-path=\"url(#clip610)\" d=\"M 0 0 M2187.64 1515.64 Q2184.03 1515.64 2182.2 1519.2 Q2180.4 1522.75 2180.4 1529.87 Q2180.4 1536.98 2182.2 1540.55 Q2184.03 1544.09 2187.64 1544.09 Q2191.28 1544.09 2193.08 1540.55 Q2194.91 1536.98 2194.91 1529.87 Q2194.91 1522.75 2193.08 1519.2 Q2191.28 1515.64 2187.64 1515.64 M2187.64 1511.93 Q2193.45 1511.93 2196.51 1516.54 Q2199.59 1521.12 2199.59 1529.87 Q2199.59 1538.6 2196.51 1543.21 Q2193.45 1547.79 2187.64 1547.79 Q2181.83 1547.79 2178.75 1543.21 Q2175.7 1538.6 2175.7 1529.87 Q2175.7 1521.12 2178.75 1516.54 Q2181.83 1511.93 2187.64 1511.93 Z\" fill=\"#000000\" fill-rule=\"evenodd\" fill-opacity=\"1\" /><polyline clip-path=\"url(#clip612)\" style=\"stroke:#000000; stroke-width:2; stroke-opacity:0.1; fill:none\" points=\"\n",
       "  139.191,1398.3 2352.76,1398.3 \n",
       "  \"/>\n",
       "<polyline clip-path=\"url(#clip612)\" style=\"stroke:#000000; stroke-width:2; stroke-opacity:0.1; fill:none\" points=\"\n",
       "  139.191,1180.77 2352.76,1180.77 \n",
       "  \"/>\n",
       "<polyline clip-path=\"url(#clip612)\" style=\"stroke:#000000; stroke-width:2; stroke-opacity:0.1; fill:none\" points=\"\n",
       "  139.191,963.233 2352.76,963.233 \n",
       "  \"/>\n",
       "<polyline clip-path=\"url(#clip612)\" style=\"stroke:#000000; stroke-width:2; stroke-opacity:0.1; fill:none\" points=\"\n",
       "  139.191,745.701 2352.76,745.701 \n",
       "  \"/>\n",
       "<polyline clip-path=\"url(#clip612)\" style=\"stroke:#000000; stroke-width:2; stroke-opacity:0.1; fill:none\" points=\"\n",
       "  139.191,528.169 2352.76,528.169 \n",
       "  \"/>\n",
       "<polyline clip-path=\"url(#clip612)\" style=\"stroke:#000000; stroke-width:2; stroke-opacity:0.1; fill:none\" points=\"\n",
       "  139.191,310.636 2352.76,310.636 \n",
       "  \"/>\n",
       "<polyline clip-path=\"url(#clip610)\" style=\"stroke:#000000; stroke-width:4; stroke-opacity:1; fill:none\" points=\"\n",
       "  139.191,1486.45 139.191,123.472 \n",
       "  \"/>\n",
       "<polyline clip-path=\"url(#clip610)\" style=\"stroke:#000000; stroke-width:4; stroke-opacity:1; fill:none\" points=\"\n",
       "  139.191,1398.3 165.754,1398.3 \n",
       "  \"/>\n",
       "<polyline clip-path=\"url(#clip610)\" style=\"stroke:#000000; stroke-width:4; stroke-opacity:1; fill:none\" points=\"\n",
       "  139.191,1180.77 165.754,1180.77 \n",
       "  \"/>\n",
       "<polyline clip-path=\"url(#clip610)\" style=\"stroke:#000000; stroke-width:4; stroke-opacity:1; fill:none\" points=\"\n",
       "  139.191,963.233 165.754,963.233 \n",
       "  \"/>\n",
       "<polyline clip-path=\"url(#clip610)\" style=\"stroke:#000000; stroke-width:4; stroke-opacity:1; fill:none\" points=\"\n",
       "  139.191,745.701 165.754,745.701 \n",
       "  \"/>\n",
       "<polyline clip-path=\"url(#clip610)\" style=\"stroke:#000000; stroke-width:4; stroke-opacity:1; fill:none\" points=\"\n",
       "  139.191,528.169 165.754,528.169 \n",
       "  \"/>\n",
       "<polyline clip-path=\"url(#clip610)\" style=\"stroke:#000000; stroke-width:4; stroke-opacity:1; fill:none\" points=\"\n",
       "  139.191,310.636 165.754,310.636 \n",
       "  \"/>\n",
       "<path clip-path=\"url(#clip610)\" d=\"M 0 0 M59.8578 1411.64 L76.1772 1411.64 L76.1772 1415.58 L54.2328 1415.58 L54.2328 1411.64 Q56.8949 1408.89 61.4782 1404.26 Q66.0846 1399.61 67.2652 1398.26 Q69.5105 1395.74 70.3902 1394 Q71.2929 1392.24 71.2929 1390.55 Q71.2929 1387.8 69.3485 1386.06 Q67.4272 1384.33 64.3254 1384.33 Q62.1263 1384.33 59.6726 1385.09 Q57.2421 1385.86 54.4643 1387.41 L54.4643 1382.68 Q57.2884 1381.55 59.7421 1380.97 Q62.1958 1380.39 64.2328 1380.39 Q69.6031 1380.39 72.7976 1383.08 Q75.992 1385.76 75.992 1390.25 Q75.992 1392.38 75.1818 1394.3 Q74.3948 1396.2 72.2883 1398.8 Q71.7096 1399.47 68.6078 1402.68 Q65.5059 1405.88 59.8578 1411.64 Z\" fill=\"#000000\" fill-rule=\"evenodd\" fill-opacity=\"1\" /><path clip-path=\"url(#clip610)\" d=\"M 0 0 M91.2465 1384.1 Q87.6354 1384.1 85.8068 1387.66 Q84.0012 1391.2 84.0012 1398.33 Q84.0012 1405.44 85.8068 1409 Q87.6354 1412.55 91.2465 1412.55 Q94.8808 1412.55 96.6863 1409 Q98.515 1405.44 98.515 1398.33 Q98.515 1391.2 96.6863 1387.66 Q94.8808 1384.1 91.2465 1384.1 M91.2465 1380.39 Q97.0567 1380.39 100.112 1385 Q103.191 1389.58 103.191 1398.33 Q103.191 1407.06 100.112 1411.67 Q97.0567 1416.25 91.2465 1416.25 Q85.4364 1416.25 82.3577 1411.67 Q79.3022 1407.06 79.3022 1398.33 Q79.3022 1389.58 82.3577 1385 Q85.4364 1380.39 91.2465 1380.39 Z\" fill=\"#000000\" fill-rule=\"evenodd\" fill-opacity=\"1\" /><path clip-path=\"url(#clip610)\" d=\"M 0 0 M69.0476 1179.41 Q72.404 1180.13 74.279 1182.4 Q76.1772 1184.67 76.1772 1188 Q76.1772 1193.11 72.6587 1195.92 Q69.1402 1198.72 62.6587 1198.72 Q60.4828 1198.72 58.168 1198.28 Q55.8764 1197.86 53.4227 1197 L53.4227 1192.49 Q55.3671 1193.62 57.6819 1194.2 Q59.9967 1194.78 62.5198 1194.78 Q66.918 1194.78 69.2096 1193.05 Q71.5244 1191.31 71.5244 1188 Q71.5244 1184.94 69.3717 1183.23 Q67.242 1181.49 63.4226 1181.49 L59.3949 1181.49 L59.3949 1177.65 L63.6078 1177.65 Q67.0569 1177.65 68.8855 1176.29 Q70.7142 1174.9 70.7142 1172.3 Q70.7142 1169.64 68.8161 1168.23 Q66.9411 1166.8 63.4226 1166.8 Q61.5013 1166.8 59.3023 1167.21 Q57.1032 1167.63 54.4643 1168.51 L54.4643 1164.34 Q57.1264 1163.6 59.4412 1163.23 Q61.7791 1162.86 63.8393 1162.86 Q69.1633 1162.86 72.2652 1165.29 Q75.367 1167.7 75.367 1171.82 Q75.367 1174.69 73.7235 1176.68 Q72.08 1178.65 69.0476 1179.41 Z\" fill=\"#000000\" fill-rule=\"evenodd\" fill-opacity=\"1\" /><path clip-path=\"url(#clip610)\" d=\"M 0 0 M91.2465 1166.56 Q87.6354 1166.56 85.8068 1170.13 Q84.0012 1173.67 84.0012 1180.8 Q84.0012 1187.91 85.8068 1191.47 Q87.6354 1195.01 91.2465 1195.01 Q94.8808 1195.01 96.6863 1191.47 Q98.515 1187.91 98.515 1180.8 Q98.515 1173.67 96.6863 1170.13 Q94.8808 1166.56 91.2465 1166.56 M91.2465 1162.86 Q97.0567 1162.86 100.112 1167.47 Q103.191 1172.05 103.191 1180.8 Q103.191 1189.53 100.112 1194.13 Q97.0567 1198.72 91.2465 1198.72 Q85.4364 1198.72 82.3577 1194.13 Q79.3022 1189.53 79.3022 1180.8 Q79.3022 1172.05 82.3577 1167.47 Q85.4364 1162.86 91.2465 1162.86 Z\" fill=\"#000000\" fill-rule=\"evenodd\" fill-opacity=\"1\" /><path clip-path=\"url(#clip610)\" d=\"M 0 0 M66.5939 950.027 L54.7884 968.476 L66.5939 968.476 L66.5939 950.027 M65.367 945.953 L71.2466 945.953 L71.2466 968.476 L76.1772 968.476 L76.1772 972.365 L71.2466 972.365 L71.2466 980.513 L66.5939 980.513 L66.5939 972.365 L50.9921 972.365 L50.9921 967.851 L65.367 945.953 Z\" fill=\"#000000\" fill-rule=\"evenodd\" fill-opacity=\"1\" /><path clip-path=\"url(#clip610)\" d=\"M 0 0 M91.2465 949.032 Q87.6354 949.032 85.8068 952.597 Q84.0012 956.138 84.0012 963.268 Q84.0012 970.374 85.8068 973.939 Q87.6354 977.481 91.2465 977.481 Q94.8808 977.481 96.6863 973.939 Q98.515 970.374 98.515 963.268 Q98.515 956.138 96.6863 952.597 Q94.8808 949.032 91.2465 949.032 M91.2465 945.328 Q97.0567 945.328 100.112 949.935 Q103.191 954.518 103.191 963.268 Q103.191 971.995 100.112 976.601 Q97.0567 981.184 91.2465 981.184 Q85.4364 981.184 82.3577 976.601 Q79.3022 971.995 79.3022 963.268 Q79.3022 954.518 82.3577 949.935 Q85.4364 945.328 91.2465 945.328 Z\" fill=\"#000000\" fill-rule=\"evenodd\" fill-opacity=\"1\" /><path clip-path=\"url(#clip610)\" d=\"M 0 0 M55.2745 728.421 L73.6309 728.421 L73.6309 732.356 L59.5569 732.356 L59.5569 740.828 Q60.5754 740.481 61.5939 740.319 Q62.6124 740.134 63.6309 740.134 Q69.418 740.134 72.7976 743.305 Q76.1772 746.476 76.1772 751.893 Q76.1772 757.472 72.705 760.573 Q69.2328 763.652 62.9134 763.652 Q60.7374 763.652 58.4689 763.282 Q56.2236 762.911 53.8162 762.171 L53.8162 757.472 Q55.8995 758.606 58.1217 759.161 Q60.3439 759.717 62.8208 759.717 Q66.8254 759.717 69.1633 757.611 Q71.5013 755.504 71.5013 751.893 Q71.5013 748.282 69.1633 746.175 Q66.8254 744.069 62.8208 744.069 Q60.9458 744.069 59.0708 744.486 Q57.2189 744.902 55.2745 745.782 L55.2745 728.421 Z\" fill=\"#000000\" fill-rule=\"evenodd\" fill-opacity=\"1\" /><path clip-path=\"url(#clip610)\" d=\"M 0 0 M91.2465 731.5 Q87.6354 731.5 85.8068 735.064 Q84.0012 738.606 84.0012 745.736 Q84.0012 752.842 85.8068 756.407 Q87.6354 759.948 91.2465 759.948 Q94.8808 759.948 96.6863 756.407 Q98.515 752.842 98.515 745.736 Q98.515 738.606 96.6863 735.064 Q94.8808 731.5 91.2465 731.5 M91.2465 727.796 Q97.0567 727.796 100.112 732.402 Q103.191 736.986 103.191 745.736 Q103.191 754.462 100.112 759.069 Q97.0567 763.652 91.2465 763.652 Q85.4364 763.652 82.3577 759.069 Q79.3022 754.462 79.3022 745.736 Q79.3022 736.986 82.3577 732.402 Q85.4364 727.796 91.2465 727.796 Z\" fill=\"#000000\" fill-rule=\"evenodd\" fill-opacity=\"1\" /><path clip-path=\"url(#clip610)\" d=\"M 0 0 M64.6495 526.305 Q61.5013 526.305 59.6495 528.458 Q57.8208 530.611 57.8208 534.361 Q57.8208 538.088 59.6495 540.263 Q61.5013 542.416 64.6495 542.416 Q67.7976 542.416 69.6263 540.263 Q71.4781 538.088 71.4781 534.361 Q71.4781 530.611 69.6263 528.458 Q67.7976 526.305 64.6495 526.305 M73.9318 511.653 L73.9318 515.912 Q72.1726 515.078 70.367 514.639 Q68.5846 514.199 66.8254 514.199 Q62.1958 514.199 59.7421 517.324 Q57.3115 520.449 56.9643 526.768 Q58.33 524.754 60.3902 523.689 Q62.4504 522.602 64.9272 522.602 Q70.1355 522.602 73.1448 525.773 Q76.1772 528.921 76.1772 534.361 Q76.1772 539.685 73.029 542.902 Q69.8809 546.12 64.6495 546.12 Q58.6541 546.12 55.4828 541.537 Q52.3116 536.93 52.3116 528.203 Q52.3116 520.009 56.2004 515.148 Q60.0893 510.264 66.6402 510.264 Q68.3994 510.264 70.1818 510.611 Q71.9874 510.958 73.9318 511.653 Z\" fill=\"#000000\" fill-rule=\"evenodd\" fill-opacity=\"1\" /><path clip-path=\"url(#clip610)\" d=\"M 0 0 M91.2465 513.967 Q87.6354 513.967 85.8068 517.532 Q84.0012 521.074 84.0012 528.203 Q84.0012 535.31 85.8068 538.875 Q87.6354 542.416 91.2465 542.416 Q94.8808 542.416 96.6863 538.875 Q98.515 535.31 98.515 528.203 Q98.515 521.074 96.6863 517.532 Q94.8808 513.967 91.2465 513.967 M91.2465 510.264 Q97.0567 510.264 100.112 514.87 Q103.191 519.453 103.191 528.203 Q103.191 536.93 100.112 541.537 Q97.0567 546.12 91.2465 546.12 Q85.4364 546.12 82.3577 541.537 Q79.3022 536.93 79.3022 528.203 Q79.3022 519.453 82.3577 514.87 Q85.4364 510.264 91.2465 510.264 Z\" fill=\"#000000\" fill-rule=\"evenodd\" fill-opacity=\"1\" /><path clip-path=\"url(#clip610)\" d=\"M 0 0 M53.9551 293.356 L76.1772 293.356 L76.1772 295.347 L63.6309 327.916 L58.7467 327.916 L70.5522 297.292 L53.9551 297.292 L53.9551 293.356 Z\" fill=\"#000000\" fill-rule=\"evenodd\" fill-opacity=\"1\" /><path clip-path=\"url(#clip610)\" d=\"M 0 0 M91.2465 296.435 Q87.6354 296.435 85.8068 300 Q84.0012 303.542 84.0012 310.671 Q84.0012 317.778 85.8068 321.342 Q87.6354 324.884 91.2465 324.884 Q94.8808 324.884 96.6863 321.342 Q98.515 317.778 98.515 310.671 Q98.515 303.542 96.6863 300 Q94.8808 296.435 91.2465 296.435 M91.2465 292.731 Q97.0567 292.731 100.112 297.338 Q103.191 301.921 103.191 310.671 Q103.191 319.398 100.112 324.004 Q97.0567 328.588 91.2465 328.588 Q85.4364 328.588 82.3577 324.004 Q79.3022 319.398 79.3022 310.671 Q79.3022 301.921 82.3577 297.338 Q85.4364 292.731 91.2465 292.731 Z\" fill=\"#000000\" fill-rule=\"evenodd\" fill-opacity=\"1\" /><path clip-path=\"url(#clip610)\" d=\"M 0 0 M850.585 44.2197 Q853.218 45.1109 855.689 48.0275 Q858.201 50.9442 860.712 56.0483 L869.017 72.576 L860.226 72.576 L852.489 57.061 Q849.491 50.9847 846.656 48.9997 Q843.86 47.0148 838.999 47.0148 L830.087 47.0148 L830.087 72.576 L821.905 72.576 L821.905 12.096 L840.377 12.096 Q850.747 12.096 855.851 16.4305 Q860.955 20.7649 860.955 29.5149 Q860.955 35.2267 858.282 38.994 Q855.649 42.7613 850.585 44.2197 M830.087 18.8205 L830.087 40.2903 L840.377 40.2903 Q846.291 40.2903 849.289 37.5762 Q852.327 34.8216 852.327 29.5149 Q852.327 24.2082 849.289 21.5346 Q846.291 18.8205 840.377 18.8205 L830.087 18.8205 Z\" fill=\"#000000\" fill-rule=\"evenodd\" fill-opacity=\"1\" /><path clip-path=\"url(#clip610)\" d=\"M 0 0 M911.916 48.0275 L911.916 51.6733 L877.645 51.6733 Q878.131 59.3701 882.263 63.421 Q886.435 67.4314 893.849 67.4314 Q898.143 67.4314 902.153 66.3781 Q906.204 65.3249 910.174 63.2184 L910.174 70.267 Q906.163 71.9684 901.95 72.8596 Q897.737 73.7508 893.403 73.7508 Q882.547 73.7508 876.187 67.4314 Q869.867 61.1119 869.867 50.3365 Q869.867 39.1965 875.863 32.6746 Q881.898 26.1121 892.107 26.1121 Q901.262 26.1121 906.568 32.0264 Q911.916 37.9003 911.916 48.0275 M904.462 45.84 Q904.381 39.7232 901.019 36.0774 Q897.697 32.4315 892.188 32.4315 Q885.949 32.4315 882.182 35.9558 Q878.455 39.4801 877.888 45.8805 L904.462 45.84 Z\" fill=\"#000000\" fill-rule=\"evenodd\" fill-opacity=\"1\" /><path clip-path=\"url(#clip610)\" d=\"M 0 0 M949.589 49.3643 Q949.589 41.2625 946.227 36.8065 Q942.905 32.3505 936.869 32.3505 Q930.874 32.3505 927.512 36.8065 Q924.19 41.2625 924.19 49.3643 Q924.19 57.4256 927.512 61.8816 Q930.874 66.3376 936.869 66.3376 Q942.905 66.3376 946.227 61.8816 Q949.589 57.4256 949.589 49.3643 M957.043 66.9452 Q957.043 78.5308 951.898 84.1616 Q946.753 89.8329 936.14 89.8329 Q932.211 89.8329 928.727 89.2252 Q925.243 88.6581 921.962 87.4428 L921.962 80.1917 Q925.243 81.9741 928.443 82.8248 Q931.644 83.6755 934.965 83.6755 Q942.297 83.6755 945.943 79.8271 Q949.589 76.0193 949.589 68.282 L949.589 64.5957 Q947.28 68.6061 943.675 70.5911 Q940.069 72.576 935.046 72.576 Q926.701 72.576 921.597 66.2161 Q916.493 59.8562 916.493 49.3643 Q916.493 38.832 921.597 32.472 Q926.701 26.1121 935.046 26.1121 Q940.069 26.1121 943.675 28.0971 Q947.28 30.082 949.589 34.0924 L949.589 27.2059 L957.043 27.2059 L957.043 66.9452 Z\" fill=\"#000000\" fill-rule=\"evenodd\" fill-opacity=\"1\" /><path clip-path=\"url(#clip610)\" d=\"M 0 0 M991.151 34.1734 Q989.896 33.4443 988.397 33.1202 Q986.938 32.7556 985.156 32.7556 Q978.837 32.7556 975.434 36.8875 Q972.072 40.9789 972.072 48.6757 L972.072 72.576 L964.577 72.576 L964.577 27.2059 L972.072 27.2059 L972.072 34.2544 Q974.421 30.1225 978.188 28.1376 Q981.956 26.1121 987.343 26.1121 Q988.113 26.1121 989.045 26.2337 Q989.977 26.3147 991.111 26.5172 L991.151 34.1734 Z\" fill=\"#000000\" fill-rule=\"evenodd\" fill-opacity=\"1\" /><path clip-path=\"url(#clip610)\" d=\"M 0 0 M1035.95 48.0275 L1035.95 51.6733 L1001.68 51.6733 Q1002.17 59.3701 1006.3 63.421 Q1010.47 67.4314 1017.89 67.4314 Q1022.18 67.4314 1026.19 66.3781 Q1030.24 65.3249 1034.21 63.2184 L1034.21 70.267 Q1030.2 71.9684 1025.99 72.8596 Q1021.78 73.7508 1017.44 73.7508 Q1006.59 73.7508 1000.23 67.4314 Q993.906 61.1119 993.906 50.3365 Q993.906 39.1965 999.901 32.6746 Q1005.94 26.1121 1016.15 26.1121 Q1025.3 26.1121 1030.61 32.0264 Q1035.95 37.9003 1035.95 48.0275 M1028.5 45.84 Q1028.42 39.7232 1025.06 36.0774 Q1021.74 32.4315 1016.23 32.4315 Q1009.99 32.4315 1006.22 35.9558 Q1002.49 39.4801 1001.93 45.8805 L1028.5 45.84 Z\" fill=\"#000000\" fill-rule=\"evenodd\" fill-opacity=\"1\" /><path clip-path=\"url(#clip610)\" d=\"M 0 0 M1072.7 28.5427 L1072.7 35.5912 Q1069.54 33.9709 1066.13 33.1607 Q1062.73 32.3505 1059.08 32.3505 Q1053.54 32.3505 1050.74 34.0519 Q1047.99 35.7533 1047.99 39.156 Q1047.99 41.7486 1049.97 43.2475 Q1051.96 44.7058 1057.95 46.0426 L1060.5 46.6097 Q1068.44 48.3111 1071.76 51.4303 Q1075.13 54.509 1075.13 60.0587 Q1075.13 66.3781 1070.1 70.0644 Q1065.12 73.7508 1056.37 73.7508 Q1052.73 73.7508 1048.76 73.0216 Q1044.83 72.3329 1040.45 70.9151 L1040.45 63.2184 Q1044.58 65.3654 1048.59 66.4591 Q1052.6 67.5124 1056.53 67.5124 Q1061.8 67.5124 1064.63 65.73 Q1067.47 63.9071 1067.47 60.6258 Q1067.47 57.5877 1065.4 55.9673 Q1063.38 54.3469 1056.45 52.8481 L1053.86 52.2405 Q1046.93 50.7821 1043.85 47.7845 Q1040.77 44.7463 1040.77 39.4801 Q1040.77 33.0797 1045.31 29.5959 Q1049.85 26.1121 1058.19 26.1121 Q1062.33 26.1121 1065.97 26.7198 Q1069.62 27.3274 1072.7 28.5427 Z\" fill=\"#000000\" fill-rule=\"evenodd\" fill-opacity=\"1\" /><path clip-path=\"url(#clip610)\" d=\"M 0 0 M1111.87 28.5427 L1111.87 35.5912 Q1108.71 33.9709 1105.31 33.1607 Q1101.9 32.3505 1098.26 32.3505 Q1092.71 32.3505 1089.91 34.0519 Q1087.16 35.7533 1087.16 39.156 Q1087.16 41.7486 1089.14 43.2475 Q1091.13 44.7058 1097.12 46.0426 L1099.68 46.6097 Q1107.61 48.3111 1110.94 51.4303 Q1114.3 54.509 1114.3 60.0587 Q1114.3 66.3781 1109.28 70.0644 Q1104.29 73.7508 1095.54 73.7508 Q1091.9 73.7508 1087.93 73.0216 Q1084 72.3329 1079.62 70.9151 L1079.62 63.2184 Q1083.75 65.3654 1087.77 66.4591 Q1091.78 67.5124 1095.71 67.5124 Q1100.97 67.5124 1103.81 65.73 Q1106.64 63.9071 1106.64 60.6258 Q1106.64 57.5877 1104.58 55.9673 Q1102.55 54.3469 1095.62 52.8481 L1093.03 52.2405 Q1086.1 50.7821 1083.03 47.7845 Q1079.95 44.7463 1079.95 39.4801 Q1079.95 33.0797 1084.48 29.5959 Q1089.02 26.1121 1097.37 26.1121 Q1101.5 26.1121 1105.14 26.7198 Q1108.79 27.3274 1111.87 28.5427 Z\" fill=\"#000000\" fill-rule=\"evenodd\" fill-opacity=\"1\" /><path clip-path=\"url(#clip610)\" d=\"M 0 0 M1142.74 49.7694 Q1133.7 49.7694 1130.22 51.8354 Q1126.74 53.9013 1126.74 58.8839 Q1126.74 62.8538 1129.33 65.2034 Q1131.96 67.5124 1136.46 67.5124 Q1142.66 67.5124 1146.38 63.1374 Q1150.15 58.7219 1150.15 51.4303 L1150.15 49.7694 L1142.74 49.7694 M1157.6 46.6907 L1157.6 72.576 L1150.15 72.576 L1150.15 65.6895 Q1147.6 69.8214 1143.79 71.8063 Q1139.98 73.7508 1134.47 73.7508 Q1127.5 73.7508 1123.37 69.8619 Q1119.28 65.9325 1119.28 59.3701 Q1119.28 51.7138 1124.39 47.825 Q1129.53 43.9361 1139.7 43.9361 L1150.15 43.9361 L1150.15 43.2069 Q1150.15 38.0623 1146.75 35.2672 Q1143.38 32.4315 1137.27 32.4315 Q1133.38 32.4315 1129.69 33.3632 Q1126.01 34.295 1122.6 36.1584 L1122.6 29.2718 Q1126.69 27.692 1130.54 26.9223 Q1134.39 26.1121 1138.04 26.1121 Q1147.88 26.1121 1152.74 31.2163 Q1157.6 36.3204 1157.6 46.6907 M1138.2 17.0786 L1135.89 14.8506 Q1135 14.0404 1134.31 13.6759 Q1133.66 13.2708 1133.14 13.2708 Q1131.6 13.2708 1130.87 14.7696 Q1130.14 16.2279 1130.06 19.5497 L1124.99 19.5497 Q1125.07 14.0809 1127.14 11.1238 Q1129.21 8.12611 1132.89 8.12611 Q1134.43 8.12611 1135.73 8.69324 Q1137.02 9.26037 1138.52 10.5972 L1140.83 12.8252 Q1141.72 13.6353 1142.37 14.0404 Q1143.06 14.405 1143.59 14.405 Q1145.13 14.405 1145.86 12.9467 Q1146.58 11.4479 1146.67 8.12611 L1151.73 8.12611 Q1151.65 13.5948 1149.58 16.5925 Q1147.52 19.5497 1143.83 19.5497 Q1142.29 19.5497 1140.99 18.9825 Q1139.7 18.4154 1138.2 17.0786 Z\" fill=\"#000000\" fill-rule=\"evenodd\" fill-opacity=\"1\" /><path clip-path=\"url(#clip610)\" d=\"M 0 0 M1183 32.4315 Q1177.01 32.4315 1173.52 37.1306 Q1170.04 41.7891 1170.04 49.9314 Q1170.04 58.0738 1173.48 62.7728 Q1176.97 67.4314 1183 67.4314 Q1188.96 67.4314 1192.44 62.7323 Q1195.92 58.0333 1195.92 49.9314 Q1195.92 41.8701 1192.44 37.1711 Q1188.96 32.4315 1183 32.4315 M1183 26.1121 Q1192.72 26.1121 1198.27 32.4315 Q1203.82 38.7509 1203.82 49.9314 Q1203.82 61.0714 1198.27 67.4314 Q1192.72 73.7508 1183 73.7508 Q1173.24 73.7508 1167.69 67.4314 Q1162.18 61.0714 1162.18 49.9314 Q1162.18 38.7509 1167.69 32.4315 Q1173.24 26.1121 1183 26.1121 Z\" fill=\"#000000\" fill-rule=\"evenodd\" fill-opacity=\"1\" /><path clip-path=\"url(#clip610)\" d=\"M 0 0 M1238.34 12.096 L1276.58 12.096 L1276.58 18.9825 L1246.52 18.9825 L1246.52 36.8875 L1275.32 36.8875 L1275.32 43.7741 L1246.52 43.7741 L1246.52 65.6895 L1277.31 65.6895 L1277.31 72.576 L1238.34 72.576 L1238.34 12.096 Z\" fill=\"#000000\" fill-rule=\"evenodd\" fill-opacity=\"1\" /><path clip-path=\"url(#clip610)\" d=\"M 0 0 M1322.84 27.2059 L1306.43 49.2833 L1323.69 72.576 L1314.9 72.576 L1301.69 54.752 L1288.49 72.576 L1279.7 72.576 L1297.32 48.8377 L1281.2 27.2059 L1289.99 27.2059 L1302.02 43.369 L1314.05 27.2059 L1322.84 27.2059 Z\" fill=\"#000000\" fill-rule=\"evenodd\" fill-opacity=\"1\" /><path clip-path=\"url(#clip610)\" d=\"M 0 0 M1338.72 65.7705 L1338.72 89.8329 L1331.22 89.8329 L1331.22 27.2059 L1338.72 27.2059 L1338.72 34.0924 Q1341.07 30.0415 1344.63 28.0971 Q1348.24 26.1121 1353.22 26.1121 Q1361.48 26.1121 1366.63 32.6746 Q1371.81 39.2371 1371.81 49.9314 Q1371.81 60.6258 1366.63 67.1883 Q1361.48 73.7508 1353.22 73.7508 Q1348.24 73.7508 1344.63 71.8063 Q1341.07 69.8214 1338.72 65.7705 M1364.08 49.9314 Q1364.08 41.7081 1360.67 37.0496 Q1357.31 32.3505 1351.4 32.3505 Q1345.48 32.3505 1342.08 37.0496 Q1338.72 41.7081 1338.72 49.9314 Q1338.72 58.1548 1342.08 62.8538 Q1345.48 67.5124 1351.4 67.5124 Q1357.31 67.5124 1360.67 62.8538 Q1364.08 58.1548 1364.08 49.9314 Z\" fill=\"#000000\" fill-rule=\"evenodd\" fill-opacity=\"1\" /><path clip-path=\"url(#clip610)\" d=\"M 0 0 M1397.21 32.4315 Q1391.22 32.4315 1387.73 37.1306 Q1384.25 41.7891 1384.25 49.9314 Q1384.25 58.0738 1387.69 62.7728 Q1391.18 67.4314 1397.21 67.4314 Q1403.17 67.4314 1406.65 62.7323 Q1410.14 58.0333 1410.14 49.9314 Q1410.14 41.8701 1406.65 37.1711 Q1403.17 32.4315 1397.21 32.4315 M1397.21 26.1121 Q1406.94 26.1121 1412.49 32.4315 Q1418.04 38.7509 1418.04 49.9314 Q1418.04 61.0714 1412.49 67.4314 Q1406.94 73.7508 1397.21 73.7508 Q1387.45 73.7508 1381.9 67.4314 Q1376.39 61.0714 1376.39 49.9314 Q1376.39 38.7509 1381.9 32.4315 Q1387.45 26.1121 1397.21 26.1121 Z\" fill=\"#000000\" fill-rule=\"evenodd\" fill-opacity=\"1\" /><path clip-path=\"url(#clip610)\" d=\"M 0 0 M1463.57 45.1919 L1463.57 72.576 L1456.11 72.576 L1456.11 45.4349 Q1456.11 38.994 1453.6 35.7938 Q1451.09 32.5936 1446.07 32.5936 Q1440.03 32.5936 1436.55 36.4419 Q1433.06 40.2903 1433.06 46.9338 L1433.06 72.576 L1425.57 72.576 L1425.57 27.2059 L1433.06 27.2059 L1433.06 34.2544 Q1435.74 30.163 1439.34 28.1376 Q1442.99 26.1121 1447.73 26.1121 Q1455.55 26.1121 1459.56 30.9732 Q1463.57 35.7938 1463.57 45.1919 Z\" fill=\"#000000\" fill-rule=\"evenodd\" fill-opacity=\"1\" /><path clip-path=\"url(#clip610)\" d=\"M 0 0 M1510.19 48.0275 L1510.19 51.6733 L1475.92 51.6733 Q1476.41 59.3701 1480.54 63.421 Q1484.71 67.4314 1492.13 67.4314 Q1496.42 67.4314 1500.43 66.3781 Q1504.48 65.3249 1508.45 63.2184 L1508.45 70.267 Q1504.44 71.9684 1500.23 72.8596 Q1496.02 73.7508 1491.68 73.7508 Q1480.82 73.7508 1474.46 67.4314 Q1468.15 61.1119 1468.15 50.3365 Q1468.15 39.1965 1474.14 32.6746 Q1480.18 26.1121 1490.38 26.1121 Q1499.54 26.1121 1504.85 32.0264 Q1510.19 37.9003 1510.19 48.0275 M1502.74 45.84 Q1502.66 39.7232 1499.3 36.0774 Q1495.97 32.4315 1490.47 32.4315 Q1484.23 32.4315 1480.46 35.9558 Q1476.73 39.4801 1476.17 45.8805 L1502.74 45.84 Z\" fill=\"#000000\" fill-rule=\"evenodd\" fill-opacity=\"1\" /><path clip-path=\"url(#clip610)\" d=\"M 0 0 M1555.73 45.1919 L1555.73 72.576 L1548.27 72.576 L1548.27 45.4349 Q1548.27 38.994 1545.76 35.7938 Q1543.25 32.5936 1538.23 32.5936 Q1532.19 32.5936 1528.71 36.4419 Q1525.22 40.2903 1525.22 46.9338 L1525.22 72.576 L1517.73 72.576 L1517.73 27.2059 L1525.22 27.2059 L1525.22 34.2544 Q1527.9 30.163 1531.5 28.1376 Q1535.15 26.1121 1539.89 26.1121 Q1547.71 26.1121 1551.72 30.9732 Q1555.73 35.7938 1555.73 45.1919 Z\" fill=\"#000000\" fill-rule=\"evenodd\" fill-opacity=\"1\" /><path clip-path=\"url(#clip610)\" d=\"M 0 0 M1596.19 28.9478 L1596.19 35.9153 Q1593.03 34.1734 1589.83 33.3227 Q1586.67 32.4315 1583.43 32.4315 Q1576.18 32.4315 1572.17 37.0496 Q1568.16 41.6271 1568.16 49.9314 Q1568.16 58.2358 1572.17 62.8538 Q1576.18 67.4314 1583.43 67.4314 Q1586.67 67.4314 1589.83 66.5807 Q1593.03 65.6895 1596.19 63.9476 L1596.19 70.8341 Q1593.08 72.2924 1589.71 73.0216 Q1586.39 73.7508 1582.62 73.7508 Q1572.38 73.7508 1566.34 67.3098 Q1560.3 60.8689 1560.3 49.9314 Q1560.3 38.832 1566.38 32.472 Q1572.5 26.1121 1583.11 26.1121 Q1586.55 26.1121 1589.83 26.8413 Q1593.12 27.5299 1596.19 28.9478 Z\" fill=\"#000000\" fill-rule=\"evenodd\" fill-opacity=\"1\" /><path clip-path=\"url(#clip610)\" d=\"M 0 0 M1604.01 27.2059 L1611.47 27.2059 L1611.47 72.576 L1604.01 72.576 L1604.01 27.2059 M1604.01 9.54393 L1611.47 9.54393 L1611.47 18.9825 L1604.01 18.9825 L1604.01 9.54393 Z\" fill=\"#000000\" fill-rule=\"evenodd\" fill-opacity=\"1\" /><path clip-path=\"url(#clip610)\" d=\"M 0 0 M1639.9 49.7694 Q1630.87 49.7694 1627.39 51.8354 Q1623.9 53.9013 1623.9 58.8839 Q1623.9 62.8538 1626.5 65.2034 Q1629.13 67.5124 1633.62 67.5124 Q1639.82 67.5124 1643.55 63.1374 Q1647.32 58.7219 1647.32 51.4303 L1647.32 49.7694 L1639.9 49.7694 M1654.77 46.6907 L1654.77 72.576 L1647.32 72.576 L1647.32 65.6895 Q1644.76 69.8214 1640.96 71.8063 Q1637.15 73.7508 1631.64 73.7508 Q1624.67 73.7508 1620.54 69.8619 Q1616.45 65.9325 1616.45 59.3701 Q1616.45 51.7138 1621.55 47.825 Q1626.7 43.9361 1636.87 43.9361 L1647.32 43.9361 L1647.32 43.2069 Q1647.32 38.0623 1643.91 35.2672 Q1640.55 32.4315 1634.43 32.4315 Q1630.55 32.4315 1626.86 33.3632 Q1623.17 34.295 1619.77 36.1584 L1619.77 29.2718 Q1623.86 27.692 1627.71 26.9223 Q1631.56 26.1121 1635.2 26.1121 Q1645.05 26.1121 1649.91 31.2163 Q1654.77 36.3204 1654.77 46.6907 Z\" fill=\"#000000\" fill-rule=\"evenodd\" fill-opacity=\"1\" /><path clip-path=\"url(#clip610)\" d=\"M 0 0 M1662.59 9.54393 L1670.04 9.54393 L1670.04 72.576 L1662.59 72.576 L1662.59 9.54393 Z\" fill=\"#000000\" fill-rule=\"evenodd\" fill-opacity=\"1\" /><circle clip-path=\"url(#clip612)\" cx=\"902.357\" cy=\"1115.51\" r=\"14\" fill=\"#009af9\" fill-rule=\"evenodd\" fill-opacity=\"1\" stroke=\"#000000\" stroke-opacity=\"1\" stroke-width=\"3.2\"/>\n",
       "<circle clip-path=\"url(#clip612)\" cx=\"2139.37\" cy=\"267.13\" r=\"14\" fill=\"#009af9\" fill-rule=\"evenodd\" fill-opacity=\"1\" stroke=\"#000000\" stroke-opacity=\"1\" stroke-width=\"3.2\"/>\n",
       "<circle clip-path=\"url(#clip612)\" cx=\"581.649\" cy=\"1420.05\" r=\"14\" fill=\"#009af9\" fill-rule=\"evenodd\" fill-opacity=\"1\" stroke=\"#000000\" stroke-opacity=\"1\" stroke-width=\"3.2\"/>\n",
       "<circle clip-path=\"url(#clip612)\" cx=\"1177.25\" cy=\"1246.02\" r=\"14\" fill=\"#009af9\" fill-rule=\"evenodd\" fill-opacity=\"1\" stroke=\"#000000\" stroke-opacity=\"1\" stroke-width=\"3.2\"/>\n",
       "<circle clip-path=\"url(#clip612)\" cx=\"719.096\" cy=\"1333.04\" r=\"14\" fill=\"#009af9\" fill-rule=\"evenodd\" fill-opacity=\"1\" stroke=\"#000000\" stroke-opacity=\"1\" stroke-width=\"3.2\"/>\n",
       "<circle clip-path=\"url(#clip612)\" cx=\"1818.67\" cy=\"484.662\" r=\"14\" fill=\"#009af9\" fill-rule=\"evenodd\" fill-opacity=\"1\" stroke=\"#000000\" stroke-opacity=\"1\" stroke-width=\"3.2\"/>\n",
       "<circle clip-path=\"url(#clip612)\" cx=\"352.572\" cy=\"1311.28\" r=\"14\" fill=\"#009af9\" fill-rule=\"evenodd\" fill-opacity=\"1\" stroke=\"#000000\" stroke-opacity=\"1\" stroke-width=\"3.2\"/>\n",
       "<circle clip-path=\"url(#clip612)\" cx=\"1337.6\" cy=\"1137.26\" r=\"14\" fill=\"#009af9\" fill-rule=\"evenodd\" fill-opacity=\"1\" stroke=\"#000000\" stroke-opacity=\"1\" stroke-width=\"3.2\"/>\n",
       "<circle clip-path=\"url(#clip612)\" cx=\"260.941\" cy=\"1441.8\" r=\"14\" fill=\"#009af9\" fill-rule=\"evenodd\" fill-opacity=\"1\" stroke=\"#000000\" stroke-opacity=\"1\" stroke-width=\"3.2\"/>\n",
       "<circle clip-path=\"url(#clip612)\" cx=\"810.727\" cy=\"1050.25\" r=\"14\" fill=\"#009af9\" fill-rule=\"evenodd\" fill-opacity=\"1\" stroke=\"#000000\" stroke-opacity=\"1\" stroke-width=\"3.2\"/>\n",
       "<circle clip-path=\"url(#clip612)\" cx=\"2231.01\" cy=\"180.117\" r=\"14\" fill=\"#009af9\" fill-rule=\"evenodd\" fill-opacity=\"1\" stroke=\"#000000\" stroke-opacity=\"1\" stroke-width=\"3.2\"/>\n",
       "<polyline clip-path=\"url(#clip612)\" style=\"stroke:#ff0000; stroke-width:8; stroke-opacity:1; fill:none\" points=\"\n",
       "  201.839,1447.87 222.233,1442.31 410.801,1386.93 524.123,1349.94 619.936,1316.28 724.015,1277.07 819.966,1238.28 922.837,1193.69 1042.02,1137.83 1147.94,1084.11 \n",
       "  1240.82,1033.6 1342.08,974.636 1443.95,910.939 1556.58,835 1663.74,756.95 1775.16,669.319 1868.96,590.045 1983.47,485.905 2091.11,380.07 2263.57,192.916 \n",
       "  2290.11,162.047 \n",
       "  \"/>\n",
       "</svg>\n"
      ]
     },
     "execution_count": 100,
     "metadata": {},
     "output_type": "execute_result"
    }
   ],
   "source": [
    "# Data Set aleatório\n",
    "pontos_x = [45, 99, 31, 57, 37, 85, 21, 64, 17, 41, 103]\n",
    "pontos_y = [33, 72, 19, 27, 23, 62, 24, 32, 18, 36, 76]\n",
    "\n",
    "# Recebe os coeficientes com a função exponencial\n",
    "Coeficientes = regressão_função_exponencial(pontos_x, pontos_y)\n",
    "polinomio(x) = (ℯ^Coeficientes[1])*ℯ^(x*Coeficientes[2]) # define o polinômio \"voltando para o mundo original\" aplicando e\n",
    "# Faz o plot da regressão junto os valores dados\n",
    "scatter(pontos_x,pontos_y,leg=false)\n",
    "plot!(pontos_x -> polinomio(pontos_x), c=:red, lw=2)\n",
    "title!(\"Regressão Exponencial\")"
   ]
  },
  {
   "cell_type": "code",
   "execution_count": 101,
   "metadata": {},
   "outputs": [
    {
     "data": {
      "image/svg+xml": [
       "<?xml version=\"1.0\" encoding=\"utf-8\"?>\n",
       "<svg xmlns=\"http://www.w3.org/2000/svg\" xmlns:xlink=\"http://www.w3.org/1999/xlink\" width=\"600\" height=\"400\" viewBox=\"0 0 2400 1600\">\n",
       "<defs>\n",
       "  <clipPath id=\"clip650\">\n",
       "    <rect x=\"0\" y=\"0\" width=\"2400\" height=\"1600\"/>\n",
       "  </clipPath>\n",
       "</defs>\n",
       "<path clip-path=\"url(#clip650)\" d=\"\n",
       "M0 1600 L2400 1600 L2400 0 L0 0  Z\n",
       "  \" fill=\"#ffffff\" fill-rule=\"evenodd\" fill-opacity=\"1\"/>\n",
       "<defs>\n",
       "  <clipPath id=\"clip651\">\n",
       "    <rect x=\"480\" y=\"0\" width=\"1681\" height=\"1600\"/>\n",
       "  </clipPath>\n",
       "</defs>\n",
       "<path clip-path=\"url(#clip650)\" d=\"\n",
       "M252.408 1486.45 L2352.76 1486.45 L2352.76 123.472 L252.408 123.472  Z\n",
       "  \" fill=\"#ffffff\" fill-rule=\"evenodd\" fill-opacity=\"1\"/>\n",
       "<defs>\n",
       "  <clipPath id=\"clip652\">\n",
       "    <rect x=\"252\" y=\"123\" width=\"2101\" height=\"1364\"/>\n",
       "  </clipPath>\n",
       "</defs>\n",
       "<polyline clip-path=\"url(#clip652)\" style=\"stroke:#000000; stroke-width:2; stroke-opacity:0.1; fill:none\" points=\"\n",
       "  367.931,1486.45 367.931,123.472 \n",
       "  \"/>\n",
       "<polyline clip-path=\"url(#clip652)\" style=\"stroke:#000000; stroke-width:2; stroke-opacity:0.1; fill:none\" points=\"\n",
       "  768.496,1486.45 768.496,123.472 \n",
       "  \"/>\n",
       "<polyline clip-path=\"url(#clip652)\" style=\"stroke:#000000; stroke-width:2; stroke-opacity:0.1; fill:none\" points=\"\n",
       "  1169.06,1486.45 1169.06,123.472 \n",
       "  \"/>\n",
       "<polyline clip-path=\"url(#clip652)\" style=\"stroke:#000000; stroke-width:2; stroke-opacity:0.1; fill:none\" points=\"\n",
       "  1569.63,1486.45 1569.63,123.472 \n",
       "  \"/>\n",
       "<polyline clip-path=\"url(#clip652)\" style=\"stroke:#000000; stroke-width:2; stroke-opacity:0.1; fill:none\" points=\"\n",
       "  1970.19,1486.45 1970.19,123.472 \n",
       "  \"/>\n",
       "<polyline clip-path=\"url(#clip650)\" style=\"stroke:#000000; stroke-width:4; stroke-opacity:1; fill:none\" points=\"\n",
       "  252.408,1486.45 2352.76,1486.45 \n",
       "  \"/>\n",
       "<polyline clip-path=\"url(#clip650)\" style=\"stroke:#000000; stroke-width:4; stroke-opacity:1; fill:none\" points=\"\n",
       "  367.931,1486.45 367.931,1470.09 \n",
       "  \"/>\n",
       "<polyline clip-path=\"url(#clip650)\" style=\"stroke:#000000; stroke-width:4; stroke-opacity:1; fill:none\" points=\"\n",
       "  768.496,1486.45 768.496,1470.09 \n",
       "  \"/>\n",
       "<polyline clip-path=\"url(#clip650)\" style=\"stroke:#000000; stroke-width:4; stroke-opacity:1; fill:none\" points=\"\n",
       "  1169.06,1486.45 1169.06,1470.09 \n",
       "  \"/>\n",
       "<polyline clip-path=\"url(#clip650)\" style=\"stroke:#000000; stroke-width:4; stroke-opacity:1; fill:none\" points=\"\n",
       "  1569.63,1486.45 1569.63,1470.09 \n",
       "  \"/>\n",
       "<polyline clip-path=\"url(#clip650)\" style=\"stroke:#000000; stroke-width:4; stroke-opacity:1; fill:none\" points=\"\n",
       "  1970.19,1486.45 1970.19,1470.09 \n",
       "  \"/>\n",
       "<path clip-path=\"url(#clip650)\" d=\"M 0 0 M367.931 1515.64 Q364.32 1515.64 362.491 1519.2 Q360.685 1522.75 360.685 1529.87 Q360.685 1536.98 362.491 1540.55 Q364.32 1544.09 367.931 1544.09 Q371.565 1544.09 373.371 1540.55 Q375.199 1536.98 375.199 1529.87 Q375.199 1522.75 373.371 1519.2 Q371.565 1515.64 367.931 1515.64 M367.931 1511.93 Q373.741 1511.93 376.796 1516.54 Q379.875 1521.12 379.875 1529.87 Q379.875 1538.6 376.796 1543.21 Q373.741 1547.79 367.931 1547.79 Q362.121 1547.79 359.042 1543.21 Q355.986 1538.6 355.986 1529.87 Q355.986 1521.12 359.042 1516.54 Q362.121 1511.93 367.931 1511.93 Z\" fill=\"#000000\" fill-rule=\"evenodd\" fill-opacity=\"1\" /><path clip-path=\"url(#clip650)\" d=\"M 0 0 M772.743 1528.49 Q776.1 1529.2 777.975 1531.47 Q779.873 1533.74 779.873 1537.07 Q779.873 1542.19 776.354 1544.99 Q772.836 1547.79 766.354 1547.79 Q764.178 1547.79 761.864 1547.35 Q759.572 1546.93 757.118 1546.08 L757.118 1541.56 Q759.063 1542.7 761.378 1543.28 Q763.692 1543.86 766.215 1543.86 Q770.614 1543.86 772.905 1542.12 Q775.22 1540.38 775.22 1537.07 Q775.22 1534.02 773.067 1532.31 Q770.938 1530.57 767.118 1530.57 L763.09 1530.57 L763.09 1526.73 L767.303 1526.73 Q770.752 1526.73 772.581 1525.36 Q774.41 1523.97 774.41 1521.38 Q774.41 1518.72 772.512 1517.31 Q770.637 1515.87 767.118 1515.87 Q765.197 1515.87 762.998 1516.29 Q760.799 1516.7 758.16 1517.58 L758.16 1513.42 Q760.822 1512.68 763.137 1512.31 Q765.475 1511.93 767.535 1511.93 Q772.859 1511.93 775.961 1514.37 Q779.063 1516.77 779.063 1520.89 Q779.063 1523.76 777.419 1525.75 Q775.776 1527.72 772.743 1528.49 Z\" fill=\"#000000\" fill-rule=\"evenodd\" fill-opacity=\"1\" /><path clip-path=\"url(#clip650)\" d=\"M 0 0 M1169.47 1527.98 Q1166.32 1527.98 1164.47 1530.13 Q1162.64 1532.28 1162.64 1536.03 Q1162.64 1539.76 1164.47 1541.93 Q1166.32 1544.09 1169.47 1544.09 Q1172.61 1544.09 1174.44 1541.93 Q1176.29 1539.76 1176.29 1536.03 Q1176.29 1532.28 1174.44 1530.13 Q1172.61 1527.98 1169.47 1527.98 M1178.75 1513.32 L1178.75 1517.58 Q1176.99 1516.75 1175.18 1516.31 Q1173.4 1515.87 1171.64 1515.87 Q1167.01 1515.87 1164.56 1519 Q1162.13 1522.12 1161.78 1528.44 Q1163.15 1526.43 1165.21 1525.36 Q1167.27 1524.27 1169.74 1524.27 Q1174.95 1524.27 1177.96 1527.44 Q1180.99 1530.59 1180.99 1536.03 Q1180.99 1541.36 1177.84 1544.57 Q1174.7 1547.79 1169.47 1547.79 Q1163.47 1547.79 1160.3 1543.21 Q1157.13 1538.6 1157.13 1529.87 Q1157.13 1521.68 1161.02 1516.82 Q1164.91 1511.93 1171.46 1511.93 Q1173.22 1511.93 1175 1512.28 Q1176.8 1512.63 1178.75 1513.32 Z\" fill=\"#000000\" fill-rule=\"evenodd\" fill-opacity=\"1\" /><path clip-path=\"url(#clip650)\" d=\"M 0 0 M1559.93 1546.4 L1559.93 1542.14 Q1561.69 1542.98 1563.49 1543.42 Q1565.3 1543.86 1567.03 1543.86 Q1571.66 1543.86 1574.09 1540.75 Q1576.55 1537.63 1576.89 1531.29 Q1575.55 1533.28 1573.49 1534.34 Q1571.43 1535.41 1568.93 1535.41 Q1563.75 1535.41 1560.71 1532.28 Q1557.7 1529.13 1557.7 1523.69 Q1557.7 1518.37 1560.85 1515.15 Q1564 1511.93 1569.23 1511.93 Q1575.23 1511.93 1578.38 1516.54 Q1581.55 1521.12 1581.55 1529.87 Q1581.55 1538.05 1577.66 1542.93 Q1573.79 1547.79 1567.24 1547.79 Q1565.48 1547.79 1563.68 1547.44 Q1561.87 1547.1 1559.93 1546.4 M1569.23 1531.75 Q1572.38 1531.75 1574.21 1529.6 Q1576.06 1527.44 1576.06 1523.69 Q1576.06 1519.97 1574.21 1517.81 Q1572.38 1515.64 1569.23 1515.64 Q1566.08 1515.64 1564.23 1517.81 Q1562.4 1519.97 1562.4 1523.69 Q1562.4 1527.44 1564.23 1529.6 Q1566.08 1531.75 1569.23 1531.75 Z\" fill=\"#000000\" fill-rule=\"evenodd\" fill-opacity=\"1\" /><path clip-path=\"url(#clip650)\" d=\"M 0 0 M1947.86 1543.18 L1955.5 1543.18 L1955.5 1516.82 L1947.19 1518.49 L1947.19 1514.23 L1955.46 1512.56 L1960.13 1512.56 L1960.13 1543.18 L1967.77 1543.18 L1967.77 1547.12 L1947.86 1547.12 L1947.86 1543.18 Z\" fill=\"#000000\" fill-rule=\"evenodd\" fill-opacity=\"1\" /><path clip-path=\"url(#clip650)\" d=\"M 0 0 M1976.87 1543.18 L1993.19 1543.18 L1993.19 1547.12 L1971.24 1547.12 L1971.24 1543.18 Q1973.91 1540.43 1978.49 1535.8 Q1983.09 1531.15 1984.28 1529.81 Q1986.52 1527.28 1987.4 1525.55 Q1988.3 1523.79 1988.3 1522.1 Q1988.3 1519.34 1986.36 1517.61 Q1984.44 1515.87 1981.34 1515.87 Q1979.14 1515.87 1976.68 1516.63 Q1974.25 1517.4 1971.47 1518.95 L1971.47 1514.23 Q1974.3 1513.09 1976.75 1512.51 Q1979.21 1511.93 1981.24 1511.93 Q1986.61 1511.93 1989.81 1514.62 Q1993 1517.31 1993 1521.8 Q1993 1523.93 1992.19 1525.85 Q1991.41 1527.74 1989.3 1530.34 Q1988.72 1531.01 1985.62 1534.23 Q1982.52 1537.42 1976.87 1543.18 Z\" fill=\"#000000\" fill-rule=\"evenodd\" fill-opacity=\"1\" /><polyline clip-path=\"url(#clip652)\" style=\"stroke:#000000; stroke-width:2; stroke-opacity:0.1; fill:none\" points=\"\n",
       "  252.408,1447.92 2352.76,1447.92 \n",
       "  \"/>\n",
       "<polyline clip-path=\"url(#clip652)\" style=\"stroke:#000000; stroke-width:2; stroke-opacity:0.1; fill:none\" points=\"\n",
       "  252.408,1154.62 2352.76,1154.62 \n",
       "  \"/>\n",
       "<polyline clip-path=\"url(#clip652)\" style=\"stroke:#000000; stroke-width:2; stroke-opacity:0.1; fill:none\" points=\"\n",
       "  252.408,861.314 2352.76,861.314 \n",
       "  \"/>\n",
       "<polyline clip-path=\"url(#clip652)\" style=\"stroke:#000000; stroke-width:2; stroke-opacity:0.1; fill:none\" points=\"\n",
       "  252.408,568.012 2352.76,568.012 \n",
       "  \"/>\n",
       "<polyline clip-path=\"url(#clip652)\" style=\"stroke:#000000; stroke-width:2; stroke-opacity:0.1; fill:none\" points=\"\n",
       "  252.408,274.71 2352.76,274.71 \n",
       "  \"/>\n",
       "<polyline clip-path=\"url(#clip650)\" style=\"stroke:#000000; stroke-width:4; stroke-opacity:1; fill:none\" points=\"\n",
       "  252.408,1486.45 252.408,123.472 \n",
       "  \"/>\n",
       "<polyline clip-path=\"url(#clip650)\" style=\"stroke:#000000; stroke-width:4; stroke-opacity:1; fill:none\" points=\"\n",
       "  252.408,1447.92 277.612,1447.92 \n",
       "  \"/>\n",
       "<polyline clip-path=\"url(#clip650)\" style=\"stroke:#000000; stroke-width:4; stroke-opacity:1; fill:none\" points=\"\n",
       "  252.408,1154.62 277.612,1154.62 \n",
       "  \"/>\n",
       "<polyline clip-path=\"url(#clip650)\" style=\"stroke:#000000; stroke-width:4; stroke-opacity:1; fill:none\" points=\"\n",
       "  252.408,861.314 277.612,861.314 \n",
       "  \"/>\n",
       "<polyline clip-path=\"url(#clip650)\" style=\"stroke:#000000; stroke-width:4; stroke-opacity:1; fill:none\" points=\"\n",
       "  252.408,568.012 277.612,568.012 \n",
       "  \"/>\n",
       "<polyline clip-path=\"url(#clip650)\" style=\"stroke:#000000; stroke-width:4; stroke-opacity:1; fill:none\" points=\"\n",
       "  252.408,274.71 277.612,274.71 \n",
       "  \"/>\n",
       "<path clip-path=\"url(#clip650)\" d=\"M 0 0 M204.464 1433.72 Q200.852 1433.72 199.024 1437.28 Q197.218 1440.82 197.218 1447.95 Q197.218 1455.06 199.024 1458.62 Q200.852 1462.16 204.464 1462.16 Q208.098 1462.16 209.903 1458.62 Q211.732 1455.06 211.732 1447.95 Q211.732 1440.82 209.903 1437.28 Q208.098 1433.72 204.464 1433.72 M204.464 1430.01 Q210.274 1430.01 213.329 1434.62 Q216.408 1439.2 216.408 1447.95 Q216.408 1456.68 213.329 1461.28 Q210.274 1465.87 204.464 1465.87 Q198.653 1465.87 195.575 1461.28 Q192.519 1456.68 192.519 1447.95 Q192.519 1439.2 195.575 1434.62 Q198.653 1430.01 204.464 1430.01 Z\" fill=\"#000000\" fill-rule=\"evenodd\" fill-opacity=\"1\" /><path clip-path=\"url(#clip650)\" d=\"M 0 0 M54.0086 1143.78 L72.365 1143.78 L72.365 1147.72 L58.291 1147.72 L58.291 1156.19 Q59.3095 1155.84 60.328 1155.68 Q61.3465 1155.5 62.365 1155.5 Q68.152 1155.5 71.5317 1158.67 Q74.9113 1161.84 74.9113 1167.25 Q74.9113 1172.83 71.4391 1175.94 Q67.9669 1179.01 61.6475 1179.01 Q59.4715 1179.01 57.203 1178.64 Q54.9577 1178.27 52.5503 1177.53 L52.5503 1172.83 Q54.6336 1173.97 56.8558 1174.52 Q59.078 1175.08 61.5549 1175.08 Q65.5595 1175.08 67.8974 1172.97 Q70.2354 1170.87 70.2354 1167.25 Q70.2354 1163.64 67.8974 1161.54 Q65.5595 1159.43 61.5549 1159.43 Q59.6799 1159.43 57.8049 1159.85 Q55.953 1160.26 54.0086 1161.14 L54.0086 1143.78 Z\" fill=\"#000000\" fill-rule=\"evenodd\" fill-opacity=\"1\" /><path clip-path=\"url(#clip650)\" d=\"M 0 0 M79.9807 1172.46 L84.8649 1172.46 L84.8649 1178.34 L79.9807 1178.34 L79.9807 1172.46 Z\" fill=\"#000000\" fill-rule=\"evenodd\" fill-opacity=\"1\" /><path clip-path=\"url(#clip650)\" d=\"M 0 0 M99.9343 1146.86 Q96.3232 1146.86 94.4945 1150.43 Q92.689 1153.97 92.689 1161.1 Q92.689 1168.2 94.4945 1171.77 Q96.3232 1175.31 99.9343 1175.31 Q103.569 1175.31 105.374 1171.77 Q107.203 1168.2 107.203 1161.1 Q107.203 1153.97 105.374 1150.43 Q103.569 1146.86 99.9343 1146.86 M99.9343 1143.16 Q105.744 1143.16 108.8 1147.76 Q111.879 1152.35 111.879 1161.1 Q111.879 1169.82 108.8 1174.43 Q105.744 1179.01 99.9343 1179.01 Q94.1241 1179.01 91.0454 1174.43 Q87.9899 1169.82 87.9899 1161.1 Q87.9899 1152.35 91.0454 1147.76 Q94.1241 1143.16 99.9343 1143.16 Z\" fill=\"#000000\" fill-rule=\"evenodd\" fill-opacity=\"1\" /><path clip-path=\"url(#clip650)\" d=\"M 0 0 M145.119 1152.88 L134.541 1163.5 L145.119 1174.08 L142.365 1176.88 L131.74 1166.26 L121.115 1176.88 L118.383 1174.08 L128.939 1163.5 L118.383 1152.88 L121.115 1150.08 L131.74 1160.7 L142.365 1150.08 L145.119 1152.88 Z\" fill=\"#000000\" fill-rule=\"evenodd\" fill-opacity=\"1\" /><path clip-path=\"url(#clip650)\" d=\"M 0 0 M150.999 1174.41 L158.638 1174.41 L158.638 1148.04 L150.328 1149.71 L150.328 1145.45 L158.591 1143.78 L163.267 1143.78 L163.267 1174.41 L170.906 1174.41 L170.906 1178.34 L150.999 1178.34 L150.999 1174.41 Z\" fill=\"#000000\" fill-rule=\"evenodd\" fill-opacity=\"1\" /><path clip-path=\"url(#clip650)\" d=\"M 0 0 M185.975 1146.86 Q182.364 1146.86 180.536 1150.43 Q178.73 1153.97 178.73 1161.1 Q178.73 1168.2 180.536 1171.77 Q182.364 1175.31 185.975 1175.31 Q189.61 1175.31 191.415 1171.77 Q193.244 1168.2 193.244 1161.1 Q193.244 1153.97 191.415 1150.43 Q189.61 1146.86 185.975 1146.86 M185.975 1143.16 Q191.786 1143.16 194.841 1147.76 Q197.92 1152.35 197.92 1161.1 Q197.92 1169.82 194.841 1174.43 Q191.786 1179.01 185.975 1179.01 Q180.165 1179.01 177.087 1174.43 Q174.031 1169.82 174.031 1161.1 Q174.031 1152.35 177.087 1147.76 Q180.165 1143.16 185.975 1143.16 Z\" fill=\"#000000\" fill-rule=\"evenodd\" fill-opacity=\"1\" /><path clip-path=\"url(#clip650)\" d=\"M 0 0 M210.615 1135.79 Q213.342 1136.38 214.866 1138.22 Q216.408 1140.06 216.408 1142.77 Q216.408 1146.93 213.549 1149.2 Q210.69 1151.48 205.424 1151.48 Q203.656 1151.48 201.775 1151.12 Q199.913 1150.78 197.92 1150.09 L197.92 1146.42 Q199.5 1147.34 201.38 1147.81 Q203.261 1148.28 205.311 1148.28 Q208.885 1148.28 210.747 1146.87 Q212.628 1145.46 212.628 1142.77 Q212.628 1140.29 210.878 1138.9 Q209.148 1137.48 206.045 1137.48 L202.772 1137.48 L202.772 1134.36 L206.195 1134.36 Q208.998 1134.36 210.483 1133.25 Q211.969 1132.12 211.969 1130.02 Q211.969 1127.86 210.427 1126.71 Q208.904 1125.54 206.045 1125.54 Q204.484 1125.54 202.697 1125.88 Q200.91 1126.22 198.766 1126.93 L198.766 1123.55 Q200.929 1122.95 202.81 1122.65 Q204.709 1122.34 206.383 1122.34 Q210.709 1122.34 213.229 1124.32 Q215.75 1126.28 215.75 1129.62 Q215.75 1131.96 214.414 1133.57 Q213.079 1135.17 210.615 1135.79 Z\" fill=\"#000000\" fill-rule=\"evenodd\" fill-opacity=\"1\" /><path clip-path=\"url(#clip650)\" d=\"M 0 0 M53.0292 881.106 L60.668 881.106 L60.668 854.74 L52.3579 856.407 L52.3579 852.148 L60.6217 850.481 L65.2976 850.481 L65.2976 881.106 L72.9365 881.106 L72.9365 885.041 L53.0292 885.041 L53.0292 881.106 Z\" fill=\"#000000\" fill-rule=\"evenodd\" fill-opacity=\"1\" /><path clip-path=\"url(#clip650)\" d=\"M 0 0 M78.0059 879.162 L82.8901 879.162 L82.8901 885.041 L78.0059 885.041 L78.0059 879.162 Z\" fill=\"#000000\" fill-rule=\"evenodd\" fill-opacity=\"1\" /><path clip-path=\"url(#clip650)\" d=\"M 0 0 M97.9595 853.56 Q94.3484 853.56 92.5197 857.125 Q90.7141 860.666 90.7141 867.796 Q90.7141 874.902 92.5197 878.467 Q94.3484 882.009 97.9595 882.009 Q101.594 882.009 103.399 878.467 Q105.228 874.902 105.228 867.796 Q105.228 860.666 103.399 857.125 Q101.594 853.56 97.9595 853.56 M97.9595 849.856 Q103.77 849.856 106.825 854.463 Q109.904 859.046 109.904 867.796 Q109.904 876.523 106.825 881.129 Q103.77 885.712 97.9595 885.712 Q92.1493 885.712 89.0706 881.129 Q86.0151 876.523 86.0151 867.796 Q86.0151 859.046 89.0706 854.463 Q92.1493 849.856 97.9595 849.856 Z\" fill=\"#000000\" fill-rule=\"evenodd\" fill-opacity=\"1\" /><path clip-path=\"url(#clip650)\" d=\"M 0 0 M143.144 859.578 L132.566 870.203 L143.144 880.782 L140.39 883.583 L129.765 872.958 L119.14 883.583 L116.408 880.782 L126.964 870.203 L116.408 859.578 L119.14 856.777 L129.765 867.402 L140.39 856.777 L143.144 859.578 Z\" fill=\"#000000\" fill-rule=\"evenodd\" fill-opacity=\"1\" /><path clip-path=\"url(#clip650)\" d=\"M 0 0 M149.024 881.106 L156.663 881.106 L156.663 854.74 L148.353 856.407 L148.353 852.148 L156.617 850.481 L161.292 850.481 L161.292 881.106 L168.931 881.106 L168.931 885.041 L149.024 885.041 L149.024 881.106 Z\" fill=\"#000000\" fill-rule=\"evenodd\" fill-opacity=\"1\" /><path clip-path=\"url(#clip650)\" d=\"M 0 0 M184.001 853.56 Q180.39 853.56 178.561 857.125 Q176.755 860.666 176.755 867.796 Q176.755 874.902 178.561 878.467 Q180.39 882.009 184.001 882.009 Q187.635 882.009 189.44 878.467 Q191.269 874.902 191.269 867.796 Q191.269 860.666 189.44 857.125 Q187.635 853.56 184.001 853.56 M184.001 849.856 Q189.811 849.856 192.866 854.463 Q195.945 859.046 195.945 867.796 Q195.945 876.523 192.866 881.129 Q189.811 885.712 184.001 885.712 Q178.191 885.712 175.112 881.129 Q172.056 876.523 172.056 867.796 Q172.056 859.046 175.112 854.463 Q178.191 849.856 184.001 849.856 Z\" fill=\"#000000\" fill-rule=\"evenodd\" fill-opacity=\"1\" /><path clip-path=\"url(#clip650)\" d=\"M 0 0 M208.621 832.861 L199.03 847.851 L208.621 847.851 L208.621 832.861 M207.625 829.551 L212.402 829.551 L212.402 847.851 L216.408 847.851 L216.408 851.01 L212.402 851.01 L212.402 857.631 L208.621 857.631 L208.621 851.01 L195.945 851.01 L195.945 847.343 L207.625 829.551 Z\" fill=\"#000000\" fill-rule=\"evenodd\" fill-opacity=\"1\" /><path clip-path=\"url(#clip650)\" d=\"M 0 0 M54.0245 587.804 L61.6634 587.804 L61.6634 561.439 L53.3532 563.105 L53.3532 558.846 L61.6171 557.18 L66.293 557.18 L66.293 587.804 L73.9318 587.804 L73.9318 591.74 L54.0245 591.74 L54.0245 587.804 Z\" fill=\"#000000\" fill-rule=\"evenodd\" fill-opacity=\"1\" /><path clip-path=\"url(#clip650)\" d=\"M 0 0 M79.0012 585.86 L83.8855 585.86 L83.8855 591.74 L79.0012 591.74 L79.0012 585.86 Z\" fill=\"#000000\" fill-rule=\"evenodd\" fill-opacity=\"1\" /><path clip-path=\"url(#clip650)\" d=\"M 0 0 M89.0012 557.18 L107.358 557.18 L107.358 561.115 L93.2836 561.115 L93.2836 569.587 Q94.3021 569.24 95.3206 569.078 Q96.3391 568.892 97.3576 568.892 Q103.145 568.892 106.524 572.064 Q109.904 575.235 109.904 580.652 Q109.904 586.23 106.432 589.332 Q102.959 592.411 96.64 592.411 Q94.4641 592.411 92.1956 592.04 Q89.9503 591.67 87.5429 590.929 L87.5429 586.23 Q89.6262 587.365 91.8484 587.92 Q94.0706 588.476 96.5474 588.476 Q100.552 588.476 102.89 586.369 Q105.228 584.263 105.228 580.652 Q105.228 577.041 102.89 574.934 Q100.552 572.828 96.5474 572.828 Q94.6724 572.828 92.7975 573.244 Q90.9456 573.661 89.0012 574.541 L89.0012 557.18 Z\" fill=\"#000000\" fill-rule=\"evenodd\" fill-opacity=\"1\" /><path clip-path=\"url(#clip650)\" d=\"M 0 0 M143.144 566.277 L132.566 576.902 L143.144 587.48 L140.39 590.281 L129.765 579.656 L119.14 590.281 L116.408 587.48 L126.964 576.902 L116.408 566.277 L119.14 563.476 L129.765 574.101 L140.39 563.476 L143.144 566.277 Z\" fill=\"#000000\" fill-rule=\"evenodd\" fill-opacity=\"1\" /><path clip-path=\"url(#clip650)\" d=\"M 0 0 M149.024 587.804 L156.663 587.804 L156.663 561.439 L148.353 563.105 L148.353 558.846 L156.617 557.18 L161.292 557.18 L161.292 587.804 L168.931 587.804 L168.931 591.74 L149.024 591.74 L149.024 587.804 Z\" fill=\"#000000\" fill-rule=\"evenodd\" fill-opacity=\"1\" /><path clip-path=\"url(#clip650)\" d=\"M 0 0 M184.001 560.258 Q180.39 560.258 178.561 563.823 Q176.755 567.365 176.755 574.494 Q176.755 581.601 178.561 585.165 Q180.39 588.707 184.001 588.707 Q187.635 588.707 189.44 585.165 Q191.269 581.601 191.269 574.494 Q191.269 567.365 189.44 563.823 Q187.635 560.258 184.001 560.258 M184.001 556.555 Q189.811 556.555 192.866 561.161 Q195.945 565.744 195.945 574.494 Q195.945 583.221 192.866 587.828 Q189.811 592.411 184.001 592.411 Q178.191 592.411 175.112 587.828 Q172.056 583.221 172.056 574.494 Q172.056 565.744 175.112 561.161 Q178.191 556.555 184.001 556.555 Z\" fill=\"#000000\" fill-rule=\"evenodd\" fill-opacity=\"1\" /><path clip-path=\"url(#clip650)\" d=\"M 0 0 M208.621 539.559 L199.03 554.549 L208.621 554.549 L208.621 539.559 M207.625 536.249 L212.402 536.249 L212.402 554.549 L216.408 554.549 L216.408 557.709 L212.402 557.709 L212.402 564.329 L208.621 564.329 L208.621 557.709 L195.945 557.709 L195.945 554.041 L207.625 536.249 Z\" fill=\"#000000\" fill-rule=\"evenodd\" fill-opacity=\"1\" /><path clip-path=\"url(#clip650)\" d=\"M 0 0 M56.6171 294.503 L72.9365 294.503 L72.9365 298.438 L50.9921 298.438 L50.9921 294.503 Q53.6541 291.748 58.2375 287.118 Q62.8439 282.466 64.0245 281.123 Q66.2698 278.6 67.1494 276.864 Q68.0522 275.105 68.0522 273.415 Q68.0522 270.66 66.1078 268.924 Q64.1865 267.188 61.0847 267.188 Q58.8856 267.188 56.4319 267.952 Q54.0014 268.716 51.2236 270.267 L51.2236 265.545 Q54.0477 264.41 56.5014 263.832 Q58.955 263.253 60.9921 263.253 Q66.3624 263.253 69.5568 265.938 Q72.7513 268.623 72.7513 273.114 Q72.7513 275.244 71.9411 277.165 Q71.1541 279.063 69.0476 281.656 Q68.4689 282.327 65.367 285.544 Q62.2652 288.739 56.6171 294.503 Z\" fill=\"#000000\" fill-rule=\"evenodd\" fill-opacity=\"1\" /><path clip-path=\"url(#clip650)\" d=\"M 0 0 M78.0059 292.558 L82.8901 292.558 L82.8901 298.438 L78.0059 298.438 L78.0059 292.558 Z\" fill=\"#000000\" fill-rule=\"evenodd\" fill-opacity=\"1\" /><path clip-path=\"url(#clip650)\" d=\"M 0 0 M97.9595 266.957 Q94.3484 266.957 92.5197 270.521 Q90.7141 274.063 90.7141 281.193 Q90.7141 288.299 92.5197 291.864 Q94.3484 295.405 97.9595 295.405 Q101.594 295.405 103.399 291.864 Q105.228 288.299 105.228 281.193 Q105.228 274.063 103.399 270.521 Q101.594 266.957 97.9595 266.957 M97.9595 263.253 Q103.77 263.253 106.825 267.859 Q109.904 272.443 109.904 281.193 Q109.904 289.919 106.825 294.526 Q103.77 299.109 97.9595 299.109 Q92.1493 299.109 89.0706 294.526 Q86.0151 289.919 86.0151 281.193 Q86.0151 272.443 89.0706 267.859 Q92.1493 263.253 97.9595 263.253 Z\" fill=\"#000000\" fill-rule=\"evenodd\" fill-opacity=\"1\" /><path clip-path=\"url(#clip650)\" d=\"M 0 0 M143.144 272.975 L132.566 283.6 L143.144 294.179 L140.39 296.98 L129.765 286.355 L119.14 296.98 L116.408 294.179 L126.964 283.6 L116.408 272.975 L119.14 270.174 L129.765 280.799 L140.39 270.174 L143.144 272.975 Z\" fill=\"#000000\" fill-rule=\"evenodd\" fill-opacity=\"1\" /><path clip-path=\"url(#clip650)\" d=\"M 0 0 M149.024 294.503 L156.663 294.503 L156.663 268.137 L148.353 269.804 L148.353 265.545 L156.617 263.878 L161.292 263.878 L161.292 294.503 L168.931 294.503 L168.931 298.438 L149.024 298.438 L149.024 294.503 Z\" fill=\"#000000\" fill-rule=\"evenodd\" fill-opacity=\"1\" /><path clip-path=\"url(#clip650)\" d=\"M 0 0 M184.001 266.957 Q180.39 266.957 178.561 270.521 Q176.755 274.063 176.755 281.193 Q176.755 288.299 178.561 291.864 Q180.39 295.405 184.001 295.405 Q187.635 295.405 189.44 291.864 Q191.269 288.299 191.269 281.193 Q191.269 274.063 189.44 270.521 Q187.635 266.957 184.001 266.957 M184.001 263.253 Q189.811 263.253 192.866 267.859 Q195.945 272.443 195.945 281.193 Q195.945 289.919 192.866 294.526 Q189.811 299.109 184.001 299.109 Q178.191 299.109 175.112 294.526 Q172.056 289.919 172.056 281.193 Q172.056 272.443 175.112 267.859 Q178.191 263.253 184.001 263.253 Z\" fill=\"#000000\" fill-rule=\"evenodd\" fill-opacity=\"1\" /><path clip-path=\"url(#clip650)\" d=\"M 0 0 M208.621 246.258 L199.03 261.247 L208.621 261.247 L208.621 246.258 M207.625 242.947 L212.402 242.947 L212.402 261.247 L216.408 261.247 L216.408 264.407 L212.402 264.407 L212.402 271.027 L208.621 271.027 L208.621 264.407 L195.945 264.407 L195.945 260.74 L207.625 242.947 Z\" fill=\"#000000\" fill-rule=\"evenodd\" fill-opacity=\"1\" /><path clip-path=\"url(#clip650)\" d=\"M 0 0 M907.193 44.2197 Q909.826 45.1109 912.298 48.0275 Q914.809 50.9442 917.321 56.0483 L925.625 72.576 L916.835 72.576 L909.097 57.061 Q906.1 50.9847 903.264 48.9997 Q900.469 47.0148 895.608 47.0148 L886.696 47.0148 L886.696 72.576 L878.513 72.576 L878.513 12.096 L896.985 12.096 Q907.355 12.096 912.46 16.4305 Q917.564 20.7649 917.564 29.5149 Q917.564 35.2267 914.89 38.994 Q912.257 42.7613 907.193 44.2197 M886.696 18.8205 L886.696 40.2903 L896.985 40.2903 Q902.899 40.2903 905.897 37.5762 Q908.935 34.8216 908.935 29.5149 Q908.935 24.2082 905.897 21.5346 Q902.899 18.8205 896.985 18.8205 L886.696 18.8205 Z\" fill=\"#000000\" fill-rule=\"evenodd\" fill-opacity=\"1\" /><path clip-path=\"url(#clip650)\" d=\"M 0 0 M968.524 48.0275 L968.524 51.6733 L934.253 51.6733 Q934.74 59.3701 938.871 63.421 Q943.044 67.4314 950.457 67.4314 Q954.751 67.4314 958.761 66.3781 Q962.812 65.3249 966.782 63.2184 L966.782 70.267 Q962.772 71.9684 958.559 72.8596 Q954.346 73.7508 950.011 73.7508 Q939.155 73.7508 932.795 67.4314 Q926.476 61.1119 926.476 50.3365 Q926.476 39.1965 932.471 32.6746 Q938.507 26.1121 948.715 26.1121 Q957.87 26.1121 963.177 32.0264 Q968.524 37.9003 968.524 48.0275 M961.07 45.84 Q960.989 39.7232 957.627 36.0774 Q954.305 32.4315 948.796 32.4315 Q942.558 32.4315 938.79 35.9558 Q935.064 39.4801 934.496 45.8805 L961.07 45.84 Z\" fill=\"#000000\" fill-rule=\"evenodd\" fill-opacity=\"1\" /><path clip-path=\"url(#clip650)\" d=\"M 0 0 M1006.2 49.3643 Q1006.2 41.2625 1002.84 36.8065 Q999.514 32.3505 993.478 32.3505 Q987.482 32.3505 984.12 36.8065 Q980.798 41.2625 980.798 49.3643 Q980.798 57.4256 984.12 61.8816 Q987.482 66.3376 993.478 66.3376 Q999.514 66.3376 1002.84 61.8816 Q1006.2 57.4256 1006.2 49.3643 M1013.65 66.9452 Q1013.65 78.5308 1008.51 84.1616 Q1003.36 89.8329 992.748 89.8329 Q988.819 89.8329 985.335 89.2252 Q981.852 88.6581 978.57 87.4428 L978.57 80.1917 Q981.852 81.9741 985.052 82.8248 Q988.252 83.6755 991.574 83.6755 Q998.906 83.6755 1002.55 79.8271 Q1006.2 76.0193 1006.2 68.282 L1006.2 64.5957 Q1003.89 68.6061 1000.28 70.5911 Q996.678 72.576 991.655 72.576 Q983.31 72.576 978.206 66.2161 Q973.102 59.8562 973.102 49.3643 Q973.102 38.832 978.206 32.472 Q983.31 26.1121 991.655 26.1121 Q996.678 26.1121 1000.28 28.0971 Q1003.89 30.082 1006.2 34.0924 L1006.2 27.2059 L1013.65 27.2059 L1013.65 66.9452 Z\" fill=\"#000000\" fill-rule=\"evenodd\" fill-opacity=\"1\" /><path clip-path=\"url(#clip650)\" d=\"M 0 0 M1047.76 34.1734 Q1046.5 33.4443 1045.01 33.1202 Q1043.55 32.7556 1041.76 32.7556 Q1035.45 32.7556 1032.04 36.8875 Q1028.68 40.9789 1028.68 48.6757 L1028.68 72.576 L1021.19 72.576 L1021.19 27.2059 L1028.68 27.2059 L1028.68 34.2544 Q1031.03 30.1225 1034.8 28.1376 Q1038.56 26.1121 1043.95 26.1121 Q1044.72 26.1121 1045.65 26.2337 Q1046.59 26.3147 1047.72 26.5172 L1047.76 34.1734 Z\" fill=\"#000000\" fill-rule=\"evenodd\" fill-opacity=\"1\" /><path clip-path=\"url(#clip650)\" d=\"M 0 0 M1092.56 48.0275 L1092.56 51.6733 L1058.29 51.6733 Q1058.78 59.3701 1062.91 63.421 Q1067.08 67.4314 1074.5 67.4314 Q1078.79 67.4314 1082.8 66.3781 Q1086.85 65.3249 1090.82 63.2184 L1090.82 70.267 Q1086.81 71.9684 1082.6 72.8596 Q1078.38 73.7508 1074.05 73.7508 Q1063.19 73.7508 1056.83 67.4314 Q1050.51 61.1119 1050.51 50.3365 Q1050.51 39.1965 1056.51 32.6746 Q1062.55 26.1121 1072.75 26.1121 Q1081.91 26.1121 1087.22 32.0264 Q1092.56 37.9003 1092.56 48.0275 M1085.11 45.84 Q1085.03 39.7232 1081.67 36.0774 Q1078.34 32.4315 1072.83 32.4315 Q1066.6 32.4315 1062.83 35.9558 Q1059.1 39.4801 1058.54 45.8805 L1085.11 45.84 Z\" fill=\"#000000\" fill-rule=\"evenodd\" fill-opacity=\"1\" /><path clip-path=\"url(#clip650)\" d=\"M 0 0 M1129.3 28.5427 L1129.3 35.5912 Q1126.14 33.9709 1122.74 33.1607 Q1119.34 32.3505 1115.69 32.3505 Q1110.14 32.3505 1107.35 34.0519 Q1104.59 35.7533 1104.59 39.156 Q1104.59 41.7486 1106.58 43.2475 Q1108.56 44.7058 1114.56 46.0426 L1117.11 46.6097 Q1125.05 48.3111 1128.37 51.4303 Q1131.74 54.509 1131.74 60.0587 Q1131.74 66.3781 1126.71 70.0644 Q1121.73 73.7508 1112.98 73.7508 Q1109.33 73.7508 1105.36 73.0216 Q1101.43 72.3329 1097.06 70.9151 L1097.06 63.2184 Q1101.19 65.3654 1105.2 66.4591 Q1109.21 67.5124 1113.14 67.5124 Q1118.41 67.5124 1121.24 65.73 Q1124.08 63.9071 1124.08 60.6258 Q1124.08 57.5877 1122.01 55.9673 Q1119.99 54.3469 1113.06 52.8481 L1110.47 52.2405 Q1103.54 50.7821 1100.46 47.7845 Q1097.38 44.7463 1097.38 39.4801 Q1097.38 33.0797 1101.92 29.5959 Q1106.46 26.1121 1114.8 26.1121 Q1118.93 26.1121 1122.58 26.7198 Q1126.23 27.3274 1129.3 28.5427 Z\" fill=\"#000000\" fill-rule=\"evenodd\" fill-opacity=\"1\" /><path clip-path=\"url(#clip650)\" d=\"M 0 0 M1168.48 28.5427 L1168.48 35.5912 Q1165.32 33.9709 1161.91 33.1607 Q1158.51 32.3505 1154.87 32.3505 Q1149.32 32.3505 1146.52 34.0519 Q1143.77 35.7533 1143.77 39.156 Q1143.77 41.7486 1145.75 43.2475 Q1147.74 44.7058 1153.73 46.0426 L1156.28 46.6097 Q1164.22 48.3111 1167.55 51.4303 Q1170.91 54.509 1170.91 60.0587 Q1170.91 66.3781 1165.88 70.0644 Q1160.9 73.7508 1152.15 73.7508 Q1148.51 73.7508 1144.54 73.0216 Q1140.61 72.3329 1136.23 70.9151 L1136.23 63.2184 Q1140.36 65.3654 1144.37 66.4591 Q1148.38 67.5124 1152.31 67.5124 Q1157.58 67.5124 1160.42 65.73 Q1163.25 63.9071 1163.25 60.6258 Q1163.25 57.5877 1161.19 55.9673 Q1159.16 54.3469 1152.23 52.8481 L1149.64 52.2405 Q1142.71 50.7821 1139.63 47.7845 Q1136.56 44.7463 1136.56 39.4801 Q1136.56 33.0797 1141.09 29.5959 Q1145.63 26.1121 1153.97 26.1121 Q1158.11 26.1121 1161.75 26.7198 Q1165.4 27.3274 1168.48 28.5427 Z\" fill=\"#000000\" fill-rule=\"evenodd\" fill-opacity=\"1\" /><path clip-path=\"url(#clip650)\" d=\"M 0 0 M1199.34 49.7694 Q1190.31 49.7694 1186.83 51.8354 Q1183.34 53.9013 1183.34 58.8839 Q1183.34 62.8538 1185.94 65.2034 Q1188.57 67.5124 1193.07 67.5124 Q1199.26 67.5124 1202.99 63.1374 Q1206.76 58.7219 1206.76 51.4303 L1206.76 49.7694 L1199.34 49.7694 M1214.21 46.6907 L1214.21 72.576 L1206.76 72.576 L1206.76 65.6895 Q1204.21 69.8214 1200.4 71.8063 Q1196.59 73.7508 1191.08 73.7508 Q1184.11 73.7508 1179.98 69.8619 Q1175.89 65.9325 1175.89 59.3701 Q1175.89 51.7138 1180.99 47.825 Q1186.14 43.9361 1196.31 43.9361 L1206.76 43.9361 L1206.76 43.2069 Q1206.76 38.0623 1203.36 35.2672 Q1199.99 32.4315 1193.88 32.4315 Q1189.99 32.4315 1186.3 33.3632 Q1182.61 34.295 1179.21 36.1584 L1179.21 29.2718 Q1183.3 27.692 1187.15 26.9223 Q1191 26.1121 1194.65 26.1121 Q1204.49 26.1121 1209.35 31.2163 Q1214.21 36.3204 1214.21 46.6907 M1194.81 17.0786 L1192.5 14.8506 Q1191.61 14.0404 1190.92 13.6759 Q1190.27 13.2708 1189.74 13.2708 Q1188.2 13.2708 1187.48 14.7696 Q1186.75 16.2279 1186.67 19.5497 L1181.6 19.5497 Q1181.68 14.0809 1183.75 11.1238 Q1185.81 8.12611 1189.5 8.12611 Q1191.04 8.12611 1192.34 8.69324 Q1193.63 9.26037 1195.13 10.5972 L1197.44 12.8252 Q1198.33 13.6353 1198.98 14.0404 Q1199.67 14.405 1200.2 14.405 Q1201.73 14.405 1202.46 12.9467 Q1203.19 11.4479 1203.27 8.12611 L1208.34 8.12611 Q1208.26 13.5948 1206.19 16.5925 Q1204.12 19.5497 1200.44 19.5497 Q1198.9 19.5497 1197.6 18.9825 Q1196.31 18.4154 1194.81 17.0786 Z\" fill=\"#000000\" fill-rule=\"evenodd\" fill-opacity=\"1\" /><path clip-path=\"url(#clip650)\" d=\"M 0 0 M1239.61 32.4315 Q1233.62 32.4315 1230.13 37.1306 Q1226.65 41.7891 1226.65 49.9314 Q1226.65 58.0738 1230.09 62.7728 Q1233.57 67.4314 1239.61 67.4314 Q1245.57 67.4314 1249.05 62.7323 Q1252.53 58.0333 1252.53 49.9314 Q1252.53 41.8701 1249.05 37.1711 Q1245.57 32.4315 1239.61 32.4315 M1239.61 26.1121 Q1249.33 26.1121 1254.88 32.4315 Q1260.43 38.7509 1260.43 49.9314 Q1260.43 61.0714 1254.88 67.4314 Q1249.33 73.7508 1239.61 73.7508 Q1229.85 73.7508 1224.3 67.4314 Q1218.79 61.0714 1218.79 49.9314 Q1218.79 38.7509 1224.3 32.4315 Q1229.85 26.1121 1239.61 26.1121 Z\" fill=\"#000000\" fill-rule=\"evenodd\" fill-opacity=\"1\" /><path clip-path=\"url(#clip650)\" d=\"M 0 0 M1294.95 12.096 L1333.19 12.096 L1333.19 18.9825 L1303.13 18.9825 L1303.13 36.8875 L1331.93 36.8875 L1331.93 43.7741 L1303.13 43.7741 L1303.13 65.6895 L1333.92 65.6895 L1333.92 72.576 L1294.95 72.576 L1294.95 12.096 Z\" fill=\"#000000\" fill-rule=\"evenodd\" fill-opacity=\"1\" /><path clip-path=\"url(#clip650)\" d=\"M 0 0 M1379.45 27.2059 L1363.04 49.2833 L1380.3 72.576 L1371.51 72.576 L1358.3 54.752 L1345.1 72.576 L1336.31 72.576 L1353.93 48.8377 L1337.8 27.2059 L1346.59 27.2059 L1358.63 43.369 L1370.66 27.2059 L1379.45 27.2059 Z\" fill=\"#000000\" fill-rule=\"evenodd\" fill-opacity=\"1\" /><path clip-path=\"url(#clip650)\" d=\"M 0 0 M1395.33 65.7705 L1395.33 89.8329 L1387.83 89.8329 L1387.83 27.2059 L1395.33 27.2059 L1395.33 34.0924 Q1397.68 30.0415 1401.24 28.0971 Q1404.85 26.1121 1409.83 26.1121 Q1418.09 26.1121 1423.24 32.6746 Q1428.42 39.2371 1428.42 49.9314 Q1428.42 60.6258 1423.24 67.1883 Q1418.09 73.7508 1409.83 73.7508 Q1404.85 73.7508 1401.24 71.8063 Q1397.68 69.8214 1395.33 65.7705 M1420.69 49.9314 Q1420.69 41.7081 1417.28 37.0496 Q1413.92 32.3505 1408.01 32.3505 Q1402.09 32.3505 1398.69 37.0496 Q1395.33 41.7081 1395.33 49.9314 Q1395.33 58.1548 1398.69 62.8538 Q1402.09 67.5124 1408.01 67.5124 Q1413.92 67.5124 1417.28 62.8538 Q1420.69 58.1548 1420.69 49.9314 Z\" fill=\"#000000\" fill-rule=\"evenodd\" fill-opacity=\"1\" /><path clip-path=\"url(#clip650)\" d=\"M 0 0 M1453.82 32.4315 Q1447.83 32.4315 1444.34 37.1306 Q1440.86 41.7891 1440.86 49.9314 Q1440.86 58.0738 1444.3 62.7728 Q1447.79 67.4314 1453.82 67.4314 Q1459.78 67.4314 1463.26 62.7323 Q1466.74 58.0333 1466.74 49.9314 Q1466.74 41.8701 1463.26 37.1711 Q1459.78 32.4315 1453.82 32.4315 M1453.82 26.1121 Q1463.54 26.1121 1469.09 32.4315 Q1474.64 38.7509 1474.64 49.9314 Q1474.64 61.0714 1469.09 67.4314 Q1463.54 73.7508 1453.82 73.7508 Q1444.06 73.7508 1438.51 67.4314 Q1433 61.0714 1433 49.9314 Q1433 38.7509 1438.51 32.4315 Q1444.06 26.1121 1453.82 26.1121 Z\" fill=\"#000000\" fill-rule=\"evenodd\" fill-opacity=\"1\" /><path clip-path=\"url(#clip650)\" d=\"M 0 0 M1520.18 45.1919 L1520.18 72.576 L1512.72 72.576 L1512.72 45.4349 Q1512.72 38.994 1510.21 35.7938 Q1507.7 32.5936 1502.68 32.5936 Q1496.64 32.5936 1493.16 36.4419 Q1489.67 40.2903 1489.67 46.9338 L1489.67 72.576 L1482.18 72.576 L1482.18 27.2059 L1489.67 27.2059 L1489.67 34.2544 Q1492.35 30.163 1495.95 28.1376 Q1499.6 26.1121 1504.34 26.1121 Q1512.16 26.1121 1516.17 30.9732 Q1520.18 35.7938 1520.18 45.1919 Z\" fill=\"#000000\" fill-rule=\"evenodd\" fill-opacity=\"1\" /><path clip-path=\"url(#clip650)\" d=\"M 0 0 M1566.8 48.0275 L1566.8 51.6733 L1532.53 51.6733 Q1533.02 59.3701 1537.15 63.421 Q1541.32 67.4314 1548.74 67.4314 Q1553.03 67.4314 1557.04 66.3781 Q1561.09 65.3249 1565.06 63.2184 L1565.06 70.267 Q1561.05 71.9684 1556.84 72.8596 Q1552.62 73.7508 1548.29 73.7508 Q1537.43 73.7508 1531.07 67.4314 Q1524.75 61.1119 1524.75 50.3365 Q1524.75 39.1965 1530.75 32.6746 Q1536.78 26.1121 1546.99 26.1121 Q1556.15 26.1121 1561.45 32.0264 Q1566.8 37.9003 1566.8 48.0275 M1559.35 45.84 Q1559.27 39.7232 1555.91 36.0774 Q1552.58 32.4315 1547.07 32.4315 Q1540.84 32.4315 1537.07 35.9558 Q1533.34 39.4801 1532.77 45.8805 L1559.35 45.84 Z\" fill=\"#000000\" fill-rule=\"evenodd\" fill-opacity=\"1\" /><path clip-path=\"url(#clip650)\" d=\"M 0 0 M1612.33 45.1919 L1612.33 72.576 L1604.88 72.576 L1604.88 45.4349 Q1604.88 38.994 1602.37 35.7938 Q1599.86 32.5936 1594.83 32.5936 Q1588.8 32.5936 1585.31 36.4419 Q1581.83 40.2903 1581.83 46.9338 L1581.83 72.576 L1574.34 72.576 L1574.34 27.2059 L1581.83 27.2059 L1581.83 34.2544 Q1584.5 30.163 1588.11 28.1376 Q1591.76 26.1121 1596.5 26.1121 Q1604.31 26.1121 1608.32 30.9732 Q1612.33 35.7938 1612.33 45.1919 Z\" fill=\"#000000\" fill-rule=\"evenodd\" fill-opacity=\"1\" /><path clip-path=\"url(#clip650)\" d=\"M 0 0 M1652.8 28.9478 L1652.8 35.9153 Q1649.64 34.1734 1646.44 33.3227 Q1643.28 32.4315 1640.04 32.4315 Q1632.79 32.4315 1628.78 37.0496 Q1624.77 41.6271 1624.77 49.9314 Q1624.77 58.2358 1628.78 62.8538 Q1632.79 67.4314 1640.04 67.4314 Q1643.28 67.4314 1646.44 66.5807 Q1649.64 65.6895 1652.8 63.9476 L1652.8 70.8341 Q1649.68 72.2924 1646.32 73.0216 Q1643 73.7508 1639.23 73.7508 Q1628.98 73.7508 1622.95 67.3098 Q1616.91 60.8689 1616.91 49.9314 Q1616.91 38.832 1622.99 32.472 Q1629.11 26.1121 1639.72 26.1121 Q1643.16 26.1121 1646.44 26.8413 Q1649.72 27.5299 1652.8 28.9478 Z\" fill=\"#000000\" fill-rule=\"evenodd\" fill-opacity=\"1\" /><path clip-path=\"url(#clip650)\" d=\"M 0 0 M1660.62 27.2059 L1668.07 27.2059 L1668.07 72.576 L1660.62 72.576 L1660.62 27.2059 M1660.62 9.54393 L1668.07 9.54393 L1668.07 18.9825 L1660.62 18.9825 L1660.62 9.54393 Z\" fill=\"#000000\" fill-rule=\"evenodd\" fill-opacity=\"1\" /><path clip-path=\"url(#clip650)\" d=\"M 0 0 M1696.51 49.7694 Q1687.48 49.7694 1683.99 51.8354 Q1680.51 53.9013 1680.51 58.8839 Q1680.51 62.8538 1683.1 65.2034 Q1685.74 67.5124 1690.23 67.5124 Q1696.43 67.5124 1700.16 63.1374 Q1703.93 58.7219 1703.93 51.4303 L1703.93 49.7694 L1696.51 49.7694 M1711.38 46.6907 L1711.38 72.576 L1703.93 72.576 L1703.93 65.6895 Q1701.37 69.8214 1697.57 71.8063 Q1693.76 73.7508 1688.25 73.7508 Q1681.28 73.7508 1677.15 69.8619 Q1673.06 65.9325 1673.06 59.3701 Q1673.06 51.7138 1678.16 47.825 Q1683.31 43.9361 1693.47 43.9361 L1703.93 43.9361 L1703.93 43.2069 Q1703.93 38.0623 1700.52 35.2672 Q1697.16 32.4315 1691.04 32.4315 Q1687.15 32.4315 1683.47 33.3632 Q1679.78 34.295 1676.38 36.1584 L1676.38 29.2718 Q1680.47 27.692 1684.32 26.9223 Q1688.17 26.1121 1691.81 26.1121 Q1701.66 26.1121 1706.52 31.2163 Q1711.38 36.3204 1711.38 46.6907 Z\" fill=\"#000000\" fill-rule=\"evenodd\" fill-opacity=\"1\" /><path clip-path=\"url(#clip650)\" d=\"M 0 0 M1719.2 9.54393 L1726.65 9.54393 L1726.65 72.576 L1719.2 72.576 L1719.2 9.54393 Z\" fill=\"#000000\" fill-rule=\"evenodd\" fill-opacity=\"1\" /><circle clip-path=\"url(#clip652)\" cx=\"367.931\" cy=\"1447.86\" r=\"14\" fill=\"#009af9\" fill-rule=\"evenodd\" fill-opacity=\"1\" stroke=\"#000000\" stroke-opacity=\"1\" stroke-width=\"3.2\"/>\n",
       "<circle clip-path=\"url(#clip652)\" cx=\"501.452\" cy=\"1447.8\" r=\"14\" fill=\"#009af9\" fill-rule=\"evenodd\" fill-opacity=\"1\" stroke=\"#000000\" stroke-opacity=\"1\" stroke-width=\"3.2\"/>\n",
       "<circle clip-path=\"url(#clip652)\" cx=\"634.974\" cy=\"1447.68\" r=\"14\" fill=\"#009af9\" fill-rule=\"evenodd\" fill-opacity=\"1\" stroke=\"#000000\" stroke-opacity=\"1\" stroke-width=\"3.2\"/>\n",
       "<circle clip-path=\"url(#clip652)\" cx=\"768.496\" cy=\"1447.45\" r=\"14\" fill=\"#009af9\" fill-rule=\"evenodd\" fill-opacity=\"1\" stroke=\"#000000\" stroke-opacity=\"1\" stroke-width=\"3.2\"/>\n",
       "<circle clip-path=\"url(#clip652)\" cx=\"902.017\" cy=\"1446.98\" r=\"14\" fill=\"#009af9\" fill-rule=\"evenodd\" fill-opacity=\"1\" stroke=\"#000000\" stroke-opacity=\"1\" stroke-width=\"3.2\"/>\n",
       "<circle clip-path=\"url(#clip652)\" cx=\"1035.54\" cy=\"1446.04\" r=\"14\" fill=\"#009af9\" fill-rule=\"evenodd\" fill-opacity=\"1\" stroke=\"#000000\" stroke-opacity=\"1\" stroke-width=\"3.2\"/>\n",
       "<circle clip-path=\"url(#clip652)\" cx=\"1169.06\" cy=\"1444.16\" r=\"14\" fill=\"#009af9\" fill-rule=\"evenodd\" fill-opacity=\"1\" stroke=\"#000000\" stroke-opacity=\"1\" stroke-width=\"3.2\"/>\n",
       "<circle clip-path=\"url(#clip652)\" cx=\"1302.58\" cy=\"1440.41\" r=\"14\" fill=\"#009af9\" fill-rule=\"evenodd\" fill-opacity=\"1\" stroke=\"#000000\" stroke-opacity=\"1\" stroke-width=\"3.2\"/>\n",
       "<circle clip-path=\"url(#clip652)\" cx=\"1436.1\" cy=\"1432.9\" r=\"14\" fill=\"#009af9\" fill-rule=\"evenodd\" fill-opacity=\"1\" stroke=\"#000000\" stroke-opacity=\"1\" stroke-width=\"3.2\"/>\n",
       "<circle clip-path=\"url(#clip652)\" cx=\"1569.63\" cy=\"1417.88\" r=\"14\" fill=\"#009af9\" fill-rule=\"evenodd\" fill-opacity=\"1\" stroke=\"#000000\" stroke-opacity=\"1\" stroke-width=\"3.2\"/>\n",
       "<circle clip-path=\"url(#clip652)\" cx=\"1703.15\" cy=\"1387.85\" r=\"14\" fill=\"#009af9\" fill-rule=\"evenodd\" fill-opacity=\"1\" stroke=\"#000000\" stroke-opacity=\"1\" stroke-width=\"3.2\"/>\n",
       "<circle clip-path=\"url(#clip652)\" cx=\"1836.67\" cy=\"1327.78\" r=\"14\" fill=\"#009af9\" fill-rule=\"evenodd\" fill-opacity=\"1\" stroke=\"#000000\" stroke-opacity=\"1\" stroke-width=\"3.2\"/>\n",
       "<circle clip-path=\"url(#clip652)\" cx=\"1970.19\" cy=\"1207.64\" r=\"14\" fill=\"#009af9\" fill-rule=\"evenodd\" fill-opacity=\"1\" stroke=\"#000000\" stroke-opacity=\"1\" stroke-width=\"3.2\"/>\n",
       "<circle clip-path=\"url(#clip652)\" cx=\"2103.71\" cy=\"967.371\" r=\"14\" fill=\"#009af9\" fill-rule=\"evenodd\" fill-opacity=\"1\" stroke=\"#000000\" stroke-opacity=\"1\" stroke-width=\"3.2\"/>\n",
       "<circle clip-path=\"url(#clip652)\" cx=\"2237.23\" cy=\"486.826\" r=\"14\" fill=\"#009af9\" fill-rule=\"evenodd\" fill-opacity=\"1\" stroke=\"#000000\" stroke-opacity=\"1\" stroke-width=\"3.2\"/>\n",
       "<polyline clip-path=\"url(#clip652)\" style=\"stroke:#ff0000; stroke-width:8; stroke-opacity:1; fill:none\" points=\"\n",
       "  311.852,1447.87 331.202,1447.87 510.126,1447.79 617.652,1447.7 708.564,1447.57 807.32,1447.34 898.364,1447 995.973,1446.39 1109.06,1445.17 1209.56,1443.28 \n",
       "  1297.69,1440.6 1393.78,1435.86 1490.43,1428.01 1597.3,1413.24 1698.98,1389.13 1751.84,1370.57 1804.7,1346.15 1849.2,1319.7 1893.7,1286.39 1920.86,1261.92 \n",
       "  1948.03,1233.76 1975.19,1201.32 2002.36,1163.98 2027.89,1123.73 2053.43,1077.78 2078.96,1025.32 2104.49,965.413 2124.95,911.36 2145.4,851.252 2165.86,784.409 \n",
       "  2186.31,710.079 2206.77,627.421 2227.22,535.504 2247.68,433.29 2268.13,319.624 2274.43,282.14 2280.72,243.41 2287.02,203.393 2293.31,162.047 \n",
       "  \"/>\n",
       "</svg>\n"
      ]
     },
     "execution_count": 101,
     "metadata": {},
     "output_type": "execute_result"
    }
   ],
   "source": [
    "# Caso escolhamos uma função de potencia temos uma interpolação\n",
    "pontos_x = []\n",
    "pontos_y = []\n",
    "\n",
    "for i in 0:14\n",
    "    push!(pontos_x, i)\n",
    "    push!(pontos_y, 2^i)\n",
    "end    \n",
    "\n",
    "Coeficientes = regressão_função_exponencial(pontos_x, pontos_y)\n",
    "polinomio(x) = (ℯ^Coeficientes[1])*ℯ^(x*Coeficientes[2])\n",
    "scatter(pontos_x,pontos_y,leg=false)\n",
    "plot!(pontos_x -> polinomio(pontos_x), c=:red, lw=2)\n",
    "title!(\"Regressão Exponencial\")"
   ]
  },
  {
   "cell_type": "code",
   "execution_count": 102,
   "metadata": {},
   "outputs": [
    {
     "data": {
      "image/svg+xml": [
       "<?xml version=\"1.0\" encoding=\"utf-8\"?>\n",
       "<svg xmlns=\"http://www.w3.org/2000/svg\" xmlns:xlink=\"http://www.w3.org/1999/xlink\" width=\"600\" height=\"400\" viewBox=\"0 0 2400 1600\">\n",
       "<defs>\n",
       "  <clipPath id=\"clip690\">\n",
       "    <rect x=\"0\" y=\"0\" width=\"2400\" height=\"1600\"/>\n",
       "  </clipPath>\n",
       "</defs>\n",
       "<path clip-path=\"url(#clip690)\" d=\"\n",
       "M0 1600 L2400 1600 L2400 0 L0 0  Z\n",
       "  \" fill=\"#ffffff\" fill-rule=\"evenodd\" fill-opacity=\"1\"/>\n",
       "<defs>\n",
       "  <clipPath id=\"clip691\">\n",
       "    <rect x=\"480\" y=\"0\" width=\"1681\" height=\"1600\"/>\n",
       "  </clipPath>\n",
       "</defs>\n",
       "<path clip-path=\"url(#clip690)\" d=\"\n",
       "M216.387 1486.45 L2352.76 1486.45 L2352.76 123.472 L216.387 123.472  Z\n",
       "  \" fill=\"#ffffff\" fill-rule=\"evenodd\" fill-opacity=\"1\"/>\n",
       "<defs>\n",
       "  <clipPath id=\"clip692\">\n",
       "    <rect x=\"216\" y=\"123\" width=\"2137\" height=\"1364\"/>\n",
       "  </clipPath>\n",
       "</defs>\n",
       "<polyline clip-path=\"url(#clip692)\" style=\"stroke:#000000; stroke-width:2; stroke-opacity:0.1; fill:none\" points=\"\n",
       "  333.891,1486.45 333.891,123.472 \n",
       "  \"/>\n",
       "<polyline clip-path=\"url(#clip692)\" style=\"stroke:#000000; stroke-width:2; stroke-opacity:0.1; fill:none\" points=\"\n",
       "  862.047,1486.45 862.047,123.472 \n",
       "  \"/>\n",
       "<polyline clip-path=\"url(#clip692)\" style=\"stroke:#000000; stroke-width:2; stroke-opacity:0.1; fill:none\" points=\"\n",
       "  1390.2,1486.45 1390.2,123.472 \n",
       "  \"/>\n",
       "<polyline clip-path=\"url(#clip692)\" style=\"stroke:#000000; stroke-width:2; stroke-opacity:0.1; fill:none\" points=\"\n",
       "  1918.36,1486.45 1918.36,123.472 \n",
       "  \"/>\n",
       "<polyline clip-path=\"url(#clip690)\" style=\"stroke:#000000; stroke-width:4; stroke-opacity:1; fill:none\" points=\"\n",
       "  216.387,1486.45 2352.76,1486.45 \n",
       "  \"/>\n",
       "<polyline clip-path=\"url(#clip690)\" style=\"stroke:#000000; stroke-width:4; stroke-opacity:1; fill:none\" points=\"\n",
       "  333.891,1486.45 333.891,1470.09 \n",
       "  \"/>\n",
       "<polyline clip-path=\"url(#clip690)\" style=\"stroke:#000000; stroke-width:4; stroke-opacity:1; fill:none\" points=\"\n",
       "  862.047,1486.45 862.047,1470.09 \n",
       "  \"/>\n",
       "<polyline clip-path=\"url(#clip690)\" style=\"stroke:#000000; stroke-width:4; stroke-opacity:1; fill:none\" points=\"\n",
       "  1390.2,1486.45 1390.2,1470.09 \n",
       "  \"/>\n",
       "<polyline clip-path=\"url(#clip690)\" style=\"stroke:#000000; stroke-width:4; stroke-opacity:1; fill:none\" points=\"\n",
       "  1918.36,1486.45 1918.36,1470.09 \n",
       "  \"/>\n",
       "<path clip-path=\"url(#clip690)\" d=\"M 0 0 M333.891 1515.64 Q330.28 1515.64 328.451 1519.2 Q326.645 1522.75 326.645 1529.87 Q326.645 1536.98 328.451 1540.55 Q330.28 1544.09 333.891 1544.09 Q337.525 1544.09 339.331 1540.55 Q341.159 1536.98 341.159 1529.87 Q341.159 1522.75 339.331 1519.2 Q337.525 1515.64 333.891 1515.64 M333.891 1511.93 Q339.701 1511.93 342.756 1516.54 Q345.835 1521.12 345.835 1529.87 Q345.835 1538.6 342.756 1543.21 Q339.701 1547.79 333.891 1547.79 Q328.081 1547.79 325.002 1543.21 Q321.946 1538.6 321.946 1529.87 Q321.946 1521.12 325.002 1516.54 Q328.081 1511.93 333.891 1511.93 Z\" fill=\"#000000\" fill-rule=\"evenodd\" fill-opacity=\"1\" /><path clip-path=\"url(#clip690)\" d=\"M 0 0 M852.324 1512.56 L870.681 1512.56 L870.681 1516.5 L856.607 1516.5 L856.607 1524.97 Q857.625 1524.62 858.644 1524.46 Q859.662 1524.27 860.681 1524.27 Q866.468 1524.27 869.848 1527.44 Q873.227 1530.62 873.227 1536.03 Q873.227 1541.61 869.755 1544.71 Q866.283 1547.79 859.963 1547.79 Q857.787 1547.79 855.519 1547.42 Q853.274 1547.05 850.866 1546.31 L850.866 1541.61 Q852.949 1542.74 855.172 1543.3 Q857.394 1543.86 859.871 1543.86 Q863.875 1543.86 866.213 1541.75 Q868.551 1539.64 868.551 1536.03 Q868.551 1532.42 866.213 1530.31 Q863.875 1528.21 859.871 1528.21 Q857.996 1528.21 856.121 1528.62 Q854.269 1529.04 852.324 1529.92 L852.324 1512.56 Z\" fill=\"#000000\" fill-rule=\"evenodd\" fill-opacity=\"1\" /><path clip-path=\"url(#clip690)\" d=\"M 0 0 M1367.08 1543.18 L1374.72 1543.18 L1374.72 1516.82 L1366.41 1518.49 L1366.41 1514.23 L1374.67 1512.56 L1379.35 1512.56 L1379.35 1543.18 L1386.98 1543.18 L1386.98 1547.12 L1367.08 1547.12 L1367.08 1543.18 Z\" fill=\"#000000\" fill-rule=\"evenodd\" fill-opacity=\"1\" /><path clip-path=\"url(#clip690)\" d=\"M 0 0 M1402.05 1515.64 Q1398.44 1515.64 1396.61 1519.2 Q1394.81 1522.75 1394.81 1529.87 Q1394.81 1536.98 1396.61 1540.55 Q1398.44 1544.09 1402.05 1544.09 Q1405.69 1544.09 1407.49 1540.55 Q1409.32 1536.98 1409.32 1529.87 Q1409.32 1522.75 1407.49 1519.2 Q1405.69 1515.64 1402.05 1515.64 M1402.05 1511.93 Q1407.86 1511.93 1410.92 1516.54 Q1414 1521.12 1414 1529.87 Q1414 1538.6 1410.92 1543.21 Q1407.86 1547.79 1402.05 1547.79 Q1396.24 1547.79 1393.17 1543.21 Q1390.11 1538.6 1390.11 1529.87 Q1390.11 1521.12 1393.17 1516.54 Q1396.24 1511.93 1402.05 1511.93 Z\" fill=\"#000000\" fill-rule=\"evenodd\" fill-opacity=\"1\" /><path clip-path=\"url(#clip690)\" d=\"M 0 0 M1895.73 1543.18 L1903.37 1543.18 L1903.37 1516.82 L1895.06 1518.49 L1895.06 1514.23 L1903.32 1512.56 L1908 1512.56 L1908 1543.18 L1915.64 1543.18 L1915.64 1547.12 L1895.73 1547.12 L1895.73 1543.18 Z\" fill=\"#000000\" fill-rule=\"evenodd\" fill-opacity=\"1\" /><path clip-path=\"url(#clip690)\" d=\"M 0 0 M1920.75 1512.56 L1939.11 1512.56 L1939.11 1516.5 L1925.04 1516.5 L1925.04 1524.97 Q1926.06 1524.62 1927.07 1524.46 Q1928.09 1524.27 1929.11 1524.27 Q1934.9 1524.27 1938.28 1527.44 Q1941.66 1530.62 1941.66 1536.03 Q1941.66 1541.61 1938.18 1544.71 Q1934.71 1547.79 1928.39 1547.79 Q1926.22 1547.79 1923.95 1547.42 Q1921.7 1547.05 1919.3 1546.31 L1919.3 1541.61 Q1921.38 1542.74 1923.6 1543.3 Q1925.82 1543.86 1928.3 1543.86 Q1932.3 1543.86 1934.64 1541.75 Q1936.98 1539.64 1936.98 1536.03 Q1936.98 1532.42 1934.64 1530.31 Q1932.3 1528.21 1928.3 1528.21 Q1926.43 1528.21 1924.55 1528.62 Q1922.7 1529.04 1920.75 1529.92 L1920.75 1512.56 Z\" fill=\"#000000\" fill-rule=\"evenodd\" fill-opacity=\"1\" /><polyline clip-path=\"url(#clip692)\" style=\"stroke:#000000; stroke-width:2; stroke-opacity:0.1; fill:none\" points=\"\n",
       "  216.387,1382.91 2352.76,1382.91 \n",
       "  \"/>\n",
       "<polyline clip-path=\"url(#clip692)\" style=\"stroke:#000000; stroke-width:2; stroke-opacity:0.1; fill:none\" points=\"\n",
       "  216.387,1085.82 2352.76,1085.82 \n",
       "  \"/>\n",
       "<polyline clip-path=\"url(#clip692)\" style=\"stroke:#000000; stroke-width:2; stroke-opacity:0.1; fill:none\" points=\"\n",
       "  216.387,788.733 2352.76,788.733 \n",
       "  \"/>\n",
       "<polyline clip-path=\"url(#clip692)\" style=\"stroke:#000000; stroke-width:2; stroke-opacity:0.1; fill:none\" points=\"\n",
       "  216.387,491.644 2352.76,491.644 \n",
       "  \"/>\n",
       "<polyline clip-path=\"url(#clip692)\" style=\"stroke:#000000; stroke-width:2; stroke-opacity:0.1; fill:none\" points=\"\n",
       "  216.387,194.555 2352.76,194.555 \n",
       "  \"/>\n",
       "<polyline clip-path=\"url(#clip690)\" style=\"stroke:#000000; stroke-width:4; stroke-opacity:1; fill:none\" points=\"\n",
       "  216.387,1486.45 216.387,123.472 \n",
       "  \"/>\n",
       "<polyline clip-path=\"url(#clip690)\" style=\"stroke:#000000; stroke-width:4; stroke-opacity:1; fill:none\" points=\"\n",
       "  216.387,1382.91 242.023,1382.91 \n",
       "  \"/>\n",
       "<polyline clip-path=\"url(#clip690)\" style=\"stroke:#000000; stroke-width:4; stroke-opacity:1; fill:none\" points=\"\n",
       "  216.387,1085.82 242.023,1085.82 \n",
       "  \"/>\n",
       "<polyline clip-path=\"url(#clip690)\" style=\"stroke:#000000; stroke-width:4; stroke-opacity:1; fill:none\" points=\"\n",
       "  216.387,788.733 242.023,788.733 \n",
       "  \"/>\n",
       "<polyline clip-path=\"url(#clip690)\" style=\"stroke:#000000; stroke-width:4; stroke-opacity:1; fill:none\" points=\"\n",
       "  216.387,491.644 242.023,491.644 \n",
       "  \"/>\n",
       "<polyline clip-path=\"url(#clip690)\" style=\"stroke:#000000; stroke-width:4; stroke-opacity:1; fill:none\" points=\"\n",
       "  216.387,194.555 242.023,194.555 \n",
       "  \"/>\n",
       "<path clip-path=\"url(#clip690)\" d=\"M 0 0 M56.2699 1402.7 L63.9087 1402.7 L63.9087 1376.34 L55.5986 1378.01 L55.5986 1373.75 L63.8624 1372.08 L68.5383 1372.08 L68.5383 1402.7 L76.1772 1402.7 L76.1772 1406.64 L56.2699 1406.64 L56.2699 1402.7 Z\" fill=\"#000000\" fill-rule=\"evenodd\" fill-opacity=\"1\" /><path clip-path=\"url(#clip690)\" d=\"M 0 0 M109.418 1381.18 L98.8391 1391.8 L109.418 1402.38 L106.663 1405.18 L96.0382 1394.56 L85.4132 1405.18 L82.6818 1402.38 L93.2373 1391.8 L82.6818 1381.18 L85.4132 1378.38 L96.0382 1389 L106.663 1378.38 L109.418 1381.18 Z\" fill=\"#000000\" fill-rule=\"evenodd\" fill-opacity=\"1\" /><path clip-path=\"url(#clip690)\" d=\"M 0 0 M115.297 1402.7 L122.936 1402.7 L122.936 1376.34 L114.626 1378.01 L114.626 1373.75 L122.89 1372.08 L127.566 1372.08 L127.566 1402.7 L135.205 1402.7 L135.205 1406.64 L115.297 1406.64 L115.297 1402.7 Z\" fill=\"#000000\" fill-rule=\"evenodd\" fill-opacity=\"1\" /><path clip-path=\"url(#clip690)\" d=\"M 0 0 M150.274 1375.16 Q146.663 1375.16 144.834 1378.72 Q143.029 1382.26 143.029 1389.39 Q143.029 1396.5 144.834 1400.07 Q146.663 1403.61 150.274 1403.61 Q153.908 1403.61 155.714 1400.07 Q157.542 1396.5 157.542 1389.39 Q157.542 1382.26 155.714 1378.72 Q153.908 1375.16 150.274 1375.16 M150.274 1371.45 Q156.084 1371.45 159.14 1376.06 Q162.218 1380.64 162.218 1389.39 Q162.218 1398.12 159.14 1402.73 Q156.084 1407.31 150.274 1407.31 Q144.464 1407.31 141.385 1402.73 Q138.33 1398.12 138.33 1389.39 Q138.33 1380.64 141.385 1376.06 Q144.464 1371.45 150.274 1371.45 Z\" fill=\"#000000\" fill-rule=\"evenodd\" fill-opacity=\"1\" /><path clip-path=\"url(#clip690)\" d=\"M 0 0 M163.403 1351.15 L178.318 1351.15 L178.318 1354.35 L166.883 1354.35 L166.883 1361.23 Q167.71 1360.95 168.538 1360.82 Q169.365 1360.67 170.193 1360.67 Q174.895 1360.67 177.641 1363.24 Q180.387 1365.82 180.387 1370.22 Q180.387 1374.75 177.566 1377.27 Q174.744 1379.77 169.61 1379.77 Q167.842 1379.77 165.999 1379.47 Q164.174 1379.17 162.218 1378.57 L162.218 1374.75 Q163.911 1375.67 165.717 1376.13 Q167.522 1376.58 169.535 1376.58 Q172.788 1376.58 174.688 1374.87 Q176.588 1373.15 176.588 1370.22 Q176.588 1367.29 174.688 1365.57 Q172.788 1363.86 169.535 1363.86 Q168.011 1363.86 166.488 1364.2 Q164.983 1364.54 163.403 1365.25 L163.403 1351.15 Z\" fill=\"#000000\" fill-rule=\"evenodd\" fill-opacity=\"1\" /><path clip-path=\"url(#clip690)\" d=\"M 0 0 M59.8578 1105.61 L76.1772 1105.61 L76.1772 1109.55 L54.2328 1109.55 L54.2328 1105.61 Q56.8949 1102.86 61.4782 1098.23 Q66.0846 1093.58 67.2652 1092.24 Q69.5105 1089.71 70.3902 1087.98 Q71.2929 1086.22 71.2929 1084.53 Q71.2929 1081.77 69.3485 1080.04 Q67.4272 1078.3 64.3254 1078.3 Q62.1263 1078.3 59.6726 1079.06 Q57.2421 1079.83 54.4643 1081.38 L54.4643 1076.66 Q57.2884 1075.52 59.7421 1074.94 Q62.1958 1074.37 64.2328 1074.37 Q69.6031 1074.37 72.7976 1077.05 Q75.992 1079.74 75.992 1084.23 Q75.992 1086.36 75.1818 1088.28 Q74.3948 1090.18 72.2883 1092.77 Q71.7096 1093.44 68.6078 1096.66 Q65.5059 1099.85 59.8578 1105.61 Z\" fill=\"#000000\" fill-rule=\"evenodd\" fill-opacity=\"1\" /><path clip-path=\"url(#clip690)\" d=\"M 0 0 M109.418 1084.09 L98.8391 1094.71 L109.418 1105.29 L106.663 1108.09 L96.0382 1097.47 L85.4132 1108.09 L82.6818 1105.29 L93.2373 1094.71 L82.6818 1084.09 L85.4132 1081.29 L96.0382 1091.91 L106.663 1081.29 L109.418 1084.09 Z\" fill=\"#000000\" fill-rule=\"evenodd\" fill-opacity=\"1\" /><path clip-path=\"url(#clip690)\" d=\"M 0 0 M115.297 1105.61 L122.936 1105.61 L122.936 1079.25 L114.626 1080.92 L114.626 1076.66 L122.89 1074.99 L127.566 1074.99 L127.566 1105.61 L135.205 1105.61 L135.205 1109.55 L115.297 1109.55 L115.297 1105.61 Z\" fill=\"#000000\" fill-rule=\"evenodd\" fill-opacity=\"1\" /><path clip-path=\"url(#clip690)\" d=\"M 0 0 M150.274 1078.07 Q146.663 1078.07 144.834 1081.63 Q143.029 1085.18 143.029 1092.3 Q143.029 1099.41 144.834 1102.98 Q146.663 1106.52 150.274 1106.52 Q153.908 1106.52 155.714 1102.98 Q157.542 1099.41 157.542 1092.3 Q157.542 1085.18 155.714 1081.63 Q153.908 1078.07 150.274 1078.07 M150.274 1074.37 Q156.084 1074.37 159.14 1078.97 Q162.218 1083.55 162.218 1092.3 Q162.218 1101.03 159.14 1105.64 Q156.084 1110.22 150.274 1110.22 Q144.464 1110.22 141.385 1105.64 Q138.33 1101.03 138.33 1092.3 Q138.33 1083.55 141.385 1078.97 Q144.464 1074.37 150.274 1074.37 Z\" fill=\"#000000\" fill-rule=\"evenodd\" fill-opacity=\"1\" /><path clip-path=\"url(#clip690)\" d=\"M 0 0 M163.403 1054.06 L178.318 1054.06 L178.318 1057.26 L166.883 1057.26 L166.883 1064.14 Q167.71 1063.86 168.538 1063.73 Q169.365 1063.58 170.193 1063.58 Q174.895 1063.58 177.641 1066.15 Q180.387 1068.73 180.387 1073.13 Q180.387 1077.66 177.566 1080.18 Q174.744 1082.69 169.61 1082.69 Q167.842 1082.69 165.999 1082.38 Q164.174 1082.08 162.218 1081.48 L162.218 1077.66 Q163.911 1078.59 165.717 1079.04 Q167.522 1079.49 169.535 1079.49 Q172.788 1079.49 174.688 1077.78 Q176.588 1076.06 176.588 1073.13 Q176.588 1070.2 174.688 1068.49 Q172.788 1066.77 169.535 1066.77 Q168.011 1066.77 166.488 1067.11 Q164.983 1067.45 163.403 1068.17 L163.403 1054.06 Z\" fill=\"#000000\" fill-rule=\"evenodd\" fill-opacity=\"1\" /><path clip-path=\"url(#clip690)\" d=\"M 0 0 M69.0476 793.827 Q72.404 794.544 74.279 796.813 Q76.1772 799.082 76.1772 802.415 Q76.1772 807.531 72.6587 810.331 Q69.1402 813.132 62.6587 813.132 Q60.4828 813.132 58.168 812.693 Q55.8764 812.276 53.4227 811.419 L53.4227 806.906 Q55.3671 808.04 57.6819 808.618 Q59.9967 809.197 62.5198 809.197 Q66.918 809.197 69.2096 807.461 Q71.5244 805.725 71.5244 802.415 Q71.5244 799.359 69.3717 797.646 Q67.242 795.91 63.4226 795.91 L59.3949 795.91 L59.3949 792.068 L63.6078 792.068 Q67.0569 792.068 68.8855 790.702 Q70.7142 789.313 70.7142 786.72 Q70.7142 784.058 68.8161 782.646 Q66.9411 781.211 63.4226 781.211 Q61.5013 781.211 59.3023 781.628 Q57.1032 782.045 54.4643 782.924 L54.4643 778.758 Q57.1264 778.017 59.4412 777.646 Q61.7791 777.276 63.8393 777.276 Q69.1633 777.276 72.2652 779.707 Q75.367 782.114 75.367 786.234 Q75.367 789.105 73.7235 791.095 Q72.08 793.063 69.0476 793.827 Z\" fill=\"#000000\" fill-rule=\"evenodd\" fill-opacity=\"1\" /><path clip-path=\"url(#clip690)\" d=\"M 0 0 M109.418 786.998 L98.8391 797.623 L109.418 808.202 L106.663 811.003 L96.0382 800.378 L85.4132 811.003 L82.6818 808.202 L93.2373 797.623 L82.6818 786.998 L85.4132 784.197 L96.0382 794.822 L106.663 784.197 L109.418 786.998 Z\" fill=\"#000000\" fill-rule=\"evenodd\" fill-opacity=\"1\" /><path clip-path=\"url(#clip690)\" d=\"M 0 0 M115.297 808.526 L122.936 808.526 L122.936 782.16 L114.626 783.827 L114.626 779.568 L122.89 777.901 L127.566 777.901 L127.566 808.526 L135.205 808.526 L135.205 812.461 L115.297 812.461 L115.297 808.526 Z\" fill=\"#000000\" fill-rule=\"evenodd\" fill-opacity=\"1\" /><path clip-path=\"url(#clip690)\" d=\"M 0 0 M150.274 780.98 Q146.663 780.98 144.834 784.545 Q143.029 788.086 143.029 795.216 Q143.029 802.322 144.834 805.887 Q146.663 809.429 150.274 809.429 Q153.908 809.429 155.714 805.887 Q157.542 802.322 157.542 795.216 Q157.542 788.086 155.714 784.545 Q153.908 780.98 150.274 780.98 M150.274 777.276 Q156.084 777.276 159.14 781.883 Q162.218 786.466 162.218 795.216 Q162.218 803.943 159.14 808.549 Q156.084 813.132 150.274 813.132 Q144.464 813.132 141.385 808.549 Q138.33 803.943 138.33 795.216 Q138.33 786.466 141.385 781.883 Q144.464 777.276 150.274 777.276 Z\" fill=\"#000000\" fill-rule=\"evenodd\" fill-opacity=\"1\" /><path clip-path=\"url(#clip690)\" d=\"M 0 0 M163.403 756.971 L178.318 756.971 L178.318 760.168 L166.883 760.168 L166.883 767.052 Q167.71 766.77 168.538 766.638 Q169.365 766.487 170.193 766.487 Q174.895 766.487 177.641 769.064 Q180.387 771.641 180.387 776.042 Q180.387 780.574 177.566 783.095 Q174.744 785.596 169.61 785.596 Q167.842 785.596 165.999 785.295 Q164.174 784.994 162.218 784.392 L162.218 780.574 Q163.911 781.496 165.717 781.947 Q167.522 782.399 169.535 782.399 Q172.788 782.399 174.688 780.687 Q176.588 778.976 176.588 776.042 Q176.588 773.108 174.688 771.396 Q172.788 769.685 169.535 769.685 Q168.011 769.685 166.488 770.023 Q164.983 770.362 163.403 771.076 L163.403 756.971 Z\" fill=\"#000000\" fill-rule=\"evenodd\" fill-opacity=\"1\" /><path clip-path=\"url(#clip690)\" d=\"M 0 0 M66.5939 484.886 L54.7884 503.335 L66.5939 503.335 L66.5939 484.886 M65.367 480.812 L71.2466 480.812 L71.2466 503.335 L76.1772 503.335 L76.1772 507.224 L71.2466 507.224 L71.2466 515.372 L66.5939 515.372 L66.5939 507.224 L50.9921 507.224 L50.9921 502.71 L65.367 480.812 Z\" fill=\"#000000\" fill-rule=\"evenodd\" fill-opacity=\"1\" /><path clip-path=\"url(#clip690)\" d=\"M 0 0 M109.418 489.909 L98.8391 500.534 L109.418 511.113 L106.663 513.914 L96.0382 503.289 L85.4132 513.914 L82.6818 511.113 L93.2373 500.534 L82.6818 489.909 L85.4132 487.108 L96.0382 497.733 L106.663 487.108 L109.418 489.909 Z\" fill=\"#000000\" fill-rule=\"evenodd\" fill-opacity=\"1\" /><path clip-path=\"url(#clip690)\" d=\"M 0 0 M115.297 511.437 L122.936 511.437 L122.936 485.071 L114.626 486.738 L114.626 482.479 L122.89 480.812 L127.566 480.812 L127.566 511.437 L135.205 511.437 L135.205 515.372 L115.297 515.372 L115.297 511.437 Z\" fill=\"#000000\" fill-rule=\"evenodd\" fill-opacity=\"1\" /><path clip-path=\"url(#clip690)\" d=\"M 0 0 M150.274 483.891 Q146.663 483.891 144.834 487.455 Q143.029 490.997 143.029 498.127 Q143.029 505.233 144.834 508.798 Q146.663 512.34 150.274 512.34 Q153.908 512.34 155.714 508.798 Q157.542 505.233 157.542 498.127 Q157.542 490.997 155.714 487.455 Q153.908 483.891 150.274 483.891 M150.274 480.187 Q156.084 480.187 159.14 484.793 Q162.218 489.377 162.218 498.127 Q162.218 506.854 159.14 511.46 Q156.084 516.043 150.274 516.043 Q144.464 516.043 141.385 511.46 Q138.33 506.854 138.33 498.127 Q138.33 489.377 141.385 484.793 Q144.464 480.187 150.274 480.187 Z\" fill=\"#000000\" fill-rule=\"evenodd\" fill-opacity=\"1\" /><path clip-path=\"url(#clip690)\" d=\"M 0 0 M163.403 459.882 L178.318 459.882 L178.318 463.079 L166.883 463.079 L166.883 469.963 Q167.71 469.68 168.538 469.549 Q169.365 469.398 170.193 469.398 Q174.895 469.398 177.641 471.975 Q180.387 474.552 180.387 478.953 Q180.387 483.485 177.566 486.006 Q174.744 488.507 169.61 488.507 Q167.842 488.507 165.999 488.206 Q164.174 487.905 162.218 487.303 L162.218 483.485 Q163.911 484.407 165.717 484.858 Q167.522 485.31 169.535 485.31 Q172.788 485.31 174.688 483.598 Q176.588 481.887 176.588 478.953 Q176.588 476.019 174.688 474.307 Q172.788 472.596 169.535 472.596 Q168.011 472.596 166.488 472.934 Q164.983 473.273 163.403 473.987 L163.403 459.882 Z\" fill=\"#000000\" fill-rule=\"evenodd\" fill-opacity=\"1\" /><path clip-path=\"url(#clip690)\" d=\"M 0 0 M55.2745 183.723 L73.6309 183.723 L73.6309 187.658 L59.5569 187.658 L59.5569 196.13 Q60.5754 195.783 61.5939 195.621 Q62.6124 195.436 63.6309 195.436 Q69.418 195.436 72.7976 198.607 Q76.1772 201.778 76.1772 207.195 Q76.1772 212.774 72.705 215.876 Q69.2328 218.954 62.9134 218.954 Q60.7374 218.954 58.4689 218.584 Q56.2236 218.213 53.8162 217.473 L53.8162 212.774 Q55.8995 213.908 58.1217 214.464 Q60.3439 215.019 62.8208 215.019 Q66.8254 215.019 69.1633 212.913 Q71.5013 210.806 71.5013 207.195 Q71.5013 203.584 69.1633 201.477 Q66.8254 199.371 62.8208 199.371 Q60.9458 199.371 59.0708 199.788 Q57.2189 200.204 55.2745 201.084 L55.2745 183.723 Z\" fill=\"#000000\" fill-rule=\"evenodd\" fill-opacity=\"1\" /><path clip-path=\"url(#clip690)\" d=\"M 0 0 M109.418 192.82 L98.8391 203.445 L109.418 214.024 L106.663 216.825 L96.0382 206.2 L85.4132 216.825 L82.6818 214.024 L93.2373 203.445 L82.6818 192.82 L85.4132 190.019 L96.0382 200.644 L106.663 190.019 L109.418 192.82 Z\" fill=\"#000000\" fill-rule=\"evenodd\" fill-opacity=\"1\" /><path clip-path=\"url(#clip690)\" d=\"M 0 0 M115.297 214.348 L122.936 214.348 L122.936 187.982 L114.626 189.649 L114.626 185.39 L122.89 183.723 L127.566 183.723 L127.566 214.348 L135.205 214.348 L135.205 218.283 L115.297 218.283 L115.297 214.348 Z\" fill=\"#000000\" fill-rule=\"evenodd\" fill-opacity=\"1\" /><path clip-path=\"url(#clip690)\" d=\"M 0 0 M150.274 186.802 Q146.663 186.802 144.834 190.366 Q143.029 193.908 143.029 201.038 Q143.029 208.144 144.834 211.709 Q146.663 215.251 150.274 215.251 Q153.908 215.251 155.714 211.709 Q157.542 208.144 157.542 201.038 Q157.542 193.908 155.714 190.366 Q153.908 186.802 150.274 186.802 M150.274 183.098 Q156.084 183.098 159.14 187.704 Q162.218 192.288 162.218 201.038 Q162.218 209.764 159.14 214.371 Q156.084 218.954 150.274 218.954 Q144.464 218.954 141.385 214.371 Q138.33 209.764 138.33 201.038 Q138.33 192.288 141.385 187.704 Q144.464 183.098 150.274 183.098 Z\" fill=\"#000000\" fill-rule=\"evenodd\" fill-opacity=\"1\" /><path clip-path=\"url(#clip690)\" d=\"M 0 0 M163.403 162.793 L178.318 162.793 L178.318 165.99 L166.883 165.99 L166.883 172.873 Q167.71 172.591 168.538 172.46 Q169.365 172.309 170.193 172.309 Q174.895 172.309 177.641 174.886 Q180.387 177.463 180.387 181.864 Q180.387 186.396 177.566 188.917 Q174.744 191.418 169.61 191.418 Q167.842 191.418 165.999 191.117 Q164.174 190.816 162.218 190.214 L162.218 186.396 Q163.911 187.318 165.717 187.769 Q167.522 188.221 169.535 188.221 Q172.788 188.221 174.688 186.509 Q176.588 184.798 176.588 181.864 Q176.588 178.93 174.688 177.218 Q172.788 175.507 169.535 175.507 Q168.011 175.507 166.488 175.845 Q164.983 176.184 163.403 176.898 L163.403 162.793 Z\" fill=\"#000000\" fill-rule=\"evenodd\" fill-opacity=\"1\" /><path clip-path=\"url(#clip690)\" d=\"M 0 0 M889.183 44.2197 Q891.816 45.1109 894.287 48.0275 Q896.798 50.9442 899.31 56.0483 L907.614 72.576 L898.824 72.576 L891.087 57.061 Q888.089 50.9847 885.253 48.9997 Q882.458 47.0148 877.597 47.0148 L868.685 47.0148 L868.685 72.576 L860.502 72.576 L860.502 12.096 L878.975 12.096 Q889.345 12.096 894.449 16.4305 Q899.553 20.7649 899.553 29.5149 Q899.553 35.2267 896.88 38.994 Q894.246 42.7613 889.183 44.2197 M868.685 18.8205 L868.685 40.2903 L878.975 40.2903 Q884.889 40.2903 887.887 37.5762 Q890.925 34.8216 890.925 29.5149 Q890.925 24.2082 887.887 21.5346 Q884.889 18.8205 878.975 18.8205 L868.685 18.8205 Z\" fill=\"#000000\" fill-rule=\"evenodd\" fill-opacity=\"1\" /><path clip-path=\"url(#clip690)\" d=\"M 0 0 M950.513 48.0275 L950.513 51.6733 L916.243 51.6733 Q916.729 59.3701 920.861 63.421 Q925.033 67.4314 932.446 67.4314 Q936.74 67.4314 940.751 66.3781 Q944.802 65.3249 948.772 63.2184 L948.772 70.267 Q944.761 71.9684 940.548 72.8596 Q936.335 73.7508 932.001 73.7508 Q921.144 73.7508 914.785 67.4314 Q908.465 61.1119 908.465 50.3365 Q908.465 39.1965 914.46 32.6746 Q920.496 26.1121 930.705 26.1121 Q939.86 26.1121 945.166 32.0264 Q950.513 37.9003 950.513 48.0275 M943.06 45.84 Q942.979 39.7232 939.617 36.0774 Q936.295 32.4315 930.786 32.4315 Q924.547 32.4315 920.78 35.9558 Q917.053 39.4801 916.486 45.8805 L943.06 45.84 Z\" fill=\"#000000\" fill-rule=\"evenodd\" fill-opacity=\"1\" /><path clip-path=\"url(#clip690)\" d=\"M 0 0 M988.187 49.3643 Q988.187 41.2625 984.825 36.8065 Q981.503 32.3505 975.467 32.3505 Q969.472 32.3505 966.109 36.8065 Q962.788 41.2625 962.788 49.3643 Q962.788 57.4256 966.109 61.8816 Q969.472 66.3376 975.467 66.3376 Q981.503 66.3376 984.825 61.8816 Q988.187 57.4256 988.187 49.3643 M995.641 66.9452 Q995.641 78.5308 990.496 84.1616 Q985.351 89.8329 974.738 89.8329 Q970.809 89.8329 967.325 89.2252 Q963.841 88.6581 960.56 87.4428 L960.56 80.1917 Q963.841 81.9741 967.041 82.8248 Q970.241 83.6755 973.563 83.6755 Q980.895 83.6755 984.541 79.8271 Q988.187 76.0193 988.187 68.282 L988.187 64.5957 Q985.878 68.6061 982.273 70.5911 Q978.667 72.576 973.644 72.576 Q965.299 72.576 960.195 66.2161 Q955.091 59.8562 955.091 49.3643 Q955.091 38.832 960.195 32.472 Q965.299 26.1121 973.644 26.1121 Q978.667 26.1121 982.273 28.0971 Q985.878 30.082 988.187 34.0924 L988.187 27.2059 L995.641 27.2059 L995.641 66.9452 Z\" fill=\"#000000\" fill-rule=\"evenodd\" fill-opacity=\"1\" /><path clip-path=\"url(#clip690)\" d=\"M 0 0 M1029.75 34.1734 Q1028.49 33.4443 1026.99 33.1202 Q1025.54 32.7556 1023.75 32.7556 Q1017.43 32.7556 1014.03 36.8875 Q1010.67 40.9789 1010.67 48.6757 L1010.67 72.576 L1003.18 72.576 L1003.18 27.2059 L1010.67 27.2059 L1010.67 34.2544 Q1013.02 30.1225 1016.79 28.1376 Q1020.55 26.1121 1025.94 26.1121 Q1026.71 26.1121 1027.64 26.2337 Q1028.57 26.3147 1029.71 26.5172 L1029.75 34.1734 Z\" fill=\"#000000\" fill-rule=\"evenodd\" fill-opacity=\"1\" /><path clip-path=\"url(#clip690)\" d=\"M 0 0 M1074.55 48.0275 L1074.55 51.6733 L1040.28 51.6733 Q1040.77 59.3701 1044.9 63.421 Q1049.07 67.4314 1056.49 67.4314 Q1060.78 67.4314 1064.79 66.3781 Q1068.84 65.3249 1072.81 63.2184 L1072.81 70.267 Q1068.8 71.9684 1064.59 72.8596 Q1060.37 73.7508 1056.04 73.7508 Q1045.18 73.7508 1038.82 67.4314 Q1032.5 61.1119 1032.5 50.3365 Q1032.5 39.1965 1038.5 32.6746 Q1044.53 26.1121 1054.74 26.1121 Q1063.9 26.1121 1069.2 32.0264 Q1074.55 37.9003 1074.55 48.0275 M1067.1 45.84 Q1067.02 39.7232 1063.66 36.0774 Q1060.33 32.4315 1054.82 32.4315 Q1048.59 32.4315 1044.82 35.9558 Q1041.09 39.4801 1040.52 45.8805 L1067.1 45.84 Z\" fill=\"#000000\" fill-rule=\"evenodd\" fill-opacity=\"1\" /><path clip-path=\"url(#clip690)\" d=\"M 0 0 M1111.29 28.5427 L1111.29 35.5912 Q1108.13 33.9709 1104.73 33.1607 Q1101.33 32.3505 1097.68 32.3505 Q1092.13 32.3505 1089.34 34.0519 Q1086.58 35.7533 1086.58 39.156 Q1086.58 41.7486 1088.57 43.2475 Q1090.55 44.7058 1096.55 46.0426 L1099.1 46.6097 Q1107.04 48.3111 1110.36 51.4303 Q1113.72 54.509 1113.72 60.0587 Q1113.72 66.3781 1108.7 70.0644 Q1103.72 73.7508 1094.97 73.7508 Q1091.32 73.7508 1087.35 73.0216 Q1083.42 72.3329 1079.05 70.9151 L1079.05 63.2184 Q1083.18 65.3654 1087.19 66.4591 Q1091.2 67.5124 1095.13 67.5124 Q1100.4 67.5124 1103.23 65.73 Q1106.07 63.9071 1106.07 60.6258 Q1106.07 57.5877 1104 55.9673 Q1101.98 54.3469 1095.05 52.8481 L1092.46 52.2405 Q1085.53 50.7821 1082.45 47.7845 Q1079.37 44.7463 1079.37 39.4801 Q1079.37 33.0797 1083.91 29.5959 Q1088.45 26.1121 1096.79 26.1121 Q1100.92 26.1121 1104.57 26.7198 Q1108.22 27.3274 1111.29 28.5427 Z\" fill=\"#000000\" fill-rule=\"evenodd\" fill-opacity=\"1\" /><path clip-path=\"url(#clip690)\" d=\"M 0 0 M1150.47 28.5427 L1150.47 35.5912 Q1147.31 33.9709 1143.9 33.1607 Q1140.5 32.3505 1136.86 32.3505 Q1131.31 32.3505 1128.51 34.0519 Q1125.76 35.7533 1125.76 39.156 Q1125.76 41.7486 1127.74 43.2475 Q1129.73 44.7058 1135.72 46.0426 L1138.27 46.6097 Q1146.21 48.3111 1149.53 51.4303 Q1152.9 54.509 1152.9 60.0587 Q1152.9 66.3781 1147.87 70.0644 Q1142.89 73.7508 1134.14 73.7508 Q1130.5 73.7508 1126.53 73.0216 Q1122.6 72.3329 1118.22 70.9151 L1118.22 63.2184 Q1122.35 65.3654 1126.36 66.4591 Q1130.37 67.5124 1134.3 67.5124 Q1139.57 67.5124 1142.4 65.73 Q1145.24 63.9071 1145.24 60.6258 Q1145.24 57.5877 1143.17 55.9673 Q1141.15 54.3469 1134.22 52.8481 L1131.63 52.2405 Q1124.7 50.7821 1121.62 47.7845 Q1118.54 44.7463 1118.54 39.4801 Q1118.54 33.0797 1123.08 29.5959 Q1127.62 26.1121 1135.96 26.1121 Q1140.1 26.1121 1143.74 26.7198 Q1147.39 27.3274 1150.47 28.5427 Z\" fill=\"#000000\" fill-rule=\"evenodd\" fill-opacity=\"1\" /><path clip-path=\"url(#clip690)\" d=\"M 0 0 M1181.33 49.7694 Q1172.3 49.7694 1168.82 51.8354 Q1165.33 53.9013 1165.33 58.8839 Q1165.33 62.8538 1167.93 65.2034 Q1170.56 67.5124 1175.06 67.5124 Q1181.25 67.5124 1184.98 63.1374 Q1188.75 58.7219 1188.75 51.4303 L1188.75 49.7694 L1181.33 49.7694 M1196.2 46.6907 L1196.2 72.576 L1188.75 72.576 L1188.75 65.6895 Q1186.2 69.8214 1182.39 71.8063 Q1178.58 73.7508 1173.07 73.7508 Q1166.1 73.7508 1161.97 69.8619 Q1157.88 65.9325 1157.88 59.3701 Q1157.88 51.7138 1162.98 47.825 Q1168.13 43.9361 1178.3 43.9361 L1188.75 43.9361 L1188.75 43.2069 Q1188.75 38.0623 1185.34 35.2672 Q1181.98 32.4315 1175.87 32.4315 Q1171.98 32.4315 1168.29 33.3632 Q1164.6 34.295 1161.2 36.1584 L1161.2 29.2718 Q1165.29 27.692 1169.14 26.9223 Q1172.99 26.1121 1176.63 26.1121 Q1186.48 26.1121 1191.34 31.2163 Q1196.2 36.3204 1196.2 46.6907 M1176.8 17.0786 L1174.49 14.8506 Q1173.6 14.0404 1172.91 13.6759 Q1172.26 13.2708 1171.73 13.2708 Q1170.19 13.2708 1169.46 14.7696 Q1168.74 16.2279 1168.65 19.5497 L1163.59 19.5497 Q1163.67 14.0809 1165.74 11.1238 Q1167.8 8.12611 1171.49 8.12611 Q1173.03 8.12611 1174.33 8.69324 Q1175.62 9.26037 1177.12 10.5972 L1179.43 12.8252 Q1180.32 13.6353 1180.97 14.0404 Q1181.66 14.405 1182.18 14.405 Q1183.72 14.405 1184.45 12.9467 Q1185.18 11.4479 1185.26 8.12611 L1190.33 8.12611 Q1190.25 13.5948 1188.18 16.5925 Q1186.11 19.5497 1182.43 19.5497 Q1180.89 19.5497 1179.59 18.9825 Q1178.3 18.4154 1176.8 17.0786 Z\" fill=\"#000000\" fill-rule=\"evenodd\" fill-opacity=\"1\" /><path clip-path=\"url(#clip690)\" d=\"M 0 0 M1221.6 32.4315 Q1215.6 32.4315 1212.12 37.1306 Q1208.64 41.7891 1208.64 49.9314 Q1208.64 58.0738 1212.08 62.7728 Q1215.56 67.4314 1221.6 67.4314 Q1227.55 67.4314 1231.04 62.7323 Q1234.52 58.0333 1234.52 49.9314 Q1234.52 41.8701 1231.04 37.1711 Q1227.55 32.4315 1221.6 32.4315 M1221.6 26.1121 Q1231.32 26.1121 1236.87 32.4315 Q1242.42 38.7509 1242.42 49.9314 Q1242.42 61.0714 1236.87 67.4314 Q1231.32 73.7508 1221.6 73.7508 Q1211.84 73.7508 1206.29 67.4314 Q1200.78 61.0714 1200.78 49.9314 Q1200.78 38.7509 1206.29 32.4315 Q1211.84 26.1121 1221.6 26.1121 Z\" fill=\"#000000\" fill-rule=\"evenodd\" fill-opacity=\"1\" /><path clip-path=\"url(#clip690)\" d=\"M 0 0 M1276.94 12.096 L1315.18 12.096 L1315.18 18.9825 L1285.12 18.9825 L1285.12 36.8875 L1313.92 36.8875 L1313.92 43.7741 L1285.12 43.7741 L1285.12 65.6895 L1315.91 65.6895 L1315.91 72.576 L1276.94 72.576 L1276.94 12.096 Z\" fill=\"#000000\" fill-rule=\"evenodd\" fill-opacity=\"1\" /><path clip-path=\"url(#clip690)\" d=\"M 0 0 M1361.44 27.2059 L1345.03 49.2833 L1362.29 72.576 L1353.5 72.576 L1340.29 54.752 L1327.09 72.576 L1318.3 72.576 L1335.92 48.8377 L1319.79 27.2059 L1328.58 27.2059 L1340.62 43.369 L1352.65 27.2059 L1361.44 27.2059 Z\" fill=\"#000000\" fill-rule=\"evenodd\" fill-opacity=\"1\" /><path clip-path=\"url(#clip690)\" d=\"M 0 0 M1377.32 65.7705 L1377.32 89.8329 L1369.82 89.8329 L1369.82 27.2059 L1377.32 27.2059 L1377.32 34.0924 Q1379.67 30.0415 1383.23 28.0971 Q1386.84 26.1121 1391.82 26.1121 Q1400.08 26.1121 1405.23 32.6746 Q1410.41 39.2371 1410.41 49.9314 Q1410.41 60.6258 1405.23 67.1883 Q1400.08 73.7508 1391.82 73.7508 Q1386.84 73.7508 1383.23 71.8063 Q1379.67 69.8214 1377.32 65.7705 M1402.68 49.9314 Q1402.68 41.7081 1399.27 37.0496 Q1395.91 32.3505 1390 32.3505 Q1384.08 32.3505 1380.68 37.0496 Q1377.32 41.7081 1377.32 49.9314 Q1377.32 58.1548 1380.68 62.8538 Q1384.08 67.5124 1390 67.5124 Q1395.91 67.5124 1399.27 62.8538 Q1402.68 58.1548 1402.68 49.9314 Z\" fill=\"#000000\" fill-rule=\"evenodd\" fill-opacity=\"1\" /><path clip-path=\"url(#clip690)\" d=\"M 0 0 M1435.81 32.4315 Q1429.82 32.4315 1426.33 37.1306 Q1422.85 41.7891 1422.85 49.9314 Q1422.85 58.0738 1426.29 62.7728 Q1429.78 67.4314 1435.81 67.4314 Q1441.77 67.4314 1445.25 62.7323 Q1448.73 58.0333 1448.73 49.9314 Q1448.73 41.8701 1445.25 37.1711 Q1441.77 32.4315 1435.81 32.4315 M1435.81 26.1121 Q1445.53 26.1121 1451.08 32.4315 Q1456.63 38.7509 1456.63 49.9314 Q1456.63 61.0714 1451.08 67.4314 Q1445.53 73.7508 1435.81 73.7508 Q1426.05 73.7508 1420.5 67.4314 Q1414.99 61.0714 1414.99 49.9314 Q1414.99 38.7509 1420.5 32.4315 Q1426.05 26.1121 1435.81 26.1121 Z\" fill=\"#000000\" fill-rule=\"evenodd\" fill-opacity=\"1\" /><path clip-path=\"url(#clip690)\" d=\"M 0 0 M1502.17 45.1919 L1502.17 72.576 L1494.71 72.576 L1494.71 45.4349 Q1494.71 38.994 1492.2 35.7938 Q1489.69 32.5936 1484.67 32.5936 Q1478.63 32.5936 1475.15 36.4419 Q1471.66 40.2903 1471.66 46.9338 L1471.66 72.576 L1464.17 72.576 L1464.17 27.2059 L1471.66 27.2059 L1471.66 34.2544 Q1474.34 30.163 1477.94 28.1376 Q1481.59 26.1121 1486.33 26.1121 Q1494.14 26.1121 1498.16 30.9732 Q1502.17 35.7938 1502.17 45.1919 Z\" fill=\"#000000\" fill-rule=\"evenodd\" fill-opacity=\"1\" /><path clip-path=\"url(#clip690)\" d=\"M 0 0 M1548.79 48.0275 L1548.79 51.6733 L1514.52 51.6733 Q1515.01 59.3701 1519.14 63.421 Q1523.31 67.4314 1530.72 67.4314 Q1535.02 67.4314 1539.03 66.3781 Q1543.08 65.3249 1547.05 63.2184 L1547.05 70.267 Q1543.04 71.9684 1538.83 72.8596 Q1534.61 73.7508 1530.28 73.7508 Q1519.42 73.7508 1513.06 67.4314 Q1506.74 61.1119 1506.74 50.3365 Q1506.74 39.1965 1512.74 32.6746 Q1518.77 26.1121 1528.98 26.1121 Q1538.14 26.1121 1543.44 32.0264 Q1548.79 37.9003 1548.79 48.0275 M1541.34 45.84 Q1541.26 39.7232 1537.89 36.0774 Q1534.57 32.4315 1529.06 32.4315 Q1522.83 32.4315 1519.06 35.9558 Q1515.33 39.4801 1514.76 45.8805 L1541.34 45.84 Z\" fill=\"#000000\" fill-rule=\"evenodd\" fill-opacity=\"1\" /><path clip-path=\"url(#clip690)\" d=\"M 0 0 M1594.32 45.1919 L1594.32 72.576 L1586.87 72.576 L1586.87 45.4349 Q1586.87 38.994 1584.36 35.7938 Q1581.85 32.5936 1576.82 32.5936 Q1570.79 32.5936 1567.3 36.4419 Q1563.82 40.2903 1563.82 46.9338 L1563.82 72.576 L1556.33 72.576 L1556.33 27.2059 L1563.82 27.2059 L1563.82 34.2544 Q1566.49 30.163 1570.1 28.1376 Q1573.75 26.1121 1578.48 26.1121 Q1586.3 26.1121 1590.31 30.9732 Q1594.32 35.7938 1594.32 45.1919 Z\" fill=\"#000000\" fill-rule=\"evenodd\" fill-opacity=\"1\" /><path clip-path=\"url(#clip690)\" d=\"M 0 0 M1634.79 28.9478 L1634.79 35.9153 Q1631.63 34.1734 1628.43 33.3227 Q1625.27 32.4315 1622.03 32.4315 Q1614.78 32.4315 1610.77 37.0496 Q1606.76 41.6271 1606.76 49.9314 Q1606.76 58.2358 1610.77 62.8538 Q1614.78 67.4314 1622.03 67.4314 Q1625.27 67.4314 1628.43 66.5807 Q1631.63 65.6895 1634.79 63.9476 L1634.79 70.8341 Q1631.67 72.2924 1628.31 73.0216 Q1624.99 73.7508 1621.22 73.7508 Q1610.97 73.7508 1604.94 67.3098 Q1598.9 60.8689 1598.9 49.9314 Q1598.9 38.832 1604.98 32.472 Q1611.09 26.1121 1621.71 26.1121 Q1625.15 26.1121 1628.43 26.8413 Q1631.71 27.5299 1634.79 28.9478 Z\" fill=\"#000000\" fill-rule=\"evenodd\" fill-opacity=\"1\" /><path clip-path=\"url(#clip690)\" d=\"M 0 0 M1642.61 27.2059 L1650.06 27.2059 L1650.06 72.576 L1642.61 72.576 L1642.61 27.2059 M1642.61 9.54393 L1650.06 9.54393 L1650.06 18.9825 L1642.61 18.9825 L1642.61 9.54393 Z\" fill=\"#000000\" fill-rule=\"evenodd\" fill-opacity=\"1\" /><path clip-path=\"url(#clip690)\" d=\"M 0 0 M1678.5 49.7694 Q1669.47 49.7694 1665.98 51.8354 Q1662.5 53.9013 1662.5 58.8839 Q1662.5 62.8538 1665.09 65.2034 Q1667.73 67.5124 1672.22 67.5124 Q1678.42 67.5124 1682.15 63.1374 Q1685.91 58.7219 1685.91 51.4303 L1685.91 49.7694 L1678.5 49.7694 M1693.37 46.6907 L1693.37 72.576 L1685.91 72.576 L1685.91 65.6895 Q1683.36 69.8214 1679.55 71.8063 Q1675.75 73.7508 1670.24 73.7508 Q1663.27 73.7508 1659.14 69.8619 Q1655.05 65.9325 1655.05 59.3701 Q1655.05 51.7138 1660.15 47.825 Q1665.3 43.9361 1675.46 43.9361 L1685.91 43.9361 L1685.91 43.2069 Q1685.91 38.0623 1682.51 35.2672 Q1679.15 32.4315 1673.03 32.4315 Q1669.14 32.4315 1665.46 33.3632 Q1661.77 34.295 1658.37 36.1584 L1658.37 29.2718 Q1662.46 27.692 1666.31 26.9223 Q1670.16 26.1121 1673.8 26.1121 Q1683.65 26.1121 1688.51 31.2163 Q1693.37 36.3204 1693.37 46.6907 Z\" fill=\"#000000\" fill-rule=\"evenodd\" fill-opacity=\"1\" /><path clip-path=\"url(#clip690)\" d=\"M 0 0 M1701.19 9.54393 L1708.64 9.54393 L1708.64 72.576 L1701.19 72.576 L1701.19 9.54393 Z\" fill=\"#000000\" fill-rule=\"evenodd\" fill-opacity=\"1\" /><circle clip-path=\"url(#clip692)\" cx=\"333.891\" cy=\"1447.87\" r=\"14\" fill=\"#009af9\" fill-rule=\"evenodd\" fill-opacity=\"1\" stroke=\"#000000\" stroke-opacity=\"1\" stroke-width=\"3.2\"/>\n",
       "<circle clip-path=\"url(#clip692)\" cx=\"439.522\" cy=\"1430.33\" r=\"14\" fill=\"#009af9\" fill-rule=\"evenodd\" fill-opacity=\"1\" stroke=\"#000000\" stroke-opacity=\"1\" stroke-width=\"3.2\"/>\n",
       "<circle clip-path=\"url(#clip692)\" cx=\"545.153\" cy=\"1405.79\" r=\"14\" fill=\"#009af9\" fill-rule=\"evenodd\" fill-opacity=\"1\" stroke=\"#000000\" stroke-opacity=\"1\" stroke-width=\"3.2\"/>\n",
       "<circle clip-path=\"url(#clip692)\" cx=\"650.784\" cy=\"1381.23\" r=\"14\" fill=\"#009af9\" fill-rule=\"evenodd\" fill-opacity=\"1\" stroke=\"#000000\" stroke-opacity=\"1\" stroke-width=\"3.2\"/>\n",
       "<circle clip-path=\"url(#clip692)\" cx=\"756.415\" cy=\"1291.42\" r=\"14\" fill=\"#009af9\" fill-rule=\"evenodd\" fill-opacity=\"1\" stroke=\"#000000\" stroke-opacity=\"1\" stroke-width=\"3.2\"/>\n",
       "<circle clip-path=\"url(#clip692)\" cx=\"862.047\" cy=\"1266.45\" r=\"14\" fill=\"#009af9\" fill-rule=\"evenodd\" fill-opacity=\"1\" stroke=\"#000000\" stroke-opacity=\"1\" stroke-width=\"3.2\"/>\n",
       "<circle clip-path=\"url(#clip692)\" cx=\"967.678\" cy=\"1187.07\" r=\"14\" fill=\"#009af9\" fill-rule=\"evenodd\" fill-opacity=\"1\" stroke=\"#000000\" stroke-opacity=\"1\" stroke-width=\"3.2\"/>\n",
       "<circle clip-path=\"url(#clip692)\" cx=\"1073.31\" cy=\"1087.86\" r=\"14\" fill=\"#009af9\" fill-rule=\"evenodd\" fill-opacity=\"1\" stroke=\"#000000\" stroke-opacity=\"1\" stroke-width=\"3.2\"/>\n",
       "<circle clip-path=\"url(#clip692)\" cx=\"1178.94\" cy=\"1021.83\" r=\"14\" fill=\"#009af9\" fill-rule=\"evenodd\" fill-opacity=\"1\" stroke=\"#000000\" stroke-opacity=\"1\" stroke-width=\"3.2\"/>\n",
       "<circle clip-path=\"url(#clip692)\" cx=\"1284.57\" cy=\"955.885\" r=\"14\" fill=\"#009af9\" fill-rule=\"evenodd\" fill-opacity=\"1\" stroke=\"#000000\" stroke-opacity=\"1\" stroke-width=\"3.2\"/>\n",
       "<circle clip-path=\"url(#clip692)\" cx=\"1390.2\" cy=\"935.46\" r=\"14\" fill=\"#009af9\" fill-rule=\"evenodd\" fill-opacity=\"1\" stroke=\"#000000\" stroke-opacity=\"1\" stroke-width=\"3.2\"/>\n",
       "<circle clip-path=\"url(#clip692)\" cx=\"1495.83\" cy=\"922.545\" r=\"14\" fill=\"#009af9\" fill-rule=\"evenodd\" fill-opacity=\"1\" stroke=\"#000000\" stroke-opacity=\"1\" stroke-width=\"3.2\"/>\n",
       "<circle clip-path=\"url(#clip692)\" cx=\"1601.46\" cy=\"888.425\" r=\"14\" fill=\"#009af9\" fill-rule=\"evenodd\" fill-opacity=\"1\" stroke=\"#000000\" stroke-opacity=\"1\" stroke-width=\"3.2\"/>\n",
       "<circle clip-path=\"url(#clip692)\" cx=\"1707.1\" cy=\"851.143\" r=\"14\" fill=\"#009af9\" fill-rule=\"evenodd\" fill-opacity=\"1\" stroke=\"#000000\" stroke-opacity=\"1\" stroke-width=\"3.2\"/>\n",
       "<circle clip-path=\"url(#clip692)\" cx=\"1812.73\" cy=\"786.015\" r=\"14\" fill=\"#009af9\" fill-rule=\"evenodd\" fill-opacity=\"1\" stroke=\"#000000\" stroke-opacity=\"1\" stroke-width=\"3.2\"/>\n",
       "<circle clip-path=\"url(#clip692)\" cx=\"1918.36\" cy=\"662.661\" r=\"14\" fill=\"#009af9\" fill-rule=\"evenodd\" fill-opacity=\"1\" stroke=\"#000000\" stroke-opacity=\"1\" stroke-width=\"3.2\"/>\n",
       "<circle clip-path=\"url(#clip692)\" cx=\"2023.99\" cy=\"628.383\" r=\"14\" fill=\"#009af9\" fill-rule=\"evenodd\" fill-opacity=\"1\" stroke=\"#000000\" stroke-opacity=\"1\" stroke-width=\"3.2\"/>\n",
       "<circle clip-path=\"url(#clip692)\" cx=\"2129.62\" cy=\"466.606\" r=\"14\" fill=\"#009af9\" fill-rule=\"evenodd\" fill-opacity=\"1\" stroke=\"#000000\" stroke-opacity=\"1\" stroke-width=\"3.2\"/>\n",
       "<circle clip-path=\"url(#clip692)\" cx=\"2235.25\" cy=\"191.112\" r=\"14\" fill=\"#009af9\" fill-rule=\"evenodd\" fill-opacity=\"1\" stroke=\"#000000\" stroke-opacity=\"1\" stroke-width=\"3.2\"/>\n",
       "<polyline clip-path=\"url(#clip692)\" style=\"stroke:#ff0000; stroke-width:8; stroke-opacity:1; fill:none\" points=\"\n",
       "  276.85,1440.14 296.532,1435.78 478.525,1391.5 587.895,1361.12 680.366,1332.95 780.815,1299.52 873.421,1265.86 972.704,1226.46 1087.73,1176.09 1189.96,1126.66 \n",
       "  1279.6,1079.33 1377.33,1023.11 1475.64,961.25 1584.34,886.048 1687.77,807.203 1795.3,716.909 1885.83,633.698 1996.35,522.298 2100.24,406.786 2266.68,197.227 \n",
       "  2292.29,162.047 \n",
       "  \"/>\n",
       "</svg>\n"
      ]
     },
     "execution_count": 102,
     "metadata": {},
     "output_type": "execute_result"
    }
   ],
   "source": [
    "# Data set que representa o número de casos de covid a partir de alguns dias\n",
    "pontos_x = [0, 1, 2, 3, 4, 5, 6, 7, 8, 9, 10, 11, 12, 13, 14, 15, 16, 17, 18];\n",
    "pontos_y = [78134, 84040, 92300, 100567, 130795, 139200, 165919, 199314, 221540, 243737, 250612, 254959, 266444, 278993,\n",
    "            300915, 342436, 353974, 408428, 501159];\n",
    "\n",
    "Coeficientes = regressão_função_exponencial(pontos_x, pontos_y)\n",
    "polinomio(x) = (ℯ^Coeficientes[1])*ℯ^(x*Coeficientes[2])\n",
    "scatter(pontos_x,pontos_y,leg=false)\n",
    "plot!(pontos_x -> polinomio(pontos_x), c=:red, lw=2)\n",
    "title!(\"Regressão Exponencial\")"
   ]
  },
  {
   "cell_type": "code",
   "execution_count": 64,
   "metadata": {},
   "outputs": [
    {
     "data": {
      "text/plain": [
       "regressão_função_potencia_x (generic function with 1 method)"
      ]
     },
     "execution_count": 64,
     "metadata": {},
     "output_type": "execute_result"
    }
   ],
   "source": [
    "\"\"\" A função regressão_função_potencia_x minimiza a soma dos quadrados das distâncias de acordo com a função c0*x^(c1).\n",
    "    Sendo assim, para calcular os coeficientes precisamos usar algum log como um dicionário, que \"linenizará\" a função.\n",
    "    Escolhi log2 mas talvez possa ser interessante passar o valor do log por parâmetro, por mais que o Julia não tenha\n",
    "    suporte para valores aleatórios de log.\n",
    "    Como entrada temos os valores de x, os valores de y correspondentes aos valores de x. E como saida o retorno dos\n",
    "    coeficientes c0 e c1. \"\"\"\n",
    "\n",
    "function regressão_função_potencia_x(pontos_x,pontos_y) #coeficientes não lineares\n",
    "    #dicionário (\"linearização\") é feito manualmente ou por uma tabela. É necessário usar o log tanto para os valores\n",
    "    # de x quanto para os valores de y visto que log(y) = log(c0) + log(x)*c1\n",
    "    pontos_y_barra = zeros(length(pontos_y))\n",
    "    pontos_x_barra = zeros(length(pontos_x))\n",
    "    for i in 1:length(pontos_x)\n",
    "        pontos_y_barra[i] = log2(pontos_y[i])\n",
    "        pontos_x_barra[i] = log2(pontos_x[i])\n",
    "    end\n",
    "\n",
    "\n",
    "    #resolver regresssão com coeficientes lineares no \"mundo barra\"\n",
    "    coeficientes_barra = regressão_coeficientes_lineares(pontos_x_barra,pontos_y_barra, 1)\n",
    "    return coeficientes_barra\n",
    "end"
   ]
  },
  {
   "cell_type": "code",
   "execution_count": 103,
   "metadata": {},
   "outputs": [
    {
     "data": {
      "image/svg+xml": [
       "<?xml version=\"1.0\" encoding=\"utf-8\"?>\n",
       "<svg xmlns=\"http://www.w3.org/2000/svg\" xmlns:xlink=\"http://www.w3.org/1999/xlink\" width=\"600\" height=\"400\" viewBox=\"0 0 2400 1600\">\n",
       "<defs>\n",
       "  <clipPath id=\"clip730\">\n",
       "    <rect x=\"0\" y=\"0\" width=\"2400\" height=\"1600\"/>\n",
       "  </clipPath>\n",
       "</defs>\n",
       "<path clip-path=\"url(#clip730)\" d=\"\n",
       "M0 1600 L2400 1600 L2400 0 L0 0  Z\n",
       "  \" fill=\"#ffffff\" fill-rule=\"evenodd\" fill-opacity=\"1\"/>\n",
       "<defs>\n",
       "  <clipPath id=\"clip731\">\n",
       "    <rect x=\"480\" y=\"0\" width=\"1681\" height=\"1600\"/>\n",
       "  </clipPath>\n",
       "</defs>\n",
       "<path clip-path=\"url(#clip730)\" d=\"\n",
       "M163.774 1486.45 L2352.76 1486.45 L2352.76 47.2441 L163.774 47.2441  Z\n",
       "  \" fill=\"#ffffff\" fill-rule=\"evenodd\" fill-opacity=\"1\"/>\n",
       "<defs>\n",
       "  <clipPath id=\"clip732\">\n",
       "    <rect x=\"163\" y=\"47\" width=\"2190\" height=\"1440\"/>\n",
       "  </clipPath>\n",
       "</defs>\n",
       "<polyline clip-path=\"url(#clip732)\" style=\"stroke:#000000; stroke-width:2; stroke-opacity:0.1; fill:none\" points=\"\n",
       "  225.726,1486.45 225.726,47.2441 \n",
       "  \"/>\n",
       "<polyline clip-path=\"url(#clip732)\" style=\"stroke:#000000; stroke-width:2; stroke-opacity:0.1; fill:none\" points=\"\n",
       "  741.996,1486.45 741.996,47.2441 \n",
       "  \"/>\n",
       "<polyline clip-path=\"url(#clip732)\" style=\"stroke:#000000; stroke-width:2; stroke-opacity:0.1; fill:none\" points=\"\n",
       "  1258.27,1486.45 1258.27,47.2441 \n",
       "  \"/>\n",
       "<polyline clip-path=\"url(#clip732)\" style=\"stroke:#000000; stroke-width:2; stroke-opacity:0.1; fill:none\" points=\"\n",
       "  1774.53,1486.45 1774.53,47.2441 \n",
       "  \"/>\n",
       "<polyline clip-path=\"url(#clip732)\" style=\"stroke:#000000; stroke-width:2; stroke-opacity:0.1; fill:none\" points=\"\n",
       "  2290.8,1486.45 2290.8,47.2441 \n",
       "  \"/>\n",
       "<polyline clip-path=\"url(#clip730)\" style=\"stroke:#000000; stroke-width:4; stroke-opacity:1; fill:none\" points=\"\n",
       "  163.774,1486.45 2352.76,1486.45 \n",
       "  \"/>\n",
       "<polyline clip-path=\"url(#clip730)\" style=\"stroke:#000000; stroke-width:4; stroke-opacity:1; fill:none\" points=\"\n",
       "  225.726,1486.45 225.726,1469.18 \n",
       "  \"/>\n",
       "<polyline clip-path=\"url(#clip730)\" style=\"stroke:#000000; stroke-width:4; stroke-opacity:1; fill:none\" points=\"\n",
       "  741.996,1486.45 741.996,1469.18 \n",
       "  \"/>\n",
       "<polyline clip-path=\"url(#clip730)\" style=\"stroke:#000000; stroke-width:4; stroke-opacity:1; fill:none\" points=\"\n",
       "  1258.27,1486.45 1258.27,1469.18 \n",
       "  \"/>\n",
       "<polyline clip-path=\"url(#clip730)\" style=\"stroke:#000000; stroke-width:4; stroke-opacity:1; fill:none\" points=\"\n",
       "  1774.53,1486.45 1774.53,1469.18 \n",
       "  \"/>\n",
       "<polyline clip-path=\"url(#clip730)\" style=\"stroke:#000000; stroke-width:4; stroke-opacity:1; fill:none\" points=\"\n",
       "  2290.8,1486.45 2290.8,1469.18 \n",
       "  \"/>\n",
       "<path clip-path=\"url(#clip730)\" d=\"M 0 0 M193.736 1515.64 Q190.125 1515.64 188.296 1519.2 Q186.491 1522.75 186.491 1529.87 Q186.491 1536.98 188.296 1540.55 Q190.125 1544.09 193.736 1544.09 Q197.37 1544.09 199.176 1540.55 Q201.004 1536.98 201.004 1529.87 Q201.004 1522.75 199.176 1519.2 Q197.37 1515.64 193.736 1515.64 M193.736 1511.93 Q199.546 1511.93 202.602 1516.54 Q205.68 1521.12 205.68 1529.87 Q205.68 1538.6 202.602 1543.21 Q199.546 1547.79 193.736 1547.79 Q187.926 1547.79 184.847 1543.21 Q181.791 1538.6 181.791 1529.87 Q181.791 1521.12 184.847 1516.54 Q187.926 1511.93 193.736 1511.93 Z\" fill=\"#000000\" fill-rule=\"evenodd\" fill-opacity=\"1\" /><path clip-path=\"url(#clip730)\" d=\"M 0 0 M210.75 1541.24 L215.634 1541.24 L215.634 1547.12 L210.75 1547.12 L210.75 1541.24 Z\" fill=\"#000000\" fill-rule=\"evenodd\" fill-opacity=\"1\" /><path clip-path=\"url(#clip730)\" d=\"M 0 0 M230.703 1515.64 Q227.092 1515.64 225.263 1519.2 Q223.458 1522.75 223.458 1529.87 Q223.458 1536.98 225.263 1540.55 Q227.092 1544.09 230.703 1544.09 Q234.338 1544.09 236.143 1540.55 Q237.972 1536.98 237.972 1529.87 Q237.972 1522.75 236.143 1519.2 Q234.338 1515.64 230.703 1515.64 M230.703 1511.93 Q236.513 1511.93 239.569 1516.54 Q242.648 1521.12 242.648 1529.87 Q242.648 1538.6 239.569 1543.21 Q236.513 1547.79 230.703 1547.79 Q224.893 1547.79 221.814 1543.21 Q218.759 1538.6 218.759 1529.87 Q218.759 1521.12 221.814 1516.54 Q224.893 1511.93 230.703 1511.93 Z\" fill=\"#000000\" fill-rule=\"evenodd\" fill-opacity=\"1\" /><path clip-path=\"url(#clip730)\" d=\"M 0 0 M257.717 1515.64 Q254.106 1515.64 252.277 1519.2 Q250.472 1522.75 250.472 1529.87 Q250.472 1536.98 252.277 1540.55 Q254.106 1544.09 257.717 1544.09 Q261.351 1544.09 263.157 1540.55 Q264.985 1536.98 264.985 1529.87 Q264.985 1522.75 263.157 1519.2 Q261.351 1515.64 257.717 1515.64 M257.717 1511.93 Q263.527 1511.93 266.583 1516.54 Q269.661 1521.12 269.661 1529.87 Q269.661 1538.6 266.583 1543.21 Q263.527 1547.79 257.717 1547.79 Q251.907 1547.79 248.828 1543.21 Q245.773 1538.6 245.773 1529.87 Q245.773 1521.12 248.828 1516.54 Q251.907 1511.93 257.717 1511.93 Z\" fill=\"#000000\" fill-rule=\"evenodd\" fill-opacity=\"1\" /><path clip-path=\"url(#clip730)\" d=\"M 0 0 M711.301 1515.64 Q707.69 1515.64 705.862 1519.2 Q704.056 1522.75 704.056 1529.87 Q704.056 1536.98 705.862 1540.55 Q707.69 1544.09 711.301 1544.09 Q714.936 1544.09 716.741 1540.55 Q718.57 1536.98 718.57 1529.87 Q718.57 1522.75 716.741 1519.2 Q714.936 1515.64 711.301 1515.64 M711.301 1511.93 Q717.112 1511.93 720.167 1516.54 Q723.246 1521.12 723.246 1529.87 Q723.246 1538.6 720.167 1543.21 Q717.112 1547.79 711.301 1547.79 Q705.491 1547.79 702.413 1543.21 Q699.357 1538.6 699.357 1529.87 Q699.357 1521.12 702.413 1516.54 Q705.491 1511.93 711.301 1511.93 Z\" fill=\"#000000\" fill-rule=\"evenodd\" fill-opacity=\"1\" /><path clip-path=\"url(#clip730)\" d=\"M 0 0 M728.315 1541.24 L733.199 1541.24 L733.199 1547.12 L728.315 1547.12 L728.315 1541.24 Z\" fill=\"#000000\" fill-rule=\"evenodd\" fill-opacity=\"1\" /><path clip-path=\"url(#clip730)\" d=\"M 0 0 M742.297 1543.18 L758.616 1543.18 L758.616 1547.12 L736.672 1547.12 L736.672 1543.18 Q739.334 1540.43 743.917 1535.8 Q748.523 1531.15 749.704 1529.81 Q751.949 1527.28 752.829 1525.55 Q753.732 1523.79 753.732 1522.1 Q753.732 1519.34 751.787 1517.61 Q749.866 1515.87 746.764 1515.87 Q744.565 1515.87 742.111 1516.63 Q739.681 1517.4 736.903 1518.95 L736.903 1514.23 Q739.727 1513.09 742.181 1512.51 Q744.635 1511.93 746.672 1511.93 Q752.042 1511.93 755.236 1514.62 Q758.431 1517.31 758.431 1521.8 Q758.431 1523.93 757.621 1525.85 Q756.834 1527.74 754.727 1530.34 Q754.148 1531.01 751.047 1534.23 Q747.945 1537.42 742.297 1543.18 Z\" fill=\"#000000\" fill-rule=\"evenodd\" fill-opacity=\"1\" /><path clip-path=\"url(#clip730)\" d=\"M 0 0 M763.732 1512.56 L782.088 1512.56 L782.088 1516.5 L768.014 1516.5 L768.014 1524.97 Q769.033 1524.62 770.051 1524.46 Q771.07 1524.27 772.088 1524.27 Q777.875 1524.27 781.255 1527.44 Q784.634 1530.62 784.634 1536.03 Q784.634 1541.61 781.162 1544.71 Q777.69 1547.79 771.371 1547.79 Q769.195 1547.79 766.926 1547.42 Q764.681 1547.05 762.273 1546.31 L762.273 1541.61 Q764.357 1542.74 766.579 1543.3 Q768.801 1543.86 771.278 1543.86 Q775.283 1543.86 777.621 1541.75 Q779.958 1539.64 779.958 1536.03 Q779.958 1532.42 777.621 1530.31 Q775.283 1528.21 771.278 1528.21 Q769.403 1528.21 767.528 1528.62 Q765.676 1529.04 763.732 1529.92 L763.732 1512.56 Z\" fill=\"#000000\" fill-rule=\"evenodd\" fill-opacity=\"1\" /><path clip-path=\"url(#clip730)\" d=\"M 0 0 M1226.77 1515.64 Q1223.16 1515.64 1221.33 1519.2 Q1219.53 1522.75 1219.53 1529.87 Q1219.53 1536.98 1221.33 1540.55 Q1223.16 1544.09 1226.77 1544.09 Q1230.41 1544.09 1232.21 1540.55 Q1234.04 1536.98 1234.04 1529.87 Q1234.04 1522.75 1232.21 1519.2 Q1230.41 1515.64 1226.77 1515.64 M1226.77 1511.93 Q1232.58 1511.93 1235.64 1516.54 Q1238.72 1521.12 1238.72 1529.87 Q1238.72 1538.6 1235.64 1543.21 Q1232.58 1547.79 1226.77 1547.79 Q1220.96 1547.79 1217.88 1543.21 Q1214.83 1538.6 1214.83 1529.87 Q1214.83 1521.12 1217.88 1516.54 Q1220.96 1511.93 1226.77 1511.93 Z\" fill=\"#000000\" fill-rule=\"evenodd\" fill-opacity=\"1\" /><path clip-path=\"url(#clip730)\" d=\"M 0 0 M1243.79 1541.24 L1248.67 1541.24 L1248.67 1547.12 L1243.79 1547.12 L1243.79 1541.24 Z\" fill=\"#000000\" fill-rule=\"evenodd\" fill-opacity=\"1\" /><path clip-path=\"url(#clip730)\" d=\"M 0 0 M1253.79 1512.56 L1272.14 1512.56 L1272.14 1516.5 L1258.07 1516.5 L1258.07 1524.97 Q1259.09 1524.62 1260.11 1524.46 Q1261.12 1524.27 1262.14 1524.27 Q1267.93 1524.27 1271.31 1527.44 Q1274.69 1530.62 1274.69 1536.03 Q1274.69 1541.61 1271.22 1544.71 Q1267.74 1547.79 1261.42 1547.79 Q1259.25 1547.79 1256.98 1547.42 Q1254.73 1547.05 1252.33 1546.31 L1252.33 1541.61 Q1254.41 1542.74 1256.63 1543.3 Q1258.86 1543.86 1261.33 1543.86 Q1265.34 1543.86 1267.67 1541.75 Q1270.01 1539.64 1270.01 1536.03 Q1270.01 1532.42 1267.67 1530.31 Q1265.34 1528.21 1261.33 1528.21 Q1259.46 1528.21 1257.58 1528.62 Q1255.73 1529.04 1253.79 1529.92 L1253.79 1512.56 Z\" fill=\"#000000\" fill-rule=\"evenodd\" fill-opacity=\"1\" /><path clip-path=\"url(#clip730)\" d=\"M 0 0 M1289.76 1515.64 Q1286.15 1515.64 1284.32 1519.2 Q1282.51 1522.75 1282.51 1529.87 Q1282.51 1536.98 1284.32 1540.55 Q1286.15 1544.09 1289.76 1544.09 Q1293.39 1544.09 1295.2 1540.55 Q1297.03 1536.98 1297.03 1529.87 Q1297.03 1522.75 1295.2 1519.2 Q1293.39 1515.64 1289.76 1515.64 M1289.76 1511.93 Q1295.57 1511.93 1298.62 1516.54 Q1301.7 1521.12 1301.7 1529.87 Q1301.7 1538.6 1298.62 1543.21 Q1295.57 1547.79 1289.76 1547.79 Q1283.95 1547.79 1280.87 1543.21 Q1277.81 1538.6 1277.81 1529.87 Q1277.81 1521.12 1280.87 1516.54 Q1283.95 1511.93 1289.76 1511.93 Z\" fill=\"#000000\" fill-rule=\"evenodd\" fill-opacity=\"1\" /><path clip-path=\"url(#clip730)\" d=\"M 0 0 M1743.49 1515.64 Q1739.88 1515.64 1738.05 1519.2 Q1736.25 1522.75 1736.25 1529.87 Q1736.25 1536.98 1738.05 1540.55 Q1739.88 1544.09 1743.49 1544.09 Q1747.13 1544.09 1748.93 1540.55 Q1750.76 1536.98 1750.76 1529.87 Q1750.76 1522.75 1748.93 1519.2 Q1747.13 1515.64 1743.49 1515.64 M1743.49 1511.93 Q1749.3 1511.93 1752.36 1516.54 Q1755.44 1521.12 1755.44 1529.87 Q1755.44 1538.6 1752.36 1543.21 Q1749.3 1547.79 1743.49 1547.79 Q1737.68 1547.79 1734.6 1543.21 Q1731.55 1538.6 1731.55 1529.87 Q1731.55 1521.12 1734.6 1516.54 Q1737.68 1511.93 1743.49 1511.93 Z\" fill=\"#000000\" fill-rule=\"evenodd\" fill-opacity=\"1\" /><path clip-path=\"url(#clip730)\" d=\"M 0 0 M1760.51 1541.24 L1765.39 1541.24 L1765.39 1547.12 L1760.51 1547.12 L1760.51 1541.24 Z\" fill=\"#000000\" fill-rule=\"evenodd\" fill-opacity=\"1\" /><path clip-path=\"url(#clip730)\" d=\"M 0 0 M1769.28 1512.56 L1791.5 1512.56 L1791.5 1514.55 L1778.96 1547.12 L1774.07 1547.12 L1785.88 1516.5 L1769.28 1516.5 L1769.28 1512.56 Z\" fill=\"#000000\" fill-rule=\"evenodd\" fill-opacity=\"1\" /><path clip-path=\"url(#clip730)\" d=\"M 0 0 M1796.62 1512.56 L1814.97 1512.56 L1814.97 1516.5 L1800.9 1516.5 L1800.9 1524.97 Q1801.92 1524.62 1802.94 1524.46 Q1803.96 1524.27 1804.97 1524.27 Q1810.76 1524.27 1814.14 1527.44 Q1817.52 1530.62 1817.52 1536.03 Q1817.52 1541.61 1814.05 1544.71 Q1810.58 1547.79 1804.26 1547.79 Q1802.08 1547.79 1799.81 1547.42 Q1797.57 1547.05 1795.16 1546.31 L1795.16 1541.61 Q1797.24 1542.74 1799.46 1543.3 Q1801.69 1543.86 1804.16 1543.86 Q1808.17 1543.86 1810.51 1541.75 Q1812.84 1539.64 1812.84 1536.03 Q1812.84 1532.42 1810.51 1530.31 Q1808.17 1528.21 1804.16 1528.21 Q1802.29 1528.21 1800.41 1528.62 Q1798.56 1529.04 1796.62 1529.92 L1796.62 1512.56 Z\" fill=\"#000000\" fill-rule=\"evenodd\" fill-opacity=\"1\" /><path clip-path=\"url(#clip730)\" d=\"M 0 0 M2249.2 1543.18 L2256.83 1543.18 L2256.83 1516.82 L2248.52 1518.49 L2248.52 1514.23 L2256.79 1512.56 L2261.46 1512.56 L2261.46 1543.18 L2269.1 1543.18 L2269.1 1547.12 L2249.2 1547.12 L2249.2 1543.18 Z\" fill=\"#000000\" fill-rule=\"evenodd\" fill-opacity=\"1\" /><path clip-path=\"url(#clip730)\" d=\"M 0 0 M2274.17 1541.24 L2279.06 1541.24 L2279.06 1547.12 L2274.17 1547.12 L2274.17 1541.24 Z\" fill=\"#000000\" fill-rule=\"evenodd\" fill-opacity=\"1\" /><path clip-path=\"url(#clip730)\" d=\"M 0 0 M2294.13 1515.64 Q2290.51 1515.64 2288.69 1519.2 Q2286.88 1522.75 2286.88 1529.87 Q2286.88 1536.98 2288.69 1540.55 Q2290.51 1544.09 2294.13 1544.09 Q2297.76 1544.09 2299.57 1540.55 Q2301.39 1536.98 2301.39 1529.87 Q2301.39 1522.75 2299.57 1519.2 Q2297.76 1515.64 2294.13 1515.64 M2294.13 1511.93 Q2299.94 1511.93 2302.99 1516.54 Q2306.07 1521.12 2306.07 1529.87 Q2306.07 1538.6 2302.99 1543.21 Q2299.94 1547.79 2294.13 1547.79 Q2288.32 1547.79 2285.24 1543.21 Q2282.18 1538.6 2282.18 1529.87 Q2282.18 1521.12 2285.24 1516.54 Q2288.32 1511.93 2294.13 1511.93 Z\" fill=\"#000000\" fill-rule=\"evenodd\" fill-opacity=\"1\" /><path clip-path=\"url(#clip730)\" d=\"M 0 0 M2321.14 1515.64 Q2317.53 1515.64 2315.7 1519.2 Q2313.89 1522.75 2313.89 1529.87 Q2313.89 1536.98 2315.7 1540.55 Q2317.53 1544.09 2321.14 1544.09 Q2324.77 1544.09 2326.58 1540.55 Q2328.41 1536.98 2328.41 1529.87 Q2328.41 1522.75 2326.58 1519.2 Q2324.77 1515.64 2321.14 1515.64 M2321.14 1511.93 Q2326.95 1511.93 2330 1516.54 Q2333.08 1521.12 2333.08 1529.87 Q2333.08 1538.6 2330 1543.21 Q2326.95 1547.79 2321.14 1547.79 Q2315.33 1547.79 2312.25 1543.21 Q2309.19 1538.6 2309.19 1529.87 Q2309.19 1521.12 2312.25 1516.54 Q2315.33 1511.93 2321.14 1511.93 Z\" fill=\"#000000\" fill-rule=\"evenodd\" fill-opacity=\"1\" /><polyline clip-path=\"url(#clip732)\" style=\"stroke:#000000; stroke-width:2; stroke-opacity:0.1; fill:none\" points=\"\n",
       "  163.774,1445.72 2352.76,1445.72 \n",
       "  \"/>\n",
       "<polyline clip-path=\"url(#clip732)\" style=\"stroke:#000000; stroke-width:2; stroke-opacity:0.1; fill:none\" points=\"\n",
       "  163.774,1021.42 2352.76,1021.42 \n",
       "  \"/>\n",
       "<polyline clip-path=\"url(#clip732)\" style=\"stroke:#000000; stroke-width:2; stroke-opacity:0.1; fill:none\" points=\"\n",
       "  163.774,597.129 2352.76,597.129 \n",
       "  \"/>\n",
       "<polyline clip-path=\"url(#clip732)\" style=\"stroke:#000000; stroke-width:2; stroke-opacity:0.1; fill:none\" points=\"\n",
       "  163.774,172.835 2352.76,172.835 \n",
       "  \"/>\n",
       "<polyline clip-path=\"url(#clip730)\" style=\"stroke:#000000; stroke-width:4; stroke-opacity:1; fill:none\" points=\"\n",
       "  163.774,1486.45 163.774,47.2441 \n",
       "  \"/>\n",
       "<polyline clip-path=\"url(#clip730)\" style=\"stroke:#000000; stroke-width:4; stroke-opacity:1; fill:none\" points=\"\n",
       "  163.774,1445.72 190.042,1445.72 \n",
       "  \"/>\n",
       "<polyline clip-path=\"url(#clip730)\" style=\"stroke:#000000; stroke-width:4; stroke-opacity:1; fill:none\" points=\"\n",
       "  163.774,1021.42 190.042,1021.42 \n",
       "  \"/>\n",
       "<polyline clip-path=\"url(#clip730)\" style=\"stroke:#000000; stroke-width:4; stroke-opacity:1; fill:none\" points=\"\n",
       "  163.774,597.129 190.042,597.129 \n",
       "  \"/>\n",
       "<polyline clip-path=\"url(#clip730)\" style=\"stroke:#000000; stroke-width:4; stroke-opacity:1; fill:none\" points=\"\n",
       "  163.774,172.835 190.042,172.835 \n",
       "  \"/>\n",
       "<path clip-path=\"url(#clip730)\" d=\"M 0 0 M115.83 1431.51 Q112.219 1431.51 110.39 1435.08 Q108.584 1438.62 108.584 1445.75 Q108.584 1452.86 110.39 1456.42 Q112.219 1459.96 115.83 1459.96 Q119.464 1459.96 121.27 1456.42 Q123.098 1452.86 123.098 1445.75 Q123.098 1438.62 121.27 1435.08 Q119.464 1431.51 115.83 1431.51 M115.83 1427.81 Q121.64 1427.81 124.695 1432.42 Q127.774 1437 127.774 1445.75 Q127.774 1454.48 124.695 1459.08 Q121.64 1463.67 115.83 1463.67 Q110.02 1463.67 106.941 1459.08 Q103.885 1454.48 103.885 1445.75 Q103.885 1437 106.941 1432.42 Q110.02 1427.81 115.83 1427.81 Z\" fill=\"#000000\" fill-rule=\"evenodd\" fill-opacity=\"1\" /><path clip-path=\"url(#clip730)\" d=\"M 0 0 M53.8393 1034.77 L61.4782 1034.77 L61.4782 1008.4 L53.168 1010.07 L53.168 1005.81 L61.4319 1004.14 L66.1078 1004.14 L66.1078 1034.77 L73.7466 1034.77 L73.7466 1038.7 L53.8393 1038.7 L53.8393 1034.77 Z\" fill=\"#000000\" fill-rule=\"evenodd\" fill-opacity=\"1\" /><path clip-path=\"url(#clip730)\" d=\"M 0 0 M88.816 1007.22 Q85.2049 1007.22 83.3762 1010.79 Q81.5707 1014.33 81.5707 1021.46 Q81.5707 1028.56 83.3762 1032.13 Q85.2049 1035.67 88.816 1035.67 Q92.4502 1035.67 94.2558 1032.13 Q96.0845 1028.56 96.0845 1021.46 Q96.0845 1014.33 94.2558 1010.79 Q92.4502 1007.22 88.816 1007.22 M88.816 1003.52 Q94.6262 1003.52 97.6817 1008.12 Q100.76 1012.71 100.76 1021.46 Q100.76 1030.18 97.6817 1034.79 Q94.6262 1039.37 88.816 1039.37 Q83.0058 1039.37 79.9272 1034.79 Q76.8716 1030.18 76.8716 1021.46 Q76.8716 1012.71 79.9272 1008.12 Q83.0058 1003.52 88.816 1003.52 Z\" fill=\"#000000\" fill-rule=\"evenodd\" fill-opacity=\"1\" /><path clip-path=\"url(#clip730)\" d=\"M 0 0 M115.83 1007.22 Q112.219 1007.22 110.39 1010.79 Q108.584 1014.33 108.584 1021.46 Q108.584 1028.56 110.39 1032.13 Q112.219 1035.67 115.83 1035.67 Q119.464 1035.67 121.27 1032.13 Q123.098 1028.56 123.098 1021.46 Q123.098 1014.33 121.27 1010.79 Q119.464 1007.22 115.83 1007.22 M115.83 1003.52 Q121.64 1003.52 124.695 1008.12 Q127.774 1012.71 127.774 1021.46 Q127.774 1030.18 124.695 1034.79 Q121.64 1039.37 115.83 1039.37 Q110.02 1039.37 106.941 1034.79 Q103.885 1030.18 103.885 1021.46 Q103.885 1012.71 106.941 1008.12 Q110.02 1003.52 115.83 1003.52 Z\" fill=\"#000000\" fill-rule=\"evenodd\" fill-opacity=\"1\" /><path clip-path=\"url(#clip730)\" d=\"M 0 0 M57.4273 610.473 L73.7466 610.473 L73.7466 614.409 L51.8023 614.409 L51.8023 610.473 Q54.4643 607.719 59.0476 603.089 Q63.6541 598.436 64.8346 597.094 Q67.08 594.571 67.9596 592.835 Q68.8624 591.075 68.8624 589.386 Q68.8624 586.631 66.918 584.895 Q64.9967 583.159 61.8948 583.159 Q59.6958 583.159 57.2421 583.923 Q54.8115 584.686 52.0338 586.237 L52.0338 581.515 Q54.8578 580.381 57.3115 579.802 Q59.7652 579.224 61.8023 579.224 Q67.1726 579.224 70.367 581.909 Q73.5614 584.594 73.5614 589.085 Q73.5614 591.214 72.7513 593.136 Q71.9642 595.034 69.8578 597.626 Q69.2791 598.298 66.1772 601.515 Q63.0754 604.71 57.4273 610.473 Z\" fill=\"#000000\" fill-rule=\"evenodd\" fill-opacity=\"1\" /><path clip-path=\"url(#clip730)\" d=\"M 0 0 M88.816 582.927 Q85.2049 582.927 83.3762 586.492 Q81.5707 590.034 81.5707 597.163 Q81.5707 604.27 83.3762 607.835 Q85.2049 611.376 88.816 611.376 Q92.4502 611.376 94.2558 607.835 Q96.0845 604.27 96.0845 597.163 Q96.0845 590.034 94.2558 586.492 Q92.4502 582.927 88.816 582.927 M88.816 579.224 Q94.6262 579.224 97.6817 583.83 Q100.76 588.413 100.76 597.163 Q100.76 605.89 97.6817 610.497 Q94.6262 615.08 88.816 615.08 Q83.0058 615.08 79.9272 610.497 Q76.8716 605.89 76.8716 597.163 Q76.8716 588.413 79.9272 583.83 Q83.0058 579.224 88.816 579.224 Z\" fill=\"#000000\" fill-rule=\"evenodd\" fill-opacity=\"1\" /><path clip-path=\"url(#clip730)\" d=\"M 0 0 M115.83 582.927 Q112.219 582.927 110.39 586.492 Q108.584 590.034 108.584 597.163 Q108.584 604.27 110.39 607.835 Q112.219 611.376 115.83 611.376 Q119.464 611.376 121.27 607.835 Q123.098 604.27 123.098 597.163 Q123.098 590.034 121.27 586.492 Q119.464 582.927 115.83 582.927 M115.83 579.224 Q121.64 579.224 124.695 583.83 Q127.774 588.413 127.774 597.163 Q127.774 605.89 124.695 610.497 Q121.64 615.08 115.83 615.08 Q110.02 615.08 106.941 610.497 Q103.885 605.89 103.885 597.163 Q103.885 588.413 106.941 583.83 Q110.02 579.224 115.83 579.224 Z\" fill=\"#000000\" fill-rule=\"evenodd\" fill-opacity=\"1\" /><path clip-path=\"url(#clip730)\" d=\"M 0 0 M66.617 171.481 Q69.9735 172.198 71.8485 174.467 Q73.7466 176.735 73.7466 180.069 Q73.7466 185.184 70.2281 187.985 Q66.7096 190.786 60.2282 190.786 Q58.0523 190.786 55.7375 190.346 Q53.4458 189.93 50.9921 189.073 L50.9921 184.559 Q52.9366 185.694 55.2514 186.272 Q57.5662 186.851 60.0893 186.851 Q64.4874 186.851 66.7791 185.115 Q69.0939 183.379 69.0939 180.069 Q69.0939 177.013 66.9411 175.3 Q64.8115 173.564 60.9921 173.564 L56.9643 173.564 L56.9643 169.722 L61.1773 169.722 Q64.6263 169.722 66.455 168.356 Q68.2837 166.967 68.2837 164.374 Q68.2837 161.712 66.3856 160.3 Q64.5106 158.865 60.9921 158.865 Q59.0708 158.865 56.8717 159.282 Q54.6727 159.698 52.0338 160.578 L52.0338 156.411 Q54.6958 155.671 57.0106 155.3 Q59.3486 154.93 61.4087 154.93 Q66.7328 154.93 69.8346 157.361 Q72.9365 159.768 72.9365 163.888 Q72.9365 166.759 71.2929 168.749 Q69.6494 170.717 66.617 171.481 Z\" fill=\"#000000\" fill-rule=\"evenodd\" fill-opacity=\"1\" /><path clip-path=\"url(#clip730)\" d=\"M 0 0 M88.816 158.634 Q85.2049 158.634 83.3762 162.198 Q81.5707 165.74 81.5707 172.87 Q81.5707 179.976 83.3762 183.541 Q85.2049 187.083 88.816 187.083 Q92.4502 187.083 94.2558 183.541 Q96.0845 179.976 96.0845 172.87 Q96.0845 165.74 94.2558 162.198 Q92.4502 158.634 88.816 158.634 M88.816 154.93 Q94.6262 154.93 97.6817 159.536 Q100.76 164.12 100.76 172.87 Q100.76 181.597 97.6817 186.203 Q94.6262 190.786 88.816 190.786 Q83.0058 190.786 79.9272 186.203 Q76.8716 181.597 76.8716 172.87 Q76.8716 164.12 79.9272 159.536 Q83.0058 154.93 88.816 154.93 Z\" fill=\"#000000\" fill-rule=\"evenodd\" fill-opacity=\"1\" /><path clip-path=\"url(#clip730)\" d=\"M 0 0 M115.83 158.634 Q112.219 158.634 110.39 162.198 Q108.584 165.74 108.584 172.87 Q108.584 179.976 110.39 183.541 Q112.219 187.083 115.83 187.083 Q119.464 187.083 121.27 183.541 Q123.098 179.976 123.098 172.87 Q123.098 165.74 121.27 162.198 Q119.464 158.634 115.83 158.634 M115.83 154.93 Q121.64 154.93 124.695 159.536 Q127.774 164.12 127.774 172.87 Q127.774 181.597 124.695 186.203 Q121.64 190.786 115.83 190.786 Q110.02 190.786 106.941 186.203 Q103.885 181.597 103.885 172.87 Q103.885 164.12 106.941 159.536 Q110.02 154.93 115.83 154.93 Z\" fill=\"#000000\" fill-rule=\"evenodd\" fill-opacity=\"1\" /><polyline clip-path=\"url(#clip732)\" style=\"stroke:#ff0000; stroke-width:8; stroke-opacity:1; fill:none\" points=\"\n",
       "  225.726,1445.72 245.894,1440.18 432.368,1361.22 544.432,1305.36 639.18,1255.32 742.103,1198.7 836.989,1144.73 938.717,1085.26 1056.58,1014.52 1161.32,950.185 \n",
       "  1253.17,892.736 1353.31,829.093 1454.04,764.085 1565.42,691.141 1671.39,620.764 1781.58,546.644 1874.33,483.547 1987.57,405.687 2094.02,331.708 2264.56,211.689 \n",
       "  2290.8,193.062 \n",
       "  \"/>\n",
       "<circle clip-path=\"url(#clip732)\" cx=\"432.234\" cy=\"1352.37\" r=\"14\" fill=\"#00ffff\" fill-rule=\"evenodd\" fill-opacity=\"1\" stroke=\"#000000\" stroke-opacity=\"1\" stroke-width=\"3.2\"/>\n",
       "<circle clip-path=\"url(#clip732)\" cx=\"638.742\" cy=\"1263.27\" r=\"14\" fill=\"#00ffff\" fill-rule=\"evenodd\" fill-opacity=\"1\" stroke=\"#000000\" stroke-opacity=\"1\" stroke-width=\"3.2\"/>\n",
       "<circle clip-path=\"url(#clip732)\" cx=\"1051.76\" cy=\"1089.31\" r=\"14\" fill=\"#00ffff\" fill-rule=\"evenodd\" fill-opacity=\"1\" stroke=\"#000000\" stroke-opacity=\"1\" stroke-width=\"3.2\"/>\n",
       "<circle clip-path=\"url(#clip732)\" cx=\"1877.79\" cy=\"554.699\" r=\"14\" fill=\"#00ffff\" fill-rule=\"evenodd\" fill-opacity=\"1\" stroke=\"#000000\" stroke-opacity=\"1\" stroke-width=\"3.2\"/>\n",
       "<circle clip-path=\"url(#clip732)\" cx=\"2084.3\" cy=\"87.9763\" r=\"14\" fill=\"#00ffff\" fill-rule=\"evenodd\" fill-opacity=\"1\" stroke=\"#000000\" stroke-opacity=\"1\" stroke-width=\"3.2\"/>\n",
       "</svg>\n"
      ]
     },
     "execution_count": 103,
     "metadata": {},
     "output_type": "execute_result"
    }
   ],
   "source": [
    "# Dados quaisquer\n",
    "x = [0.1, 0.2, 0.4, 0.8, 0.9]\n",
    "y = [22, 43, 84, 210, 320]\n",
    "\n",
    "# Pega os coeficientes de acordo com a função F(x) = c0*x^c1\n",
    "A = regressão_função_potencia_x(x, y, 1)\n",
    "# Voltamos para \"o mundo normal\" ao elevar\n",
    "plot(x -> 2^A[1]*(x^A[2]), 0, 1, c=:red, lw=2)\n",
    "scatter!(x,y, leg=false, c=:cyan)"
   ]
  },
  {
   "cell_type": "code",
   "execution_count": 106,
   "metadata": {},
   "outputs": [
    {
     "name": "stdout",
     "output_type": "stream",
     "text": [
      "[14.999286479412921; 0.8189496652466944]\n"
     ]
    },
    {
     "data": {
      "image/svg+xml": [
       "<?xml version=\"1.0\" encoding=\"utf-8\"?>\n",
       "<svg xmlns=\"http://www.w3.org/2000/svg\" xmlns:xlink=\"http://www.w3.org/1999/xlink\" width=\"600\" height=\"400\" viewBox=\"0 0 2400 1600\">\n",
       "<defs>\n",
       "  <clipPath id=\"clip830\">\n",
       "    <rect x=\"0\" y=\"0\" width=\"2400\" height=\"1600\"/>\n",
       "  </clipPath>\n",
       "</defs>\n",
       "<path clip-path=\"url(#clip830)\" d=\"\n",
       "M0 1600 L2400 1600 L2400 0 L0 0  Z\n",
       "  \" fill=\"#ffffff\" fill-rule=\"evenodd\" fill-opacity=\"1\"/>\n",
       "<defs>\n",
       "  <clipPath id=\"clip831\">\n",
       "    <rect x=\"480\" y=\"0\" width=\"1681\" height=\"1600\"/>\n",
       "  </clipPath>\n",
       "</defs>\n",
       "<path clip-path=\"url(#clip830)\" d=\"\n",
       "M216.387 1486.45 L2352.76 1486.45 L2352.76 47.2441 L216.387 47.2441  Z\n",
       "  \" fill=\"#ffffff\" fill-rule=\"evenodd\" fill-opacity=\"1\"/>\n",
       "<defs>\n",
       "  <clipPath id=\"clip832\">\n",
       "    <rect x=\"216\" y=\"47\" width=\"2137\" height=\"1440\"/>\n",
       "  </clipPath>\n",
       "</defs>\n",
       "<polyline clip-path=\"url(#clip832)\" style=\"stroke:#000000; stroke-width:2; stroke-opacity:0.1; fill:none\" points=\"\n",
       "  650.784,1486.45 650.784,47.2441 \n",
       "  \"/>\n",
       "<polyline clip-path=\"url(#clip832)\" style=\"stroke:#000000; stroke-width:2; stroke-opacity:0.1; fill:none\" points=\"\n",
       "  1178.94,1486.45 1178.94,47.2441 \n",
       "  \"/>\n",
       "<polyline clip-path=\"url(#clip832)\" style=\"stroke:#000000; stroke-width:2; stroke-opacity:0.1; fill:none\" points=\"\n",
       "  1707.1,1486.45 1707.1,47.2441 \n",
       "  \"/>\n",
       "<polyline clip-path=\"url(#clip832)\" style=\"stroke:#000000; stroke-width:2; stroke-opacity:0.1; fill:none\" points=\"\n",
       "  2235.25,1486.45 2235.25,47.2441 \n",
       "  \"/>\n",
       "<polyline clip-path=\"url(#clip830)\" style=\"stroke:#000000; stroke-width:4; stroke-opacity:1; fill:none\" points=\"\n",
       "  216.387,1486.45 2352.76,1486.45 \n",
       "  \"/>\n",
       "<polyline clip-path=\"url(#clip830)\" style=\"stroke:#000000; stroke-width:4; stroke-opacity:1; fill:none\" points=\"\n",
       "  650.784,1486.45 650.784,1469.18 \n",
       "  \"/>\n",
       "<polyline clip-path=\"url(#clip830)\" style=\"stroke:#000000; stroke-width:4; stroke-opacity:1; fill:none\" points=\"\n",
       "  1178.94,1486.45 1178.94,1469.18 \n",
       "  \"/>\n",
       "<polyline clip-path=\"url(#clip830)\" style=\"stroke:#000000; stroke-width:4; stroke-opacity:1; fill:none\" points=\"\n",
       "  1707.1,1486.45 1707.1,1469.18 \n",
       "  \"/>\n",
       "<polyline clip-path=\"url(#clip830)\" style=\"stroke:#000000; stroke-width:4; stroke-opacity:1; fill:none\" points=\"\n",
       "  2235.25,1486.45 2235.25,1469.18 \n",
       "  \"/>\n",
       "<path clip-path=\"url(#clip830)\" d=\"M 0 0 M641.062 1512.56 L659.419 1512.56 L659.419 1516.5 L645.345 1516.5 L645.345 1524.97 Q646.363 1524.62 647.382 1524.46 Q648.4 1524.27 649.419 1524.27 Q655.206 1524.27 658.585 1527.44 Q661.965 1530.62 661.965 1536.03 Q661.965 1541.61 658.493 1544.71 Q655.02 1547.79 648.701 1547.79 Q646.525 1547.79 644.257 1547.42 Q642.011 1547.05 639.604 1546.31 L639.604 1541.61 Q641.687 1542.74 643.909 1543.3 Q646.132 1543.86 648.608 1543.86 Q652.613 1543.86 654.951 1541.75 Q657.289 1539.64 657.289 1536.03 Q657.289 1532.42 654.951 1530.31 Q652.613 1528.21 648.608 1528.21 Q646.733 1528.21 644.858 1528.62 Q643.007 1529.04 641.062 1529.92 L641.062 1512.56 Z\" fill=\"#000000\" fill-rule=\"evenodd\" fill-opacity=\"1\" /><path clip-path=\"url(#clip830)\" d=\"M 0 0 M1155.82 1543.18 L1163.45 1543.18 L1163.45 1516.82 L1155.14 1518.49 L1155.14 1514.23 L1163.41 1512.56 L1168.08 1512.56 L1168.08 1543.18 L1175.72 1543.18 L1175.72 1547.12 L1155.82 1547.12 L1155.82 1543.18 Z\" fill=\"#000000\" fill-rule=\"evenodd\" fill-opacity=\"1\" /><path clip-path=\"url(#clip830)\" d=\"M 0 0 M1190.79 1515.64 Q1187.18 1515.64 1185.35 1519.2 Q1183.55 1522.75 1183.55 1529.87 Q1183.55 1536.98 1185.35 1540.55 Q1187.18 1544.09 1190.79 1544.09 Q1194.43 1544.09 1196.23 1540.55 Q1198.06 1536.98 1198.06 1529.87 Q1198.06 1522.75 1196.23 1519.2 Q1194.43 1515.64 1190.79 1515.64 M1190.79 1511.93 Q1196.6 1511.93 1199.66 1516.54 Q1202.74 1521.12 1202.74 1529.87 Q1202.74 1538.6 1199.66 1543.21 Q1196.6 1547.79 1190.79 1547.79 Q1184.98 1547.79 1181.9 1543.21 Q1178.85 1538.6 1178.85 1529.87 Q1178.85 1521.12 1181.9 1516.54 Q1184.98 1511.93 1190.79 1511.93 Z\" fill=\"#000000\" fill-rule=\"evenodd\" fill-opacity=\"1\" /><path clip-path=\"url(#clip830)\" d=\"M 0 0 M1684.47 1543.18 L1692.11 1543.18 L1692.11 1516.82 L1683.8 1518.49 L1683.8 1514.23 L1692.06 1512.56 L1696.74 1512.56 L1696.74 1543.18 L1704.38 1543.18 L1704.38 1547.12 L1684.47 1547.12 L1684.47 1543.18 Z\" fill=\"#000000\" fill-rule=\"evenodd\" fill-opacity=\"1\" /><path clip-path=\"url(#clip830)\" d=\"M 0 0 M1709.49 1512.56 L1727.85 1512.56 L1727.85 1516.5 L1713.77 1516.5 L1713.77 1524.97 Q1714.79 1524.62 1715.81 1524.46 Q1716.83 1524.27 1717.85 1524.27 Q1723.64 1524.27 1727.01 1527.44 Q1730.39 1530.62 1730.39 1536.03 Q1730.39 1541.61 1726.92 1544.71 Q1723.45 1547.79 1717.13 1547.79 Q1714.95 1547.79 1712.69 1547.42 Q1710.44 1547.05 1708.03 1546.31 L1708.03 1541.61 Q1710.12 1542.74 1712.34 1543.3 Q1714.56 1543.86 1717.04 1543.86 Q1721.04 1543.86 1723.38 1541.75 Q1725.72 1539.64 1725.72 1536.03 Q1725.72 1532.42 1723.38 1530.31 Q1721.04 1528.21 1717.04 1528.21 Q1715.16 1528.21 1713.29 1528.62 Q1711.44 1529.04 1709.49 1529.92 L1709.49 1512.56 Z\" fill=\"#000000\" fill-rule=\"evenodd\" fill-opacity=\"1\" /><path clip-path=\"url(#clip830)\" d=\"M 0 0 M2216.4 1543.18 L2232.72 1543.18 L2232.72 1547.12 L2210.77 1547.12 L2210.77 1543.18 Q2213.43 1540.43 2218.02 1535.8 Q2222.62 1531.15 2223.81 1529.81 Q2226.05 1527.28 2226.93 1525.55 Q2227.83 1523.79 2227.83 1522.1 Q2227.83 1519.34 2225.89 1517.61 Q2223.97 1515.87 2220.87 1515.87 Q2218.67 1515.87 2216.21 1516.63 Q2213.78 1517.4 2211 1518.95 L2211 1514.23 Q2213.83 1513.09 2216.28 1512.51 Q2218.74 1511.93 2220.77 1511.93 Q2226.14 1511.93 2229.34 1514.62 Q2232.53 1517.31 2232.53 1521.8 Q2232.53 1523.93 2231.72 1525.85 Q2230.93 1527.74 2228.83 1530.34 Q2228.25 1531.01 2225.15 1534.23 Q2222.05 1537.42 2216.4 1543.18 Z\" fill=\"#000000\" fill-rule=\"evenodd\" fill-opacity=\"1\" /><path clip-path=\"url(#clip830)\" d=\"M 0 0 M2247.79 1515.64 Q2244.18 1515.64 2242.35 1519.2 Q2240.54 1522.75 2240.54 1529.87 Q2240.54 1536.98 2242.35 1540.55 Q2244.18 1544.09 2247.79 1544.09 Q2251.42 1544.09 2253.23 1540.55 Q2255.05 1536.98 2255.05 1529.87 Q2255.05 1522.75 2253.23 1519.2 Q2251.42 1515.64 2247.79 1515.64 M2247.79 1511.93 Q2253.6 1511.93 2256.65 1516.54 Q2259.73 1521.12 2259.73 1529.87 Q2259.73 1538.6 2256.65 1543.21 Q2253.6 1547.79 2247.79 1547.79 Q2241.98 1547.79 2238.9 1543.21 Q2235.84 1538.6 2235.84 1529.87 Q2235.84 1521.12 2238.9 1516.54 Q2241.98 1511.93 2247.79 1511.93 Z\" fill=\"#000000\" fill-rule=\"evenodd\" fill-opacity=\"1\" /><polyline clip-path=\"url(#clip832)\" style=\"stroke:#000000; stroke-width:2; stroke-opacity:0.1; fill:none\" points=\"\n",
       "  216.387,1281.1 2352.76,1281.1 \n",
       "  \"/>\n",
       "<polyline clip-path=\"url(#clip832)\" style=\"stroke:#000000; stroke-width:2; stroke-opacity:0.1; fill:none\" points=\"\n",
       "  216.387,983.679 2352.76,983.679 \n",
       "  \"/>\n",
       "<polyline clip-path=\"url(#clip832)\" style=\"stroke:#000000; stroke-width:2; stroke-opacity:0.1; fill:none\" points=\"\n",
       "  216.387,686.261 2352.76,686.261 \n",
       "  \"/>\n",
       "<polyline clip-path=\"url(#clip832)\" style=\"stroke:#000000; stroke-width:2; stroke-opacity:0.1; fill:none\" points=\"\n",
       "  216.387,388.842 2352.76,388.842 \n",
       "  \"/>\n",
       "<polyline clip-path=\"url(#clip832)\" style=\"stroke:#000000; stroke-width:2; stroke-opacity:0.1; fill:none\" points=\"\n",
       "  216.387,91.4234 2352.76,91.4234 \n",
       "  \"/>\n",
       "<polyline clip-path=\"url(#clip830)\" style=\"stroke:#000000; stroke-width:4; stroke-opacity:1; fill:none\" points=\"\n",
       "  216.387,1486.45 216.387,47.2441 \n",
       "  \"/>\n",
       "<polyline clip-path=\"url(#clip830)\" style=\"stroke:#000000; stroke-width:4; stroke-opacity:1; fill:none\" points=\"\n",
       "  216.387,1281.1 242.023,1281.1 \n",
       "  \"/>\n",
       "<polyline clip-path=\"url(#clip830)\" style=\"stroke:#000000; stroke-width:4; stroke-opacity:1; fill:none\" points=\"\n",
       "  216.387,983.679 242.023,983.679 \n",
       "  \"/>\n",
       "<polyline clip-path=\"url(#clip830)\" style=\"stroke:#000000; stroke-width:4; stroke-opacity:1; fill:none\" points=\"\n",
       "  216.387,686.261 242.023,686.261 \n",
       "  \"/>\n",
       "<polyline clip-path=\"url(#clip830)\" style=\"stroke:#000000; stroke-width:4; stroke-opacity:1; fill:none\" points=\"\n",
       "  216.387,388.842 242.023,388.842 \n",
       "  \"/>\n",
       "<polyline clip-path=\"url(#clip830)\" style=\"stroke:#000000; stroke-width:4; stroke-opacity:1; fill:none\" points=\"\n",
       "  216.387,91.4234 242.023,91.4234 \n",
       "  \"/>\n",
       "<path clip-path=\"url(#clip830)\" d=\"M 0 0 M56.2699 1300.89 L63.9087 1300.89 L63.9087 1274.52 L55.5986 1276.19 L55.5986 1271.93 L63.8624 1270.27 L68.5383 1270.27 L68.5383 1300.89 L76.1772 1300.89 L76.1772 1304.83 L56.2699 1304.83 L56.2699 1300.89 Z\" fill=\"#000000\" fill-rule=\"evenodd\" fill-opacity=\"1\" /><path clip-path=\"url(#clip830)\" d=\"M 0 0 M109.418 1279.36 L98.8391 1289.99 L109.418 1300.57 L106.663 1303.37 L96.0382 1292.74 L85.4132 1303.37 L82.6818 1300.57 L93.2373 1289.99 L82.6818 1279.36 L85.4132 1276.56 L96.0382 1287.19 L106.663 1276.56 L109.418 1279.36 Z\" fill=\"#000000\" fill-rule=\"evenodd\" fill-opacity=\"1\" /><path clip-path=\"url(#clip830)\" d=\"M 0 0 M115.297 1300.89 L122.936 1300.89 L122.936 1274.52 L114.626 1276.19 L114.626 1271.93 L122.89 1270.27 L127.566 1270.27 L127.566 1300.89 L135.205 1300.89 L135.205 1304.83 L115.297 1304.83 L115.297 1300.89 Z\" fill=\"#000000\" fill-rule=\"evenodd\" fill-opacity=\"1\" /><path clip-path=\"url(#clip830)\" d=\"M 0 0 M150.274 1273.34 Q146.663 1273.34 144.834 1276.91 Q143.029 1280.45 143.029 1287.58 Q143.029 1294.69 144.834 1298.25 Q146.663 1301.79 150.274 1301.79 Q153.908 1301.79 155.714 1298.25 Q157.542 1294.69 157.542 1287.58 Q157.542 1280.45 155.714 1276.91 Q153.908 1273.34 150.274 1273.34 M150.274 1269.64 Q156.084 1269.64 159.14 1274.25 Q162.218 1278.83 162.218 1287.58 Q162.218 1296.31 159.14 1300.91 Q156.084 1305.5 150.274 1305.5 Q144.464 1305.5 141.385 1300.91 Q138.33 1296.31 138.33 1287.58 Q138.33 1278.83 141.385 1274.25 Q144.464 1269.64 150.274 1269.64 Z\" fill=\"#000000\" fill-rule=\"evenodd\" fill-opacity=\"1\" /><path clip-path=\"url(#clip830)\" d=\"M 0 0 M163.403 1249.33 L178.318 1249.33 L178.318 1252.53 L166.883 1252.53 L166.883 1259.42 Q167.71 1259.13 168.538 1259 Q169.365 1258.85 170.193 1258.85 Q174.895 1258.85 177.641 1261.43 Q180.387 1264 180.387 1268.41 Q180.387 1272.94 177.566 1275.46 Q174.744 1277.96 169.61 1277.96 Q167.842 1277.96 165.999 1277.66 Q164.174 1277.36 162.218 1276.76 L162.218 1272.94 Q163.911 1273.86 165.717 1274.31 Q167.522 1274.76 169.535 1274.76 Q172.788 1274.76 174.688 1273.05 Q176.588 1271.34 176.588 1268.41 Q176.588 1265.47 174.688 1263.76 Q172.788 1262.05 169.535 1262.05 Q168.011 1262.05 166.488 1262.39 Q164.983 1262.73 163.403 1263.44 L163.403 1249.33 Z\" fill=\"#000000\" fill-rule=\"evenodd\" fill-opacity=\"1\" /><path clip-path=\"url(#clip830)\" d=\"M 0 0 M59.8578 1003.47 L76.1772 1003.47 L76.1772 1007.41 L54.2328 1007.41 L54.2328 1003.47 Q56.8949 1000.72 61.4782 996.087 Q66.0846 991.435 67.2652 990.092 Q69.5105 987.569 70.3902 985.833 Q71.2929 984.073 71.2929 982.384 Q71.2929 979.629 69.3485 977.893 Q67.4272 976.157 64.3254 976.157 Q62.1263 976.157 59.6726 976.921 Q57.2421 977.685 54.4643 979.236 L54.4643 974.513 Q57.2884 973.379 59.7421 972.8 Q62.1958 972.222 64.2328 972.222 Q69.6031 972.222 72.7976 974.907 Q75.992 977.592 75.992 982.083 Q75.992 984.212 75.1818 986.134 Q74.3948 988.032 72.2883 990.624 Q71.7096 991.296 68.6078 994.513 Q65.5059 997.708 59.8578 1003.47 Z\" fill=\"#000000\" fill-rule=\"evenodd\" fill-opacity=\"1\" /><path clip-path=\"url(#clip830)\" d=\"M 0 0 M109.418 981.944 L98.8391 992.569 L109.418 1003.15 L106.663 1005.95 L96.0382 995.323 L85.4132 1005.95 L82.6818 1003.15 L93.2373 992.569 L82.6818 981.944 L85.4132 979.143 L96.0382 989.768 L106.663 979.143 L109.418 981.944 Z\" fill=\"#000000\" fill-rule=\"evenodd\" fill-opacity=\"1\" /><path clip-path=\"url(#clip830)\" d=\"M 0 0 M115.297 1003.47 L122.936 1003.47 L122.936 977.106 L114.626 978.773 L114.626 974.513 L122.89 972.847 L127.566 972.847 L127.566 1003.47 L135.205 1003.47 L135.205 1007.41 L115.297 1007.41 L115.297 1003.47 Z\" fill=\"#000000\" fill-rule=\"evenodd\" fill-opacity=\"1\" /><path clip-path=\"url(#clip830)\" d=\"M 0 0 M150.274 975.925 Q146.663 975.925 144.834 979.49 Q143.029 983.032 143.029 990.161 Q143.029 997.268 144.834 1000.83 Q146.663 1004.37 150.274 1004.37 Q153.908 1004.37 155.714 1000.83 Q157.542 997.268 157.542 990.161 Q157.542 983.032 155.714 979.49 Q153.908 975.925 150.274 975.925 M150.274 972.222 Q156.084 972.222 159.14 976.828 Q162.218 981.411 162.218 990.161 Q162.218 998.888 159.14 1003.49 Q156.084 1008.08 150.274 1008.08 Q144.464 1008.08 141.385 1003.49 Q138.33 998.888 138.33 990.161 Q138.33 981.411 141.385 976.828 Q144.464 972.222 150.274 972.222 Z\" fill=\"#000000\" fill-rule=\"evenodd\" fill-opacity=\"1\" /><path clip-path=\"url(#clip830)\" d=\"M 0 0 M163.403 951.916 L178.318 951.916 L178.318 955.114 L166.883 955.114 L166.883 961.997 Q167.71 961.715 168.538 961.583 Q169.365 961.433 170.193 961.433 Q174.895 961.433 177.641 964.01 Q180.387 966.586 180.387 970.987 Q180.387 975.52 177.566 978.04 Q174.744 980.542 169.61 980.542 Q167.842 980.542 165.999 980.241 Q164.174 979.94 162.218 979.338 L162.218 975.52 Q163.911 976.442 165.717 976.893 Q167.522 977.344 169.535 977.344 Q172.788 977.344 174.688 975.633 Q176.588 973.921 176.588 970.987 Q176.588 968.053 174.688 966.342 Q172.788 964.63 169.535 964.63 Q168.011 964.63 166.488 964.969 Q164.983 965.307 163.403 966.022 L163.403 951.916 Z\" fill=\"#000000\" fill-rule=\"evenodd\" fill-opacity=\"1\" /><path clip-path=\"url(#clip830)\" d=\"M 0 0 M69.0476 691.354 Q72.404 692.072 74.279 694.34 Q76.1772 696.609 76.1772 699.942 Q76.1772 705.058 72.6587 707.859 Q69.1402 710.659 62.6587 710.659 Q60.4828 710.659 58.168 710.22 Q55.8764 709.803 53.4227 708.946 L53.4227 704.433 Q55.3671 705.567 57.6819 706.146 Q59.9967 706.724 62.5198 706.724 Q66.918 706.724 69.2096 704.988 Q71.5244 703.252 71.5244 699.942 Q71.5244 696.886 69.3717 695.173 Q67.242 693.437 63.4226 693.437 L59.3949 693.437 L59.3949 689.595 L63.6078 689.595 Q67.0569 689.595 68.8855 688.229 Q70.7142 686.84 70.7142 684.248 Q70.7142 681.585 68.8161 680.173 Q66.9411 678.738 63.4226 678.738 Q61.5013 678.738 59.3023 679.155 Q57.1032 679.572 54.4643 680.451 L54.4643 676.285 Q57.1264 675.544 59.4412 675.173 Q61.7791 674.803 63.8393 674.803 Q69.1633 674.803 72.2652 677.234 Q75.367 679.641 75.367 683.761 Q75.367 686.632 73.7235 688.622 Q72.08 690.59 69.0476 691.354 Z\" fill=\"#000000\" fill-rule=\"evenodd\" fill-opacity=\"1\" /><path clip-path=\"url(#clip830)\" d=\"M 0 0 M109.418 684.525 L98.8391 695.15 L109.418 705.729 L106.663 708.53 L96.0382 697.905 L85.4132 708.53 L82.6818 705.729 L93.2373 695.15 L82.6818 684.525 L85.4132 681.724 L96.0382 692.349 L106.663 681.724 L109.418 684.525 Z\" fill=\"#000000\" fill-rule=\"evenodd\" fill-opacity=\"1\" /><path clip-path=\"url(#clip830)\" d=\"M 0 0 M115.297 706.053 L122.936 706.053 L122.936 679.687 L114.626 681.354 L114.626 677.095 L122.89 675.428 L127.566 675.428 L127.566 706.053 L135.205 706.053 L135.205 709.988 L115.297 709.988 L115.297 706.053 Z\" fill=\"#000000\" fill-rule=\"evenodd\" fill-opacity=\"1\" /><path clip-path=\"url(#clip830)\" d=\"M 0 0 M150.274 678.507 Q146.663 678.507 144.834 682.072 Q143.029 685.613 143.029 692.743 Q143.029 699.849 144.834 703.414 Q146.663 706.956 150.274 706.956 Q153.908 706.956 155.714 703.414 Q157.542 699.849 157.542 692.743 Q157.542 685.613 155.714 682.072 Q153.908 678.507 150.274 678.507 M150.274 674.803 Q156.084 674.803 159.14 679.41 Q162.218 683.993 162.218 692.743 Q162.218 701.47 159.14 706.076 Q156.084 710.659 150.274 710.659 Q144.464 710.659 141.385 706.076 Q138.33 701.47 138.33 692.743 Q138.33 683.993 141.385 679.41 Q144.464 674.803 150.274 674.803 Z\" fill=\"#000000\" fill-rule=\"evenodd\" fill-opacity=\"1\" /><path clip-path=\"url(#clip830)\" d=\"M 0 0 M163.403 654.498 L178.318 654.498 L178.318 657.695 L166.883 657.695 L166.883 664.579 Q167.71 664.297 168.538 664.165 Q169.365 664.014 170.193 664.014 Q174.895 664.014 177.641 666.591 Q180.387 669.168 180.387 673.569 Q180.387 678.101 177.566 680.622 Q174.744 683.123 169.61 683.123 Q167.842 683.123 165.999 682.822 Q164.174 682.521 162.218 681.919 L162.218 678.101 Q163.911 679.023 165.717 679.474 Q167.522 679.926 169.535 679.926 Q172.788 679.926 174.688 678.214 Q176.588 676.503 176.588 673.569 Q176.588 670.635 174.688 668.923 Q172.788 667.212 169.535 667.212 Q168.011 667.212 166.488 667.55 Q164.983 667.889 163.403 668.604 L163.403 654.498 Z\" fill=\"#000000\" fill-rule=\"evenodd\" fill-opacity=\"1\" /><path clip-path=\"url(#clip830)\" d=\"M 0 0 M66.5939 382.084 L54.7884 400.533 L66.5939 400.533 L66.5939 382.084 M65.367 378.01 L71.2466 378.01 L71.2466 400.533 L76.1772 400.533 L76.1772 404.421 L71.2466 404.421 L71.2466 412.57 L66.5939 412.57 L66.5939 404.421 L50.9921 404.421 L50.9921 399.908 L65.367 378.01 Z\" fill=\"#000000\" fill-rule=\"evenodd\" fill-opacity=\"1\" /><path clip-path=\"url(#clip830)\" d=\"M 0 0 M109.418 387.107 L98.8391 397.732 L109.418 408.31 L106.663 411.111 L96.0382 400.486 L85.4132 411.111 L82.6818 408.31 L93.2373 397.732 L82.6818 387.107 L85.4132 384.306 L96.0382 394.931 L106.663 384.306 L109.418 387.107 Z\" fill=\"#000000\" fill-rule=\"evenodd\" fill-opacity=\"1\" /><path clip-path=\"url(#clip830)\" d=\"M 0 0 M115.297 408.634 L122.936 408.634 L122.936 382.269 L114.626 383.935 L114.626 379.676 L122.89 378.01 L127.566 378.01 L127.566 408.634 L135.205 408.634 L135.205 412.57 L115.297 412.57 L115.297 408.634 Z\" fill=\"#000000\" fill-rule=\"evenodd\" fill-opacity=\"1\" /><path clip-path=\"url(#clip830)\" d=\"M 0 0 M150.274 381.088 Q146.663 381.088 144.834 384.653 Q143.029 388.195 143.029 395.324 Q143.029 402.431 144.834 405.996 Q146.663 409.537 150.274 409.537 Q153.908 409.537 155.714 405.996 Q157.542 402.431 157.542 395.324 Q157.542 388.195 155.714 384.653 Q153.908 381.088 150.274 381.088 M150.274 377.385 Q156.084 377.385 159.14 381.991 Q162.218 386.574 162.218 395.324 Q162.218 404.051 159.14 408.658 Q156.084 413.241 150.274 413.241 Q144.464 413.241 141.385 408.658 Q138.33 404.051 138.33 395.324 Q138.33 386.574 141.385 381.991 Q144.464 377.385 150.274 377.385 Z\" fill=\"#000000\" fill-rule=\"evenodd\" fill-opacity=\"1\" /><path clip-path=\"url(#clip830)\" d=\"M 0 0 M163.403 357.079 L178.318 357.079 L178.318 360.276 L166.883 360.276 L166.883 367.16 Q167.71 366.878 168.538 366.746 Q169.365 366.596 170.193 366.596 Q174.895 366.596 177.641 369.173 Q180.387 371.749 180.387 376.15 Q180.387 380.683 177.566 383.203 Q174.744 385.705 169.61 385.705 Q167.842 385.705 165.999 385.404 Q164.174 385.103 162.218 384.501 L162.218 380.683 Q163.911 381.604 165.717 382.056 Q167.522 382.507 169.535 382.507 Q172.788 382.507 174.688 380.796 Q176.588 379.084 176.588 376.15 Q176.588 373.216 174.688 371.505 Q172.788 369.793 169.535 369.793 Q168.011 369.793 166.488 370.132 Q164.983 370.47 163.403 371.185 L163.403 357.079 Z\" fill=\"#000000\" fill-rule=\"evenodd\" fill-opacity=\"1\" /><path clip-path=\"url(#clip830)\" d=\"M 0 0 M55.2745 80.591 L73.6309 80.591 L73.6309 84.5261 L59.5569 84.5261 L59.5569 92.9983 Q60.5754 92.6511 61.5939 92.489 Q62.6124 92.3039 63.6309 92.3039 Q69.418 92.3039 72.7976 95.4751 Q76.1772 98.6464 76.1772 104.063 Q76.1772 109.642 72.705 112.744 Q69.2328 115.822 62.9134 115.822 Q60.7374 115.822 58.4689 115.452 Q56.2236 115.082 53.8162 114.341 L53.8162 109.642 Q55.8995 110.776 58.1217 111.332 Q60.3439 111.887 62.8208 111.887 Q66.8254 111.887 69.1633 109.781 Q71.5013 107.674 71.5013 104.063 Q71.5013 100.452 69.1633 98.3455 Q66.8254 96.239 62.8208 96.239 Q60.9458 96.239 59.0708 96.6557 Q57.2189 97.0724 55.2745 97.952 L55.2745 80.591 Z\" fill=\"#000000\" fill-rule=\"evenodd\" fill-opacity=\"1\" /><path clip-path=\"url(#clip830)\" d=\"M 0 0 M109.418 89.6881 L98.8391 100.313 L109.418 110.892 L106.663 113.693 L96.0382 103.068 L85.4132 113.693 L82.6818 110.892 L93.2373 100.313 L82.6818 89.6881 L85.4132 86.8872 L96.0382 97.5122 L106.663 86.8872 L109.418 89.6881 Z\" fill=\"#000000\" fill-rule=\"evenodd\" fill-opacity=\"1\" /><path clip-path=\"url(#clip830)\" d=\"M 0 0 M115.297 111.216 L122.936 111.216 L122.936 84.8502 L114.626 86.5169 L114.626 82.2576 L122.89 80.591 L127.566 80.591 L127.566 111.216 L135.205 111.216 L135.205 115.151 L115.297 115.151 L115.297 111.216 Z\" fill=\"#000000\" fill-rule=\"evenodd\" fill-opacity=\"1\" /><path clip-path=\"url(#clip830)\" d=\"M 0 0 M150.274 83.6696 Q146.663 83.6696 144.834 87.2344 Q143.029 90.7761 143.029 97.9057 Q143.029 105.012 144.834 108.577 Q146.663 112.119 150.274 112.119 Q153.908 112.119 155.714 108.577 Q157.542 105.012 157.542 97.9057 Q157.542 90.7761 155.714 87.2344 Q153.908 83.6696 150.274 83.6696 M150.274 79.966 Q156.084 79.966 159.14 84.5724 Q162.218 89.1557 162.218 97.9057 Q162.218 106.632 159.14 111.239 Q156.084 115.822 150.274 115.822 Q144.464 115.822 141.385 111.239 Q138.33 106.632 138.33 97.9057 Q138.33 89.1557 141.385 84.5724 Q144.464 79.966 150.274 79.966 Z\" fill=\"#000000\" fill-rule=\"evenodd\" fill-opacity=\"1\" /><path clip-path=\"url(#clip830)\" d=\"M 0 0 M163.403 59.6606 L178.318 59.6606 L178.318 62.8579 L166.883 62.8579 L166.883 69.7415 Q167.71 69.4594 168.538 69.3278 Q169.365 69.1773 170.193 69.1773 Q174.895 69.1773 177.641 71.754 Q180.387 74.3306 180.387 78.7316 Q180.387 83.2643 177.566 85.7846 Q174.744 88.286 169.61 88.286 Q167.842 88.286 165.999 87.9851 Q164.174 87.6841 162.218 87.0823 L162.218 83.2643 Q163.911 84.1859 165.717 84.6373 Q167.522 85.0887 169.535 85.0887 Q172.788 85.0887 174.688 83.3772 Q176.588 81.6656 176.588 78.7316 Q176.588 75.7976 174.688 74.0861 Q172.788 72.3746 169.535 72.3746 Q168.011 72.3746 166.488 72.7132 Q164.983 73.0517 163.403 73.7664 L163.403 59.6606 Z\" fill=\"#000000\" fill-rule=\"evenodd\" fill-opacity=\"1\" /><circle clip-path=\"url(#clip832)\" cx=\"333.891\" cy=\"1346.13\" r=\"14\" fill=\"#009af9\" fill-rule=\"evenodd\" fill-opacity=\"1\" stroke=\"#000000\" stroke-opacity=\"1\" stroke-width=\"3.2\"/>\n",
       "<circle clip-path=\"url(#clip832)\" cx=\"439.522\" cy=\"1328.57\" r=\"14\" fill=\"#009af9\" fill-rule=\"evenodd\" fill-opacity=\"1\" stroke=\"#000000\" stroke-opacity=\"1\" stroke-width=\"3.2\"/>\n",
       "<circle clip-path=\"url(#clip832)\" cx=\"545.153\" cy=\"1304\" r=\"14\" fill=\"#009af9\" fill-rule=\"evenodd\" fill-opacity=\"1\" stroke=\"#000000\" stroke-opacity=\"1\" stroke-width=\"3.2\"/>\n",
       "<circle clip-path=\"url(#clip832)\" cx=\"650.784\" cy=\"1279.41\" r=\"14\" fill=\"#009af9\" fill-rule=\"evenodd\" fill-opacity=\"1\" stroke=\"#000000\" stroke-opacity=\"1\" stroke-width=\"3.2\"/>\n",
       "<circle clip-path=\"url(#clip832)\" cx=\"756.415\" cy=\"1189.51\" r=\"14\" fill=\"#009af9\" fill-rule=\"evenodd\" fill-opacity=\"1\" stroke=\"#000000\" stroke-opacity=\"1\" stroke-width=\"3.2\"/>\n",
       "<circle clip-path=\"url(#clip832)\" cx=\"862.047\" cy=\"1164.51\" r=\"14\" fill=\"#009af9\" fill-rule=\"evenodd\" fill-opacity=\"1\" stroke=\"#000000\" stroke-opacity=\"1\" stroke-width=\"3.2\"/>\n",
       "<circle clip-path=\"url(#clip832)\" cx=\"967.678\" cy=\"1085.04\" r=\"14\" fill=\"#009af9\" fill-rule=\"evenodd\" fill-opacity=\"1\" stroke=\"#000000\" stroke-opacity=\"1\" stroke-width=\"3.2\"/>\n",
       "<circle clip-path=\"url(#clip832)\" cx=\"1073.31\" cy=\"985.719\" r=\"14\" fill=\"#009af9\" fill-rule=\"evenodd\" fill-opacity=\"1\" stroke=\"#000000\" stroke-opacity=\"1\" stroke-width=\"3.2\"/>\n",
       "<circle clip-path=\"url(#clip832)\" cx=\"1178.94\" cy=\"919.615\" r=\"14\" fill=\"#009af9\" fill-rule=\"evenodd\" fill-opacity=\"1\" stroke=\"#000000\" stroke-opacity=\"1\" stroke-width=\"3.2\"/>\n",
       "<circle clip-path=\"url(#clip832)\" cx=\"1284.57\" cy=\"853.597\" r=\"14\" fill=\"#009af9\" fill-rule=\"evenodd\" fill-opacity=\"1\" stroke=\"#000000\" stroke-opacity=\"1\" stroke-width=\"3.2\"/>\n",
       "<circle clip-path=\"url(#clip832)\" cx=\"1390.2\" cy=\"833.15\" r=\"14\" fill=\"#009af9\" fill-rule=\"evenodd\" fill-opacity=\"1\" stroke=\"#000000\" stroke-opacity=\"1\" stroke-width=\"3.2\"/>\n",
       "<circle clip-path=\"url(#clip832)\" cx=\"1495.83\" cy=\"820.221\" r=\"14\" fill=\"#009af9\" fill-rule=\"evenodd\" fill-opacity=\"1\" stroke=\"#000000\" stroke-opacity=\"1\" stroke-width=\"3.2\"/>\n",
       "<circle clip-path=\"url(#clip832)\" cx=\"1601.46\" cy=\"786.062\" r=\"14\" fill=\"#009af9\" fill-rule=\"evenodd\" fill-opacity=\"1\" stroke=\"#000000\" stroke-opacity=\"1\" stroke-width=\"3.2\"/>\n",
       "<circle clip-path=\"url(#clip832)\" cx=\"1707.1\" cy=\"748.739\" r=\"14\" fill=\"#009af9\" fill-rule=\"evenodd\" fill-opacity=\"1\" stroke=\"#000000\" stroke-opacity=\"1\" stroke-width=\"3.2\"/>\n",
       "<circle clip-path=\"url(#clip832)\" cx=\"1812.73\" cy=\"683.539\" r=\"14\" fill=\"#009af9\" fill-rule=\"evenodd\" fill-opacity=\"1\" stroke=\"#000000\" stroke-opacity=\"1\" stroke-width=\"3.2\"/>\n",
       "<circle clip-path=\"url(#clip832)\" cx=\"1918.36\" cy=\"560.048\" r=\"14\" fill=\"#009af9\" fill-rule=\"evenodd\" fill-opacity=\"1\" stroke=\"#000000\" stroke-opacity=\"1\" stroke-width=\"3.2\"/>\n",
       "<circle clip-path=\"url(#clip832)\" cx=\"2023.99\" cy=\"525.732\" r=\"14\" fill=\"#009af9\" fill-rule=\"evenodd\" fill-opacity=\"1\" stroke=\"#000000\" stroke-opacity=\"1\" stroke-width=\"3.2\"/>\n",
       "<circle clip-path=\"url(#clip832)\" cx=\"2129.62\" cy=\"363.776\" r=\"14\" fill=\"#009af9\" fill-rule=\"evenodd\" fill-opacity=\"1\" stroke=\"#000000\" stroke-opacity=\"1\" stroke-width=\"3.2\"/>\n",
       "<circle clip-path=\"url(#clip832)\" cx=\"2235.25\" cy=\"87.9763\" r=\"14\" fill=\"#009af9\" fill-rule=\"evenodd\" fill-opacity=\"1\" stroke=\"#000000\" stroke-opacity=\"1\" stroke-width=\"3.2\"/>\n",
       "<polyline clip-path=\"url(#clip832)\" style=\"stroke:#ff0000; stroke-width:8; stroke-opacity:1; fill:none\" points=\"\n",
       "  276.85,1445.72 296.532,1431.99 478.525,1315.11 587.895,1250.47 680.366,1197.97 780.815,1142.7 873.421,1093.09 972.704,1041.12 1087.73,982.257 1189.96,931.011 \n",
       "  1279.6,886.803 1377.33,839.305 1475.64,792.197 1584.34,740.828 1687.77,692.59 1795.3,643.043 1885.83,601.781 1996.35,551.921 2100.24,505.534 2266.68,432.125 \n",
       "  2292.29,420.92 \n",
       "  \"/>\n",
       "</svg>\n"
      ]
     },
     "execution_count": 106,
     "metadata": {},
     "output_type": "execute_result"
    }
   ],
   "source": [
    "# DataSet casos de covid numa cidade\n",
    "pontos_x = [2, 3, 4, 5, 6, 7, 8, 9, 10, 11, 12, 13, 14, 15, 16, 17, 18, 19, 20]\n",
    "pontos_y = [78134, 84040, 92300, 100567, 130795, 139200, 165919, 199314, 221540, 243737, 250612, 254959, 266444, 278993,\n",
    "            300915, 342436, 353974, 408428, 501159] \n",
    "\n",
    "B = regressão_função_potencia_x(pontos_x, pontos_y, 1)\n",
    "println(B)\n",
    "# Plota \"voltando para o mundo normal\" aplicando log2\n",
    "scatter(pontos_x,pontos_y,leg=false)\n",
    "plot!(x -> 2^B[1]*(x^B[2]), c=:red, lw=2)"
   ]
  },
  {
   "cell_type": "code",
   "execution_count": 105,
   "metadata": {},
   "outputs": [
    {
     "name": "stdout",
     "output_type": "stream",
     "text": [
      "[-4.769458583795828; 2.8408850567540305]\n"
     ]
    },
    {
     "data": {
      "image/svg+xml": [
       "<?xml version=\"1.0\" encoding=\"utf-8\"?>\n",
       "<svg xmlns=\"http://www.w3.org/2000/svg\" xmlns:xlink=\"http://www.w3.org/1999/xlink\" width=\"600\" height=\"400\" viewBox=\"0 0 2400 1600\">\n",
       "<defs>\n",
       "  <clipPath id=\"clip790\">\n",
       "    <rect x=\"0\" y=\"0\" width=\"2400\" height=\"1600\"/>\n",
       "  </clipPath>\n",
       "</defs>\n",
       "<path clip-path=\"url(#clip790)\" d=\"\n",
       "M0 1600 L2400 1600 L2400 0 L0 0  Z\n",
       "  \" fill=\"#ffffff\" fill-rule=\"evenodd\" fill-opacity=\"1\"/>\n",
       "<defs>\n",
       "  <clipPath id=\"clip791\">\n",
       "    <rect x=\"480\" y=\"0\" width=\"1681\" height=\"1600\"/>\n",
       "  </clipPath>\n",
       "</defs>\n",
       "<path clip-path=\"url(#clip790)\" d=\"\n",
       "M188.612 1486.45 L2352.76 1486.45 L2352.76 47.2441 L188.612 47.2441  Z\n",
       "  \" fill=\"#ffffff\" fill-rule=\"evenodd\" fill-opacity=\"1\"/>\n",
       "<defs>\n",
       "  <clipPath id=\"clip792\">\n",
       "    <rect x=\"188\" y=\"47\" width=\"2165\" height=\"1440\"/>\n",
       "  </clipPath>\n",
       "</defs>\n",
       "<polyline clip-path=\"url(#clip792)\" style=\"stroke:#000000; stroke-width:2; stroke-opacity:0.1; fill:none\" points=\"\n",
       "  411.756,1486.45 411.756,47.2441 \n",
       "  \"/>\n",
       "<polyline clip-path=\"url(#clip792)\" style=\"stroke:#000000; stroke-width:2; stroke-opacity:0.1; fill:none\" points=\"\n",
       "  802.178,1486.45 802.178,47.2441 \n",
       "  \"/>\n",
       "<polyline clip-path=\"url(#clip792)\" style=\"stroke:#000000; stroke-width:2; stroke-opacity:0.1; fill:none\" points=\"\n",
       "  1192.6,1486.45 1192.6,47.2441 \n",
       "  \"/>\n",
       "<polyline clip-path=\"url(#clip792)\" style=\"stroke:#000000; stroke-width:2; stroke-opacity:0.1; fill:none\" points=\"\n",
       "  1583.02,1486.45 1583.02,47.2441 \n",
       "  \"/>\n",
       "<polyline clip-path=\"url(#clip792)\" style=\"stroke:#000000; stroke-width:2; stroke-opacity:0.1; fill:none\" points=\"\n",
       "  1973.44,1486.45 1973.44,47.2441 \n",
       "  \"/>\n",
       "<polyline clip-path=\"url(#clip790)\" style=\"stroke:#000000; stroke-width:4; stroke-opacity:1; fill:none\" points=\"\n",
       "  188.612,1486.45 2352.76,1486.45 \n",
       "  \"/>\n",
       "<polyline clip-path=\"url(#clip790)\" style=\"stroke:#000000; stroke-width:4; stroke-opacity:1; fill:none\" points=\"\n",
       "  411.756,1486.45 411.756,1469.18 \n",
       "  \"/>\n",
       "<polyline clip-path=\"url(#clip790)\" style=\"stroke:#000000; stroke-width:4; stroke-opacity:1; fill:none\" points=\"\n",
       "  802.178,1486.45 802.178,1469.18 \n",
       "  \"/>\n",
       "<polyline clip-path=\"url(#clip790)\" style=\"stroke:#000000; stroke-width:4; stroke-opacity:1; fill:none\" points=\"\n",
       "  1192.6,1486.45 1192.6,1469.18 \n",
       "  \"/>\n",
       "<polyline clip-path=\"url(#clip790)\" style=\"stroke:#000000; stroke-width:4; stroke-opacity:1; fill:none\" points=\"\n",
       "  1583.02,1486.45 1583.02,1469.18 \n",
       "  \"/>\n",
       "<polyline clip-path=\"url(#clip790)\" style=\"stroke:#000000; stroke-width:4; stroke-opacity:1; fill:none\" points=\"\n",
       "  1973.44,1486.45 1973.44,1469.18 \n",
       "  \"/>\n",
       "<path clip-path=\"url(#clip790)\" d=\"M 0 0 M392.659 1543.18 L408.978 1543.18 L408.978 1547.12 L387.034 1547.12 L387.034 1543.18 Q389.696 1540.43 394.279 1535.8 Q398.886 1531.15 400.066 1529.81 Q402.312 1527.28 403.191 1525.55 Q404.094 1523.79 404.094 1522.1 Q404.094 1519.34 402.15 1517.61 Q400.228 1515.87 397.127 1515.87 Q394.928 1515.87 392.474 1516.63 Q390.043 1517.4 387.266 1518.95 L387.266 1514.23 Q390.09 1513.09 392.543 1512.51 Q394.997 1511.93 397.034 1511.93 Q402.404 1511.93 405.599 1514.62 Q408.793 1517.31 408.793 1521.8 Q408.793 1523.93 407.983 1525.85 Q407.196 1527.74 405.09 1530.34 Q404.511 1531.01 401.409 1534.23 Q398.307 1537.42 392.659 1543.18 Z\" fill=\"#000000\" fill-rule=\"evenodd\" fill-opacity=\"1\" /><path clip-path=\"url(#clip790)\" d=\"M 0 0 M426.895 1516.63 L415.089 1535.08 L426.895 1535.08 L426.895 1516.63 M425.668 1512.56 L431.548 1512.56 L431.548 1535.08 L436.478 1535.08 L436.478 1538.97 L431.548 1538.97 L431.548 1547.12 L426.895 1547.12 L426.895 1538.97 L411.293 1538.97 L411.293 1534.46 L425.668 1512.56 Z\" fill=\"#000000\" fill-rule=\"evenodd\" fill-opacity=\"1\" /><path clip-path=\"url(#clip790)\" d=\"M 0 0 M783.775 1543.18 L800.095 1543.18 L800.095 1547.12 L778.15 1547.12 L778.15 1543.18 Q780.812 1540.43 785.396 1535.8 Q790.002 1531.15 791.183 1529.81 Q793.428 1527.28 794.308 1525.55 Q795.21 1523.79 795.21 1522.1 Q795.21 1519.34 793.266 1517.61 Q791.345 1515.87 788.243 1515.87 Q786.044 1515.87 783.59 1516.63 Q781.159 1517.4 778.382 1518.95 L778.382 1514.23 Q781.206 1513.09 783.659 1512.51 Q786.113 1511.93 788.15 1511.93 Q793.521 1511.93 796.715 1514.62 Q799.909 1517.31 799.909 1521.8 Q799.909 1523.93 799.099 1525.85 Q798.312 1527.74 796.206 1530.34 Q795.627 1531.01 792.525 1534.23 Q789.423 1537.42 783.775 1543.18 Z\" fill=\"#000000\" fill-rule=\"evenodd\" fill-opacity=\"1\" /><path clip-path=\"url(#clip790)\" d=\"M 0 0 M803.983 1512.56 L826.206 1512.56 L826.206 1514.55 L813.659 1547.12 L808.775 1547.12 L820.581 1516.5 L803.983 1516.5 L803.983 1512.56 Z\" fill=\"#000000\" fill-rule=\"evenodd\" fill-opacity=\"1\" /><path clip-path=\"url(#clip790)\" d=\"M 0 0 M1183.34 1528.49 Q1186.7 1529.2 1188.57 1531.47 Q1190.47 1533.74 1190.47 1537.07 Q1190.47 1542.19 1186.95 1544.99 Q1183.43 1547.79 1176.95 1547.79 Q1174.78 1547.79 1172.46 1547.35 Q1170.17 1546.93 1167.72 1546.08 L1167.72 1541.56 Q1169.66 1542.7 1171.97 1543.28 Q1174.29 1543.86 1176.81 1543.86 Q1181.21 1543.86 1183.5 1542.12 Q1185.82 1540.38 1185.82 1537.07 Q1185.82 1534.02 1183.66 1532.31 Q1181.53 1530.57 1177.72 1530.57 L1173.69 1530.57 L1173.69 1526.73 L1177.9 1526.73 Q1181.35 1526.73 1183.18 1525.36 Q1185.01 1523.97 1185.01 1521.38 Q1185.01 1518.72 1183.11 1517.31 Q1181.23 1515.87 1177.72 1515.87 Q1175.79 1515.87 1173.6 1516.29 Q1171.4 1516.7 1168.76 1517.58 L1168.76 1513.42 Q1171.42 1512.68 1173.73 1512.31 Q1176.07 1511.93 1178.13 1511.93 Q1183.46 1511.93 1186.56 1514.37 Q1189.66 1516.77 1189.66 1520.89 Q1189.66 1523.76 1188.02 1525.75 Q1186.37 1527.72 1183.34 1528.49 Z\" fill=\"#000000\" fill-rule=\"evenodd\" fill-opacity=\"1\" /><path clip-path=\"url(#clip790)\" d=\"M 0 0 M1205.54 1515.64 Q1201.93 1515.64 1200.1 1519.2 Q1198.29 1522.75 1198.29 1529.87 Q1198.29 1536.98 1200.1 1540.55 Q1201.93 1544.09 1205.54 1544.09 Q1209.17 1544.09 1210.98 1540.55 Q1212.81 1536.98 1212.81 1529.87 Q1212.81 1522.75 1210.98 1519.2 Q1209.17 1515.64 1205.54 1515.64 M1205.54 1511.93 Q1211.35 1511.93 1214.41 1516.54 Q1217.48 1521.12 1217.48 1529.87 Q1217.48 1538.6 1214.41 1543.21 Q1211.35 1547.79 1205.54 1547.79 Q1199.73 1547.79 1196.65 1543.21 Q1193.59 1538.6 1193.59 1529.87 Q1193.59 1521.12 1196.65 1516.54 Q1199.73 1511.93 1205.54 1511.93 Z\" fill=\"#000000\" fill-rule=\"evenodd\" fill-opacity=\"1\" /><path clip-path=\"url(#clip790)\" d=\"M 0 0 M1574.09 1528.49 Q1577.44 1529.2 1579.32 1531.47 Q1581.22 1533.74 1581.22 1537.07 Q1581.22 1542.19 1577.7 1544.99 Q1574.18 1547.79 1567.7 1547.79 Q1565.52 1547.79 1563.21 1547.35 Q1560.91 1546.93 1558.46 1546.08 L1558.46 1541.56 Q1560.41 1542.7 1562.72 1543.28 Q1565.04 1543.86 1567.56 1543.86 Q1571.96 1543.86 1574.25 1542.12 Q1576.56 1540.38 1576.56 1537.07 Q1576.56 1534.02 1574.41 1532.31 Q1572.28 1530.57 1568.46 1530.57 L1564.43 1530.57 L1564.43 1526.73 L1568.65 1526.73 Q1572.1 1526.73 1573.92 1525.36 Q1575.75 1523.97 1575.75 1521.38 Q1575.75 1518.72 1573.85 1517.31 Q1571.98 1515.87 1568.46 1515.87 Q1566.54 1515.87 1564.34 1516.29 Q1562.14 1516.7 1559.5 1517.58 L1559.5 1513.42 Q1562.16 1512.68 1564.48 1512.31 Q1566.82 1511.93 1568.88 1511.93 Q1574.2 1511.93 1577.3 1514.37 Q1580.41 1516.77 1580.41 1520.89 Q1580.41 1523.76 1578.76 1525.75 Q1577.12 1527.72 1574.09 1528.49 Z\" fill=\"#000000\" fill-rule=\"evenodd\" fill-opacity=\"1\" /><path clip-path=\"url(#clip790)\" d=\"M 0 0 M1600.45 1528.49 Q1603.81 1529.2 1605.68 1531.47 Q1607.58 1533.74 1607.58 1537.07 Q1607.58 1542.19 1604.06 1544.99 Q1600.54 1547.79 1594.06 1547.79 Q1591.89 1547.79 1589.57 1547.35 Q1587.28 1546.93 1584.83 1546.08 L1584.83 1541.56 Q1586.77 1542.7 1589.09 1543.28 Q1591.4 1543.86 1593.92 1543.86 Q1598.32 1543.86 1600.61 1542.12 Q1602.93 1540.38 1602.93 1537.07 Q1602.93 1534.02 1600.78 1532.31 Q1598.65 1530.57 1594.83 1530.57 L1590.8 1530.57 L1590.8 1526.73 L1595.01 1526.73 Q1598.46 1526.73 1600.29 1525.36 Q1602.12 1523.97 1602.12 1521.38 Q1602.12 1518.72 1600.22 1517.31 Q1598.35 1515.87 1594.83 1515.87 Q1592.91 1515.87 1590.71 1516.29 Q1588.51 1516.7 1585.87 1517.58 L1585.87 1513.42 Q1588.53 1512.68 1590.85 1512.31 Q1593.18 1511.93 1595.24 1511.93 Q1600.57 1511.93 1603.67 1514.37 Q1606.77 1516.77 1606.77 1520.89 Q1606.77 1523.76 1605.13 1525.75 Q1603.48 1527.72 1600.45 1528.49 Z\" fill=\"#000000\" fill-rule=\"evenodd\" fill-opacity=\"1\" /><path clip-path=\"url(#clip790)\" d=\"M 0 0 M1964.1 1528.49 Q1967.46 1529.2 1969.33 1531.47 Q1971.23 1533.74 1971.23 1537.07 Q1971.23 1542.19 1967.71 1544.99 Q1964.2 1547.79 1957.71 1547.79 Q1955.54 1547.79 1953.22 1547.35 Q1950.93 1546.93 1948.48 1546.08 L1948.48 1541.56 Q1950.42 1542.7 1952.74 1543.28 Q1955.05 1543.86 1957.58 1543.86 Q1961.97 1543.86 1964.26 1542.12 Q1966.58 1540.38 1966.58 1537.07 Q1966.58 1534.02 1964.43 1532.31 Q1962.3 1530.57 1958.48 1530.57 L1954.45 1530.57 L1954.45 1526.73 L1958.66 1526.73 Q1962.11 1526.73 1963.94 1525.36 Q1965.77 1523.97 1965.77 1521.38 Q1965.77 1518.72 1963.87 1517.31 Q1962 1515.87 1958.48 1515.87 Q1956.56 1515.87 1954.36 1516.29 Q1952.16 1516.7 1949.52 1517.58 L1949.52 1513.42 Q1952.18 1512.68 1954.5 1512.31 Q1956.83 1511.93 1958.89 1511.93 Q1964.22 1511.93 1967.32 1514.37 Q1970.42 1516.77 1970.42 1520.89 Q1970.42 1523.76 1968.78 1525.75 Q1967.14 1527.72 1964.1 1528.49 Z\" fill=\"#000000\" fill-rule=\"evenodd\" fill-opacity=\"1\" /><path clip-path=\"url(#clip790)\" d=\"M 0 0 M1986.88 1527.98 Q1983.73 1527.98 1981.88 1530.13 Q1980.05 1532.28 1980.05 1536.03 Q1980.05 1539.76 1981.88 1541.93 Q1983.73 1544.09 1986.88 1544.09 Q1990.03 1544.09 1991.86 1541.93 Q1993.71 1539.76 1993.71 1536.03 Q1993.71 1532.28 1991.86 1530.13 Q1990.03 1527.98 1986.88 1527.98 M1996.16 1513.32 L1996.16 1517.58 Q1994.4 1516.75 1992.6 1516.31 Q1990.82 1515.87 1989.06 1515.87 Q1984.43 1515.87 1981.97 1519 Q1979.54 1522.12 1979.2 1528.44 Q1980.56 1526.43 1982.62 1525.36 Q1984.68 1524.27 1987.16 1524.27 Q1992.37 1524.27 1995.38 1527.44 Q1998.41 1530.59 1998.41 1536.03 Q1998.41 1541.36 1995.26 1544.57 Q1992.11 1547.79 1986.88 1547.79 Q1980.89 1547.79 1977.71 1543.21 Q1974.54 1538.6 1974.54 1529.87 Q1974.54 1521.68 1978.43 1516.82 Q1982.32 1511.93 1988.87 1511.93 Q1990.63 1511.93 1992.41 1512.28 Q1994.22 1512.63 1996.16 1513.32 Z\" fill=\"#000000\" fill-rule=\"evenodd\" fill-opacity=\"1\" /><polyline clip-path=\"url(#clip792)\" style=\"stroke:#000000; stroke-width:2; stroke-opacity:0.1; fill:none\" points=\"\n",
       "  188.612,1213.46 2352.76,1213.46 \n",
       "  \"/>\n",
       "<polyline clip-path=\"url(#clip792)\" style=\"stroke:#000000; stroke-width:2; stroke-opacity:0.1; fill:none\" points=\"\n",
       "  188.612,919.462 2352.76,919.462 \n",
       "  \"/>\n",
       "<polyline clip-path=\"url(#clip792)\" style=\"stroke:#000000; stroke-width:2; stroke-opacity:0.1; fill:none\" points=\"\n",
       "  188.612,625.466 2352.76,625.466 \n",
       "  \"/>\n",
       "<polyline clip-path=\"url(#clip792)\" style=\"stroke:#000000; stroke-width:2; stroke-opacity:0.1; fill:none\" points=\"\n",
       "  188.612,331.469 2352.76,331.469 \n",
       "  \"/>\n",
       "<polyline clip-path=\"url(#clip790)\" style=\"stroke:#000000; stroke-width:4; stroke-opacity:1; fill:none\" points=\"\n",
       "  188.612,1486.45 188.612,47.2441 \n",
       "  \"/>\n",
       "<polyline clip-path=\"url(#clip790)\" style=\"stroke:#000000; stroke-width:4; stroke-opacity:1; fill:none\" points=\"\n",
       "  188.612,1213.46 214.582,1213.46 \n",
       "  \"/>\n",
       "<polyline clip-path=\"url(#clip790)\" style=\"stroke:#000000; stroke-width:4; stroke-opacity:1; fill:none\" points=\"\n",
       "  188.612,919.462 214.582,919.462 \n",
       "  \"/>\n",
       "<polyline clip-path=\"url(#clip790)\" style=\"stroke:#000000; stroke-width:4; stroke-opacity:1; fill:none\" points=\"\n",
       "  188.612,625.466 214.582,625.466 \n",
       "  \"/>\n",
       "<polyline clip-path=\"url(#clip790)\" style=\"stroke:#000000; stroke-width:4; stroke-opacity:1; fill:none\" points=\"\n",
       "  188.612,331.469 214.582,331.469 \n",
       "  \"/>\n",
       "<path clip-path=\"url(#clip790)\" d=\"M 0 0 M89.0012 1200.25 L77.1957 1218.7 L89.0012 1218.7 L89.0012 1200.25 M87.7743 1196.18 L93.6539 1196.18 L93.6539 1218.7 L98.5845 1218.7 L98.5845 1222.59 L93.6539 1222.59 L93.6539 1230.74 L89.0012 1230.74 L89.0012 1222.59 L73.3994 1222.59 L73.3994 1218.08 L87.7743 1196.18 Z\" fill=\"#000000\" fill-rule=\"evenodd\" fill-opacity=\"1\" /><path clip-path=\"url(#clip790)\" d=\"M 0 0 M113.654 1199.26 Q110.043 1199.26 108.214 1202.82 Q106.408 1206.36 106.408 1213.49 Q106.408 1220.6 108.214 1224.16 Q110.043 1227.71 113.654 1227.71 Q117.288 1227.71 119.094 1224.16 Q120.922 1220.6 120.922 1213.49 Q120.922 1206.36 119.094 1202.82 Q117.288 1199.26 113.654 1199.26 M113.654 1195.55 Q119.464 1195.55 122.52 1200.16 Q125.598 1204.74 125.598 1213.49 Q125.598 1222.22 122.52 1226.83 Q119.464 1231.41 113.654 1231.41 Q107.844 1231.41 104.765 1226.83 Q101.709 1222.22 101.709 1213.49 Q101.709 1204.74 104.765 1200.16 Q107.844 1195.55 113.654 1195.55 Z\" fill=\"#000000\" fill-rule=\"evenodd\" fill-opacity=\"1\" /><path clip-path=\"url(#clip790)\" d=\"M 0 0 M140.668 1199.26 Q137.056 1199.26 135.228 1202.82 Q133.422 1206.36 133.422 1213.49 Q133.422 1220.6 135.228 1224.16 Q137.056 1227.71 140.668 1227.71 Q144.302 1227.71 146.107 1224.16 Q147.936 1220.6 147.936 1213.49 Q147.936 1206.36 146.107 1202.82 Q144.302 1199.26 140.668 1199.26 M140.668 1195.55 Q146.478 1195.55 149.533 1200.16 Q152.612 1204.74 152.612 1213.49 Q152.612 1222.22 149.533 1226.83 Q146.478 1231.41 140.668 1231.41 Q134.857 1231.41 131.779 1226.83 Q128.723 1222.22 128.723 1213.49 Q128.723 1204.74 131.779 1200.16 Q134.857 1195.55 140.668 1195.55 Z\" fill=\"#000000\" fill-rule=\"evenodd\" fill-opacity=\"1\" /><path clip-path=\"url(#clip790)\" d=\"M 0 0 M87.0567 917.599 Q83.9086 917.599 82.0568 919.751 Q80.2281 921.904 80.2281 925.654 Q80.2281 929.381 82.0568 931.557 Q83.9086 933.71 87.0567 933.71 Q90.2049 933.71 92.0336 931.557 Q93.8854 929.381 93.8854 925.654 Q93.8854 921.904 92.0336 919.751 Q90.2049 917.599 87.0567 917.599 M96.3391 902.946 L96.3391 907.205 Q94.5799 906.372 92.7743 905.932 Q90.9919 905.492 89.2327 905.492 Q84.6031 905.492 82.1494 908.617 Q79.7188 911.742 79.3716 918.062 Q80.7373 916.048 82.7975 914.983 Q84.8577 913.895 87.3345 913.895 Q92.5428 913.895 95.5521 917.066 Q98.5845 920.214 98.5845 925.654 Q98.5845 930.978 95.4363 934.196 Q92.2882 937.413 87.0567 937.413 Q81.0614 937.413 77.8901 932.83 Q74.7189 928.224 74.7189 919.497 Q74.7189 911.302 78.6077 906.441 Q82.4966 901.557 89.0475 901.557 Q90.8067 901.557 92.5891 901.904 Q94.3947 902.251 96.3391 902.946 Z\" fill=\"#000000\" fill-rule=\"evenodd\" fill-opacity=\"1\" /><path clip-path=\"url(#clip790)\" d=\"M 0 0 M113.654 905.261 Q110.043 905.261 108.214 908.826 Q106.408 912.367 106.408 919.497 Q106.408 926.603 108.214 930.168 Q110.043 933.71 113.654 933.71 Q117.288 933.71 119.094 930.168 Q120.922 926.603 120.922 919.497 Q120.922 912.367 119.094 908.826 Q117.288 905.261 113.654 905.261 M113.654 901.557 Q119.464 901.557 122.52 906.163 Q125.598 910.747 125.598 919.497 Q125.598 928.224 122.52 932.83 Q119.464 937.413 113.654 937.413 Q107.844 937.413 104.765 932.83 Q101.709 928.224 101.709 919.497 Q101.709 910.747 104.765 906.163 Q107.844 901.557 113.654 901.557 Z\" fill=\"#000000\" fill-rule=\"evenodd\" fill-opacity=\"1\" /><path clip-path=\"url(#clip790)\" d=\"M 0 0 M140.668 905.261 Q137.056 905.261 135.228 908.826 Q133.422 912.367 133.422 919.497 Q133.422 926.603 135.228 930.168 Q137.056 933.71 140.668 933.71 Q144.302 933.71 146.107 930.168 Q147.936 926.603 147.936 919.497 Q147.936 912.367 146.107 908.826 Q144.302 905.261 140.668 905.261 M140.668 901.557 Q146.478 901.557 149.533 906.163 Q152.612 910.747 152.612 919.497 Q152.612 928.224 149.533 932.83 Q146.478 937.413 140.668 937.413 Q134.857 937.413 131.779 932.83 Q128.723 928.224 128.723 919.497 Q128.723 910.747 131.779 906.163 Q134.857 901.557 140.668 901.557 Z\" fill=\"#000000\" fill-rule=\"evenodd\" fill-opacity=\"1\" /><path clip-path=\"url(#clip790)\" d=\"M 0 0 M86.7327 626.334 Q83.3994 626.334 81.4781 628.116 Q79.5799 629.898 79.5799 633.023 Q79.5799 636.148 81.4781 637.931 Q83.3994 639.713 86.7327 639.713 Q90.066 639.713 91.9873 637.931 Q93.9086 636.125 93.9086 633.023 Q93.9086 629.898 91.9873 628.116 Q90.0891 626.334 86.7327 626.334 M82.0568 624.343 Q79.0475 623.602 77.3577 621.542 Q75.6911 619.482 75.6911 616.519 Q75.6911 612.375 78.6309 609.968 Q81.5938 607.561 86.7327 607.561 Q91.8947 607.561 94.8345 609.968 Q97.7743 612.375 97.7743 616.519 Q97.7743 619.482 96.0845 621.542 Q94.4178 623.602 91.4317 624.343 Q94.8113 625.13 96.6863 627.422 Q98.5845 629.713 98.5845 633.023 Q98.5845 638.047 95.5058 640.732 Q92.4502 643.417 86.7327 643.417 Q81.0151 643.417 77.9364 640.732 Q74.8809 638.047 74.8809 633.023 Q74.8809 629.713 76.779 627.422 Q78.6772 625.13 82.0568 624.343 M80.3438 616.959 Q80.3438 619.644 82.0105 621.148 Q83.7003 622.653 86.7327 622.653 Q89.7419 622.653 91.4317 621.148 Q93.1447 619.644 93.1447 616.959 Q93.1447 614.274 91.4317 612.769 Q89.7419 611.264 86.7327 611.264 Q83.7003 611.264 82.0105 612.769 Q80.3438 614.274 80.3438 616.959 Z\" fill=\"#000000\" fill-rule=\"evenodd\" fill-opacity=\"1\" /><path clip-path=\"url(#clip790)\" d=\"M 0 0 M113.654 611.264 Q110.043 611.264 108.214 614.829 Q106.408 618.371 106.408 625.5 Q106.408 632.607 108.214 636.172 Q110.043 639.713 113.654 639.713 Q117.288 639.713 119.094 636.172 Q120.922 632.607 120.922 625.5 Q120.922 618.371 119.094 614.829 Q117.288 611.264 113.654 611.264 M113.654 607.561 Q119.464 607.561 122.52 612.167 Q125.598 616.75 125.598 625.5 Q125.598 634.227 122.52 638.834 Q119.464 643.417 113.654 643.417 Q107.844 643.417 104.765 638.834 Q101.709 634.227 101.709 625.5 Q101.709 616.75 104.765 612.167 Q107.844 607.561 113.654 607.561 Z\" fill=\"#000000\" fill-rule=\"evenodd\" fill-opacity=\"1\" /><path clip-path=\"url(#clip790)\" d=\"M 0 0 M140.668 611.264 Q137.056 611.264 135.228 614.829 Q133.422 618.371 133.422 625.5 Q133.422 632.607 135.228 636.172 Q137.056 639.713 140.668 639.713 Q144.302 639.713 146.107 636.172 Q147.936 632.607 147.936 625.5 Q147.936 618.371 146.107 614.829 Q144.302 611.264 140.668 611.264 M140.668 607.561 Q146.478 607.561 149.533 612.167 Q152.612 616.75 152.612 625.5 Q152.612 634.227 149.533 638.834 Q146.478 643.417 140.668 643.417 Q134.857 643.417 131.779 638.834 Q128.723 634.227 128.723 625.5 Q128.723 616.75 131.779 612.167 Q134.857 607.561 140.668 607.561 Z\" fill=\"#000000\" fill-rule=\"evenodd\" fill-opacity=\"1\" /><path clip-path=\"url(#clip790)\" d=\"M 0 0 M51.6634 344.814 L59.3023 344.814 L59.3023 318.448 L50.9921 320.115 L50.9921 315.856 L59.256 314.189 L63.9319 314.189 L63.9319 344.814 L71.5707 344.814 L71.5707 348.749 L51.6634 348.749 L51.6634 344.814 Z\" fill=\"#000000\" fill-rule=\"evenodd\" fill-opacity=\"1\" /><path clip-path=\"url(#clip790)\" d=\"M 0 0 M86.6401 317.268 Q83.029 317.268 81.2003 320.833 Q79.3948 324.374 79.3948 331.504 Q79.3948 338.61 81.2003 342.175 Q83.029 345.717 86.6401 345.717 Q90.2743 345.717 92.0799 342.175 Q93.9086 338.61 93.9086 331.504 Q93.9086 324.374 92.0799 320.833 Q90.2743 317.268 86.6401 317.268 M86.6401 313.564 Q92.4502 313.564 95.5058 318.171 Q98.5845 322.754 98.5845 331.504 Q98.5845 340.231 95.5058 344.837 Q92.4502 349.42 86.6401 349.42 Q80.8299 349.42 77.7512 344.837 Q74.6957 340.231 74.6957 331.504 Q74.6957 322.754 77.7512 318.171 Q80.8299 313.564 86.6401 313.564 Z\" fill=\"#000000\" fill-rule=\"evenodd\" fill-opacity=\"1\" /><path clip-path=\"url(#clip790)\" d=\"M 0 0 M113.654 317.268 Q110.043 317.268 108.214 320.833 Q106.408 324.374 106.408 331.504 Q106.408 338.61 108.214 342.175 Q110.043 345.717 113.654 345.717 Q117.288 345.717 119.094 342.175 Q120.922 338.61 120.922 331.504 Q120.922 324.374 119.094 320.833 Q117.288 317.268 113.654 317.268 M113.654 313.564 Q119.464 313.564 122.52 318.171 Q125.598 322.754 125.598 331.504 Q125.598 340.231 122.52 344.837 Q119.464 349.42 113.654 349.42 Q107.844 349.42 104.765 344.837 Q101.709 340.231 101.709 331.504 Q101.709 322.754 104.765 318.171 Q107.844 313.564 113.654 313.564 Z\" fill=\"#000000\" fill-rule=\"evenodd\" fill-opacity=\"1\" /><path clip-path=\"url(#clip790)\" d=\"M 0 0 M140.668 317.268 Q137.056 317.268 135.228 320.833 Q133.422 324.374 133.422 331.504 Q133.422 338.61 135.228 342.175 Q137.056 345.717 140.668 345.717 Q144.302 345.717 146.107 342.175 Q147.936 338.61 147.936 331.504 Q147.936 324.374 146.107 320.833 Q144.302 317.268 140.668 317.268 M140.668 313.564 Q146.478 313.564 149.533 318.171 Q152.612 322.754 152.612 331.504 Q152.612 340.231 149.533 344.837 Q146.478 349.42 140.668 349.42 Q134.857 349.42 131.779 344.837 Q128.723 340.231 128.723 331.504 Q128.723 322.754 131.779 318.171 Q134.857 313.564 140.668 313.564 Z\" fill=\"#000000\" fill-rule=\"evenodd\" fill-opacity=\"1\" /><circle clip-path=\"url(#clip792)\" cx=\"307.644\" cy=\"1445.72\" r=\"14\" fill=\"#009af9\" fill-rule=\"evenodd\" fill-opacity=\"1\" stroke=\"#000000\" stroke-opacity=\"1\" stroke-width=\"3.2\"/>\n",
       "<circle clip-path=\"url(#clip792)\" cx=\"411.756\" cy=\"1375.16\" r=\"14\" fill=\"#009af9\" fill-rule=\"evenodd\" fill-opacity=\"1\" stroke=\"#000000\" stroke-opacity=\"1\" stroke-width=\"3.2\"/>\n",
       "<circle clip-path=\"url(#clip792)\" cx=\"398.742\" cy=\"1301.66\" r=\"14\" fill=\"#009af9\" fill-rule=\"evenodd\" fill-opacity=\"1\" stroke=\"#000000\" stroke-opacity=\"1\" stroke-width=\"3.2\"/>\n",
       "<circle clip-path=\"url(#clip792)\" cx=\"711.079\" cy=\"1267.85\" r=\"14\" fill=\"#009af9\" fill-rule=\"evenodd\" fill-opacity=\"1\" stroke=\"#000000\" stroke-opacity=\"1\" stroke-width=\"3.2\"/>\n",
       "<circle clip-path=\"url(#clip792)\" cx=\"737.108\" cy=\"1169.36\" r=\"14\" fill=\"#009af9\" fill-rule=\"evenodd\" fill-opacity=\"1\" stroke=\"#000000\" stroke-opacity=\"1\" stroke-width=\"3.2\"/>\n",
       "<circle clip-path=\"url(#clip792)\" cx=\"776.15\" cy=\"1139.96\" r=\"14\" fill=\"#009af9\" fill-rule=\"evenodd\" fill-opacity=\"1\" stroke=\"#000000\" stroke-opacity=\"1\" stroke-width=\"3.2\"/>\n",
       "<circle clip-path=\"url(#clip792)\" cx=\"776.15\" cy=\"1066.46\" r=\"14\" fill=\"#009af9\" fill-rule=\"evenodd\" fill-opacity=\"1\" stroke=\"#000000\" stroke-opacity=\"1\" stroke-width=\"3.2\"/>\n",
       "<circle clip-path=\"url(#clip792)\" cx=\"880.262\" cy=\"1228.16\" r=\"14\" fill=\"#009af9\" fill-rule=\"evenodd\" fill-opacity=\"1\" stroke=\"#000000\" stroke-opacity=\"1\" stroke-width=\"3.2\"/>\n",
       "<circle clip-path=\"url(#clip792)\" cx=\"880.262\" cy=\"1139.96\" r=\"14\" fill=\"#009af9\" fill-rule=\"evenodd\" fill-opacity=\"1\" stroke=\"#000000\" stroke-opacity=\"1\" stroke-width=\"3.2\"/>\n",
       "<circle clip-path=\"url(#clip792)\" cx=\"997.389\" cy=\"1066.46\" r=\"14\" fill=\"#009af9\" fill-rule=\"evenodd\" fill-opacity=\"1\" stroke=\"#000000\" stroke-opacity=\"1\" stroke-width=\"3.2\"/>\n",
       "<circle clip-path=\"url(#clip792)\" cx=\"984.375\" cy=\"1103.21\" r=\"14\" fill=\"#009af9\" fill-rule=\"evenodd\" fill-opacity=\"1\" stroke=\"#000000\" stroke-opacity=\"1\" stroke-width=\"3.2\"/>\n",
       "<circle clip-path=\"url(#clip792)\" cx=\"1023.42\" cy=\"1066.46\" r=\"14\" fill=\"#009af9\" fill-rule=\"evenodd\" fill-opacity=\"1\" stroke=\"#000000\" stroke-opacity=\"1\" stroke-width=\"3.2\"/>\n",
       "<circle clip-path=\"url(#clip792)\" cx=\"1075.47\" cy=\"1066.46\" r=\"14\" fill=\"#009af9\" fill-rule=\"evenodd\" fill-opacity=\"1\" stroke=\"#000000\" stroke-opacity=\"1\" stroke-width=\"3.2\"/>\n",
       "<circle clip-path=\"url(#clip792)\" cx=\"1127.53\" cy=\"1301.66\" r=\"14\" fill=\"#009af9\" fill-rule=\"evenodd\" fill-opacity=\"1\" stroke=\"#000000\" stroke-opacity=\"1\" stroke-width=\"3.2\"/>\n",
       "<circle clip-path=\"url(#clip792)\" cx=\"1114.52\" cy=\"919.462\" r=\"14\" fill=\"#009af9\" fill-rule=\"evenodd\" fill-opacity=\"1\" stroke=\"#000000\" stroke-opacity=\"1\" stroke-width=\"3.2\"/>\n",
       "<circle clip-path=\"url(#clip792)\" cx=\"1114.52\" cy=\"919.462\" r=\"14\" fill=\"#009af9\" fill-rule=\"evenodd\" fill-opacity=\"1\" stroke=\"#000000\" stroke-opacity=\"1\" stroke-width=\"3.2\"/>\n",
       "<circle clip-path=\"url(#clip792)\" cx=\"1244.66\" cy=\"772.464\" r=\"14\" fill=\"#009af9\" fill-rule=\"evenodd\" fill-opacity=\"1\" stroke=\"#000000\" stroke-opacity=\"1\" stroke-width=\"3.2\"/>\n",
       "<circle clip-path=\"url(#clip792)\" cx=\"1244.66\" cy=\"772.464\" r=\"14\" fill=\"#009af9\" fill-rule=\"evenodd\" fill-opacity=\"1\" stroke=\"#000000\" stroke-opacity=\"1\" stroke-width=\"3.2\"/>\n",
       "<circle clip-path=\"url(#clip792)\" cx=\"1309.73\" cy=\"904.762\" r=\"14\" fill=\"#009af9\" fill-rule=\"evenodd\" fill-opacity=\"1\" stroke=\"#000000\" stroke-opacity=\"1\" stroke-width=\"3.2\"/>\n",
       "<circle clip-path=\"url(#clip792)\" cx=\"1322.74\" cy=\"845.963\" r=\"14\" fill=\"#009af9\" fill-rule=\"evenodd\" fill-opacity=\"1\" stroke=\"#000000\" stroke-opacity=\"1\" stroke-width=\"3.2\"/>\n",
       "<circle clip-path=\"url(#clip792)\" cx=\"1361.78\" cy=\"956.212\" r=\"14\" fill=\"#009af9\" fill-rule=\"evenodd\" fill-opacity=\"1\" stroke=\"#000000\" stroke-opacity=\"1\" stroke-width=\"3.2\"/>\n",
       "<circle clip-path=\"url(#clip792)\" cx=\"1374.8\" cy=\"794.514\" r=\"14\" fill=\"#009af9\" fill-rule=\"evenodd\" fill-opacity=\"1\" stroke=\"#000000\" stroke-opacity=\"1\" stroke-width=\"3.2\"/>\n",
       "<circle clip-path=\"url(#clip792)\" cx=\"1387.81\" cy=\"890.062\" r=\"14\" fill=\"#009af9\" fill-rule=\"evenodd\" fill-opacity=\"1\" stroke=\"#000000\" stroke-opacity=\"1\" stroke-width=\"3.2\"/>\n",
       "<circle clip-path=\"url(#clip792)\" cx=\"1426.85\" cy=\"801.863\" r=\"14\" fill=\"#009af9\" fill-rule=\"evenodd\" fill-opacity=\"1\" stroke=\"#000000\" stroke-opacity=\"1\" stroke-width=\"3.2\"/>\n",
       "<circle clip-path=\"url(#clip792)\" cx=\"1439.87\" cy=\"772.464\" r=\"14\" fill=\"#009af9\" fill-rule=\"evenodd\" fill-opacity=\"1\" stroke=\"#000000\" stroke-opacity=\"1\" stroke-width=\"3.2\"/>\n",
       "<circle clip-path=\"url(#clip792)\" cx=\"1426.85\" cy=\"735.714\" r=\"14\" fill=\"#009af9\" fill-rule=\"evenodd\" fill-opacity=\"1\" stroke=\"#000000\" stroke-opacity=\"1\" stroke-width=\"3.2\"/>\n",
       "<circle clip-path=\"url(#clip792)\" cx=\"1452.88\" cy=\"743.064\" r=\"14\" fill=\"#009af9\" fill-rule=\"evenodd\" fill-opacity=\"1\" stroke=\"#000000\" stroke-opacity=\"1\" stroke-width=\"3.2\"/>\n",
       "<circle clip-path=\"url(#clip792)\" cx=\"1543.98\" cy=\"751.884\" r=\"14\" fill=\"#009af9\" fill-rule=\"evenodd\" fill-opacity=\"1\" stroke=\"#000000\" stroke-opacity=\"1\" stroke-width=\"3.2\"/>\n",
       "<circle clip-path=\"url(#clip792)\" cx=\"1556.99\" cy=\"551.966\" r=\"14\" fill=\"#009af9\" fill-rule=\"evenodd\" fill-opacity=\"1\" stroke=\"#000000\" stroke-opacity=\"1\" stroke-width=\"3.2\"/>\n",
       "<circle clip-path=\"url(#clip792)\" cx=\"1648.09\" cy=\"331.469\" r=\"14\" fill=\"#009af9\" fill-rule=\"evenodd\" fill-opacity=\"1\" stroke=\"#000000\" stroke-opacity=\"1\" stroke-width=\"3.2\"/>\n",
       "<circle clip-path=\"url(#clip792)\" cx=\"1843.3\" cy=\"449.068\" r=\"14\" fill=\"#009af9\" fill-rule=\"evenodd\" fill-opacity=\"1\" stroke=\"#000000\" stroke-opacity=\"1\" stroke-width=\"3.2\"/>\n",
       "<circle clip-path=\"url(#clip792)\" cx=\"1843.3\" cy=\"397.618\" r=\"14\" fill=\"#009af9\" fill-rule=\"evenodd\" fill-opacity=\"1\" stroke=\"#000000\" stroke-opacity=\"1\" stroke-width=\"3.2\"/>\n",
       "<circle clip-path=\"url(#clip792)\" cx=\"1999.47\" cy=\"441.718\" r=\"14\" fill=\"#009af9\" fill-rule=\"evenodd\" fill-opacity=\"1\" stroke=\"#000000\" stroke-opacity=\"1\" stroke-width=\"3.2\"/>\n",
       "<circle clip-path=\"url(#clip792)\" cx=\"2155.64\" cy=\"368.219\" r=\"14\" fill=\"#009af9\" fill-rule=\"evenodd\" fill-opacity=\"1\" stroke=\"#000000\" stroke-opacity=\"1\" stroke-width=\"3.2\"/>\n",
       "<circle clip-path=\"url(#clip792)\" cx=\"2233.72\" cy=\"404.968\" r=\"14\" fill=\"#009af9\" fill-rule=\"evenodd\" fill-opacity=\"1\" stroke=\"#000000\" stroke-opacity=\"1\" stroke-width=\"3.2\"/>\n",
       "<polyline clip-path=\"url(#clip792)\" style=\"stroke:#ff0000; stroke-width:8; stroke-opacity:1; fill:none\" points=\"\n",
       "  249.861,1415.16 269.8,1407.73 454.158,1334.56 564.95,1286.63 658.623,1243.7 760.379,1194.52 854.188,1146.77 954.762,1092.94 1071.29,1027.08 1174.84,965.332 \n",
       "  1265.65,908.631 1364.65,844.038 1464.24,776.08 1574.35,697.391 1679.12,618.983 1788.06,533.723 1879.76,458.943 1991.71,363.844 2096.95,270.565 2265.56,113.102 \n",
       "  2291.51,87.9763 \n",
       "  \"/>\n",
       "</svg>\n"
      ]
     },
     "execution_count": 105,
     "metadata": {},
     "output_type": "execute_result"
    }
   ],
   "source": [
    "#DataSet dos Peixes\n",
    "pontos_x = [23.2, 24, 23.9, 26.3, 26.5, 26.8, 26.8, 27.6, 27.6, 28.5, 28.4, 28.7, 29.1, 29.5, 29.4, 29.4, 30.4, 30.4, 30.9, 31, 31.3, 31.4, 31.5, 31.8, 31.9, 31.8, 32, 32.7, 32.8, 33.5, 35, 35, 36.2, 37.4, 38]\n",
    "pontos_y = [242, 290, 340, 363, 430, 450, 500, 390, 450, 500, 475, 500, 500, 340, 600, 600, 700, 700, 610, 650, 575, 685, 620, 680, 700, 725, 720, 714, 850, 1000, 920, 955, 925, 975, 950]\n",
    "D = regressão_função_potencia_x(pontos_x, pontos_y, 1)\n",
    "println(D)\n",
    "scatter(pontos_x,pontos_y,leg=false)\n",
    "plot!(x -> 2^D[1]*(x^D[2]), c=:red, lw=2)"
   ]
  },
  {
   "cell_type": "markdown",
   "metadata": {},
   "source": [
    "### Perguntar"
   ]
  },
  {
   "cell_type": "code",
   "execution_count": 68,
   "metadata": {},
   "outputs": [
    {
     "ename": "LoadError",
     "evalue": "syntax: invalid identifier name \"?\"",
     "output_type": "error",
     "traceback": [
      "syntax: invalid identifier name \"?\"",
      "",
      "Stacktrace:",
      " [1] top-level scope",
      "   @ In[68]:4",
      " [2] eval",
      "   @ .\\boot.jl:360 [inlined]",
      " [3] include_string(mapexpr::typeof(REPL.softscope), mod::Module, code::String, filename::String)",
      "   @ Base .\\loading.jl:1094"
     ]
    }
   ],
   "source": [
    "# Perguntar pra ele\n",
    "function regresso_função_outra_funçao(pontos_x,pontos_y, grau) #coeficientes não lineares\n",
    "    #dicionário (\"linearização\") é feito manualmente ou por uma tabela\n",
    "    ??????????????\n",
    "    \n",
    "    #resolver regresssão com coeficientes lineares no \"mundo barra\"\n",
    "    regressão_coeficientes_lineares(pontos_x_barra,pontos_y_barra, grau)\n",
    "    \n",
    "    #voltar para o mundo original\n",
    "    ???????????????????????\n",
    "    \n",
    "    return coeficientes\n",
    "end"
   ]
  },
  {
   "cell_type": "markdown",
   "metadata": {},
   "source": [
    "### Integração pela Regra do Retângulo"
   ]
  },
  {
   "cell_type": "code",
   "execution_count": 69,
   "metadata": {},
   "outputs": [
    {
     "data": {
      "text/plain": [
       "regra_do_retangulo (generic function with 1 method)"
      ]
     },
     "execution_count": 69,
     "metadata": {},
     "output_type": "execute_result"
    }
   ],
   "source": [
    "\"\"\" O objetivo dessa função é aproximar a integração da função no intervalo [a,b] utilizando \n",
    "o somatório de n retângulos dados pela base sendo o intervalo [x_k,x_k+1] e a altura como a \n",
    "média das funções nesses dois pontos. O retorno será a estimativa da integral.\"\"\"\n",
    "\n",
    "function regra_do_retangulo(funcao,a,b,n)\n",
    "    integral = 0.0\n",
    "    h = (b-a)/n \n",
    "    for i in 1:n\n",
    "        f = (funcao( a+h*i ) + funcao( a+h*(i-1) ))/2\n",
    "        integral = integral + f*h\n",
    "    end\n",
    "    return integral\n",
    "end"
   ]
  },
  {
   "cell_type": "code",
   "execution_count": 70,
   "metadata": {},
   "outputs": [
    {
     "data": {
      "text/plain": [
       "70.83750000000002"
      ]
     },
     "execution_count": 70,
     "metadata": {},
     "output_type": "execute_result"
    }
   ],
   "source": [
    "f(x) = 2x^2-x\n",
    "regra_do_retangulo(f,0,5,100)"
   ]
  },
  {
   "cell_type": "code",
   "execution_count": 71,
   "metadata": {},
   "outputs": [
    {
     "data": {
      "text/plain": [
       "4.047082902554811"
      ]
     },
     "execution_count": 71,
     "metadata": {},
     "output_type": "execute_result"
    }
   ],
   "source": [
    "f(x) = log(x)\n",
    "regra_do_retangulo(f,1,5,100)"
   ]
  },
  {
   "cell_type": "code",
   "execution_count": 72,
   "metadata": {},
   "outputs": [
    {
     "data": {
      "text/plain": [
       "-1.0408340855860843e-15"
      ]
     },
     "execution_count": 72,
     "metadata": {},
     "output_type": "execute_result"
    }
   ],
   "source": [
    "f(x) = sin(x)\n",
    "regra_do_retangulo(f,-10,10,100)"
   ]
  },
  {
   "cell_type": "markdown",
   "metadata": {},
   "source": [
    "### Integração pela Regra do Trapézio"
   ]
  },
  {
   "cell_type": "code",
   "execution_count": 73,
   "metadata": {},
   "outputs": [
    {
     "data": {
      "text/plain": [
       "regra_do_trapezio (generic function with 1 method)"
      ]
     },
     "execution_count": 73,
     "metadata": {},
     "output_type": "execute_result"
    }
   ],
   "source": [
    "\"\"\" O objetivo dessa função é aproximar a integração da função no intervalo [a,b] utilizando o \n",
    "somatório de n trapézios dados pelo intervalo [x_k,x_k+1] e as duas bases como as funções nesses \n",
    "dois pontos. O retorno será a estimativa da integral.\"\"\"\n",
    "\n",
    "function regra_do_trapezio(funcao,a,b,n)\n",
    "    soma = f(a)+f(b)\n",
    "    for i = 1:n-1\n",
    "        x = a + i*(b-a)/n\n",
    "        soma = soma + 2*f(x)\n",
    "    end\n",
    "    \n",
    "    return soma * (b-a) / (2*n)\n",
    "end"
   ]
  },
  {
   "cell_type": "code",
   "execution_count": 74,
   "metadata": {},
   "outputs": [
    {
     "data": {
      "text/plain": [
       "70.8375"
      ]
     },
     "execution_count": 74,
     "metadata": {},
     "output_type": "execute_result"
    }
   ],
   "source": [
    "f(x) = 2x^2-x\n",
    "regra_do_trapezio(f,0,5,100)"
   ]
  },
  {
   "cell_type": "code",
   "execution_count": 75,
   "metadata": {},
   "outputs": [
    {
     "data": {
      "text/plain": [
       "4.047082902554812"
      ]
     },
     "execution_count": 75,
     "metadata": {},
     "output_type": "execute_result"
    }
   ],
   "source": [
    "f(x) = log(x)\n",
    "regra_do_trapezio(f,1,5,100)"
   ]
  },
  {
   "cell_type": "code",
   "execution_count": 76,
   "metadata": {},
   "outputs": [
    {
     "data": {
      "text/plain": [
       "1.7763568394002506e-16"
      ]
     },
     "execution_count": 76,
     "metadata": {},
     "output_type": "execute_result"
    }
   ],
   "source": [
    "f(x) = sin(x)\n",
    "regra_do_trapezio(f,-10,10,100)"
   ]
  },
  {
   "cell_type": "markdown",
   "metadata": {},
   "source": [
    "### Integração pela Regra do Simpson"
   ]
  },
  {
   "cell_type": "code",
   "execution_count": 77,
   "metadata": {},
   "outputs": [
    {
     "data": {
      "text/plain": [
       "regra_de_simpson (generic function with 1 method)"
      ]
     },
     "execution_count": 77,
     "metadata": {},
     "output_type": "execute_result"
    }
   ],
   "source": [
    "\"\"\" O objetivo dessa função é aproximar a integração da função no intervalo [a,b] dividindo-o\n",
    "em n (sendo n necessariamente par) subintervalos e utilizando a regra de simpson em cada um deles.\n",
    "A regra de simpson em cada um desses subintervalos consiste em aproximar o valor da integral nesse\n",
    "subintervalo pegando 3 pontos (as duas extremidades do subintervalo e um médio), e logo em seguida\n",
    "aproximando a curva que os descreve usando um polinômio interpolador de grau dois.\n",
    "\n",
    "A função retorna uma aproximação para a interval definida dada pelo input\n",
    "\n",
    "ERRO: Essa aproximação tem erro inferior a f^4(x) * 1/180 * (b - a)[(b - a)/n]^4, sendo\n",
    "f^4(x) o valor máximo da quarta derivada de f(x) no intervalo [a, b]\n",
    "\n",
    "@param: - f, função f(x) que queremos integrar\n",
    "        - a, primeiro ponto do intervalo\n",
    "        - b, último ponto do intervalo\n",
    "        - n denota a metade da quantidade de subintervalos que pretendemos dividir nosso intervalo\n",
    "\n",
    "@return: - aproximação para integral de f no intervalo [a,b] dividido em 2n partes\n",
    "\"\"\"\n",
    "\n",
    "# regra de simpson composta\n",
    "function regra_de_simpson(f, a, b, n)\n",
    "    @assert(n % 2 == 0, \"você precisa escolher um n par!\")\n",
    "    \n",
    "    # h denota o tamanho do subintervalo\n",
    "    h = (b - a) / n / 2.0\n",
    "\n",
    "    # adicionamos de antemão a contribuição dos\n",
    "    # pontos nas extremidades\n",
    "    S = f(a) + f(b)\n",
    "\n",
    "    # vamos somar agora a imagem dos pontos médios\n",
    "    for i in 1 : (n << 1)-1\n",
    "        if (i & 1 == 1)\n",
    "            # termo ímpar tem peso 4\n",
    "            S += f(a + h * i) * 4\n",
    "        else \n",
    "            # termo par tem peso 2\n",
    "            S += f(a + h * i) * 2\n",
    "        end\n",
    "    end\n",
    "\n",
    "    return S / 3.0 * h\n",
    "end"
   ]
  },
  {
   "cell_type": "code",
   "execution_count": 78,
   "metadata": {},
   "outputs": [
    {
     "name": "stdout",
     "output_type": "stream",
     "text": [
      "-150.87986847952268\n"
     ]
    }
   ],
   "source": [
    "function f(x)\n",
    "    return x*x - 16*x - exp(x)\n",
    "end\n",
    "\n",
    "println(regra_de_simpson(f, 1.0, 4.0, 48))"
   ]
  },
  {
   "cell_type": "code",
   "execution_count": 79,
   "metadata": {},
   "outputs": [
    {
     "name": "stdout",
     "output_type": "stream",
     "text": [
      "0.8820813907624211\n"
     ]
    }
   ],
   "source": [
    "function f(x) \n",
    "    return exp(-x^2)\n",
    "end\n",
    "\n",
    "# nesse caso temos uma integral sem uma primitiva analítica\n",
    "println(regra_de_simpson(f, 0.0, 2.0, 2112));"
   ]
  },
  {
   "cell_type": "code",
   "execution_count": 80,
   "metadata": {},
   "outputs": [
    {
     "name": "stdout",
     "output_type": "stream",
     "text": [
      "1.0000000000000049\n"
     ]
    }
   ],
   "source": [
    "function f(x) \n",
    "    return cos(x)\n",
    "end\n",
    "\n",
    "println(regra_de_simpson(f, 0.0, acos(-1.0)/2.0, 5322))"
   ]
  },
  {
   "cell_type": "markdown",
   "metadata": {},
   "source": [
    "### Obter o Máximo de uma Função"
   ]
  },
  {
   "cell_type": "code",
   "execution_count": 81,
   "metadata": {},
   "outputs": [
    {
     "data": {
      "text/plain": [
       "maximar_uma_funcao (generic function with 4 methods)"
      ]
     },
     "execution_count": 81,
     "metadata": {},
     "output_type": "execute_result"
    }
   ],
   "source": [
    "# A estratégia é parecida com a dos pontos críticos, com exceção que checamos todos eles\n",
    "# Também checamos as laterais para saber se as laterais são os maiores valores\n",
    "# E por fim precisamos do denominador da função (caso haja) para verificar por assíntotas verticais\n",
    "function maximar_uma_funcao(funcao, derivada, segunda_derivada, esq, dir, denominador=0, qtd_iterações=1e2, erro=1e-8)\n",
    "    \n",
    "    # Inicializamos o maximo global\n",
    "    maximo_global = []\n",
    "    \n",
    "    # Se o denominador não for o padrão\n",
    "    if denominador != 0\n",
    "        \n",
    "        # Verificamos a bisseção para achar o 0\n",
    "        b = bissecao(denominador, esq, dir)\n",
    "        \n",
    "        # Se o retorno não for um erro (por não existir raízes no denominador)\n",
    "        # Retornamos o ponto da assíntota vertical\n",
    "        if typeof(b) != String && funcao(b) == Inf\n",
    "            return b\n",
    "        end\n",
    "    end\n",
    "    \n",
    "    # Começamos uma lista de intervalos para o método da bisseção e selecionaremos os propícios\n",
    "    lista_de_intervalos = Any[[esq, dir]]\n",
    "    intervalos_propicios = Any[]\n",
    "    \n",
    "    # Escolhemos uma quantidade de iterações para diminuir o intervalo\n",
    "    for j in 1:qtd_iterações\n",
    "        \n",
    "        # Se a lista de intervalos estiver vazia, não temos mais o que procurar\n",
    "        if size(lista_de_intervalos, 1) == 0\n",
    "            break\n",
    "        end\n",
    "        \n",
    "        # Pega o primeiro intervalo da lista\n",
    "        intervalo = lista_de_intervalos[1]\n",
    "        \n",
    "        # Pega os pontos desse intervalo\n",
    "        a = intervalo[1]\n",
    "        b = intervalo[2]\n",
    "        \n",
    "        # Calcula o ponto médio do intervalo\n",
    "        metade_do_intervalo = (a+b)/2.0\n",
    "        \n",
    "        # Retira o intervalo da lista\n",
    "        deleteat!(lista_de_intervalos, 1)\n",
    "\n",
    "        # Sendo x a metade do intervalo, se um dos intervalos criados [a, x] ou [x, b] satisfizer as condições\n",
    "        # Adicionamos ele a uma outra lista contendo os intervalos bons\n",
    "        # Caso contrário adicionamos eles a nossa lista de intervalos\n",
    "        if derivada(a)*derivada(metade_do_intervalo) <= 0\n",
    "            push!(intervalos_propicios, [a, metade_do_intervalo])\n",
    "        else\n",
    "            push!(lista_de_intervalos, [a, metade_do_intervalo])\n",
    "        end\n",
    "        \n",
    "        if derivada(metade_do_intervalo)*derivada(b) <= 0\n",
    "            push!(intervalos_propicios, [metade_do_intervalo, b])\n",
    "        else\n",
    "            push!(lista_de_intervalos, [metade_do_intervalo, b])\n",
    "        end\n",
    "        \n",
    "    end\n",
    "    \n",
    "    maximos_locais = []\n",
    "    \n",
    "    # Checamos todos os intervalos\n",
    "    for i in 1:size(intervalos_propicios, 1)\n",
    "        \n",
    "        # Utilizando a bissecao para achar o ponto\n",
    "        x = bissecao(derivada, intervalos_propicios[i][1], intervalos_propicios[i][2], erro)\n",
    "    \n",
    "        # Se for maximo local, colocamos na lista para verificar se é máximo global\n",
    "        if segunda_derivada(x) <= 0\n",
    "            push!(maximos_locais, x)\n",
    "        end\n",
    "    end\n",
    "    \n",
    "    # Achamos o maximo global\n",
    "    if size(maximos_locais, 1) > 0\n",
    "        \n",
    "        # Verificamos cada um dos maximos locais\n",
    "        for x in maximos_locais\n",
    "            if (size(maximo_global, 1) > 0)\n",
    "                if (maximo_global[1][2] < funcao(x))\n",
    "                    deleteat!(maximo_global, 1)\n",
    "                    push!(maximo_global, [x, funcao(x)])\n",
    "                end\n",
    "            else\n",
    "                push!(maximo_global, [x, funcao(x)])\n",
    "            end\n",
    "        end\n",
    "        \n",
    "    end\n",
    "    \n",
    "    # E verificamos as laterais\n",
    "    if (size(maximo_global, 1) > 0)\n",
    "        if maximo_global[1][2] < funcao(esq)\n",
    "            deleteat!(maximo_global, 1)\n",
    "            push!(maximo_global, [esq, funcao(esq)])\n",
    "        end\n",
    "    else\n",
    "        push!(maximo_global, [esq, funcao(esq)])\n",
    "    end\n",
    "    if maximo_global[1][2] < funcao(dir)\n",
    "        push!(maximo_global, [dir, funcao(dir)])\n",
    "    end\n",
    "        \n",
    "    return maximo_global[1][1]\n",
    "end"
   ]
  },
  {
   "cell_type": "code",
   "execution_count": 82,
   "metadata": {},
   "outputs": [
    {
     "data": {
      "text/plain": [
       "Inf"
      ]
     },
     "execution_count": 82,
     "metadata": {},
     "output_type": "execute_result"
    }
   ],
   "source": [
    "# Teste 1\n",
    "\n",
    "f(x) = 1/x\n",
    "fd(x) = -1/x^2\n",
    "fdd(x) = 2/x^3\n",
    "esq = -1\n",
    "dir = 1\n",
    "d(x) = x\n",
    "p = maximar_uma_funcao(f, fd, fdd, esq, dir, d)\n",
    "f(p)"
   ]
  },
  {
   "cell_type": "code",
   "execution_count": 83,
   "metadata": {},
   "outputs": [
    {
     "data": {
      "image/svg+xml": [
       "<?xml version=\"1.0\" encoding=\"utf-8\"?>\n",
       "<svg xmlns=\"http://www.w3.org/2000/svg\" xmlns:xlink=\"http://www.w3.org/1999/xlink\" width=\"600\" height=\"400\" viewBox=\"0 0 2400 1600\">\n",
       "<defs>\n",
       "  <clipPath id=\"clip210\">\n",
       "    <rect x=\"0\" y=\"0\" width=\"2400\" height=\"1600\"/>\n",
       "  </clipPath>\n",
       "</defs>\n",
       "<path clip-path=\"url(#clip210)\" d=\"\n",
       "M0 1600 L2400 1600 L2400 0 L0 0  Z\n",
       "  \" fill=\"#ffffff\" fill-rule=\"evenodd\" fill-opacity=\"1\"/>\n",
       "<defs>\n",
       "  <clipPath id=\"clip211\">\n",
       "    <rect x=\"480\" y=\"0\" width=\"1681\" height=\"1600\"/>\n",
       "  </clipPath>\n",
       "</defs>\n",
       "<path clip-path=\"url(#clip210)\" d=\"\n",
       "M147.848 1486.45 L2352.76 1486.45 L2352.76 47.2441 L147.848 47.2441  Z\n",
       "  \" fill=\"#ffffff\" fill-rule=\"evenodd\" fill-opacity=\"1\"/>\n",
       "<defs>\n",
       "  <clipPath id=\"clip212\">\n",
       "    <rect x=\"147\" y=\"47\" width=\"2206\" height=\"1440\"/>\n",
       "  </clipPath>\n",
       "</defs>\n",
       "<polyline clip-path=\"url(#clip212)\" style=\"stroke:#000000; stroke-width:2; stroke-opacity:0.1; fill:none\" points=\"\n",
       "  210.251,1486.45 210.251,47.2441 \n",
       "  \"/>\n",
       "<polyline clip-path=\"url(#clip212)\" style=\"stroke:#000000; stroke-width:2; stroke-opacity:0.1; fill:none\" points=\"\n",
       "  556.935,1486.45 556.935,47.2441 \n",
       "  \"/>\n",
       "<polyline clip-path=\"url(#clip212)\" style=\"stroke:#000000; stroke-width:2; stroke-opacity:0.1; fill:none\" points=\"\n",
       "  903.619,1486.45 903.619,47.2441 \n",
       "  \"/>\n",
       "<polyline clip-path=\"url(#clip212)\" style=\"stroke:#000000; stroke-width:2; stroke-opacity:0.1; fill:none\" points=\"\n",
       "  1250.3,1486.45 1250.3,47.2441 \n",
       "  \"/>\n",
       "<polyline clip-path=\"url(#clip212)\" style=\"stroke:#000000; stroke-width:2; stroke-opacity:0.1; fill:none\" points=\"\n",
       "  1596.99,1486.45 1596.99,47.2441 \n",
       "  \"/>\n",
       "<polyline clip-path=\"url(#clip212)\" style=\"stroke:#000000; stroke-width:2; stroke-opacity:0.1; fill:none\" points=\"\n",
       "  1943.67,1486.45 1943.67,47.2441 \n",
       "  \"/>\n",
       "<polyline clip-path=\"url(#clip212)\" style=\"stroke:#000000; stroke-width:2; stroke-opacity:0.1; fill:none\" points=\"\n",
       "  2290.35,1486.45 2290.35,47.2441 \n",
       "  \"/>\n",
       "<polyline clip-path=\"url(#clip210)\" style=\"stroke:#000000; stroke-width:4; stroke-opacity:1; fill:none\" points=\"\n",
       "  147.848,1486.45 2352.76,1486.45 \n",
       "  \"/>\n",
       "<polyline clip-path=\"url(#clip210)\" style=\"stroke:#000000; stroke-width:4; stroke-opacity:1; fill:none\" points=\"\n",
       "  210.251,1486.45 210.251,1469.18 \n",
       "  \"/>\n",
       "<polyline clip-path=\"url(#clip210)\" style=\"stroke:#000000; stroke-width:4; stroke-opacity:1; fill:none\" points=\"\n",
       "  556.935,1486.45 556.935,1469.18 \n",
       "  \"/>\n",
       "<polyline clip-path=\"url(#clip210)\" style=\"stroke:#000000; stroke-width:4; stroke-opacity:1; fill:none\" points=\"\n",
       "  903.619,1486.45 903.619,1469.18 \n",
       "  \"/>\n",
       "<polyline clip-path=\"url(#clip210)\" style=\"stroke:#000000; stroke-width:4; stroke-opacity:1; fill:none\" points=\"\n",
       "  1250.3,1486.45 1250.3,1469.18 \n",
       "  \"/>\n",
       "<polyline clip-path=\"url(#clip210)\" style=\"stroke:#000000; stroke-width:4; stroke-opacity:1; fill:none\" points=\"\n",
       "  1596.99,1486.45 1596.99,1469.18 \n",
       "  \"/>\n",
       "<polyline clip-path=\"url(#clip210)\" style=\"stroke:#000000; stroke-width:4; stroke-opacity:1; fill:none\" points=\"\n",
       "  1943.67,1486.45 1943.67,1469.18 \n",
       "  \"/>\n",
       "<polyline clip-path=\"url(#clip210)\" style=\"stroke:#000000; stroke-width:4; stroke-opacity:1; fill:none\" points=\"\n",
       "  2290.35,1486.45 2290.35,1469.18 \n",
       "  \"/>\n",
       "<path clip-path=\"url(#clip210)\" d=\"M 0 0 M182.52 1530.29 L212.196 1530.29 L212.196 1534.23 L182.52 1534.23 L182.52 1530.29 Z\" fill=\"#000000\" fill-rule=\"evenodd\" fill-opacity=\"1\" /><path clip-path=\"url(#clip210)\" d=\"M 0 0 M218.075 1543.18 L225.714 1543.18 L225.714 1516.82 L217.404 1518.49 L217.404 1514.23 L225.668 1512.56 L230.344 1512.56 L230.344 1543.18 L237.983 1543.18 L237.983 1547.12 L218.075 1547.12 L218.075 1543.18 Z\" fill=\"#000000\" fill-rule=\"evenodd\" fill-opacity=\"1\" /><path clip-path=\"url(#clip210)\" d=\"M 0 0 M556.935 1515.64 Q553.324 1515.64 551.495 1519.2 Q549.69 1522.75 549.69 1529.87 Q549.69 1536.98 551.495 1540.55 Q553.324 1544.09 556.935 1544.09 Q560.569 1544.09 562.375 1540.55 Q564.203 1536.98 564.203 1529.87 Q564.203 1522.75 562.375 1519.2 Q560.569 1515.64 556.935 1515.64 M556.935 1511.93 Q562.745 1511.93 565.801 1516.54 Q568.879 1521.12 568.879 1529.87 Q568.879 1538.6 565.801 1543.21 Q562.745 1547.79 556.935 1547.79 Q551.125 1547.79 548.046 1543.21 Q544.991 1538.6 544.991 1529.87 Q544.991 1521.12 548.046 1516.54 Q551.125 1511.93 556.935 1511.93 Z\" fill=\"#000000\" fill-rule=\"evenodd\" fill-opacity=\"1\" /><path clip-path=\"url(#clip210)\" d=\"M 0 0 M894.001 1543.18 L901.639 1543.18 L901.639 1516.82 L893.329 1518.49 L893.329 1514.23 L901.593 1512.56 L906.269 1512.56 L906.269 1543.18 L913.908 1543.18 L913.908 1547.12 L894.001 1547.12 L894.001 1543.18 Z\" fill=\"#000000\" fill-rule=\"evenodd\" fill-opacity=\"1\" /><path clip-path=\"url(#clip210)\" d=\"M 0 0 M1244.95 1543.18 L1261.27 1543.18 L1261.27 1547.12 L1239.33 1547.12 L1239.33 1543.18 Q1241.99 1540.43 1246.58 1535.8 Q1251.18 1531.15 1252.36 1529.81 Q1254.61 1527.28 1255.49 1525.55 Q1256.39 1523.79 1256.39 1522.1 Q1256.39 1519.34 1254.45 1517.61 Q1252.52 1515.87 1249.42 1515.87 Q1247.22 1515.87 1244.77 1516.63 Q1242.34 1517.4 1239.56 1518.95 L1239.56 1514.23 Q1242.39 1513.09 1244.84 1512.51 Q1247.29 1511.93 1249.33 1511.93 Q1254.7 1511.93 1257.89 1514.62 Q1261.09 1517.31 1261.09 1521.8 Q1261.09 1523.93 1260.28 1525.85 Q1259.49 1527.74 1257.39 1530.34 Q1256.81 1531.01 1253.7 1534.23 Q1250.6 1537.42 1244.95 1543.18 Z\" fill=\"#000000\" fill-rule=\"evenodd\" fill-opacity=\"1\" /><path clip-path=\"url(#clip210)\" d=\"M 0 0 M1601.23 1528.49 Q1604.59 1529.2 1606.46 1531.47 Q1608.36 1533.74 1608.36 1537.07 Q1608.36 1542.19 1604.84 1544.99 Q1601.33 1547.79 1594.84 1547.79 Q1592.67 1547.79 1590.35 1547.35 Q1588.06 1546.93 1585.61 1546.08 L1585.61 1541.56 Q1587.55 1542.7 1589.87 1543.28 Q1592.18 1543.86 1594.71 1543.86 Q1599.1 1543.86 1601.4 1542.12 Q1603.71 1540.38 1603.71 1537.07 Q1603.71 1534.02 1601.56 1532.31 Q1599.43 1530.57 1595.61 1530.57 L1591.58 1530.57 L1591.58 1526.73 L1595.79 1526.73 Q1599.24 1526.73 1601.07 1525.36 Q1602.9 1523.97 1602.9 1521.38 Q1602.9 1518.72 1601 1517.31 Q1599.13 1515.87 1595.61 1515.87 Q1593.69 1515.87 1591.49 1516.29 Q1589.29 1516.7 1586.65 1517.58 L1586.65 1513.42 Q1589.31 1512.68 1591.63 1512.31 Q1593.96 1511.93 1596.03 1511.93 Q1601.35 1511.93 1604.45 1514.37 Q1607.55 1516.77 1607.55 1520.89 Q1607.55 1523.76 1605.91 1525.75 Q1604.27 1527.72 1601.23 1528.49 Z\" fill=\"#000000\" fill-rule=\"evenodd\" fill-opacity=\"1\" /><path clip-path=\"url(#clip210)\" d=\"M 0 0 M1946.68 1516.63 L1934.87 1535.08 L1946.68 1535.08 L1946.68 1516.63 M1945.45 1512.56 L1951.33 1512.56 L1951.33 1535.08 L1956.26 1535.08 L1956.26 1538.97 L1951.33 1538.97 L1951.33 1547.12 L1946.68 1547.12 L1946.68 1538.97 L1931.08 1538.97 L1931.08 1534.46 L1945.45 1512.56 Z\" fill=\"#000000\" fill-rule=\"evenodd\" fill-opacity=\"1\" /><path clip-path=\"url(#clip210)\" d=\"M 0 0 M2280.63 1512.56 L2298.99 1512.56 L2298.99 1516.5 L2284.91 1516.5 L2284.91 1524.97 Q2285.93 1524.62 2286.95 1524.46 Q2287.97 1524.27 2288.99 1524.27 Q2294.77 1524.27 2298.15 1527.44 Q2301.53 1530.62 2301.53 1536.03 Q2301.53 1541.61 2298.06 1544.71 Q2294.59 1547.79 2288.27 1547.79 Q2286.09 1547.79 2283.83 1547.42 Q2281.58 1547.05 2279.17 1546.31 L2279.17 1541.61 Q2281.26 1542.74 2283.48 1543.3 Q2285.7 1543.86 2288.18 1543.86 Q2292.18 1543.86 2294.52 1541.75 Q2296.86 1539.64 2296.86 1536.03 Q2296.86 1532.42 2294.52 1530.31 Q2292.18 1528.21 2288.18 1528.21 Q2286.3 1528.21 2284.43 1528.62 Q2282.58 1529.04 2280.63 1529.92 L2280.63 1512.56 Z\" fill=\"#000000\" fill-rule=\"evenodd\" fill-opacity=\"1\" /><polyline clip-path=\"url(#clip212)\" style=\"stroke:#000000; stroke-width:2; stroke-opacity:0.1; fill:none\" points=\"\n",
       "  147.848,1445.73 2352.76,1445.73 \n",
       "  \"/>\n",
       "<polyline clip-path=\"url(#clip212)\" style=\"stroke:#000000; stroke-width:2; stroke-opacity:0.1; fill:none\" points=\"\n",
       "  147.848,1195.98 2352.76,1195.98 \n",
       "  \"/>\n",
       "<polyline clip-path=\"url(#clip212)\" style=\"stroke:#000000; stroke-width:2; stroke-opacity:0.1; fill:none\" points=\"\n",
       "  147.848,946.24 2352.76,946.24 \n",
       "  \"/>\n",
       "<polyline clip-path=\"url(#clip212)\" style=\"stroke:#000000; stroke-width:2; stroke-opacity:0.1; fill:none\" points=\"\n",
       "  147.848,696.495 2352.76,696.495 \n",
       "  \"/>\n",
       "<polyline clip-path=\"url(#clip212)\" style=\"stroke:#000000; stroke-width:2; stroke-opacity:0.1; fill:none\" points=\"\n",
       "  147.848,446.75 2352.76,446.75 \n",
       "  \"/>\n",
       "<polyline clip-path=\"url(#clip212)\" style=\"stroke:#000000; stroke-width:2; stroke-opacity:0.1; fill:none\" points=\"\n",
       "  147.848,197.006 2352.76,197.006 \n",
       "  \"/>\n",
       "<polyline clip-path=\"url(#clip210)\" style=\"stroke:#000000; stroke-width:4; stroke-opacity:1; fill:none\" points=\"\n",
       "  147.848,1486.45 147.848,47.2441 \n",
       "  \"/>\n",
       "<polyline clip-path=\"url(#clip210)\" style=\"stroke:#000000; stroke-width:4; stroke-opacity:1; fill:none\" points=\"\n",
       "  147.848,1445.73 174.307,1445.73 \n",
       "  \"/>\n",
       "<polyline clip-path=\"url(#clip210)\" style=\"stroke:#000000; stroke-width:4; stroke-opacity:1; fill:none\" points=\"\n",
       "  147.848,1195.98 174.307,1195.98 \n",
       "  \"/>\n",
       "<polyline clip-path=\"url(#clip210)\" style=\"stroke:#000000; stroke-width:4; stroke-opacity:1; fill:none\" points=\"\n",
       "  147.848,946.24 174.307,946.24 \n",
       "  \"/>\n",
       "<polyline clip-path=\"url(#clip210)\" style=\"stroke:#000000; stroke-width:4; stroke-opacity:1; fill:none\" points=\"\n",
       "  147.848,696.495 174.307,696.495 \n",
       "  \"/>\n",
       "<polyline clip-path=\"url(#clip210)\" style=\"stroke:#000000; stroke-width:4; stroke-opacity:1; fill:none\" points=\"\n",
       "  147.848,446.75 174.307,446.75 \n",
       "  \"/>\n",
       "<polyline clip-path=\"url(#clip210)\" style=\"stroke:#000000; stroke-width:4; stroke-opacity:1; fill:none\" points=\"\n",
       "  147.848,197.006 174.307,197.006 \n",
       "  \"/>\n",
       "<path clip-path=\"url(#clip210)\" d=\"M 0 0 M62.9365 1431.53 Q59.3254 1431.53 57.4967 1435.09 Q55.6912 1438.63 55.6912 1445.76 Q55.6912 1452.87 57.4967 1456.44 Q59.3254 1459.98 62.9365 1459.98 Q66.5707 1459.98 68.3763 1456.44 Q70.205 1452.87 70.205 1445.76 Q70.205 1438.63 68.3763 1435.09 Q66.5707 1431.53 62.9365 1431.53 M62.9365 1427.82 Q68.7467 1427.82 71.8022 1432.43 Q74.8809 1437.01 74.8809 1445.76 Q74.8809 1454.49 71.8022 1459.1 Q68.7467 1463.68 62.9365 1463.68 Q57.1264 1463.68 54.0477 1459.1 Q50.9921 1454.49 50.9921 1445.76 Q50.9921 1437.01 54.0477 1432.43 Q57.1264 1427.82 62.9365 1427.82 Z\" fill=\"#000000\" fill-rule=\"evenodd\" fill-opacity=\"1\" /><path clip-path=\"url(#clip210)\" d=\"M 0 0 M79.9503 1457.13 L84.8345 1457.13 L84.8345 1463.01 L79.9503 1463.01 L79.9503 1457.13 Z\" fill=\"#000000\" fill-rule=\"evenodd\" fill-opacity=\"1\" /><path clip-path=\"url(#clip210)\" d=\"M 0 0 M99.9039 1431.53 Q96.2928 1431.53 94.4641 1435.09 Q92.6586 1438.63 92.6586 1445.76 Q92.6586 1452.87 94.4641 1456.44 Q96.2928 1459.98 99.9039 1459.98 Q103.538 1459.98 105.344 1456.44 Q107.172 1452.87 107.172 1445.76 Q107.172 1438.63 105.344 1435.09 Q103.538 1431.53 99.9039 1431.53 M99.9039 1427.82 Q105.714 1427.82 108.77 1432.43 Q111.848 1437.01 111.848 1445.76 Q111.848 1454.49 108.77 1459.1 Q105.714 1463.68 99.9039 1463.68 Q94.0937 1463.68 91.0151 1459.1 Q87.9595 1454.49 87.9595 1445.76 Q87.9595 1437.01 91.0151 1432.43 Q94.0937 1427.82 99.9039 1427.82 Z\" fill=\"#000000\" fill-rule=\"evenodd\" fill-opacity=\"1\" /><path clip-path=\"url(#clip210)\" d=\"M 0 0 M63.9319 1181.78 Q60.3208 1181.78 58.4921 1185.35 Q56.6865 1188.89 56.6865 1196.02 Q56.6865 1203.13 58.4921 1206.69 Q60.3208 1210.23 63.9319 1210.23 Q67.5661 1210.23 69.3717 1206.69 Q71.2004 1203.13 71.2004 1196.02 Q71.2004 1188.89 69.3717 1185.35 Q67.5661 1181.78 63.9319 1181.78 M63.9319 1178.08 Q69.742 1178.08 72.7976 1182.69 Q75.8763 1187.27 75.8763 1196.02 Q75.8763 1204.75 72.7976 1209.35 Q69.742 1213.94 63.9319 1213.94 Q58.1217 1213.94 55.043 1209.35 Q51.9875 1204.75 51.9875 1196.02 Q51.9875 1187.27 55.043 1182.69 Q58.1217 1178.08 63.9319 1178.08 Z\" fill=\"#000000\" fill-rule=\"evenodd\" fill-opacity=\"1\" /><path clip-path=\"url(#clip210)\" d=\"M 0 0 M80.9457 1207.38 L85.8299 1207.38 L85.8299 1213.26 L80.9457 1213.26 L80.9457 1207.38 Z\" fill=\"#000000\" fill-rule=\"evenodd\" fill-opacity=\"1\" /><path clip-path=\"url(#clip210)\" d=\"M 0 0 M90.9456 1178.7 L109.302 1178.7 L109.302 1182.64 L95.228 1182.64 L95.228 1191.11 Q96.2465 1190.76 97.265 1190.6 Q98.2835 1190.42 99.3021 1190.42 Q105.089 1190.42 108.469 1193.59 Q111.848 1196.76 111.848 1202.18 Q111.848 1207.76 108.376 1210.86 Q104.904 1213.94 98.5845 1213.94 Q96.4085 1213.94 94.14 1213.57 Q91.8947 1213.2 89.4873 1212.45 L89.4873 1207.76 Q91.5706 1208.89 93.7928 1209.45 Q96.015 1210 98.4919 1210 Q102.496 1210 104.834 1207.89 Q107.172 1205.79 107.172 1202.18 Q107.172 1198.57 104.834 1196.46 Q102.496 1194.35 98.4919 1194.35 Q96.6169 1194.35 94.7419 1194.77 Q92.89 1195.19 90.9456 1196.07 L90.9456 1178.7 Z\" fill=\"#000000\" fill-rule=\"evenodd\" fill-opacity=\"1\" /><path clip-path=\"url(#clip210)\" d=\"M 0 0 M54.9736 959.585 L62.6124 959.585 L62.6124 933.219 L54.3023 934.886 L54.3023 930.626 L62.5661 928.96 L67.242 928.96 L67.242 959.585 L74.8809 959.585 L74.8809 963.52 L54.9736 963.52 L54.9736 959.585 Z\" fill=\"#000000\" fill-rule=\"evenodd\" fill-opacity=\"1\" /><path clip-path=\"url(#clip210)\" d=\"M 0 0 M79.9503 957.64 L84.8345 957.64 L84.8345 963.52 L79.9503 963.52 L79.9503 957.64 Z\" fill=\"#000000\" fill-rule=\"evenodd\" fill-opacity=\"1\" /><path clip-path=\"url(#clip210)\" d=\"M 0 0 M99.9039 932.039 Q96.2928 932.039 94.4641 935.603 Q92.6586 939.145 92.6586 946.275 Q92.6586 953.381 94.4641 956.946 Q96.2928 960.487 99.9039 960.487 Q103.538 960.487 105.344 956.946 Q107.172 953.381 107.172 946.275 Q107.172 939.145 105.344 935.603 Q103.538 932.039 99.9039 932.039 M99.9039 928.335 Q105.714 928.335 108.77 932.941 Q111.848 937.525 111.848 946.275 Q111.848 955.001 108.77 959.608 Q105.714 964.191 99.9039 964.191 Q94.0937 964.191 91.0151 959.608 Q87.9595 955.001 87.9595 946.275 Q87.9595 937.525 91.0151 932.941 Q94.0937 928.335 99.9039 928.335 Z\" fill=\"#000000\" fill-rule=\"evenodd\" fill-opacity=\"1\" /><path clip-path=\"url(#clip210)\" d=\"M 0 0 M55.969 709.84 L63.6078 709.84 L63.6078 683.474 L55.2977 685.141 L55.2977 680.882 L63.5615 679.215 L68.2374 679.215 L68.2374 709.84 L75.8763 709.84 L75.8763 713.775 L55.969 713.775 L55.969 709.84 Z\" fill=\"#000000\" fill-rule=\"evenodd\" fill-opacity=\"1\" /><path clip-path=\"url(#clip210)\" d=\"M 0 0 M80.9457 707.896 L85.8299 707.896 L85.8299 713.775 L80.9457 713.775 L80.9457 707.896 Z\" fill=\"#000000\" fill-rule=\"evenodd\" fill-opacity=\"1\" /><path clip-path=\"url(#clip210)\" d=\"M 0 0 M90.9456 679.215 L109.302 679.215 L109.302 683.15 L95.228 683.15 L95.228 691.622 Q96.2465 691.275 97.265 691.113 Q98.2835 690.928 99.3021 690.928 Q105.089 690.928 108.469 694.099 Q111.848 697.271 111.848 702.687 Q111.848 708.266 108.376 711.368 Q104.904 714.446 98.5845 714.446 Q96.4085 714.446 94.14 714.076 Q91.8947 713.706 89.4873 712.965 L89.4873 708.266 Q91.5706 709.4 93.7928 709.956 Q96.015 710.511 98.4919 710.511 Q102.496 710.511 104.834 708.405 Q107.172 706.298 107.172 702.687 Q107.172 699.076 104.834 696.97 Q102.496 694.863 98.4919 694.863 Q96.6169 694.863 94.7419 695.28 Q92.89 695.697 90.9456 696.576 L90.9456 679.215 Z\" fill=\"#000000\" fill-rule=\"evenodd\" fill-opacity=\"1\" /><path clip-path=\"url(#clip210)\" d=\"M 0 0 M58.5615 460.095 L74.8809 460.095 L74.8809 464.03 L52.9366 464.03 L52.9366 460.095 Q55.5986 457.341 60.1819 452.711 Q64.7883 448.058 65.9689 446.716 Q68.2143 444.193 69.0939 442.456 Q69.9967 440.697 69.9967 439.007 Q69.9967 436.253 68.0522 434.517 Q66.1309 432.781 63.0291 432.781 Q60.83 432.781 58.3763 433.544 Q55.9458 434.308 53.168 435.859 L53.168 431.137 Q55.9921 430.003 58.4458 429.424 Q60.8995 428.845 62.9365 428.845 Q68.3068 428.845 71.5013 431.531 Q74.6957 434.216 74.6957 438.706 Q74.6957 440.836 73.8855 442.757 Q73.0985 444.656 70.992 447.248 Q70.4133 447.919 67.3115 451.137 Q64.2096 454.331 58.5615 460.095 Z\" fill=\"#000000\" fill-rule=\"evenodd\" fill-opacity=\"1\" /><path clip-path=\"url(#clip210)\" d=\"M 0 0 M79.9503 458.151 L84.8345 458.151 L84.8345 464.03 L79.9503 464.03 L79.9503 458.151 Z\" fill=\"#000000\" fill-rule=\"evenodd\" fill-opacity=\"1\" /><path clip-path=\"url(#clip210)\" d=\"M 0 0 M99.9039 432.549 Q96.2928 432.549 94.4641 436.114 Q92.6586 439.656 92.6586 446.785 Q92.6586 453.892 94.4641 457.456 Q96.2928 460.998 99.9039 460.998 Q103.538 460.998 105.344 457.456 Q107.172 453.892 107.172 446.785 Q107.172 439.656 105.344 436.114 Q103.538 432.549 99.9039 432.549 M99.9039 428.845 Q105.714 428.845 108.77 433.452 Q111.848 438.035 111.848 446.785 Q111.848 455.512 108.77 460.118 Q105.714 464.702 99.9039 464.702 Q94.0937 464.702 91.0151 460.118 Q87.9595 455.512 87.9595 446.785 Q87.9595 438.035 91.0151 433.452 Q94.0937 428.845 99.9039 428.845 Z\" fill=\"#000000\" fill-rule=\"evenodd\" fill-opacity=\"1\" /><path clip-path=\"url(#clip210)\" d=\"M 0 0 M59.5569 210.351 L75.8763 210.351 L75.8763 214.286 L53.9319 214.286 L53.9319 210.351 Q56.5939 207.596 61.1773 202.966 Q65.7837 198.314 66.9643 196.971 Q69.2096 194.448 70.0892 192.712 Q70.992 190.953 70.992 189.263 Q70.992 186.508 69.0476 184.772 Q67.1263 183.036 64.0245 183.036 Q61.8254 183.036 59.3717 183.8 Q56.9412 184.564 54.1634 186.115 L54.1634 181.392 Q56.9875 180.258 59.4412 179.679 Q61.8948 179.101 63.9319 179.101 Q69.3022 179.101 72.4966 181.786 Q75.6911 184.471 75.6911 188.962 Q75.6911 191.091 74.8809 193.013 Q74.0939 194.911 71.9874 197.503 Q71.4087 198.175 68.3068 201.392 Q65.205 204.587 59.5569 210.351 Z\" fill=\"#000000\" fill-rule=\"evenodd\" fill-opacity=\"1\" /><path clip-path=\"url(#clip210)\" d=\"M 0 0 M80.9457 208.406 L85.8299 208.406 L85.8299 214.286 L80.9457 214.286 L80.9457 208.406 Z\" fill=\"#000000\" fill-rule=\"evenodd\" fill-opacity=\"1\" /><path clip-path=\"url(#clip210)\" d=\"M 0 0 M90.9456 179.726 L109.302 179.726 L109.302 183.661 L95.228 183.661 L95.228 192.133 Q96.2465 191.786 97.265 191.624 Q98.2835 191.439 99.3021 191.439 Q105.089 191.439 108.469 194.61 Q111.848 197.781 111.848 203.198 Q111.848 208.777 108.376 211.878 Q104.904 214.957 98.5845 214.957 Q96.4085 214.957 94.14 214.587 Q91.8947 214.216 89.4873 213.476 L89.4873 208.777 Q91.5706 209.911 93.7928 210.466 Q96.015 211.022 98.4919 211.022 Q102.496 211.022 104.834 208.915 Q107.172 206.809 107.172 203.198 Q107.172 199.587 104.834 197.48 Q102.496 195.374 98.4919 195.374 Q96.6169 195.374 94.7419 195.79 Q92.89 196.207 90.9456 197.087 L90.9456 179.726 Z\" fill=\"#000000\" fill-rule=\"evenodd\" fill-opacity=\"1\" /><polyline clip-path=\"url(#clip212)\" style=\"stroke:#009af9; stroke-width:4; stroke-opacity:1; fill:none\" points=\"\n",
       "  210.251,87.9763 215.33,146.634 220.408,203.307 225.487,258.048 230.565,310.911 242.305,426.196 254.044,532.318 265.784,629.85 277.523,719.336 289.263,801.288 \n",
       "  301.002,876.192 312.741,944.505 324.481,1006.66 336.22,1063.07 347.96,1114.11 359.699,1160.16 371.439,1201.55 394.918,1271.65 418.397,1326.78 432.506,1353.61 \n",
       "  446.616,1376.2 460.726,1394.96 474.836,1410.23 503.056,1431.64 531.275,1442.78 555.135,1445.72 578.994,1443.83 602.853,1438.05 626.713,1429.18 678.549,1402.45 \n",
       "  730.385,1369.92 778.173,1338.27 825.961,1307.3 877.195,1276.5 928.429,1249.31 987.789,1223.1 1047.15,1202.88 1152.65,1181.2 1245.17,1175.35 1346.04,1180.02 \n",
       "  1447.51,1193.17 1559.69,1214.05 1666.43,1237.26 1777.42,1262.58 1870.85,1283.61 1984.91,1307.93 2092.14,1328.83 2263.92,1357.67 2290.35,1361.59 \n",
       "  \"/>\n",
       "<circle clip-path=\"url(#clip212)\" cx=\"210.251\" cy=\"87.9763\" r=\"14\" fill=\"#e26f46\" fill-rule=\"evenodd\" fill-opacity=\"1\" stroke=\"#000000\" stroke-opacity=\"1\" stroke-width=\"3.2\"/>\n",
       "</svg>\n"
      ]
     },
     "execution_count": 83,
     "metadata": {},
     "output_type": "execute_result"
    }
   ],
   "source": [
    "# Teste 2\n",
    "\n",
    "f(x) = x^2 * exp(-x)\n",
    "fd(x) = -exp(-x)*x*(x-2)\n",
    "fdd(x) = exp(-x)*(x^2 - 4*x + 2)\n",
    "esq = -1\n",
    "dir = 5\n",
    "p = maximar_uma_funcao(f, fd, fdd, esq, dir)\n",
    "\n",
    "plot(f, esq, dir, leg=false)\n",
    "scatter!(p:p, [f(p)])"
   ]
  },
  {
   "cell_type": "code",
   "execution_count": 84,
   "metadata": {},
   "outputs": [
    {
     "data": {
      "image/svg+xml": [
       "<?xml version=\"1.0\" encoding=\"utf-8\"?>\n",
       "<svg xmlns=\"http://www.w3.org/2000/svg\" xmlns:xlink=\"http://www.w3.org/1999/xlink\" width=\"600\" height=\"400\" viewBox=\"0 0 2400 1600\">\n",
       "<defs>\n",
       "  <clipPath id=\"clip250\">\n",
       "    <rect x=\"0\" y=\"0\" width=\"2400\" height=\"1600\"/>\n",
       "  </clipPath>\n",
       "</defs>\n",
       "<path clip-path=\"url(#clip250)\" d=\"\n",
       "M0 1600 L2400 1600 L2400 0 L0 0  Z\n",
       "  \" fill=\"#ffffff\" fill-rule=\"evenodd\" fill-opacity=\"1\"/>\n",
       "<defs>\n",
       "  <clipPath id=\"clip251\">\n",
       "    <rect x=\"480\" y=\"0\" width=\"1681\" height=\"1600\"/>\n",
       "  </clipPath>\n",
       "</defs>\n",
       "<path clip-path=\"url(#clip250)\" d=\"\n",
       "M174.862 1486.45 L2352.76 1486.45 L2352.76 47.2441 L174.862 47.2441  Z\n",
       "  \" fill=\"#ffffff\" fill-rule=\"evenodd\" fill-opacity=\"1\"/>\n",
       "<defs>\n",
       "  <clipPath id=\"clip252\">\n",
       "    <rect x=\"174\" y=\"47\" width=\"2179\" height=\"1440\"/>\n",
       "  </clipPath>\n",
       "</defs>\n",
       "<polyline clip-path=\"url(#clip252)\" style=\"stroke:#000000; stroke-width:2; stroke-opacity:0.1; fill:none\" points=\"\n",
       "  236.501,1486.45 236.501,47.2441 \n",
       "  \"/>\n",
       "<polyline clip-path=\"url(#clip252)\" style=\"stroke:#000000; stroke-width:2; stroke-opacity:0.1; fill:none\" points=\"\n",
       "  750.155,1486.45 750.155,47.2441 \n",
       "  \"/>\n",
       "<polyline clip-path=\"url(#clip252)\" style=\"stroke:#000000; stroke-width:2; stroke-opacity:0.1; fill:none\" points=\"\n",
       "  1263.81,1486.45 1263.81,47.2441 \n",
       "  \"/>\n",
       "<polyline clip-path=\"url(#clip252)\" style=\"stroke:#000000; stroke-width:2; stroke-opacity:0.1; fill:none\" points=\"\n",
       "  1777.46,1486.45 1777.46,47.2441 \n",
       "  \"/>\n",
       "<polyline clip-path=\"url(#clip252)\" style=\"stroke:#000000; stroke-width:2; stroke-opacity:0.1; fill:none\" points=\"\n",
       "  2291.12,1486.45 2291.12,47.2441 \n",
       "  \"/>\n",
       "<polyline clip-path=\"url(#clip250)\" style=\"stroke:#000000; stroke-width:4; stroke-opacity:1; fill:none\" points=\"\n",
       "  174.862,1486.45 2352.76,1486.45 \n",
       "  \"/>\n",
       "<polyline clip-path=\"url(#clip250)\" style=\"stroke:#000000; stroke-width:4; stroke-opacity:1; fill:none\" points=\"\n",
       "  236.501,1486.45 236.501,1469.18 \n",
       "  \"/>\n",
       "<polyline clip-path=\"url(#clip250)\" style=\"stroke:#000000; stroke-width:4; stroke-opacity:1; fill:none\" points=\"\n",
       "  750.155,1486.45 750.155,1469.18 \n",
       "  \"/>\n",
       "<polyline clip-path=\"url(#clip250)\" style=\"stroke:#000000; stroke-width:4; stroke-opacity:1; fill:none\" points=\"\n",
       "  1263.81,1486.45 1263.81,1469.18 \n",
       "  \"/>\n",
       "<polyline clip-path=\"url(#clip250)\" style=\"stroke:#000000; stroke-width:4; stroke-opacity:1; fill:none\" points=\"\n",
       "  1777.46,1486.45 1777.46,1469.18 \n",
       "  \"/>\n",
       "<polyline clip-path=\"url(#clip250)\" style=\"stroke:#000000; stroke-width:4; stroke-opacity:1; fill:none\" points=\"\n",
       "  2291.12,1486.45 2291.12,1469.18 \n",
       "  \"/>\n",
       "<path clip-path=\"url(#clip250)\" d=\"M 0 0 M208.954 1530.29 L238.63 1530.29 L238.63 1534.23 L208.954 1534.23 L208.954 1530.29 Z\" fill=\"#000000\" fill-rule=\"evenodd\" fill-opacity=\"1\" /><path clip-path=\"url(#clip250)\" d=\"M 0 0 M247.727 1543.18 L264.047 1543.18 L264.047 1547.12 L242.102 1547.12 L242.102 1543.18 Q244.764 1540.43 249.348 1535.8 Q253.954 1531.15 255.135 1529.81 Q257.38 1527.28 258.26 1525.55 Q259.162 1523.79 259.162 1522.1 Q259.162 1519.34 257.218 1517.61 Q255.297 1515.87 252.195 1515.87 Q249.996 1515.87 247.542 1516.63 Q245.112 1517.4 242.334 1518.95 L242.334 1514.23 Q245.158 1513.09 247.612 1512.51 Q250.065 1511.93 252.102 1511.93 Q257.473 1511.93 260.667 1514.62 Q263.861 1517.31 263.861 1521.8 Q263.861 1523.93 263.051 1525.85 Q262.264 1527.74 260.158 1530.34 Q259.579 1531.01 256.477 1534.23 Q253.375 1537.42 247.727 1543.18 Z\" fill=\"#000000\" fill-rule=\"evenodd\" fill-opacity=\"1\" /><path clip-path=\"url(#clip250)\" d=\"M 0 0 M722.423 1530.29 L752.099 1530.29 L752.099 1534.23 L722.423 1534.23 L722.423 1530.29 Z\" fill=\"#000000\" fill-rule=\"evenodd\" fill-opacity=\"1\" /><path clip-path=\"url(#clip250)\" d=\"M 0 0 M757.979 1543.18 L765.618 1543.18 L765.618 1516.82 L757.307 1518.49 L757.307 1514.23 L765.571 1512.56 L770.247 1512.56 L770.247 1543.18 L777.886 1543.18 L777.886 1547.12 L757.979 1547.12 L757.979 1543.18 Z\" fill=\"#000000\" fill-rule=\"evenodd\" fill-opacity=\"1\" /><path clip-path=\"url(#clip250)\" d=\"M 0 0 M1263.81 1515.64 Q1260.2 1515.64 1258.37 1519.2 Q1256.56 1522.75 1256.56 1529.87 Q1256.56 1536.98 1258.37 1540.55 Q1260.2 1544.09 1263.81 1544.09 Q1267.44 1544.09 1269.25 1540.55 Q1271.08 1536.98 1271.08 1529.87 Q1271.08 1522.75 1269.25 1519.2 Q1267.44 1515.64 1263.81 1515.64 M1263.81 1511.93 Q1269.62 1511.93 1272.67 1516.54 Q1275.75 1521.12 1275.75 1529.87 Q1275.75 1538.6 1272.67 1543.21 Q1269.62 1547.79 1263.81 1547.79 Q1258 1547.79 1254.92 1543.21 Q1251.86 1538.6 1251.86 1529.87 Q1251.86 1521.12 1254.92 1516.54 Q1258 1511.93 1263.81 1511.93 Z\" fill=\"#000000\" fill-rule=\"evenodd\" fill-opacity=\"1\" /><path clip-path=\"url(#clip250)\" d=\"M 0 0 M1767.85 1543.18 L1775.48 1543.18 L1775.48 1516.82 L1767.17 1518.49 L1767.17 1514.23 L1775.44 1512.56 L1780.11 1512.56 L1780.11 1543.18 L1787.75 1543.18 L1787.75 1547.12 L1767.85 1547.12 L1767.85 1543.18 Z\" fill=\"#000000\" fill-rule=\"evenodd\" fill-opacity=\"1\" /><path clip-path=\"url(#clip250)\" d=\"M 0 0 M2285.77 1543.18 L2302.09 1543.18 L2302.09 1547.12 L2280.15 1547.12 L2280.15 1543.18 Q2282.81 1540.43 2287.39 1535.8 Q2292 1531.15 2293.18 1529.81 Q2295.42 1527.28 2296.3 1525.55 Q2297.21 1523.79 2297.21 1522.1 Q2297.21 1519.34 2295.26 1517.61 Q2293.34 1515.87 2290.24 1515.87 Q2288.04 1515.87 2285.59 1516.63 Q2283.15 1517.4 2280.38 1518.95 L2280.38 1514.23 Q2283.2 1513.09 2285.65 1512.51 Q2288.11 1511.93 2290.15 1511.93 Q2295.52 1511.93 2298.71 1514.62 Q2301.9 1517.31 2301.9 1521.8 Q2301.9 1523.93 2301.09 1525.85 Q2300.31 1527.74 2298.2 1530.34 Q2297.62 1531.01 2294.52 1534.23 Q2291.42 1537.42 2285.77 1543.18 Z\" fill=\"#000000\" fill-rule=\"evenodd\" fill-opacity=\"1\" /><polyline clip-path=\"url(#clip252)\" style=\"stroke:#000000; stroke-width:2; stroke-opacity:0.1; fill:none\" points=\"\n",
       "  174.862,1471.05 2352.76,1471.05 \n",
       "  \"/>\n",
       "<polyline clip-path=\"url(#clip252)\" style=\"stroke:#000000; stroke-width:2; stroke-opacity:0.1; fill:none\" points=\"\n",
       "  174.862,1125.28 2352.76,1125.28 \n",
       "  \"/>\n",
       "<polyline clip-path=\"url(#clip252)\" style=\"stroke:#000000; stroke-width:2; stroke-opacity:0.1; fill:none\" points=\"\n",
       "  174.862,779.512 2352.76,779.512 \n",
       "  \"/>\n",
       "<polyline clip-path=\"url(#clip252)\" style=\"stroke:#000000; stroke-width:2; stroke-opacity:0.1; fill:none\" points=\"\n",
       "  174.862,433.744 2352.76,433.744 \n",
       "  \"/>\n",
       "<polyline clip-path=\"url(#clip252)\" style=\"stroke:#000000; stroke-width:2; stroke-opacity:0.1; fill:none\" points=\"\n",
       "  174.862,87.9763 2352.76,87.9763 \n",
       "  \"/>\n",
       "<polyline clip-path=\"url(#clip250)\" style=\"stroke:#000000; stroke-width:4; stroke-opacity:1; fill:none\" points=\"\n",
       "  174.862,1486.45 174.862,47.2441 \n",
       "  \"/>\n",
       "<polyline clip-path=\"url(#clip250)\" style=\"stroke:#000000; stroke-width:4; stroke-opacity:1; fill:none\" points=\"\n",
       "  174.862,1471.05 200.997,1471.05 \n",
       "  \"/>\n",
       "<polyline clip-path=\"url(#clip250)\" style=\"stroke:#000000; stroke-width:4; stroke-opacity:1; fill:none\" points=\"\n",
       "  174.862,1125.28 200.997,1125.28 \n",
       "  \"/>\n",
       "<polyline clip-path=\"url(#clip250)\" style=\"stroke:#000000; stroke-width:4; stroke-opacity:1; fill:none\" points=\"\n",
       "  174.862,779.512 200.997,779.512 \n",
       "  \"/>\n",
       "<polyline clip-path=\"url(#clip250)\" style=\"stroke:#000000; stroke-width:4; stroke-opacity:1; fill:none\" points=\"\n",
       "  174.862,433.744 200.997,433.744 \n",
       "  \"/>\n",
       "<polyline clip-path=\"url(#clip250)\" style=\"stroke:#000000; stroke-width:4; stroke-opacity:1; fill:none\" points=\"\n",
       "  174.862,87.9763 200.997,87.9763 \n",
       "  \"/>\n",
       "<path clip-path=\"url(#clip250)\" d=\"M 0 0 M62.9365 1456.85 Q59.3254 1456.85 57.4967 1460.41 Q55.6912 1463.95 55.6912 1471.08 Q55.6912 1478.19 57.4967 1481.75 Q59.3254 1485.3 62.9365 1485.3 Q66.5707 1485.3 68.3763 1481.75 Q70.205 1478.19 70.205 1471.08 Q70.205 1463.95 68.3763 1460.41 Q66.5707 1456.85 62.9365 1456.85 M62.9365 1453.14 Q68.7467 1453.14 71.8022 1457.75 Q74.8809 1462.33 74.8809 1471.08 Q74.8809 1479.81 71.8022 1484.42 Q68.7467 1489 62.9365 1489 Q57.1264 1489 54.0477 1484.42 Q50.9921 1479.81 50.9921 1471.08 Q50.9921 1462.33 54.0477 1457.75 Q57.1264 1453.14 62.9365 1453.14 Z\" fill=\"#000000\" fill-rule=\"evenodd\" fill-opacity=\"1\" /><path clip-path=\"url(#clip250)\" d=\"M 0 0 M79.9503 1482.45 L84.8345 1482.45 L84.8345 1488.33 L79.9503 1488.33 L79.9503 1482.45 Z\" fill=\"#000000\" fill-rule=\"evenodd\" fill-opacity=\"1\" /><path clip-path=\"url(#clip250)\" d=\"M 0 0 M99.9039 1456.85 Q96.2928 1456.85 94.4641 1460.41 Q92.6586 1463.95 92.6586 1471.08 Q92.6586 1478.19 94.4641 1481.75 Q96.2928 1485.3 99.9039 1485.3 Q103.538 1485.3 105.344 1481.75 Q107.172 1478.19 107.172 1471.08 Q107.172 1463.95 105.344 1460.41 Q103.538 1456.85 99.9039 1456.85 M99.9039 1453.14 Q105.714 1453.14 108.77 1457.75 Q111.848 1462.33 111.848 1471.08 Q111.848 1479.81 108.77 1484.42 Q105.714 1489 99.9039 1489 Q94.0937 1489 91.0151 1484.42 Q87.9595 1479.81 87.9595 1471.08 Q87.9595 1462.33 91.0151 1457.75 Q94.0937 1453.14 99.9039 1453.14 Z\" fill=\"#000000\" fill-rule=\"evenodd\" fill-opacity=\"1\" /><path clip-path=\"url(#clip250)\" d=\"M 0 0 M126.918 1456.85 Q123.307 1456.85 121.478 1460.41 Q119.672 1463.95 119.672 1471.08 Q119.672 1478.19 121.478 1481.75 Q123.307 1485.3 126.918 1485.3 Q130.552 1485.3 132.357 1481.75 Q134.186 1478.19 134.186 1471.08 Q134.186 1463.95 132.357 1460.41 Q130.552 1456.85 126.918 1456.85 M126.918 1453.14 Q132.728 1453.14 135.783 1457.75 Q138.862 1462.33 138.862 1471.08 Q138.862 1479.81 135.783 1484.42 Q132.728 1489 126.918 1489 Q121.107 1489 118.029 1484.42 Q114.973 1479.81 114.973 1471.08 Q114.973 1462.33 118.029 1457.75 Q121.107 1453.14 126.918 1453.14 Z\" fill=\"#000000\" fill-rule=\"evenodd\" fill-opacity=\"1\" /><path clip-path=\"url(#clip250)\" d=\"M 0 0 M65.5291 1111.08 Q61.918 1111.08 60.0893 1114.64 Q58.2838 1118.18 58.2838 1125.31 Q58.2838 1132.42 60.0893 1135.99 Q61.918 1139.53 65.5291 1139.53 Q69.1633 1139.53 70.9689 1135.99 Q72.7976 1132.42 72.7976 1125.31 Q72.7976 1118.18 70.9689 1114.64 Q69.1633 1111.08 65.5291 1111.08 M65.5291 1107.37 Q71.3392 1107.37 74.3948 1111.98 Q77.4735 1116.56 77.4735 1125.31 Q77.4735 1134.04 74.3948 1138.65 Q71.3392 1143.23 65.5291 1143.23 Q59.7189 1143.23 56.6402 1138.65 Q53.5847 1134.04 53.5847 1125.31 Q53.5847 1116.56 56.6402 1111.98 Q59.7189 1107.37 65.5291 1107.37 Z\" fill=\"#000000\" fill-rule=\"evenodd\" fill-opacity=\"1\" /><path clip-path=\"url(#clip250)\" d=\"M 0 0 M82.5429 1136.68 L87.4271 1136.68 L87.4271 1142.56 L82.5429 1142.56 L82.5429 1136.68 Z\" fill=\"#000000\" fill-rule=\"evenodd\" fill-opacity=\"1\" /><path clip-path=\"url(#clip250)\" d=\"M 0 0 M96.5243 1138.62 L112.844 1138.62 L112.844 1142.56 L90.8993 1142.56 L90.8993 1138.62 Q93.5613 1135.87 98.1447 1131.24 Q102.751 1126.59 103.932 1125.24 Q106.177 1122.72 107.057 1120.99 Q107.959 1119.23 107.959 1117.54 Q107.959 1114.78 106.015 1113.05 Q104.094 1111.31 100.992 1111.31 Q98.7928 1111.31 96.3391 1112.07 Q93.9086 1112.84 91.1308 1114.39 L91.1308 1109.67 Q93.9549 1108.53 96.4085 1107.95 Q98.8622 1107.37 100.899 1107.37 Q106.27 1107.37 109.464 1110.06 Q112.658 1112.75 112.658 1117.24 Q112.658 1119.37 111.848 1121.29 Q111.061 1123.18 108.955 1125.78 Q108.376 1126.45 105.274 1129.67 Q102.172 1132.86 96.5243 1138.62 Z\" fill=\"#000000\" fill-rule=\"evenodd\" fill-opacity=\"1\" /><path clip-path=\"url(#clip250)\" d=\"M 0 0 M117.959 1108 L136.316 1108 L136.316 1111.93 L122.242 1111.93 L122.242 1120.41 Q123.26 1120.06 124.279 1119.9 Q125.297 1119.71 126.316 1119.71 Q132.103 1119.71 135.482 1122.88 Q138.862 1126.06 138.862 1131.47 Q138.862 1137.05 135.39 1140.15 Q131.918 1143.23 125.598 1143.23 Q123.422 1143.23 121.154 1142.86 Q118.908 1142.49 116.501 1141.75 L116.501 1137.05 Q118.584 1138.18 120.807 1138.74 Q123.029 1139.3 125.506 1139.3 Q129.51 1139.3 131.848 1137.19 Q134.186 1135.08 134.186 1131.47 Q134.186 1127.86 131.848 1125.75 Q129.51 1123.65 125.506 1123.65 Q123.631 1123.65 121.756 1124.06 Q119.904 1124.48 117.959 1125.36 L117.959 1108 Z\" fill=\"#000000\" fill-rule=\"evenodd\" fill-opacity=\"1\" /><path clip-path=\"url(#clip250)\" d=\"M 0 0 M63.9319 765.311 Q60.3208 765.311 58.4921 768.875 Q56.6865 772.417 56.6865 779.547 Q56.6865 786.653 58.4921 790.218 Q60.3208 793.76 63.9319 793.76 Q67.5661 793.76 69.3717 790.218 Q71.2004 786.653 71.2004 779.547 Q71.2004 772.417 69.3717 768.875 Q67.5661 765.311 63.9319 765.311 M63.9319 761.607 Q69.742 761.607 72.7976 766.213 Q75.8763 770.797 75.8763 779.547 Q75.8763 788.273 72.7976 792.88 Q69.742 797.463 63.9319 797.463 Q58.1217 797.463 55.043 792.88 Q51.9875 788.273 51.9875 779.547 Q51.9875 770.797 55.043 766.213 Q58.1217 761.607 63.9319 761.607 Z\" fill=\"#000000\" fill-rule=\"evenodd\" fill-opacity=\"1\" /><path clip-path=\"url(#clip250)\" d=\"M 0 0 M80.9457 790.912 L85.8299 790.912 L85.8299 796.792 L80.9457 796.792 L80.9457 790.912 Z\" fill=\"#000000\" fill-rule=\"evenodd\" fill-opacity=\"1\" /><path clip-path=\"url(#clip250)\" d=\"M 0 0 M90.9456 762.232 L109.302 762.232 L109.302 766.167 L95.228 766.167 L95.228 774.639 Q96.2465 774.292 97.265 774.13 Q98.2835 773.945 99.3021 773.945 Q105.089 773.945 108.469 777.116 Q111.848 780.287 111.848 785.704 Q111.848 791.283 108.376 794.385 Q104.904 797.463 98.5845 797.463 Q96.4085 797.463 94.14 797.093 Q91.8947 796.722 89.4873 795.982 L89.4873 791.283 Q91.5706 792.417 93.7928 792.972 Q96.015 793.528 98.4919 793.528 Q102.496 793.528 104.834 791.422 Q107.172 789.315 107.172 785.704 Q107.172 782.093 104.834 779.986 Q102.496 777.88 98.4919 777.88 Q96.6169 777.88 94.7419 778.297 Q92.89 778.713 90.9456 779.593 L90.9456 762.232 Z\" fill=\"#000000\" fill-rule=\"evenodd\" fill-opacity=\"1\" /><path clip-path=\"url(#clip250)\" d=\"M 0 0 M126.918 765.311 Q123.307 765.311 121.478 768.875 Q119.672 772.417 119.672 779.547 Q119.672 786.653 121.478 790.218 Q123.307 793.76 126.918 793.76 Q130.552 793.76 132.357 790.218 Q134.186 786.653 134.186 779.547 Q134.186 772.417 132.357 768.875 Q130.552 765.311 126.918 765.311 M126.918 761.607 Q132.728 761.607 135.783 766.213 Q138.862 770.797 138.862 779.547 Q138.862 788.273 135.783 792.88 Q132.728 797.463 126.918 797.463 Q121.107 797.463 118.029 792.88 Q114.973 788.273 114.973 779.547 Q114.973 770.797 118.029 766.213 Q121.107 761.607 126.918 761.607 Z\" fill=\"#000000\" fill-rule=\"evenodd\" fill-opacity=\"1\" /><path clip-path=\"url(#clip250)\" d=\"M 0 0 M64.8346 419.543 Q61.2236 419.543 59.3949 423.108 Q57.5893 426.649 57.5893 433.779 Q57.5893 440.885 59.3949 444.45 Q61.2236 447.992 64.8346 447.992 Q68.4689 447.992 70.2744 444.45 Q72.1031 440.885 72.1031 433.779 Q72.1031 426.649 70.2744 423.108 Q68.4689 419.543 64.8346 419.543 M64.8346 415.839 Q70.6448 415.839 73.7003 420.446 Q76.779 425.029 76.779 433.779 Q76.779 442.506 73.7003 447.112 Q70.6448 451.695 64.8346 451.695 Q59.0245 451.695 55.9458 447.112 Q52.8903 442.506 52.8903 433.779 Q52.8903 425.029 55.9458 420.446 Q59.0245 415.839 64.8346 415.839 Z\" fill=\"#000000\" fill-rule=\"evenodd\" fill-opacity=\"1\" /><path clip-path=\"url(#clip250)\" d=\"M 0 0 M81.8484 445.144 L86.7327 445.144 L86.7327 451.024 L81.8484 451.024 L81.8484 445.144 Z\" fill=\"#000000\" fill-rule=\"evenodd\" fill-opacity=\"1\" /><path clip-path=\"url(#clip250)\" d=\"M 0 0 M90.6215 416.464 L112.844 416.464 L112.844 418.455 L100.297 451.024 L95.4132 451.024 L107.219 420.399 L90.6215 420.399 L90.6215 416.464 Z\" fill=\"#000000\" fill-rule=\"evenodd\" fill-opacity=\"1\" /><path clip-path=\"url(#clip250)\" d=\"M 0 0 M117.959 416.464 L136.316 416.464 L136.316 420.399 L122.242 420.399 L122.242 428.871 Q123.26 428.524 124.279 428.362 Q125.297 428.177 126.316 428.177 Q132.103 428.177 135.482 431.348 Q138.862 434.52 138.862 439.936 Q138.862 445.515 135.39 448.617 Q131.918 451.695 125.598 451.695 Q123.422 451.695 121.154 451.325 Q118.908 450.955 116.501 450.214 L116.501 445.515 Q118.584 446.649 120.807 447.205 Q123.029 447.76 125.506 447.76 Q129.51 447.76 131.848 445.654 Q134.186 443.547 134.186 439.936 Q134.186 436.325 131.848 434.219 Q129.51 432.112 125.506 432.112 Q123.631 432.112 121.756 432.529 Q119.904 432.945 117.959 433.825 L117.959 416.464 Z\" fill=\"#000000\" fill-rule=\"evenodd\" fill-opacity=\"1\" /><path clip-path=\"url(#clip250)\" d=\"M 0 0 M54.9736 101.321 L62.6124 101.321 L62.6124 74.9555 L54.3023 76.6222 L54.3023 72.3629 L62.5661 70.6963 L67.242 70.6963 L67.242 101.321 L74.8809 101.321 L74.8809 105.256 L54.9736 105.256 L54.9736 101.321 Z\" fill=\"#000000\" fill-rule=\"evenodd\" fill-opacity=\"1\" /><path clip-path=\"url(#clip250)\" d=\"M 0 0 M79.9503 99.3767 L84.8345 99.3767 L84.8345 105.256 L79.9503 105.256 L79.9503 99.3767 Z\" fill=\"#000000\" fill-rule=\"evenodd\" fill-opacity=\"1\" /><path clip-path=\"url(#clip250)\" d=\"M 0 0 M99.9039 73.775 Q96.2928 73.775 94.4641 77.3398 Q92.6586 80.8814 92.6586 88.011 Q92.6586 95.1174 94.4641 98.6822 Q96.2928 102.224 99.9039 102.224 Q103.538 102.224 105.344 98.6822 Q107.172 95.1174 107.172 88.011 Q107.172 80.8814 105.344 77.3398 Q103.538 73.775 99.9039 73.775 M99.9039 70.0713 Q105.714 70.0713 108.77 74.6777 Q111.848 79.261 111.848 88.011 Q111.848 96.7378 108.77 101.344 Q105.714 105.928 99.9039 105.928 Q94.0937 105.928 91.0151 101.344 Q87.9595 96.7378 87.9595 88.011 Q87.9595 79.261 91.0151 74.6777 Q94.0937 70.0713 99.9039 70.0713 Z\" fill=\"#000000\" fill-rule=\"evenodd\" fill-opacity=\"1\" /><path clip-path=\"url(#clip250)\" d=\"M 0 0 M126.918 73.775 Q123.307 73.775 121.478 77.3398 Q119.672 80.8814 119.672 88.011 Q119.672 95.1174 121.478 98.6822 Q123.307 102.224 126.918 102.224 Q130.552 102.224 132.357 98.6822 Q134.186 95.1174 134.186 88.011 Q134.186 80.8814 132.357 77.3398 Q130.552 73.775 126.918 73.775 M126.918 70.0713 Q132.728 70.0713 135.783 74.6777 Q138.862 79.261 138.862 88.011 Q138.862 96.7378 135.783 101.344 Q132.728 105.928 126.918 105.928 Q121.107 105.928 118.029 101.344 Q114.973 96.7378 114.973 88.011 Q114.973 79.261 118.029 74.6777 Q121.107 70.0713 126.918 70.0713 Z\" fill=\"#000000\" fill-rule=\"evenodd\" fill-opacity=\"1\" /><polyline clip-path=\"url(#clip252)\" style=\"stroke:#009af9; stroke-width:4; stroke-opacity:1; fill:none\" points=\"\n",
       "  236.501,1445.72 246.533,1443.67 256.566,1441.48 349.331,1412.93 442.096,1364.04 469.97,1344.13 497.844,1321.39 525.717,1295.61 553.591,1266.61 600.726,1209.76 \n",
       "  647.86,1142.69 699.061,1058.14 750.262,962.032 797.464,864.498 844.667,760.38 895.273,644.476 945.879,528.152 1004.51,399.103 1063.14,283.737 1089.2,238.915 \n",
       "  1115.25,198.961 1141.3,164.453 1167.36,135.895 1213.05,101.418 1258.74,88.111 1283.65,90.0378 1308.56,98.4324 1333.46,113.177 1358.37,134.066 1383.43,160.986 \n",
       "  1408.48,193.458 1433.54,231.041 1458.6,273.232 1514,380.091 1569.41,500.272 1622.13,620.874 1674.84,742.014 1729.66,863.43 1784.47,976.028 1830.61,1061.76 \n",
       "  1876.75,1138.06 1933.09,1217.81 1989.42,1283.04 2042.37,1332.03 2095.33,1370.42 2180.17,1413.68 2265,1440.08 2278.06,1443.02 2291.12,1445.72 \n",
       "  \"/>\n",
       "<circle clip-path=\"url(#clip252)\" cx=\"1263.81\" cy=\"87.9763\" r=\"14\" fill=\"#e26f46\" fill-rule=\"evenodd\" fill-opacity=\"1\" stroke=\"#000000\" stroke-opacity=\"1\" stroke-width=\"3.2\"/>\n",
       "</svg>\n"
      ]
     },
     "execution_count": 84,
     "metadata": {},
     "output_type": "execute_result"
    }
   ],
   "source": [
    "# Teste 3\n",
    "\n",
    "f(x) = exp(-x^2)\n",
    "fd(x) = -2*exp(-x^2)*x\n",
    "fdd(x) = exp(-x^2)*(4*x^2 - 2)\n",
    "esq = -2\n",
    "dir = 2\n",
    "p = maximar_uma_funcao(f, fd, fdd, esq, dir)\n",
    "\n",
    "plot(f, esq, dir, leg=false)\n",
    "scatter!(p:p, [f(p)])"
   ]
  },
  {
   "cell_type": "markdown",
   "metadata": {},
   "source": [
    "### Encontrar um ponto crítico de uma função"
   ]
  },
  {
   "cell_type": "code",
   "execution_count": 85,
   "metadata": {},
   "outputs": [
    {
     "data": {
      "text/plain": [
       "achar_um_ponto_critico_de_uma_funcao (generic function with 3 methods)"
      ]
     },
     "execution_count": 85,
     "metadata": {},
     "output_type": "execute_result"
    }
   ],
   "source": [
    "\"\"\" A ideia aqui é acharmos o ponto em que f'(x) = 0. Podemos usar bisseção, newton ou ponto fixo para isso. \"\"\"\n",
    "\n",
    "function achar_um_ponto_critico_de_uma_funcao(derivada, esq, dir, erro = 1e-2, qtd_iterações = 10)\n",
    "    \n",
    "    # Começamos uma lista de intervalos para o método da bisseção e selecionaremos os propícios\n",
    "    lista_de_intervalos = Any[[esq, dir]]\n",
    "    intervalos_propicios = Any[]\n",
    "    \n",
    "    # Escolhemos uma quantidade de iterações para diminuir o intervalo\n",
    "    for j in 1:qtd_iterações\n",
    "        \n",
    "        # Se a lista de intervalos estiver vazia, não temos mais o que procurar\n",
    "        if size(lista_de_intervalos, 1) == 0\n",
    "            break\n",
    "        end\n",
    "        \n",
    "        # Pega o primeiro intervalo da lista\n",
    "        intervalo = lista_de_intervalos[1]\n",
    "        \n",
    "        # Pega os pontos desse intervalo\n",
    "        a = intervalo[1]\n",
    "        b = intervalo[2]\n",
    "        \n",
    "        # Calcula o ponto médio do intervalo\n",
    "        metade_do_intervalo = (a+b)/2.0\n",
    "        \n",
    "        # Retira o intervalo da lista\n",
    "        deleteat!(lista_de_intervalos, 1)\n",
    "\n",
    "        # Sendo x a metade do intervalo, se um dos intervalos criados [a, x] ou [x, b] satisfizer as condições\n",
    "        # Adicionamos ele a uma outra lista contendo os intervalos bons\n",
    "        # Caso contrário adicionamos eles a nossa lista de intervalos\n",
    "        if derivada(a)*derivada(metade_do_intervalo) <= 0\n",
    "            push!(intervalos_propicios, [a, metade_do_intervalo])\n",
    "        else\n",
    "            push!(lista_de_intervalos, [a, metade_do_intervalo])\n",
    "        end\n",
    "        \n",
    "        if derivada(metade_do_intervalo)*derivada(b) <= 0\n",
    "            push!(intervalos_propicios, [metade_do_intervalo, b])\n",
    "        else\n",
    "            push!(lista_de_intervalos, [metade_do_intervalo, b])\n",
    "        end\n",
    "        \n",
    "    end\n",
    "    \n",
    "    println(intervalos_propicios)\n",
    "    \n",
    "    # Pega o primeiro ponto crítico da lista\n",
    "    ponto_crítico = bissecao(derivada, intervalos_propicios[1][1], intervalos_propicios[1][2], erro)\n",
    "        \n",
    "    return ponto_crítico\n",
    "end"
   ]
  },
  {
   "cell_type": "code",
   "execution_count": 86,
   "metadata": {},
   "outputs": [
    {
     "name": "stdout",
     "output_type": "stream",
     "text": [
      "Any[[0.0, 2.5], [2.5, 5.0]]\n"
     ]
    },
    {
     "data": {
      "image/svg+xml": [
       "<?xml version=\"1.0\" encoding=\"utf-8\"?>\n",
       "<svg xmlns=\"http://www.w3.org/2000/svg\" xmlns:xlink=\"http://www.w3.org/1999/xlink\" width=\"600\" height=\"400\" viewBox=\"0 0 2400 1600\">\n",
       "<defs>\n",
       "  <clipPath id=\"clip290\">\n",
       "    <rect x=\"0\" y=\"0\" width=\"2400\" height=\"1600\"/>\n",
       "  </clipPath>\n",
       "</defs>\n",
       "<path clip-path=\"url(#clip290)\" d=\"\n",
       "M0 1600 L2400 1600 L2400 0 L0 0  Z\n",
       "  \" fill=\"#ffffff\" fill-rule=\"evenodd\" fill-opacity=\"1\"/>\n",
       "<defs>\n",
       "  <clipPath id=\"clip291\">\n",
       "    <rect x=\"480\" y=\"0\" width=\"1681\" height=\"1600\"/>\n",
       "  </clipPath>\n",
       "</defs>\n",
       "<path clip-path=\"url(#clip290)\" d=\"\n",
       "M112.177 1486.45 L2352.76 1486.45 L2352.76 47.2441 L112.177 47.2441  Z\n",
       "  \" fill=\"#ffffff\" fill-rule=\"evenodd\" fill-opacity=\"1\"/>\n",
       "<defs>\n",
       "  <clipPath id=\"clip292\">\n",
       "    <rect x=\"112\" y=\"47\" width=\"2242\" height=\"1440\"/>\n",
       "  </clipPath>\n",
       "</defs>\n",
       "<polyline clip-path=\"url(#clip292)\" style=\"stroke:#000000; stroke-width:2; stroke-opacity:0.1; fill:none\" points=\"\n",
       "  175.59,1486.45 175.59,47.2441 \n",
       "  \"/>\n",
       "<polyline clip-path=\"url(#clip292)\" style=\"stroke:#000000; stroke-width:2; stroke-opacity:0.1; fill:none\" points=\"\n",
       "  598.34,1486.45 598.34,47.2441 \n",
       "  \"/>\n",
       "<polyline clip-path=\"url(#clip292)\" style=\"stroke:#000000; stroke-width:2; stroke-opacity:0.1; fill:none\" points=\"\n",
       "  1021.09,1486.45 1021.09,47.2441 \n",
       "  \"/>\n",
       "<polyline clip-path=\"url(#clip292)\" style=\"stroke:#000000; stroke-width:2; stroke-opacity:0.1; fill:none\" points=\"\n",
       "  1443.84,1486.45 1443.84,47.2441 \n",
       "  \"/>\n",
       "<polyline clip-path=\"url(#clip292)\" style=\"stroke:#000000; stroke-width:2; stroke-opacity:0.1; fill:none\" points=\"\n",
       "  1866.59,1486.45 1866.59,47.2441 \n",
       "  \"/>\n",
       "<polyline clip-path=\"url(#clip292)\" style=\"stroke:#000000; stroke-width:2; stroke-opacity:0.1; fill:none\" points=\"\n",
       "  2289.34,1486.45 2289.34,47.2441 \n",
       "  \"/>\n",
       "<polyline clip-path=\"url(#clip290)\" style=\"stroke:#000000; stroke-width:4; stroke-opacity:1; fill:none\" points=\"\n",
       "  112.177,1486.45 2352.76,1486.45 \n",
       "  \"/>\n",
       "<polyline clip-path=\"url(#clip290)\" style=\"stroke:#000000; stroke-width:4; stroke-opacity:1; fill:none\" points=\"\n",
       "  175.59,1486.45 175.59,1469.18 \n",
       "  \"/>\n",
       "<polyline clip-path=\"url(#clip290)\" style=\"stroke:#000000; stroke-width:4; stroke-opacity:1; fill:none\" points=\"\n",
       "  598.34,1486.45 598.34,1469.18 \n",
       "  \"/>\n",
       "<polyline clip-path=\"url(#clip290)\" style=\"stroke:#000000; stroke-width:4; stroke-opacity:1; fill:none\" points=\"\n",
       "  1021.09,1486.45 1021.09,1469.18 \n",
       "  \"/>\n",
       "<polyline clip-path=\"url(#clip290)\" style=\"stroke:#000000; stroke-width:4; stroke-opacity:1; fill:none\" points=\"\n",
       "  1443.84,1486.45 1443.84,1469.18 \n",
       "  \"/>\n",
       "<polyline clip-path=\"url(#clip290)\" style=\"stroke:#000000; stroke-width:4; stroke-opacity:1; fill:none\" points=\"\n",
       "  1866.59,1486.45 1866.59,1469.18 \n",
       "  \"/>\n",
       "<polyline clip-path=\"url(#clip290)\" style=\"stroke:#000000; stroke-width:4; stroke-opacity:1; fill:none\" points=\"\n",
       "  2289.34,1486.45 2289.34,1469.18 \n",
       "  \"/>\n",
       "<path clip-path=\"url(#clip290)\" d=\"M 0 0 M175.59 1515.64 Q171.979 1515.64 170.15 1519.2 Q168.344 1522.75 168.344 1529.87 Q168.344 1536.98 170.15 1540.55 Q171.979 1544.09 175.59 1544.09 Q179.224 1544.09 181.03 1540.55 Q182.858 1536.98 182.858 1529.87 Q182.858 1522.75 181.03 1519.2 Q179.224 1515.64 175.59 1515.64 M175.59 1511.93 Q181.4 1511.93 184.455 1516.54 Q187.534 1521.12 187.534 1529.87 Q187.534 1538.6 184.455 1543.21 Q181.4 1547.79 175.59 1547.79 Q169.78 1547.79 166.701 1543.21 Q163.645 1538.6 163.645 1529.87 Q163.645 1521.12 166.701 1516.54 Q169.78 1511.93 175.59 1511.93 Z\" fill=\"#000000\" fill-rule=\"evenodd\" fill-opacity=\"1\" /><path clip-path=\"url(#clip290)\" d=\"M 0 0 M588.722 1543.18 L596.361 1543.18 L596.361 1516.82 L588.051 1518.49 L588.051 1514.23 L596.315 1512.56 L600.991 1512.56 L600.991 1543.18 L608.63 1543.18 L608.63 1547.12 L588.722 1547.12 L588.722 1543.18 Z\" fill=\"#000000\" fill-rule=\"evenodd\" fill-opacity=\"1\" /><path clip-path=\"url(#clip290)\" d=\"M 0 0 M1015.74 1543.18 L1032.06 1543.18 L1032.06 1547.12 L1010.12 1547.12 L1010.12 1543.18 Q1012.78 1540.43 1017.36 1535.8 Q1021.97 1531.15 1023.15 1529.81 Q1025.4 1527.28 1026.28 1525.55 Q1027.18 1523.79 1027.18 1522.1 Q1027.18 1519.34 1025.23 1517.61 Q1023.31 1515.87 1020.21 1515.87 Q1018.01 1515.87 1015.56 1516.63 Q1013.13 1517.4 1010.35 1518.95 L1010.35 1514.23 Q1013.17 1513.09 1015.63 1512.51 Q1018.08 1511.93 1020.12 1511.93 Q1025.49 1511.93 1028.68 1514.62 Q1031.88 1517.31 1031.88 1521.8 Q1031.88 1523.93 1031.07 1525.85 Q1030.28 1527.74 1028.17 1530.34 Q1027.6 1531.01 1024.49 1534.23 Q1021.39 1537.42 1015.74 1543.18 Z\" fill=\"#000000\" fill-rule=\"evenodd\" fill-opacity=\"1\" /><path clip-path=\"url(#clip290)\" d=\"M 0 0 M1448.09 1528.49 Q1451.45 1529.2 1453.32 1531.47 Q1455.22 1533.74 1455.22 1537.07 Q1455.22 1542.19 1451.7 1544.99 Q1448.18 1547.79 1441.7 1547.79 Q1439.52 1547.79 1437.21 1547.35 Q1434.92 1546.93 1432.46 1546.08 L1432.46 1541.56 Q1434.41 1542.7 1436.72 1543.28 Q1439.04 1543.86 1441.56 1543.86 Q1445.96 1543.86 1448.25 1542.12 Q1450.57 1540.38 1450.57 1537.07 Q1450.57 1534.02 1448.41 1532.31 Q1446.28 1530.57 1442.46 1530.57 L1438.44 1530.57 L1438.44 1526.73 L1442.65 1526.73 Q1446.1 1526.73 1447.93 1525.36 Q1449.76 1523.97 1449.76 1521.38 Q1449.76 1518.72 1447.86 1517.31 Q1445.98 1515.87 1442.46 1515.87 Q1440.54 1515.87 1438.34 1516.29 Q1436.15 1516.7 1433.51 1517.58 L1433.51 1513.42 Q1436.17 1512.68 1438.48 1512.31 Q1440.82 1511.93 1442.88 1511.93 Q1448.21 1511.93 1451.31 1514.37 Q1454.41 1516.77 1454.41 1520.89 Q1454.41 1523.76 1452.77 1525.75 Q1451.12 1527.72 1448.09 1528.49 Z\" fill=\"#000000\" fill-rule=\"evenodd\" fill-opacity=\"1\" /><path clip-path=\"url(#clip290)\" d=\"M 0 0 M1869.6 1516.63 L1857.8 1535.08 L1869.6 1535.08 L1869.6 1516.63 M1868.37 1512.56 L1874.25 1512.56 L1874.25 1535.08 L1879.19 1535.08 L1879.19 1538.97 L1874.25 1538.97 L1874.25 1547.12 L1869.6 1547.12 L1869.6 1538.97 L1854 1538.97 L1854 1534.46 L1868.37 1512.56 Z\" fill=\"#000000\" fill-rule=\"evenodd\" fill-opacity=\"1\" /><path clip-path=\"url(#clip290)\" d=\"M 0 0 M2279.62 1512.56 L2297.98 1512.56 L2297.98 1516.5 L2283.9 1516.5 L2283.9 1524.97 Q2284.92 1524.62 2285.94 1524.46 Q2286.96 1524.27 2287.98 1524.27 Q2293.76 1524.27 2297.14 1527.44 Q2300.52 1530.62 2300.52 1536.03 Q2300.52 1541.61 2297.05 1544.71 Q2293.58 1547.79 2287.26 1547.79 Q2285.08 1547.79 2282.82 1547.42 Q2280.57 1547.05 2278.16 1546.31 L2278.16 1541.61 Q2280.25 1542.74 2282.47 1543.3 Q2284.69 1543.86 2287.17 1543.86 Q2291.17 1543.86 2293.51 1541.75 Q2295.85 1539.64 2295.85 1536.03 Q2295.85 1532.42 2293.51 1530.31 Q2291.17 1528.21 2287.17 1528.21 Q2285.29 1528.21 2283.42 1528.62 Q2281.57 1529.04 2279.62 1529.92 L2279.62 1512.56 Z\" fill=\"#000000\" fill-rule=\"evenodd\" fill-opacity=\"1\" /><polyline clip-path=\"url(#clip292)\" style=\"stroke:#000000; stroke-width:2; stroke-opacity:0.1; fill:none\" points=\"\n",
       "  112.177,1391.43 2352.76,1391.43 \n",
       "  \"/>\n",
       "<polyline clip-path=\"url(#clip292)\" style=\"stroke:#000000; stroke-width:2; stroke-opacity:0.1; fill:none\" points=\"\n",
       "  112.177,1174.18 2352.76,1174.18 \n",
       "  \"/>\n",
       "<polyline clip-path=\"url(#clip292)\" style=\"stroke:#000000; stroke-width:2; stroke-opacity:0.1; fill:none\" points=\"\n",
       "  112.177,956.943 2352.76,956.943 \n",
       "  \"/>\n",
       "<polyline clip-path=\"url(#clip292)\" style=\"stroke:#000000; stroke-width:2; stroke-opacity:0.1; fill:none\" points=\"\n",
       "  112.177,739.701 2352.76,739.701 \n",
       "  \"/>\n",
       "<polyline clip-path=\"url(#clip292)\" style=\"stroke:#000000; stroke-width:2; stroke-opacity:0.1; fill:none\" points=\"\n",
       "  112.177,522.46 2352.76,522.46 \n",
       "  \"/>\n",
       "<polyline clip-path=\"url(#clip292)\" style=\"stroke:#000000; stroke-width:2; stroke-opacity:0.1; fill:none\" points=\"\n",
       "  112.177,305.218 2352.76,305.218 \n",
       "  \"/>\n",
       "<polyline clip-path=\"url(#clip292)\" style=\"stroke:#000000; stroke-width:2; stroke-opacity:0.1; fill:none\" points=\"\n",
       "  112.177,87.9763 2352.76,87.9763 \n",
       "  \"/>\n",
       "<polyline clip-path=\"url(#clip290)\" style=\"stroke:#000000; stroke-width:4; stroke-opacity:1; fill:none\" points=\"\n",
       "  112.177,1486.45 112.177,47.2441 \n",
       "  \"/>\n",
       "<polyline clip-path=\"url(#clip290)\" style=\"stroke:#000000; stroke-width:4; stroke-opacity:1; fill:none\" points=\"\n",
       "  112.177,1391.43 139.064,1391.43 \n",
       "  \"/>\n",
       "<polyline clip-path=\"url(#clip290)\" style=\"stroke:#000000; stroke-width:4; stroke-opacity:1; fill:none\" points=\"\n",
       "  112.177,1174.18 139.064,1174.18 \n",
       "  \"/>\n",
       "<polyline clip-path=\"url(#clip290)\" style=\"stroke:#000000; stroke-width:4; stroke-opacity:1; fill:none\" points=\"\n",
       "  112.177,956.943 139.064,956.943 \n",
       "  \"/>\n",
       "<polyline clip-path=\"url(#clip290)\" style=\"stroke:#000000; stroke-width:4; stroke-opacity:1; fill:none\" points=\"\n",
       "  112.177,739.701 139.064,739.701 \n",
       "  \"/>\n",
       "<polyline clip-path=\"url(#clip290)\" style=\"stroke:#000000; stroke-width:4; stroke-opacity:1; fill:none\" points=\"\n",
       "  112.177,522.46 139.064,522.46 \n",
       "  \"/>\n",
       "<polyline clip-path=\"url(#clip290)\" style=\"stroke:#000000; stroke-width:4; stroke-opacity:1; fill:none\" points=\"\n",
       "  112.177,305.218 139.064,305.218 \n",
       "  \"/>\n",
       "<polyline clip-path=\"url(#clip290)\" style=\"stroke:#000000; stroke-width:4; stroke-opacity:1; fill:none\" points=\"\n",
       "  112.177,87.9763 139.064,87.9763 \n",
       "  \"/>\n",
       "<path clip-path=\"url(#clip290)\" d=\"M 0 0 M64.2328 1377.22 Q60.6217 1377.22 58.793 1380.79 Q56.9875 1384.33 56.9875 1391.46 Q56.9875 1398.57 58.793 1402.13 Q60.6217 1405.67 64.2328 1405.67 Q67.867 1405.67 69.6726 1402.13 Q71.5013 1398.57 71.5013 1391.46 Q71.5013 1384.33 69.6726 1380.79 Q67.867 1377.22 64.2328 1377.22 M64.2328 1373.52 Q70.0429 1373.52 73.0985 1378.13 Q76.1772 1382.71 76.1772 1391.46 Q76.1772 1400.19 73.0985 1404.79 Q70.0429 1409.38 64.2328 1409.38 Q58.4226 1409.38 55.344 1404.79 Q52.2884 1400.19 52.2884 1391.46 Q52.2884 1382.71 55.344 1378.13 Q58.4226 1373.52 64.2328 1373.52 Z\" fill=\"#000000\" fill-rule=\"evenodd\" fill-opacity=\"1\" /><path clip-path=\"url(#clip290)\" d=\"M 0 0 M56.2699 1187.53 L63.9087 1187.53 L63.9087 1161.16 L55.5986 1162.83 L55.5986 1158.57 L63.8624 1156.9 L68.5383 1156.9 L68.5383 1187.53 L76.1772 1187.53 L76.1772 1191.46 L56.2699 1191.46 L56.2699 1187.53 Z\" fill=\"#000000\" fill-rule=\"evenodd\" fill-opacity=\"1\" /><path clip-path=\"url(#clip290)\" d=\"M 0 0 M59.8578 970.288 L76.1772 970.288 L76.1772 974.223 L54.2328 974.223 L54.2328 970.288 Q56.8949 967.533 61.4782 962.903 Q66.0846 958.251 67.2652 956.908 Q69.5105 954.385 70.3902 952.649 Q71.2929 950.89 71.2929 949.2 Q71.2929 946.445 69.3485 944.709 Q67.4272 942.973 64.3254 942.973 Q62.1263 942.973 59.6726 943.737 Q57.2421 944.501 54.4643 946.052 L54.4643 941.329 Q57.2884 940.195 59.7421 939.616 Q62.1958 939.038 64.2328 939.038 Q69.6031 939.038 72.7976 941.723 Q75.992 944.408 75.992 948.899 Q75.992 951.028 75.1818 952.95 Q74.3948 954.848 72.2883 957.44 Q71.7096 958.112 68.6078 961.329 Q65.5059 964.524 59.8578 970.288 Z\" fill=\"#000000\" fill-rule=\"evenodd\" fill-opacity=\"1\" /><path clip-path=\"url(#clip290)\" d=\"M 0 0 M69.0476 738.347 Q72.404 739.065 74.279 741.333 Q76.1772 743.602 76.1772 746.935 Q76.1772 752.051 72.6587 754.852 Q69.1402 757.652 62.6587 757.652 Q60.4828 757.652 58.168 757.213 Q55.8764 756.796 53.4227 755.939 L53.4227 751.426 Q55.3671 752.56 57.6819 753.139 Q59.9967 753.717 62.5198 753.717 Q66.918 753.717 69.2096 751.981 Q71.5244 750.245 71.5244 746.935 Q71.5244 743.879 69.3717 742.166 Q67.242 740.43 63.4226 740.43 L59.3949 740.43 L59.3949 736.588 L63.6078 736.588 Q67.0569 736.588 68.8855 735.222 Q70.7142 733.833 70.7142 731.241 Q70.7142 728.579 68.8161 727.166 Q66.9411 725.731 63.4226 725.731 Q61.5013 725.731 59.3023 726.148 Q57.1032 726.565 54.4643 727.444 L54.4643 723.278 Q57.1264 722.537 59.4412 722.167 Q61.7791 721.796 63.8393 721.796 Q69.1633 721.796 72.2652 724.227 Q75.367 726.634 75.367 730.754 Q75.367 733.625 73.7235 735.616 Q72.08 737.583 69.0476 738.347 Z\" fill=\"#000000\" fill-rule=\"evenodd\" fill-opacity=\"1\" /><path clip-path=\"url(#clip290)\" d=\"M 0 0 M66.5939 509.254 L54.7884 527.703 L66.5939 527.703 L66.5939 509.254 M65.367 505.18 L71.2466 505.18 L71.2466 527.703 L76.1772 527.703 L76.1772 531.591 L71.2466 531.591 L71.2466 539.74 L66.5939 539.74 L66.5939 531.591 L50.9921 531.591 L50.9921 527.078 L65.367 505.18 Z\" fill=\"#000000\" fill-rule=\"evenodd\" fill-opacity=\"1\" /><path clip-path=\"url(#clip290)\" d=\"M 0 0 M55.2745 287.938 L73.6309 287.938 L73.6309 291.873 L59.5569 291.873 L59.5569 300.345 Q60.5754 299.998 61.5939 299.836 Q62.6124 299.651 63.6309 299.651 Q69.418 299.651 72.7976 302.822 Q76.1772 305.993 76.1772 311.41 Q76.1772 316.989 72.705 320.091 Q69.2328 323.169 62.9134 323.169 Q60.7374 323.169 58.4689 322.799 Q56.2236 322.428 53.8162 321.688 L53.8162 316.989 Q55.8995 318.123 58.1217 318.678 Q60.3439 319.234 62.8208 319.234 Q66.8254 319.234 69.1633 317.128 Q71.5013 315.021 71.5013 311.41 Q71.5013 307.799 69.1633 305.692 Q66.8254 303.586 62.8208 303.586 Q60.9458 303.586 59.0708 304.003 Q57.2189 304.419 55.2745 305.299 L55.2745 287.938 Z\" fill=\"#000000\" fill-rule=\"evenodd\" fill-opacity=\"1\" /><path clip-path=\"url(#clip290)\" d=\"M 0 0 M64.6495 86.1129 Q61.5013 86.1129 59.6495 88.2656 Q57.8208 90.4184 57.8208 94.1684 Q57.8208 97.8952 59.6495 100.071 Q61.5013 102.224 64.6495 102.224 Q67.7976 102.224 69.6263 100.071 Q71.4781 97.8952 71.4781 94.1684 Q71.4781 90.4184 69.6263 88.2656 Q67.7976 86.1129 64.6495 86.1129 M73.9318 71.4602 L73.9318 75.7194 Q72.1726 74.8861 70.367 74.4463 Q68.5846 74.0064 66.8254 74.0064 Q62.1958 74.0064 59.7421 77.1314 Q57.3115 80.2564 56.9643 86.5758 Q58.33 84.5619 60.3902 83.4971 Q62.4504 82.4092 64.9272 82.4092 Q70.1355 82.4092 73.1448 85.5805 Q76.1772 88.7286 76.1772 94.1684 Q76.1772 99.4924 73.029 102.71 Q69.8809 105.928 64.6495 105.928 Q58.6541 105.928 55.4828 101.344 Q52.3116 96.7378 52.3116 88.011 Q52.3116 79.8166 56.2004 74.9555 Q60.0893 70.0713 66.6402 70.0713 Q68.3994 70.0713 70.1818 70.4185 Q71.9874 70.7657 73.9318 71.4602 Z\" fill=\"#000000\" fill-rule=\"evenodd\" fill-opacity=\"1\" /><polyline clip-path=\"url(#clip292)\" style=\"stroke:#009af9; stroke-width:4; stroke-opacity:1; fill:none\" points=\"\n",
       "  175.59,87.9763 185.911,114.366 196.232,140.497 291.667,369.845 387.102,577.052 444.455,690.923 501.807,796.797 550.298,880.074 598.789,957.634 651.463,1035.41 \n",
       "  704.138,1106.44 752.699,1165.94 801.261,1219.72 853.323,1271 905.386,1315.69 965.706,1359.24 1026.03,1393.93 1079.63,1417.34 1133.24,1433.77 1180.24,1442.42 \n",
       "  1227.25,1445.7 1278.5,1443.16 1329.75,1434.23 1381.31,1418.81 1432.86,1396.92 1489.86,1365.2 1546.86,1325.59 1601.1,1280.56 1655.33,1228.38 1711.72,1166.54 \n",
       "  1768.11,1096.97 1815.58,1032.42 1863.05,962.387 1921.01,869.458 1978.96,768.364 2033.44,665.887 2087.92,556.194 2175.2,365.418 2262.48,156.123 2275.91,122.269 \n",
       "  2289.34,87.9763 \n",
       "  \"/>\n",
       "<circle clip-path=\"url(#clip292)\" cx=\"1228.34\" cy=\"1445.72\" r=\"14\" fill=\"#e26f46\" fill-rule=\"evenodd\" fill-opacity=\"1\" stroke=\"#000000\" stroke-opacity=\"1\" stroke-width=\"3.2\"/>\n",
       "</svg>\n"
      ]
     },
     "execution_count": 86,
     "metadata": {},
     "output_type": "execute_result"
    }
   ],
   "source": [
    "#Teste 1\n",
    "\n",
    "f(x) = x^2 - 5x + 6\n",
    "fd(x) = 2x - 5\n",
    "p = achar_um_ponto_critico_de_uma_funcao(fd, 0, 5)\n",
    "\n",
    "plot(f, 0, 5)\n",
    "scatter!(p:p, [f(p)], leg=false)"
   ]
  },
  {
   "cell_type": "code",
   "execution_count": 87,
   "metadata": {},
   "outputs": [
    {
     "name": "stdout",
     "output_type": "stream",
     "text": [
      "Any[[0.0, 2.5], [2.5, 5.0]]\n"
     ]
    },
    {
     "data": {
      "image/svg+xml": [
       "<?xml version=\"1.0\" encoding=\"utf-8\"?>\n",
       "<svg xmlns=\"http://www.w3.org/2000/svg\" xmlns:xlink=\"http://www.w3.org/1999/xlink\" width=\"600\" height=\"400\" viewBox=\"0 0 2400 1600\">\n",
       "<defs>\n",
       "  <clipPath id=\"clip330\">\n",
       "    <rect x=\"0\" y=\"0\" width=\"2400\" height=\"1600\"/>\n",
       "  </clipPath>\n",
       "</defs>\n",
       "<path clip-path=\"url(#clip330)\" d=\"\n",
       "M0 1600 L2400 1600 L2400 0 L0 0  Z\n",
       "  \" fill=\"#ffffff\" fill-rule=\"evenodd\" fill-opacity=\"1\"/>\n",
       "<defs>\n",
       "  <clipPath id=\"clip331\">\n",
       "    <rect x=\"480\" y=\"0\" width=\"1681\" height=\"1600\"/>\n",
       "  </clipPath>\n",
       "</defs>\n",
       "<path clip-path=\"url(#clip330)\" d=\"\n",
       "M112.177 1486.45 L2352.76 1486.45 L2352.76 47.2441 L112.177 47.2441  Z\n",
       "  \" fill=\"#ffffff\" fill-rule=\"evenodd\" fill-opacity=\"1\"/>\n",
       "<defs>\n",
       "  <clipPath id=\"clip332\">\n",
       "    <rect x=\"112\" y=\"47\" width=\"2242\" height=\"1440\"/>\n",
       "  </clipPath>\n",
       "</defs>\n",
       "<polyline clip-path=\"url(#clip332)\" style=\"stroke:#000000; stroke-width:2; stroke-opacity:0.1; fill:none\" points=\"\n",
       "  175.59,1486.45 175.59,47.2441 \n",
       "  \"/>\n",
       "<polyline clip-path=\"url(#clip332)\" style=\"stroke:#000000; stroke-width:2; stroke-opacity:0.1; fill:none\" points=\"\n",
       "  598.34,1486.45 598.34,47.2441 \n",
       "  \"/>\n",
       "<polyline clip-path=\"url(#clip332)\" style=\"stroke:#000000; stroke-width:2; stroke-opacity:0.1; fill:none\" points=\"\n",
       "  1021.09,1486.45 1021.09,47.2441 \n",
       "  \"/>\n",
       "<polyline clip-path=\"url(#clip332)\" style=\"stroke:#000000; stroke-width:2; stroke-opacity:0.1; fill:none\" points=\"\n",
       "  1443.84,1486.45 1443.84,47.2441 \n",
       "  \"/>\n",
       "<polyline clip-path=\"url(#clip332)\" style=\"stroke:#000000; stroke-width:2; stroke-opacity:0.1; fill:none\" points=\"\n",
       "  1866.59,1486.45 1866.59,47.2441 \n",
       "  \"/>\n",
       "<polyline clip-path=\"url(#clip332)\" style=\"stroke:#000000; stroke-width:2; stroke-opacity:0.1; fill:none\" points=\"\n",
       "  2289.34,1486.45 2289.34,47.2441 \n",
       "  \"/>\n",
       "<polyline clip-path=\"url(#clip330)\" style=\"stroke:#000000; stroke-width:4; stroke-opacity:1; fill:none\" points=\"\n",
       "  112.177,1486.45 2352.76,1486.45 \n",
       "  \"/>\n",
       "<polyline clip-path=\"url(#clip330)\" style=\"stroke:#000000; stroke-width:4; stroke-opacity:1; fill:none\" points=\"\n",
       "  175.59,1486.45 175.59,1469.18 \n",
       "  \"/>\n",
       "<polyline clip-path=\"url(#clip330)\" style=\"stroke:#000000; stroke-width:4; stroke-opacity:1; fill:none\" points=\"\n",
       "  598.34,1486.45 598.34,1469.18 \n",
       "  \"/>\n",
       "<polyline clip-path=\"url(#clip330)\" style=\"stroke:#000000; stroke-width:4; stroke-opacity:1; fill:none\" points=\"\n",
       "  1021.09,1486.45 1021.09,1469.18 \n",
       "  \"/>\n",
       "<polyline clip-path=\"url(#clip330)\" style=\"stroke:#000000; stroke-width:4; stroke-opacity:1; fill:none\" points=\"\n",
       "  1443.84,1486.45 1443.84,1469.18 \n",
       "  \"/>\n",
       "<polyline clip-path=\"url(#clip330)\" style=\"stroke:#000000; stroke-width:4; stroke-opacity:1; fill:none\" points=\"\n",
       "  1866.59,1486.45 1866.59,1469.18 \n",
       "  \"/>\n",
       "<polyline clip-path=\"url(#clip330)\" style=\"stroke:#000000; stroke-width:4; stroke-opacity:1; fill:none\" points=\"\n",
       "  2289.34,1486.45 2289.34,1469.18 \n",
       "  \"/>\n",
       "<path clip-path=\"url(#clip330)\" d=\"M 0 0 M175.59 1515.64 Q171.979 1515.64 170.15 1519.2 Q168.344 1522.75 168.344 1529.87 Q168.344 1536.98 170.15 1540.55 Q171.979 1544.09 175.59 1544.09 Q179.224 1544.09 181.03 1540.55 Q182.858 1536.98 182.858 1529.87 Q182.858 1522.75 181.03 1519.2 Q179.224 1515.64 175.59 1515.64 M175.59 1511.93 Q181.4 1511.93 184.455 1516.54 Q187.534 1521.12 187.534 1529.87 Q187.534 1538.6 184.455 1543.21 Q181.4 1547.79 175.59 1547.79 Q169.78 1547.79 166.701 1543.21 Q163.645 1538.6 163.645 1529.87 Q163.645 1521.12 166.701 1516.54 Q169.78 1511.93 175.59 1511.93 Z\" fill=\"#000000\" fill-rule=\"evenodd\" fill-opacity=\"1\" /><path clip-path=\"url(#clip330)\" d=\"M 0 0 M588.722 1543.18 L596.361 1543.18 L596.361 1516.82 L588.051 1518.49 L588.051 1514.23 L596.315 1512.56 L600.991 1512.56 L600.991 1543.18 L608.63 1543.18 L608.63 1547.12 L588.722 1547.12 L588.722 1543.18 Z\" fill=\"#000000\" fill-rule=\"evenodd\" fill-opacity=\"1\" /><path clip-path=\"url(#clip330)\" d=\"M 0 0 M1015.74 1543.18 L1032.06 1543.18 L1032.06 1547.12 L1010.12 1547.12 L1010.12 1543.18 Q1012.78 1540.43 1017.36 1535.8 Q1021.97 1531.15 1023.15 1529.81 Q1025.4 1527.28 1026.28 1525.55 Q1027.18 1523.79 1027.18 1522.1 Q1027.18 1519.34 1025.23 1517.61 Q1023.31 1515.87 1020.21 1515.87 Q1018.01 1515.87 1015.56 1516.63 Q1013.13 1517.4 1010.35 1518.95 L1010.35 1514.23 Q1013.17 1513.09 1015.63 1512.51 Q1018.08 1511.93 1020.12 1511.93 Q1025.49 1511.93 1028.68 1514.62 Q1031.88 1517.31 1031.88 1521.8 Q1031.88 1523.93 1031.07 1525.85 Q1030.28 1527.74 1028.17 1530.34 Q1027.6 1531.01 1024.49 1534.23 Q1021.39 1537.42 1015.74 1543.18 Z\" fill=\"#000000\" fill-rule=\"evenodd\" fill-opacity=\"1\" /><path clip-path=\"url(#clip330)\" d=\"M 0 0 M1448.09 1528.49 Q1451.45 1529.2 1453.32 1531.47 Q1455.22 1533.74 1455.22 1537.07 Q1455.22 1542.19 1451.7 1544.99 Q1448.18 1547.79 1441.7 1547.79 Q1439.52 1547.79 1437.21 1547.35 Q1434.92 1546.93 1432.46 1546.08 L1432.46 1541.56 Q1434.41 1542.7 1436.72 1543.28 Q1439.04 1543.86 1441.56 1543.86 Q1445.96 1543.86 1448.25 1542.12 Q1450.57 1540.38 1450.57 1537.07 Q1450.57 1534.02 1448.41 1532.31 Q1446.28 1530.57 1442.46 1530.57 L1438.44 1530.57 L1438.44 1526.73 L1442.65 1526.73 Q1446.1 1526.73 1447.93 1525.36 Q1449.76 1523.97 1449.76 1521.38 Q1449.76 1518.72 1447.86 1517.31 Q1445.98 1515.87 1442.46 1515.87 Q1440.54 1515.87 1438.34 1516.29 Q1436.15 1516.7 1433.51 1517.58 L1433.51 1513.42 Q1436.17 1512.68 1438.48 1512.31 Q1440.82 1511.93 1442.88 1511.93 Q1448.21 1511.93 1451.31 1514.37 Q1454.41 1516.77 1454.41 1520.89 Q1454.41 1523.76 1452.77 1525.75 Q1451.12 1527.72 1448.09 1528.49 Z\" fill=\"#000000\" fill-rule=\"evenodd\" fill-opacity=\"1\" /><path clip-path=\"url(#clip330)\" d=\"M 0 0 M1869.6 1516.63 L1857.8 1535.08 L1869.6 1535.08 L1869.6 1516.63 M1868.37 1512.56 L1874.25 1512.56 L1874.25 1535.08 L1879.19 1535.08 L1879.19 1538.97 L1874.25 1538.97 L1874.25 1547.12 L1869.6 1547.12 L1869.6 1538.97 L1854 1538.97 L1854 1534.46 L1868.37 1512.56 Z\" fill=\"#000000\" fill-rule=\"evenodd\" fill-opacity=\"1\" /><path clip-path=\"url(#clip330)\" d=\"M 0 0 M2279.62 1512.56 L2297.98 1512.56 L2297.98 1516.5 L2283.9 1516.5 L2283.9 1524.97 Q2284.92 1524.62 2285.94 1524.46 Q2286.96 1524.27 2287.98 1524.27 Q2293.76 1524.27 2297.14 1527.44 Q2300.52 1530.62 2300.52 1536.03 Q2300.52 1541.61 2297.05 1544.71 Q2293.58 1547.79 2287.26 1547.79 Q2285.08 1547.79 2282.82 1547.42 Q2280.57 1547.05 2278.16 1546.31 L2278.16 1541.61 Q2280.25 1542.74 2282.47 1543.3 Q2284.69 1543.86 2287.17 1543.86 Q2291.17 1543.86 2293.51 1541.75 Q2295.85 1539.64 2295.85 1536.03 Q2295.85 1532.42 2293.51 1530.31 Q2291.17 1528.21 2287.17 1528.21 Q2285.29 1528.21 2283.42 1528.62 Q2281.57 1529.04 2279.62 1529.92 L2279.62 1512.56 Z\" fill=\"#000000\" fill-rule=\"evenodd\" fill-opacity=\"1\" /><polyline clip-path=\"url(#clip332)\" style=\"stroke:#000000; stroke-width:2; stroke-opacity:0.1; fill:none\" points=\"\n",
       "  112.177,1445.72 2352.76,1445.72 \n",
       "  \"/>\n",
       "<polyline clip-path=\"url(#clip332)\" style=\"stroke:#000000; stroke-width:2; stroke-opacity:0.1; fill:none\" points=\"\n",
       "  112.177,1149.48 2352.76,1149.48 \n",
       "  \"/>\n",
       "<polyline clip-path=\"url(#clip332)\" style=\"stroke:#000000; stroke-width:2; stroke-opacity:0.1; fill:none\" points=\"\n",
       "  112.177,853.248 2352.76,853.248 \n",
       "  \"/>\n",
       "<polyline clip-path=\"url(#clip332)\" style=\"stroke:#000000; stroke-width:2; stroke-opacity:0.1; fill:none\" points=\"\n",
       "  112.177,557.014 2352.76,557.014 \n",
       "  \"/>\n",
       "<polyline clip-path=\"url(#clip332)\" style=\"stroke:#000000; stroke-width:2; stroke-opacity:0.1; fill:none\" points=\"\n",
       "  112.177,260.779 2352.76,260.779 \n",
       "  \"/>\n",
       "<polyline clip-path=\"url(#clip330)\" style=\"stroke:#000000; stroke-width:4; stroke-opacity:1; fill:none\" points=\"\n",
       "  112.177,1486.45 112.177,47.2441 \n",
       "  \"/>\n",
       "<polyline clip-path=\"url(#clip330)\" style=\"stroke:#000000; stroke-width:4; stroke-opacity:1; fill:none\" points=\"\n",
       "  112.177,1445.72 139.064,1445.72 \n",
       "  \"/>\n",
       "<polyline clip-path=\"url(#clip330)\" style=\"stroke:#000000; stroke-width:4; stroke-opacity:1; fill:none\" points=\"\n",
       "  112.177,1149.48 139.064,1149.48 \n",
       "  \"/>\n",
       "<polyline clip-path=\"url(#clip330)\" style=\"stroke:#000000; stroke-width:4; stroke-opacity:1; fill:none\" points=\"\n",
       "  112.177,853.248 139.064,853.248 \n",
       "  \"/>\n",
       "<polyline clip-path=\"url(#clip330)\" style=\"stroke:#000000; stroke-width:4; stroke-opacity:1; fill:none\" points=\"\n",
       "  112.177,557.014 139.064,557.014 \n",
       "  \"/>\n",
       "<polyline clip-path=\"url(#clip330)\" style=\"stroke:#000000; stroke-width:4; stroke-opacity:1; fill:none\" points=\"\n",
       "  112.177,260.779 139.064,260.779 \n",
       "  \"/>\n",
       "<path clip-path=\"url(#clip330)\" d=\"M 0 0 M64.2328 1431.51 Q60.6217 1431.51 58.793 1435.08 Q56.9875 1438.62 56.9875 1445.75 Q56.9875 1452.86 58.793 1456.42 Q60.6217 1459.96 64.2328 1459.96 Q67.867 1459.96 69.6726 1456.42 Q71.5013 1452.86 71.5013 1445.75 Q71.5013 1438.62 69.6726 1435.08 Q67.867 1431.51 64.2328 1431.51 M64.2328 1427.81 Q70.0429 1427.81 73.0985 1432.42 Q76.1772 1437 76.1772 1445.75 Q76.1772 1454.48 73.0985 1459.08 Q70.0429 1463.67 64.2328 1463.67 Q58.4226 1463.67 55.344 1459.08 Q52.2884 1454.48 52.2884 1445.75 Q52.2884 1437 55.344 1432.42 Q58.4226 1427.81 64.2328 1427.81 Z\" fill=\"#000000\" fill-rule=\"evenodd\" fill-opacity=\"1\" /><path clip-path=\"url(#clip330)\" d=\"M 0 0 M59.8578 1162.83 L76.1772 1162.83 L76.1772 1166.76 L54.2328 1166.76 L54.2328 1162.83 Q56.8949 1160.07 61.4782 1155.44 Q66.0846 1150.79 67.2652 1149.45 Q69.5105 1146.92 70.3902 1145.19 Q71.2929 1143.43 71.2929 1141.74 Q71.2929 1138.98 69.3485 1137.25 Q67.4272 1135.51 64.3254 1135.51 Q62.1263 1135.51 59.6726 1136.28 Q57.2421 1137.04 54.4643 1138.59 L54.4643 1133.87 Q57.2884 1132.73 59.7421 1132.16 Q62.1958 1131.58 64.2328 1131.58 Q69.6031 1131.58 72.7976 1134.26 Q75.992 1136.95 75.992 1141.44 Q75.992 1143.57 75.1818 1145.49 Q74.3948 1147.39 72.2883 1149.98 Q71.7096 1150.65 68.6078 1153.87 Q65.5059 1157.06 59.8578 1162.83 Z\" fill=\"#000000\" fill-rule=\"evenodd\" fill-opacity=\"1\" /><path clip-path=\"url(#clip330)\" d=\"M 0 0 M66.5939 840.042 L54.7884 858.491 L66.5939 858.491 L66.5939 840.042 M65.367 835.968 L71.2466 835.968 L71.2466 858.491 L76.1772 858.491 L76.1772 862.379 L71.2466 862.379 L71.2466 870.528 L66.5939 870.528 L66.5939 862.379 L50.9921 862.379 L50.9921 857.866 L65.367 835.968 Z\" fill=\"#000000\" fill-rule=\"evenodd\" fill-opacity=\"1\" /><path clip-path=\"url(#clip330)\" d=\"M 0 0 M64.6495 555.15 Q61.5013 555.15 59.6495 557.303 Q57.8208 559.456 57.8208 563.206 Q57.8208 566.932 59.6495 569.108 Q61.5013 571.261 64.6495 571.261 Q67.7976 571.261 69.6263 569.108 Q71.4781 566.932 71.4781 563.206 Q71.4781 559.456 69.6263 557.303 Q67.7976 555.15 64.6495 555.15 M73.9318 540.497 L73.9318 544.757 Q72.1726 543.923 70.367 543.484 Q68.5846 543.044 66.8254 543.044 Q62.1958 543.044 59.7421 546.169 Q57.3115 549.294 56.9643 555.613 Q58.33 553.599 60.3902 552.534 Q62.4504 551.446 64.9272 551.446 Q70.1355 551.446 73.1448 554.618 Q76.1772 557.766 76.1772 563.206 Q76.1772 568.53 73.029 571.747 Q69.8809 574.965 64.6495 574.965 Q58.6541 574.965 55.4828 570.382 Q52.3116 565.775 52.3116 557.048 Q52.3116 548.854 56.2004 543.993 Q60.0893 539.109 66.6402 539.109 Q68.3994 539.109 70.1818 539.456 Q71.9874 539.803 73.9318 540.497 Z\" fill=\"#000000\" fill-rule=\"evenodd\" fill-opacity=\"1\" /><path clip-path=\"url(#clip330)\" d=\"M 0 0 M64.3254 261.648 Q60.9921 261.648 59.0708 263.43 Q57.1726 265.212 57.1726 268.337 Q57.1726 271.462 59.0708 273.245 Q60.9921 275.027 64.3254 275.027 Q67.6587 275.027 69.58 273.245 Q71.5013 271.439 71.5013 268.337 Q71.5013 265.212 69.58 263.43 Q67.6819 261.648 64.3254 261.648 M59.6495 259.657 Q56.6402 258.916 54.9504 256.856 Q53.2838 254.796 53.2838 251.833 Q53.2838 247.689 56.2236 245.282 Q59.1865 242.874 64.3254 242.874 Q69.4874 242.874 72.4272 245.282 Q75.367 247.689 75.367 251.833 Q75.367 254.796 73.6772 256.856 Q72.0105 258.916 69.0244 259.657 Q72.404 260.444 74.279 262.735 Q76.1772 265.027 76.1772 268.337 Q76.1772 273.36 73.0985 276.046 Q70.0429 278.731 64.3254 278.731 Q58.6078 278.731 55.5291 276.046 Q52.4736 273.36 52.4736 268.337 Q52.4736 265.027 54.3717 262.735 Q56.2699 260.444 59.6495 259.657 M57.9365 252.273 Q57.9365 254.958 59.6032 256.462 Q61.293 257.967 64.3254 257.967 Q67.3346 257.967 69.0244 256.462 Q70.7374 254.958 70.7374 252.273 Q70.7374 249.587 69.0244 248.083 Q67.3346 246.578 64.3254 246.578 Q61.293 246.578 59.6032 248.083 Q57.9365 249.587 57.9365 252.273 Z\" fill=\"#000000\" fill-rule=\"evenodd\" fill-opacity=\"1\" /><polyline clip-path=\"url(#clip332)\" style=\"stroke:#009af9; stroke-width:4; stroke-opacity:1; fill:none\" points=\"\n",
       "  175.59,1445.72 180.75,1434.92 185.911,1424.24 191.072,1413.66 196.232,1403.2 243.95,1311.48 291.667,1228.59 339.385,1154.1 387.102,1087.59 444.455,1017.59 \n",
       "  501.807,957.75 550.298,914.54 598.789,877.62 651.463,844.119 704.138,816.939 752.699,796.987 801.261,781.471 905.386,761.063 1026.03,754.513 1133.24,758.793 \n",
       "  1227.25,766.389 1329.75,774.766 1432.86,779.14 1546.86,774.077 1655.33,754.473 1711.72,736.891 1768.11,713.334 1815.58,688.355 1863.05,658.224 1921.01,613.843 \n",
       "  1978.96,560.394 2033.44,501.2 2087.92,432.686 2131.56,370.652 2175.2,301.905 2218.84,226.119 2262.48,142.967 2269.2,129.495 2275.91,115.841 2282.63,102.001 \n",
       "  2289.34,87.9763 \n",
       "  \"/>\n",
       "<circle clip-path=\"url(#clip332)\" cx=\"1021.92\" cy=\"754.503\" r=\"14\" fill=\"#e26f46\" fill-rule=\"evenodd\" fill-opacity=\"1\" stroke=\"#000000\" stroke-opacity=\"1\" stroke-width=\"3.2\"/>\n",
       "</svg>\n"
      ]
     },
     "execution_count": 87,
     "metadata": {},
     "output_type": "execute_result"
    }
   ],
   "source": [
    "#Teste 2\n",
    "\n",
    "f(x) = x^3/3 - 5x^2/2 + 6x\n",
    "fd(x) = x^2 - 5x + 6\n",
    "p = achar_um_ponto_critico_de_uma_funcao(fd, 0, 5)\n",
    "\n",
    "plot(f, 0, 5)\n",
    "scatter!(p:p, [f(p)], leg=false)"
   ]
  },
  {
   "cell_type": "code",
   "execution_count": 88,
   "metadata": {},
   "outputs": [
    {
     "name": "stdout",
     "output_type": "stream",
     "text": [
      "Any[[1.5707963267948966, 3.141592653589793]]\n"
     ]
    },
    {
     "data": {
      "image/svg+xml": [
       "<?xml version=\"1.0\" encoding=\"utf-8\"?>\n",
       "<svg xmlns=\"http://www.w3.org/2000/svg\" xmlns:xlink=\"http://www.w3.org/1999/xlink\" width=\"600\" height=\"400\" viewBox=\"0 0 2400 1600\">\n",
       "<defs>\n",
       "  <clipPath id=\"clip370\">\n",
       "    <rect x=\"0\" y=\"0\" width=\"2400\" height=\"1600\"/>\n",
       "  </clipPath>\n",
       "</defs>\n",
       "<path clip-path=\"url(#clip370)\" d=\"\n",
       "M0 1600 L2400 1600 L2400 0 L0 0  Z\n",
       "  \" fill=\"#ffffff\" fill-rule=\"evenodd\" fill-opacity=\"1\"/>\n",
       "<defs>\n",
       "  <clipPath id=\"clip371\">\n",
       "    <rect x=\"480\" y=\"0\" width=\"1681\" height=\"1600\"/>\n",
       "  </clipPath>\n",
       "</defs>\n",
       "<path clip-path=\"url(#clip370)\" d=\"\n",
       "M174.862 1486.45 L2352.76 1486.45 L2352.76 47.2441 L174.862 47.2441  Z\n",
       "  \" fill=\"#ffffff\" fill-rule=\"evenodd\" fill-opacity=\"1\"/>\n",
       "<defs>\n",
       "  <clipPath id=\"clip372\">\n",
       "    <rect x=\"174\" y=\"47\" width=\"2179\" height=\"1440\"/>\n",
       "  </clipPath>\n",
       "</defs>\n",
       "<polyline clip-path=\"url(#clip372)\" style=\"stroke:#000000; stroke-width:2; stroke-opacity:0.1; fill:none\" points=\"\n",
       "  236.501,1486.45 236.501,47.2441 \n",
       "  \"/>\n",
       "<polyline clip-path=\"url(#clip372)\" style=\"stroke:#000000; stroke-width:2; stroke-opacity:0.1; fill:none\" points=\"\n",
       "  890.505,1486.45 890.505,47.2441 \n",
       "  \"/>\n",
       "<polyline clip-path=\"url(#clip372)\" style=\"stroke:#000000; stroke-width:2; stroke-opacity:0.1; fill:none\" points=\"\n",
       "  1544.51,1486.45 1544.51,47.2441 \n",
       "  \"/>\n",
       "<polyline clip-path=\"url(#clip372)\" style=\"stroke:#000000; stroke-width:2; stroke-opacity:0.1; fill:none\" points=\"\n",
       "  2198.52,1486.45 2198.52,47.2441 \n",
       "  \"/>\n",
       "<polyline clip-path=\"url(#clip370)\" style=\"stroke:#000000; stroke-width:4; stroke-opacity:1; fill:none\" points=\"\n",
       "  174.862,1486.45 2352.76,1486.45 \n",
       "  \"/>\n",
       "<polyline clip-path=\"url(#clip370)\" style=\"stroke:#000000; stroke-width:4; stroke-opacity:1; fill:none\" points=\"\n",
       "  236.501,1486.45 236.501,1469.18 \n",
       "  \"/>\n",
       "<polyline clip-path=\"url(#clip370)\" style=\"stroke:#000000; stroke-width:4; stroke-opacity:1; fill:none\" points=\"\n",
       "  890.505,1486.45 890.505,1469.18 \n",
       "  \"/>\n",
       "<polyline clip-path=\"url(#clip370)\" style=\"stroke:#000000; stroke-width:4; stroke-opacity:1; fill:none\" points=\"\n",
       "  1544.51,1486.45 1544.51,1469.18 \n",
       "  \"/>\n",
       "<polyline clip-path=\"url(#clip370)\" style=\"stroke:#000000; stroke-width:4; stroke-opacity:1; fill:none\" points=\"\n",
       "  2198.52,1486.45 2198.52,1469.18 \n",
       "  \"/>\n",
       "<path clip-path=\"url(#clip370)\" d=\"M 0 0 M236.501 1515.64 Q232.889 1515.64 231.061 1519.2 Q229.255 1522.75 229.255 1529.87 Q229.255 1536.98 231.061 1540.55 Q232.889 1544.09 236.501 1544.09 Q240.135 1544.09 241.94 1540.55 Q243.769 1536.98 243.769 1529.87 Q243.769 1522.75 241.94 1519.2 Q240.135 1515.64 236.501 1515.64 M236.501 1511.93 Q242.311 1511.93 245.366 1516.54 Q248.445 1521.12 248.445 1529.87 Q248.445 1538.6 245.366 1543.21 Q242.311 1547.79 236.501 1547.79 Q230.69 1547.79 227.612 1543.21 Q224.556 1538.6 224.556 1529.87 Q224.556 1521.12 227.612 1516.54 Q230.69 1511.93 236.501 1511.93 Z\" fill=\"#000000\" fill-rule=\"evenodd\" fill-opacity=\"1\" /><path clip-path=\"url(#clip370)\" d=\"M 0 0 M880.887 1543.18 L888.526 1543.18 L888.526 1516.82 L880.216 1518.49 L880.216 1514.23 L888.48 1512.56 L893.156 1512.56 L893.156 1543.18 L900.795 1543.18 L900.795 1547.12 L880.887 1547.12 L880.887 1543.18 Z\" fill=\"#000000\" fill-rule=\"evenodd\" fill-opacity=\"1\" /><path clip-path=\"url(#clip370)\" d=\"M 0 0 M1539.16 1543.18 L1555.48 1543.18 L1555.48 1547.12 L1533.54 1547.12 L1533.54 1543.18 Q1536.2 1540.43 1540.78 1535.8 Q1545.39 1531.15 1546.57 1529.81 Q1548.82 1527.28 1549.7 1525.55 Q1550.6 1523.79 1550.6 1522.1 Q1550.6 1519.34 1548.65 1517.61 Q1546.73 1515.87 1543.63 1515.87 Q1541.43 1515.87 1538.98 1516.63 Q1536.55 1517.4 1533.77 1518.95 L1533.77 1514.23 Q1536.59 1513.09 1539.05 1512.51 Q1541.5 1511.93 1543.54 1511.93 Q1548.91 1511.93 1552.1 1514.62 Q1555.3 1517.31 1555.3 1521.8 Q1555.3 1523.93 1554.49 1525.85 Q1553.7 1527.74 1551.59 1530.34 Q1551.01 1531.01 1547.91 1534.23 Q1544.81 1537.42 1539.16 1543.18 Z\" fill=\"#000000\" fill-rule=\"evenodd\" fill-opacity=\"1\" /><path clip-path=\"url(#clip370)\" d=\"M 0 0 M2202.76 1528.49 Q2206.12 1529.2 2207.99 1531.47 Q2209.89 1533.74 2209.89 1537.07 Q2209.89 1542.19 2206.37 1544.99 Q2202.86 1547.79 2196.37 1547.79 Q2194.2 1547.79 2191.88 1547.35 Q2189.59 1546.93 2187.14 1546.08 L2187.14 1541.56 Q2189.08 1542.7 2191.4 1543.28 Q2193.71 1543.86 2196.24 1543.86 Q2200.63 1543.86 2202.92 1542.12 Q2205.24 1540.38 2205.24 1537.07 Q2205.24 1534.02 2203.09 1532.31 Q2200.96 1530.57 2197.14 1530.57 L2193.11 1530.57 L2193.11 1526.73 L2197.32 1526.73 Q2200.77 1526.73 2202.6 1525.36 Q2204.43 1523.97 2204.43 1521.38 Q2204.43 1518.72 2202.53 1517.31 Q2200.66 1515.87 2197.14 1515.87 Q2195.22 1515.87 2193.02 1516.29 Q2190.82 1516.7 2188.18 1517.58 L2188.18 1513.42 Q2190.84 1512.68 2193.16 1512.31 Q2195.49 1511.93 2197.55 1511.93 Q2202.88 1511.93 2205.98 1514.37 Q2209.08 1516.77 2209.08 1520.89 Q2209.08 1523.76 2207.44 1525.75 Q2205.8 1527.72 2202.76 1528.49 Z\" fill=\"#000000\" fill-rule=\"evenodd\" fill-opacity=\"1\" /><polyline clip-path=\"url(#clip372)\" style=\"stroke:#000000; stroke-width:2; stroke-opacity:0.1; fill:none\" points=\"\n",
       "  174.862,1445.72 2352.76,1445.72 \n",
       "  \"/>\n",
       "<polyline clip-path=\"url(#clip372)\" style=\"stroke:#000000; stroke-width:2; stroke-opacity:0.1; fill:none\" points=\"\n",
       "  174.862,1106.27 2352.76,1106.27 \n",
       "  \"/>\n",
       "<polyline clip-path=\"url(#clip372)\" style=\"stroke:#000000; stroke-width:2; stroke-opacity:0.1; fill:none\" points=\"\n",
       "  174.862,766.833 2352.76,766.833 \n",
       "  \"/>\n",
       "<polyline clip-path=\"url(#clip372)\" style=\"stroke:#000000; stroke-width:2; stroke-opacity:0.1; fill:none\" points=\"\n",
       "  174.862,427.392 2352.76,427.392 \n",
       "  \"/>\n",
       "<polyline clip-path=\"url(#clip372)\" style=\"stroke:#000000; stroke-width:2; stroke-opacity:0.1; fill:none\" points=\"\n",
       "  174.862,87.9507 2352.76,87.9507 \n",
       "  \"/>\n",
       "<polyline clip-path=\"url(#clip370)\" style=\"stroke:#000000; stroke-width:4; stroke-opacity:1; fill:none\" points=\"\n",
       "  174.862,1486.45 174.862,47.2441 \n",
       "  \"/>\n",
       "<polyline clip-path=\"url(#clip370)\" style=\"stroke:#000000; stroke-width:4; stroke-opacity:1; fill:none\" points=\"\n",
       "  174.862,1445.72 200.997,1445.72 \n",
       "  \"/>\n",
       "<polyline clip-path=\"url(#clip370)\" style=\"stroke:#000000; stroke-width:4; stroke-opacity:1; fill:none\" points=\"\n",
       "  174.862,1106.27 200.997,1106.27 \n",
       "  \"/>\n",
       "<polyline clip-path=\"url(#clip370)\" style=\"stroke:#000000; stroke-width:4; stroke-opacity:1; fill:none\" points=\"\n",
       "  174.862,766.833 200.997,766.833 \n",
       "  \"/>\n",
       "<polyline clip-path=\"url(#clip370)\" style=\"stroke:#000000; stroke-width:4; stroke-opacity:1; fill:none\" points=\"\n",
       "  174.862,427.392 200.997,427.392 \n",
       "  \"/>\n",
       "<polyline clip-path=\"url(#clip370)\" style=\"stroke:#000000; stroke-width:4; stroke-opacity:1; fill:none\" points=\"\n",
       "  174.862,87.9507 200.997,87.9507 \n",
       "  \"/>\n",
       "<path clip-path=\"url(#clip370)\" d=\"M 0 0 M62.9365 1431.51 Q59.3254 1431.51 57.4967 1435.08 Q55.6912 1438.62 55.6912 1445.75 Q55.6912 1452.86 57.4967 1456.42 Q59.3254 1459.96 62.9365 1459.96 Q66.5707 1459.96 68.3763 1456.42 Q70.205 1452.86 70.205 1445.75 Q70.205 1438.62 68.3763 1435.08 Q66.5707 1431.51 62.9365 1431.51 M62.9365 1427.81 Q68.7467 1427.81 71.8022 1432.42 Q74.8809 1437 74.8809 1445.75 Q74.8809 1454.48 71.8022 1459.08 Q68.7467 1463.67 62.9365 1463.67 Q57.1264 1463.67 54.0477 1459.08 Q50.9921 1454.48 50.9921 1445.75 Q50.9921 1437 54.0477 1432.42 Q57.1264 1427.81 62.9365 1427.81 Z\" fill=\"#000000\" fill-rule=\"evenodd\" fill-opacity=\"1\" /><path clip-path=\"url(#clip370)\" d=\"M 0 0 M79.9503 1457.12 L84.8345 1457.12 L84.8345 1463 L79.9503 1463 L79.9503 1457.12 Z\" fill=\"#000000\" fill-rule=\"evenodd\" fill-opacity=\"1\" /><path clip-path=\"url(#clip370)\" d=\"M 0 0 M99.9039 1431.51 Q96.2928 1431.51 94.4641 1435.08 Q92.6586 1438.62 92.6586 1445.75 Q92.6586 1452.86 94.4641 1456.42 Q96.2928 1459.96 99.9039 1459.96 Q103.538 1459.96 105.344 1456.42 Q107.172 1452.86 107.172 1445.75 Q107.172 1438.62 105.344 1435.08 Q103.538 1431.51 99.9039 1431.51 M99.9039 1427.81 Q105.714 1427.81 108.77 1432.42 Q111.848 1437 111.848 1445.75 Q111.848 1454.48 108.77 1459.08 Q105.714 1463.67 99.9039 1463.67 Q94.0937 1463.67 91.0151 1459.08 Q87.9595 1454.48 87.9595 1445.75 Q87.9595 1437 91.0151 1432.42 Q94.0937 1427.81 99.9039 1427.81 Z\" fill=\"#000000\" fill-rule=\"evenodd\" fill-opacity=\"1\" /><path clip-path=\"url(#clip370)\" d=\"M 0 0 M126.918 1431.51 Q123.307 1431.51 121.478 1435.08 Q119.672 1438.62 119.672 1445.75 Q119.672 1452.86 121.478 1456.42 Q123.307 1459.96 126.918 1459.96 Q130.552 1459.96 132.357 1456.42 Q134.186 1452.86 134.186 1445.75 Q134.186 1438.62 132.357 1435.08 Q130.552 1431.51 126.918 1431.51 M126.918 1427.81 Q132.728 1427.81 135.783 1432.42 Q138.862 1437 138.862 1445.75 Q138.862 1454.48 135.783 1459.08 Q132.728 1463.67 126.918 1463.67 Q121.107 1463.67 118.029 1459.08 Q114.973 1454.48 114.973 1445.75 Q114.973 1437 118.029 1432.42 Q121.107 1427.81 126.918 1427.81 Z\" fill=\"#000000\" fill-rule=\"evenodd\" fill-opacity=\"1\" /><path clip-path=\"url(#clip370)\" d=\"M 0 0 M65.5291 1092.07 Q61.918 1092.07 60.0893 1095.64 Q58.2838 1099.18 58.2838 1106.31 Q58.2838 1113.42 60.0893 1116.98 Q61.918 1120.52 65.5291 1120.52 Q69.1633 1120.52 70.9689 1116.98 Q72.7976 1113.42 72.7976 1106.31 Q72.7976 1099.18 70.9689 1095.64 Q69.1633 1092.07 65.5291 1092.07 M65.5291 1088.37 Q71.3392 1088.37 74.3948 1092.98 Q77.4735 1097.56 77.4735 1106.31 Q77.4735 1115.04 74.3948 1119.64 Q71.3392 1124.23 65.5291 1124.23 Q59.7189 1124.23 56.6402 1119.64 Q53.5847 1115.04 53.5847 1106.31 Q53.5847 1097.56 56.6402 1092.98 Q59.7189 1088.37 65.5291 1088.37 Z\" fill=\"#000000\" fill-rule=\"evenodd\" fill-opacity=\"1\" /><path clip-path=\"url(#clip370)\" d=\"M 0 0 M82.5429 1117.67 L87.4271 1117.67 L87.4271 1123.55 L82.5429 1123.55 L82.5429 1117.67 Z\" fill=\"#000000\" fill-rule=\"evenodd\" fill-opacity=\"1\" /><path clip-path=\"url(#clip370)\" d=\"M 0 0 M96.5243 1119.62 L112.844 1119.62 L112.844 1123.55 L90.8993 1123.55 L90.8993 1119.62 Q93.5613 1116.86 98.1447 1112.24 Q102.751 1107.58 103.932 1106.24 Q106.177 1103.72 107.057 1101.98 Q107.959 1100.22 107.959 1098.53 Q107.959 1095.78 106.015 1094.04 Q104.094 1092.3 100.992 1092.3 Q98.7928 1092.3 96.3391 1093.07 Q93.9086 1093.83 91.1308 1095.38 L91.1308 1090.66 Q93.9549 1089.53 96.4085 1088.95 Q98.8622 1088.37 100.899 1088.37 Q106.27 1088.37 109.464 1091.05 Q112.658 1093.74 112.658 1098.23 Q112.658 1100.36 111.848 1102.28 Q111.061 1104.18 108.955 1106.77 Q108.376 1107.44 105.274 1110.66 Q102.172 1113.86 96.5243 1119.62 Z\" fill=\"#000000\" fill-rule=\"evenodd\" fill-opacity=\"1\" /><path clip-path=\"url(#clip370)\" d=\"M 0 0 M117.959 1088.99 L136.316 1088.99 L136.316 1092.93 L122.242 1092.93 L122.242 1101.4 Q123.26 1101.05 124.279 1100.89 Q125.297 1100.71 126.316 1100.71 Q132.103 1100.71 135.482 1103.88 Q138.862 1107.05 138.862 1112.47 Q138.862 1118.05 135.39 1121.15 Q131.918 1124.23 125.598 1124.23 Q123.422 1124.23 121.154 1123.86 Q118.908 1123.49 116.501 1122.74 L116.501 1118.05 Q118.584 1119.18 120.807 1119.74 Q123.029 1120.29 125.506 1120.29 Q129.51 1120.29 131.848 1118.18 Q134.186 1116.08 134.186 1112.47 Q134.186 1108.86 131.848 1106.75 Q129.51 1104.64 125.506 1104.64 Q123.631 1104.64 121.756 1105.06 Q119.904 1105.48 117.959 1106.36 L117.959 1088.99 Z\" fill=\"#000000\" fill-rule=\"evenodd\" fill-opacity=\"1\" /><path clip-path=\"url(#clip370)\" d=\"M 0 0 M63.9319 752.632 Q60.3208 752.632 58.4921 756.197 Q56.6865 759.738 56.6865 766.868 Q56.6865 773.974 58.4921 777.539 Q60.3208 781.081 63.9319 781.081 Q67.5661 781.081 69.3717 777.539 Q71.2004 773.974 71.2004 766.868 Q71.2004 759.738 69.3717 756.197 Q67.5661 752.632 63.9319 752.632 M63.9319 748.928 Q69.742 748.928 72.7976 753.535 Q75.8763 758.118 75.8763 766.868 Q75.8763 775.595 72.7976 780.201 Q69.742 784.784 63.9319 784.784 Q58.1217 784.784 55.043 780.201 Q51.9875 775.595 51.9875 766.868 Q51.9875 758.118 55.043 753.535 Q58.1217 748.928 63.9319 748.928 Z\" fill=\"#000000\" fill-rule=\"evenodd\" fill-opacity=\"1\" /><path clip-path=\"url(#clip370)\" d=\"M 0 0 M80.9457 778.234 L85.8299 778.234 L85.8299 784.113 L80.9457 784.113 L80.9457 778.234 Z\" fill=\"#000000\" fill-rule=\"evenodd\" fill-opacity=\"1\" /><path clip-path=\"url(#clip370)\" d=\"M 0 0 M90.9456 749.553 L109.302 749.553 L109.302 753.488 L95.228 753.488 L95.228 761.961 Q96.2465 761.613 97.265 761.451 Q98.2835 761.266 99.3021 761.266 Q105.089 761.266 108.469 764.437 Q111.848 767.609 111.848 773.025 Q111.848 778.604 108.376 781.706 Q104.904 784.784 98.5845 784.784 Q96.4085 784.784 94.14 784.414 Q91.8947 784.044 89.4873 783.303 L89.4873 778.604 Q91.5706 779.738 93.7928 780.294 Q96.015 780.849 98.4919 780.849 Q102.496 780.849 104.834 778.743 Q107.172 776.636 107.172 773.025 Q107.172 769.414 104.834 767.308 Q102.496 765.201 98.4919 765.201 Q96.6169 765.201 94.7419 765.618 Q92.89 766.035 90.9456 766.914 L90.9456 749.553 Z\" fill=\"#000000\" fill-rule=\"evenodd\" fill-opacity=\"1\" /><path clip-path=\"url(#clip370)\" d=\"M 0 0 M126.918 752.632 Q123.307 752.632 121.478 756.197 Q119.672 759.738 119.672 766.868 Q119.672 773.974 121.478 777.539 Q123.307 781.081 126.918 781.081 Q130.552 781.081 132.357 777.539 Q134.186 773.974 134.186 766.868 Q134.186 759.738 132.357 756.197 Q130.552 752.632 126.918 752.632 M126.918 748.928 Q132.728 748.928 135.783 753.535 Q138.862 758.118 138.862 766.868 Q138.862 775.595 135.783 780.201 Q132.728 784.784 126.918 784.784 Q121.107 784.784 118.029 780.201 Q114.973 775.595 114.973 766.868 Q114.973 758.118 118.029 753.535 Q121.107 748.928 126.918 748.928 Z\" fill=\"#000000\" fill-rule=\"evenodd\" fill-opacity=\"1\" /><path clip-path=\"url(#clip370)\" d=\"M 0 0 M64.8346 413.191 Q61.2236 413.191 59.3949 416.755 Q57.5893 420.297 57.5893 427.427 Q57.5893 434.533 59.3949 438.098 Q61.2236 441.64 64.8346 441.64 Q68.4689 441.64 70.2744 438.098 Q72.1031 434.533 72.1031 427.427 Q72.1031 420.297 70.2744 416.755 Q68.4689 413.191 64.8346 413.191 M64.8346 409.487 Q70.6448 409.487 73.7003 414.093 Q76.779 418.677 76.779 427.427 Q76.779 436.153 73.7003 440.76 Q70.6448 445.343 64.8346 445.343 Q59.0245 445.343 55.9458 440.76 Q52.8903 436.153 52.8903 427.427 Q52.8903 418.677 55.9458 414.093 Q59.0245 409.487 64.8346 409.487 Z\" fill=\"#000000\" fill-rule=\"evenodd\" fill-opacity=\"1\" /><path clip-path=\"url(#clip370)\" d=\"M 0 0 M81.8484 438.792 L86.7327 438.792 L86.7327 444.672 L81.8484 444.672 L81.8484 438.792 Z\" fill=\"#000000\" fill-rule=\"evenodd\" fill-opacity=\"1\" /><path clip-path=\"url(#clip370)\" d=\"M 0 0 M90.6215 410.112 L112.844 410.112 L112.844 412.103 L100.297 444.672 L95.4132 444.672 L107.219 414.047 L90.6215 414.047 L90.6215 410.112 Z\" fill=\"#000000\" fill-rule=\"evenodd\" fill-opacity=\"1\" /><path clip-path=\"url(#clip370)\" d=\"M 0 0 M117.959 410.112 L136.316 410.112 L136.316 414.047 L122.242 414.047 L122.242 422.519 Q123.26 422.172 124.279 422.01 Q125.297 421.825 126.316 421.825 Q132.103 421.825 135.482 424.996 Q138.862 428.167 138.862 433.584 Q138.862 439.163 135.39 442.265 Q131.918 445.343 125.598 445.343 Q123.422 445.343 121.154 444.973 Q118.908 444.603 116.501 443.862 L116.501 439.163 Q118.584 440.297 120.807 440.853 Q123.029 441.408 125.506 441.408 Q129.51 441.408 131.848 439.302 Q134.186 437.195 134.186 433.584 Q134.186 429.973 131.848 427.866 Q129.51 425.76 125.506 425.76 Q123.631 425.76 121.756 426.177 Q119.904 426.593 117.959 427.473 L117.959 410.112 Z\" fill=\"#000000\" fill-rule=\"evenodd\" fill-opacity=\"1\" /><path clip-path=\"url(#clip370)\" d=\"M 0 0 M54.9736 101.296 L62.6124 101.296 L62.6124 74.93 L54.3023 76.5966 L54.3023 72.3374 L62.5661 70.6707 L67.242 70.6707 L67.242 101.296 L74.8809 101.296 L74.8809 105.231 L54.9736 105.231 L54.9736 101.296 Z\" fill=\"#000000\" fill-rule=\"evenodd\" fill-opacity=\"1\" /><path clip-path=\"url(#clip370)\" d=\"M 0 0 M79.9503 99.3511 L84.8345 99.3511 L84.8345 105.231 L79.9503 105.231 L79.9503 99.3511 Z\" fill=\"#000000\" fill-rule=\"evenodd\" fill-opacity=\"1\" /><path clip-path=\"url(#clip370)\" d=\"M 0 0 M99.9039 73.7494 Q96.2928 73.7494 94.4641 77.3142 Q92.6586 80.8558 92.6586 87.9854 Q92.6586 95.0919 94.4641 98.6567 Q96.2928 102.198 99.9039 102.198 Q103.538 102.198 105.344 98.6567 Q107.172 95.0919 107.172 87.9854 Q107.172 80.8558 105.344 77.3142 Q103.538 73.7494 99.9039 73.7494 M99.9039 70.0457 Q105.714 70.0457 108.77 74.6522 Q111.848 79.2355 111.848 87.9854 Q111.848 96.7122 108.77 101.319 Q105.714 105.902 99.9039 105.902 Q94.0937 105.902 91.0151 101.319 Q87.9595 96.7122 87.9595 87.9854 Q87.9595 79.2355 91.0151 74.6522 Q94.0937 70.0457 99.9039 70.0457 Z\" fill=\"#000000\" fill-rule=\"evenodd\" fill-opacity=\"1\" /><path clip-path=\"url(#clip370)\" d=\"M 0 0 M126.918 73.7494 Q123.307 73.7494 121.478 77.3142 Q119.672 80.8558 119.672 87.9854 Q119.672 95.0919 121.478 98.6567 Q123.307 102.198 126.918 102.198 Q130.552 102.198 132.357 98.6567 Q134.186 95.0919 134.186 87.9854 Q134.186 80.8558 132.357 77.3142 Q130.552 73.7494 126.918 73.7494 M126.918 70.0457 Q132.728 70.0457 135.783 74.6522 Q138.862 79.2355 138.862 87.9854 Q138.862 96.7122 135.783 101.319 Q132.728 105.902 126.918 105.902 Q121.107 105.902 118.029 101.319 Q114.973 96.7122 114.973 87.9854 Q114.973 79.2355 118.029 74.6522 Q121.107 70.0457 126.918 70.0457 Z\" fill=\"#000000\" fill-rule=\"evenodd\" fill-opacity=\"1\" /><polyline clip-path=\"url(#clip372)\" style=\"stroke:#009af9; stroke-width:4; stroke-opacity:1; fill:none\" points=\"\n",
       "  236.501,1445.72 246.533,1424.89 256.566,1404.07 349.331,1212.63 442.096,1025.88 497.844,917.472 553.591,812.901 600.726,728.042 647.86,646.91 699.061,563.49 \n",
       "  750.262,485.474 797.464,418.752 844.667,357.376 895.273,297.878 945.879,245.249 1004.51,193.276 1063.14,151.362 1115.25,122.83 1167.36,102.69 1213.05,92.0385 \n",
       "  1258.74,87.9915 1308.56,91.1274 1358.37,102.119 1408.48,121.037 1458.6,147.729 1514,186.099 1569.41,233.503 1622.13,286.686 1674.84,347.395 1729.66,418.076 \n",
       "  1784.47,495.971 1830.61,566.734 1876.75,641.871 1989.42,841.346 2095.33,1045.29 2265,1391.52 2291.12,1445.72 \n",
       "  \"/>\n",
       "<circle clip-path=\"url(#clip372)\" cx=\"1267.82\" cy=\"87.9763\" r=\"14\" fill=\"#e26f46\" fill-rule=\"evenodd\" fill-opacity=\"1\" stroke=\"#000000\" stroke-opacity=\"1\" stroke-width=\"3.2\"/>\n",
       "</svg>\n"
      ]
     },
     "execution_count": 88,
     "metadata": {},
     "output_type": "execute_result"
    }
   ],
   "source": [
    "# Teste 3\n",
    "\n",
    "f(x) = sin(x)\n",
    "fd(x) = cos(x)\n",
    "p = achar_um_ponto_critico_de_uma_funcao(fd, 0, pi)\n",
    "plot(f, 0, pi)\n",
    "scatter!(p:p, [f(p)], leg=false)"
   ]
  },
  {
   "cell_type": "markdown",
   "metadata": {},
   "source": [
    "### Encontrar um ponto crítico de uma função de 2 variáveis"
   ]
  },
  {
   "cell_type": "code",
   "execution_count": 89,
   "metadata": {},
   "outputs": [
    {
     "data": {
      "text/plain": [
       "achar_um_ponto_critico_de_uma_funcao_de_2_variaveis (generic function with 1 method)"
      ]
     },
     "execution_count": 89,
     "metadata": {},
     "output_type": "execute_result"
    }
   ],
   "source": [
    "\"\"\" Nessa função, queremos encontrar um ponto crítico em uma função de duas variáveis. Para isso, utilizamos o \n",
    "método do gradiente descendente, em que descemos a curva da função através do decremento do gradiente, visto que\n",
    "este aponta para a direção de maior crescimento. Para isso, é necessário passar o gradiente da função no formato \n",
    "[fdx, fdy], os intervalos de x e y no formato [a, b] e a quantidade de iterações a ser realizada pelo método. \"\"\"\n",
    "\n",
    "function achar_um_ponto_critico_de_uma_funcao_de_2_variaveis(gradiente_da_funcao, intervalox, intervaloy, iteracoes)\n",
    "    # Iniciamos aleatoriamente o ponto\n",
    "    px = rand(intervalox[1]:intervalox[2])\n",
    "    py = rand(intervaloy[1]:intervaloy[2])\n",
    "    taxa = 0.1\n",
    "    \n",
    "    for i in 1:iteracoes\n",
    "        # Obtemos o gradiente no ponto\n",
    "        grad = gradiente_da_funcao(px,py)\n",
    "        \n",
    "        # Checamos se esta dentro do intervalo pedido para descer o gradiente\n",
    "        if (intervalox[1]<=px-grad[1]*taxa<=intervalox[2]) && (intervaloy[1]<=py-grad[2]*taxa<=intervaloy[2])\n",
    "            px = px - grad[1]*taxa\n",
    "            py = py - grad[2]*taxa\n",
    "        else\n",
    "            break       # Senão acabamos a iteracao\n",
    "        end \n",
    "    end\n",
    "    \n",
    "    return [px,py]\n",
    "end"
   ]
  },
  {
   "cell_type": "code",
   "execution_count": 90,
   "metadata": {
    "tags": []
   },
   "outputs": [
    {
     "data": {
      "text/plain": [
       "2-element Vector{Float64}:\n",
       " 1.4999999999999996\n",
       " 2.3804287532992367e-111"
      ]
     },
     "execution_count": 90,
     "metadata": {},
     "output_type": "execute_result"
    }
   ],
   "source": [
    "# Testando a função x^2+2y^2-3x\n",
    "\n",
    "d(x,y) = [2x-3, 4y]\n",
    "achar_um_ponto_critico_de_uma_funcao_de_2_variaveis(d, [-10,10], [-10,10], 500)"
   ]
  },
  {
   "cell_type": "code",
   "execution_count": 91,
   "metadata": {},
   "outputs": [
    {
     "data": {
      "text/plain": [
       "2-element Vector{Int64}:\n",
       " -2\n",
       " -5"
      ]
     },
     "execution_count": 91,
     "metadata": {},
     "output_type": "execute_result"
    }
   ],
   "source": [
    "# A função x^4 + x*y^3 - 2x^2*y + x - 5yx tem mínimo local em (-0.769, -1.074)\n",
    "\n",
    "d(x,y) = [4x^3+y^3-4y*x+1-5y,-2x^2+3x*y^2-5x]\n",
    "achar_um_ponto_critico_de_uma_funcao_de_2_variaveis(d, [-5,5], [-5,5], 500)"
   ]
  },
  {
   "cell_type": "code",
   "execution_count": 92,
   "metadata": {},
   "outputs": [
    {
     "data": {
      "text/plain": [
       "2-element Vector{Float64}:\n",
       " -1.5707963267948977\n",
       "  0.13854110160358418"
      ]
     },
     "execution_count": 92,
     "metadata": {},
     "output_type": "execute_result"
    }
   ],
   "source": [
    "# Função sen(x)*cos(y/5) possui muitos pontos locais de minimo e maximo\n",
    "\n",
    "d(x,y) = [cos(y/5)*cos(x), -1/5*sin(x)*sin(y/5)]\n",
    "achar_um_ponto_critico_de_uma_funcao_de_2_variaveis(d, [-5,5], [-5,5], 500)"
   ]
  },
  {
   "cell_type": "markdown",
   "metadata": {},
   "source": [
    "### Obter Lagrange em 2D"
   ]
  },
  {
   "cell_type": "code",
   "execution_count": 93,
   "metadata": {},
   "outputs": [
    {
     "data": {
      "text/plain": [
       "langrage_2D (generic function with 1 method)"
      ]
     },
     "execution_count": 93,
     "metadata": {},
     "output_type": "execute_result"
    }
   ],
   "source": [
    "function langrage_2D()\n",
    "    \n",
    "end"
   ]
  }
 ],
 "metadata": {
  "kernelspec": {
   "display_name": "Julia 1.6.0",
   "language": "julia",
   "name": "julia-1.6"
  },
  "language_info": {
   "file_extension": ".jl",
   "mimetype": "application/julia",
   "name": "julia",
   "version": "1.6.0"
  }
 },
 "nbformat": 4,
 "nbformat_minor": 4
}
