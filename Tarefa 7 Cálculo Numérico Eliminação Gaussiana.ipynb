{
 "cells": [
  {
   "cell_type": "markdown",
   "metadata": {},
   "source": [
    "# <center> Cálculo numérico 2020.2: Tarefa 7 </center>"
   ]
  },
  {
   "cell_type": "markdown",
   "metadata": {},
   "source": [
    "<h3> Aluno: Thierry Pierre Dutoit <br>DRE: 119040432 </h3>"
   ]
  },
  {
   "cell_type": "markdown",
   "metadata": {},
   "source": [
    "## Exercício 1 \n",
    "\n",
    "Generalize os códigos das funções abaixo que fizemos na aula 15 para matrizes n × n (não precisa se preocupar com divisões por zero nem com troca de linhas ou colunas).\n"
   ]
  },
  {
   "cell_type": "markdown",
   "metadata": {},
   "source": [
    "(a) RESOLVE_DIAGONAL"
   ]
  },
  {
   "cell_type": "code",
   "execution_count": 14,
   "metadata": {},
   "outputs": [
    {
     "data": {
      "text/plain": [
       "resolve_diagonal (generic function with 1 method)"
      ]
     },
     "execution_count": 14,
     "metadata": {},
     "output_type": "execute_result"
    }
   ],
   "source": [
    "using LinearAlgebra\n",
    "function resolve_diagonal(D,b) #D é diagonal\n",
    "    tamanho = length(b)\n",
    "    x=zeros(tamanho,1)\n",
    "    for i in 1:tamanho\n",
    "        x[i] = b[i]/D[i,i]\n",
    "    end\n",
    "    return x\n",
    "end"
   ]
  },
  {
   "cell_type": "code",
   "execution_count": 15,
   "metadata": {},
   "outputs": [
    {
     "data": {
      "text/plain": [
       "0.0"
      ]
     },
     "execution_count": 15,
     "metadata": {},
     "output_type": "execute_result"
    }
   ],
   "source": [
    "D=[2 0 0;0 4 0;0 0 194]\n",
    "b=randn(3,1)\n",
    "x=resolve_diagonal(D,b)\n",
    "norm(D*x-b)"
   ]
  },
  {
   "cell_type": "code",
   "execution_count": 34,
   "metadata": {},
   "outputs": [
    {
     "data": {
      "text/plain": [
       "resolve_triangular_superior (generic function with 1 method)"
      ]
     },
     "execution_count": 34,
     "metadata": {},
     "output_type": "execute_result"
    }
   ],
   "source": [
    "function resolve_triangular_superior(T,b) #T é triangular superior\n",
    "    tamanho = length(b)\n",
    "    x=zeros(tamanho,1)\n",
    "    \n",
    "    i = tamanho\n",
    "    while (i > 0)\n",
    "        x[i] = b[i]/T[i,i]\n",
    "        k = tamanho\n",
    "        for j in i:(tamanho - 1)\n",
    "            x[i] -= T[i, k] * x[k]/T[i,i]\n",
    "            k -= 1\n",
    "        end\n",
    "        i -= 1\n",
    "    end\n",
    "    return x\n",
    "end"
   ]
  },
  {
   "cell_type": "code",
   "execution_count": 38,
   "metadata": {
    "scrolled": true
   },
   "outputs": [
    {
     "name": "stdout",
     "output_type": "stream",
     "text": [
      "0.0\n"
     ]
    },
    {
     "data": {
      "text/plain": [
       "0.0"
      ]
     },
     "execution_count": 38,
     "metadata": {},
     "output_type": "execute_result"
    }
   ],
   "source": [
    "T=[1 2 3;0 2 3;0 0 1]\n",
    "b=randn(3,1)\n",
    "x=resolve_triangular_superior(T,b)\n",
    "println(abs(norm(T\\b - x)))\n",
    "norm(T*x-b)"
   ]
  },
  {
   "cell_type": "code",
   "execution_count": 46,
   "metadata": {},
   "outputs": [
    {
     "name": "stdout",
     "output_type": "stream",
     "text": [
      "0.0\n"
     ]
    },
    {
     "data": {
      "text/plain": [
       "0.0"
      ]
     },
     "execution_count": 46,
     "metadata": {},
     "output_type": "execute_result"
    }
   ],
   "source": [
    "T=[5 6 0;0 7 2;0 0 8]\n",
    "b=randn(3,1)\n",
    "x=resolve_triangular_superior(T,b)\n",
    "println(abs(norm(T\\b - x)))\n",
    "norm(T*x-b)"
   ]
  },
  {
   "cell_type": "code",
   "execution_count": 47,
   "metadata": {},
   "outputs": [
    {
     "data": {
      "text/plain": [
       "resolve_triangular_inferior (generic function with 1 method)"
      ]
     },
     "execution_count": 47,
     "metadata": {},
     "output_type": "execute_result"
    }
   ],
   "source": [
    "function resolve_triangular_inferior(T,b) #T é triangular superior\n",
    "    tamanho = length(b)\n",
    "    x=zeros(tamanho,1)\n",
    "    \n",
    "    i = 1\n",
    "    while (i <= tamanho)\n",
    "        x[i] = b[i]/T[i,i]\n",
    "        for j in 1:(i-1)\n",
    "            x[i] -= T[i, j] * x[j]/T[i,i]\n",
    "        end\n",
    "        i += 1\n",
    "    end\n",
    "    return x\n",
    "end"
   ]
  },
  {
   "cell_type": "code",
   "execution_count": 50,
   "metadata": {},
   "outputs": [
    {
     "name": "stdout",
     "output_type": "stream",
     "text": [
      "0.0\n"
     ]
    },
    {
     "data": {
      "text/plain": [
       "0.0"
      ]
     },
     "execution_count": 50,
     "metadata": {},
     "output_type": "execute_result"
    }
   ],
   "source": [
    "T=[7 0 0;2 7 0;8 4 6]\n",
    "b=randn(3,1)\n",
    "x=resolve_triangular_inferior(T,b)\n",
    "println(abs(norm(T\\b - x)))\n",
    "norm(T*x-b)"
   ]
  },
  {
   "cell_type": "code",
   "execution_count": 51,
   "metadata": {},
   "outputs": [
    {
     "data": {
      "text/plain": [
       "eliminação_gaussiana (generic function with 1 method)"
      ]
     },
     "execution_count": 51,
     "metadata": {},
     "output_type": "execute_result"
    }
   ],
   "source": [
    "function eliminação_gaussiana(A,b) #A é uma matriz cheia (\"matriz densa\")\n",
    "    tamanho = length(b)\n",
    "    for i in 1:tamanho-1\n",
    "        for j in i+1:tamanho\n",
    "            multiplicador = A[j,i]/A[i,i]\n",
    "            A[j, :] = A[j, :] - multiplicador*A[i, :]\n",
    "            b[j] = b[j] - multiplicador*b[i]\n",
    "        end\n",
    "    end\n",
    "    return A,b\n",
    "end"
   ]
  },
  {
   "cell_type": "code",
   "execution_count": 52,
   "metadata": {},
   "outputs": [
    {
     "data": {
      "text/plain": [
       "([2 4 3; 0 2 3; 0 0 4], [9, 5, 4])"
      ]
     },
     "execution_count": 52,
     "metadata": {},
     "output_type": "execute_result"
    }
   ],
   "source": [
    "A=[2 4 3;4 10 9;6 18 22]\n",
    "b=[9; 23; 46]\n",
    "eliminação_gaussiana(A,b)"
   ]
  },
  {
   "cell_type": "code",
   "execution_count": 54,
   "metadata": {},
   "outputs": [
    {
     "data": {
      "text/plain": [
       "resolve_cheia (generic function with 1 method)"
      ]
     },
     "execution_count": 54,
     "metadata": {},
     "output_type": "execute_result"
    }
   ],
   "source": [
    "function resolve_cheia(A,b)\n",
    "    T,c= eliminação_gaussiana(A,b)  #O(n^3)\n",
    "    x=resolve_triangular_superior(T,b)  #O(n^2)\n",
    "    return x\n",
    "end"
   ]
  },
  {
   "cell_type": "code",
   "execution_count": 55,
   "metadata": {},
   "outputs": [
    {
     "data": {
      "text/plain": [
       "3×1 Matrix{Float64}:\n",
       " 0.0\n",
       " 0.0\n",
       " 0.0"
      ]
     },
     "execution_count": 55,
     "metadata": {},
     "output_type": "execute_result"
    }
   ],
   "source": [
    "x=resolve_cheia(A,b)\n",
    "A*x-b"
   ]
  },
  {
   "cell_type": "code",
   "execution_count": 104,
   "metadata": {},
   "outputs": [
    {
     "data": {
      "text/plain": [
       "decomposição_LU (generic function with 1 method)"
      ]
     },
     "execution_count": 104,
     "metadata": {},
     "output_type": "execute_result"
    }
   ],
   "source": [
    "function decomposição_LU(A) #A é uma matriz cheia (\"matriz densa\")\n",
    "    tamanho = size(A)\n",
    "    tamanho = tamanho[1]\n",
    "    L=zeros(tamanho,tamanho)\n",
    "    \n",
    "    for i in 1:tamanho\n",
    "        L[i,i] = 1\n",
    "    end\n",
    "    \n",
    "    U = zeros(tamanho, tamanho)\n",
    "    \n",
    "    for i in 1:tamanho\n",
    "        for j in 1:tamanho\n",
    "            U[i, j] = A[i, j]\n",
    "        end\n",
    "    end\n",
    "    \n",
    "    for i in 1:tamanho-1\n",
    "        for j in i+1:tamanho\n",
    "            L[j,i] = U[j,i]/U[i,i]\n",
    "            U[j, :] = U[j, :] -L[j,i]*U[i, :]\n",
    "        end\n",
    "    end\n",
    "\n",
    "    return L,U \n",
    "    \n",
    "end"
   ]
  },
  {
   "cell_type": "code",
   "execution_count": 121,
   "metadata": {},
   "outputs": [
    {
     "data": {
      "text/plain": [
       "3×3 Matrix{Float64}:\n",
       " -0.993892  -0.934912  -0.239401\n",
       "  0.271955   0.666668   1.22339\n",
       " -0.766278  -0.545153   1.67974"
      ]
     },
     "execution_count": 121,
     "metadata": {},
     "output_type": "execute_result"
    }
   ],
   "source": [
    "A=randn(3,3)"
   ]
  },
  {
   "cell_type": "code",
   "execution_count": 122,
   "metadata": {},
   "outputs": [
    {
     "data": {
      "text/plain": [
       "([1.0 0.0 0.0; -0.27362628536650696 1.0 0.0; 0.7709874074215826 0.4275329244527357 1.0], [-0.9938920965501371 -0.9349124184780709 -0.23940089306901546; 0.0 0.4108518715222914 1.1578828980730274; 0.0 0.0 1.3692782251545652])"
      ]
     },
     "execution_count": 122,
     "metadata": {},
     "output_type": "execute_result"
    }
   ],
   "source": [
    "L,U=decomposição_LU(A)"
   ]
  },
  {
   "cell_type": "code",
   "execution_count": 123,
   "metadata": {},
   "outputs": [
    {
     "data": {
      "text/plain": [
       "3×3 Matrix{Float64}:\n",
       " 0.0  0.0  0.0\n",
       " 0.0  0.0  0.0\n",
       " 0.0  0.0  0.0"
      ]
     },
     "execution_count": 123,
     "metadata": {},
     "output_type": "execute_result"
    }
   ],
   "source": [
    "A-L*U"
   ]
  },
  {
   "cell_type": "code",
   "execution_count": 124,
   "metadata": {},
   "outputs": [
    {
     "data": {
      "text/plain": [
       "resolver_pós_LU (generic function with 1 method)"
      ]
     },
     "execution_count": 124,
     "metadata": {},
     "output_type": "execute_result"
    }
   ],
   "source": [
    "function resolver_pós_LU(L,U,b)    #O(n^2) \n",
    "    y=resolve_triangular_inferior(L,b)\n",
    "    x=resolve_triangular_superior(U,y)\n",
    "    return x\n",
    "end"
   ]
  }
 ],
 "metadata": {
  "kernelspec": {
   "display_name": "Julia 1.6.0",
   "language": "julia",
   "name": "julia-1.6"
  },
  "language_info": {
   "file_extension": ".jl",
   "mimetype": "application/julia",
   "name": "julia",
   "version": "1.6.1"
  }
 },
 "nbformat": 4,
 "nbformat_minor": 4
}
