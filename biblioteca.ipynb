{
 "metadata": {
  "language_info": {
   "codemirror_mode": {
    "name": "ipython",
    "version": 3
   },
   "file_extension": ".py",
   "mimetype": "text/x-python",
   "name": "python",
   "nbconvert_exporter": "python",
   "pygments_lexer": "ipython3",
   "version": "3.9.5"
  },
  "orig_nbformat": 2,
  "kernelspec": {
   "name": "julia-1.5",
   "display_name": "Julia 1.5.4",
   "language": "julia"
  },
  "metadata": {
   "interpreter": {
    "hash": "9cf6c8880c50bc2109ded7cf6eacf695741d4f6abc57f2624b3ab33ded9f79ff"
   }
  }
 },
 "nbformat": 4,
 "nbformat_minor": 2,
 "cells": [
  {
   "cell_type": "code",
   "execution_count": 1,
   "metadata": {},
   "outputs": [
    {
     "output_type": "execute_result",
     "data": {
      "text/plain": [
       "eliminacao_gaussiana (generic function with 1 method)"
      ]
     },
     "metadata": {},
     "execution_count": 1
    }
   ],
   "source": [
    "function eliminacao_gaussiana(A,b,n)\n",
    "    for i = 1:n-1\n",
    "        for j = i+1:n\n",
    "            mult = A[j,i]/A[i,i]\n",
    "            A[j,:] = A[j,:] - mult*A[i,:]\n",
    "            b[j] = b[j] - mult*b[i]\n",
    "        end\n",
    "    end\n",
    "\n",
    "    return A,b\n",
    "end"
   ]
  },
  {
   "cell_type": "code",
   "execution_count": 3,
   "metadata": {},
   "outputs": [
    {
     "output_type": "stream",
     "name": "stdout",
     "text": [
      "[2 4 3; 0 2 3; 0 0 4]\n",
      "[9, 5, 4]\n"
     ]
    }
   ],
   "source": [
    "A=[2 4 3;4 10 9;6 18 22]\n",
    "b=[9; 23; 46]\n",
    "T,c = eliminacao_gaussiana(A,b,3)\n",
    "\n",
    "println(T)\n",
    "println(c)"
   ]
  },
  {
   "cell_type": "code",
   "execution_count": null,
   "metadata": {},
   "outputs": [],
   "source": []
  }
 ]
}