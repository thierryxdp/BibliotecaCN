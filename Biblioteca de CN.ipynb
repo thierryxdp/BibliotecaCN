{
 "cells": [
  {
   "cell_type": "markdown",
   "metadata": {},
   "source": [
    "# Questão 1."
   ]
  },
  {
   "cell_type": "markdown",
   "metadata": {},
   "source": [
    "## Funções"
   ]
  },
  {
   "cell_type": "code",
   "execution_count": 79,
   "metadata": {},
   "outputs": [],
   "source": [
    "using Plots\n",
    "using LinearAlgebra"
   ]
  },
  {
   "cell_type": "code",
   "execution_count": 2,
   "metadata": {},
   "outputs": [
    {
     "data": {
      "text/plain": [
       "resolve_diagonal (generic function with 1 method)"
      ]
     },
     "execution_count": 2,
     "metadata": {},
     "output_type": "execute_result"
    }
   ],
   "source": [
    "\"\"\" O intuito da função resolve_diagonal é resolver equações Dx = b onde A é uma matriz diagonal NxN, \n",
    "X é uma matriz Nx1 e b também é uma matriz Nx1. Logo, a função recebe como entrada a Matriz Diagonal \n",
    "Quadrada NXN e o vetor B Nx1, e retorna o vetor x Nx1. \"\"\"\n",
    "\n",
    "function resolve_diagonal(D,b)     # D é diagonal e b é um vetor  \n",
    "    tamanho = length(b)            # Pega-se o tamanho tanto do vetor quanto da matriz (pressupõe que são de mesmo tamanho)\n",
    "    x=zeros(tamanho,1)             # Aloca o vetor x a ser retornado\n",
    "    for i in 1:tamanho \n",
    "        x[i] = b[i]/D[i,i]         # Resolve cada x[i] de acordo com o valor da diagonal e o valor de b de cada linha\n",
    "    end\n",
    "    \n",
    "    return x\n",
    "end"
   ]
  },
  {
   "cell_type": "code",
   "execution_count": 3,
   "metadata": {},
   "outputs": [
    {
     "data": {
      "text/plain": [
       "resolve_triangular_superior (generic function with 1 method)"
      ]
     },
     "execution_count": 3,
     "metadata": {},
     "output_type": "execute_result"
    }
   ],
   "source": [
    "\"\"\" O intuito dessa função é resolver equações T.x = b tal que T seja uma matriz NxN e triangular superior,\n",
    "x e b serão uma matriz coluna Nx1. A função deve retornar a solução x para tal sistema de equações.\"\"\"\n",
    "\n",
    "function resolve_triangular_superior(T,b)     #T é triangular superior\n",
    "    tamanho = length(b)\n",
    "    x=zeros(tamanho,1)\n",
    "    \n",
    "    i = tamanho\n",
    "    while (i > 0)\n",
    "        x[i] = b[i]/T[i,i]\n",
    "        k = tamanho\n",
    "        for j in i:(tamanho - 1)\n",
    "            x[i] -= T[i, k] * x[k]/T[i,i]\n",
    "            k -= 1\n",
    "        end\n",
    "        i -= 1\n",
    "    end\n",
    "    return x\n",
    "end"
   ]
  },
  {
   "cell_type": "code",
   "execution_count": 4,
   "metadata": {},
   "outputs": [
    {
     "data": {
      "text/plain": [
       "resolve_triangular_inferior (generic function with 1 method)"
      ]
     },
     "execution_count": 4,
     "metadata": {},
     "output_type": "execute_result"
    }
   ],
   "source": [
    "\"\"\" O intuito dessa função é resolver equações T.x = b tal que T seja uma matriz NxN e triangular inferior,\n",
    "x e b serão uma matriz coluna Nx1. A função deve retornar a solução x para tal sistema de equações.\"\"\"\n",
    "\n",
    "function resolve_triangular_inferior(T,b)     #T é triangular inferior\n",
    "    tamanho = length(b)\n",
    "    x=zeros(tamanho,1)\n",
    "    \n",
    "    i = 1\n",
    "    while (i <= tamanho)\n",
    "        x[i] = b[i]/T[i,i]\n",
    "        for j in 1:(i-1)\n",
    "            x[i] -= T[i, j] * x[j]/T[i,i]\n",
    "        end\n",
    "        i += 1\n",
    "    end\n",
    "    return x\n",
    "end"
   ]
  },
  {
   "cell_type": "code",
   "execution_count": 5,
   "metadata": {},
   "outputs": [
    {
     "data": {
      "text/plain": [
       "eliminacao_gaussiana (generic function with 1 method)"
      ]
     },
     "execution_count": 5,
     "metadata": {},
     "output_type": "execute_result"
    }
   ],
   "source": [
    "\"\"\" O intuito dessa função é realizar o processo de eliminação gaussiana com o sistema A.x = b, \n",
    "onde são passados a matriz densa quadrada A de NxN e a matriz coluna b de Nx1.\n",
    "O retorno será o sistema escalonado, com A sendo uma matriz triangular superior.\"\"\"\n",
    "\n",
    "function eliminacao_gaussiana(A,b)      #A é uma matriz cheia (\"matriz densa\")\n",
    "    tamanho = length(b)\n",
    "    for i in 1:tamanho-1\n",
    "        for j in i+1:tamanho\n",
    "            multiplicador = A[j,i]/A[i,i]\n",
    "            A[j, :] = A[j, :] - multiplicador*A[i, :]\n",
    "            b[j] = b[j] - multiplicador*b[i]\n",
    "        end\n",
    "    end\n",
    "    return A, b\n",
    "end"
   ]
  },
  {
   "cell_type": "code",
   "execution_count": 6,
   "metadata": {},
   "outputs": [
    {
     "data": {
      "text/plain": [
       "resolve_cheia (generic function with 1 method)"
      ]
     },
     "execution_count": 6,
     "metadata": {},
     "output_type": "execute_result"
    }
   ],
   "source": [
    "function resolve_cheia(A,b)\n",
    "    T,c= eliminação_gaussiana(A,b)  #O(n^3)\n",
    "    x=resolve_triangular_superior(T,b)  #O(n^2)\n",
    "    return x\n",
    "end"
   ]
  },
  {
   "cell_type": "code",
   "execution_count": 7,
   "metadata": {},
   "outputs": [
    {
     "data": {
      "text/plain": [
       "decomposicao_LU (generic function with 1 method)"
      ]
     },
     "execution_count": 7,
     "metadata": {},
     "output_type": "execute_result"
    }
   ],
   "source": [
    "function decomposicao_LU(A) #A é uma matriz cheia (\"matriz densa\")\n",
    "    tamanho = size(A)\n",
    "    tamanho = tamanho[1]\n",
    "    L=zeros(tamanho,tamanho)\n",
    "    \n",
    "    for i in 1:tamanho\n",
    "        L[i,i] = 1\n",
    "    end\n",
    "    \n",
    "    U = zeros(tamanho, tamanho)\n",
    "    \n",
    "    for i in 1:tamanho\n",
    "        for j in 1:tamanho\n",
    "            U[i, j] = A[i, j]\n",
    "        end\n",
    "    end\n",
    "    \n",
    "    for i in 1:tamanho-1\n",
    "        for j in i+1:tamanho\n",
    "            L[j,i] = U[j,i]/U[i,i]\n",
    "            U[j, :] = U[j, :] -L[j,i]*U[i, :]\n",
    "        end\n",
    "    end\n",
    "\n",
    "    return L,U \n",
    "end"
   ]
  },
  {
   "cell_type": "code",
   "execution_count": 8,
   "metadata": {},
   "outputs": [
    {
     "data": {
      "text/plain": [
       "resolver_pos_LU (generic function with 1 method)"
      ]
     },
     "execution_count": 8,
     "metadata": {},
     "output_type": "execute_result"
    }
   ],
   "source": [
    "function resolver_pos_LU(L,U,b)    #O(n^2) \n",
    "    y=resolve_triangular_inferior(L,b)\n",
    "    x=resolve_triangular_superior(U,y)\n",
    "    return x\n",
    "end"
   ]
  },
  {
   "cell_type": "markdown",
   "metadata": {},
   "source": [
    "## Testes das Funções"
   ]
  },
  {
   "cell_type": "code",
   "execution_count": null,
   "metadata": {},
   "outputs": [],
   "source": []
  },
  {
   "cell_type": "markdown",
   "metadata": {},
   "source": [
    "# Questão 2."
   ]
  },
  {
   "cell_type": "markdown",
   "metadata": {},
   "source": [
    "### Método de Taylor"
   ]
  },
  {
   "cell_type": "code",
   "execution_count": 9,
   "metadata": {},
   "outputs": [
    {
     "data": {
      "text/plain": [
       "taylor (generic function with 1 method)"
      ]
     },
     "execution_count": 9,
     "metadata": {},
     "output_type": "execute_result"
    }
   ],
   "source": [
    "\"\"\" Essa função faz a aproximação de uma função no ponto 'desejado' utilizando o polinômio de taylor\n",
    "centrado no ponto 'referencia'. Para isso, deve-se passar a função, as múltiplas derivadas (quantas \n",
    "quiser - quanto mais melhor) e os pontos de referencia e desejado.\"\"\"\n",
    "\n",
    "function taylor(funcao, derivadas, referencia, desejado)  #TODO\n",
    "    grau = length(derivadas)\n",
    "    soma = funcao(referencia)\n",
    "    fat = 1\n",
    "    for i in 1:grau\n",
    "        fat = fat * i\n",
    "        soma = soma + (derivadas[i](referencia)*(desejado-referencia)^i)/fat\n",
    "    end\n",
    "    return soma\n",
    "end"
   ]
  },
  {
   "cell_type": "code",
   "execution_count": 10,
   "metadata": {},
   "outputs": [
    {
     "name": "stdout",
     "output_type": "stream",
     "text": [
      "0.40580357142857143\n",
      "0.4054651081081644\n"
     ]
    }
   ],
   "source": [
    "f(x) = log(x)\n",
    "fd1(x) = 1/x; fd2(x) = -1/x^2; fd3(x) = 2/x^3; fd4(x) = -6/x^4; fd5(x) = 24/x^5; fd6(x) = -120/x^6; fd7(x) = 720/x^7;\n",
    "der = [fd1,fd2,fd3,fd4,fd5,fd6,fd7]\n",
    "\n",
    "println(taylor(f, der, 1, 1.5))\n",
    "println(log(1.5))"
   ]
  },
  {
   "cell_type": "code",
   "execution_count": 11,
   "metadata": {},
   "outputs": [
    {
     "name": "stdout",
     "output_type": "stream",
     "text": [
      "0.9635581840200099\n",
      "0.9320390859672263\n"
     ]
    }
   ],
   "source": [
    "f(x) = sin(x)\n",
    "fd1(x) = cos(x); fd2(x) = -sin(x); fd3(x) = -cos(x); fd4(x) = sin(x); fd5(x) = cos(x); fd6(x) = -sin(x); fd7(x) = -cos(x);\n",
    "der = [fd1,fd2,fd3,fd4,fd5,fd6,fd7]\n",
    "\n",
    "println(taylor(f, der, 1, 1.3))\n",
    "println(sin(1.2))"
   ]
  },
  {
   "cell_type": "code",
   "execution_count": 12,
   "metadata": {},
   "outputs": [
    {
     "name": "stdout",
     "output_type": "stream",
     "text": [
      "11.067330000000004\n",
      "11.067330000000002\n"
     ]
    }
   ],
   "source": [
    "f(x) = x^5+4x^4-3x^2+1\n",
    "fd1(x) = 5x^4+16x^3-6x; fd2(x) = 20x^3+48x^2-6; fd3(x) = 60x^2+96x; fd4(x) = 120x+96; fd5(x) = 120;\n",
    "der = [fd1,fd2,fd3,fd4,fd5]\n",
    "\n",
    "println(taylor(f, der, 1, 1.3))\n",
    "println(f(1.3))"
   ]
  },
  {
   "cell_type": "markdown",
   "metadata": {},
   "source": [
    "### Achar o Zero da Função"
   ]
  },
  {
   "cell_type": "code",
   "execution_count": 13,
   "metadata": {},
   "outputs": [
    {
     "data": {
      "text/plain": [
       "achar_zero_de_função (generic function with 1 method)"
      ]
     },
     "execution_count": 13,
     "metadata": {},
     "output_type": "execute_result"
    }
   ],
   "source": [
    "function achar_zero_de_função(função, precisão) #intervalo?, derivadas?\n",
    "    return solução\n",
    "end"
   ]
  },
  {
   "cell_type": "markdown",
   "metadata": {},
   "source": [
    "### Achar o Zero da Função por Bisseção"
   ]
  },
  {
   "cell_type": "code",
   "execution_count": 14,
   "metadata": {},
   "outputs": [
    {
     "data": {
      "text/plain": [
       "bissecao (generic function with 2 methods)"
      ]
     },
     "execution_count": 14,
     "metadata": {},
     "output_type": "execute_result"
    }
   ],
   "source": [
    "\"\"\" Na bisseção, queremos reduzir o intervalo ao máximo sempre garantindo que a função nos\n",
    "extremos tenha sinais distintos, visto que isso garante, pelo Teorema do Valor Intermediário,\n",
    "a existência de um zero de função nesse intervalo. Sendo assim, passamos a função, os extremos\n",
    "esquerdo e direito do intervalo e o erro máximo esperado.\n",
    "Retornamos a estimativa com um erro menor que o esperado.\"\"\"\n",
    "\n",
    "function bissecao(f, esq, dir, erro = 1e-2)\n",
    "    m=0\n",
    "    \n",
    "    if f(esq)*f(dir)>0\n",
    "        println(\"ERRO: O intervalo passado não possui extremos com sinais distintos. Não podemos garantir um zero da função!\")\n",
    "        return\n",
    "    end\n",
    "    \n",
    "    while abs(dir-esq) > erro\n",
    "        m = (esq+dir)/2\n",
    "        res = f(m)\n",
    "        \n",
    "        if res == 0.0\n",
    "            break\n",
    "        elseif res*f(esq) > 0     # verifica se f(m) e f(esq) possuem o mesmo sinal\n",
    "            esq = m\n",
    "        else                      \n",
    "            dir = m\n",
    "        end\n",
    "    end\n",
    "    \n",
    "    return m\n",
    "end"
   ]
  },
  {
   "cell_type": "code",
   "execution_count": 15,
   "metadata": {},
   "outputs": [
    {
     "name": "stdout",
     "output_type": "stream",
     "text": [
      "ERRO: O intervalo passado não possui extremos com sinais distintos. Não podemos garantir um zero da função!\n"
     ]
    }
   ],
   "source": [
    "f(x) = x^5+4x^4-3x^2+1\n",
    "bissecao(f,-3,3)"
   ]
  },
  {
   "cell_type": "code",
   "execution_count": 16,
   "metadata": {},
   "outputs": [
    {
     "data": {
      "text/plain": [
       "-3.798828125"
      ]
     },
     "execution_count": 16,
     "metadata": {},
     "output_type": "execute_result"
    }
   ],
   "source": [
    "f(x) = x^5+4x^4-3x^2+1\n",
    "bissecao(f,-10,10)"
   ]
  },
  {
   "cell_type": "code",
   "execution_count": 17,
   "metadata": {},
   "outputs": [
    {
     "data": {
      "text/plain": [
       "6.2822265625"
      ]
     },
     "execution_count": 17,
     "metadata": {},
     "output_type": "execute_result"
    }
   ],
   "source": [
    "f(x) = sin(x/2)\n",
    "bissecao(f, 1, 10)"
   ]
  },
  {
   "cell_type": "markdown",
   "metadata": {},
   "source": [
    "### Achar o Zero da Função por Ponto Fixo"
   ]
  },
  {
   "cell_type": "code",
   "execution_count": 18,
   "metadata": {},
   "outputs": [
    {
     "data": {
      "text/plain": [
       "ponto_fixo"
      ]
     },
     "execution_count": 18,
     "metadata": {},
     "output_type": "execute_result"
    }
   ],
   "source": [
    "\"\"\"\n",
    "Usamos o método do ponto fixo para encontrar o zero de função, a ideia é usar substituições\n",
    "sucessivas de forma a encontrar uma interseção entre a função g(x) que definimos e a reta\n",
    "y = x. O truque para achar o zero está em definir g(x) de forma que\n",
    "a função tenha um ponto Z t.q. f(Z) = Z - g(Z) = 0.\n",
    "\n",
    "@param: - função f recebe a função escolhida pelo usuário para achar o zero (no caso, a nossa função g)\n",
    "        - a margem de erro eps\n",
    "        - e o ponto inicial x0\n",
    "\n",
    "@return: - zero da função f(x) (ponto fixo de g(x))\n",
    "         - Retorna um erro de execução caso o método falhe em encontrar (diverge)\n",
    "\"\"\"\n",
    "function ponto_fixo(f, eps, x0)\n",
    "    # Inicializa com infinito para saber se encontramos\n",
    "    ponto_fixo = -Inf\n",
    "    \n",
    "    # quantidade de iterações dadas até encontrar\n",
    "    steps = 1\n",
    "    \n",
    "    # Por conveniência vamos assumir que o método diverge \n",
    "    # se levar pelo menos 10^3 passos\n",
    "    while steps < 10^3 \n",
    "        nx = f(x0)\n",
    "\n",
    "        if abs(nx - x0) < eps\n",
    "            # achamos uma aproximação que respeita a margem de erro \n",
    "            ponto_fixo = nx\n",
    "            break\n",
    "        end\n",
    "\n",
    "        steps += 1\n",
    "        x0 = nx\n",
    "    end\n",
    "    \n",
    "    # método falhou\n",
    "    @assert(ponto_fixo != -Inf, \"Método divergiu com o input dado\")\n",
    "    \n",
    "    # retorna o ponto_fixo da função\n",
    "    return ponto_fixo\n",
    "end\n"
   ]
  },
  {
   "cell_type": "code",
   "execution_count": 19,
   "metadata": {},
   "outputs": [
    {
     "name": "stdout",
     "output_type": "stream",
     "text": [
      "-0.14558862306442932\n"
     ]
    }
   ],
   "source": [
    "function f(x)\n",
    "    return x*cos(x) - x*x + 8*x - 1\n",
    "end\n",
    "\n",
    "function g(x)\n",
    "    # g(x) é uma função cujo ponto fixo é um zero de f(x)\n",
    "    return (x*cos(x) - x*x -1)/8.0\n",
    "end\n",
    "\n",
    "println(ponto_fixo(g, 0.001, 0.0))"
   ]
  },
  {
   "cell_type": "code",
   "execution_count": 20,
   "metadata": {},
   "outputs": [
    {
     "name": "stdout",
     "output_type": "stream",
     "text": [
      "0.2891641649379035\n"
     ]
    }
   ],
   "source": [
    "function f(x)\n",
    "    return x^3 - 7*x + 2\n",
    "end\n",
    "\n",
    "function g(x)\n",
    "    # g(x) é uma função cujo ponto fixo é um zero de f(x)\n",
    "    return (x^3 + 2)/7.0\n",
    "end\n",
    "\n",
    "println(ponto_fixo(g, 1e-3, 0.0))"
   ]
  },
  {
   "cell_type": "code",
   "execution_count": 21,
   "metadata": {},
   "outputs": [
    {
     "ename": "LoadError",
     "evalue": "\u001b[91mAssertionError: Método divergiu com o input dado\u001b[39m",
     "output_type": "error",
     "traceback": [
      "\u001b[91mAssertionError: Método divergiu com o input dado\u001b[39m",
      "",
      "Stacktrace:",
      " [1] ponto_fixo(::typeof(g), ::Float64, ::Float64) at .\\In[18]:37",
      " [2] top-level scope at In[21]:11",
      " [3] include_string(::Function, ::Module, ::String, ::String) at .\\loading.jl:1091"
     ]
    }
   ],
   "source": [
    "function f(x)\n",
    "    return x^3 - x - 1\n",
    "end\n",
    "\n",
    "# se pegarmos uma g simples nesse caso o método tem que divergir\n",
    "function g(x)\n",
    "    # g(x) é uma função cujo ponto fixo é um zero de f(x)\n",
    "    return (x^3 - 1)\n",
    "end\n",
    "\n",
    "println(ponto_fixo(g, 1e-6, 0.0))"
   ]
  },
  {
   "cell_type": "code",
   "execution_count": 22,
   "metadata": {},
   "outputs": [
    {
     "name": "stdout",
     "output_type": "stream",
     "text": [
      "1.3247179361449652\n"
     ]
    }
   ],
   "source": [
    "function f(x)\n",
    "    return x^3 - x - 1\n",
    "end\n",
    "\n",
    "# se pegarmos uma g esperta o método tem que convergir\n",
    "function g(x)\n",
    "    # g(x) é uma função cujo ponto fixo é um zero de f(x)\n",
    "    return cbrt(x + 1)\n",
    "end\n",
    "\n",
    "println(ponto_fixo(g, 1e-7, 0.0))"
   ]
  },
  {
   "cell_type": "markdown",
   "metadata": {},
   "source": [
    "### Achar o Zero da Função por Newton"
   ]
  },
  {
   "cell_type": "code",
   "execution_count": 23,
   "metadata": {},
   "outputs": [
    {
     "data": {
      "text/plain": [
       "newton (generic function with 2 methods)"
      ]
     },
     "execution_count": 23,
     "metadata": {},
     "output_type": "execute_result"
    }
   ],
   "source": [
    "\"\"\" Para o método de Newton, queremos nos aproveitar do ângulo tangente da curva para nos\n",
    "aproximarmos precisamente do zero da função. Isso é feito encontrando a reta tangente a\n",
    "curva no ponto atual e indo para o ponto dessa reta que cruza o eixo x. Para isso, precisamos\n",
    "da função e sua derivada, o ponto inicial do método e o erro máximo esperado.\"\"\"\n",
    "\n",
    "function newton(f, fd, ponto, erro = 1e-8)\n",
    "    # Primeiro descobrimos quantos termos precisamos\n",
    "    termos = 1\n",
    "    while (termos+1)*(2^(termos+1)) < 1/erro\n",
    "        termos = termos+1\n",
    "    end\n",
    "\n",
    "    # Agora calculamos o taylor\n",
    "    for i in 1:termos\n",
    "        ponto = ponto - f(ponto)/fd(ponto)\n",
    "    end\n",
    "    \n",
    "    return ponto\n",
    "end"
   ]
  },
  {
   "cell_type": "code",
   "execution_count": 24,
   "metadata": {},
   "outputs": [
    {
     "data": {
      "text/plain": [
       "-3.796694419165162"
      ]
     },
     "execution_count": 24,
     "metadata": {},
     "output_type": "execute_result"
    }
   ],
   "source": [
    "f(x) = x^5+4x^4-3x^2+1\n",
    "fd(x) = 5x^4+16x^3-6x\n",
    "newton(f,fd,-4)"
   ]
  },
  {
   "cell_type": "code",
   "execution_count": 25,
   "metadata": {},
   "outputs": [
    {
     "data": {
      "text/plain": [
       "6.283185307179586"
      ]
     },
     "execution_count": 25,
     "metadata": {},
     "output_type": "execute_result"
    }
   ],
   "source": [
    "f(x) = sin(x/2)\n",
    "fd(x) = 1/2 * cos(x/2)\n",
    "newton(f, fd, 6)"
   ]
  },
  {
   "cell_type": "code",
   "execution_count": 26,
   "metadata": {},
   "outputs": [
    {
     "data": {
      "text/plain": [
       "1.0"
      ]
     },
     "execution_count": 26,
     "metadata": {},
     "output_type": "execute_result"
    }
   ],
   "source": [
    "f(x) = log(x)\n",
    "fd(x) = 1/x\n",
    "newton(f, fd, 2)"
   ]
  },
  {
   "cell_type": "markdown",
   "metadata": {},
   "source": [
    "### Achar o Zero da Função pelo Método de Euler"
   ]
  },
  {
   "cell_type": "code",
   "execution_count": 27,
   "metadata": {},
   "outputs": [],
   "source": [
    "# Chris\n",
    "\n",
    "# Método de Euler"
   ]
  },
  {
   "cell_type": "markdown",
   "metadata": {},
   "source": [
    "### Resolver EDO com Problema de Valor Inicial"
   ]
  },
  {
   "cell_type": "code",
   "execution_count": 28,
   "metadata": {},
   "outputs": [
    {
     "data": {
      "text/plain": [
       "resolver_PVI"
      ]
     },
     "execution_count": 28,
     "metadata": {},
     "output_type": "execute_result"
    }
   ],
   "source": [
    "\"\"\"\n",
    "Usamos o método de euler para resolver o problema de valor inicial. O método é usado para\n",
    "aproximar o valor de EDOs, ele faz isso usando aproximações de retas tangentes para descrever\n",
    "a curva repetidas vezes.\n",
    "\n",
    "@param: - derivada de f(x, y)\n",
    "        - x inicial\n",
    "        - y inicial (isso é o valor inicial conhecido no nosso problema)\n",
    "        - x_final denota o ponto x em que queremos uma aproximação para f\n",
    "        - n denota em quantos subintervalos vamos dividir nosso intervalo\n",
    "\n",
    "@return: - aproximação para f no ponto x_final\n",
    "\"\"\"\n",
    "function resolver_PVI(derivada, x_inicial,y_inicial,x_final,n) #Feito\n",
    "    # tamanho do intervalo que usaremos dada a discretização desejada\n",
    "    H = (x_final-x_inicial) / n\n",
    "    \n",
    "    # passos iniciais\n",
    "    xi = x_inicial\n",
    "    yi = y_inicial\n",
    "\n",
    "    while xi + H <= x_final\n",
    "        # pegamos o próximo valor de y andando pela reta tangente ao \n",
    "        # ponto x_i com um passo de tamanho H\n",
    "        yi += derivada(xi, yi) * H\n",
    "        xi += H\n",
    "    end\n",
    "    \n",
    "    return yi # retornamos o valor de y no estado final\n",
    "end"
   ]
  },
  {
   "cell_type": "code",
   "execution_count": 29,
   "metadata": {},
   "outputs": [
    {
     "data": {
      "text/plain": [
       "41.144777789250874"
      ]
     },
     "execution_count": 29,
     "metadata": {},
     "output_type": "execute_result"
    }
   ],
   "source": [
    "df(x, y) = y\n",
    "\n",
    "# queremos aproximar y(4) usando método de euler\n",
    "# sendo y'(x) = y(x), y(0) = 1 e dividindo o intervalo em 40 partes\n",
    "\n",
    "resolver_PVI(df, 0.0, 1.0, 4, 40)"
   ]
  },
  {
   "cell_type": "code",
   "execution_count": 30,
   "metadata": {},
   "outputs": [
    {
     "data": {
      "text/plain": [
       "20.0"
      ]
     },
     "execution_count": 30,
     "metadata": {},
     "output_type": "execute_result"
    }
   ],
   "source": [
    "df(x, y) = y + 3*x\n",
    "\n",
    "# queremos aproximar y(3) usando método de euler\n",
    "# sendo y'(x) = y + 3x, y(3) = 1 e dividindo o intervalo em 3 partes\n",
    "\n",
    "resolver_PVI(df, 0.0, 1.0, 3, 3)"
   ]
  },
  {
   "cell_type": "code",
   "execution_count": 31,
   "metadata": {},
   "outputs": [
    {
     "data": {
      "text/plain": [
       "1.0987701305162527"
      ]
     },
     "execution_count": 31,
     "metadata": {},
     "output_type": "execute_result"
    }
   ],
   "source": [
    "df(x, y) = exp(-x)\n",
    "\n",
    "# queremos aproximar y(5) usando método de euler\n",
    "# sendo y'(x) = x^2 + 3x, y(2) = 10 e dividindo o intervalo em 40 partes\n",
    "\n",
    "resolver_PVI(df, 0.0, 0.0, 2, 4)"
   ]
  },
  {
   "cell_type": "markdown",
   "metadata": {},
   "source": [
    "### Resolver um Sistema Ax=b"
   ]
  },
  {
   "cell_type": "code",
   "execution_count": 32,
   "metadata": {},
   "outputs": [
    {
     "data": {
      "text/plain": [
       "resolver_um_sistema (generic function with 1 method)"
      ]
     },
     "execution_count": 32,
     "metadata": {},
     "output_type": "execute_result"
    }
   ],
   "source": [
    "\"\"\" Essa função é um encapsulamento da resolução de sistema do formato 'A.x = b' \n",
    "utilizando decomposição LU. Para isso, é passado como parâmetro a matriz A e o \n",
    "vetor b, e o resultado será o vetor x.\"\"\"\n",
    "\n",
    "function resolver_um_sistema(A,b) \n",
    "    L, U = decomposicao_LU(A)\n",
    "    x = resolver_pos_LU(L,U,b)\n",
    "    return x\n",
    "end"
   ]
  },
  {
   "cell_type": "code",
   "execution_count": 33,
   "metadata": {},
   "outputs": [
    {
     "name": "stdout",
     "output_type": "stream",
     "text": [
      "[2.1040532365396274; -5.474289171203875; -0.6170598911070786; 3.5075620084694505]\n",
      "[2.104053236539625, -5.474289171203873, -0.6170598911070775, 3.507562008469449]\n"
     ]
    }
   ],
   "source": [
    "A=[1.0 3.0 2.0 7.0 ; 10.0 3.0 10.0 7.0 ; 3.0 5.0 18.0 22.0 ; 5.0 2.0 1.0 6.0]\n",
    "b=[9.0 ; 23.0 ; 45.0 ; 20.0]\n",
    "\n",
    "println(resolver_um_sistema(A,b))\n",
    "println(A\\b)"
   ]
  },
  {
   "cell_type": "code",
   "execution_count": 34,
   "metadata": {},
   "outputs": [
    {
     "name": "stdout",
     "output_type": "stream",
     "text": [
      "[-8.307692307692305; 6.692307692307692; -1.3846153846153844]\n",
      "[-8.307692307692307, 6.692307692307692, -1.3846153846153846]\n"
     ]
    }
   ],
   "source": [
    "A=[1.0 3.0 2.0 ; -2.0 -1.0 5.0 ; 1.0 1.0 1.0]\n",
    "b=[9.0 ; 3.0 ; -3.0]\n",
    "\n",
    "println(resolver_um_sistema(A,b))\n",
    "println(A\\b)"
   ]
  },
  {
   "cell_type": "code",
   "execution_count": 35,
   "metadata": {},
   "outputs": [
    {
     "name": "stdout",
     "output_type": "stream",
     "text": [
      "[2.4; 0.2]\n",
      "[2.4, 0.2]\n"
     ]
    }
   ],
   "source": [
    "A=[1.0 3.0 ; -1.0 2.0]\n",
    "b=[3.0 ; -2.0]\n",
    "\n",
    "println(resolver_um_sistema(A,b))\n",
    "println(A\\b)"
   ]
  },
  {
   "cell_type": "markdown",
   "metadata": {},
   "source": [
    "### Resolver EDO com Problema de Valor de Contorno"
   ]
  },
  {
   "cell_type": "code",
   "execution_count": 97,
   "metadata": {},
   "outputs": [
    {
     "data": {
      "text/plain": [
       "resolver_PVC (generic function with 1 method)"
      ]
     },
     "execution_count": 97,
     "metadata": {},
     "output_type": "execute_result"
    }
   ],
   "source": [
    "# Luan\n",
    "function resolver_PVC(segunda_derivada, x_inicial, y_inicial, x_final, y_final, n)  #Não dá pra fazer genericamente\n",
    "    \n",
    "    # Calcula o h\n",
    "    h = (x_final - x_inicial)/n\n",
    "\n",
    "    # Inicializa a matriz vazia\n",
    "    A = []\n",
    "    \n",
    "    # Vetor auxiliar para construir a matriz \n",
    "    v = [-2, 1]\n",
    "    \n",
    "    # Preenche a primeira linha com 0's\n",
    "    for i = 3:n-1\n",
    "        push!(v, 0)\n",
    "    end\n",
    "    \n",
    "    # Coloca o vetor auxiliar na matriz\n",
    "    push!(A, v)\n",
    "    \n",
    "    # Constrói a matriz por meio dos vetores auxiliares\n",
    "    for i = 2:n-2\n",
    "        v = []\n",
    "        for j = 1:i-2\n",
    "            push!(v, 0)\n",
    "        end\n",
    "        push!(v, 1)\n",
    "        push!(v, -2)\n",
    "        push!(v, 1)\n",
    "        for j = i+2:n-1\n",
    "            push!(v, 0)\n",
    "        end\n",
    "        v = vcat(v...)\n",
    "        push!(A, v)\n",
    "    end\n",
    "    \n",
    "    # Termina de construir a matriz\n",
    "    v = []\n",
    "    for i = 1:n-3\n",
    "        push!(v, 0)\n",
    "    end\n",
    "    push!(v, 1)\n",
    "    push!(v, -2)\n",
    "    push!(A, v)\n",
    "    \n",
    "    # Gera o vetor b de acordo com as aproximações da segunda derivada\n",
    "    b = Any[segunda_derivada(x_inicial)*h^2 - y_inicial]\n",
    "    for i = 2:n-2\n",
    "        push!(b, segunda_derivada((x_inicial + h*(i)))*h^2)\n",
    "    end\n",
    "    push!(b, segunda_derivada(x_final)*h^2 - y_final)\n",
    "    b = vcat(b...)\n",
    "    A = hcat(A...)\n",
    "\n",
    "    # Resolve o sistema e acha os pontos y\n",
    "    y = resolver_um_sistema(A,b)\n",
    "    return y\n",
    "end"
   ]
  },
  {
   "cell_type": "code",
   "execution_count": 101,
   "metadata": {},
   "outputs": [
    {
     "data": {
      "image/svg+xml": [
       "<?xml version=\"1.0\" encoding=\"utf-8\"?>\n",
       "<svg xmlns=\"http://www.w3.org/2000/svg\" xmlns:xlink=\"http://www.w3.org/1999/xlink\" width=\"600\" height=\"400\" viewBox=\"0 0 2400 1600\">\n",
       "<defs>\n",
       "  <clipPath id=\"clip210\">\n",
       "    <rect x=\"0\" y=\"0\" width=\"2400\" height=\"1600\"/>\n",
       "  </clipPath>\n",
       "</defs>\n",
       "<path clip-path=\"url(#clip210)\" d=\"\n",
       "M0 1600 L2400 1600 L2400 0 L0 0  Z\n",
       "  \" fill=\"#ffffff\" fill-rule=\"evenodd\" fill-opacity=\"1\"/>\n",
       "<defs>\n",
       "  <clipPath id=\"clip211\">\n",
       "    <rect x=\"480\" y=\"0\" width=\"1681\" height=\"1600\"/>\n",
       "  </clipPath>\n",
       "</defs>\n",
       "<path clip-path=\"url(#clip210)\" d=\"\n",
       "M112.177 1486.45 L2352.76 1486.45 L2352.76 47.2441 L112.177 47.2441  Z\n",
       "  \" fill=\"#ffffff\" fill-rule=\"evenodd\" fill-opacity=\"1\"/>\n",
       "<defs>\n",
       "  <clipPath id=\"clip212\">\n",
       "    <rect x=\"112\" y=\"47\" width=\"2242\" height=\"1440\"/>\n",
       "  </clipPath>\n",
       "</defs>\n",
       "<polyline clip-path=\"url(#clip212)\" style=\"stroke:#000000; stroke-width:2; stroke-opacity:0.1; fill:none\" points=\"\n",
       "  175.59,1486.45 175.59,47.2441 \n",
       "  \"/>\n",
       "<polyline clip-path=\"url(#clip212)\" style=\"stroke:#000000; stroke-width:2; stroke-opacity:0.1; fill:none\" points=\"\n",
       "  598.34,1486.45 598.34,47.2441 \n",
       "  \"/>\n",
       "<polyline clip-path=\"url(#clip212)\" style=\"stroke:#000000; stroke-width:2; stroke-opacity:0.1; fill:none\" points=\"\n",
       "  1021.09,1486.45 1021.09,47.2441 \n",
       "  \"/>\n",
       "<polyline clip-path=\"url(#clip212)\" style=\"stroke:#000000; stroke-width:2; stroke-opacity:0.1; fill:none\" points=\"\n",
       "  1443.84,1486.45 1443.84,47.2441 \n",
       "  \"/>\n",
       "<polyline clip-path=\"url(#clip212)\" style=\"stroke:#000000; stroke-width:2; stroke-opacity:0.1; fill:none\" points=\"\n",
       "  1866.59,1486.45 1866.59,47.2441 \n",
       "  \"/>\n",
       "<polyline clip-path=\"url(#clip212)\" style=\"stroke:#000000; stroke-width:2; stroke-opacity:0.1; fill:none\" points=\"\n",
       "  2289.34,1486.45 2289.34,47.2441 \n",
       "  \"/>\n",
       "<polyline clip-path=\"url(#clip210)\" style=\"stroke:#000000; stroke-width:4; stroke-opacity:1; fill:none\" points=\"\n",
       "  112.177,1486.45 2352.76,1486.45 \n",
       "  \"/>\n",
       "<polyline clip-path=\"url(#clip210)\" style=\"stroke:#000000; stroke-width:4; stroke-opacity:1; fill:none\" points=\"\n",
       "  175.59,1486.45 175.59,1469.18 \n",
       "  \"/>\n",
       "<polyline clip-path=\"url(#clip210)\" style=\"stroke:#000000; stroke-width:4; stroke-opacity:1; fill:none\" points=\"\n",
       "  598.34,1486.45 598.34,1469.18 \n",
       "  \"/>\n",
       "<polyline clip-path=\"url(#clip210)\" style=\"stroke:#000000; stroke-width:4; stroke-opacity:1; fill:none\" points=\"\n",
       "  1021.09,1486.45 1021.09,1469.18 \n",
       "  \"/>\n",
       "<polyline clip-path=\"url(#clip210)\" style=\"stroke:#000000; stroke-width:4; stroke-opacity:1; fill:none\" points=\"\n",
       "  1443.84,1486.45 1443.84,1469.18 \n",
       "  \"/>\n",
       "<polyline clip-path=\"url(#clip210)\" style=\"stroke:#000000; stroke-width:4; stroke-opacity:1; fill:none\" points=\"\n",
       "  1866.59,1486.45 1866.59,1469.18 \n",
       "  \"/>\n",
       "<polyline clip-path=\"url(#clip210)\" style=\"stroke:#000000; stroke-width:4; stroke-opacity:1; fill:none\" points=\"\n",
       "  2289.34,1486.45 2289.34,1469.18 \n",
       "  \"/>\n",
       "<path clip-path=\"url(#clip210)\" d=\"M 0 0 M175.59 1515.64 Q171.979 1515.64 170.15 1519.2 Q168.344 1522.75 168.344 1529.87 Q168.344 1536.98 170.15 1540.55 Q171.979 1544.09 175.59 1544.09 Q179.224 1544.09 181.03 1540.55 Q182.858 1536.98 182.858 1529.87 Q182.858 1522.75 181.03 1519.2 Q179.224 1515.64 175.59 1515.64 M175.59 1511.93 Q181.4 1511.93 184.455 1516.54 Q187.534 1521.12 187.534 1529.87 Q187.534 1538.6 184.455 1543.21 Q181.4 1547.79 175.59 1547.79 Q169.78 1547.79 166.701 1543.21 Q163.645 1538.6 163.645 1529.87 Q163.645 1521.12 166.701 1516.54 Q169.78 1511.93 175.59 1511.93 Z\" fill=\"#000000\" fill-rule=\"evenodd\" fill-opacity=\"1\" /><path clip-path=\"url(#clip210)\" d=\"M 0 0 M588.722 1543.18 L596.361 1543.18 L596.361 1516.82 L588.051 1518.49 L588.051 1514.23 L596.315 1512.56 L600.991 1512.56 L600.991 1543.18 L608.63 1543.18 L608.63 1547.12 L588.722 1547.12 L588.722 1543.18 Z\" fill=\"#000000\" fill-rule=\"evenodd\" fill-opacity=\"1\" /><path clip-path=\"url(#clip210)\" d=\"M 0 0 M1015.74 1543.18 L1032.06 1543.18 L1032.06 1547.12 L1010.12 1547.12 L1010.12 1543.18 Q1012.78 1540.43 1017.36 1535.8 Q1021.97 1531.15 1023.15 1529.81 Q1025.4 1527.28 1026.28 1525.55 Q1027.18 1523.79 1027.18 1522.1 Q1027.18 1519.34 1025.23 1517.61 Q1023.31 1515.87 1020.21 1515.87 Q1018.01 1515.87 1015.56 1516.63 Q1013.13 1517.4 1010.35 1518.95 L1010.35 1514.23 Q1013.17 1513.09 1015.63 1512.51 Q1018.08 1511.93 1020.12 1511.93 Q1025.49 1511.93 1028.68 1514.62 Q1031.88 1517.31 1031.88 1521.8 Q1031.88 1523.93 1031.07 1525.85 Q1030.28 1527.74 1028.17 1530.34 Q1027.6 1531.01 1024.49 1534.23 Q1021.39 1537.42 1015.74 1543.18 Z\" fill=\"#000000\" fill-rule=\"evenodd\" fill-opacity=\"1\" /><path clip-path=\"url(#clip210)\" d=\"M 0 0 M1448.09 1528.49 Q1451.45 1529.2 1453.32 1531.47 Q1455.22 1533.74 1455.22 1537.07 Q1455.22 1542.19 1451.7 1544.99 Q1448.18 1547.79 1441.7 1547.79 Q1439.52 1547.79 1437.21 1547.35 Q1434.92 1546.93 1432.46 1546.08 L1432.46 1541.56 Q1434.41 1542.7 1436.72 1543.28 Q1439.04 1543.86 1441.56 1543.86 Q1445.96 1543.86 1448.25 1542.12 Q1450.57 1540.38 1450.57 1537.07 Q1450.57 1534.02 1448.41 1532.31 Q1446.28 1530.57 1442.46 1530.57 L1438.44 1530.57 L1438.44 1526.73 L1442.65 1526.73 Q1446.1 1526.73 1447.93 1525.36 Q1449.76 1523.97 1449.76 1521.38 Q1449.76 1518.72 1447.86 1517.31 Q1445.98 1515.87 1442.46 1515.87 Q1440.54 1515.87 1438.34 1516.29 Q1436.15 1516.7 1433.51 1517.58 L1433.51 1513.42 Q1436.17 1512.68 1438.48 1512.31 Q1440.82 1511.93 1442.88 1511.93 Q1448.21 1511.93 1451.31 1514.37 Q1454.41 1516.77 1454.41 1520.89 Q1454.41 1523.76 1452.77 1525.75 Q1451.12 1527.72 1448.09 1528.49 Z\" fill=\"#000000\" fill-rule=\"evenodd\" fill-opacity=\"1\" /><path clip-path=\"url(#clip210)\" d=\"M 0 0 M1869.6 1516.63 L1857.8 1535.08 L1869.6 1535.08 L1869.6 1516.63 M1868.37 1512.56 L1874.25 1512.56 L1874.25 1535.08 L1879.19 1535.08 L1879.19 1538.97 L1874.25 1538.97 L1874.25 1547.12 L1869.6 1547.12 L1869.6 1538.97 L1854 1538.97 L1854 1534.46 L1868.37 1512.56 Z\" fill=\"#000000\" fill-rule=\"evenodd\" fill-opacity=\"1\" /><path clip-path=\"url(#clip210)\" d=\"M 0 0 M2279.62 1512.56 L2297.98 1512.56 L2297.98 1516.5 L2283.9 1516.5 L2283.9 1524.97 Q2284.92 1524.62 2285.94 1524.46 Q2286.96 1524.27 2287.98 1524.27 Q2293.76 1524.27 2297.14 1527.44 Q2300.52 1530.62 2300.52 1536.03 Q2300.52 1541.61 2297.05 1544.71 Q2293.58 1547.79 2287.26 1547.79 Q2285.08 1547.79 2282.82 1547.42 Q2280.57 1547.05 2278.16 1546.31 L2278.16 1541.61 Q2280.25 1542.74 2282.47 1543.3 Q2284.69 1543.86 2287.17 1543.86 Q2291.17 1543.86 2293.51 1541.75 Q2295.85 1539.64 2295.85 1536.03 Q2295.85 1532.42 2293.51 1530.31 Q2291.17 1528.21 2287.17 1528.21 Q2285.29 1528.21 2283.42 1528.62 Q2281.57 1529.04 2279.62 1529.92 L2279.62 1512.56 Z\" fill=\"#000000\" fill-rule=\"evenodd\" fill-opacity=\"1\" /><polyline clip-path=\"url(#clip212)\" style=\"stroke:#000000; stroke-width:2; stroke-opacity:0.1; fill:none\" points=\"\n",
       "  112.177,1391.41 2352.76,1391.41 \n",
       "  \"/>\n",
       "<polyline clip-path=\"url(#clip212)\" style=\"stroke:#000000; stroke-width:2; stroke-opacity:0.1; fill:none\" points=\"\n",
       "  112.177,1174.17 2352.76,1174.17 \n",
       "  \"/>\n",
       "<polyline clip-path=\"url(#clip212)\" style=\"stroke:#000000; stroke-width:2; stroke-opacity:0.1; fill:none\" points=\"\n",
       "  112.177,956.93 2352.76,956.93 \n",
       "  \"/>\n",
       "<polyline clip-path=\"url(#clip212)\" style=\"stroke:#000000; stroke-width:2; stroke-opacity:0.1; fill:none\" points=\"\n",
       "  112.177,739.691 2352.76,739.691 \n",
       "  \"/>\n",
       "<polyline clip-path=\"url(#clip212)\" style=\"stroke:#000000; stroke-width:2; stroke-opacity:0.1; fill:none\" points=\"\n",
       "  112.177,522.453 2352.76,522.453 \n",
       "  \"/>\n",
       "<polyline clip-path=\"url(#clip212)\" style=\"stroke:#000000; stroke-width:2; stroke-opacity:0.1; fill:none\" points=\"\n",
       "  112.177,305.215 2352.76,305.215 \n",
       "  \"/>\n",
       "<polyline clip-path=\"url(#clip212)\" style=\"stroke:#000000; stroke-width:2; stroke-opacity:0.1; fill:none\" points=\"\n",
       "  112.177,87.9763 2352.76,87.9763 \n",
       "  \"/>\n",
       "<polyline clip-path=\"url(#clip210)\" style=\"stroke:#000000; stroke-width:4; stroke-opacity:1; fill:none\" points=\"\n",
       "  112.177,1486.45 112.177,47.2441 \n",
       "  \"/>\n",
       "<polyline clip-path=\"url(#clip210)\" style=\"stroke:#000000; stroke-width:4; stroke-opacity:1; fill:none\" points=\"\n",
       "  112.177,1391.41 139.064,1391.41 \n",
       "  \"/>\n",
       "<polyline clip-path=\"url(#clip210)\" style=\"stroke:#000000; stroke-width:4; stroke-opacity:1; fill:none\" points=\"\n",
       "  112.177,1174.17 139.064,1174.17 \n",
       "  \"/>\n",
       "<polyline clip-path=\"url(#clip210)\" style=\"stroke:#000000; stroke-width:4; stroke-opacity:1; fill:none\" points=\"\n",
       "  112.177,956.93 139.064,956.93 \n",
       "  \"/>\n",
       "<polyline clip-path=\"url(#clip210)\" style=\"stroke:#000000; stroke-width:4; stroke-opacity:1; fill:none\" points=\"\n",
       "  112.177,739.691 139.064,739.691 \n",
       "  \"/>\n",
       "<polyline clip-path=\"url(#clip210)\" style=\"stroke:#000000; stroke-width:4; stroke-opacity:1; fill:none\" points=\"\n",
       "  112.177,522.453 139.064,522.453 \n",
       "  \"/>\n",
       "<polyline clip-path=\"url(#clip210)\" style=\"stroke:#000000; stroke-width:4; stroke-opacity:1; fill:none\" points=\"\n",
       "  112.177,305.215 139.064,305.215 \n",
       "  \"/>\n",
       "<polyline clip-path=\"url(#clip210)\" style=\"stroke:#000000; stroke-width:4; stroke-opacity:1; fill:none\" points=\"\n",
       "  112.177,87.9763 139.064,87.9763 \n",
       "  \"/>\n",
       "<path clip-path=\"url(#clip210)\" d=\"M 0 0 M64.2328 1377.2 Q60.6217 1377.2 58.793 1380.77 Q56.9875 1384.31 56.9875 1391.44 Q56.9875 1398.55 58.793 1402.11 Q60.6217 1405.65 64.2328 1405.65 Q67.867 1405.65 69.6726 1402.11 Q71.5013 1398.55 71.5013 1391.44 Q71.5013 1384.31 69.6726 1380.77 Q67.867 1377.2 64.2328 1377.2 M64.2328 1373.5 Q70.0429 1373.5 73.0985 1378.11 Q76.1772 1382.69 76.1772 1391.44 Q76.1772 1400.17 73.0985 1404.77 Q70.0429 1409.36 64.2328 1409.36 Q58.4226 1409.36 55.344 1404.77 Q52.2884 1400.17 52.2884 1391.44 Q52.2884 1382.69 55.344 1378.11 Q58.4226 1373.5 64.2328 1373.5 Z\" fill=\"#000000\" fill-rule=\"evenodd\" fill-opacity=\"1\" /><path clip-path=\"url(#clip210)\" d=\"M 0 0 M56.2699 1187.51 L63.9087 1187.51 L63.9087 1161.15 L55.5986 1162.81 L55.5986 1158.55 L63.8624 1156.89 L68.5383 1156.89 L68.5383 1187.51 L76.1772 1187.51 L76.1772 1191.45 L56.2699 1191.45 L56.2699 1187.51 Z\" fill=\"#000000\" fill-rule=\"evenodd\" fill-opacity=\"1\" /><path clip-path=\"url(#clip210)\" d=\"M 0 0 M59.8578 970.274 L76.1772 970.274 L76.1772 974.21 L54.2328 974.21 L54.2328 970.274 Q56.8949 967.52 61.4782 962.89 Q66.0846 958.237 67.2652 956.895 Q69.5105 954.372 70.3902 952.636 Q71.2929 950.876 71.2929 949.186 Q71.2929 946.432 69.3485 944.696 Q67.4272 942.96 64.3254 942.96 Q62.1263 942.96 59.6726 943.724 Q57.2421 944.487 54.4643 946.038 L54.4643 941.316 Q57.2884 940.182 59.7421 939.603 Q62.1958 939.025 64.2328 939.025 Q69.6031 939.025 72.7976 941.71 Q75.992 944.395 75.992 948.886 Q75.992 951.015 75.1818 952.936 Q74.3948 954.835 72.2883 957.427 Q71.7096 958.098 68.6078 961.316 Q65.5059 964.51 59.8578 970.274 Z\" fill=\"#000000\" fill-rule=\"evenodd\" fill-opacity=\"1\" /><path clip-path=\"url(#clip210)\" d=\"M 0 0 M69.0476 738.337 Q72.404 739.055 74.279 741.323 Q76.1772 743.592 76.1772 746.925 Q76.1772 752.041 72.6587 754.842 Q69.1402 757.642 62.6587 757.642 Q60.4828 757.642 58.168 757.203 Q55.8764 756.786 53.4227 755.93 L53.4227 751.416 Q55.3671 752.55 57.6819 753.129 Q59.9967 753.707 62.5198 753.707 Q66.918 753.707 69.2096 751.971 Q71.5244 750.235 71.5244 746.925 Q71.5244 743.869 69.3717 742.156 Q67.242 740.42 63.4226 740.42 L59.3949 740.42 L59.3949 736.578 L63.6078 736.578 Q67.0569 736.578 68.8855 735.212 Q70.7142 733.823 70.7142 731.231 Q70.7142 728.569 68.8161 727.157 Q66.9411 725.721 63.4226 725.721 Q61.5013 725.721 59.3023 726.138 Q57.1032 726.555 54.4643 727.434 L54.4643 723.268 Q57.1264 722.527 59.4412 722.157 Q61.7791 721.786 63.8393 721.786 Q69.1633 721.786 72.2652 724.217 Q75.367 726.624 75.367 730.744 Q75.367 733.615 73.7235 735.606 Q72.08 737.573 69.0476 738.337 Z\" fill=\"#000000\" fill-rule=\"evenodd\" fill-opacity=\"1\" /><path clip-path=\"url(#clip210)\" d=\"M 0 0 M66.5939 509.247 L54.7884 527.696 L66.5939 527.696 L66.5939 509.247 M65.367 505.173 L71.2466 505.173 L71.2466 527.696 L76.1772 527.696 L76.1772 531.585 L71.2466 531.585 L71.2466 539.733 L66.5939 539.733 L66.5939 531.585 L50.9921 531.585 L50.9921 527.071 L65.367 505.173 Z\" fill=\"#000000\" fill-rule=\"evenodd\" fill-opacity=\"1\" /><path clip-path=\"url(#clip210)\" d=\"M 0 0 M55.2745 287.935 L73.6309 287.935 L73.6309 291.87 L59.5569 291.87 L59.5569 300.342 Q60.5754 299.995 61.5939 299.833 Q62.6124 299.647 63.6309 299.647 Q69.418 299.647 72.7976 302.819 Q76.1772 305.99 76.1772 311.407 Q76.1772 316.985 72.705 320.087 Q69.2328 323.166 62.9134 323.166 Q60.7374 323.166 58.4689 322.796 Q56.2236 322.425 53.8162 321.684 L53.8162 316.985 Q55.8995 318.12 58.1217 318.675 Q60.3439 319.231 62.8208 319.231 Q66.8254 319.231 69.1633 317.124 Q71.5013 315.018 71.5013 311.407 Q71.5013 307.796 69.1633 305.689 Q66.8254 303.583 62.8208 303.583 Q60.9458 303.583 59.0708 303.999 Q57.2189 304.416 55.2745 305.296 L55.2745 287.935 Z\" fill=\"#000000\" fill-rule=\"evenodd\" fill-opacity=\"1\" /><path clip-path=\"url(#clip210)\" d=\"M 0 0 M64.6495 86.1129 Q61.5013 86.1129 59.6495 88.2656 Q57.8208 90.4184 57.8208 94.1684 Q57.8208 97.8952 59.6495 100.071 Q61.5013 102.224 64.6495 102.224 Q67.7976 102.224 69.6263 100.071 Q71.4781 97.8952 71.4781 94.1684 Q71.4781 90.4184 69.6263 88.2656 Q67.7976 86.1129 64.6495 86.1129 M73.9318 71.4602 L73.9318 75.7194 Q72.1726 74.8861 70.367 74.4463 Q68.5846 74.0064 66.8254 74.0064 Q62.1958 74.0064 59.7421 77.1314 Q57.3115 80.2564 56.9643 86.5758 Q58.33 84.5619 60.3902 83.4971 Q62.4504 82.4092 64.9272 82.4092 Q70.1355 82.4092 73.1448 85.5805 Q76.1772 88.7286 76.1772 94.1684 Q76.1772 99.4924 73.029 102.71 Q69.8809 105.928 64.6495 105.928 Q58.6541 105.928 55.4828 101.344 Q52.3116 96.7378 52.3116 88.011 Q52.3116 79.8166 56.2004 74.9555 Q60.0893 70.0713 66.6402 70.0713 Q68.3994 70.0713 70.1818 70.4185 Q71.9874 70.7657 73.9318 71.4602 Z\" fill=\"#000000\" fill-rule=\"evenodd\" fill-opacity=\"1\" /><polyline clip-path=\"url(#clip212)\" style=\"stroke:#009af9; stroke-width:4; stroke-opacity:1; fill:none\" points=\"\n",
       "  175.59,87.9763 185.911,114.366 196.232,140.496 291.667,369.841 387.102,577.044 444.455,690.914 501.807,796.786 550.298,880.061 598.789,957.62 651.463,1035.39 \n",
       "  704.138,1106.42 752.699,1165.93 801.261,1219.7 853.323,1270.98 905.386,1315.68 965.706,1359.22 1026.03,1393.91 1079.63,1417.32 1133.24,1433.75 1180.24,1442.4 \n",
       "  1227.25,1445.68 1278.5,1443.14 1329.75,1434.21 1381.31,1418.79 1432.86,1396.9 1489.86,1365.18 1546.86,1325.57 1601.1,1280.54 1655.33,1228.36 1711.72,1166.53 \n",
       "  1768.11,1096.96 1815.58,1032.4 1863.05,962.373 1921.01,869.446 1978.96,768.353 2033.44,665.878 2087.92,556.187 2175.2,365.414 2262.48,156.122 2275.91,122.268 \n",
       "  2289.34,87.9763 \n",
       "  \"/>\n",
       "<circle clip-path=\"url(#clip212)\" cx=\"175.59\" cy=\"87.9763\" r=\"14\" fill=\"#e26f46\" fill-rule=\"evenodd\" fill-opacity=\"1\" stroke=\"#000000\" stroke-opacity=\"1\" stroke-width=\"3.2\"/>\n",
       "<circle clip-path=\"url(#clip212)\" cx=\"246.048\" cy=\"262.974\" r=\"14\" fill=\"#e26f46\" fill-rule=\"evenodd\" fill-opacity=\"1\" stroke=\"#000000\" stroke-opacity=\"1\" stroke-width=\"3.2\"/>\n",
       "<circle clip-path=\"url(#clip212)\" cx=\"316.507\" cy=\"425.903\" r=\"14\" fill=\"#e26f46\" fill-rule=\"evenodd\" fill-opacity=\"1\" stroke=\"#000000\" stroke-opacity=\"1\" stroke-width=\"3.2\"/>\n",
       "<circle clip-path=\"url(#clip212)\" cx=\"386.965\" cy=\"576.762\" r=\"14\" fill=\"#e26f46\" fill-rule=\"evenodd\" fill-opacity=\"1\" stroke=\"#000000\" stroke-opacity=\"1\" stroke-width=\"3.2\"/>\n",
       "<circle clip-path=\"url(#clip212)\" cx=\"457.424\" cy=\"715.554\" r=\"14\" fill=\"#e26f46\" fill-rule=\"evenodd\" fill-opacity=\"1\" stroke=\"#000000\" stroke-opacity=\"1\" stroke-width=\"3.2\"/>\n",
       "<circle clip-path=\"url(#clip212)\" cx=\"527.882\" cy=\"842.276\" r=\"14\" fill=\"#e26f46\" fill-rule=\"evenodd\" fill-opacity=\"1\" stroke=\"#000000\" stroke-opacity=\"1\" stroke-width=\"3.2\"/>\n",
       "<circle clip-path=\"url(#clip212)\" cx=\"598.34\" cy=\"956.93\" r=\"14\" fill=\"#e26f46\" fill-rule=\"evenodd\" fill-opacity=\"1\" stroke=\"#000000\" stroke-opacity=\"1\" stroke-width=\"3.2\"/>\n",
       "<circle clip-path=\"url(#clip212)\" cx=\"668.799\" cy=\"1059.51\" r=\"14\" fill=\"#e26f46\" fill-rule=\"evenodd\" fill-opacity=\"1\" stroke=\"#000000\" stroke-opacity=\"1\" stroke-width=\"3.2\"/>\n",
       "<circle clip-path=\"url(#clip212)\" cx=\"739.257\" cy=\"1150.03\" r=\"14\" fill=\"#e26f46\" fill-rule=\"evenodd\" fill-opacity=\"1\" stroke=\"#000000\" stroke-opacity=\"1\" stroke-width=\"3.2\"/>\n",
       "<circle clip-path=\"url(#clip212)\" cx=\"809.716\" cy=\"1228.48\" r=\"14\" fill=\"#e26f46\" fill-rule=\"evenodd\" fill-opacity=\"1\" stroke=\"#000000\" stroke-opacity=\"1\" stroke-width=\"3.2\"/>\n",
       "<circle clip-path=\"url(#clip212)\" cx=\"880.174\" cy=\"1294.86\" r=\"14\" fill=\"#e26f46\" fill-rule=\"evenodd\" fill-opacity=\"1\" stroke=\"#000000\" stroke-opacity=\"1\" stroke-width=\"3.2\"/>\n",
       "<circle clip-path=\"url(#clip212)\" cx=\"950.633\" cy=\"1349.17\" r=\"14\" fill=\"#e26f46\" fill-rule=\"evenodd\" fill-opacity=\"1\" stroke=\"#000000\" stroke-opacity=\"1\" stroke-width=\"3.2\"/>\n",
       "<circle clip-path=\"url(#clip212)\" cx=\"1021.09\" cy=\"1391.41\" r=\"14\" fill=\"#e26f46\" fill-rule=\"evenodd\" fill-opacity=\"1\" stroke=\"#000000\" stroke-opacity=\"1\" stroke-width=\"3.2\"/>\n",
       "<circle clip-path=\"url(#clip212)\" cx=\"1091.55\" cy=\"1421.58\" r=\"14\" fill=\"#e26f46\" fill-rule=\"evenodd\" fill-opacity=\"1\" stroke=\"#000000\" stroke-opacity=\"1\" stroke-width=\"3.2\"/>\n",
       "<circle clip-path=\"url(#clip212)\" cx=\"1162.01\" cy=\"1439.68\" r=\"14\" fill=\"#e26f46\" fill-rule=\"evenodd\" fill-opacity=\"1\" stroke=\"#000000\" stroke-opacity=\"1\" stroke-width=\"3.2\"/>\n",
       "<circle clip-path=\"url(#clip212)\" cx=\"1232.47\" cy=\"1445.72\" r=\"14\" fill=\"#e26f46\" fill-rule=\"evenodd\" fill-opacity=\"1\" stroke=\"#000000\" stroke-opacity=\"1\" stroke-width=\"3.2\"/>\n",
       "<circle clip-path=\"url(#clip212)\" cx=\"1302.92\" cy=\"1439.68\" r=\"14\" fill=\"#e26f46\" fill-rule=\"evenodd\" fill-opacity=\"1\" stroke=\"#000000\" stroke-opacity=\"1\" stroke-width=\"3.2\"/>\n",
       "<circle clip-path=\"url(#clip212)\" cx=\"1373.38\" cy=\"1421.58\" r=\"14\" fill=\"#e26f46\" fill-rule=\"evenodd\" fill-opacity=\"1\" stroke=\"#000000\" stroke-opacity=\"1\" stroke-width=\"3.2\"/>\n",
       "<circle clip-path=\"url(#clip212)\" cx=\"1443.84\" cy=\"1391.41\" r=\"14\" fill=\"#e26f46\" fill-rule=\"evenodd\" fill-opacity=\"1\" stroke=\"#000000\" stroke-opacity=\"1\" stroke-width=\"3.2\"/>\n",
       "<circle clip-path=\"url(#clip212)\" cx=\"1514.3\" cy=\"1349.17\" r=\"14\" fill=\"#e26f46\" fill-rule=\"evenodd\" fill-opacity=\"1\" stroke=\"#000000\" stroke-opacity=\"1\" stroke-width=\"3.2\"/>\n",
       "<circle clip-path=\"url(#clip212)\" cx=\"1584.76\" cy=\"1294.86\" r=\"14\" fill=\"#e26f46\" fill-rule=\"evenodd\" fill-opacity=\"1\" stroke=\"#000000\" stroke-opacity=\"1\" stroke-width=\"3.2\"/>\n",
       "<circle clip-path=\"url(#clip212)\" cx=\"1655.22\" cy=\"1228.48\" r=\"14\" fill=\"#e26f46\" fill-rule=\"evenodd\" fill-opacity=\"1\" stroke=\"#000000\" stroke-opacity=\"1\" stroke-width=\"3.2\"/>\n",
       "<circle clip-path=\"url(#clip212)\" cx=\"1725.68\" cy=\"1150.03\" r=\"14\" fill=\"#e26f46\" fill-rule=\"evenodd\" fill-opacity=\"1\" stroke=\"#000000\" stroke-opacity=\"1\" stroke-width=\"3.2\"/>\n",
       "<circle clip-path=\"url(#clip212)\" cx=\"1796.13\" cy=\"1059.51\" r=\"14\" fill=\"#e26f46\" fill-rule=\"evenodd\" fill-opacity=\"1\" stroke=\"#000000\" stroke-opacity=\"1\" stroke-width=\"3.2\"/>\n",
       "<circle clip-path=\"url(#clip212)\" cx=\"1866.59\" cy=\"956.93\" r=\"14\" fill=\"#e26f46\" fill-rule=\"evenodd\" fill-opacity=\"1\" stroke=\"#000000\" stroke-opacity=\"1\" stroke-width=\"3.2\"/>\n",
       "<circle clip-path=\"url(#clip212)\" cx=\"1937.05\" cy=\"842.276\" r=\"14\" fill=\"#e26f46\" fill-rule=\"evenodd\" fill-opacity=\"1\" stroke=\"#000000\" stroke-opacity=\"1\" stroke-width=\"3.2\"/>\n",
       "<circle clip-path=\"url(#clip212)\" cx=\"2007.51\" cy=\"715.554\" r=\"14\" fill=\"#e26f46\" fill-rule=\"evenodd\" fill-opacity=\"1\" stroke=\"#000000\" stroke-opacity=\"1\" stroke-width=\"3.2\"/>\n",
       "<circle clip-path=\"url(#clip212)\" cx=\"2077.97\" cy=\"576.762\" r=\"14\" fill=\"#e26f46\" fill-rule=\"evenodd\" fill-opacity=\"1\" stroke=\"#000000\" stroke-opacity=\"1\" stroke-width=\"3.2\"/>\n",
       "<circle clip-path=\"url(#clip212)\" cx=\"2148.43\" cy=\"425.903\" r=\"14\" fill=\"#e26f46\" fill-rule=\"evenodd\" fill-opacity=\"1\" stroke=\"#000000\" stroke-opacity=\"1\" stroke-width=\"3.2\"/>\n",
       "<circle clip-path=\"url(#clip212)\" cx=\"2218.88\" cy=\"262.974\" r=\"14\" fill=\"#e26f46\" fill-rule=\"evenodd\" fill-opacity=\"1\" stroke=\"#000000\" stroke-opacity=\"1\" stroke-width=\"3.2\"/>\n",
       "<circle clip-path=\"url(#clip212)\" cx=\"2289.34\" cy=\"87.9763\" r=\"14\" fill=\"#e26f46\" fill-rule=\"evenodd\" fill-opacity=\"1\" stroke=\"#000000\" stroke-opacity=\"1\" stroke-width=\"3.2\"/>\n",
       "</svg>\n"
      ]
     },
     "execution_count": 101,
     "metadata": {},
     "output_type": "execute_result"
    }
   ],
   "source": [
    "# Teste 1\n",
    "\n",
    "g(x) = x^2 - 5x + 6\n",
    "gd(x) = 2x - 5\n",
    "gdd(x) = 2\n",
    "x_inicial = 0\n",
    "y_inicial = 6\n",
    "x_final = 5\n",
    "y_final = 6\n",
    "n = 30\n",
    "\n",
    "y = Any[y_inicial]\n",
    "for e in resolver_PVC(gdd, x_inicial, y_inicial, x_final, y_final, n)\n",
    "    push!(y, e)\n",
    "end\n",
    "push!(y, y_final)\n",
    "\n",
    "plot(g, x_inicial, x_final)\n",
    "\n",
    "h = (x_final - x_inicial)/(n)\n",
    "scatter!(x_inicial:h:x_final, y, leg=false)"
   ]
  },
  {
   "cell_type": "code",
   "execution_count": 102,
   "metadata": {},
   "outputs": [
    {
     "data": {
      "image/svg+xml": [
       "<?xml version=\"1.0\" encoding=\"utf-8\"?>\n",
       "<svg xmlns=\"http://www.w3.org/2000/svg\" xmlns:xlink=\"http://www.w3.org/1999/xlink\" width=\"600\" height=\"400\" viewBox=\"0 0 2400 1600\">\n",
       "<defs>\n",
       "  <clipPath id=\"clip250\">\n",
       "    <rect x=\"0\" y=\"0\" width=\"2400\" height=\"1600\"/>\n",
       "  </clipPath>\n",
       "</defs>\n",
       "<path clip-path=\"url(#clip250)\" d=\"\n",
       "M0 1600 L2400 1600 L2400 0 L0 0  Z\n",
       "  \" fill=\"#ffffff\" fill-rule=\"evenodd\" fill-opacity=\"1\"/>\n",
       "<defs>\n",
       "  <clipPath id=\"clip251\">\n",
       "    <rect x=\"480\" y=\"0\" width=\"1681\" height=\"1600\"/>\n",
       "  </clipPath>\n",
       "</defs>\n",
       "<path clip-path=\"url(#clip250)\" d=\"\n",
       "M193.936 1486.45 L2352.76 1486.45 L2352.76 47.2441 L193.936 47.2441  Z\n",
       "  \" fill=\"#ffffff\" fill-rule=\"evenodd\" fill-opacity=\"1\"/>\n",
       "<defs>\n",
       "  <clipPath id=\"clip252\">\n",
       "    <rect x=\"193\" y=\"47\" width=\"2160\" height=\"1440\"/>\n",
       "  </clipPath>\n",
       "</defs>\n",
       "<polyline clip-path=\"url(#clip252)\" style=\"stroke:#000000; stroke-width:2; stroke-opacity:0.1; fill:none\" points=\"\n",
       "  255.035,1486.45 255.035,47.2441 \n",
       "  \"/>\n",
       "<polyline clip-path=\"url(#clip252)\" style=\"stroke:#000000; stroke-width:2; stroke-opacity:0.1; fill:none\" points=\"\n",
       "  579.173,1486.45 579.173,47.2441 \n",
       "  \"/>\n",
       "<polyline clip-path=\"url(#clip252)\" style=\"stroke:#000000; stroke-width:2; stroke-opacity:0.1; fill:none\" points=\"\n",
       "  903.312,1486.45 903.312,47.2441 \n",
       "  \"/>\n",
       "<polyline clip-path=\"url(#clip252)\" style=\"stroke:#000000; stroke-width:2; stroke-opacity:0.1; fill:none\" points=\"\n",
       "  1227.45,1486.45 1227.45,47.2441 \n",
       "  \"/>\n",
       "<polyline clip-path=\"url(#clip252)\" style=\"stroke:#000000; stroke-width:2; stroke-opacity:0.1; fill:none\" points=\"\n",
       "  1551.59,1486.45 1551.59,47.2441 \n",
       "  \"/>\n",
       "<polyline clip-path=\"url(#clip252)\" style=\"stroke:#000000; stroke-width:2; stroke-opacity:0.1; fill:none\" points=\"\n",
       "  1875.73,1486.45 1875.73,47.2441 \n",
       "  \"/>\n",
       "<polyline clip-path=\"url(#clip252)\" style=\"stroke:#000000; stroke-width:2; stroke-opacity:0.1; fill:none\" points=\"\n",
       "  2199.87,1486.45 2199.87,47.2441 \n",
       "  \"/>\n",
       "<polyline clip-path=\"url(#clip250)\" style=\"stroke:#000000; stroke-width:4; stroke-opacity:1; fill:none\" points=\"\n",
       "  193.936,1486.45 2352.76,1486.45 \n",
       "  \"/>\n",
       "<polyline clip-path=\"url(#clip250)\" style=\"stroke:#000000; stroke-width:4; stroke-opacity:1; fill:none\" points=\"\n",
       "  255.035,1486.45 255.035,1469.18 \n",
       "  \"/>\n",
       "<polyline clip-path=\"url(#clip250)\" style=\"stroke:#000000; stroke-width:4; stroke-opacity:1; fill:none\" points=\"\n",
       "  579.173,1486.45 579.173,1469.18 \n",
       "  \"/>\n",
       "<polyline clip-path=\"url(#clip250)\" style=\"stroke:#000000; stroke-width:4; stroke-opacity:1; fill:none\" points=\"\n",
       "  903.312,1486.45 903.312,1469.18 \n",
       "  \"/>\n",
       "<polyline clip-path=\"url(#clip250)\" style=\"stroke:#000000; stroke-width:4; stroke-opacity:1; fill:none\" points=\"\n",
       "  1227.45,1486.45 1227.45,1469.18 \n",
       "  \"/>\n",
       "<polyline clip-path=\"url(#clip250)\" style=\"stroke:#000000; stroke-width:4; stroke-opacity:1; fill:none\" points=\"\n",
       "  1551.59,1486.45 1551.59,1469.18 \n",
       "  \"/>\n",
       "<polyline clip-path=\"url(#clip250)\" style=\"stroke:#000000; stroke-width:4; stroke-opacity:1; fill:none\" points=\"\n",
       "  1875.73,1486.45 1875.73,1469.18 \n",
       "  \"/>\n",
       "<polyline clip-path=\"url(#clip250)\" style=\"stroke:#000000; stroke-width:4; stroke-opacity:1; fill:none\" points=\"\n",
       "  2199.87,1486.45 2199.87,1469.18 \n",
       "  \"/>\n",
       "<path clip-path=\"url(#clip250)\" d=\"M 0 0 M255.035 1515.64 Q251.424 1515.64 249.595 1519.2 Q247.789 1522.75 247.789 1529.87 Q247.789 1536.98 249.595 1540.55 Q251.424 1544.09 255.035 1544.09 Q258.669 1544.09 260.474 1540.55 Q262.303 1536.98 262.303 1529.87 Q262.303 1522.75 260.474 1519.2 Q258.669 1515.64 255.035 1515.64 M255.035 1511.93 Q260.845 1511.93 263.9 1516.54 Q266.979 1521.12 266.979 1529.87 Q266.979 1538.6 263.9 1543.21 Q260.845 1547.79 255.035 1547.79 Q249.225 1547.79 246.146 1543.21 Q243.09 1538.6 243.09 1529.87 Q243.09 1521.12 246.146 1516.54 Q249.225 1511.93 255.035 1511.93 Z\" fill=\"#000000\" fill-rule=\"evenodd\" fill-opacity=\"1\" /><path clip-path=\"url(#clip250)\" d=\"M 0 0 M569.555 1543.18 L577.194 1543.18 L577.194 1516.82 L568.884 1518.49 L568.884 1514.23 L577.148 1512.56 L581.824 1512.56 L581.824 1543.18 L589.463 1543.18 L589.463 1547.12 L569.555 1547.12 L569.555 1543.18 Z\" fill=\"#000000\" fill-rule=\"evenodd\" fill-opacity=\"1\" /><path clip-path=\"url(#clip250)\" d=\"M 0 0 M897.965 1543.18 L914.284 1543.18 L914.284 1547.12 L892.34 1547.12 L892.34 1543.18 Q895.002 1540.43 899.585 1535.8 Q904.191 1531.15 905.372 1529.81 Q907.617 1527.28 908.497 1525.55 Q909.4 1523.79 909.4 1522.1 Q909.4 1519.34 907.455 1517.61 Q905.534 1515.87 902.432 1515.87 Q900.233 1515.87 897.779 1516.63 Q895.349 1517.4 892.571 1518.95 L892.571 1514.23 Q895.395 1513.09 897.849 1512.51 Q900.303 1511.93 902.34 1511.93 Q907.71 1511.93 910.904 1514.62 Q914.099 1517.31 914.099 1521.8 Q914.099 1523.93 913.289 1525.85 Q912.502 1527.74 910.395 1530.34 Q909.816 1531.01 906.715 1534.23 Q903.613 1537.42 897.965 1543.18 Z\" fill=\"#000000\" fill-rule=\"evenodd\" fill-opacity=\"1\" /><path clip-path=\"url(#clip250)\" d=\"M 0 0 M1231.7 1528.49 Q1235.05 1529.2 1236.93 1531.47 Q1238.83 1533.74 1238.83 1537.07 Q1238.83 1542.19 1235.31 1544.99 Q1231.79 1547.79 1225.31 1547.79 Q1223.13 1547.79 1220.82 1547.35 Q1218.53 1546.93 1216.07 1546.08 L1216.07 1541.56 Q1218.02 1542.7 1220.33 1543.28 Q1222.65 1543.86 1225.17 1543.86 Q1229.57 1543.86 1231.86 1542.12 Q1234.17 1540.38 1234.17 1537.07 Q1234.17 1534.02 1232.02 1532.31 Q1229.89 1530.57 1226.07 1530.57 L1222.05 1530.57 L1222.05 1526.73 L1226.26 1526.73 Q1229.71 1526.73 1231.54 1525.36 Q1233.36 1523.97 1233.36 1521.38 Q1233.36 1518.72 1231.47 1517.31 Q1229.59 1515.87 1226.07 1515.87 Q1224.15 1515.87 1221.95 1516.29 Q1219.75 1516.7 1217.11 1517.58 L1217.11 1513.42 Q1219.78 1512.68 1222.09 1512.31 Q1224.43 1511.93 1226.49 1511.93 Q1231.81 1511.93 1234.92 1514.37 Q1238.02 1516.77 1238.02 1520.89 Q1238.02 1523.76 1236.37 1525.75 Q1234.73 1527.72 1231.7 1528.49 Z\" fill=\"#000000\" fill-rule=\"evenodd\" fill-opacity=\"1\" /><path clip-path=\"url(#clip250)\" d=\"M 0 0 M1554.6 1516.63 L1542.79 1535.08 L1554.6 1535.08 L1554.6 1516.63 M1553.37 1512.56 L1559.25 1512.56 L1559.25 1535.08 L1564.18 1535.08 L1564.18 1538.97 L1559.25 1538.97 L1559.25 1547.12 L1554.6 1547.12 L1554.6 1538.97 L1539 1538.97 L1539 1534.46 L1553.37 1512.56 Z\" fill=\"#000000\" fill-rule=\"evenodd\" fill-opacity=\"1\" /><path clip-path=\"url(#clip250)\" d=\"M 0 0 M1866.01 1512.56 L1884.36 1512.56 L1884.36 1516.5 L1870.29 1516.5 L1870.29 1524.97 Q1871.31 1524.62 1872.32 1524.46 Q1873.34 1524.27 1874.36 1524.27 Q1880.15 1524.27 1883.53 1527.44 Q1886.91 1530.62 1886.91 1536.03 Q1886.91 1541.61 1883.44 1544.71 Q1879.96 1547.79 1873.64 1547.79 Q1871.47 1547.79 1869.2 1547.42 Q1866.95 1547.05 1864.55 1546.31 L1864.55 1541.61 Q1866.63 1542.74 1868.85 1543.3 Q1871.07 1543.86 1873.55 1543.86 Q1877.56 1543.86 1879.89 1541.75 Q1882.23 1539.64 1882.23 1536.03 Q1882.23 1532.42 1879.89 1530.31 Q1877.56 1528.21 1873.55 1528.21 Q1871.68 1528.21 1869.8 1528.62 Q1867.95 1529.04 1866.01 1529.92 L1866.01 1512.56 Z\" fill=\"#000000\" fill-rule=\"evenodd\" fill-opacity=\"1\" /><path clip-path=\"url(#clip250)\" d=\"M 0 0 M2200.27 1527.98 Q2197.12 1527.98 2195.27 1530.13 Q2193.44 1532.28 2193.44 1536.03 Q2193.44 1539.76 2195.27 1541.93 Q2197.12 1544.09 2200.27 1544.09 Q2203.42 1544.09 2205.25 1541.93 Q2207.1 1539.76 2207.1 1536.03 Q2207.1 1532.28 2205.25 1530.13 Q2203.42 1527.98 2200.27 1527.98 M2209.55 1513.32 L2209.55 1517.58 Q2207.79 1516.75 2205.99 1516.31 Q2204.21 1515.87 2202.45 1515.87 Q2197.82 1515.87 2195.36 1519 Q2192.93 1522.12 2192.59 1528.44 Q2193.95 1526.43 2196.01 1525.36 Q2198.07 1524.27 2200.55 1524.27 Q2205.76 1524.27 2208.77 1527.44 Q2211.8 1530.59 2211.8 1536.03 Q2211.8 1541.36 2208.65 1544.57 Q2205.5 1547.79 2200.27 1547.79 Q2194.28 1547.79 2191.1 1543.21 Q2187.93 1538.6 2187.93 1529.87 Q2187.93 1521.68 2191.82 1516.82 Q2195.71 1511.93 2202.26 1511.93 Q2204.02 1511.93 2205.8 1512.28 Q2207.61 1512.63 2209.55 1513.32 Z\" fill=\"#000000\" fill-rule=\"evenodd\" fill-opacity=\"1\" /><polyline clip-path=\"url(#clip252)\" style=\"stroke:#000000; stroke-width:2; stroke-opacity:0.1; fill:none\" points=\"\n",
       "  193.936,1445.87 2352.76,1445.87 \n",
       "  \"/>\n",
       "<polyline clip-path=\"url(#clip252)\" style=\"stroke:#000000; stroke-width:2; stroke-opacity:0.1; fill:none\" points=\"\n",
       "  193.936,1106.4 2352.76,1106.4 \n",
       "  \"/>\n",
       "<polyline clip-path=\"url(#clip252)\" style=\"stroke:#000000; stroke-width:2; stroke-opacity:0.1; fill:none\" points=\"\n",
       "  193.936,766.924 2352.76,766.924 \n",
       "  \"/>\n",
       "<polyline clip-path=\"url(#clip252)\" style=\"stroke:#000000; stroke-width:2; stroke-opacity:0.1; fill:none\" points=\"\n",
       "  193.936,427.45 2352.76,427.45 \n",
       "  \"/>\n",
       "<polyline clip-path=\"url(#clip252)\" style=\"stroke:#000000; stroke-width:2; stroke-opacity:0.1; fill:none\" points=\"\n",
       "  193.936,87.9762 2352.76,87.9762 \n",
       "  \"/>\n",
       "<polyline clip-path=\"url(#clip250)\" style=\"stroke:#000000; stroke-width:4; stroke-opacity:1; fill:none\" points=\"\n",
       "  193.936,1486.45 193.936,47.2441 \n",
       "  \"/>\n",
       "<polyline clip-path=\"url(#clip250)\" style=\"stroke:#000000; stroke-width:4; stroke-opacity:1; fill:none\" points=\"\n",
       "  193.936,1445.87 219.842,1445.87 \n",
       "  \"/>\n",
       "<polyline clip-path=\"url(#clip250)\" style=\"stroke:#000000; stroke-width:4; stroke-opacity:1; fill:none\" points=\"\n",
       "  193.936,1106.4 219.842,1106.4 \n",
       "  \"/>\n",
       "<polyline clip-path=\"url(#clip250)\" style=\"stroke:#000000; stroke-width:4; stroke-opacity:1; fill:none\" points=\"\n",
       "  193.936,766.924 219.842,766.924 \n",
       "  \"/>\n",
       "<polyline clip-path=\"url(#clip250)\" style=\"stroke:#000000; stroke-width:4; stroke-opacity:1; fill:none\" points=\"\n",
       "  193.936,427.45 219.842,427.45 \n",
       "  \"/>\n",
       "<polyline clip-path=\"url(#clip250)\" style=\"stroke:#000000; stroke-width:4; stroke-opacity:1; fill:none\" points=\"\n",
       "  193.936,87.9762 219.842,87.9762 \n",
       "  \"/>\n",
       "<path clip-path=\"url(#clip250)\" d=\"M 0 0 M50.9921 1446.32 L80.6679 1446.32 L80.6679 1450.26 L50.9921 1450.26 L50.9921 1446.32 Z\" fill=\"#000000\" fill-rule=\"evenodd\" fill-opacity=\"1\" /><path clip-path=\"url(#clip250)\" d=\"M 0 0 M91.5706 1459.22 L99.2095 1459.22 L99.2095 1432.85 L90.8993 1434.52 L90.8993 1430.26 L99.1632 1428.59 L103.839 1428.59 L103.839 1459.22 L111.478 1459.22 L111.478 1463.15 L91.5706 1463.15 L91.5706 1459.22 Z\" fill=\"#000000\" fill-rule=\"evenodd\" fill-opacity=\"1\" /><path clip-path=\"url(#clip250)\" d=\"M 0 0 M120.922 1457.27 L125.807 1457.27 L125.807 1463.15 L120.922 1463.15 L120.922 1457.27 Z\" fill=\"#000000\" fill-rule=\"evenodd\" fill-opacity=\"1\" /><path clip-path=\"url(#clip250)\" d=\"M 0 0 M145.992 1431.67 Q142.381 1431.67 140.552 1435.24 Q138.746 1438.78 138.746 1445.91 Q138.746 1453.01 140.552 1456.58 Q142.381 1460.12 145.992 1460.12 Q149.626 1460.12 151.431 1456.58 Q153.26 1453.01 153.26 1445.91 Q153.26 1438.78 151.431 1435.24 Q149.626 1431.67 145.992 1431.67 M145.992 1427.97 Q151.802 1427.97 154.857 1432.57 Q157.936 1437.16 157.936 1445.91 Q157.936 1454.63 154.857 1459.24 Q151.802 1463.82 145.992 1463.82 Q140.181 1463.82 137.103 1459.24 Q134.047 1454.63 134.047 1445.91 Q134.047 1437.16 137.103 1432.57 Q140.181 1427.97 145.992 1427.97 Z\" fill=\"#000000\" fill-rule=\"evenodd\" fill-opacity=\"1\" /><path clip-path=\"url(#clip250)\" d=\"M 0 0 M51.9875 1106.85 L81.6633 1106.85 L81.6633 1110.78 L51.9875 1110.78 L51.9875 1106.85 Z\" fill=\"#000000\" fill-rule=\"evenodd\" fill-opacity=\"1\" /><path clip-path=\"url(#clip250)\" d=\"M 0 0 M101.756 1092.2 Q98.1447 1092.2 96.316 1095.76 Q94.5104 1099.3 94.5104 1106.43 Q94.5104 1113.54 96.316 1117.1 Q98.1447 1120.65 101.756 1120.65 Q105.39 1120.65 107.196 1117.1 Q109.024 1113.54 109.024 1106.43 Q109.024 1099.3 107.196 1095.76 Q105.39 1092.2 101.756 1092.2 M101.756 1088.49 Q107.566 1088.49 110.621 1093.1 Q113.7 1097.68 113.7 1106.43 Q113.7 1115.16 110.621 1119.77 Q107.566 1124.35 101.756 1124.35 Q95.9456 1124.35 92.8669 1119.77 Q89.8114 1115.16 89.8114 1106.43 Q89.8114 1097.68 92.8669 1093.1 Q95.9456 1088.49 101.756 1088.49 Z\" fill=\"#000000\" fill-rule=\"evenodd\" fill-opacity=\"1\" /><path clip-path=\"url(#clip250)\" d=\"M 0 0 M121.918 1117.8 L126.802 1117.8 L126.802 1123.68 L121.918 1123.68 L121.918 1117.8 Z\" fill=\"#000000\" fill-rule=\"evenodd\" fill-opacity=\"1\" /><path clip-path=\"url(#clip250)\" d=\"M 0 0 M137.033 1089.12 L155.39 1089.12 L155.39 1093.05 L141.316 1093.05 L141.316 1101.53 Q142.334 1101.18 143.353 1101.02 Q144.371 1100.83 145.39 1100.83 Q151.177 1100.83 154.556 1104 Q157.936 1107.17 157.936 1112.59 Q157.936 1118.17 154.464 1121.27 Q150.992 1124.35 144.672 1124.35 Q142.496 1124.35 140.228 1123.98 Q137.982 1123.61 135.575 1122.87 L135.575 1118.17 Q137.658 1119.3 139.881 1119.86 Q142.103 1120.41 144.58 1120.41 Q148.584 1120.41 150.922 1118.31 Q153.26 1116.2 153.26 1112.59 Q153.26 1108.98 150.922 1106.87 Q148.584 1104.77 144.58 1104.77 Q142.705 1104.77 140.83 1105.18 Q138.978 1105.6 137.033 1106.48 L137.033 1089.12 Z\" fill=\"#000000\" fill-rule=\"evenodd\" fill-opacity=\"1\" /><path clip-path=\"url(#clip250)\" d=\"M 0 0 M100.76 752.723 Q97.1493 752.723 95.3206 756.287 Q93.515 759.829 93.515 766.959 Q93.515 774.065 95.3206 777.63 Q97.1493 781.171 100.76 781.171 Q104.395 781.171 106.2 777.63 Q108.029 774.065 108.029 766.959 Q108.029 759.829 106.2 756.287 Q104.395 752.723 100.76 752.723 M100.76 749.019 Q106.571 749.019 109.626 753.625 Q112.705 758.209 112.705 766.959 Q112.705 775.685 109.626 780.292 Q106.571 784.875 100.76 784.875 Q94.9502 784.875 91.8715 780.292 Q88.816 775.685 88.816 766.959 Q88.816 758.209 91.8715 753.625 Q94.9502 749.019 100.76 749.019 Z\" fill=\"#000000\" fill-rule=\"evenodd\" fill-opacity=\"1\" /><path clip-path=\"url(#clip250)\" d=\"M 0 0 M120.922 778.324 L125.807 778.324 L125.807 784.204 L120.922 784.204 L120.922 778.324 Z\" fill=\"#000000\" fill-rule=\"evenodd\" fill-opacity=\"1\" /><path clip-path=\"url(#clip250)\" d=\"M 0 0 M145.992 752.723 Q142.381 752.723 140.552 756.287 Q138.746 759.829 138.746 766.959 Q138.746 774.065 140.552 777.63 Q142.381 781.171 145.992 781.171 Q149.626 781.171 151.431 777.63 Q153.26 774.065 153.26 766.959 Q153.26 759.829 151.431 756.287 Q149.626 752.723 145.992 752.723 M145.992 749.019 Q151.802 749.019 154.857 753.625 Q157.936 758.209 157.936 766.959 Q157.936 775.685 154.857 780.292 Q151.802 784.875 145.992 784.875 Q140.181 784.875 137.103 780.292 Q134.047 775.685 134.047 766.959 Q134.047 758.209 137.103 753.625 Q140.181 749.019 145.992 749.019 Z\" fill=\"#000000\" fill-rule=\"evenodd\" fill-opacity=\"1\" /><path clip-path=\"url(#clip250)\" d=\"M 0 0 M101.756 413.249 Q98.1447 413.249 96.316 416.814 Q94.5104 420.355 94.5104 427.485 Q94.5104 434.591 96.316 438.156 Q98.1447 441.698 101.756 441.698 Q105.39 441.698 107.196 438.156 Q109.024 434.591 109.024 427.485 Q109.024 420.355 107.196 416.814 Q105.39 413.249 101.756 413.249 M101.756 409.545 Q107.566 409.545 110.621 414.152 Q113.7 418.735 113.7 427.485 Q113.7 436.212 110.621 440.818 Q107.566 445.401 101.756 445.401 Q95.9456 445.401 92.8669 440.818 Q89.8114 436.212 89.8114 427.485 Q89.8114 418.735 92.8669 414.152 Q95.9456 409.545 101.756 409.545 Z\" fill=\"#000000\" fill-rule=\"evenodd\" fill-opacity=\"1\" /><path clip-path=\"url(#clip250)\" d=\"M 0 0 M121.918 438.85 L126.802 438.85 L126.802 444.73 L121.918 444.73 L121.918 438.85 Z\" fill=\"#000000\" fill-rule=\"evenodd\" fill-opacity=\"1\" /><path clip-path=\"url(#clip250)\" d=\"M 0 0 M137.033 410.17 L155.39 410.17 L155.39 414.105 L141.316 414.105 L141.316 422.577 Q142.334 422.23 143.353 422.068 Q144.371 421.883 145.39 421.883 Q151.177 421.883 154.556 425.054 Q157.936 428.226 157.936 433.642 Q157.936 439.221 154.464 442.323 Q150.992 445.401 144.672 445.401 Q142.496 445.401 140.228 445.031 Q137.982 444.661 135.575 443.92 L135.575 439.221 Q137.658 440.355 139.881 440.911 Q142.103 441.466 144.58 441.466 Q148.584 441.466 150.922 439.36 Q153.26 437.253 153.26 433.642 Q153.26 430.031 150.922 427.925 Q148.584 425.818 144.58 425.818 Q142.705 425.818 140.83 426.235 Q138.978 426.651 137.033 427.531 L137.033 410.17 Z\" fill=\"#000000\" fill-rule=\"evenodd\" fill-opacity=\"1\" /><path clip-path=\"url(#clip250)\" d=\"M 0 0 M91.5706 101.321 L99.2095 101.321 L99.2095 74.9555 L90.8993 76.6221 L90.8993 72.3629 L99.1632 70.6962 L103.839 70.6962 L103.839 101.321 L111.478 101.321 L111.478 105.256 L91.5706 105.256 L91.5706 101.321 Z\" fill=\"#000000\" fill-rule=\"evenodd\" fill-opacity=\"1\" /><path clip-path=\"url(#clip250)\" d=\"M 0 0 M120.922 99.3766 L125.807 99.3766 L125.807 105.256 L120.922 105.256 L120.922 99.3766 Z\" fill=\"#000000\" fill-rule=\"evenodd\" fill-opacity=\"1\" /><path clip-path=\"url(#clip250)\" d=\"M 0 0 M145.992 73.7749 Q142.381 73.7749 140.552 77.3397 Q138.746 80.8814 138.746 88.011 Q138.746 95.1174 140.552 98.6822 Q142.381 102.224 145.992 102.224 Q149.626 102.224 151.431 98.6822 Q153.26 95.1174 153.26 88.011 Q153.26 80.8814 151.431 77.3397 Q149.626 73.7749 145.992 73.7749 M145.992 70.0712 Q151.802 70.0712 154.857 74.6777 Q157.936 79.261 157.936 88.011 Q157.936 96.7378 154.857 101.344 Q151.802 105.928 145.992 105.928 Q140.181 105.928 137.103 101.344 Q134.047 96.7378 134.047 88.011 Q134.047 79.261 137.103 74.6777 Q140.181 70.0712 145.992 70.0712 Z\" fill=\"#000000\" fill-rule=\"evenodd\" fill-opacity=\"1\" /><polyline clip-path=\"url(#clip252)\" style=\"stroke:#009af9; stroke-width:4; stroke-opacity:1; fill:none\" points=\"\n",
       "  255.035,766.924 264.979,746.097 274.924,725.289 366.877,537.278 458.829,367.624 514.089,280.251 569.348,206.989 592.709,180.793 616.07,157.64 639.431,137.65 \n",
       "  662.791,120.927 713.544,96.2473 764.296,87.9763 811.085,95.0695 857.875,116.138 908.038,153.744 958.201,206.006 1016.32,283.223 1074.44,375.949 1126.09,468.975 \n",
       "  1177.74,569.55 1223.03,661.951 1268.32,756.397 1317.7,859.54 1367.08,960.537 1416.75,1057.61 1466.43,1147.86 1521.35,1237.17 1576.27,1313.02 1628.52,1370.7 \n",
       "  1680.78,1412.71 1707.95,1427.99 1735.11,1438.63 1762.28,1444.55 1789.45,1445.72 1835.18,1436.92 1880.92,1414.81 1936.76,1370.43 1992.6,1308.17 2045.09,1235 \n",
       "  2097.58,1149.58 2181.68,992.893 2265.77,821.083 2278.72,794.025 2291.66,766.924 \n",
       "  \"/>\n",
       "<circle clip-path=\"url(#clip252)\" cx=\"255.035\" cy=\"766.924\" r=\"14\" fill=\"#e26f46\" fill-rule=\"evenodd\" fill-opacity=\"1\" stroke=\"#000000\" stroke-opacity=\"1\" stroke-width=\"3.2\"/>\n",
       "<circle clip-path=\"url(#clip252)\" cx=\"322.922\" cy=\"631.025\" r=\"14\" fill=\"#e26f46\" fill-rule=\"evenodd\" fill-opacity=\"1\" stroke=\"#000000\" stroke-opacity=\"1\" stroke-width=\"3.2\"/>\n",
       "<circle clip-path=\"url(#clip252)\" cx=\"390.81\" cy=\"495.126\" r=\"14\" fill=\"#e26f46\" fill-rule=\"evenodd\" fill-opacity=\"1\" stroke=\"#000000\" stroke-opacity=\"1\" stroke-width=\"3.2\"/>\n",
       "<circle clip-path=\"url(#clip252)\" cx=\"458.697\" cy=\"371.34\" r=\"14\" fill=\"#e26f46\" fill-rule=\"evenodd\" fill-opacity=\"1\" stroke=\"#000000\" stroke-opacity=\"1\" stroke-width=\"3.2\"/>\n",
       "<circle clip-path=\"url(#clip252)\" cx=\"526.584\" cy=\"265.06\" r=\"14\" fill=\"#e26f46\" fill-rule=\"evenodd\" fill-opacity=\"1\" stroke=\"#000000\" stroke-opacity=\"1\" stroke-width=\"3.2\"/>\n",
       "<circle clip-path=\"url(#clip252)\" cx=\"594.472\" cy=\"180.912\" r=\"14\" fill=\"#e26f46\" fill-rule=\"evenodd\" fill-opacity=\"1\" stroke=\"#000000\" stroke-opacity=\"1\" stroke-width=\"3.2\"/>\n",
       "<circle clip-path=\"url(#clip252)\" cx=\"662.359\" cy=\"122.556\" r=\"14\" fill=\"#e26f46\" fill-rule=\"evenodd\" fill-opacity=\"1\" stroke=\"#000000\" stroke-opacity=\"1\" stroke-width=\"3.2\"/>\n",
       "<circle clip-path=\"url(#clip252)\" cx=\"730.247\" cy=\"92.5243\" r=\"14\" fill=\"#e26f46\" fill-rule=\"evenodd\" fill-opacity=\"1\" stroke=\"#000000\" stroke-opacity=\"1\" stroke-width=\"3.2\"/>\n",
       "<circle clip-path=\"url(#clip252)\" cx=\"798.134\" cy=\"92.1115\" r=\"14\" fill=\"#e26f46\" fill-rule=\"evenodd\" fill-opacity=\"1\" stroke=\"#000000\" stroke-opacity=\"1\" stroke-width=\"3.2\"/>\n",
       "<circle clip-path=\"url(#clip252)\" cx=\"866.021\" cy=\"121.318\" r=\"14\" fill=\"#e26f46\" fill-rule=\"evenodd\" fill-opacity=\"1\" stroke=\"#000000\" stroke-opacity=\"1\" stroke-width=\"3.2\"/>\n",
       "<circle clip-path=\"url(#clip252)\" cx=\"933.909\" cy=\"178.848\" r=\"14\" fill=\"#e26f46\" fill-rule=\"evenodd\" fill-opacity=\"1\" stroke=\"#000000\" stroke-opacity=\"1\" stroke-width=\"3.2\"/>\n",
       "<circle clip-path=\"url(#clip252)\" cx=\"1001.8\" cy=\"262.17\" r=\"14\" fill=\"#e26f46\" fill-rule=\"evenodd\" fill-opacity=\"1\" stroke=\"#000000\" stroke-opacity=\"1\" stroke-width=\"3.2\"/>\n",
       "<circle clip-path=\"url(#clip252)\" cx=\"1069.68\" cy=\"367.625\" r=\"14\" fill=\"#e26f46\" fill-rule=\"evenodd\" fill-opacity=\"1\" stroke=\"#000000\" stroke-opacity=\"1\" stroke-width=\"3.2\"/>\n",
       "<circle clip-path=\"url(#clip252)\" cx=\"1137.57\" cy=\"490.585\" r=\"14\" fill=\"#e26f46\" fill-rule=\"evenodd\" fill-opacity=\"1\" stroke=\"#000000\" stroke-opacity=\"1\" stroke-width=\"3.2\"/>\n",
       "<circle clip-path=\"url(#clip252)\" cx=\"1205.46\" cy=\"625.658\" r=\"14\" fill=\"#e26f46\" fill-rule=\"evenodd\" fill-opacity=\"1\" stroke=\"#000000\" stroke-opacity=\"1\" stroke-width=\"3.2\"/>\n",
       "<circle clip-path=\"url(#clip252)\" cx=\"1273.35\" cy=\"766.924\" r=\"14\" fill=\"#e26f46\" fill-rule=\"evenodd\" fill-opacity=\"1\" stroke=\"#000000\" stroke-opacity=\"1\" stroke-width=\"3.2\"/>\n",
       "<circle clip-path=\"url(#clip252)\" cx=\"1341.23\" cy=\"908.189\" r=\"14\" fill=\"#e26f46\" fill-rule=\"evenodd\" fill-opacity=\"1\" stroke=\"#000000\" stroke-opacity=\"1\" stroke-width=\"3.2\"/>\n",
       "<circle clip-path=\"url(#clip252)\" cx=\"1409.12\" cy=\"1043.26\" r=\"14\" fill=\"#e26f46\" fill-rule=\"evenodd\" fill-opacity=\"1\" stroke=\"#000000\" stroke-opacity=\"1\" stroke-width=\"3.2\"/>\n",
       "<circle clip-path=\"url(#clip252)\" cx=\"1477.01\" cy=\"1166.22\" r=\"14\" fill=\"#e26f46\" fill-rule=\"evenodd\" fill-opacity=\"1\" stroke=\"#000000\" stroke-opacity=\"1\" stroke-width=\"3.2\"/>\n",
       "<circle clip-path=\"url(#clip252)\" cx=\"1544.9\" cy=\"1271.68\" r=\"14\" fill=\"#e26f46\" fill-rule=\"evenodd\" fill-opacity=\"1\" stroke=\"#000000\" stroke-opacity=\"1\" stroke-width=\"3.2\"/>\n",
       "<circle clip-path=\"url(#clip252)\" cx=\"1612.78\" cy=\"1355\" r=\"14\" fill=\"#e26f46\" fill-rule=\"evenodd\" fill-opacity=\"1\" stroke=\"#000000\" stroke-opacity=\"1\" stroke-width=\"3.2\"/>\n",
       "<circle clip-path=\"url(#clip252)\" cx=\"1680.67\" cy=\"1412.53\" r=\"14\" fill=\"#e26f46\" fill-rule=\"evenodd\" fill-opacity=\"1\" stroke=\"#000000\" stroke-opacity=\"1\" stroke-width=\"3.2\"/>\n",
       "<circle clip-path=\"url(#clip252)\" cx=\"1748.56\" cy=\"1441.74\" r=\"14\" fill=\"#e26f46\" fill-rule=\"evenodd\" fill-opacity=\"1\" stroke=\"#000000\" stroke-opacity=\"1\" stroke-width=\"3.2\"/>\n",
       "<circle clip-path=\"url(#clip252)\" cx=\"1816.45\" cy=\"1441.32\" r=\"14\" fill=\"#e26f46\" fill-rule=\"evenodd\" fill-opacity=\"1\" stroke=\"#000000\" stroke-opacity=\"1\" stroke-width=\"3.2\"/>\n",
       "<circle clip-path=\"url(#clip252)\" cx=\"1884.33\" cy=\"1411.29\" r=\"14\" fill=\"#e26f46\" fill-rule=\"evenodd\" fill-opacity=\"1\" stroke=\"#000000\" stroke-opacity=\"1\" stroke-width=\"3.2\"/>\n",
       "<circle clip-path=\"url(#clip252)\" cx=\"1952.22\" cy=\"1352.94\" r=\"14\" fill=\"#e26f46\" fill-rule=\"evenodd\" fill-opacity=\"1\" stroke=\"#000000\" stroke-opacity=\"1\" stroke-width=\"3.2\"/>\n",
       "<circle clip-path=\"url(#clip252)\" cx=\"2020.11\" cy=\"1268.79\" r=\"14\" fill=\"#e26f46\" fill-rule=\"evenodd\" fill-opacity=\"1\" stroke=\"#000000\" stroke-opacity=\"1\" stroke-width=\"3.2\"/>\n",
       "<circle clip-path=\"url(#clip252)\" cx=\"2087.99\" cy=\"1162.51\" r=\"14\" fill=\"#e26f46\" fill-rule=\"evenodd\" fill-opacity=\"1\" stroke=\"#000000\" stroke-opacity=\"1\" stroke-width=\"3.2\"/>\n",
       "<circle clip-path=\"url(#clip252)\" cx=\"2155.88\" cy=\"1038.72\" r=\"14\" fill=\"#e26f46\" fill-rule=\"evenodd\" fill-opacity=\"1\" stroke=\"#000000\" stroke-opacity=\"1\" stroke-width=\"3.2\"/>\n",
       "<circle clip-path=\"url(#clip252)\" cx=\"2223.77\" cy=\"902.823\" r=\"14\" fill=\"#e26f46\" fill-rule=\"evenodd\" fill-opacity=\"1\" stroke=\"#000000\" stroke-opacity=\"1\" stroke-width=\"3.2\"/>\n",
       "<circle clip-path=\"url(#clip252)\" cx=\"2291.66\" cy=\"766.924\" r=\"14\" fill=\"#e26f46\" fill-rule=\"evenodd\" fill-opacity=\"1\" stroke=\"#000000\" stroke-opacity=\"1\" stroke-width=\"3.2\"/>\n",
       "</svg>\n"
      ]
     },
     "execution_count": 102,
     "metadata": {},
     "output_type": "execute_result"
    }
   ],
   "source": [
    "#Teste 2\n",
    "\n",
    "g(x) = sin(x)\n",
    "gd(x) = cos(x)\n",
    "gdd(x) = -sin(x)\n",
    "x_inicial = 0\n",
    "y_inicial = 0\n",
    "x_final = 2*pi\n",
    "y_final = 0\n",
    "n = 30\n",
    "\n",
    "y = Any[y_inicial]\n",
    "for e in resolver_PVC(gdd, x_inicial, y_inicial, x_final, y_final, n)\n",
    "    push!(y, e)\n",
    "end\n",
    "push!(y, y_final)\n",
    "\n",
    "plot(g, x_inicial, x_final)\n",
    "\n",
    "h = (x_final - x_inicial)/(n)\n",
    "scatter!(x_inicial:h:x_final, y, leg=false)"
   ]
  },
  {
   "cell_type": "code",
   "execution_count": 103,
   "metadata": {},
   "outputs": [
    {
     "data": {
      "image/svg+xml": [
       "<?xml version=\"1.0\" encoding=\"utf-8\"?>\n",
       "<svg xmlns=\"http://www.w3.org/2000/svg\" xmlns:xlink=\"http://www.w3.org/1999/xlink\" width=\"600\" height=\"400\" viewBox=\"0 0 2400 1600\">\n",
       "<defs>\n",
       "  <clipPath id=\"clip290\">\n",
       "    <rect x=\"0\" y=\"0\" width=\"2400\" height=\"1600\"/>\n",
       "  </clipPath>\n",
       "</defs>\n",
       "<path clip-path=\"url(#clip290)\" d=\"\n",
       "M0 1600 L2400 1600 L2400 0 L0 0  Z\n",
       "  \" fill=\"#ffffff\" fill-rule=\"evenodd\" fill-opacity=\"1\"/>\n",
       "<defs>\n",
       "  <clipPath id=\"clip291\">\n",
       "    <rect x=\"480\" y=\"0\" width=\"1681\" height=\"1600\"/>\n",
       "  </clipPath>\n",
       "</defs>\n",
       "<path clip-path=\"url(#clip290)\" d=\"\n",
       "M156.112 1486.45 L2352.76 1486.45 L2352.76 47.2441 L156.112 47.2441  Z\n",
       "  \" fill=\"#ffffff\" fill-rule=\"evenodd\" fill-opacity=\"1\"/>\n",
       "<defs>\n",
       "  <clipPath id=\"clip292\">\n",
       "    <rect x=\"156\" y=\"47\" width=\"2198\" height=\"1440\"/>\n",
       "  </clipPath>\n",
       "</defs>\n",
       "<polyline clip-path=\"url(#clip292)\" style=\"stroke:#000000; stroke-width:2; stroke-opacity:0.1; fill:none\" points=\"\n",
       "  218.281,1486.45 218.281,47.2441 \n",
       "  \"/>\n",
       "<polyline clip-path=\"url(#clip292)\" style=\"stroke:#000000; stroke-width:2; stroke-opacity:0.1; fill:none\" points=\"\n",
       "  542.634,1486.45 542.634,47.2441 \n",
       "  \"/>\n",
       "<polyline clip-path=\"url(#clip292)\" style=\"stroke:#000000; stroke-width:2; stroke-opacity:0.1; fill:none\" points=\"\n",
       "  866.986,1486.45 866.986,47.2441 \n",
       "  \"/>\n",
       "<polyline clip-path=\"url(#clip292)\" style=\"stroke:#000000; stroke-width:2; stroke-opacity:0.1; fill:none\" points=\"\n",
       "  1191.34,1486.45 1191.34,47.2441 \n",
       "  \"/>\n",
       "<polyline clip-path=\"url(#clip292)\" style=\"stroke:#000000; stroke-width:2; stroke-opacity:0.1; fill:none\" points=\"\n",
       "  1515.69,1486.45 1515.69,47.2441 \n",
       "  \"/>\n",
       "<polyline clip-path=\"url(#clip292)\" style=\"stroke:#000000; stroke-width:2; stroke-opacity:0.1; fill:none\" points=\"\n",
       "  1840.04,1486.45 1840.04,47.2441 \n",
       "  \"/>\n",
       "<polyline clip-path=\"url(#clip292)\" style=\"stroke:#000000; stroke-width:2; stroke-opacity:0.1; fill:none\" points=\"\n",
       "  2164.4,1486.45 2164.4,47.2441 \n",
       "  \"/>\n",
       "<polyline clip-path=\"url(#clip290)\" style=\"stroke:#000000; stroke-width:4; stroke-opacity:1; fill:none\" points=\"\n",
       "  156.112,1486.45 2352.76,1486.45 \n",
       "  \"/>\n",
       "<polyline clip-path=\"url(#clip290)\" style=\"stroke:#000000; stroke-width:4; stroke-opacity:1; fill:none\" points=\"\n",
       "  218.281,1486.45 218.281,1469.18 \n",
       "  \"/>\n",
       "<polyline clip-path=\"url(#clip290)\" style=\"stroke:#000000; stroke-width:4; stroke-opacity:1; fill:none\" points=\"\n",
       "  542.634,1486.45 542.634,1469.18 \n",
       "  \"/>\n",
       "<polyline clip-path=\"url(#clip290)\" style=\"stroke:#000000; stroke-width:4; stroke-opacity:1; fill:none\" points=\"\n",
       "  866.986,1486.45 866.986,1469.18 \n",
       "  \"/>\n",
       "<polyline clip-path=\"url(#clip290)\" style=\"stroke:#000000; stroke-width:4; stroke-opacity:1; fill:none\" points=\"\n",
       "  1191.34,1486.45 1191.34,1469.18 \n",
       "  \"/>\n",
       "<polyline clip-path=\"url(#clip290)\" style=\"stroke:#000000; stroke-width:4; stroke-opacity:1; fill:none\" points=\"\n",
       "  1515.69,1486.45 1515.69,1469.18 \n",
       "  \"/>\n",
       "<polyline clip-path=\"url(#clip290)\" style=\"stroke:#000000; stroke-width:4; stroke-opacity:1; fill:none\" points=\"\n",
       "  1840.04,1486.45 1840.04,1469.18 \n",
       "  \"/>\n",
       "<polyline clip-path=\"url(#clip290)\" style=\"stroke:#000000; stroke-width:4; stroke-opacity:1; fill:none\" points=\"\n",
       "  2164.4,1486.45 2164.4,1469.18 \n",
       "  \"/>\n",
       "<path clip-path=\"url(#clip290)\" d=\"M 0 0 M208.663 1543.18 L216.302 1543.18 L216.302 1516.82 L207.992 1518.49 L207.992 1514.23 L216.256 1512.56 L220.932 1512.56 L220.932 1543.18 L228.571 1543.18 L228.571 1547.12 L208.663 1547.12 L208.663 1543.18 Z\" fill=\"#000000\" fill-rule=\"evenodd\" fill-opacity=\"1\" /><path clip-path=\"url(#clip290)\" d=\"M 0 0 M537.286 1543.18 L553.606 1543.18 L553.606 1547.12 L531.661 1547.12 L531.661 1543.18 Q534.324 1540.43 538.907 1535.8 Q543.513 1531.15 544.694 1529.81 Q546.939 1527.28 547.819 1525.55 Q548.722 1523.79 548.722 1522.1 Q548.722 1519.34 546.777 1517.61 Q544.856 1515.87 541.754 1515.87 Q539.555 1515.87 537.101 1516.63 Q534.671 1517.4 531.893 1518.95 L531.893 1514.23 Q534.717 1513.09 537.171 1512.51 Q539.624 1511.93 541.661 1511.93 Q547.032 1511.93 550.226 1514.62 Q553.421 1517.31 553.421 1521.8 Q553.421 1523.93 552.61 1525.85 Q551.823 1527.74 549.717 1530.34 Q549.138 1531.01 546.036 1534.23 Q542.935 1537.42 537.286 1543.18 Z\" fill=\"#000000\" fill-rule=\"evenodd\" fill-opacity=\"1\" /><path clip-path=\"url(#clip290)\" d=\"M 0 0 M871.234 1528.49 Q874.59 1529.2 876.465 1531.47 Q878.363 1533.74 878.363 1537.07 Q878.363 1542.19 874.845 1544.99 Q871.326 1547.79 864.845 1547.79 Q862.669 1547.79 860.354 1547.35 Q858.062 1546.93 855.609 1546.08 L855.609 1541.56 Q857.553 1542.7 859.868 1543.28 Q862.183 1543.86 864.706 1543.86 Q869.104 1543.86 871.396 1542.12 Q873.711 1540.38 873.711 1537.07 Q873.711 1534.02 871.558 1532.31 Q869.428 1530.57 865.609 1530.57 L861.581 1530.57 L861.581 1526.73 L865.794 1526.73 Q869.243 1526.73 871.072 1525.36 Q872.9 1523.97 872.9 1521.38 Q872.9 1518.72 871.002 1517.31 Q869.127 1515.87 865.609 1515.87 Q863.687 1515.87 861.488 1516.29 Q859.289 1516.7 856.65 1517.58 L856.65 1513.42 Q859.312 1512.68 861.627 1512.31 Q863.965 1511.93 866.025 1511.93 Q871.349 1511.93 874.451 1514.37 Q877.553 1516.77 877.553 1520.89 Q877.553 1523.76 875.91 1525.75 Q874.266 1527.72 871.234 1528.49 Z\" fill=\"#000000\" fill-rule=\"evenodd\" fill-opacity=\"1\" /><path clip-path=\"url(#clip290)\" d=\"M 0 0 M1194.35 1516.63 L1182.54 1535.08 L1194.35 1535.08 L1194.35 1516.63 M1193.12 1512.56 L1199 1512.56 L1199 1535.08 L1203.93 1535.08 L1203.93 1538.97 L1199 1538.97 L1199 1547.12 L1194.35 1547.12 L1194.35 1538.97 L1178.75 1538.97 L1178.75 1534.46 L1193.12 1512.56 Z\" fill=\"#000000\" fill-rule=\"evenodd\" fill-opacity=\"1\" /><path clip-path=\"url(#clip290)\" d=\"M 0 0 M1505.97 1512.56 L1524.32 1512.56 L1524.32 1516.5 L1510.25 1516.5 L1510.25 1524.97 Q1511.27 1524.62 1512.29 1524.46 Q1513.31 1524.27 1514.33 1524.27 Q1520.11 1524.27 1523.49 1527.44 Q1526.87 1530.62 1526.87 1536.03 Q1526.87 1541.61 1523.4 1544.71 Q1519.93 1547.79 1513.61 1547.79 Q1511.43 1547.79 1509.16 1547.42 Q1506.92 1547.05 1504.51 1546.31 L1504.51 1541.61 Q1506.59 1542.74 1508.82 1543.3 Q1511.04 1543.86 1513.51 1543.86 Q1517.52 1543.86 1519.86 1541.75 Q1522.2 1539.64 1522.2 1536.03 Q1522.2 1532.42 1519.86 1530.31 Q1517.52 1528.21 1513.51 1528.21 Q1511.64 1528.21 1509.76 1528.62 Q1507.91 1529.04 1505.97 1529.92 L1505.97 1512.56 Z\" fill=\"#000000\" fill-rule=\"evenodd\" fill-opacity=\"1\" /><path clip-path=\"url(#clip290)\" d=\"M 0 0 M1840.45 1527.98 Q1837.3 1527.98 1835.45 1530.13 Q1833.62 1532.28 1833.62 1536.03 Q1833.62 1539.76 1835.45 1541.93 Q1837.3 1544.09 1840.45 1544.09 Q1843.6 1544.09 1845.43 1541.93 Q1847.28 1539.76 1847.28 1536.03 Q1847.28 1532.28 1845.43 1530.13 Q1843.6 1527.98 1840.45 1527.98 M1849.73 1513.32 L1849.73 1517.58 Q1847.97 1516.75 1846.17 1516.31 Q1844.38 1515.87 1842.62 1515.87 Q1837.99 1515.87 1835.54 1519 Q1833.11 1522.12 1832.76 1528.44 Q1834.13 1526.43 1836.19 1525.36 Q1838.25 1524.27 1840.73 1524.27 Q1845.93 1524.27 1848.94 1527.44 Q1851.98 1530.59 1851.98 1536.03 Q1851.98 1541.36 1848.83 1544.57 Q1845.68 1547.79 1840.45 1547.79 Q1834.45 1547.79 1831.28 1543.21 Q1828.11 1538.6 1828.11 1529.87 Q1828.11 1521.68 1832 1516.82 Q1835.89 1511.93 1842.44 1511.93 Q1844.2 1511.93 1845.98 1512.28 Q1847.79 1512.63 1849.73 1513.32 Z\" fill=\"#000000\" fill-rule=\"evenodd\" fill-opacity=\"1\" /><path clip-path=\"url(#clip290)\" d=\"M 0 0 M2153.28 1512.56 L2175.51 1512.56 L2175.51 1514.55 L2162.96 1547.12 L2158.08 1547.12 L2169.88 1516.5 L2153.28 1516.5 L2153.28 1512.56 Z\" fill=\"#000000\" fill-rule=\"evenodd\" fill-opacity=\"1\" /><polyline clip-path=\"url(#clip292)\" style=\"stroke:#000000; stroke-width:2; stroke-opacity:0.1; fill:none\" points=\"\n",
       "  156.112,1445.72 2352.76,1445.72 \n",
       "  \"/>\n",
       "<polyline clip-path=\"url(#clip292)\" style=\"stroke:#000000; stroke-width:2; stroke-opacity:0.1; fill:none\" points=\"\n",
       "  156.112,1106.28 2352.76,1106.28 \n",
       "  \"/>\n",
       "<polyline clip-path=\"url(#clip292)\" style=\"stroke:#000000; stroke-width:2; stroke-opacity:0.1; fill:none\" points=\"\n",
       "  156.112,766.846 2352.76,766.846 \n",
       "  \"/>\n",
       "<polyline clip-path=\"url(#clip292)\" style=\"stroke:#000000; stroke-width:2; stroke-opacity:0.1; fill:none\" points=\"\n",
       "  156.112,427.411 2352.76,427.411 \n",
       "  \"/>\n",
       "<polyline clip-path=\"url(#clip292)\" style=\"stroke:#000000; stroke-width:2; stroke-opacity:0.1; fill:none\" points=\"\n",
       "  156.112,87.9763 2352.76,87.9763 \n",
       "  \"/>\n",
       "<polyline clip-path=\"url(#clip290)\" style=\"stroke:#000000; stroke-width:4; stroke-opacity:1; fill:none\" points=\"\n",
       "  156.112,1486.45 156.112,47.2441 \n",
       "  \"/>\n",
       "<polyline clip-path=\"url(#clip290)\" style=\"stroke:#000000; stroke-width:4; stroke-opacity:1; fill:none\" points=\"\n",
       "  156.112,1445.72 182.472,1445.72 \n",
       "  \"/>\n",
       "<polyline clip-path=\"url(#clip290)\" style=\"stroke:#000000; stroke-width:4; stroke-opacity:1; fill:none\" points=\"\n",
       "  156.112,1106.28 182.472,1106.28 \n",
       "  \"/>\n",
       "<polyline clip-path=\"url(#clip290)\" style=\"stroke:#000000; stroke-width:4; stroke-opacity:1; fill:none\" points=\"\n",
       "  156.112,766.846 182.472,766.846 \n",
       "  \"/>\n",
       "<polyline clip-path=\"url(#clip290)\" style=\"stroke:#000000; stroke-width:4; stroke-opacity:1; fill:none\" points=\"\n",
       "  156.112,427.411 182.472,427.411 \n",
       "  \"/>\n",
       "<polyline clip-path=\"url(#clip290)\" style=\"stroke:#000000; stroke-width:4; stroke-opacity:1; fill:none\" points=\"\n",
       "  156.112,87.9763 182.472,87.9763 \n",
       "  \"/>\n",
       "<path clip-path=\"url(#clip290)\" d=\"M 0 0 M62.9365 1431.51 Q59.3254 1431.51 57.4967 1435.08 Q55.6912 1438.62 55.6912 1445.75 Q55.6912 1452.86 57.4967 1456.42 Q59.3254 1459.96 62.9365 1459.96 Q66.5707 1459.96 68.3763 1456.42 Q70.205 1452.86 70.205 1445.75 Q70.205 1438.62 68.3763 1435.08 Q66.5707 1431.51 62.9365 1431.51 M62.9365 1427.81 Q68.7467 1427.81 71.8022 1432.42 Q74.8809 1437 74.8809 1445.75 Q74.8809 1454.48 71.8022 1459.08 Q68.7467 1463.67 62.9365 1463.67 Q57.1264 1463.67 54.0477 1459.08 Q50.9921 1454.48 50.9921 1445.75 Q50.9921 1437 54.0477 1432.42 Q57.1264 1427.81 62.9365 1427.81 Z\" fill=\"#000000\" fill-rule=\"evenodd\" fill-opacity=\"1\" /><path clip-path=\"url(#clip290)\" d=\"M 0 0 M83.0984 1457.12 L87.9827 1457.12 L87.9827 1463 L83.0984 1463 L83.0984 1457.12 Z\" fill=\"#000000\" fill-rule=\"evenodd\" fill-opacity=\"1\" /><path clip-path=\"url(#clip290)\" d=\"M 0 0 M108.168 1431.51 Q104.557 1431.51 102.728 1435.08 Q100.922 1438.62 100.922 1445.75 Q100.922 1452.86 102.728 1456.42 Q104.557 1459.96 108.168 1459.96 Q111.802 1459.96 113.608 1456.42 Q115.436 1452.86 115.436 1445.75 Q115.436 1438.62 113.608 1435.08 Q111.802 1431.51 108.168 1431.51 M108.168 1427.81 Q113.978 1427.81 117.033 1432.42 Q120.112 1437 120.112 1445.75 Q120.112 1454.48 117.033 1459.08 Q113.978 1463.67 108.168 1463.67 Q102.358 1463.67 99.2789 1459.08 Q96.2234 1454.48 96.2234 1445.75 Q96.2234 1437 99.2789 1432.42 Q102.358 1427.81 108.168 1427.81 Z\" fill=\"#000000\" fill-rule=\"evenodd\" fill-opacity=\"1\" /><path clip-path=\"url(#clip290)\" d=\"M 0 0 M63.9319 1092.08 Q60.3208 1092.08 58.4921 1095.64 Q56.6865 1099.19 56.6865 1106.32 Q56.6865 1113.42 58.4921 1116.99 Q60.3208 1120.53 63.9319 1120.53 Q67.5661 1120.53 69.3717 1116.99 Q71.2004 1113.42 71.2004 1106.32 Q71.2004 1099.19 69.3717 1095.64 Q67.5661 1092.08 63.9319 1092.08 M63.9319 1088.38 Q69.742 1088.38 72.7976 1092.98 Q75.8763 1097.57 75.8763 1106.32 Q75.8763 1115.04 72.7976 1119.65 Q69.742 1124.23 63.9319 1124.23 Q58.1217 1124.23 55.043 1119.65 Q51.9875 1115.04 51.9875 1106.32 Q51.9875 1097.57 55.043 1092.98 Q58.1217 1088.38 63.9319 1088.38 Z\" fill=\"#000000\" fill-rule=\"evenodd\" fill-opacity=\"1\" /><path clip-path=\"url(#clip290)\" d=\"M 0 0 M84.0938 1117.68 L88.978 1117.68 L88.978 1123.56 L84.0938 1123.56 L84.0938 1117.68 Z\" fill=\"#000000\" fill-rule=\"evenodd\" fill-opacity=\"1\" /><path clip-path=\"url(#clip290)\" d=\"M 0 0 M99.2095 1089 L117.566 1089 L117.566 1092.94 L103.492 1092.94 L103.492 1101.41 Q104.51 1101.06 105.529 1100.9 Q106.547 1100.71 107.566 1100.71 Q113.353 1100.71 116.733 1103.89 Q120.112 1107.06 120.112 1112.47 Q120.112 1118.05 116.64 1121.15 Q113.168 1124.23 106.848 1124.23 Q104.672 1124.23 102.404 1123.86 Q100.159 1123.49 97.7511 1122.75 L97.7511 1118.05 Q99.8345 1119.19 102.057 1119.74 Q104.279 1120.3 106.756 1120.3 Q110.76 1120.3 113.098 1118.19 Q115.436 1116.08 115.436 1112.47 Q115.436 1108.86 113.098 1106.76 Q110.76 1104.65 106.756 1104.65 Q104.881 1104.65 103.006 1105.07 Q101.154 1105.48 99.2095 1106.36 L99.2095 1089 Z\" fill=\"#000000\" fill-rule=\"evenodd\" fill-opacity=\"1\" /><path clip-path=\"url(#clip290)\" d=\"M 0 0 M53.7467 780.191 L61.3856 780.191 L61.3856 753.825 L53.0754 755.492 L53.0754 751.233 L61.3393 749.566 L66.0152 749.566 L66.0152 780.191 L73.654 780.191 L73.654 784.126 L53.7467 784.126 L53.7467 780.191 Z\" fill=\"#000000\" fill-rule=\"evenodd\" fill-opacity=\"1\" /><path clip-path=\"url(#clip290)\" d=\"M 0 0 M83.0984 778.246 L87.9827 778.246 L87.9827 784.126 L83.0984 784.126 L83.0984 778.246 Z\" fill=\"#000000\" fill-rule=\"evenodd\" fill-opacity=\"1\" /><path clip-path=\"url(#clip290)\" d=\"M 0 0 M108.168 752.645 Q104.557 752.645 102.728 756.209 Q100.922 759.751 100.922 766.881 Q100.922 773.987 102.728 777.552 Q104.557 781.094 108.168 781.094 Q111.802 781.094 113.608 777.552 Q115.436 773.987 115.436 766.881 Q115.436 759.751 113.608 756.209 Q111.802 752.645 108.168 752.645 M108.168 748.941 Q113.978 748.941 117.033 753.547 Q120.112 758.131 120.112 766.881 Q120.112 775.608 117.033 780.214 Q113.978 784.797 108.168 784.797 Q102.358 784.797 99.2789 780.214 Q96.2234 775.608 96.2234 766.881 Q96.2234 758.131 99.2789 753.547 Q102.358 748.941 108.168 748.941 Z\" fill=\"#000000\" fill-rule=\"evenodd\" fill-opacity=\"1\" /><path clip-path=\"url(#clip290)\" d=\"M 0 0 M54.7421 440.756 L62.381 440.756 L62.381 414.39 L54.0708 416.057 L54.0708 411.798 L62.3347 410.131 L67.0106 410.131 L67.0106 440.756 L74.6494 440.756 L74.6494 444.691 L54.7421 444.691 L54.7421 440.756 Z\" fill=\"#000000\" fill-rule=\"evenodd\" fill-opacity=\"1\" /><path clip-path=\"url(#clip290)\" d=\"M 0 0 M84.0938 438.812 L88.978 438.812 L88.978 444.691 L84.0938 444.691 L84.0938 438.812 Z\" fill=\"#000000\" fill-rule=\"evenodd\" fill-opacity=\"1\" /><path clip-path=\"url(#clip290)\" d=\"M 0 0 M99.2095 410.131 L117.566 410.131 L117.566 414.066 L103.492 414.066 L103.492 422.538 Q104.51 422.191 105.529 422.029 Q106.547 421.844 107.566 421.844 Q113.353 421.844 116.733 425.015 Q120.112 428.187 120.112 433.603 Q120.112 439.182 116.64 442.284 Q113.168 445.362 106.848 445.362 Q104.672 445.362 102.404 444.992 Q100.159 444.622 97.7511 443.881 L97.7511 439.182 Q99.8345 440.316 102.057 440.872 Q104.279 441.427 106.756 441.427 Q110.76 441.427 113.098 439.321 Q115.436 437.214 115.436 433.603 Q115.436 429.992 113.098 427.886 Q110.76 425.779 106.756 425.779 Q104.881 425.779 103.006 426.196 Q101.154 426.613 99.2095 427.492 L99.2095 410.131 Z\" fill=\"#000000\" fill-rule=\"evenodd\" fill-opacity=\"1\" /><path clip-path=\"url(#clip290)\" d=\"M 0 0 M56.9643 101.321 L73.2837 101.321 L73.2837 105.256 L51.3393 105.256 L51.3393 101.321 Q54.0014 98.5665 58.5847 93.9369 Q63.1911 89.2841 64.3717 87.9416 Q66.617 85.4184 67.4967 83.6823 Q68.3994 81.9231 68.3994 80.2333 Q68.3994 77.4786 66.455 75.7425 Q64.5337 74.0064 61.4319 74.0064 Q59.2328 74.0064 56.7791 74.7703 Q54.3486 75.5342 51.5708 77.0851 L51.5708 72.3629 Q54.3949 71.2287 56.8486 70.65 Q59.3023 70.0713 61.3393 70.0713 Q66.7096 70.0713 69.9041 72.7565 Q73.0985 75.4416 73.0985 79.9323 Q73.0985 82.062 72.2883 83.9832 Q71.5013 85.8814 69.3948 88.474 Q68.8161 89.1453 65.7143 92.3628 Q62.6124 95.5573 56.9643 101.321 Z\" fill=\"#000000\" fill-rule=\"evenodd\" fill-opacity=\"1\" /><path clip-path=\"url(#clip290)\" d=\"M 0 0 M83.0984 99.3767 L87.9827 99.3767 L87.9827 105.256 L83.0984 105.256 L83.0984 99.3767 Z\" fill=\"#000000\" fill-rule=\"evenodd\" fill-opacity=\"1\" /><path clip-path=\"url(#clip290)\" d=\"M 0 0 M108.168 73.775 Q104.557 73.775 102.728 77.3398 Q100.922 80.8814 100.922 88.011 Q100.922 95.1174 102.728 98.6822 Q104.557 102.224 108.168 102.224 Q111.802 102.224 113.608 98.6822 Q115.436 95.1174 115.436 88.011 Q115.436 80.8814 113.608 77.3398 Q111.802 73.775 108.168 73.775 M108.168 70.0713 Q113.978 70.0713 117.033 74.6777 Q120.112 79.261 120.112 88.011 Q120.112 96.7378 117.033 101.344 Q113.978 105.928 108.168 105.928 Q102.358 105.928 99.2789 101.344 Q96.2234 96.7378 96.2234 88.011 Q96.2234 79.261 99.2789 74.6777 Q102.358 70.0713 108.168 70.0713 Z\" fill=\"#000000\" fill-rule=\"evenodd\" fill-opacity=\"1\" /><polyline clip-path=\"url(#clip292)\" style=\"stroke:#009af9; stroke-width:4; stroke-opacity:1; fill:none\" points=\"\n",
       "  218.281,1445.72 223.341,1435.21 228.4,1424.86 233.46,1414.67 238.519,1404.63 285.301,1318.21 332.083,1241.55 378.865,1172.68 425.646,1110.16 481.874,1041.92 \n",
       "  538.102,979.918 585.642,931.58 633.182,886.456 736.465,797.676 831.684,724.988 933.767,654.839 1052.04,581.707 1157.15,522.732 1249.32,474.922 1349.81,426.368 \n",
       "  1450.9,380.796 1562.66,333.733 1669.01,291.794 1779.58,250.772 1872.65,218.063 1986.29,180.154 2093.11,146.352 2264.25,95.4778 2290.59,87.9763 \n",
       "  \"/>\n",
       "<circle clip-path=\"url(#clip292)\" cx=\"218.281\" cy=\"1445.72\" r=\"14\" fill=\"#e26f46\" fill-rule=\"evenodd\" fill-opacity=\"1\" stroke=\"#000000\" stroke-opacity=\"1\" stroke-width=\"3.2\"/>\n",
       "<circle clip-path=\"url(#clip292)\" cx=\"287.358\" cy=\"1305.83\" r=\"14\" fill=\"#e26f46\" fill-rule=\"evenodd\" fill-opacity=\"1\" stroke=\"#000000\" stroke-opacity=\"1\" stroke-width=\"3.2\"/>\n",
       "<circle clip-path=\"url(#clip292)\" cx=\"356.435\" cy=\"1196.74\" r=\"14\" fill=\"#e26f46\" fill-rule=\"evenodd\" fill-opacity=\"1\" stroke=\"#000000\" stroke-opacity=\"1\" stroke-width=\"3.2\"/>\n",
       "<circle clip-path=\"url(#clip292)\" cx=\"425.512\" cy=\"1102.79\" r=\"14\" fill=\"#e26f46\" fill-rule=\"evenodd\" fill-opacity=\"1\" stroke=\"#000000\" stroke-opacity=\"1\" stroke-width=\"3.2\"/>\n",
       "<circle clip-path=\"url(#clip292)\" cx=\"494.589\" cy=\"1020.31\" r=\"14\" fill=\"#e26f46\" fill-rule=\"evenodd\" fill-opacity=\"1\" stroke=\"#000000\" stroke-opacity=\"1\" stroke-width=\"3.2\"/>\n",
       "<circle clip-path=\"url(#clip292)\" cx=\"563.666\" cy=\"946.803\" r=\"14\" fill=\"#e26f46\" fill-rule=\"evenodd\" fill-opacity=\"1\" stroke=\"#000000\" stroke-opacity=\"1\" stroke-width=\"3.2\"/>\n",
       "<circle clip-path=\"url(#clip292)\" cx=\"632.742\" cy=\"880.518\" r=\"14\" fill=\"#e26f46\" fill-rule=\"evenodd\" fill-opacity=\"1\" stroke=\"#000000\" stroke-opacity=\"1\" stroke-width=\"3.2\"/>\n",
       "<circle clip-path=\"url(#clip292)\" cx=\"701.819\" cy=\"820.168\" r=\"14\" fill=\"#e26f46\" fill-rule=\"evenodd\" fill-opacity=\"1\" stroke=\"#000000\" stroke-opacity=\"1\" stroke-width=\"3.2\"/>\n",
       "<circle clip-path=\"url(#clip292)\" cx=\"770.896\" cy=\"764.781\" r=\"14\" fill=\"#e26f46\" fill-rule=\"evenodd\" fill-opacity=\"1\" stroke=\"#000000\" stroke-opacity=\"1\" stroke-width=\"3.2\"/>\n",
       "<circle clip-path=\"url(#clip292)\" cx=\"839.973\" cy=\"713.605\" r=\"14\" fill=\"#e26f46\" fill-rule=\"evenodd\" fill-opacity=\"1\" stroke=\"#000000\" stroke-opacity=\"1\" stroke-width=\"3.2\"/>\n",
       "<circle clip-path=\"url(#clip292)\" cx=\"909.05\" cy=\"666.049\" r=\"14\" fill=\"#e26f46\" fill-rule=\"evenodd\" fill-opacity=\"1\" stroke=\"#000000\" stroke-opacity=\"1\" stroke-width=\"3.2\"/>\n",
       "<circle clip-path=\"url(#clip292)\" cx=\"978.127\" cy=\"621.637\" r=\"14\" fill=\"#e26f46\" fill-rule=\"evenodd\" fill-opacity=\"1\" stroke=\"#000000\" stroke-opacity=\"1\" stroke-width=\"3.2\"/>\n",
       "<circle clip-path=\"url(#clip292)\" cx=\"1047.2\" cy=\"579.98\" r=\"14\" fill=\"#e26f46\" fill-rule=\"evenodd\" fill-opacity=\"1\" stroke=\"#000000\" stroke-opacity=\"1\" stroke-width=\"3.2\"/>\n",
       "<circle clip-path=\"url(#clip292)\" cx=\"1116.28\" cy=\"540.759\" r=\"14\" fill=\"#e26f46\" fill-rule=\"evenodd\" fill-opacity=\"1\" stroke=\"#000000\" stroke-opacity=\"1\" stroke-width=\"3.2\"/>\n",
       "<circle clip-path=\"url(#clip292)\" cx=\"1185.36\" cy=\"503.706\" r=\"14\" fill=\"#e26f46\" fill-rule=\"evenodd\" fill-opacity=\"1\" stroke=\"#000000\" stroke-opacity=\"1\" stroke-width=\"3.2\"/>\n",
       "<circle clip-path=\"url(#clip292)\" cx=\"1254.43\" cy=\"468.595\" r=\"14\" fill=\"#e26f46\" fill-rule=\"evenodd\" fill-opacity=\"1\" stroke=\"#000000\" stroke-opacity=\"1\" stroke-width=\"3.2\"/>\n",
       "<circle clip-path=\"url(#clip292)\" cx=\"1323.51\" cy=\"435.234\" r=\"14\" fill=\"#e26f46\" fill-rule=\"evenodd\" fill-opacity=\"1\" stroke=\"#000000\" stroke-opacity=\"1\" stroke-width=\"3.2\"/>\n",
       "<circle clip-path=\"url(#clip292)\" cx=\"1392.59\" cy=\"403.458\" r=\"14\" fill=\"#e26f46\" fill-rule=\"evenodd\" fill-opacity=\"1\" stroke=\"#000000\" stroke-opacity=\"1\" stroke-width=\"3.2\"/>\n",
       "<circle clip-path=\"url(#clip292)\" cx=\"1461.66\" cy=\"373.124\" r=\"14\" fill=\"#e26f46\" fill-rule=\"evenodd\" fill-opacity=\"1\" stroke=\"#000000\" stroke-opacity=\"1\" stroke-width=\"3.2\"/>\n",
       "<circle clip-path=\"url(#clip292)\" cx=\"1530.74\" cy=\"344.108\" r=\"14\" fill=\"#e26f46\" fill-rule=\"evenodd\" fill-opacity=\"1\" stroke=\"#000000\" stroke-opacity=\"1\" stroke-width=\"3.2\"/>\n",
       "<circle clip-path=\"url(#clip292)\" cx=\"1599.82\" cy=\"316.302\" r=\"14\" fill=\"#e26f46\" fill-rule=\"evenodd\" fill-opacity=\"1\" stroke=\"#000000\" stroke-opacity=\"1\" stroke-width=\"3.2\"/>\n",
       "<circle clip-path=\"url(#clip292)\" cx=\"1668.9\" cy=\"289.608\" r=\"14\" fill=\"#e26f46\" fill-rule=\"evenodd\" fill-opacity=\"1\" stroke=\"#000000\" stroke-opacity=\"1\" stroke-width=\"3.2\"/>\n",
       "<circle clip-path=\"url(#clip292)\" cx=\"1737.97\" cy=\"263.943\" r=\"14\" fill=\"#e26f46\" fill-rule=\"evenodd\" fill-opacity=\"1\" stroke=\"#000000\" stroke-opacity=\"1\" stroke-width=\"3.2\"/>\n",
       "<circle clip-path=\"url(#clip292)\" cx=\"1807.05\" cy=\"239.23\" r=\"14\" fill=\"#e26f46\" fill-rule=\"evenodd\" fill-opacity=\"1\" stroke=\"#000000\" stroke-opacity=\"1\" stroke-width=\"3.2\"/>\n",
       "<circle clip-path=\"url(#clip292)\" cx=\"1876.13\" cy=\"215.403\" r=\"14\" fill=\"#e26f46\" fill-rule=\"evenodd\" fill-opacity=\"1\" stroke=\"#000000\" stroke-opacity=\"1\" stroke-width=\"3.2\"/>\n",
       "<circle clip-path=\"url(#clip292)\" cx=\"1945.2\" cy=\"192.4\" r=\"14\" fill=\"#e26f46\" fill-rule=\"evenodd\" fill-opacity=\"1\" stroke=\"#000000\" stroke-opacity=\"1\" stroke-width=\"3.2\"/>\n",
       "<circle clip-path=\"url(#clip292)\" cx=\"2014.28\" cy=\"170.166\" r=\"14\" fill=\"#e26f46\" fill-rule=\"evenodd\" fill-opacity=\"1\" stroke=\"#000000\" stroke-opacity=\"1\" stroke-width=\"3.2\"/>\n",
       "<circle clip-path=\"url(#clip292)\" cx=\"2083.36\" cy=\"148.653\" r=\"14\" fill=\"#e26f46\" fill-rule=\"evenodd\" fill-opacity=\"1\" stroke=\"#000000\" stroke-opacity=\"1\" stroke-width=\"3.2\"/>\n",
       "<circle clip-path=\"url(#clip292)\" cx=\"2152.43\" cy=\"127.816\" r=\"14\" fill=\"#e26f46\" fill-rule=\"evenodd\" fill-opacity=\"1\" stroke=\"#000000\" stroke-opacity=\"1\" stroke-width=\"3.2\"/>\n",
       "<circle clip-path=\"url(#clip292)\" cx=\"2221.51\" cy=\"107.614\" r=\"14\" fill=\"#e26f46\" fill-rule=\"evenodd\" fill-opacity=\"1\" stroke=\"#000000\" stroke-opacity=\"1\" stroke-width=\"3.2\"/>\n",
       "<circle clip-path=\"url(#clip292)\" cx=\"2290.59\" cy=\"87.9763\" r=\"14\" fill=\"#e26f46\" fill-rule=\"evenodd\" fill-opacity=\"1\" stroke=\"#000000\" stroke-opacity=\"1\" stroke-width=\"3.2\"/>\n",
       "</svg>\n"
      ]
     },
     "execution_count": 103,
     "metadata": {},
     "output_type": "execute_result"
    }
   ],
   "source": [
    "#Teste 3\n",
    "\n",
    "g(x) = log(x)\n",
    "gd(x) = 1/x\n",
    "gdd(x) = -1/x^2\n",
    "x_inicial = 1\n",
    "y_inicial = 0\n",
    "x_final = exp(2)\n",
    "y_final = 2\n",
    "n = 30\n",
    "\n",
    "y = Any[y_inicial]\n",
    "for e in resolver_PVC(gdd, x_inicial, y_inicial, x_final, y_final, n)\n",
    "    push!(y, e)\n",
    "end\n",
    "push!(y, y_final)\n",
    "\n",
    "plot(g, x_inicial, x_final)\n",
    "\n",
    "h = (x_final - x_inicial)/(n)\n",
    "scatter!(x_inicial:h:x_final, y, leg=false)"
   ]
  },
  {
   "cell_type": "markdown",
   "metadata": {},
   "source": [
    "### Gerar a Matriz de Vandermonde"
   ]
  },
  {
   "cell_type": "code",
   "execution_count": 38,
   "metadata": {},
   "outputs": [
    {
     "data": {
      "text/plain": [
       "matriz_de_vandermonde (generic function with 1 method)"
      ]
     },
     "execution_count": 38,
     "metadata": {},
     "output_type": "execute_result"
    }
   ],
   "source": [
    "\"\"\" Essa função recebe uma lista de pontos x e retorna uma matriz cujas colunas são \n",
    "dadas por essa lista de pontos elevado a uma potência. A primeira coluna possui apenas 1s, \n",
    "a segunda é potência de 1, a terceira de 2, e assim em diante até o grau especificado. \"\"\"\n",
    "\n",
    "function matriz_de_vandermonde(pontos_x, grau)\n",
    "    matriz = ones(length(pontos_x))\n",
    "    for i in 1:grau\n",
    "        matriz = hcat(matriz, pontos_x.^i)\n",
    "    end \n",
    "    return matriz\n",
    "end"
   ]
  },
  {
   "cell_type": "code",
   "execution_count": 39,
   "metadata": {},
   "outputs": [
    {
     "data": {
      "text/plain": [
       "5×4 Array{Float64,2}:\n",
       " 1.0   1.0   1.0   1.0\n",
       " 1.0   2.0   4.0   8.0\n",
       " 1.0   4.0  16.0  64.0\n",
       " 1.0   2.0   4.0   8.0\n",
       " 1.0  -1.0   1.0  -1.0"
      ]
     },
     "execution_count": 39,
     "metadata": {},
     "output_type": "execute_result"
    }
   ],
   "source": [
    "matriz_de_vandermonde([1,2,4,2,-1], 3)"
   ]
  },
  {
   "cell_type": "code",
   "execution_count": 40,
   "metadata": {},
   "outputs": [
    {
     "data": {
      "text/plain": [
       "5×2 Array{Float64,2}:\n",
       " 1.0   1.0\n",
       " 1.0  -1.0\n",
       " 1.0   2.0\n",
       " 1.0   3.0\n",
       " 1.0  -5.0"
      ]
     },
     "execution_count": 40,
     "metadata": {},
     "output_type": "execute_result"
    }
   ],
   "source": [
    "matriz_de_vandermonde([1,-1,2,3,-5], 1)"
   ]
  },
  {
   "cell_type": "code",
   "execution_count": 41,
   "metadata": {},
   "outputs": [
    {
     "data": {
      "text/plain": [
       "4×6 Array{Float64,2}:\n",
       " 1.0  2.0  4.0   8.0  16.0   32.0\n",
       " 1.0  3.0  9.0  27.0  81.0  243.0\n",
       " 1.0  1.0  1.0   1.0   1.0    1.0\n",
       " 1.0  2.0  4.0   8.0  16.0   32.0"
      ]
     },
     "execution_count": 41,
     "metadata": {},
     "output_type": "execute_result"
    }
   ],
   "source": [
    "matriz_de_vandermonde([2,3,1,2], 5)"
   ]
  },
  {
   "cell_type": "markdown",
   "metadata": {},
   "source": [
    "### Fazer Interpolação de Curva por Vandermonde"
   ]
  },
  {
   "cell_type": "code",
   "execution_count": 42,
   "metadata": {},
   "outputs": [
    {
     "data": {
      "text/plain": [
       "interpolacao_coeficientes (generic function with 1 method)"
      ]
     },
     "execution_count": 42,
     "metadata": {},
     "output_type": "execute_result"
    }
   ],
   "source": [
    "\"\"\" Nessa função, realizamos o processo de interpolação de curvas utilizando a matriz de \n",
    "Vandermonde para o sistema. Consiste em passarmos os pontos de x e y como duas listas \n",
    "separadas e o grau do polinômio, e a função retorna os coeficientes\n",
    "do polinômio, na ordem do grau 0 até o grau especificado.\"\"\"\n",
    "\n",
    "function interpolacao_coeficientes(pontos_x, pontos_y, grau)\n",
    "    V = matriz_de_vandermonde(pontos_x,grau)\n",
    "    coeficientes = resolver_um_sistema(V,pontos_y)\n",
    "    return coeficientes\n",
    "end"
   ]
  },
  {
   "cell_type": "code",
   "execution_count": 43,
   "metadata": {},
   "outputs": [
    {
     "data": {
      "text/plain": [
       "4×1 Array{Float64,2}:\n",
       "  9.062500000000002\n",
       " -7.818750000000001\n",
       "  1.8750000000000002\n",
       " -0.11875000000000001"
      ]
     },
     "execution_count": 43,
     "metadata": {},
     "output_type": "execute_result"
    }
   ],
   "source": [
    "interpolacao_coeficientes([1,5,6,9], [3,2,4,4], 3)"
   ]
  },
  {
   "cell_type": "code",
   "execution_count": 44,
   "metadata": {},
   "outputs": [
    {
     "data": {
      "text/plain": [
       "6×1 Array{Float64,2}:\n",
       " -3.0\n",
       " -5.303660976593872\n",
       " -2.9991666666666665\n",
       "  0.3916595540756744\n",
       " -0.0008333333333331722\n",
       "  0.9120014225181984"
      ]
     },
     "execution_count": 44,
     "metadata": {},
     "output_type": "execute_result"
    }
   ],
   "source": [
    "interpolacao_coeficientes([-1,0,1.87,1,-2,2], [-2.0,-3.0,0,-10,-36.72,6.7], 5)"
   ]
  },
  {
   "cell_type": "code",
   "execution_count": 45,
   "metadata": {},
   "outputs": [
    {
     "data": {
      "text/plain": [
       "4×1 Array{Float64,2}:\n",
       " 3.0\n",
       " 5.0\n",
       " 0.0\n",
       " 0.0"
      ]
     },
     "execution_count": 45,
     "metadata": {},
     "output_type": "execute_result"
    }
   ],
   "source": [
    "interpolacao_coeficientes([0,1,-1,2], [3,8,-2,13], 3)"
   ]
  },
  {
   "cell_type": "markdown",
   "metadata": {},
   "source": [
    "### Obter Polinômio por Lagrange"
   ]
  },
  {
   "cell_type": "code",
   "execution_count": 46,
   "metadata": {},
   "outputs": [
    {
     "ename": "LoadError",
     "evalue": "\u001b[91mArgumentError: Package Polynomials not found in current path:\u001b[39m\n\u001b[91m- Run `import Pkg; Pkg.add(\"Polynomials\")` to install the Polynomials package.\u001b[39m\n",
     "output_type": "error",
     "traceback": [
      "\u001b[91mArgumentError: Package Polynomials not found in current path:\u001b[39m\n\u001b[91m- Run `import Pkg; Pkg.add(\"Polynomials\")` to install the Polynomials package.\u001b[39m\n",
      "",
      "Stacktrace:",
      " [1] require(::Module, ::Symbol) at .\\loading.jl:893",
      " [2] include_string(::Function, ::Module, ::String, ::String) at .\\loading.jl:1091"
     ]
    }
   ],
   "source": [
    "\"\"\"\n",
    "Polinômio de Lagrange dado um conjunto de pontos e o (grau - 1) do polinômio desejado\n",
    "\n",
    "@param: - coordenadas x\n",
    "        - coordenadas y\n",
    "        - (grau - 1) desejado para o polinômio de lagrange (se grau = 3, teremos P_2(x))\n",
    "\n",
    "@return: - aproximação para f no ponto x_final\n",
    "\"\"\"\n",
    "\n",
    "#import Pkg; \n",
    "#Pkg.add(\"Polynomials\")\n",
    "\n",
    "using Polynomials\n",
    "\n",
    "function lagrange(pontos_x, pontos_y, grau)\n",
    "    \n",
    "    poly = Polynomial(0.0)\n",
    "\n",
    "    for i in 1 : grau\n",
    "        coeff = Polynomial(pontos_y[i])\n",
    "        for j in 1 : grau\n",
    "            if i == j\n",
    "                # caso especial, não consideramos os\n",
    "                # mesmos índices\n",
    "                continue\n",
    "            end\n",
    "\n",
    "            # adicionamento esse coeficiente no polinômio\n",
    "            coeff = coeff * Polynomial([-pontos_x[j], 1.0]) / (pontos_x[i] - pontos_x[j])\n",
    "        end\n",
    "\n",
    "        # adicionamos o coeficiente no polinômio\n",
    "        poly += coeff\n",
    "    end\n",
    "\n",
    "    # retornamos polinômio na forma [1, x, x^2, ..., x^(grau-1)]\n",
    "    return poly\n",
    "end"
   ]
  },
  {
   "cell_type": "code",
   "execution_count": 47,
   "metadata": {},
   "outputs": [
    {
     "ename": "LoadError",
     "evalue": "\u001b[91mUndefVarError: lagrange not defined\u001b[39m",
     "output_type": "error",
     "traceback": [
      "\u001b[91mUndefVarError: lagrange not defined\u001b[39m",
      "",
      "Stacktrace:",
      " [1] top-level scope at In[47]:4",
      " [2] include_string(::Function, ::Module, ::String, ::String) at .\\loading.jl:1091"
     ]
    }
   ],
   "source": [
    "x = [1.0, 2.0, 7.0]\n",
    "y = [2.0, 5.0, 9.0]\n",
    "\n",
    "println(coeffs(lagrange(x, y, 3)))"
   ]
  },
  {
   "cell_type": "code",
   "execution_count": 48,
   "metadata": {},
   "outputs": [
    {
     "ename": "LoadError",
     "evalue": "\u001b[91mUndefVarError: lagrange not defined\u001b[39m",
     "output_type": "error",
     "traceback": [
      "\u001b[91mUndefVarError: lagrange not defined\u001b[39m",
      "",
      "Stacktrace:",
      " [1] top-level scope at In[48]:4",
      " [2] include_string(::Function, ::Module, ::String, ::String) at .\\loading.jl:1091"
     ]
    }
   ],
   "source": [
    "x = [-1.0, 2.0, 3.0, 5.0]\n",
    "y = [0.0, 1.0, 1.0, 2.0]\n",
    "\n",
    "println(coeffs(lagrange(x, y, 3)))"
   ]
  },
  {
   "cell_type": "code",
   "execution_count": 49,
   "metadata": {},
   "outputs": [
    {
     "ename": "LoadError",
     "evalue": "\u001b[91mUndefVarError: lagrange not defined\u001b[39m",
     "output_type": "error",
     "traceback": [
      "\u001b[91mUndefVarError: lagrange not defined\u001b[39m",
      "",
      "Stacktrace:",
      " [1] top-level scope at In[49]:4",
      " [2] include_string(::Function, ::Module, ::String, ::String) at .\\loading.jl:1091"
     ]
    }
   ],
   "source": [
    "x = [0.0, 2.0, 4.0]\n",
    "y = [-2.0, 1.0, 4.0]\n",
    "\n",
    "println(coeffs(lagrange(x, y, 2)))"
   ]
  },
  {
   "cell_type": "markdown",
   "metadata": {},
   "source": [
    "### Fazer Interpolação de Curva por Lagrange"
   ]
  },
  {
   "cell_type": "code",
   "execution_count": 50,
   "metadata": {},
   "outputs": [
    {
     "data": {
      "text/plain": [
       "interpolacao_funcao (generic function with 1 method)"
      ]
     },
     "execution_count": 50,
     "metadata": {},
     "output_type": "execute_result"
    }
   ],
   "source": [
    "\"\"\" Essa função faz a interpolação dos pontos x e y dados e retorna uma função com o grau passado.\n",
    "Vale notar que a função é apenas um encapsulamento da função que gera o lagrange.\"\"\"\n",
    "\n",
    "function interpolacao_funcao(pontos_x,pontos_y, grau)\n",
    "    polinomio =lagrange(pontos_x,pontos_y,grau)\n",
    "    return polinomio\n",
    "end"
   ]
  },
  {
   "cell_type": "code",
   "execution_count": 51,
   "metadata": {},
   "outputs": [
    {
     "ename": "LoadError",
     "evalue": "\u001b[91mUndefVarError: lagrange not defined\u001b[39m",
     "output_type": "error",
     "traceback": [
      "\u001b[91mUndefVarError: lagrange not defined\u001b[39m",
      "",
      "Stacktrace:",
      " [1] interpolacao_funcao(::Array{Float64,1}, ::Array{Float64,1}, ::Int64) at .\\In[50]:5",
      " [2] top-level scope at In[51]:4",
      " [3] include_string(::Function, ::Module, ::String, ::String) at .\\loading.jl:1091"
     ]
    }
   ],
   "source": [
    "x = [1.0, 2.0, 7.0]\n",
    "y = [2.0, 5.0, 9.0]\n",
    "\n",
    "interpolacao_funcao(x,y,3)"
   ]
  },
  {
   "cell_type": "code",
   "execution_count": 52,
   "metadata": {},
   "outputs": [
    {
     "ename": "LoadError",
     "evalue": "\u001b[91mUndefVarError: lagrange not defined\u001b[39m",
     "output_type": "error",
     "traceback": [
      "\u001b[91mUndefVarError: lagrange not defined\u001b[39m",
      "",
      "Stacktrace:",
      " [1] interpolacao_funcao(::Array{Float64,1}, ::Array{Float64,1}, ::Int64) at .\\In[50]:5",
      " [2] top-level scope at In[52]:4",
      " [3] include_string(::Function, ::Module, ::String, ::String) at .\\loading.jl:1091"
     ]
    }
   ],
   "source": [
    "x = [-1.0, 2.0, 3.0, 5.0]\n",
    "y = [0.0, 1.0, 1.0, 2.0]\n",
    "\n",
    "interpolacao_funcao(x, y, 3)"
   ]
  },
  {
   "cell_type": "code",
   "execution_count": 53,
   "metadata": {},
   "outputs": [
    {
     "ename": "LoadError",
     "evalue": "\u001b[91mUndefVarError: lagrange not defined\u001b[39m",
     "output_type": "error",
     "traceback": [
      "\u001b[91mUndefVarError: lagrange not defined\u001b[39m",
      "",
      "Stacktrace:",
      " [1] interpolacao_funcao(::Array{Float64,1}, ::Array{Float64,1}, ::Int64) at .\\In[50]:5",
      " [2] top-level scope at In[53]:4",
      " [3] include_string(::Function, ::Module, ::String, ::String) at .\\loading.jl:1091"
     ]
    }
   ],
   "source": [
    "x = [0.0, 2.0, 4.0]\n",
    "y = [-2.0, 1.0, 4.0]\n",
    "\n",
    "interpolacao_funcao(x, y, 2)"
   ]
  },
  {
   "cell_type": "markdown",
   "metadata": {},
   "source": [
    "### Aplicação de um x em uma função"
   ]
  },
  {
   "cell_type": "code",
   "execution_count": 54,
   "metadata": {},
   "outputs": [
    {
     "data": {
      "text/plain": [
       "aplica (generic function with 1 method)"
      ]
     },
     "execution_count": 54,
     "metadata": {},
     "output_type": "execute_result"
    }
   ],
   "source": [
    "\"\"\" Função auxiliar que transforma uma lista de coeficientes num polinômio centrado em x0 que também é dado como entrada.\n",
    "\n",
    "Ex de entrada:\n",
    "[ c, b, a ]\n",
    "Saída:\n",
    "ax^2 + bx + c\n",
    "\"\"\"\n",
    "\n",
    "function applica(coeficientes, valor_de_x) # Recebe a lista de coeficientes e o valor x0 \n",
    "    grau_x = 1                             # Começamos com x^0 no polinômio, ou seja, o termo de coeficientes constante\n",
    "    valor_do_polinomio_no_x = 0            # Polinômio começa com valor igual a 0\n",
    "    for i = 1:length(coeficientes)         \n",
    "        valor_do_polinomio_no_x += coeficientes[i] * grau_x # x0^(i-1) * C_i\n",
    "        grau_x *= valor_de_x # x0^(i-1) = x0^i\n",
    "    end\n",
    "    return valor_do_polinomio_no_x # retorna o valor do polinômio em x0\n",
    "end"
   ]
  },
  {
   "cell_type": "markdown",
   "metadata": {},
   "source": [
    "### Regressão Linear de Funções Lineares"
   ]
  },
  {
   "cell_type": "code",
   "execution_count": 55,
   "metadata": {},
   "outputs": [
    {
     "data": {
      "text/plain": [
       "regressão_coeficientes_lineares (generic function with 1 method)"
      ]
     },
     "execution_count": 55,
     "metadata": {},
     "output_type": "execute_result"
    }
   ],
   "source": [
    "function regressão_coeficientes_lineares(pontos_x,pontos_y, grau) #Feito\n",
    "    V=matriz_de_vandermonde(pontos_x,grau)  #matrix alta #muitas linhas e poucas colunas \n",
    "    coeficientes= resolver_um_sistema_por_minimos_quadrados(V,pontos_y)\n",
    "    return coeficientes\n",
    "end"
   ]
  },
  {
   "cell_type": "code",
   "execution_count": 1,
   "metadata": {},
   "outputs": [
    {
     "ename": "LoadError",
     "evalue": "UndefVarError: regressão_coeficientes_lineares not defined",
     "output_type": "error",
     "traceback": [
      "UndefVarError: regressão_coeficientes_lineares not defined",
      "",
      "Stacktrace:",
      " [1] top-level scope",
      "   @ In[1]:8",
      " [2] eval",
      "   @ .\\boot.jl:360 [inlined]",
      " [3] include_string(mapexpr::typeof(REPL.softscope), mod::Module, code::String, filename::String)",
      "   @ Base .\\loading.jl:1094"
     ]
    }
   ],
   "source": [
    "grau = 1\n",
    "\n",
    "n = 21\n",
    "x = range(-10, 10, length=n)\n",
    "y = zeros(n)\n",
    "y[11] = 1;\n",
    "\n",
    "a = regressão_coeficientes_lineares(x, y, grau) # recebe os coeficientes\n",
    "println(a)  # printa os coeficientes\n",
    "\n",
    "# Plota os pontos junto com a curva que conseguimos que minimiza a soma dos quadrados das distâncias\n",
    "scatter(x,y,leg=false)\n",
    "plot!(x -> a[1] + a[2] * x, extrema(x)..., c=:red, lw=2)\n",
    "title!(\"Mínimos Quadrados\")"
   ]
  },
  {
   "cell_type": "code",
   "execution_count": null,
   "metadata": {},
   "outputs": [],
   "source": [
    "x = [23.2, 24, 23.9, 26.3, 26.5, 26.8, 26.8, 27.6, 27.6, 28.5, 28.4, 28.7, 29.1, 29.5, 29.4, 29.4, 30.4, 30.4, 30.9, 31, 31.3, 31.4, 31.5, 31.8, 31.9, 31.8, 32, 32.7, 32.8, 33.5, 35, 35, 36.2, 37.4, 38]\n",
    "y = [242, 290, 340, 363, 430, 450, 500, 390, 450, 500, 475, 500, 500, 340, 600, 600, 700, 700, 610, 650, 575, 685, 620, 680, 700, 725, 720, 714, 850, 1000, 920, 955, 925, 975, 950]\n",
    "\n",
    "a = regressão_coeficientes_lineares(x, y, grau) # recebe os coeficientes\n",
    "println(a)  # printa os coeficientes\n",
    "\n",
    "# Plota os pontos junto com a curva que conseguimos que minimiza a soma dos quadrados das distâncias\n",
    "scatter(x,y,leg=false)\n",
    "plot!(x -> a[1] + a[2] * x, extrema(x)..., c=:red, lw=2)\n",
    "title!(\"Mínimos Quadrados\")"
   ]
  },
  {
   "cell_type": "code",
   "execution_count": null,
   "metadata": {},
   "outputs": [],
   "source": [
    "x = []\n",
    "y = []\n",
    "\n",
    "for i in 1:1000\n",
    "    push!(x, i)\n",
    "    push!(y, i)\n",
    "    \n",
    "end\n",
    "\n",
    "a = regressão_coeficientes_lineares(x, y, grau) # recebe os coeficientes\n",
    "println(a)  # printa os coeficientes\n",
    "\n",
    "# Plota os pontos junto com a curva que conseguimos que minimiza a soma dos quadrados das distâncias\n",
    "scatter(x,y,leg=false)\n",
    "plot!(x -> a[1] + a[2] * x, extrema(x)..., c=:red, lw=2)\n",
    "title!(\"Mínimos Quadrados\")"
   ]
  },
  {
   "cell_type": "markdown",
   "metadata": {},
   "source": [
    "### Regressão Linear de Funções Exponenciais"
   ]
  },
  {
   "cell_type": "code",
   "execution_count": 56,
   "metadata": {},
   "outputs": [
    {
     "data": {
      "text/plain": [
       "regressão_função_exponencial (generic function with 1 method)"
      ]
     },
     "execution_count": 56,
     "metadata": {},
     "output_type": "execute_result"
    }
   ],
   "source": [
    "function regressão_função_exponencial(pontos_x,pontos_y, grau) #coeficientes não lineares\n",
    "    #dicionário (\"linearização\") é feito manualmente ou por uma tabela\n",
    "    pontos_y_barra = zeros(length(pontos_y))\n",
    "    for i in 1:length(pontos_x)\n",
    "        pontos_y_barra[i] = log(pontos_y[i])\n",
    "    end\n",
    "    pontos_x_barra = pontos_x\n",
    "    \n",
    "    #resolver regresssão com coeficientes lineares no \"mundo barra\"\n",
    "    coeficientes_barra = regressão_coeficientes_lineares(pontos_x_barra,pontos_y_barra, grau)\n",
    "    #voltar para o mundo original\n",
    "    return coeficientes_barra\n",
    "end"
   ]
  },
  {
   "cell_type": "code",
   "execution_count": null,
   "metadata": {},
   "outputs": [],
   "source": [
    "pontos_x = [45, 99, 31, 57, 37, 85, 21, 64, 17, 41, 103]\n",
    "pontos_y = [33, 72, 19, 27, 23, 62, 24, 32, 18, 36, 76]\n",
    "\n",
    "Coeficientes = regressão_função_exponencial(pontos_x, pontos_y, 1)\n",
    "polinomio(x) = (ℯ^Coeficientes[1])*ℯ^(x*Coeficientes[2])\n",
    "scatter(pontos_x,pontos_y,leg=false)\n",
    "plot!(pontos_x -> polinomio(pontos_x), c=:red, lw=2)\n",
    "title!(\"Mínimos Quadrados\")"
   ]
  },
  {
   "cell_type": "code",
   "execution_count": null,
   "metadata": {},
   "outputs": [],
   "source": [
    "pontos_x = []\n",
    "pontos_y = []\n",
    "\n",
    "for i in 0:14\n",
    "    push!(pontos_x, i)\n",
    "    push!(pontos_y, 2^i)\n",
    "end    \n",
    "\n",
    "Coeficientes = regressão_função_exponencial(pontos_x, pontos_y, 1)\n",
    "polinomio(x) = (ℯ^Coeficientes[1])*ℯ^(x*Coeficientes[2])\n",
    "scatter(pontos_x,pontos_y,leg=false)\n",
    "plot!(pontos_x -> polinomio(pontos_x), c=:red, lw=2)\n",
    "title!(\"Mínimos Quadrados\")"
   ]
  },
  {
   "cell_type": "code",
   "execution_count": null,
   "metadata": {},
   "outputs": [],
   "source": [
    "pontos_x = [0, 1, 2, 3, 4, 5, 6, 7, 8, 9, 10, 11, 12, 13, 14, 15, 16, 17, 18]\n",
    "pontos_y = [78134, 84040, 92300, 100567, 130795, 139200, 165919, 199314, 221540, 243737, 250612, 254959, 266444, 278993,\n",
    "            300915, 342436, 353974, 408428, 501159]\n",
    "\n",
    "Coeficientes = regressão_função_exponencial(pontos_x, pontos_y, 1)\n",
    "polinomio(x) = (ℯ^Coeficientes[1])*ℯ^(x*Coeficientes[2])\n",
    "scatter(pontos_x,pontos_y,leg=false)\n",
    "plot!(pontos_x -> polinomio(pontos_x), c=:red, lw=2)\n",
    "title!(\"Mínimos Quadrados\")"
   ]
  },
  {
   "cell_type": "markdown",
   "metadata": {},
   "source": [
    "### Perguntar"
   ]
  },
  {
   "cell_type": "code",
   "execution_count": 57,
   "metadata": {},
   "outputs": [
    {
     "ename": "LoadError",
     "evalue": "\u001b[91msyntax: invalid identifier name \"?\"\u001b[39m",
     "output_type": "error",
     "traceback": [
      "\u001b[91msyntax: invalid identifier name \"?\"\u001b[39m",
      "",
      "Stacktrace:",
      " [1] top-level scope at In[57]:4",
      " [2] include_string(::Function, ::Module, ::String, ::String) at .\\loading.jl:1091"
     ]
    }
   ],
   "source": [
    "# Perguntar pra ele\n",
    "function regresso_função_outra_funçao(pontos_x,pontos_y, grau) #coeficientes não lineares\n",
    "    #dicionário (\"linearização\") é feito manualmente ou por uma tabela\n",
    "    ??????????????\n",
    "    \n",
    "    #resolver regresssão com coeficientes lineares no \"mundo barra\"\n",
    "    regressão_coeficientes_lineares(pontos_x_barra,pontos_y_barra, grau)\n",
    "    \n",
    "    #voltar para o mundo original\n",
    "    ???????????????????????\n",
    "    \n",
    "    return coeficientes\n",
    "end"
   ]
  },
  {
   "cell_type": "markdown",
   "metadata": {},
   "source": [
    "### Resolver um Sistema por Mínimos Quadrados"
   ]
  },
  {
   "cell_type": "code",
   "execution_count": 58,
   "metadata": {},
   "outputs": [
    {
     "data": {
      "text/plain": [
       "resolver_um_sistema_por_minimos_quadrados (generic function with 1 method)"
      ]
     },
     "execution_count": 58,
     "metadata": {},
     "output_type": "execute_result"
    }
   ],
   "source": [
    "# Thierry\n",
    "function resolver_um_sistema_por_minimos_quadrados(A,b) #feito\n",
    "    x=resolver_um_sistema(A'*A,A'*b)\n",
    "    return x\n",
    "end"
   ]
  },
  {
   "cell_type": "markdown",
   "metadata": {},
   "source": [
    "### Integração pela Regra do Retângulo"
   ]
  },
  {
   "cell_type": "code",
   "execution_count": 59,
   "metadata": {},
   "outputs": [
    {
     "data": {
      "text/plain": [
       "regra_do_retangulo (generic function with 1 method)"
      ]
     },
     "execution_count": 59,
     "metadata": {},
     "output_type": "execute_result"
    }
   ],
   "source": [
    "\"\"\" O objetivo dessa função é aproximar a integração da função no intervalo [a,b] utilizando \n",
    "o somatório de n retângulos dados pela base sendo o intervalo [x_k,x_k+1] e a altura como a \n",
    "média das funções nesses dois pontos. O retorno será a estimativa da integral.\"\"\"\n",
    "\n",
    "function regra_do_retangulo(funcao,a,b,n)\n",
    "    integral = 0.0\n",
    "    h = (b-a)/n \n",
    "    for i in 1:n\n",
    "        f = (funcao( a+h*i ) + funcao( a+h*(i-1) ))/2\n",
    "        integral = integral + f*h\n",
    "    end\n",
    "    return integral\n",
    "end"
   ]
  },
  {
   "cell_type": "code",
   "execution_count": 60,
   "metadata": {},
   "outputs": [
    {
     "data": {
      "text/plain": [
       "70.83750000000002"
      ]
     },
     "execution_count": 60,
     "metadata": {},
     "output_type": "execute_result"
    }
   ],
   "source": [
    "f(x) = 2x^2-x\n",
    "regra_do_retangulo(f,0,5,100)"
   ]
  },
  {
   "cell_type": "code",
   "execution_count": 61,
   "metadata": {},
   "outputs": [
    {
     "data": {
      "text/plain": [
       "4.047082902554811"
      ]
     },
     "execution_count": 61,
     "metadata": {},
     "output_type": "execute_result"
    }
   ],
   "source": [
    "f(x) = log(x)\n",
    "regra_do_retangulo(f,1,5,100)"
   ]
  },
  {
   "cell_type": "code",
   "execution_count": 62,
   "metadata": {},
   "outputs": [
    {
     "data": {
      "text/plain": [
       "-1.0408340855860843e-15"
      ]
     },
     "execution_count": 62,
     "metadata": {},
     "output_type": "execute_result"
    }
   ],
   "source": [
    "f(x) = sin(x)\n",
    "regra_do_retangulo(f,-10,10,100)"
   ]
  },
  {
   "cell_type": "markdown",
   "metadata": {},
   "source": [
    "### Integração pela Regra do Trapézio"
   ]
  },
  {
   "cell_type": "code",
   "execution_count": 63,
   "metadata": {},
   "outputs": [
    {
     "data": {
      "text/plain": [
       "regra_do_trapezio (generic function with 1 method)"
      ]
     },
     "execution_count": 63,
     "metadata": {},
     "output_type": "execute_result"
    }
   ],
   "source": [
    "\"\"\" O objetivo dessa função é aproximar a integração da função no intervalo [a,b] utilizando o \n",
    "somatório de n trapézios dados pelo intervalo [x_k,x_k+1] e as duas bases como as funções nesses \n",
    "dois pontos. O retorno será a estimativa da integral.\"\"\"\n",
    "\n",
    "function regra_do_trapezio(funcao,a,b,n)\n",
    "    soma = f(a)+f(b)\n",
    "    for i = 1:n-1\n",
    "        x = a + i*(b-a)/n\n",
    "        soma = soma + 2*f(x)\n",
    "    end\n",
    "    \n",
    "    return soma * (b-a) / (2*n)\n",
    "end"
   ]
  },
  {
   "cell_type": "code",
   "execution_count": 64,
   "metadata": {},
   "outputs": [
    {
     "data": {
      "text/plain": [
       "70.8375"
      ]
     },
     "execution_count": 64,
     "metadata": {},
     "output_type": "execute_result"
    }
   ],
   "source": [
    "f(x) = 2x^2-x\n",
    "regra_do_trapezio(f,0,5,100)"
   ]
  },
  {
   "cell_type": "code",
   "execution_count": 65,
   "metadata": {},
   "outputs": [
    {
     "data": {
      "text/plain": [
       "4.047082902554812"
      ]
     },
     "execution_count": 65,
     "metadata": {},
     "output_type": "execute_result"
    }
   ],
   "source": [
    "f(x) = log(x)\n",
    "regra_do_trapezio(f,1,5,100)"
   ]
  },
  {
   "cell_type": "code",
   "execution_count": 66,
   "metadata": {},
   "outputs": [
    {
     "data": {
      "text/plain": [
       "1.7763568394002506e-16"
      ]
     },
     "execution_count": 66,
     "metadata": {},
     "output_type": "execute_result"
    }
   ],
   "source": [
    "f(x) = sin(x)\n",
    "regra_do_trapezio(f,-10,10,100)"
   ]
  },
  {
   "cell_type": "markdown",
   "metadata": {},
   "source": [
    "### Integração pela Regra do Simpson"
   ]
  },
  {
   "cell_type": "code",
   "execution_count": 67,
   "metadata": {},
   "outputs": [
    {
     "data": {
      "text/plain": [
       "regra_de_simpson (generic function with 1 method)"
      ]
     },
     "execution_count": 67,
     "metadata": {},
     "output_type": "execute_result"
    }
   ],
   "source": [
    "\"\"\" O objetivo dessa função é aproximar a integração da função no intervalo [a,b] dividindo-o\n",
    "em n (sendo n necessariamente par) subintervalos e utilizando a regra de simpson em cada um deles.\n",
    "A regra de simpson em cada um desses subintervalos consiste em aproximar o valor da integral nesse\n",
    "subintervalo pegando 3 pontos (as duas extremidades do subintervalo e um médio), e logo em seguida\n",
    "aproximando a curva que os descreve usando um polinômio interpolador de grau dois.\n",
    "\n",
    "A função retorna uma aproximação para a interval definida dada pelo input\n",
    "\n",
    "ERRO: Essa aproximação tem erro inferior a f^4(x) * 1/180 * (b - a)[(b - a)/n]^4, sendo\n",
    "f^4(x) o valor máximo da quarta derivada de f(x) no intervalo [a, b]\n",
    "\n",
    "@param: - f, função f(x) que queremos integrar\n",
    "        - a, primeiro ponto do intervalo\n",
    "        - b, último ponto do intervalo\n",
    "        - n denota a metade da quantidade de subintervalos que pretendemos dividir nosso intervalo\n",
    "\n",
    "@return: - aproximação para integral de f no intervalo [a,b] dividido em 2n partes\n",
    "\"\"\"\n",
    "\n",
    "# regra de simpson composta\n",
    "function regra_de_simpson(f, a, b, n)\n",
    "    @assert(n % 2 == 0, \"você precisa escolher um n par!\")\n",
    "    \n",
    "    # h denota o tamanho do subintervalo\n",
    "    h = (b - a) / n / 2.0\n",
    "\n",
    "    # adicionamos de antemão a contribuição dos\n",
    "    # pontos nas extremidades\n",
    "    S = f(a) + f(b)\n",
    "\n",
    "    # vamos somar agora a imagem dos pontos médios\n",
    "    for i in 1 : (n << 1)-1\n",
    "        if (i & 1 == 1)\n",
    "            # termo ímpar tem peso 4\n",
    "            S += f(a + h * i) * 4\n",
    "        else \n",
    "            # termo par tem peso 2\n",
    "            S += f(a + h * i) * 2\n",
    "        end\n",
    "    end\n",
    "\n",
    "    return S / 3.0 * h\n",
    "end"
   ]
  },
  {
   "cell_type": "code",
   "execution_count": 68,
   "metadata": {},
   "outputs": [
    {
     "name": "stdout",
     "output_type": "stream",
     "text": [
      "-150.87986847952268\n"
     ]
    }
   ],
   "source": [
    "function f(x)\n",
    "    return x*x - 16*x - exp(x)\n",
    "end\n",
    "\n",
    "println(regra_de_simpson(f, 1.0, 4.0, 48))"
   ]
  },
  {
   "cell_type": "code",
   "execution_count": 69,
   "metadata": {},
   "outputs": [
    {
     "name": "stdout",
     "output_type": "stream",
     "text": [
      "0.8820813907624211\n"
     ]
    }
   ],
   "source": [
    "function f(x) \n",
    "    return exp(-x^2)\n",
    "end\n",
    "\n",
    "# nesse caso temos uma integral sem uma primitiva analítica\n",
    "println(regra_de_simpson(f, 0.0, 2.0, 2112));"
   ]
  },
  {
   "cell_type": "code",
   "execution_count": 70,
   "metadata": {},
   "outputs": [
    {
     "name": "stdout",
     "output_type": "stream",
     "text": [
      "1.0000000000000049\n"
     ]
    }
   ],
   "source": [
    "function f(x) \n",
    "    return cos(x)\n",
    "end\n",
    "\n",
    "println(regra_de_simpson(f, 0.0, acos(-1.0)/2.0, 5322))"
   ]
  },
  {
   "cell_type": "markdown",
   "metadata": {},
   "source": [
    "### Obter o Máximo de uma Função"
   ]
  },
  {
   "cell_type": "code",
   "execution_count": 71,
   "metadata": {},
   "outputs": [
    {
     "data": {
      "text/plain": [
       "maximar_uma_funcao (generic function with 1 method)"
      ]
     },
     "execution_count": 71,
     "metadata": {},
     "output_type": "execute_result"
    }
   ],
   "source": [
    "# Perguntar pra ele\n",
    "function maximar_uma_funcao(função,derivada) #muito difícil!!!!!!!\n",
    "    return max_global\n",
    "end"
   ]
  },
  {
   "cell_type": "markdown",
   "metadata": {},
   "source": [
    "### Encontrar um ponto crítico de uma função"
   ]
  },
  {
   "cell_type": "code",
   "execution_count": 104,
   "metadata": {},
   "outputs": [
    {
     "data": {
      "text/plain": [
       "achar_um_ponto_critico_de_uma_funcao (generic function with 3 methods)"
      ]
     },
     "execution_count": 104,
     "metadata": {},
     "output_type": "execute_result"
    }
   ],
   "source": [
    "\"\"\" A ideia aqui é acharmos o ponto em que f'(x) = 0. Podemos usar bisseção, newton ou ponto fixo para isso. \"\"\"\n",
    "\n",
    "# Luan\n",
    "function achar_um_ponto_critico_de_uma_funcao(derivada, esq, dir, erro = 1e-2, qtd_iterações = 10)\n",
    "    \n",
    "    # Começamos uma lista de intervalos para o método da bisseção e selecionaremos os propícios\n",
    "    lista_de_intervalos = Any[[esq, dir]]\n",
    "    intervalos_propicios = Any[]\n",
    "    \n",
    "    # Escolhemos uma quantidade de iterações para diminuir o intervalo\n",
    "    for j in 1:qtd_iterações\n",
    "        \n",
    "        # Se a lista de intervalos estiver vazia, não temos mais o que procurar\n",
    "        if size(lista_de_intervalos, 1) == 0\n",
    "            break\n",
    "        end\n",
    "        \n",
    "        # Pega o primeiro intervalo da lista\n",
    "        intervalo = lista_de_intervalos[1]\n",
    "        \n",
    "        # Pega os pontos desse intervalo\n",
    "        a = intervalo[1]\n",
    "        b = intervalo[2]\n",
    "        \n",
    "        # Calcula o ponto médio do intervalo\n",
    "        metade_do_intervalo = (a+b)/2.0\n",
    "        \n",
    "        # Retira o intervalo da lista\n",
    "        deleteat!(lista_de_intervalos, 1)\n",
    "\n",
    "        # Sendo x a metade do intervalo, se um dos intervalos criados [a, x] ou [x, b] satisfizer as condições\n",
    "        # Adicionamos ele a uma outra lista contendo os intervalos bons\n",
    "        # Caso contrário adicionamos eles a nossa lista de intervalos\n",
    "        if derivada(a)*derivada(metade_do_intervalo) <= 0\n",
    "            push!(intervalos_propicios, [a, metade_do_intervalo])\n",
    "        else\n",
    "            push!(lista_de_intervalos, [a, metade_do_intervalo])\n",
    "        end\n",
    "        \n",
    "        if derivada(metade_do_intervalo)*derivada(b) <= 0\n",
    "            push!(intervalos_propicios, [metade_do_intervalo, b])\n",
    "        else\n",
    "            push!(lista_de_intervalos, [metade_do_intervalo, b])\n",
    "        end\n",
    "        \n",
    "    end\n",
    "    \n",
    "    println(intervalos_propicios)\n",
    "    \n",
    "    # Pega o primeiro ponto crítico da lista\n",
    "    ponto_crítico = bissecao(derivada, intervalos_propicios[1][1], intervalos_propicios[1][2], erro)\n",
    "        \n",
    "    return ponto_crítico\n",
    "end"
   ]
  },
  {
   "cell_type": "code",
   "execution_count": 105,
   "metadata": {},
   "outputs": [
    {
     "name": "stdout",
     "output_type": "stream",
     "text": [
      "Any[[0.0, 2.5], [2.5, 5.0]]\n"
     ]
    },
    {
     "data": {
      "image/svg+xml": [
       "<?xml version=\"1.0\" encoding=\"utf-8\"?>\n",
       "<svg xmlns=\"http://www.w3.org/2000/svg\" xmlns:xlink=\"http://www.w3.org/1999/xlink\" width=\"600\" height=\"400\" viewBox=\"0 0 2400 1600\">\n",
       "<defs>\n",
       "  <clipPath id=\"clip330\">\n",
       "    <rect x=\"0\" y=\"0\" width=\"2400\" height=\"1600\"/>\n",
       "  </clipPath>\n",
       "</defs>\n",
       "<path clip-path=\"url(#clip330)\" d=\"\n",
       "M0 1600 L2400 1600 L2400 0 L0 0  Z\n",
       "  \" fill=\"#ffffff\" fill-rule=\"evenodd\" fill-opacity=\"1\"/>\n",
       "<defs>\n",
       "  <clipPath id=\"clip331\">\n",
       "    <rect x=\"480\" y=\"0\" width=\"1681\" height=\"1600\"/>\n",
       "  </clipPath>\n",
       "</defs>\n",
       "<path clip-path=\"url(#clip330)\" d=\"\n",
       "M112.177 1486.45 L2352.76 1486.45 L2352.76 47.2441 L112.177 47.2441  Z\n",
       "  \" fill=\"#ffffff\" fill-rule=\"evenodd\" fill-opacity=\"1\"/>\n",
       "<defs>\n",
       "  <clipPath id=\"clip332\">\n",
       "    <rect x=\"112\" y=\"47\" width=\"2242\" height=\"1440\"/>\n",
       "  </clipPath>\n",
       "</defs>\n",
       "<polyline clip-path=\"url(#clip332)\" style=\"stroke:#000000; stroke-width:2; stroke-opacity:0.1; fill:none\" points=\"\n",
       "  175.59,1486.45 175.59,47.2441 \n",
       "  \"/>\n",
       "<polyline clip-path=\"url(#clip332)\" style=\"stroke:#000000; stroke-width:2; stroke-opacity:0.1; fill:none\" points=\"\n",
       "  598.34,1486.45 598.34,47.2441 \n",
       "  \"/>\n",
       "<polyline clip-path=\"url(#clip332)\" style=\"stroke:#000000; stroke-width:2; stroke-opacity:0.1; fill:none\" points=\"\n",
       "  1021.09,1486.45 1021.09,47.2441 \n",
       "  \"/>\n",
       "<polyline clip-path=\"url(#clip332)\" style=\"stroke:#000000; stroke-width:2; stroke-opacity:0.1; fill:none\" points=\"\n",
       "  1443.84,1486.45 1443.84,47.2441 \n",
       "  \"/>\n",
       "<polyline clip-path=\"url(#clip332)\" style=\"stroke:#000000; stroke-width:2; stroke-opacity:0.1; fill:none\" points=\"\n",
       "  1866.59,1486.45 1866.59,47.2441 \n",
       "  \"/>\n",
       "<polyline clip-path=\"url(#clip332)\" style=\"stroke:#000000; stroke-width:2; stroke-opacity:0.1; fill:none\" points=\"\n",
       "  2289.34,1486.45 2289.34,47.2441 \n",
       "  \"/>\n",
       "<polyline clip-path=\"url(#clip330)\" style=\"stroke:#000000; stroke-width:4; stroke-opacity:1; fill:none\" points=\"\n",
       "  112.177,1486.45 2352.76,1486.45 \n",
       "  \"/>\n",
       "<polyline clip-path=\"url(#clip330)\" style=\"stroke:#000000; stroke-width:4; stroke-opacity:1; fill:none\" points=\"\n",
       "  175.59,1486.45 175.59,1469.18 \n",
       "  \"/>\n",
       "<polyline clip-path=\"url(#clip330)\" style=\"stroke:#000000; stroke-width:4; stroke-opacity:1; fill:none\" points=\"\n",
       "  598.34,1486.45 598.34,1469.18 \n",
       "  \"/>\n",
       "<polyline clip-path=\"url(#clip330)\" style=\"stroke:#000000; stroke-width:4; stroke-opacity:1; fill:none\" points=\"\n",
       "  1021.09,1486.45 1021.09,1469.18 \n",
       "  \"/>\n",
       "<polyline clip-path=\"url(#clip330)\" style=\"stroke:#000000; stroke-width:4; stroke-opacity:1; fill:none\" points=\"\n",
       "  1443.84,1486.45 1443.84,1469.18 \n",
       "  \"/>\n",
       "<polyline clip-path=\"url(#clip330)\" style=\"stroke:#000000; stroke-width:4; stroke-opacity:1; fill:none\" points=\"\n",
       "  1866.59,1486.45 1866.59,1469.18 \n",
       "  \"/>\n",
       "<polyline clip-path=\"url(#clip330)\" style=\"stroke:#000000; stroke-width:4; stroke-opacity:1; fill:none\" points=\"\n",
       "  2289.34,1486.45 2289.34,1469.18 \n",
       "  \"/>\n",
       "<path clip-path=\"url(#clip330)\" d=\"M 0 0 M175.59 1515.64 Q171.979 1515.64 170.15 1519.2 Q168.344 1522.75 168.344 1529.87 Q168.344 1536.98 170.15 1540.55 Q171.979 1544.09 175.59 1544.09 Q179.224 1544.09 181.03 1540.55 Q182.858 1536.98 182.858 1529.87 Q182.858 1522.75 181.03 1519.2 Q179.224 1515.64 175.59 1515.64 M175.59 1511.93 Q181.4 1511.93 184.455 1516.54 Q187.534 1521.12 187.534 1529.87 Q187.534 1538.6 184.455 1543.21 Q181.4 1547.79 175.59 1547.79 Q169.78 1547.79 166.701 1543.21 Q163.645 1538.6 163.645 1529.87 Q163.645 1521.12 166.701 1516.54 Q169.78 1511.93 175.59 1511.93 Z\" fill=\"#000000\" fill-rule=\"evenodd\" fill-opacity=\"1\" /><path clip-path=\"url(#clip330)\" d=\"M 0 0 M588.722 1543.18 L596.361 1543.18 L596.361 1516.82 L588.051 1518.49 L588.051 1514.23 L596.315 1512.56 L600.991 1512.56 L600.991 1543.18 L608.63 1543.18 L608.63 1547.12 L588.722 1547.12 L588.722 1543.18 Z\" fill=\"#000000\" fill-rule=\"evenodd\" fill-opacity=\"1\" /><path clip-path=\"url(#clip330)\" d=\"M 0 0 M1015.74 1543.18 L1032.06 1543.18 L1032.06 1547.12 L1010.12 1547.12 L1010.12 1543.18 Q1012.78 1540.43 1017.36 1535.8 Q1021.97 1531.15 1023.15 1529.81 Q1025.4 1527.28 1026.28 1525.55 Q1027.18 1523.79 1027.18 1522.1 Q1027.18 1519.34 1025.23 1517.61 Q1023.31 1515.87 1020.21 1515.87 Q1018.01 1515.87 1015.56 1516.63 Q1013.13 1517.4 1010.35 1518.95 L1010.35 1514.23 Q1013.17 1513.09 1015.63 1512.51 Q1018.08 1511.93 1020.12 1511.93 Q1025.49 1511.93 1028.68 1514.62 Q1031.88 1517.31 1031.88 1521.8 Q1031.88 1523.93 1031.07 1525.85 Q1030.28 1527.74 1028.17 1530.34 Q1027.6 1531.01 1024.49 1534.23 Q1021.39 1537.42 1015.74 1543.18 Z\" fill=\"#000000\" fill-rule=\"evenodd\" fill-opacity=\"1\" /><path clip-path=\"url(#clip330)\" d=\"M 0 0 M1448.09 1528.49 Q1451.45 1529.2 1453.32 1531.47 Q1455.22 1533.74 1455.22 1537.07 Q1455.22 1542.19 1451.7 1544.99 Q1448.18 1547.79 1441.7 1547.79 Q1439.52 1547.79 1437.21 1547.35 Q1434.92 1546.93 1432.46 1546.08 L1432.46 1541.56 Q1434.41 1542.7 1436.72 1543.28 Q1439.04 1543.86 1441.56 1543.86 Q1445.96 1543.86 1448.25 1542.12 Q1450.57 1540.38 1450.57 1537.07 Q1450.57 1534.02 1448.41 1532.31 Q1446.28 1530.57 1442.46 1530.57 L1438.44 1530.57 L1438.44 1526.73 L1442.65 1526.73 Q1446.1 1526.73 1447.93 1525.36 Q1449.76 1523.97 1449.76 1521.38 Q1449.76 1518.72 1447.86 1517.31 Q1445.98 1515.87 1442.46 1515.87 Q1440.54 1515.87 1438.34 1516.29 Q1436.15 1516.7 1433.51 1517.58 L1433.51 1513.42 Q1436.17 1512.68 1438.48 1512.31 Q1440.82 1511.93 1442.88 1511.93 Q1448.21 1511.93 1451.31 1514.37 Q1454.41 1516.77 1454.41 1520.89 Q1454.41 1523.76 1452.77 1525.75 Q1451.12 1527.72 1448.09 1528.49 Z\" fill=\"#000000\" fill-rule=\"evenodd\" fill-opacity=\"1\" /><path clip-path=\"url(#clip330)\" d=\"M 0 0 M1869.6 1516.63 L1857.8 1535.08 L1869.6 1535.08 L1869.6 1516.63 M1868.37 1512.56 L1874.25 1512.56 L1874.25 1535.08 L1879.19 1535.08 L1879.19 1538.97 L1874.25 1538.97 L1874.25 1547.12 L1869.6 1547.12 L1869.6 1538.97 L1854 1538.97 L1854 1534.46 L1868.37 1512.56 Z\" fill=\"#000000\" fill-rule=\"evenodd\" fill-opacity=\"1\" /><path clip-path=\"url(#clip330)\" d=\"M 0 0 M2279.62 1512.56 L2297.98 1512.56 L2297.98 1516.5 L2283.9 1516.5 L2283.9 1524.97 Q2284.92 1524.62 2285.94 1524.46 Q2286.96 1524.27 2287.98 1524.27 Q2293.76 1524.27 2297.14 1527.44 Q2300.52 1530.62 2300.52 1536.03 Q2300.52 1541.61 2297.05 1544.71 Q2293.58 1547.79 2287.26 1547.79 Q2285.08 1547.79 2282.82 1547.42 Q2280.57 1547.05 2278.16 1546.31 L2278.16 1541.61 Q2280.25 1542.74 2282.47 1543.3 Q2284.69 1543.86 2287.17 1543.86 Q2291.17 1543.86 2293.51 1541.75 Q2295.85 1539.64 2295.85 1536.03 Q2295.85 1532.42 2293.51 1530.31 Q2291.17 1528.21 2287.17 1528.21 Q2285.29 1528.21 2283.42 1528.62 Q2281.57 1529.04 2279.62 1529.92 L2279.62 1512.56 Z\" fill=\"#000000\" fill-rule=\"evenodd\" fill-opacity=\"1\" /><polyline clip-path=\"url(#clip332)\" style=\"stroke:#000000; stroke-width:2; stroke-opacity:0.1; fill:none\" points=\"\n",
       "  112.177,1391.43 2352.76,1391.43 \n",
       "  \"/>\n",
       "<polyline clip-path=\"url(#clip332)\" style=\"stroke:#000000; stroke-width:2; stroke-opacity:0.1; fill:none\" points=\"\n",
       "  112.177,1174.18 2352.76,1174.18 \n",
       "  \"/>\n",
       "<polyline clip-path=\"url(#clip332)\" style=\"stroke:#000000; stroke-width:2; stroke-opacity:0.1; fill:none\" points=\"\n",
       "  112.177,956.943 2352.76,956.943 \n",
       "  \"/>\n",
       "<polyline clip-path=\"url(#clip332)\" style=\"stroke:#000000; stroke-width:2; stroke-opacity:0.1; fill:none\" points=\"\n",
       "  112.177,739.701 2352.76,739.701 \n",
       "  \"/>\n",
       "<polyline clip-path=\"url(#clip332)\" style=\"stroke:#000000; stroke-width:2; stroke-opacity:0.1; fill:none\" points=\"\n",
       "  112.177,522.46 2352.76,522.46 \n",
       "  \"/>\n",
       "<polyline clip-path=\"url(#clip332)\" style=\"stroke:#000000; stroke-width:2; stroke-opacity:0.1; fill:none\" points=\"\n",
       "  112.177,305.218 2352.76,305.218 \n",
       "  \"/>\n",
       "<polyline clip-path=\"url(#clip332)\" style=\"stroke:#000000; stroke-width:2; stroke-opacity:0.1; fill:none\" points=\"\n",
       "  112.177,87.9763 2352.76,87.9763 \n",
       "  \"/>\n",
       "<polyline clip-path=\"url(#clip330)\" style=\"stroke:#000000; stroke-width:4; stroke-opacity:1; fill:none\" points=\"\n",
       "  112.177,1486.45 112.177,47.2441 \n",
       "  \"/>\n",
       "<polyline clip-path=\"url(#clip330)\" style=\"stroke:#000000; stroke-width:4; stroke-opacity:1; fill:none\" points=\"\n",
       "  112.177,1391.43 139.064,1391.43 \n",
       "  \"/>\n",
       "<polyline clip-path=\"url(#clip330)\" style=\"stroke:#000000; stroke-width:4; stroke-opacity:1; fill:none\" points=\"\n",
       "  112.177,1174.18 139.064,1174.18 \n",
       "  \"/>\n",
       "<polyline clip-path=\"url(#clip330)\" style=\"stroke:#000000; stroke-width:4; stroke-opacity:1; fill:none\" points=\"\n",
       "  112.177,956.943 139.064,956.943 \n",
       "  \"/>\n",
       "<polyline clip-path=\"url(#clip330)\" style=\"stroke:#000000; stroke-width:4; stroke-opacity:1; fill:none\" points=\"\n",
       "  112.177,739.701 139.064,739.701 \n",
       "  \"/>\n",
       "<polyline clip-path=\"url(#clip330)\" style=\"stroke:#000000; stroke-width:4; stroke-opacity:1; fill:none\" points=\"\n",
       "  112.177,522.46 139.064,522.46 \n",
       "  \"/>\n",
       "<polyline clip-path=\"url(#clip330)\" style=\"stroke:#000000; stroke-width:4; stroke-opacity:1; fill:none\" points=\"\n",
       "  112.177,305.218 139.064,305.218 \n",
       "  \"/>\n",
       "<polyline clip-path=\"url(#clip330)\" style=\"stroke:#000000; stroke-width:4; stroke-opacity:1; fill:none\" points=\"\n",
       "  112.177,87.9763 139.064,87.9763 \n",
       "  \"/>\n",
       "<path clip-path=\"url(#clip330)\" d=\"M 0 0 M64.2328 1377.22 Q60.6217 1377.22 58.793 1380.79 Q56.9875 1384.33 56.9875 1391.46 Q56.9875 1398.57 58.793 1402.13 Q60.6217 1405.67 64.2328 1405.67 Q67.867 1405.67 69.6726 1402.13 Q71.5013 1398.57 71.5013 1391.46 Q71.5013 1384.33 69.6726 1380.79 Q67.867 1377.22 64.2328 1377.22 M64.2328 1373.52 Q70.0429 1373.52 73.0985 1378.13 Q76.1772 1382.71 76.1772 1391.46 Q76.1772 1400.19 73.0985 1404.79 Q70.0429 1409.38 64.2328 1409.38 Q58.4226 1409.38 55.344 1404.79 Q52.2884 1400.19 52.2884 1391.46 Q52.2884 1382.71 55.344 1378.13 Q58.4226 1373.52 64.2328 1373.52 Z\" fill=\"#000000\" fill-rule=\"evenodd\" fill-opacity=\"1\" /><path clip-path=\"url(#clip330)\" d=\"M 0 0 M56.2699 1187.53 L63.9087 1187.53 L63.9087 1161.16 L55.5986 1162.83 L55.5986 1158.57 L63.8624 1156.9 L68.5383 1156.9 L68.5383 1187.53 L76.1772 1187.53 L76.1772 1191.46 L56.2699 1191.46 L56.2699 1187.53 Z\" fill=\"#000000\" fill-rule=\"evenodd\" fill-opacity=\"1\" /><path clip-path=\"url(#clip330)\" d=\"M 0 0 M59.8578 970.288 L76.1772 970.288 L76.1772 974.223 L54.2328 974.223 L54.2328 970.288 Q56.8949 967.533 61.4782 962.903 Q66.0846 958.251 67.2652 956.908 Q69.5105 954.385 70.3902 952.649 Q71.2929 950.89 71.2929 949.2 Q71.2929 946.445 69.3485 944.709 Q67.4272 942.973 64.3254 942.973 Q62.1263 942.973 59.6726 943.737 Q57.2421 944.501 54.4643 946.052 L54.4643 941.329 Q57.2884 940.195 59.7421 939.616 Q62.1958 939.038 64.2328 939.038 Q69.6031 939.038 72.7976 941.723 Q75.992 944.408 75.992 948.899 Q75.992 951.028 75.1818 952.95 Q74.3948 954.848 72.2883 957.44 Q71.7096 958.112 68.6078 961.329 Q65.5059 964.524 59.8578 970.288 Z\" fill=\"#000000\" fill-rule=\"evenodd\" fill-opacity=\"1\" /><path clip-path=\"url(#clip330)\" d=\"M 0 0 M69.0476 738.347 Q72.404 739.065 74.279 741.333 Q76.1772 743.602 76.1772 746.935 Q76.1772 752.051 72.6587 754.852 Q69.1402 757.652 62.6587 757.652 Q60.4828 757.652 58.168 757.213 Q55.8764 756.796 53.4227 755.939 L53.4227 751.426 Q55.3671 752.56 57.6819 753.139 Q59.9967 753.717 62.5198 753.717 Q66.918 753.717 69.2096 751.981 Q71.5244 750.245 71.5244 746.935 Q71.5244 743.879 69.3717 742.166 Q67.242 740.43 63.4226 740.43 L59.3949 740.43 L59.3949 736.588 L63.6078 736.588 Q67.0569 736.588 68.8855 735.222 Q70.7142 733.833 70.7142 731.241 Q70.7142 728.579 68.8161 727.166 Q66.9411 725.731 63.4226 725.731 Q61.5013 725.731 59.3023 726.148 Q57.1032 726.565 54.4643 727.444 L54.4643 723.278 Q57.1264 722.537 59.4412 722.167 Q61.7791 721.796 63.8393 721.796 Q69.1633 721.796 72.2652 724.227 Q75.367 726.634 75.367 730.754 Q75.367 733.625 73.7235 735.616 Q72.08 737.583 69.0476 738.347 Z\" fill=\"#000000\" fill-rule=\"evenodd\" fill-opacity=\"1\" /><path clip-path=\"url(#clip330)\" d=\"M 0 0 M66.5939 509.254 L54.7884 527.703 L66.5939 527.703 L66.5939 509.254 M65.367 505.18 L71.2466 505.18 L71.2466 527.703 L76.1772 527.703 L76.1772 531.591 L71.2466 531.591 L71.2466 539.74 L66.5939 539.74 L66.5939 531.591 L50.9921 531.591 L50.9921 527.078 L65.367 505.18 Z\" fill=\"#000000\" fill-rule=\"evenodd\" fill-opacity=\"1\" /><path clip-path=\"url(#clip330)\" d=\"M 0 0 M55.2745 287.938 L73.6309 287.938 L73.6309 291.873 L59.5569 291.873 L59.5569 300.345 Q60.5754 299.998 61.5939 299.836 Q62.6124 299.651 63.6309 299.651 Q69.418 299.651 72.7976 302.822 Q76.1772 305.993 76.1772 311.41 Q76.1772 316.989 72.705 320.091 Q69.2328 323.169 62.9134 323.169 Q60.7374 323.169 58.4689 322.799 Q56.2236 322.428 53.8162 321.688 L53.8162 316.989 Q55.8995 318.123 58.1217 318.678 Q60.3439 319.234 62.8208 319.234 Q66.8254 319.234 69.1633 317.128 Q71.5013 315.021 71.5013 311.41 Q71.5013 307.799 69.1633 305.692 Q66.8254 303.586 62.8208 303.586 Q60.9458 303.586 59.0708 304.003 Q57.2189 304.419 55.2745 305.299 L55.2745 287.938 Z\" fill=\"#000000\" fill-rule=\"evenodd\" fill-opacity=\"1\" /><path clip-path=\"url(#clip330)\" d=\"M 0 0 M64.6495 86.1129 Q61.5013 86.1129 59.6495 88.2656 Q57.8208 90.4184 57.8208 94.1684 Q57.8208 97.8952 59.6495 100.071 Q61.5013 102.224 64.6495 102.224 Q67.7976 102.224 69.6263 100.071 Q71.4781 97.8952 71.4781 94.1684 Q71.4781 90.4184 69.6263 88.2656 Q67.7976 86.1129 64.6495 86.1129 M73.9318 71.4602 L73.9318 75.7194 Q72.1726 74.8861 70.367 74.4463 Q68.5846 74.0064 66.8254 74.0064 Q62.1958 74.0064 59.7421 77.1314 Q57.3115 80.2564 56.9643 86.5758 Q58.33 84.5619 60.3902 83.4971 Q62.4504 82.4092 64.9272 82.4092 Q70.1355 82.4092 73.1448 85.5805 Q76.1772 88.7286 76.1772 94.1684 Q76.1772 99.4924 73.029 102.71 Q69.8809 105.928 64.6495 105.928 Q58.6541 105.928 55.4828 101.344 Q52.3116 96.7378 52.3116 88.011 Q52.3116 79.8166 56.2004 74.9555 Q60.0893 70.0713 66.6402 70.0713 Q68.3994 70.0713 70.1818 70.4185 Q71.9874 70.7657 73.9318 71.4602 Z\" fill=\"#000000\" fill-rule=\"evenodd\" fill-opacity=\"1\" /><polyline clip-path=\"url(#clip332)\" style=\"stroke:#009af9; stroke-width:4; stroke-opacity:1; fill:none\" points=\"\n",
       "  175.59,87.9763 185.911,114.366 196.232,140.497 291.667,369.845 387.102,577.052 444.455,690.923 501.807,796.797 550.298,880.074 598.789,957.634 651.463,1035.41 \n",
       "  704.138,1106.44 752.699,1165.94 801.261,1219.72 853.323,1271 905.386,1315.69 965.706,1359.24 1026.03,1393.93 1079.63,1417.34 1133.24,1433.77 1180.24,1442.42 \n",
       "  1227.25,1445.7 1278.5,1443.16 1329.75,1434.23 1381.31,1418.81 1432.86,1396.92 1489.86,1365.2 1546.86,1325.59 1601.1,1280.56 1655.33,1228.38 1711.72,1166.54 \n",
       "  1768.11,1096.97 1815.58,1032.42 1863.05,962.387 1921.01,869.458 1978.96,768.364 2033.44,665.887 2087.92,556.194 2175.2,365.418 2262.48,156.123 2275.91,122.269 \n",
       "  2289.34,87.9763 \n",
       "  \"/>\n",
       "<circle clip-path=\"url(#clip332)\" cx=\"1228.34\" cy=\"1445.72\" r=\"14\" fill=\"#e26f46\" fill-rule=\"evenodd\" fill-opacity=\"1\" stroke=\"#000000\" stroke-opacity=\"1\" stroke-width=\"3.2\"/>\n",
       "</svg>\n"
      ]
     },
     "execution_count": 105,
     "metadata": {},
     "output_type": "execute_result"
    }
   ],
   "source": [
    "#Teste 1\n",
    "\n",
    "f(x) = x^2 - 5x + 6\n",
    "fd(x) = 2x - 5\n",
    "p = achar_um_ponto_critico_de_uma_funcao(fd, 0, 5)\n",
    "\n",
    "plot(f, 0, 5)\n",
    "scatter!(p:p, [f(p)], leg=false)"
   ]
  },
  {
   "cell_type": "code",
   "execution_count": 107,
   "metadata": {},
   "outputs": [
    {
     "name": "stdout",
     "output_type": "stream",
     "text": [
      "Any[[0.0, 2.5], [2.5, 5.0]]\n"
     ]
    },
    {
     "data": {
      "image/svg+xml": [
       "<?xml version=\"1.0\" encoding=\"utf-8\"?>\n",
       "<svg xmlns=\"http://www.w3.org/2000/svg\" xmlns:xlink=\"http://www.w3.org/1999/xlink\" width=\"600\" height=\"400\" viewBox=\"0 0 2400 1600\">\n",
       "<defs>\n",
       "  <clipPath id=\"clip410\">\n",
       "    <rect x=\"0\" y=\"0\" width=\"2400\" height=\"1600\"/>\n",
       "  </clipPath>\n",
       "</defs>\n",
       "<path clip-path=\"url(#clip410)\" d=\"\n",
       "M0 1600 L2400 1600 L2400 0 L0 0  Z\n",
       "  \" fill=\"#ffffff\" fill-rule=\"evenodd\" fill-opacity=\"1\"/>\n",
       "<defs>\n",
       "  <clipPath id=\"clip411\">\n",
       "    <rect x=\"480\" y=\"0\" width=\"1681\" height=\"1600\"/>\n",
       "  </clipPath>\n",
       "</defs>\n",
       "<path clip-path=\"url(#clip410)\" d=\"\n",
       "M112.177 1486.45 L2352.76 1486.45 L2352.76 47.2441 L112.177 47.2441  Z\n",
       "  \" fill=\"#ffffff\" fill-rule=\"evenodd\" fill-opacity=\"1\"/>\n",
       "<defs>\n",
       "  <clipPath id=\"clip412\">\n",
       "    <rect x=\"112\" y=\"47\" width=\"2242\" height=\"1440\"/>\n",
       "  </clipPath>\n",
       "</defs>\n",
       "<polyline clip-path=\"url(#clip412)\" style=\"stroke:#000000; stroke-width:2; stroke-opacity:0.1; fill:none\" points=\"\n",
       "  175.59,1486.45 175.59,47.2441 \n",
       "  \"/>\n",
       "<polyline clip-path=\"url(#clip412)\" style=\"stroke:#000000; stroke-width:2; stroke-opacity:0.1; fill:none\" points=\"\n",
       "  598.34,1486.45 598.34,47.2441 \n",
       "  \"/>\n",
       "<polyline clip-path=\"url(#clip412)\" style=\"stroke:#000000; stroke-width:2; stroke-opacity:0.1; fill:none\" points=\"\n",
       "  1021.09,1486.45 1021.09,47.2441 \n",
       "  \"/>\n",
       "<polyline clip-path=\"url(#clip412)\" style=\"stroke:#000000; stroke-width:2; stroke-opacity:0.1; fill:none\" points=\"\n",
       "  1443.84,1486.45 1443.84,47.2441 \n",
       "  \"/>\n",
       "<polyline clip-path=\"url(#clip412)\" style=\"stroke:#000000; stroke-width:2; stroke-opacity:0.1; fill:none\" points=\"\n",
       "  1866.59,1486.45 1866.59,47.2441 \n",
       "  \"/>\n",
       "<polyline clip-path=\"url(#clip412)\" style=\"stroke:#000000; stroke-width:2; stroke-opacity:0.1; fill:none\" points=\"\n",
       "  2289.34,1486.45 2289.34,47.2441 \n",
       "  \"/>\n",
       "<polyline clip-path=\"url(#clip410)\" style=\"stroke:#000000; stroke-width:4; stroke-opacity:1; fill:none\" points=\"\n",
       "  112.177,1486.45 2352.76,1486.45 \n",
       "  \"/>\n",
       "<polyline clip-path=\"url(#clip410)\" style=\"stroke:#000000; stroke-width:4; stroke-opacity:1; fill:none\" points=\"\n",
       "  175.59,1486.45 175.59,1469.18 \n",
       "  \"/>\n",
       "<polyline clip-path=\"url(#clip410)\" style=\"stroke:#000000; stroke-width:4; stroke-opacity:1; fill:none\" points=\"\n",
       "  598.34,1486.45 598.34,1469.18 \n",
       "  \"/>\n",
       "<polyline clip-path=\"url(#clip410)\" style=\"stroke:#000000; stroke-width:4; stroke-opacity:1; fill:none\" points=\"\n",
       "  1021.09,1486.45 1021.09,1469.18 \n",
       "  \"/>\n",
       "<polyline clip-path=\"url(#clip410)\" style=\"stroke:#000000; stroke-width:4; stroke-opacity:1; fill:none\" points=\"\n",
       "  1443.84,1486.45 1443.84,1469.18 \n",
       "  \"/>\n",
       "<polyline clip-path=\"url(#clip410)\" style=\"stroke:#000000; stroke-width:4; stroke-opacity:1; fill:none\" points=\"\n",
       "  1866.59,1486.45 1866.59,1469.18 \n",
       "  \"/>\n",
       "<polyline clip-path=\"url(#clip410)\" style=\"stroke:#000000; stroke-width:4; stroke-opacity:1; fill:none\" points=\"\n",
       "  2289.34,1486.45 2289.34,1469.18 \n",
       "  \"/>\n",
       "<path clip-path=\"url(#clip410)\" d=\"M 0 0 M175.59 1515.64 Q171.979 1515.64 170.15 1519.2 Q168.344 1522.75 168.344 1529.87 Q168.344 1536.98 170.15 1540.55 Q171.979 1544.09 175.59 1544.09 Q179.224 1544.09 181.03 1540.55 Q182.858 1536.98 182.858 1529.87 Q182.858 1522.75 181.03 1519.2 Q179.224 1515.64 175.59 1515.64 M175.59 1511.93 Q181.4 1511.93 184.455 1516.54 Q187.534 1521.12 187.534 1529.87 Q187.534 1538.6 184.455 1543.21 Q181.4 1547.79 175.59 1547.79 Q169.78 1547.79 166.701 1543.21 Q163.645 1538.6 163.645 1529.87 Q163.645 1521.12 166.701 1516.54 Q169.78 1511.93 175.59 1511.93 Z\" fill=\"#000000\" fill-rule=\"evenodd\" fill-opacity=\"1\" /><path clip-path=\"url(#clip410)\" d=\"M 0 0 M588.722 1543.18 L596.361 1543.18 L596.361 1516.82 L588.051 1518.49 L588.051 1514.23 L596.315 1512.56 L600.991 1512.56 L600.991 1543.18 L608.63 1543.18 L608.63 1547.12 L588.722 1547.12 L588.722 1543.18 Z\" fill=\"#000000\" fill-rule=\"evenodd\" fill-opacity=\"1\" /><path clip-path=\"url(#clip410)\" d=\"M 0 0 M1015.74 1543.18 L1032.06 1543.18 L1032.06 1547.12 L1010.12 1547.12 L1010.12 1543.18 Q1012.78 1540.43 1017.36 1535.8 Q1021.97 1531.15 1023.15 1529.81 Q1025.4 1527.28 1026.28 1525.55 Q1027.18 1523.79 1027.18 1522.1 Q1027.18 1519.34 1025.23 1517.61 Q1023.31 1515.87 1020.21 1515.87 Q1018.01 1515.87 1015.56 1516.63 Q1013.13 1517.4 1010.35 1518.95 L1010.35 1514.23 Q1013.17 1513.09 1015.63 1512.51 Q1018.08 1511.93 1020.12 1511.93 Q1025.49 1511.93 1028.68 1514.62 Q1031.88 1517.31 1031.88 1521.8 Q1031.88 1523.93 1031.07 1525.85 Q1030.28 1527.74 1028.17 1530.34 Q1027.6 1531.01 1024.49 1534.23 Q1021.39 1537.42 1015.74 1543.18 Z\" fill=\"#000000\" fill-rule=\"evenodd\" fill-opacity=\"1\" /><path clip-path=\"url(#clip410)\" d=\"M 0 0 M1448.09 1528.49 Q1451.45 1529.2 1453.32 1531.47 Q1455.22 1533.74 1455.22 1537.07 Q1455.22 1542.19 1451.7 1544.99 Q1448.18 1547.79 1441.7 1547.79 Q1439.52 1547.79 1437.21 1547.35 Q1434.92 1546.93 1432.46 1546.08 L1432.46 1541.56 Q1434.41 1542.7 1436.72 1543.28 Q1439.04 1543.86 1441.56 1543.86 Q1445.96 1543.86 1448.25 1542.12 Q1450.57 1540.38 1450.57 1537.07 Q1450.57 1534.02 1448.41 1532.31 Q1446.28 1530.57 1442.46 1530.57 L1438.44 1530.57 L1438.44 1526.73 L1442.65 1526.73 Q1446.1 1526.73 1447.93 1525.36 Q1449.76 1523.97 1449.76 1521.38 Q1449.76 1518.72 1447.86 1517.31 Q1445.98 1515.87 1442.46 1515.87 Q1440.54 1515.87 1438.34 1516.29 Q1436.15 1516.7 1433.51 1517.58 L1433.51 1513.42 Q1436.17 1512.68 1438.48 1512.31 Q1440.82 1511.93 1442.88 1511.93 Q1448.21 1511.93 1451.31 1514.37 Q1454.41 1516.77 1454.41 1520.89 Q1454.41 1523.76 1452.77 1525.75 Q1451.12 1527.72 1448.09 1528.49 Z\" fill=\"#000000\" fill-rule=\"evenodd\" fill-opacity=\"1\" /><path clip-path=\"url(#clip410)\" d=\"M 0 0 M1869.6 1516.63 L1857.8 1535.08 L1869.6 1535.08 L1869.6 1516.63 M1868.37 1512.56 L1874.25 1512.56 L1874.25 1535.08 L1879.19 1535.08 L1879.19 1538.97 L1874.25 1538.97 L1874.25 1547.12 L1869.6 1547.12 L1869.6 1538.97 L1854 1538.97 L1854 1534.46 L1868.37 1512.56 Z\" fill=\"#000000\" fill-rule=\"evenodd\" fill-opacity=\"1\" /><path clip-path=\"url(#clip410)\" d=\"M 0 0 M2279.62 1512.56 L2297.98 1512.56 L2297.98 1516.5 L2283.9 1516.5 L2283.9 1524.97 Q2284.92 1524.62 2285.94 1524.46 Q2286.96 1524.27 2287.98 1524.27 Q2293.76 1524.27 2297.14 1527.44 Q2300.52 1530.62 2300.52 1536.03 Q2300.52 1541.61 2297.05 1544.71 Q2293.58 1547.79 2287.26 1547.79 Q2285.08 1547.79 2282.82 1547.42 Q2280.57 1547.05 2278.16 1546.31 L2278.16 1541.61 Q2280.25 1542.74 2282.47 1543.3 Q2284.69 1543.86 2287.17 1543.86 Q2291.17 1543.86 2293.51 1541.75 Q2295.85 1539.64 2295.85 1536.03 Q2295.85 1532.42 2293.51 1530.31 Q2291.17 1528.21 2287.17 1528.21 Q2285.29 1528.21 2283.42 1528.62 Q2281.57 1529.04 2279.62 1529.92 L2279.62 1512.56 Z\" fill=\"#000000\" fill-rule=\"evenodd\" fill-opacity=\"1\" /><polyline clip-path=\"url(#clip412)\" style=\"stroke:#000000; stroke-width:2; stroke-opacity:0.1; fill:none\" points=\"\n",
       "  112.177,1445.72 2352.76,1445.72 \n",
       "  \"/>\n",
       "<polyline clip-path=\"url(#clip412)\" style=\"stroke:#000000; stroke-width:2; stroke-opacity:0.1; fill:none\" points=\"\n",
       "  112.177,1149.48 2352.76,1149.48 \n",
       "  \"/>\n",
       "<polyline clip-path=\"url(#clip412)\" style=\"stroke:#000000; stroke-width:2; stroke-opacity:0.1; fill:none\" points=\"\n",
       "  112.177,853.248 2352.76,853.248 \n",
       "  \"/>\n",
       "<polyline clip-path=\"url(#clip412)\" style=\"stroke:#000000; stroke-width:2; stroke-opacity:0.1; fill:none\" points=\"\n",
       "  112.177,557.014 2352.76,557.014 \n",
       "  \"/>\n",
       "<polyline clip-path=\"url(#clip412)\" style=\"stroke:#000000; stroke-width:2; stroke-opacity:0.1; fill:none\" points=\"\n",
       "  112.177,260.779 2352.76,260.779 \n",
       "  \"/>\n",
       "<polyline clip-path=\"url(#clip410)\" style=\"stroke:#000000; stroke-width:4; stroke-opacity:1; fill:none\" points=\"\n",
       "  112.177,1486.45 112.177,47.2441 \n",
       "  \"/>\n",
       "<polyline clip-path=\"url(#clip410)\" style=\"stroke:#000000; stroke-width:4; stroke-opacity:1; fill:none\" points=\"\n",
       "  112.177,1445.72 139.064,1445.72 \n",
       "  \"/>\n",
       "<polyline clip-path=\"url(#clip410)\" style=\"stroke:#000000; stroke-width:4; stroke-opacity:1; fill:none\" points=\"\n",
       "  112.177,1149.48 139.064,1149.48 \n",
       "  \"/>\n",
       "<polyline clip-path=\"url(#clip410)\" style=\"stroke:#000000; stroke-width:4; stroke-opacity:1; fill:none\" points=\"\n",
       "  112.177,853.248 139.064,853.248 \n",
       "  \"/>\n",
       "<polyline clip-path=\"url(#clip410)\" style=\"stroke:#000000; stroke-width:4; stroke-opacity:1; fill:none\" points=\"\n",
       "  112.177,557.014 139.064,557.014 \n",
       "  \"/>\n",
       "<polyline clip-path=\"url(#clip410)\" style=\"stroke:#000000; stroke-width:4; stroke-opacity:1; fill:none\" points=\"\n",
       "  112.177,260.779 139.064,260.779 \n",
       "  \"/>\n",
       "<path clip-path=\"url(#clip410)\" d=\"M 0 0 M64.2328 1431.51 Q60.6217 1431.51 58.793 1435.08 Q56.9875 1438.62 56.9875 1445.75 Q56.9875 1452.86 58.793 1456.42 Q60.6217 1459.96 64.2328 1459.96 Q67.867 1459.96 69.6726 1456.42 Q71.5013 1452.86 71.5013 1445.75 Q71.5013 1438.62 69.6726 1435.08 Q67.867 1431.51 64.2328 1431.51 M64.2328 1427.81 Q70.0429 1427.81 73.0985 1432.42 Q76.1772 1437 76.1772 1445.75 Q76.1772 1454.48 73.0985 1459.08 Q70.0429 1463.67 64.2328 1463.67 Q58.4226 1463.67 55.344 1459.08 Q52.2884 1454.48 52.2884 1445.75 Q52.2884 1437 55.344 1432.42 Q58.4226 1427.81 64.2328 1427.81 Z\" fill=\"#000000\" fill-rule=\"evenodd\" fill-opacity=\"1\" /><path clip-path=\"url(#clip410)\" d=\"M 0 0 M59.8578 1162.83 L76.1772 1162.83 L76.1772 1166.76 L54.2328 1166.76 L54.2328 1162.83 Q56.8949 1160.07 61.4782 1155.44 Q66.0846 1150.79 67.2652 1149.45 Q69.5105 1146.92 70.3902 1145.19 Q71.2929 1143.43 71.2929 1141.74 Q71.2929 1138.98 69.3485 1137.25 Q67.4272 1135.51 64.3254 1135.51 Q62.1263 1135.51 59.6726 1136.28 Q57.2421 1137.04 54.4643 1138.59 L54.4643 1133.87 Q57.2884 1132.73 59.7421 1132.16 Q62.1958 1131.58 64.2328 1131.58 Q69.6031 1131.58 72.7976 1134.26 Q75.992 1136.95 75.992 1141.44 Q75.992 1143.57 75.1818 1145.49 Q74.3948 1147.39 72.2883 1149.98 Q71.7096 1150.65 68.6078 1153.87 Q65.5059 1157.06 59.8578 1162.83 Z\" fill=\"#000000\" fill-rule=\"evenodd\" fill-opacity=\"1\" /><path clip-path=\"url(#clip410)\" d=\"M 0 0 M66.5939 840.042 L54.7884 858.491 L66.5939 858.491 L66.5939 840.042 M65.367 835.968 L71.2466 835.968 L71.2466 858.491 L76.1772 858.491 L76.1772 862.379 L71.2466 862.379 L71.2466 870.528 L66.5939 870.528 L66.5939 862.379 L50.9921 862.379 L50.9921 857.866 L65.367 835.968 Z\" fill=\"#000000\" fill-rule=\"evenodd\" fill-opacity=\"1\" /><path clip-path=\"url(#clip410)\" d=\"M 0 0 M64.6495 555.15 Q61.5013 555.15 59.6495 557.303 Q57.8208 559.456 57.8208 563.206 Q57.8208 566.932 59.6495 569.108 Q61.5013 571.261 64.6495 571.261 Q67.7976 571.261 69.6263 569.108 Q71.4781 566.932 71.4781 563.206 Q71.4781 559.456 69.6263 557.303 Q67.7976 555.15 64.6495 555.15 M73.9318 540.497 L73.9318 544.757 Q72.1726 543.923 70.367 543.484 Q68.5846 543.044 66.8254 543.044 Q62.1958 543.044 59.7421 546.169 Q57.3115 549.294 56.9643 555.613 Q58.33 553.599 60.3902 552.534 Q62.4504 551.446 64.9272 551.446 Q70.1355 551.446 73.1448 554.618 Q76.1772 557.766 76.1772 563.206 Q76.1772 568.53 73.029 571.747 Q69.8809 574.965 64.6495 574.965 Q58.6541 574.965 55.4828 570.382 Q52.3116 565.775 52.3116 557.048 Q52.3116 548.854 56.2004 543.993 Q60.0893 539.109 66.6402 539.109 Q68.3994 539.109 70.1818 539.456 Q71.9874 539.803 73.9318 540.497 Z\" fill=\"#000000\" fill-rule=\"evenodd\" fill-opacity=\"1\" /><path clip-path=\"url(#clip410)\" d=\"M 0 0 M64.3254 261.648 Q60.9921 261.648 59.0708 263.43 Q57.1726 265.212 57.1726 268.337 Q57.1726 271.462 59.0708 273.245 Q60.9921 275.027 64.3254 275.027 Q67.6587 275.027 69.58 273.245 Q71.5013 271.439 71.5013 268.337 Q71.5013 265.212 69.58 263.43 Q67.6819 261.648 64.3254 261.648 M59.6495 259.657 Q56.6402 258.916 54.9504 256.856 Q53.2838 254.796 53.2838 251.833 Q53.2838 247.689 56.2236 245.282 Q59.1865 242.874 64.3254 242.874 Q69.4874 242.874 72.4272 245.282 Q75.367 247.689 75.367 251.833 Q75.367 254.796 73.6772 256.856 Q72.0105 258.916 69.0244 259.657 Q72.404 260.444 74.279 262.735 Q76.1772 265.027 76.1772 268.337 Q76.1772 273.36 73.0985 276.046 Q70.0429 278.731 64.3254 278.731 Q58.6078 278.731 55.5291 276.046 Q52.4736 273.36 52.4736 268.337 Q52.4736 265.027 54.3717 262.735 Q56.2699 260.444 59.6495 259.657 M57.9365 252.273 Q57.9365 254.958 59.6032 256.462 Q61.293 257.967 64.3254 257.967 Q67.3346 257.967 69.0244 256.462 Q70.7374 254.958 70.7374 252.273 Q70.7374 249.587 69.0244 248.083 Q67.3346 246.578 64.3254 246.578 Q61.293 246.578 59.6032 248.083 Q57.9365 249.587 57.9365 252.273 Z\" fill=\"#000000\" fill-rule=\"evenodd\" fill-opacity=\"1\" /><polyline clip-path=\"url(#clip412)\" style=\"stroke:#009af9; stroke-width:4; stroke-opacity:1; fill:none\" points=\"\n",
       "  175.59,1445.72 180.75,1434.92 185.911,1424.24 191.072,1413.66 196.232,1403.2 243.95,1311.48 291.667,1228.59 339.385,1154.1 387.102,1087.59 444.455,1017.59 \n",
       "  501.807,957.75 550.298,914.54 598.789,877.62 651.463,844.119 704.138,816.939 752.699,796.987 801.261,781.471 905.386,761.063 1026.03,754.513 1133.24,758.793 \n",
       "  1227.25,766.389 1329.75,774.766 1432.86,779.14 1546.86,774.077 1655.33,754.473 1711.72,736.891 1768.11,713.334 1815.58,688.355 1863.05,658.224 1921.01,613.843 \n",
       "  1978.96,560.394 2033.44,501.2 2087.92,432.686 2131.56,370.652 2175.2,301.905 2218.84,226.119 2262.48,142.967 2269.2,129.495 2275.91,115.841 2282.63,102.001 \n",
       "  2289.34,87.9763 \n",
       "  \"/>\n",
       "<circle clip-path=\"url(#clip412)\" cx=\"1021.92\" cy=\"754.503\" r=\"14\" fill=\"#e26f46\" fill-rule=\"evenodd\" fill-opacity=\"1\" stroke=\"#000000\" stroke-opacity=\"1\" stroke-width=\"3.2\"/>\n",
       "</svg>\n"
      ]
     },
     "execution_count": 107,
     "metadata": {},
     "output_type": "execute_result"
    }
   ],
   "source": [
    "#Teste 2\n",
    "\n",
    "f(x) = x^3/3 - 5x^2/2 + 6x\n",
    "fd(x) = x^2 - 5x + 6\n",
    "p = achar_um_ponto_critico_de_uma_funcao(fd, 0, 5)\n",
    "\n",
    "plot(f, 0, 5)\n",
    "scatter!(p:p, [f(p)], leg=false)"
   ]
  },
  {
   "cell_type": "code",
   "execution_count": 109,
   "metadata": {},
   "outputs": [
    {
     "name": "stdout",
     "output_type": "stream",
     "text": [
      "Any[[1.5707963267948966, 3.141592653589793]]\n"
     ]
    },
    {
     "data": {
      "image/svg+xml": [
       "<?xml version=\"1.0\" encoding=\"utf-8\"?>\n",
       "<svg xmlns=\"http://www.w3.org/2000/svg\" xmlns:xlink=\"http://www.w3.org/1999/xlink\" width=\"600\" height=\"400\" viewBox=\"0 0 2400 1600\">\n",
       "<defs>\n",
       "  <clipPath id=\"clip490\">\n",
       "    <rect x=\"0\" y=\"0\" width=\"2400\" height=\"1600\"/>\n",
       "  </clipPath>\n",
       "</defs>\n",
       "<path clip-path=\"url(#clip490)\" d=\"\n",
       "M0 1600 L2400 1600 L2400 0 L0 0  Z\n",
       "  \" fill=\"#ffffff\" fill-rule=\"evenodd\" fill-opacity=\"1\"/>\n",
       "<defs>\n",
       "  <clipPath id=\"clip491\">\n",
       "    <rect x=\"480\" y=\"0\" width=\"1681\" height=\"1600\"/>\n",
       "  </clipPath>\n",
       "</defs>\n",
       "<path clip-path=\"url(#clip490)\" d=\"\n",
       "M186.274 1486.45 L2352.76 1486.45 L2352.76 47.2441 L186.274 47.2441  Z\n",
       "  \" fill=\"#ffffff\" fill-rule=\"evenodd\" fill-opacity=\"1\"/>\n",
       "<defs>\n",
       "  <clipPath id=\"clip492\">\n",
       "    <rect x=\"186\" y=\"47\" width=\"2167\" height=\"1440\"/>\n",
       "  </clipPath>\n",
       "</defs>\n",
       "<polyline clip-path=\"url(#clip492)\" style=\"stroke:#000000; stroke-width:2; stroke-opacity:0.1; fill:none\" points=\"\n",
       "  247.59,1486.45 247.59,47.2441 \n",
       "  \"/>\n",
       "<polyline clip-path=\"url(#clip492)\" style=\"stroke:#000000; stroke-width:2; stroke-opacity:0.1; fill:none\" points=\"\n",
       "  898.167,1486.45 898.167,47.2441 \n",
       "  \"/>\n",
       "<polyline clip-path=\"url(#clip492)\" style=\"stroke:#000000; stroke-width:2; stroke-opacity:0.1; fill:none\" points=\"\n",
       "  1548.75,1486.45 1548.75,47.2441 \n",
       "  \"/>\n",
       "<polyline clip-path=\"url(#clip492)\" style=\"stroke:#000000; stroke-width:2; stroke-opacity:0.1; fill:none\" points=\"\n",
       "  2199.32,1486.45 2199.32,47.2441 \n",
       "  \"/>\n",
       "<polyline clip-path=\"url(#clip490)\" style=\"stroke:#000000; stroke-width:4; stroke-opacity:1; fill:none\" points=\"\n",
       "  186.274,1486.45 2352.76,1486.45 \n",
       "  \"/>\n",
       "<polyline clip-path=\"url(#clip490)\" style=\"stroke:#000000; stroke-width:4; stroke-opacity:1; fill:none\" points=\"\n",
       "  247.59,1486.45 247.59,1469.18 \n",
       "  \"/>\n",
       "<polyline clip-path=\"url(#clip490)\" style=\"stroke:#000000; stroke-width:4; stroke-opacity:1; fill:none\" points=\"\n",
       "  898.167,1486.45 898.167,1469.18 \n",
       "  \"/>\n",
       "<polyline clip-path=\"url(#clip490)\" style=\"stroke:#000000; stroke-width:4; stroke-opacity:1; fill:none\" points=\"\n",
       "  1548.75,1486.45 1548.75,1469.18 \n",
       "  \"/>\n",
       "<polyline clip-path=\"url(#clip490)\" style=\"stroke:#000000; stroke-width:4; stroke-opacity:1; fill:none\" points=\"\n",
       "  2199.32,1486.45 2199.32,1469.18 \n",
       "  \"/>\n",
       "<path clip-path=\"url(#clip490)\" d=\"M 0 0 M247.59 1515.64 Q243.978 1515.64 242.15 1519.2 Q240.344 1522.75 240.344 1529.87 Q240.344 1536.98 242.15 1540.55 Q243.978 1544.09 247.59 1544.09 Q251.224 1544.09 253.029 1540.55 Q254.858 1536.98 254.858 1529.87 Q254.858 1522.75 253.029 1519.2 Q251.224 1515.64 247.59 1515.64 M247.59 1511.93 Q253.4 1511.93 256.455 1516.54 Q259.534 1521.12 259.534 1529.87 Q259.534 1538.6 256.455 1543.21 Q253.4 1547.79 247.59 1547.79 Q241.779 1547.79 238.701 1543.21 Q235.645 1538.6 235.645 1529.87 Q235.645 1521.12 238.701 1516.54 Q241.779 1511.93 247.59 1511.93 Z\" fill=\"#000000\" fill-rule=\"evenodd\" fill-opacity=\"1\" /><path clip-path=\"url(#clip490)\" d=\"M 0 0 M888.549 1543.18 L896.188 1543.18 L896.188 1516.82 L887.878 1518.49 L887.878 1514.23 L896.142 1512.56 L900.818 1512.56 L900.818 1543.18 L908.457 1543.18 L908.457 1547.12 L888.549 1547.12 L888.549 1543.18 Z\" fill=\"#000000\" fill-rule=\"evenodd\" fill-opacity=\"1\" /><path clip-path=\"url(#clip490)\" d=\"M 0 0 M1543.4 1543.18 L1559.72 1543.18 L1559.72 1547.12 L1537.77 1547.12 L1537.77 1543.18 Q1540.44 1540.43 1545.02 1535.8 Q1549.63 1531.15 1550.81 1529.81 Q1553.05 1527.28 1553.93 1525.55 Q1554.83 1523.79 1554.83 1522.1 Q1554.83 1519.34 1552.89 1517.61 Q1550.97 1515.87 1547.87 1515.87 Q1545.67 1515.87 1543.21 1516.63 Q1540.78 1517.4 1538 1518.95 L1538 1514.23 Q1540.83 1513.09 1543.28 1512.51 Q1545.74 1511.93 1547.77 1511.93 Q1553.14 1511.93 1556.34 1514.62 Q1559.53 1517.31 1559.53 1521.8 Q1559.53 1523.93 1558.72 1525.85 Q1557.94 1527.74 1555.83 1530.34 Q1555.25 1531.01 1552.15 1534.23 Q1549.05 1537.42 1543.4 1543.18 Z\" fill=\"#000000\" fill-rule=\"evenodd\" fill-opacity=\"1\" /><path clip-path=\"url(#clip490)\" d=\"M 0 0 M2203.57 1528.49 Q2206.93 1529.2 2208.8 1531.47 Q2210.7 1533.74 2210.7 1537.07 Q2210.7 1542.19 2207.18 1544.99 Q2203.66 1547.79 2197.18 1547.79 Q2195.01 1547.79 2192.69 1547.35 Q2190.4 1546.93 2187.95 1546.08 L2187.95 1541.56 Q2189.89 1542.7 2192.21 1543.28 Q2194.52 1543.86 2197.04 1543.86 Q2201.44 1543.86 2203.73 1542.12 Q2206.05 1540.38 2206.05 1537.07 Q2206.05 1534.02 2203.9 1532.31 Q2201.77 1530.57 2197.95 1530.57 L2193.92 1530.57 L2193.92 1526.73 L2198.13 1526.73 Q2201.58 1526.73 2203.41 1525.36 Q2205.24 1523.97 2205.24 1521.38 Q2205.24 1518.72 2203.34 1517.31 Q2201.46 1515.87 2197.95 1515.87 Q2196.02 1515.87 2193.83 1516.29 Q2191.63 1516.7 2188.99 1517.58 L2188.99 1513.42 Q2191.65 1512.68 2193.96 1512.31 Q2196.3 1511.93 2198.36 1511.93 Q2203.69 1511.93 2206.79 1514.37 Q2209.89 1516.77 2209.89 1520.89 Q2209.89 1523.76 2208.25 1525.75 Q2206.6 1527.72 2203.57 1528.49 Z\" fill=\"#000000\" fill-rule=\"evenodd\" fill-opacity=\"1\" /><polyline clip-path=\"url(#clip492)\" style=\"stroke:#000000; stroke-width:2; stroke-opacity:0.1; fill:none\" points=\"\n",
       "  186.274,1445.72 2352.76,1445.72 \n",
       "  \"/>\n",
       "<polyline clip-path=\"url(#clip492)\" style=\"stroke:#000000; stroke-width:2; stroke-opacity:0.1; fill:none\" points=\"\n",
       "  186.274,1106.27 2352.76,1106.27 \n",
       "  \"/>\n",
       "<polyline clip-path=\"url(#clip492)\" style=\"stroke:#000000; stroke-width:2; stroke-opacity:0.1; fill:none\" points=\"\n",
       "  186.274,766.833 2352.76,766.833 \n",
       "  \"/>\n",
       "<polyline clip-path=\"url(#clip492)\" style=\"stroke:#000000; stroke-width:2; stroke-opacity:0.1; fill:none\" points=\"\n",
       "  186.274,427.392 2352.76,427.392 \n",
       "  \"/>\n",
       "<polyline clip-path=\"url(#clip492)\" style=\"stroke:#000000; stroke-width:2; stroke-opacity:0.1; fill:none\" points=\"\n",
       "  186.274,87.9507 2352.76,87.9507 \n",
       "  \"/>\n",
       "<polyline clip-path=\"url(#clip490)\" style=\"stroke:#000000; stroke-width:4; stroke-opacity:1; fill:none\" points=\"\n",
       "  186.274,1486.45 186.274,47.2441 \n",
       "  \"/>\n",
       "<polyline clip-path=\"url(#clip490)\" style=\"stroke:#000000; stroke-width:4; stroke-opacity:1; fill:none\" points=\"\n",
       "  186.274,1445.72 212.272,1445.72 \n",
       "  \"/>\n",
       "<polyline clip-path=\"url(#clip490)\" style=\"stroke:#000000; stroke-width:4; stroke-opacity:1; fill:none\" points=\"\n",
       "  186.274,1106.27 212.272,1106.27 \n",
       "  \"/>\n",
       "<polyline clip-path=\"url(#clip490)\" style=\"stroke:#000000; stroke-width:4; stroke-opacity:1; fill:none\" points=\"\n",
       "  186.274,766.833 212.272,766.833 \n",
       "  \"/>\n",
       "<polyline clip-path=\"url(#clip490)\" style=\"stroke:#000000; stroke-width:4; stroke-opacity:1; fill:none\" points=\"\n",
       "  186.274,427.392 212.272,427.392 \n",
       "  \"/>\n",
       "<polyline clip-path=\"url(#clip490)\" style=\"stroke:#000000; stroke-width:4; stroke-opacity:1; fill:none\" points=\"\n",
       "  186.274,87.9507 212.272,87.9507 \n",
       "  \"/>\n",
       "<path clip-path=\"url(#clip490)\" d=\"M 0 0 M62.9365 1431.51 Q59.3254 1431.51 57.4967 1435.08 Q55.6912 1438.62 55.6912 1445.75 Q55.6912 1452.86 57.4967 1456.42 Q59.3254 1459.96 62.9365 1459.96 Q66.5707 1459.96 68.3763 1456.42 Q70.205 1452.86 70.205 1445.75 Q70.205 1438.62 68.3763 1435.08 Q66.5707 1431.51 62.9365 1431.51 M62.9365 1427.81 Q68.7467 1427.81 71.8022 1432.42 Q74.8809 1437 74.8809 1445.75 Q74.8809 1454.48 71.8022 1459.08 Q68.7467 1463.67 62.9365 1463.67 Q57.1264 1463.67 54.0477 1459.08 Q50.9921 1454.48 50.9921 1445.75 Q50.9921 1437 54.0477 1432.42 Q57.1264 1427.81 62.9365 1427.81 Z\" fill=\"#000000\" fill-rule=\"evenodd\" fill-opacity=\"1\" /><path clip-path=\"url(#clip490)\" d=\"M 0 0 M83.0984 1457.12 L87.9827 1457.12 L87.9827 1463 L83.0984 1463 L83.0984 1457.12 Z\" fill=\"#000000\" fill-rule=\"evenodd\" fill-opacity=\"1\" /><path clip-path=\"url(#clip490)\" d=\"M 0 0 M108.168 1431.51 Q104.557 1431.51 102.728 1435.08 Q100.922 1438.62 100.922 1445.75 Q100.922 1452.86 102.728 1456.42 Q104.557 1459.96 108.168 1459.96 Q111.802 1459.96 113.608 1456.42 Q115.436 1452.86 115.436 1445.75 Q115.436 1438.62 113.608 1435.08 Q111.802 1431.51 108.168 1431.51 M108.168 1427.81 Q113.978 1427.81 117.033 1432.42 Q120.112 1437 120.112 1445.75 Q120.112 1454.48 117.033 1459.08 Q113.978 1463.67 108.168 1463.67 Q102.358 1463.67 99.2789 1459.08 Q96.2234 1454.48 96.2234 1445.75 Q96.2234 1437 99.2789 1432.42 Q102.358 1427.81 108.168 1427.81 Z\" fill=\"#000000\" fill-rule=\"evenodd\" fill-opacity=\"1\" /><path clip-path=\"url(#clip490)\" d=\"M 0 0 M138.33 1431.51 Q134.719 1431.51 132.89 1435.08 Q131.084 1438.62 131.084 1445.75 Q131.084 1452.86 132.89 1456.42 Q134.719 1459.96 138.33 1459.96 Q141.964 1459.96 143.769 1456.42 Q145.598 1452.86 145.598 1445.75 Q145.598 1438.62 143.769 1435.08 Q141.964 1431.51 138.33 1431.51 M138.33 1427.81 Q144.14 1427.81 147.195 1432.42 Q150.274 1437 150.274 1445.75 Q150.274 1454.48 147.195 1459.08 Q144.14 1463.67 138.33 1463.67 Q132.519 1463.67 129.441 1459.08 Q126.385 1454.48 126.385 1445.75 Q126.385 1437 129.441 1432.42 Q132.519 1427.81 138.33 1427.81 Z\" fill=\"#000000\" fill-rule=\"evenodd\" fill-opacity=\"1\" /><path clip-path=\"url(#clip490)\" d=\"M 0 0 M63.9319 1092.07 Q60.3208 1092.07 58.4921 1095.64 Q56.6865 1099.18 56.6865 1106.31 Q56.6865 1113.42 58.4921 1116.98 Q60.3208 1120.52 63.9319 1120.52 Q67.5661 1120.52 69.3717 1116.98 Q71.2004 1113.42 71.2004 1106.31 Q71.2004 1099.18 69.3717 1095.64 Q67.5661 1092.07 63.9319 1092.07 M63.9319 1088.37 Q69.742 1088.37 72.7976 1092.98 Q75.8763 1097.56 75.8763 1106.31 Q75.8763 1115.04 72.7976 1119.64 Q69.742 1124.23 63.9319 1124.23 Q58.1217 1124.23 55.043 1119.64 Q51.9875 1115.04 51.9875 1106.31 Q51.9875 1097.56 55.043 1092.98 Q58.1217 1088.37 63.9319 1088.37 Z\" fill=\"#000000\" fill-rule=\"evenodd\" fill-opacity=\"1\" /><path clip-path=\"url(#clip490)\" d=\"M 0 0 M84.0938 1117.67 L88.978 1117.67 L88.978 1123.55 L84.0938 1123.55 L84.0938 1117.67 Z\" fill=\"#000000\" fill-rule=\"evenodd\" fill-opacity=\"1\" /><path clip-path=\"url(#clip490)\" d=\"M 0 0 M103.191 1119.62 L119.51 1119.62 L119.51 1123.55 L97.566 1123.55 L97.566 1119.62 Q100.228 1116.86 104.811 1112.24 Q109.418 1107.58 110.598 1106.24 Q112.844 1103.72 113.723 1101.98 Q114.626 1100.22 114.626 1098.53 Q114.626 1095.78 112.682 1094.04 Q110.76 1092.3 107.658 1092.3 Q105.459 1092.3 103.006 1093.07 Q100.575 1093.83 97.7974 1095.38 L97.7974 1090.66 Q100.621 1089.53 103.075 1088.95 Q105.529 1088.37 107.566 1088.37 Q112.936 1088.37 116.131 1091.05 Q119.325 1093.74 119.325 1098.23 Q119.325 1100.36 118.515 1102.28 Q117.728 1104.18 115.621 1106.77 Q115.043 1107.44 111.941 1110.66 Q108.839 1113.86 103.191 1119.62 Z\" fill=\"#000000\" fill-rule=\"evenodd\" fill-opacity=\"1\" /><path clip-path=\"url(#clip490)\" d=\"M 0 0 M129.371 1088.99 L147.728 1088.99 L147.728 1092.93 L133.654 1092.93 L133.654 1101.4 Q134.672 1101.05 135.691 1100.89 Q136.709 1100.71 137.728 1100.71 Q143.515 1100.71 146.894 1103.88 Q150.274 1107.05 150.274 1112.47 Q150.274 1118.05 146.802 1121.15 Q143.33 1124.23 137.01 1124.23 Q134.834 1124.23 132.566 1123.86 Q130.32 1123.49 127.913 1122.74 L127.913 1118.05 Q129.996 1119.18 132.219 1119.74 Q134.441 1120.29 136.918 1120.29 Q140.922 1120.29 143.26 1118.18 Q145.598 1116.08 145.598 1112.47 Q145.598 1108.86 143.26 1106.75 Q140.922 1104.64 136.918 1104.64 Q135.043 1104.64 133.168 1105.06 Q131.316 1105.48 129.371 1106.36 L129.371 1088.99 Z\" fill=\"#000000\" fill-rule=\"evenodd\" fill-opacity=\"1\" /><path clip-path=\"url(#clip490)\" d=\"M 0 0 M62.9365 752.632 Q59.3254 752.632 57.4967 756.197 Q55.6912 759.738 55.6912 766.868 Q55.6912 773.974 57.4967 777.539 Q59.3254 781.081 62.9365 781.081 Q66.5707 781.081 68.3763 777.539 Q70.205 773.974 70.205 766.868 Q70.205 759.738 68.3763 756.197 Q66.5707 752.632 62.9365 752.632 M62.9365 748.928 Q68.7467 748.928 71.8022 753.535 Q74.8809 758.118 74.8809 766.868 Q74.8809 775.595 71.8022 780.201 Q68.7467 784.784 62.9365 784.784 Q57.1264 784.784 54.0477 780.201 Q50.9921 775.595 50.9921 766.868 Q50.9921 758.118 54.0477 753.535 Q57.1264 748.928 62.9365 748.928 Z\" fill=\"#000000\" fill-rule=\"evenodd\" fill-opacity=\"1\" /><path clip-path=\"url(#clip490)\" d=\"M 0 0 M83.0984 778.234 L87.9827 778.234 L87.9827 784.113 L83.0984 784.113 L83.0984 778.234 Z\" fill=\"#000000\" fill-rule=\"evenodd\" fill-opacity=\"1\" /><path clip-path=\"url(#clip490)\" d=\"M 0 0 M98.2141 749.553 L116.57 749.553 L116.57 753.488 L102.496 753.488 L102.496 761.961 Q103.515 761.613 104.534 761.451 Q105.552 761.266 106.571 761.266 Q112.358 761.266 115.737 764.437 Q119.117 767.609 119.117 773.025 Q119.117 778.604 115.645 781.706 Q112.172 784.784 105.853 784.784 Q103.677 784.784 101.409 784.414 Q99.1632 784.044 96.7558 783.303 L96.7558 778.604 Q98.8391 779.738 101.061 780.294 Q103.284 780.849 105.76 780.849 Q109.765 780.849 112.103 778.743 Q114.441 776.636 114.441 773.025 Q114.441 769.414 112.103 767.308 Q109.765 765.201 105.76 765.201 Q103.885 765.201 102.01 765.618 Q100.159 766.035 98.2141 766.914 L98.2141 749.553 Z\" fill=\"#000000\" fill-rule=\"evenodd\" fill-opacity=\"1\" /><path clip-path=\"url(#clip490)\" d=\"M 0 0 M138.33 752.632 Q134.719 752.632 132.89 756.197 Q131.084 759.738 131.084 766.868 Q131.084 773.974 132.89 777.539 Q134.719 781.081 138.33 781.081 Q141.964 781.081 143.769 777.539 Q145.598 773.974 145.598 766.868 Q145.598 759.738 143.769 756.197 Q141.964 752.632 138.33 752.632 M138.33 748.928 Q144.14 748.928 147.195 753.535 Q150.274 758.118 150.274 766.868 Q150.274 775.595 147.195 780.201 Q144.14 784.784 138.33 784.784 Q132.519 784.784 129.441 780.201 Q126.385 775.595 126.385 766.868 Q126.385 758.118 129.441 753.535 Q132.519 748.928 138.33 748.928 Z\" fill=\"#000000\" fill-rule=\"evenodd\" fill-opacity=\"1\" /><path clip-path=\"url(#clip490)\" d=\"M 0 0 M63.9319 413.191 Q60.3208 413.191 58.4921 416.755 Q56.6865 420.297 56.6865 427.427 Q56.6865 434.533 58.4921 438.098 Q60.3208 441.64 63.9319 441.64 Q67.5661 441.64 69.3717 438.098 Q71.2004 434.533 71.2004 427.427 Q71.2004 420.297 69.3717 416.755 Q67.5661 413.191 63.9319 413.191 M63.9319 409.487 Q69.742 409.487 72.7976 414.093 Q75.8763 418.677 75.8763 427.427 Q75.8763 436.153 72.7976 440.76 Q69.742 445.343 63.9319 445.343 Q58.1217 445.343 55.043 440.76 Q51.9875 436.153 51.9875 427.427 Q51.9875 418.677 55.043 414.093 Q58.1217 409.487 63.9319 409.487 Z\" fill=\"#000000\" fill-rule=\"evenodd\" fill-opacity=\"1\" /><path clip-path=\"url(#clip490)\" d=\"M 0 0 M84.0938 438.792 L88.978 438.792 L88.978 444.672 L84.0938 444.672 L84.0938 438.792 Z\" fill=\"#000000\" fill-rule=\"evenodd\" fill-opacity=\"1\" /><path clip-path=\"url(#clip490)\" d=\"M 0 0 M97.9826 410.112 L120.205 410.112 L120.205 412.103 L107.658 444.672 L102.774 444.672 L114.58 414.047 L97.9826 414.047 L97.9826 410.112 Z\" fill=\"#000000\" fill-rule=\"evenodd\" fill-opacity=\"1\" /><path clip-path=\"url(#clip490)\" d=\"M 0 0 M129.371 410.112 L147.728 410.112 L147.728 414.047 L133.654 414.047 L133.654 422.519 Q134.672 422.172 135.691 422.01 Q136.709 421.825 137.728 421.825 Q143.515 421.825 146.894 424.996 Q150.274 428.167 150.274 433.584 Q150.274 439.163 146.802 442.265 Q143.33 445.343 137.01 445.343 Q134.834 445.343 132.566 444.973 Q130.32 444.603 127.913 443.862 L127.913 439.163 Q129.996 440.297 132.219 440.853 Q134.441 441.408 136.918 441.408 Q140.922 441.408 143.26 439.302 Q145.598 437.195 145.598 433.584 Q145.598 429.973 143.26 427.866 Q140.922 425.76 136.918 425.76 Q135.043 425.76 133.168 426.177 Q131.316 426.593 129.371 427.473 L129.371 410.112 Z\" fill=\"#000000\" fill-rule=\"evenodd\" fill-opacity=\"1\" /><path clip-path=\"url(#clip490)\" d=\"M 0 0 M53.7467 101.296 L61.3856 101.296 L61.3856 74.93 L53.0754 76.5966 L53.0754 72.3374 L61.3393 70.6707 L66.0152 70.6707 L66.0152 101.296 L73.654 101.296 L73.654 105.231 L53.7467 105.231 L53.7467 101.296 Z\" fill=\"#000000\" fill-rule=\"evenodd\" fill-opacity=\"1\" /><path clip-path=\"url(#clip490)\" d=\"M 0 0 M83.0984 99.3511 L87.9827 99.3511 L87.9827 105.231 L83.0984 105.231 L83.0984 99.3511 Z\" fill=\"#000000\" fill-rule=\"evenodd\" fill-opacity=\"1\" /><path clip-path=\"url(#clip490)\" d=\"M 0 0 M108.168 73.7494 Q104.557 73.7494 102.728 77.3142 Q100.922 80.8558 100.922 87.9854 Q100.922 95.0919 102.728 98.6567 Q104.557 102.198 108.168 102.198 Q111.802 102.198 113.608 98.6567 Q115.436 95.0919 115.436 87.9854 Q115.436 80.8558 113.608 77.3142 Q111.802 73.7494 108.168 73.7494 M108.168 70.0457 Q113.978 70.0457 117.033 74.6522 Q120.112 79.2355 120.112 87.9854 Q120.112 96.7122 117.033 101.319 Q113.978 105.902 108.168 105.902 Q102.358 105.902 99.2789 101.319 Q96.2234 96.7122 96.2234 87.9854 Q96.2234 79.2355 99.2789 74.6522 Q102.358 70.0457 108.168 70.0457 Z\" fill=\"#000000\" fill-rule=\"evenodd\" fill-opacity=\"1\" /><path clip-path=\"url(#clip490)\" d=\"M 0 0 M138.33 73.7494 Q134.719 73.7494 132.89 77.3142 Q131.084 80.8558 131.084 87.9854 Q131.084 95.0919 132.89 98.6567 Q134.719 102.198 138.33 102.198 Q141.964 102.198 143.769 98.6567 Q145.598 95.0919 145.598 87.9854 Q145.598 80.8558 143.769 77.3142 Q141.964 73.7494 138.33 73.7494 M138.33 70.0457 Q144.14 70.0457 147.195 74.6522 Q150.274 79.2355 150.274 87.9854 Q150.274 96.7122 147.195 101.319 Q144.14 105.902 138.33 105.902 Q132.519 105.902 129.441 101.319 Q126.385 96.7122 126.385 87.9854 Q126.385 79.2355 129.441 74.6522 Q132.519 70.0457 138.33 70.0457 Z\" fill=\"#000000\" fill-rule=\"evenodd\" fill-opacity=\"1\" /><polyline clip-path=\"url(#clip492)\" style=\"stroke:#009af9; stroke-width:4; stroke-opacity:1; fill:none\" points=\"\n",
       "  247.59,1445.72 257.569,1424.89 267.549,1404.07 359.828,1212.63 452.107,1025.88 507.563,917.472 563.019,812.901 609.906,728.042 656.793,646.91 707.726,563.49 \n",
       "  758.658,485.474 805.614,418.752 852.569,357.376 902.91,297.878 953.251,245.249 1011.58,193.276 1069.9,151.362 1121.73,122.83 1173.57,102.69 1219.02,92.0385 \n",
       "  1264.47,87.9915 1314.03,91.1274 1363.58,102.119 1413.43,121.037 1463.28,147.729 1518.4,186.099 1573.51,233.503 1625.95,286.686 1678.39,347.395 1732.92,418.076 \n",
       "  1787.45,495.971 1833.35,566.734 1879.25,641.871 1991.32,841.346 2096.68,1045.29 2265.46,1391.52 2291.44,1445.72 \n",
       "  \"/>\n",
       "<circle clip-path=\"url(#clip492)\" cx=\"1273.51\" cy=\"87.9763\" r=\"14\" fill=\"#e26f46\" fill-rule=\"evenodd\" fill-opacity=\"1\" stroke=\"#000000\" stroke-opacity=\"1\" stroke-width=\"3.2\"/>\n",
       "</svg>\n"
      ]
     },
     "execution_count": 109,
     "metadata": {},
     "output_type": "execute_result"
    }
   ],
   "source": [
    "# Teste 3\n",
    "\n",
    "f(x) = sin(x)\n",
    "fd(x) = cos(x)\n",
    "p = achar_um_ponto_critico_de_uma_funcao(fd, 0, pi)\n",
    "plot(f, 0, pi)\n",
    "scatter!(p:p, [f(p)], leg=false)"
   ]
  },
  {
   "cell_type": "markdown",
   "metadata": {},
   "source": [
    "### Encontrar um ponto crítico de uma função de 2 variáveis"
   ]
  },
  {
   "cell_type": "code",
   "execution_count": 73,
   "metadata": {},
   "outputs": [
    {
     "data": {
      "text/plain": [
       "achar_um_ponto_critico_de_uma_funcao_de_2_variaveis (generic function with 1 method)"
      ]
     },
     "execution_count": 73,
     "metadata": {},
     "output_type": "execute_result"
    }
   ],
   "source": [
    "\"\"\" Nessa função, queremos encontrar um ponto crítico em uma função de duas variáveis. Para isso, utilizamos o \n",
    "método do gradiente descendente, em que descemos a curva da função através do decremento do gradiente, visto que\n",
    "este aponta para a direção de maior crescimento. Para isso, é necessário passar o gradiente da função no formato \n",
    "[fdx, fdy], os intervalos de x e y no formato [a, b] e a quantidade de iterações a ser realizada pelo método. \"\"\"\n",
    "\n",
    "function achar_um_ponto_critico_de_uma_funcao_de_2_variaveis(gradiente_da_funcao, intervalox, intervaloy, iteracoes)\n",
    "    # Iniciamos aleatoriamente o ponto\n",
    "    px = rand(intervalox[1]:intervalox[2])\n",
    "    py = rand(intervaloy[1]:intervaloy[2])\n",
    "    taxa = 0.1\n",
    "    \n",
    "    for i in 1:iteracoes\n",
    "        # Obtemos o gradiente no ponto\n",
    "        grad = gradiente_da_funcao(px,py)\n",
    "        \n",
    "        # Checamos se esta dentro do intervalo pedido para descer o gradiente\n",
    "        if (intervalox[1]<=px-grad[1]*taxa<=intervalox[2]) && (intervaloy[1]<=py-grad[2]*taxa<=intervaloy[2])\n",
    "            px = px - grad[1]*taxa\n",
    "            py = py - grad[2]*taxa\n",
    "        else\n",
    "            break       # Senão acabamos a iteracao\n",
    "        end \n",
    "    end\n",
    "    \n",
    "    return [px,py]\n",
    "end"
   ]
  },
  {
   "cell_type": "code",
   "execution_count": 74,
   "metadata": {
    "tags": []
   },
   "outputs": [
    {
     "data": {
      "text/plain": [
       "2-element Array{Float64,1}:\n",
       "  1.4999999999999996\n",
       " -5.951071883248072e-111"
      ]
     },
     "execution_count": 74,
     "metadata": {},
     "output_type": "execute_result"
    }
   ],
   "source": [
    "# Testando a função x^2+2y^2-3x\n",
    "\n",
    "d(x,y) = [2x-3, 4y]\n",
    "achar_um_ponto_critico_de_uma_funcao_de_2_variaveis(d, [-10,10], [-10,10], 500)"
   ]
  },
  {
   "cell_type": "code",
   "execution_count": 75,
   "metadata": {},
   "outputs": [
    {
     "data": {
      "text/plain": [
       "2-element Array{Int64,1}:\n",
       " -2\n",
       " -5"
      ]
     },
     "execution_count": 75,
     "metadata": {},
     "output_type": "execute_result"
    }
   ],
   "source": [
    "# A função x^4 + x*y^3 - 2x^2*y + x - 5yx tem mínimo local em (-0.769, -1.074)\n",
    "\n",
    "d(x,y) = [4x^3+y^3-4y*x+1-5y,-2x^2+3x*y^2-5x]\n",
    "achar_um_ponto_critico_de_uma_funcao_de_2_variaveis(d, [-5,5], [-5,5], 500)"
   ]
  },
  {
   "cell_type": "code",
   "execution_count": 76,
   "metadata": {},
   "outputs": [
    {
     "data": {
      "text/plain": [
       "2-element Array{Int64,1}:\n",
       "  1\n",
       " -5"
      ]
     },
     "execution_count": 76,
     "metadata": {},
     "output_type": "execute_result"
    }
   ],
   "source": [
    "# Função sen(x)*cos(y/5) possui muitos pontos locais de minimo e maximo\n",
    "\n",
    "d(x,y) = [cos(y/5)*cos(x), -1/5*sin(x)*sin(y/5)]\n",
    "achar_um_ponto_critico_de_uma_funcao_de_2_variaveis(d, [-5,5], [-5,5], 500)"
   ]
  },
  {
   "cell_type": "markdown",
   "metadata": {},
   "source": [
    "### Obter Lagrange em 2D"
   ]
  },
  {
   "cell_type": "code",
   "execution_count": 77,
   "metadata": {},
   "outputs": [
    {
     "data": {
      "text/plain": [
       "langrage_2D (generic function with 1 method)"
      ]
     },
     "execution_count": 77,
     "metadata": {},
     "output_type": "execute_result"
    }
   ],
   "source": [
    "# Thierry\n",
    "function langrage_2D()\n",
    "    \n",
    "end"
   ]
  },
  {
   "cell_type": "code",
   "execution_count": null,
   "metadata": {},
   "outputs": [],
   "source": []
  }
 ],
 "metadata": {
  "kernelspec": {
   "display_name": "Julia 1.6.0",
   "language": "julia",
   "name": "julia-1.6"
  },
  "language_info": {
   "file_extension": ".jl",
   "mimetype": "application/julia",
   "name": "julia",
   "version": "1.6.0"
  }
 },
 "nbformat": 4,
 "nbformat_minor": 4
}
